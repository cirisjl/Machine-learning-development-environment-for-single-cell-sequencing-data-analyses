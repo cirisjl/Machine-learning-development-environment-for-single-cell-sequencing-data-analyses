{
 "cells": [
  {
   "cell_type": "code",
   "execution_count": 1,
   "id": "0e1a057b-3024-4ca7-832f-e7a0b5f13040",
   "metadata": {},
   "outputs": [
    {
     "name": "stderr",
     "output_type": "stream",
     "text": [
      "/usr/local/lib/python3.8/dist-packages/torchvision/io/image.py:13: UserWarning: Failed to load image Python extension: '/usr/local/lib/python3.8/dist-packages/torchvision/image.so: undefined symbol: _ZN3c104cuda9SetDeviceEi'If you don't plan on using image functionality from `torchvision.io`, you can ignore this warning. Otherwise, there might be something wrong with your environment. Did you have `libjpeg` or `libpng` installed before building `torchvision` from source?\n",
      "  warn(\n",
      "Global seed set to 0\n"
     ]
    }
   ],
   "source": [
    "import torch\n",
    "import numpy as np\n",
    "import pandas as pd\n",
    "import scanpy as sc\n",
    "from typing import Tuple\n",
    "import os\n",
    "import tempfile\n",
    "\n",
    "import muon\n",
    "import seaborn as sns\n",
    "\n",
    "# scVI imports\n",
    "import scvi\n",
    "from scvi.model.utils import mde\n",
    "import pymde\n",
    "\n",
    "torch.manual_seed(0)\n",
    "np.random.seed(0)"
   ]
  },
  {
   "cell_type": "code",
   "execution_count": 8,
   "id": "ac6aeaf4-9aa6-4c9d-bd1f-b94553595217",
   "metadata": {},
   "outputs": [
    {
     "name": "stdout",
     "output_type": "stream",
     "text": [
      "0.20.3\n"
     ]
    }
   ],
   "source": [
    "print(scvi.__version__)"
   ]
  },
  {
   "cell_type": "code",
   "execution_count": 2,
   "id": "a237570f-cb2c-4296-8530-4e39e9ffb253",
   "metadata": {},
   "outputs": [],
   "source": [
    "import requests"
   ]
  },
  {
   "cell_type": "code",
   "execution_count": 3,
   "id": "fca2532e-8fe2-4554-a759-edead486ed26",
   "metadata": {},
   "outputs": [],
   "source": [
    "sc.set_figure_params(figsize=(6, 6), frameon=False)\n",
    "sns.set_theme()\n",
    "torch.set_float32_matmul_precision(\"high\")\n",
    "save_dir = tempfile.TemporaryDirectory()\n",
    "\n",
    "%config InlineBackend.print_figure_kwargs={\"facecolor\": \"w\"}\n",
    "%config InlineBackend.figure_format=\"retina\""
   ]
  },
  {
   "cell_type": "code",
   "execution_count": 9,
   "id": "2873ccc0-5a24-4b54-93e2-ba717b056d9f",
   "metadata": {},
   "outputs": [
    {
     "name": "stdout",
     "output_type": "stream",
     "text": [
      "--2025-07-15 01:50:39--  https://cf.10xgenomics.com/samples/cell-arc/2.0.0/pbmc_unsorted_10k/pbmc_unsorted_10k_filtered_feature_bc_matrix.tar.gz\n",
      "Resolving cf.10xgenomics.com (cf.10xgenomics.com)... 104.18.0.173, 104.18.1.173, 2606:4700::6812:1ad, ...\n",
      "Connecting to cf.10xgenomics.com (cf.10xgenomics.com)|104.18.0.173|:443... connected.\n",
      "HTTP request sent, awaiting response... 200 OK\n",
      "Length: 375260850 (358M) [application/x-tar]\n",
      "Saving to: ‘pbmc_unsorted_10k_filtered_feature_bc_matrix.tar.gz’\n",
      "\n",
      "pbmc_unsorted_10k_f 100%[===================>] 357.88M  20.3MB/s    in 12s     \n",
      "\n",
      "2025-07-15 01:50:52 (30.4 MB/s) - ‘pbmc_unsorted_10k_filtered_feature_bc_matrix.tar.gz’ saved [375260850/375260850]\n",
      "\n",
      "filtered_feature_bc_matrix/\n",
      "filtered_feature_bc_matrix/barcodes.tsv.gz\n",
      "filtered_feature_bc_matrix/matrix.mtx.gz\n",
      "filtered_feature_bc_matrix/features.tsv.gz\n"
     ]
    }
   ],
   "source": [
    "!wget https://cf.10xgenomics.com/samples/cell-arc/2.0.0/pbmc_unsorted_10k/pbmc_unsorted_10k_filtered_feature_bc_matrix.tar.gz\n",
    "!sudo tar -xvf pbmc_unsorted_10k_filtered_feature_bc_matrix.tar.gz\n",
    "!gunzip -f filtered_feature_bc_matrix/*.gz"
   ]
  },
  {
   "cell_type": "code",
   "execution_count": 10,
   "id": "f834cd38-c4c3-43bb-92d6-1d8a6a96da7e",
   "metadata": {},
   "outputs": [
    {
     "name": "stderr",
     "output_type": "stream",
     "text": [
      "Global seed set to 420\n"
     ]
    }
   ],
   "source": [
    "scvi.settings.seed = 420\n",
    "\n",
    "%config InlineBackend.print_figure_kwargs={'facecolor' : \"w\"}\n",
    "%config InlineBackend.figure_format='retina'"
   ]
  },
  {
   "cell_type": "code",
   "execution_count": null,
   "id": "ad0c3dbb-9444-47f5-84a6-f9329e2f3e5c",
   "metadata": {},
   "outputs": [],
   "source": [
    "# read multiomic data\n",
    "adata = scvi.data.read_10x_multiome(\"filtered_feature_bc_matrix\")\n",
    "adata.var_names_make_unique()"
   ]
  },
  {
   "cell_type": "code",
   "execution_count": null,
   "id": "9a819689-1f72-4f09-ba52-03270f71c1db",
   "metadata": {},
   "outputs": [],
   "source": [
    "# split to three datasets by modality (RNA, ATAC, Multiome), and corrupt data\n",
    "# by remove some data to create single-modality data\n",
    "n = 4004\n",
    "adata_rna = adata[:n, adata.var.modality == \"Gene Expression\"].copy()\n",
    "adata_paired = adata[n : 2 * n].copy()\n",
    "adata_atac = adata[2 * n :, adata.var.modality == \"Peaks\"].copy()"
   ]
  },
  {
   "cell_type": "code",
   "execution_count": null,
   "id": "78da3c93-587b-455b-98a7-0c2f762ee949",
   "metadata": {},
   "outputs": [],
   "source": [
    "# We can now use the organizing method from scvi to concatenate these anndata\n",
    "adata_mvi = scvi.data.organize_multiome_anndatas(adata_paired, adata_rna, adata_atac)"
   ]
  },
  {
   "cell_type": "code",
   "execution_count": null,
   "id": "d1be6fdf-5b85-4a3d-8bdb-752725f6f28f",
   "metadata": {},
   "outputs": [],
   "source": [
    "adata_mvi.obs"
   ]
  },
  {
   "cell_type": "code",
   "execution_count": null,
   "id": "e2790b9e-a75c-44ef-b06e-cde9d43a7746",
   "metadata": {},
   "outputs": [],
   "source": [
    "adata_mvi = adata_mvi[:, adata_mvi.var[\"modality\"].argsort()].copy()\n",
    "adata_mvi.var"
   ]
  },
  {
   "cell_type": "code",
   "execution_count": null,
   "id": "01c980b9-275e-4b32-a8c0-53955663b16a",
   "metadata": {},
   "outputs": [],
   "source": [
    "print(adata_mvi.shape)\n",
    "sc.pp.filter_genes(adata_mvi, min_cells=int(adata_mvi.shape[0] * 0.01))\n",
    "print(adata_mvi.shape)"
   ]
  },
  {
   "cell_type": "code",
   "execution_count": null,
   "id": "e9fc6f83-8a56-444e-8ed0-e9f1599c627c",
   "metadata": {},
   "outputs": [],
   "source": [
    "scvi.model.MULTIVI.setup_anndata"
   ]
  },
  {
   "cell_type": "code",
   "execution_count": null,
   "id": "c8465e40-e356-45f0-a5de-e4052a7498ee",
   "metadata": {},
   "outputs": [],
   "source": [
    "model = scvi.model.MULTIVI(\n",
    "    mdata,\n",
    "    n_genes=len(mdata.mod[\"rna_subset\"].var),\n",
    "    n_regions=len(mdata.mod[\"atac_subset\"].var),\n",
    ")\n",
    "\n",
    "model.view_anndata_setup()"
   ]
  },
  {
   "cell_type": "code",
   "execution_count": null,
   "id": "8bb39c8e-3afa-4708-84e9-41679d8ce50b",
   "metadata": {},
   "outputs": [],
   "source": [
    "model = scvi.model.MULTIVI(\n",
    "    mdata,\n",
    "    n_genes=len(mdata.mod[\"rna_subset\"].var),\n",
    "    n_regions=len(mdata.mod[\"atac_subset\"].var),\n",
    ")\n",
    "\n",
    "model.view_anndata_setup()"
   ]
  },
  {
   "cell_type": "code",
   "execution_count": null,
   "id": "849951a9-1a0d-4733-8286-3c73222ed542",
   "metadata": {},
   "outputs": [],
   "source": [
    "model.train()"
   ]
  },
  {
   "cell_type": "code",
   "execution_count": null,
   "id": "496af8cb-2f0b-4594-aa86-f844590ebe3d",
   "metadata": {},
   "outputs": [],
   "source": [
    "model_dir = os.path.join(save_dir.name, \"multivi_pbmc10k\")\n",
    "\n",
    "model.save(model_dir, overwrite=True)"
   ]
  },
  {
   "cell_type": "code",
   "execution_count": null,
   "id": "78c5cf91-f4a0-4164-999f-31409e006c9c",
   "metadata": {},
   "outputs": [],
   "source": [
    "model = scvi.model.MULTIVI.load(model_dir, adata=mdata)"
   ]
  },
  {
   "cell_type": "code",
   "execution_count": null,
   "id": "575489ea-fb78-4f6d-8ec7-cdda98274c2e",
   "metadata": {},
   "outputs": [],
   "source": [
    "mdata = model.adata"
   ]
  },
  {
   "cell_type": "code",
   "execution_count": null,
   "id": "2eb831cc-8177-4d03-a8cb-84e3e090949b",
   "metadata": {},
   "outputs": [],
   "source": [
    "model = scvi.model.MULTIVI.load(model_dir, adata=mdata)"
   ]
  },
  {
   "cell_type": "code",
   "execution_count": null,
   "id": "999e7ecc-40c2-4811-a269-e226ef5f0782",
   "metadata": {},
   "outputs": [],
   "source": [
    "# Below we an cell annotations for modality, so we can color the UMAP\n",
    "\n",
    "MULTIVI_LATENT_KEY = \"X_multivi\"\n",
    "\n",
    "mdata.obsm[MULTIVI_LATENT_KEY] = model.get_latent_representation()\n",
    "sc.pp.neighbors(mdata, use_rep=MULTIVI_LATENT_KEY)\n",
    "sc.tl.umap(mdata, min_dist=0.2)\n",
    "\n",
    "n = mdata.n_obs // 3\n",
    "\n",
    "# initialize the column first\n",
    "mdata.obs[\"modality\"] = \"\"\n",
    "\n",
    "# set modality of first third to rna\n",
    "mdata.obs.iloc[:n, mdata.obs.columns.get_loc(\"modality\")] = \"expression\"\n",
    "\n",
    "# set modality of second third to both\n",
    "mdata.obs.iloc[n : 2 * n, mdata.obs.columns.get_loc(\"modality\")] = \"paired\"\n",
    "\n",
    "# set modality of last third to atac\n",
    "mdata.obs.iloc[2 * n :, mdata.obs.columns.get_loc(\"modality\")] = \"accessibility\"\n",
    "\n",
    "sc.pl.umap(mdata, color=\"modality\")"
   ]
  },
  {
   "cell_type": "code",
   "execution_count": null,
   "id": "d2811b44-5fac-46ff-9801-420982ca70f4",
   "metadata": {},
   "outputs": [],
   "source": [
    "imputed_expression = model.get_normalized_expression()"
   ]
  },
  {
   "cell_type": "code",
   "execution_count": null,
   "id": "7008e56f-c01f-4126-9408-ad66f81c784a",
   "metadata": {},
   "outputs": [],
   "source": [
    "mdata.mod[\"rna_subset\"].var.index"
   ]
  },
  {
   "cell_type": "code",
   "execution_count": null,
   "id": "4b0af872-93e8-4743-8ac9-62b6b945bfd0",
   "metadata": {},
   "outputs": [],
   "source": []
  }
 ],
 "metadata": {
  "kernelspec": {
   "display_name": "Python 3 (ipykernel)",
   "language": "python",
   "name": "python3"
  },
  "language_info": {
   "codemirror_mode": {
    "name": "ipython",
    "version": 3
   },
   "file_extension": ".py",
   "mimetype": "text/x-python",
   "name": "python",
   "nbconvert_exporter": "python",
   "pygments_lexer": "ipython3",
   "version": "3.8.10"
  }
 },
 "nbformat": 4,
 "nbformat_minor": 5
}
