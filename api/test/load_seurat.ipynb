{
 "cells": [
  {
   "cell_type": "code",
   "execution_count": null,
   "id": "b144d609-82e8-4323-8fe2-1a036cc73856",
   "metadata": {},
   "outputs": [],
   "source": [
    "source(\"../tools/formating/formating.R\")"
   ]
  },
  {
   "cell_type": "code",
   "execution_count": null,
   "id": "27660094-7de8-464d-81d5-ec2056eaec18",
   "metadata": {},
   "outputs": [],
   "source": [
    "path <- \"/ps/ai-ready/data/Clustering/Tabula_Muris/droplet_Bladder_seurat_tiss.Robj\""
   ]
  },
  {
   "cell_type": "code",
   "execution_count": null,
   "id": "a0c593ee-5c92-40d5-959a-cde6b390114a",
   "metadata": {},
   "outputs": [],
   "source": [
    "srat <- LoadSeurat(path)\n",
    "srat"
   ]
  },
  {
   "cell_type": "code",
   "execution_count": null,
   "id": "079289bf-8ff0-4420-9bf7-9f115f9e2c40",
   "metadata": {},
   "outputs": [],
   "source": [
    "default_assay <- DefaultAssay(srat)\n",
    "default_assay"
   ]
  },
  {
   "cell_type": "code",
   "execution_count": null,
   "id": "27ca88ee-e074-4cf5-81b7-e950f7ea7823",
   "metadata": {},
   "outputs": [],
   "source": [
    "srat[['RNA']]@counts"
   ]
  },
  {
   "cell_type": "code",
   "execution_count": null,
   "id": "2dc6b484-db21-4ea7-8554-45db2160f838",
   "metadata": {},
   "outputs": [],
   "source": [
    "dim(srat[['RNA']]@counts)\n",
    "dim(srat)\n",
    "dim(srat@meta.data)"
   ]
  },
  {
   "cell_type": "code",
   "execution_count": null,
   "id": "40701ef2-af47-41a7-9de9-2a0859e37be0",
   "metadata": {},
   "outputs": [],
   "source": [
    "if(!paste0(\"nCount_\", default_assay) %in% names(x = srat[[]])) srat[[paste0(\"nCount_\", default_assay)]] <- colSums(x = srat[[default_assay]], slot = \"counts\")  # nCount of the default assay\n",
    "if(!paste0(\"nFeature_\", default_assay) %in% names(x = srat[[]])) srat[[paste0(\"nFeature_\", default_assay)]] <- colSums(x = GetAssayData(object = srat[[default_assay]], slot = \"counts\") > 0)  # nFeature of the default assay"
   ]
  },
  {
   "cell_type": "code",
   "execution_count": null,
   "id": "f58faf9f-780e-4a8f-a836-368a2ef29dc9",
   "metadata": {},
   "outputs": [],
   "source": [
    "head(srat@meta.data)"
   ]
  },
  {
   "cell_type": "code",
   "execution_count": null,
   "id": "88ecf46d-90ef-43fd-ab02-8334381ddabd",
   "metadata": {},
   "outputs": [],
   "source": [
    "output_path <- '/ps/ai-ready/data/Clustering/Tabula_Muris/droplet_Bladder_seurat_tiss.h5Seurat'\n",
    "SaveH5Seurat(srat, filename = output_path, overwrite = TRUE, verbose = TRUE)"
   ]
  },
  {
   "cell_type": "code",
   "execution_count": null,
   "id": "eabafc99-039c-47b5-9a41-13295c1dfff3",
   "metadata": {},
   "outputs": [],
   "source": [
    "srat1 <- LoadH5Seurat(output_path)\n",
    "srat1"
   ]
  },
  {
   "cell_type": "code",
   "execution_count": null,
   "id": "f2e50a74-b183-436c-8180-9d0a80cc6fa7",
   "metadata": {},
   "outputs": [],
   "source": [
    "srat1@meta.data"
   ]
  },
  {
   "cell_type": "code",
   "execution_count": null,
   "id": "affb447c-3606-4f5c-9219-e205db50ae24",
   "metadata": {},
   "outputs": [],
   "source": [
    "adata_path <- Convert('/ps/ai-ready/data/Clustering/Tabula_Muris/droplet_Bladder_seurat_tiss.h5Seurat', dest = \"h5ad\" , overwrite = TRUE)\n",
    "adata_path"
   ]
  },
  {
   "cell_type": "code",
   "execution_count": null,
   "id": "133a53bd-216f-4bde-98fc-30c62af8cf69",
   "metadata": {},
   "outputs": [],
   "source": [
    "# Calculate the percentage of mitocondrial per cell and add to the metadata.\n",
    "if(! \"percent.mt\" %in% names(x = srat[[]])) srat[[\"percent.mt\"]] <- PercentageFeatureSet(srat, pattern = \"^MT-\")\n",
    "# Calculate the proportion gene expression that comes from ribosomal proteins.\n",
    "if(! \"percent.rb\" %in% names(x = srat[[]])) srat[[\"percent.rb\"]] <- PercentageFeatureSet(srat, pattern = \"^RP[SL]\")\n",
    "\n",
    "# Percentage hemoglobin genes - includes all genes starting with HB except HBP.\n",
    "if(! \"percent.hb\" %in% names(x = srat[[]])) srat[[\"percent.hb\"]] <- PercentageFeatureSet(srat, pattern = \"^HB[^(P)]\")\n",
    "if(! \"percent.plat\" %in% names(x = srat[[]])) srat[[\"percent.plat\"]] <- PercentageFeatureSet(srat, pattern = \"PECAM1|PF4\")\n",
    "head(srat@meta.data)"
   ]
  },
  {
   "cell_type": "code",
   "execution_count": null,
   "id": "9902a395-bfba-4857-8deb-047fb43e2b66",
   "metadata": {},
   "outputs": [],
   "source": [
    "# Add the doublet annotation\n",
    "doublets <- read.table(here::here('api/tools/qc/scrublet_calls.tsv'), header = F, row.names = 1)\n",
    "colnames(doublets) <- c(\"Doublet_score\", \"Is_doublet\")\n",
    "srat <- AddMetaData(srat, doublets)\n",
    "# srat[['Is_doublet']] <- !is.na(srat[['Is_doublet']])"
   ]
  },
  {
   "cell_type": "code",
   "execution_count": null,
   "id": "5f2a4975-e397-4218-9604-fbd3b78e8381",
   "metadata": {},
   "outputs": [],
   "source": [
    "head(srat@meta.data)"
   ]
  },
  {
   "cell_type": "code",
   "execution_count": null,
   "id": "b7afb29b-e016-493d-89b3-5bf9735416de",
   "metadata": {},
   "outputs": [],
   "source": [
    "srat@meta.data"
   ]
  },
  {
   "cell_type": "code",
   "execution_count": null,
   "id": "09b253c0-fef6-45a6-b60c-20597f12b378",
   "metadata": {},
   "outputs": [],
   "source": [
    "nFeature_min=200\n",
    "nFeature_max=0\n",
    "percent_mt_max=5\n",
    "percent_rb_min=0\n",
    "srat <- subset(srat, subset = paste0(\"nFeature_\", default_assay) > nFeature_min & percent.mt < percent_mt_max)\n",
    "if(nFeature_max != 0) srat <- subset(srat, subset = paste0(\"nFeature_\", default_assay) < nFeature_max)\n",
    "if(percent_rb_min != 0)  srat <- subset(srat, subset = percent.rb > percent_rb_min)"
   ]
  },
  {
   "cell_type": "code",
   "execution_count": null,
   "id": "260a6b7f-94b8-4f6a-aadb-e03f64bf569f",
   "metadata": {},
   "outputs": [],
   "source": [
    "srat <- subset(srat, subset = Is_doublet != 'True' | is.na(Is_doublet))"
   ]
  },
  {
   "cell_type": "code",
   "execution_count": null,
   "id": "6b43c216-4881-4cb4-9fe9-95e7fea3d1b4",
   "metadata": {},
   "outputs": [],
   "source": [
    "#' Regularise dataframe\n",
    "#'\n",
    "#' This function checks if certain columns of a dataframe is of a single value\n",
    "#' and drop them if required\n",
    "#'\n",
    "#' @param df Input data frame, usually cell metadata table (data.frame-like\n",
    "#'   object)\n",
    "#' @param drop_single_values Drop columns with only a single value (logical)\n",
    "#'\n",
    "#' @return Dataframe\n",
    ".regularise_df <- function(df, drop_single_values=FALSE, drop_na_values=TRUE) {\n",
    "  if (ncol(df) == 0) df[[\"name\"]] <- rownames(df)\n",
    "  if (drop_single_values) {\n",
    "    k_singular <- sapply(df, function(x) length(unique(x)) == 1)\n",
    "    if (sum(k_singular) > 0) {\n",
    "      warning(\n",
    "        paste(\"Dropping single category variables:\"),\n",
    "        paste(colnames(df)[k_singular], collapse = \", \")\n",
    "      )\n",
    "    }\n",
    "    df <- df[, !k_singular, drop = F]\n",
    "    if (ncol(df) == 0) df[[\"name\"]] <- rownames(df)\n",
    "  }\n",
    " if (drop_na_values) {\n",
    "    k_na <- sapply(srat@meta.data, function(x) sum(is.na(x))==length(x))\n",
    "    if (sum(k_na) > 0) {\n",
    "      warning(\n",
    "        paste(\"Dropping NA category variables:\"),\n",
    "        paste(colnames(df)[k_na], collapse = \", \")\n",
    "      )\n",
    "    }\n",
    "    df <- df[, !k_na, drop = F]\n",
    "    if (ncol(df) == 0) df[[\"name\"]] <- rownames(df)\n",
    "  }\n",
    "  return(df)\n",
    "}"
   ]
  },
  {
   "cell_type": "code",
   "execution_count": null,
   "id": "9506e842-153e-4028-8422-adcdb7fa5dbe",
   "metadata": {},
   "outputs": [],
   "source": [
    "output_path_rds <- '/ps/ai-ready/data/Clustering/Tabula_Muris/droplet_Bladder_seurat_tiss.rds'\n",
    "saveRDS(srat, output_path_rds)\n",
    "srat1 <- LoadSeurat(output_path_rds)\n",
    "srat1"
   ]
  },
  {
   "cell_type": "code",
   "execution_count": null,
   "id": "b3795b46-8420-41fb-ac83-87109bc40136",
   "metadata": {},
   "outputs": [],
   "source": [
    "k_na <- sapply(srat@meta.data, function(x) sum(is.na(x))==length(x))\n",
    "k_na\n",
    "sum(k_na)"
   ]
  },
  {
   "cell_type": "code",
   "execution_count": null,
   "id": "a812d011-247f-4517-92a9-f3ddf7761012",
   "metadata": {},
   "outputs": [],
   "source": []
  },
  {
   "cell_type": "code",
   "execution_count": null,
   "id": "6de8e5b6-6de7-4de8-a8d8-3c18758941ef",
   "metadata": {},
   "outputs": [],
   "source": [
    "srat_qc@meta.data %>% is.na()"
   ]
  },
  {
   "cell_type": "code",
   "execution_count": null,
   "id": "a5814537-dce3-4d63-841e-342fb3c08f42",
   "metadata": {},
   "outputs": [],
   "source": [
    "k_singular <- sapply(srat_qc@meta.data, function(x) length(unique(x)) == 1)\n",
    "k_singular"
   ]
  },
  {
   "cell_type": "code",
   "execution_count": null,
   "id": "000d0c07-f0d4-4b53-9db3-8695efcebf90",
   "metadata": {},
   "outputs": [],
   "source": [
    "srat_qc@meta.data"
   ]
  },
  {
   "cell_type": "code",
   "execution_count": null,
   "id": "bcb64479-e5b4-4f6c-aa39-6575314f7ec0",
   "metadata": {},
   "outputs": [],
   "source": [
    "srat@meta.data <- .regularise_df(srat@meta.data, drop_single_values=FALSE, drop_na_values=TRUE)\n",
    "srat@meta.data"
   ]
  },
  {
   "cell_type": "code",
   "execution_count": null,
   "id": "c3fc2d99-3bd5-4e0e-ab31-590caf70dae5",
   "metadata": {},
   "outputs": [],
   "source": [
    "srat_qc@meta.data <- .regularise_df(srat_qc@meta.data, drop_single_values = FALSE)\n",
    "srat_qc@meta.data"
   ]
  },
  {
   "cell_type": "code",
   "execution_count": null,
   "id": "c74fc5e1-af6d-4baa-87c4-97ed9cfa86aa",
   "metadata": {},
   "outputs": [],
   "source": [
    "output_path <- '/ps/ai-ready/data/Clustering/Tabula_Muris/droplet_Bladder_seurat_tiss.h5Seurat'\n",
    "SaveH5Seurat(srat_qc, filename = output_path, overwrite = TRUE, verbose = TRUE)\n",
    "srat_3 <- LoadH5Seurat(output_path)\n",
    "srat_3"
   ]
  },
  {
   "cell_type": "code",
   "execution_count": null,
   "id": "d72c3350-1464-4b27-8af1-7e756efb83fb",
   "metadata": {},
   "outputs": [],
   "source": [
    "output_path <- '/ps/ai-ready/data/Clustering/Tabula_Muris/droplet_Bladder_seurat_tiss.h5Seurat'\n",
    "SaveH5Seurat(srat1, filename = output_path, overwrite = TRUE, verbose = TRUE)\n",
    "srat_2 <- LoadH5Seurat(output_path)\n",
    "srat_2"
   ]
  },
  {
   "cell_type": "code",
   "execution_count": null,
   "id": "9e7497b3-3e58-4cb1-b752-9bbdd4f56c7f",
   "metadata": {},
   "outputs": [],
   "source": [
    "srat1[[\"meta.data\"]]"
   ]
  },
  {
   "cell_type": "code",
   "execution_count": null,
   "id": "4383b840-6473-4fb6-8bc6-d2eaecc81a25",
   "metadata": {},
   "outputs": [],
   "source": [
    "srat1@meta.data"
   ]
  },
  {
   "cell_type": "code",
   "execution_count": null,
   "id": "9b48dc91-8451-4761-8509-63b84c3c4138",
   "metadata": {},
   "outputs": [],
   "source": [
    "devtools::install_github(\"cellgeni/sceasy\")"
   ]
  },
  {
   "cell_type": "code",
   "execution_count": null,
   "id": "d4ff17ef-ca01-47f1-ad89-9917df098102",
   "metadata": {},
   "outputs": [],
   "source": [
    "sceasy::convertFormat(srat1, from=\"seurat\", to=\"anndata\",\n",
    "                       outFile='/ps/ai-ready/data/Clustering/Tabula_Muris/droplet_Bladder_seurat_tiss.h5ad')"
   ]
  },
  {
   "cell_type": "code",
   "execution_count": null,
   "id": "1d0e0e8e-df27-4cc0-9d3f-9b67a3d61781",
   "metadata": {},
   "outputs": [],
   "source": [
    "adata <- LoadAnndata('/ps/ai-ready/data/Clustering/Tabula_Muris/droplet_Bladder_seurat_tiss.h5ad')\n",
    "adata"
   ]
  },
  {
   "cell_type": "code",
   "execution_count": null,
   "id": "8f15d725-31cf-4737-84ea-bdf782f7d878",
   "metadata": {},
   "outputs": [],
   "source": [
    "adata$obs"
   ]
  },
  {
   "cell_type": "code",
   "execution_count": null,
   "id": "a118346e-76c0-42f1-8690-4fe6259a8506",
   "metadata": {},
   "outputs": [],
   "source": [
    "adata$X"
   ]
  },
  {
   "cell_type": "code",
   "execution_count": null,
   "id": "bce54ae7-cd63-4881-a1c6-34b66c6f1e4c",
   "metadata": {},
   "outputs": [],
   "source": [
    "srat_qc <- CreateSeuratObject(counts=srat[['RNA']]@counts, meta.data=srat@meta.data, project = Project(srat))\n",
    "srat_qc"
   ]
  },
  {
   "cell_type": "code",
   "execution_count": null,
   "id": "e3f06c4a-c311-4421-a203-6af4ddf7e793",
   "metadata": {},
   "outputs": [],
   "source": [
    "output_path <- '/ps/ai-ready/data/Clustering/Tabula_Muris/droplet_Bladder_seurat_tiss.h5Seurat'\n",
    "SaveH5Seurat(srat_qc, filename = output_path, overwrite = TRUE, verbose = TRUE)\n",
    "srat_qc_1 <- LoadH5Seurat(output_path)\n",
    "srat_qc_1"
   ]
  },
  {
   "cell_type": "code",
   "execution_count": null,
   "id": "f9b1db66-1fd2-4662-bafe-44db3ccd06c8",
   "metadata": {},
   "outputs": [],
   "source": [
    "output_path <- '/ps/ai-ready/data/Clustering/Tabula_Muris/droplet_Bladder_seurat_tiss.h5Seurat'\n",
    "SaveH5Seurat(srat, filename = output_path, overwrite = TRUE, verbose = TRUE)\n",
    "srat1 <- LoadH5Seurat(output_path)\n",
    "srat1"
   ]
  },
  {
   "cell_type": "code",
   "execution_count": null,
   "id": "270245bf-785d-40a6-aec6-034c5b9c1c06",
   "metadata": {},
   "outputs": [],
   "source": [
    "srat <- subset(srat, subset = Is_doublet != 'True')"
   ]
  },
  {
   "cell_type": "code",
   "execution_count": null,
   "id": "6cd40758-93ca-4e50-a9a9-9020127dace6",
   "metadata": {},
   "outputs": [],
   "source": [
    "srat[[\"meta.data\"]]"
   ]
  },
  {
   "cell_type": "code",
   "execution_count": null,
   "id": "0489a1eb-9743-4749-a333-9a354d48eaed",
   "metadata": {},
   "outputs": [],
   "source": [
    "Cells(srat)"
   ]
  },
  {
   "cell_type": "code",
   "execution_count": null,
   "id": "e9896ca7-fabf-4ed4-9bd7-8a8aa4d2db67",
   "metadata": {},
   "outputs": [],
   "source": [
    "srat <- NormalizeData(srat, normalization.method = \"LogNormalize\", scale.factor = 10000)\n",
    "srat <- FindVariableFeatures(srat, selection.method = \"vst\")\n",
    "srat <- ScaleData(srat, features = rownames(srat))\n",
    "srat\n",
    "dim(srat)\n",
    "dim(srat@meta.data)"
   ]
  },
  {
   "cell_type": "code",
   "execution_count": null,
   "id": "c01f220d-46fa-4f61-b119-e29a9cd43b33",
   "metadata": {},
   "outputs": [],
   "source": [
    "srat[['Doublet_score']][sapply(srat[['Doublet_score']], is.na)] <- 0\n",
    "srat[['Doublet_score']]"
   ]
  },
  {
   "cell_type": "code",
   "execution_count": null,
   "id": "2a37f187-c56c-4548-a5e1-383b87486ccb",
   "metadata": {},
   "outputs": [],
   "source": [
    "srat[['Doublet_score']] <- !is.na(srat[['Doublet_score']])\n"
   ]
  },
  {
   "cell_type": "code",
   "execution_count": null,
   "id": "506f420a-6ad6-4ec6-8ca1-ac5ad50bdfb8",
   "metadata": {},
   "outputs": [],
   "source": [
    "# srat <- subset(srat, subset = percent.rb >= 0)\n",
    "srat <- subset(srat, subset = is.na(Is_doublet))\n",
    "srat"
   ]
  },
  {
   "cell_type": "code",
   "execution_count": null,
   "id": "dead8488-4c2a-490c-8a05-3d0faece6b20",
   "metadata": {},
   "outputs": [],
   "source": [
    "srat[['Is_doublet']] <- !is.na(srat[['Is_doublet']])"
   ]
  },
  {
   "cell_type": "code",
   "execution_count": null,
   "id": "ff4aa97d-0c60-4a81-9841-147ac3c6c21e",
   "metadata": {},
   "outputs": [],
   "source": [
    "srat <- subset(srat, subset = Is_doublet != 'True')\n",
    "srat"
   ]
  },
  {
   "cell_type": "code",
   "execution_count": null,
   "id": "ae24ac8d-2c3e-4e05-a761-9ae0d312fa4d",
   "metadata": {},
   "outputs": [],
   "source": [
    "srat@meta.data"
   ]
  },
  {
   "cell_type": "code",
   "execution_count": null,
   "id": "e0a592bd-e7df-4cca-9fbc-f9d6b1a39397",
   "metadata": {},
   "outputs": [],
   "source": [
    "'nCount_RNA' %in% names(srat@meta.data)"
   ]
  },
  {
   "cell_type": "code",
   "execution_count": null,
   "id": "05765fa5-074a-4792-83b2-b1cf2056dc64",
   "metadata": {},
   "outputs": [],
   "source": [
    "result <- GetMetadataFromSeurat(path)\n",
    "result"
   ]
  },
  {
   "cell_type": "code",
   "execution_count": null,
   "id": "a225d33f-af85-4ba8-a720-7be27d85b542",
   "metadata": {},
   "outputs": [],
   "source": [
    "suffix <- tolower(get_suffix(path))\n",
    "suffix"
   ]
  },
  {
   "cell_type": "code",
   "execution_count": null,
   "id": "382732d8-d2e6-4e6e-9b0f-80984b505fda",
   "metadata": {},
   "outputs": [],
   "source": [
    "seurat_object <- LoadSeurat(path)\n",
    "seurat_object"
   ]
  },
  {
   "cell_type": "code",
   "execution_count": null,
   "id": "2ad344aa-8ee0-4173-a895-308b87090ef1",
   "metadata": {},
   "outputs": [],
   "source": [
    "'umap' %in% names(seurat_object@reductions)"
   ]
  },
  {
   "cell_type": "code",
   "execution_count": null,
   "id": "b43db97a-9588-4337-88d4-1b4dd02abe13",
   "metadata": {},
   "outputs": [],
   "source": [
    "genes <- rownames(seurat_object)\n",
    "typeof(genes)\n",
    "genes"
   ]
  },
  {
   "cell_type": "code",
   "execution_count": null,
   "id": "1d6188ab-44f8-4613-a017-6389b6c265da",
   "metadata": {},
   "outputs": [],
   "source": [
    "cells <- Cells(seurat_object)\n",
    "typeof(cells)\n",
    "cells"
   ]
  },
  {
   "cell_type": "code",
   "execution_count": null,
   "id": "e61df171-534d-415c-806b-0f404a565b20",
   "metadata": {},
   "outputs": [],
   "source": [
    "pca <- Embeddings(object = seurat_object, reduction = \"pca\")\n",
    "typeof(pca)\n",
    "pca"
   ]
  },
  {
   "cell_type": "code",
   "execution_count": null,
   "id": "1e8acc36-820a-4133-85ef-116ac193238c",
   "metadata": {},
   "outputs": [],
   "source": [
    "name <- load(path)\n",
    "seurat_object <- UpdateSeuratObject(get(name))"
   ]
  },
  {
   "cell_type": "code",
   "execution_count": null,
   "id": "0a90d351-fe26-4efc-a878-a02be85ec72f",
   "metadata": {},
   "outputs": [],
   "source": [
    "seurat_object"
   ]
  },
  {
   "cell_type": "code",
   "execution_count": null,
   "id": "be5bad61-ecb5-4222-8826-4d96ec285bb3",
   "metadata": {},
   "outputs": [],
   "source": [
    "features <- seurat_object[['RNA']]@var.features\n",
    "typeof(features)\n",
    "features"
   ]
  },
  {
   "cell_type": "code",
   "execution_count": null,
   "id": "f7a39369-c220-4b9f-be3b-32f51775d2b0",
   "metadata": {},
   "outputs": [],
   "source": [
    "#获取当前用的Idents\n",
    "Idents(seurat_object)\n",
    "levels(seurat_object)"
   ]
  },
  {
   "cell_type": "code",
   "execution_count": null,
   "id": "3ca5b9c8-5d85-4b15-865d-f2fa1cd89699",
   "metadata": {},
   "outputs": [],
   "source": [
    "#总数目\n",
    "nCells <- ncol(seurat_object)\n",
    "nGenes <- nrow(seurat_object)\n",
    "\n",
    "nCells\n",
    "nGenes"
   ]
  },
  {
   "cell_type": "code",
   "execution_count": null,
   "id": "0abc26cb-dcec-455a-a6b4-a56709bb55e7",
   "metadata": {},
   "outputs": [],
   "source": [
    "dim=1:10\n",
    "class(dim)"
   ]
  },
  {
   "cell_type": "code",
   "execution_count": null,
   "id": "90f2d815-54c5-409a-b377-e778819cf945",
   "metadata": {},
   "outputs": [],
   "source": [
    "x <- 1:10\n",
    "x"
   ]
  },
  {
   "cell_type": "code",
   "execution_count": null,
   "id": "4e208cae-d405-4b1e-bbc3-0ab6ce799f48",
   "metadata": {},
   "outputs": [],
   "source": [
    "class(x)"
   ]
  },
  {
   "cell_type": "code",
   "execution_count": null,
   "id": "86108931-ab51-400e-8baf-99a869cfba95",
   "metadata": {},
   "outputs": [],
   "source": []
  }
 ],
 "metadata": {
  "kernelspec": {
   "display_name": "R",
   "language": "R",
   "name": "ir"
  },
  "language_info": {
   "codemirror_mode": "r",
   "file_extension": ".r",
   "mimetype": "text/x-r-source",
   "name": "R",
   "pygments_lexer": "r",
   "version": "4.2.1"
  }
 },
 "nbformat": 4,
 "nbformat_minor": 5
}
