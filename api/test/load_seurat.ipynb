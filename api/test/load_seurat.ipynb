{
 "cells": [
  {
   "cell_type": "code",
   "execution_count": null,
   "id": "66a49577-7919-4513-989a-b610721dc36c",
   "metadata": {},
   "outputs": [],
   "source": [
    "# devtools::install_github(\"cellgeni/sceasy\")"
   ]
  },
  {
   "cell_type": "code",
   "execution_count": 1,
   "id": "b144d609-82e8-4323-8fe2-1a036cc73856",
   "metadata": {},
   "outputs": [
    {
     "name": "stderr",
     "output_type": "stream",
     "text": [
      "Loading required package: SingleCellExperiment\n",
      "\n",
      "Loading required package: SummarizedExperiment\n",
      "\n",
      "Loading required package: MatrixGenerics\n",
      "\n",
      "Loading required package: matrixStats\n",
      "\n",
      "\n",
      "Attaching package: ‘MatrixGenerics’\n",
      "\n",
      "\n",
      "The following objects are masked from ‘package:matrixStats’:\n",
      "\n",
      "    colAlls, colAnyNAs, colAnys, colAvgsPerRowSet, colCollapse,\n",
      "    colCounts, colCummaxs, colCummins, colCumprods, colCumsums,\n",
      "    colDiffs, colIQRDiffs, colIQRs, colLogSumExps, colMadDiffs,\n",
      "    colMads, colMaxs, colMeans2, colMedians, colMins, colOrderStats,\n",
      "    colProds, colQuantiles, colRanges, colRanks, colSdDiffs, colSds,\n",
      "    colSums2, colTabulates, colVarDiffs, colVars, colWeightedMads,\n",
      "    colWeightedMeans, colWeightedMedians, colWeightedSds,\n",
      "    colWeightedVars, rowAlls, rowAnyNAs, rowAnys, rowAvgsPerColSet,\n",
      "    rowCollapse, rowCounts, rowCummaxs, rowCummins, rowCumprods,\n",
      "    rowCumsums, rowDiffs, rowIQRDiffs, rowIQRs, rowLogSumExps,\n",
      "    rowMadDiffs, rowMads, rowMaxs, rowMeans2, rowMedians, rowMins,\n",
      "    rowOrderStats, rowProds, rowQuantiles, rowRanges, rowRanks,\n",
      "    rowSdDiffs, rowSds, rowSums2, rowTabulates, rowVarDiffs, rowVars,\n",
      "    rowWeightedMads, rowWeightedMeans, rowWeightedMedians,\n",
      "    rowWeightedSds, rowWeightedVars\n",
      "\n",
      "\n",
      "Loading required package: GenomicRanges\n",
      "\n",
      "Loading required package: stats4\n",
      "\n",
      "Loading required package: BiocGenerics\n",
      "\n",
      "\n",
      "Attaching package: ‘BiocGenerics’\n",
      "\n",
      "\n",
      "The following objects are masked from ‘package:stats’:\n",
      "\n",
      "    IQR, mad, sd, var, xtabs\n",
      "\n",
      "\n",
      "The following objects are masked from ‘package:base’:\n",
      "\n",
      "    anyDuplicated, aperm, append, as.data.frame, basename, cbind,\n",
      "    colnames, dirname, do.call, duplicated, eval, evalq, Filter, Find,\n",
      "    get, grep, grepl, intersect, is.unsorted, lapply, Map, mapply,\n",
      "    match, mget, order, paste, pmax, pmax.int, pmin, pmin.int,\n",
      "    Position, rank, rbind, Reduce, rownames, sapply, setdiff, sort,\n",
      "    table, tapply, union, unique, unsplit, which.max, which.min\n",
      "\n",
      "\n",
      "Loading required package: S4Vectors\n",
      "\n",
      "\n",
      "Attaching package: ‘S4Vectors’\n",
      "\n",
      "\n",
      "The following objects are masked from ‘package:base’:\n",
      "\n",
      "    expand.grid, I, unname\n",
      "\n",
      "\n",
      "Loading required package: IRanges\n",
      "\n",
      "Loading required package: GenomeInfoDb\n",
      "\n",
      "Loading required package: Biobase\n",
      "\n",
      "Welcome to Bioconductor\n",
      "\n",
      "    Vignettes contain introductory material; view with\n",
      "    'browseVignettes()'. To cite Bioconductor, see\n",
      "    'citation(\"Biobase\")', and for packages 'citation(\"pkgname\")'.\n",
      "\n",
      "\n",
      "\n",
      "Attaching package: ‘Biobase’\n",
      "\n",
      "\n",
      "The following object is masked from ‘package:MatrixGenerics’:\n",
      "\n",
      "    rowMedians\n",
      "\n",
      "\n",
      "The following objects are masked from ‘package:matrixStats’:\n",
      "\n",
      "    anyMissing, rowMedians\n",
      "\n",
      "\n",
      "Loading required package: scuttle\n",
      "\n",
      "Loading required package: ggplot2\n",
      "\n",
      "Loading required package: SeuratObject\n",
      "\n",
      "Loading required package: sp\n",
      "\n",
      "\n",
      "Attaching package: ‘sp’\n",
      "\n",
      "\n",
      "The following object is masked from ‘package:IRanges’:\n",
      "\n",
      "    %over%\n",
      "\n",
      "\n",
      "\n",
      "Attaching package: ‘SeuratObject’\n",
      "\n",
      "\n",
      "The following object is masked from ‘package:anndata’:\n",
      "\n",
      "    Layers\n",
      "\n",
      "\n",
      "The following object is masked from ‘package:SummarizedExperiment’:\n",
      "\n",
      "    Assays\n",
      "\n",
      "\n",
      "The following object is masked from ‘package:GenomicRanges’:\n",
      "\n",
      "    intersect\n",
      "\n",
      "\n",
      "The following object is masked from ‘package:GenomeInfoDb’:\n",
      "\n",
      "    intersect\n",
      "\n",
      "\n",
      "The following object is masked from ‘package:IRanges’:\n",
      "\n",
      "    intersect\n",
      "\n",
      "\n",
      "The following object is masked from ‘package:S4Vectors’:\n",
      "\n",
      "    intersect\n",
      "\n",
      "\n",
      "The following object is masked from ‘package:BiocGenerics’:\n",
      "\n",
      "    intersect\n",
      "\n",
      "\n",
      "The following object is masked from ‘package:base’:\n",
      "\n",
      "    intersect\n",
      "\n",
      "\n",
      "\n",
      "Attaching package: ‘Seurat’\n",
      "\n",
      "\n",
      "The following object is masked from ‘package:SummarizedExperiment’:\n",
      "\n",
      "    Assays\n",
      "\n",
      "\n",
      "Registered S3 method overwritten by 'SeuratDisk':\n",
      "  method            from  \n",
      "  as.sparse.H5Group Seurat\n",
      "\n"
     ]
    }
   ],
   "source": [
    "library(scater)\n",
    "library(scDblFinder)\n",
    "library(BiocParallel)\n",
    "source(\"../tools/formating/formating.R\")"
   ]
  },
  {
   "cell_type": "code",
   "execution_count": 2,
   "id": "c3f8739c-090d-47f1-a3c2-678b781c3bba",
   "metadata": {},
   "outputs": [
    {
     "name": "stderr",
     "output_type": "stream",
     "text": [
      "Warning message:\n",
      "“Data is of class matrix. Coercing to dgCMatrix.”\n",
      "X -> counts; scale.data -> data\n",
      "\n"
     ]
    },
    {
     "data": {
      "text/plain": [
       "An object of class Seurat \n",
       "23341 features across 2392 samples within 1 assay \n",
       "Active assay: RNA (23341 features, 0 variable features)\n",
       " 2 layers present: counts, data\n",
       " 3 dimensional reductions calculated: pca, tsne, umap"
      ]
     },
     "metadata": {},
     "output_type": "display_data"
    }
   ],
   "source": [
    "# path = \"/ps/ai-ready/data/Clustering/Tabula_Muris/droplet_Bladder_seurat_tiss.h5Seurat\"\n",
    "path = \"/ps/ai-ready/data/Clustering/Tabula_Muris/droplet_Bladder_seurat_tiss.h5ad\"\n",
    "srat <- LoadSeurat(path)\n",
    "srat"
   ]
  },
  {
   "cell_type": "code",
   "execution_count": null,
   "id": "a0a09ba8-ecc0-4637-9af6-80fe67d81e4f",
   "metadata": {},
   "outputs": [],
   "source": [
    "UMAPPlot(object = srat, label=T)"
   ]
  },
  {
   "cell_type": "code",
   "execution_count": 3,
   "id": "85ed93a8-0d72-4035-8e0d-b8a571b061fb",
   "metadata": {},
   "outputs": [
    {
     "data": {
      "text/html": [
       "<table class=\"dataframe\">\n",
       "<caption>A data.frame: 2392 × 27</caption>\n",
       "<thead>\n",
       "\t<tr><th></th><th scope=col>orig.ident</th><th scope=col>nCount_RNA</th><th scope=col>nFeature_RNA</th><th scope=col>nCounts_RNA</th><th scope=col>nFeatures_RNA</th><th scope=col>channel</th><th scope=col>tissue</th><th scope=col>subtissue</th><th scope=col>mouse.sex</th><th scope=col>mouse.id</th><th scope=col>⋯</th><th scope=col>cluster.ids</th><th scope=col>cell_ontology_id</th><th scope=col>percent.mt</th><th scope=col>percent.rb</th><th scope=col>percent.hb</th><th scope=col>percent.plat</th><th scope=col>RNA_snn_res.0.5</th><th scope=col>seurat_clusters</th><th scope=col>doublet_score</th><th scope=col>doublet_class</th></tr>\n",
       "\t<tr><th></th><th scope=col>&lt;fct&gt;</th><th scope=col>&lt;dbl&gt;</th><th scope=col>&lt;int&gt;</th><th scope=col>&lt;dbl&gt;</th><th scope=col>&lt;int&gt;</th><th scope=col>&lt;fct&gt;</th><th scope=col>&lt;fct&gt;</th><th scope=col>&lt;fct&gt;</th><th scope=col>&lt;fct&gt;</th><th scope=col>&lt;fct&gt;</th><th scope=col>⋯</th><th scope=col>&lt;fct&gt;</th><th scope=col>&lt;fct&gt;</th><th scope=col>&lt;dbl&gt;</th><th scope=col>&lt;dbl&gt;</th><th scope=col>&lt;dbl&gt;</th><th scope=col>&lt;dbl&gt;</th><th scope=col>&lt;fct&gt;</th><th scope=col>&lt;fct&gt;</th><th scope=col>&lt;dbl&gt;</th><th scope=col>&lt;fct&gt;</th></tr>\n",
       "</thead>\n",
       "<tbody>\n",
       "\t<tr><th scope=row>10X_P4_3_AAAGTAGAGATGCCAG</th><td>10X</td><td>10291</td><td>2853</td><td>10291</td><td>2853</td><td>10X_P4_3</td><td>Bladder</td><td></td><td>M</td><td>3-M-8</td><td>⋯</td><td>0</td><td>CL:1001319</td><td>0</td><td>0</td><td>0</td><td>0</td><td>3</td><td>3</td><td>0.2572535276</td><td>singlet</td></tr>\n",
       "\t<tr><th scope=row>10X_P4_3_AACTCCCGTCGGGTCT</th><td>10X</td><td>12944</td><td>3347</td><td>12944</td><td>3347</td><td>10X_P4_3</td><td>Bladder</td><td></td><td>M</td><td>3-M-8</td><td>⋯</td><td>5</td><td>CL:1001319</td><td>0</td><td>0</td><td>0</td><td>0</td><td>5</td><td>5</td><td>0.1914071590</td><td>singlet</td></tr>\n",
       "\t<tr><th scope=row>10X_P4_3_AACTCTTAGTTGCAGG</th><td>10X</td><td>19594</td><td>3851</td><td>19594</td><td>3851</td><td>10X_P4_3</td><td>Bladder</td><td></td><td>M</td><td>3-M-8</td><td>⋯</td><td>3</td><td>CL:1001428</td><td>0</td><td>0</td><td>0</td><td>0</td><td>4</td><td>4</td><td>0.4951692522</td><td>singlet</td></tr>\n",
       "\t<tr><th scope=row>10X_P4_3_AACTCTTTCATAACCG</th><td>10X</td><td>14594</td><td>3809</td><td>14594</td><td>3809</td><td>10X_P4_3</td><td>Bladder</td><td></td><td>M</td><td>3-M-8</td><td>⋯</td><td>2</td><td>CL:1001319</td><td>0</td><td>0</td><td>0</td><td>0</td><td>0</td><td>0</td><td>0.2093610018</td><td>singlet</td></tr>\n",
       "\t<tr><th scope=row>10X_P4_3_AAGACCTAGATCCGAG</th><td>10X</td><td>19190</td><td>3608</td><td>19190</td><td>3608</td><td>10X_P4_3</td><td>Bladder</td><td></td><td>M</td><td>3-M-8</td><td>⋯</td><td>6</td><td>CL:0000738</td><td>0</td><td>0</td><td>0</td><td>0</td><td>8</td><td>8</td><td>0.3869006932</td><td>singlet</td></tr>\n",
       "\t<tr><th scope=row>10X_P4_3_AAGGAGCGTGCAACTT</th><td>10X</td><td> 5005</td><td>1960</td><td> 5005</td><td>1960</td><td>10X_P4_3</td><td>Bladder</td><td></td><td>M</td><td>3-M-8</td><td>⋯</td><td>0</td><td>CL:1001319</td><td>0</td><td>0</td><td>0</td><td>0</td><td>3</td><td>3</td><td>0.0268953685</td><td>singlet</td></tr>\n",
       "\t<tr><th scope=row>10X_P4_3_AAGTCTGAGATAGTCA</th><td>10X</td><td> 6253</td><td>2236</td><td> 6253</td><td>2236</td><td>10X_P4_3</td><td>Bladder</td><td></td><td>M</td><td>3-M-8</td><td>⋯</td><td>4</td><td>CL:1001428</td><td>0</td><td>0</td><td>0</td><td>0</td><td>4</td><td>4</td><td>0.0088629527</td><td>singlet</td></tr>\n",
       "\t<tr><th scope=row>10X_P4_3_ACAGCTATCATACGGT</th><td>10X</td><td>15910</td><td>3374</td><td>15910</td><td>3374</td><td>10X_P4_3</td><td>Bladder</td><td></td><td>M</td><td>3-M-8</td><td>⋯</td><td>1</td><td>CL:1001428</td><td>0</td><td>0</td><td>0</td><td>0</td><td>2</td><td>2</td><td>0.1332673728</td><td>singlet</td></tr>\n",
       "\t<tr><th scope=row>10X_P4_3_ACATACGCAGCTCCGA</th><td>10X</td><td> 2881</td><td>1558</td><td> 2881</td><td>1558</td><td>10X_P4_3</td><td>Bladder</td><td></td><td>M</td><td>3-M-8</td><td>⋯</td><td>4</td><td>CL:1001428</td><td>0</td><td>0</td><td>0</td><td>0</td><td>2</td><td>2</td><td>0.0018370392</td><td>singlet</td></tr>\n",
       "\t<tr><th scope=row>10X_P4_3_ACCAGTACACGTCTCT</th><td>10X</td><td> 6894</td><td>2348</td><td> 6894</td><td>2348</td><td>10X_P4_3</td><td>Bladder</td><td></td><td>M</td><td>3-M-8</td><td>⋯</td><td>0</td><td>CL:1001319</td><td>0</td><td>0</td><td>0</td><td>0</td><td>3</td><td>3</td><td>0.0007252959</td><td>singlet</td></tr>\n",
       "\t<tr><th scope=row>10X_P4_3_ACGAGCCAGATAGCAT</th><td>10X</td><td> 9658</td><td>3141</td><td> 9658</td><td>3141</td><td>10X_P4_3</td><td>Bladder</td><td></td><td>M</td><td>3-M-8</td><td>⋯</td><td>0</td><td>CL:1001319</td><td>0</td><td>0</td><td>0</td><td>0</td><td>6</td><td>6</td><td>0.0964101106</td><td>singlet</td></tr>\n",
       "\t<tr><th scope=row>10X_P4_3_ACGGAGATCGGAATCT</th><td>10X</td><td>11623</td><td>3357</td><td>11623</td><td>3357</td><td>10X_P4_3</td><td>Bladder</td><td></td><td>M</td><td>3-M-8</td><td>⋯</td><td>2</td><td>CL:1001319</td><td>0</td><td>0</td><td>0</td><td>0</td><td>5</td><td>5</td><td>0.0307382215</td><td>singlet</td></tr>\n",
       "\t<tr><th scope=row>10X_P4_3_ACGGGCTGTCTGATCA</th><td>10X</td><td> 6878</td><td>2285</td><td> 6878</td><td>2285</td><td>10X_P4_3</td><td>Bladder</td><td></td><td>M</td><td>3-M-8</td><td>⋯</td><td>0</td><td>CL:1001319</td><td>0</td><td>0</td><td>0</td><td>0</td><td>3</td><td>3</td><td>0.0662878603</td><td>singlet</td></tr>\n",
       "\t<tr><th scope=row>10X_P4_3_ACTGAACCATCCGGGT</th><td>10X</td><td> 7428</td><td>2319</td><td> 7428</td><td>2319</td><td>10X_P4_3</td><td>Bladder</td><td></td><td>M</td><td>3-M-8</td><td>⋯</td><td>0</td><td>CL:1001319</td><td>0</td><td>0</td><td>0</td><td>0</td><td>3</td><td>3</td><td>0.0706952289</td><td>singlet</td></tr>\n",
       "\t<tr><th scope=row>10X_P4_3_ACTTTCAAGATGGGTC</th><td>10X</td><td>10302</td><td>2875</td><td>10302</td><td>2875</td><td>10X_P4_3</td><td>Bladder</td><td></td><td>M</td><td>3-M-8</td><td>⋯</td><td>1</td><td>CL:1001428</td><td>0</td><td>0</td><td>0</td><td>0</td><td>2</td><td>2</td><td>0.0257869828</td><td>singlet</td></tr>\n",
       "\t<tr><th scope=row>10X_P4_3_AGACGTTTCTTACCGC</th><td>10X</td><td>10187</td><td>3197</td><td>10187</td><td>3197</td><td>10X_P4_3</td><td>Bladder</td><td></td><td>M</td><td>3-M-8</td><td>⋯</td><td>5</td><td>CL:1001319</td><td>0</td><td>0</td><td>0</td><td>0</td><td>5</td><td>5</td><td>0.0767364055</td><td>singlet</td></tr>\n",
       "\t<tr><th scope=row>10X_P4_3_AGCGGTCTCTGAGTGT</th><td>10X</td><td>23497</td><td>4152</td><td>23497</td><td>4152</td><td>10X_P4_3</td><td>Bladder</td><td></td><td>M</td><td>3-M-8</td><td>⋯</td><td>1</td><td>CL:1001428</td><td>0</td><td>0</td><td>0</td><td>0</td><td>2</td><td>2</td><td>0.0931750983</td><td>singlet</td></tr>\n",
       "\t<tr><th scope=row>10X_P4_3_AGCTTGAAGACTAAGT</th><td>10X</td><td> 3102</td><td>1431</td><td> 3102</td><td>1431</td><td>10X_P4_3</td><td>Bladder</td><td></td><td>M</td><td>3-M-8</td><td>⋯</td><td>0</td><td>CL:1001319</td><td>0</td><td>0</td><td>0</td><td>0</td><td>3</td><td>3</td><td>0.0015825944</td><td>singlet</td></tr>\n",
       "\t<tr><th scope=row>10X_P4_3_AGGGAGTCAATCGGTT</th><td>10X</td><td> 6981</td><td>2323</td><td> 6981</td><td>2323</td><td>10X_P4_3</td><td>Bladder</td><td></td><td>M</td><td>3-M-8</td><td>⋯</td><td>0</td><td>CL:1001319</td><td>0</td><td>0</td><td>0</td><td>0</td><td>3</td><td>3</td><td>0.0513042435</td><td>singlet</td></tr>\n",
       "\t<tr><th scope=row>10X_P4_3_AGGGATGAGTCGCCGT</th><td>10X</td><td> 5259</td><td>1975</td><td> 5259</td><td>1975</td><td>10X_P4_3</td><td>Bladder</td><td></td><td>M</td><td>3-M-8</td><td>⋯</td><td>0</td><td>CL:1001319</td><td>0</td><td>0</td><td>0</td><td>0</td><td>3</td><td>3</td><td>0.1014347225</td><td>singlet</td></tr>\n",
       "\t<tr><th scope=row>10X_P4_3_AGGTCCGAGGACACCA</th><td>10X</td><td>26565</td><td>5040</td><td>26565</td><td>5040</td><td>10X_P4_3</td><td>Bladder</td><td></td><td>M</td><td>3-M-8</td><td>⋯</td><td>1</td><td>CL:1001428</td><td>0</td><td>0</td><td>0</td><td>0</td><td>2</td><td>2</td><td>0.2526667118</td><td>singlet</td></tr>\n",
       "\t<tr><th scope=row>10X_P4_3_AGTCTTTAGCTAGTGG</th><td>10X</td><td> 2277</td><td>1098</td><td> 2277</td><td>1098</td><td>10X_P4_3</td><td>Bladder</td><td></td><td>M</td><td>3-M-8</td><td>⋯</td><td>0</td><td>CL:1001319</td><td>0</td><td>0</td><td>0</td><td>0</td><td>3</td><td>3</td><td>0.0018101180</td><td>singlet</td></tr>\n",
       "\t<tr><th scope=row>10X_P4_3_AGTGAGGAGTGTACTC</th><td>10X</td><td> 4800</td><td>1888</td><td> 4800</td><td>1888</td><td>10X_P4_3</td><td>Bladder</td><td></td><td>M</td><td>3-M-8</td><td>⋯</td><td>0</td><td>CL:1001319</td><td>0</td><td>0</td><td>0</td><td>0</td><td>3</td><td>3</td><td>0.0113621801</td><td>singlet</td></tr>\n",
       "\t<tr><th scope=row>10X_P4_3_AGTGTCACAGTATCTG</th><td>10X</td><td> 6171</td><td>2299</td><td> 6171</td><td>2299</td><td>10X_P4_3</td><td>Bladder</td><td></td><td>M</td><td>3-M-8</td><td>⋯</td><td>5</td><td>CL:1001319</td><td>0</td><td>0</td><td>0</td><td>0</td><td>0</td><td>0</td><td>0.2415932119</td><td>singlet</td></tr>\n",
       "\t<tr><th scope=row>10X_P4_3_ATTATCCAGTAAGTAC</th><td>10X</td><td>11461</td><td>3377</td><td>11461</td><td>3377</td><td>10X_P4_3</td><td>Bladder</td><td></td><td>M</td><td>3-M-8</td><td>⋯</td><td>0</td><td>CL:1001319</td><td>0</td><td>0</td><td>0</td><td>0</td><td>6</td><td>6</td><td>0.0812971219</td><td>singlet</td></tr>\n",
       "\t<tr><th scope=row>10X_P4_3_ATTTCTGCATGTTGAC</th><td>10X</td><td> 9688</td><td>2940</td><td> 9688</td><td>2940</td><td>10X_P4_3</td><td>Bladder</td><td></td><td>M</td><td>3-M-8</td><td>⋯</td><td>0</td><td>CL:1001319</td><td>0</td><td>0</td><td>0</td><td>0</td><td>3</td><td>3</td><td>0.1752033085</td><td>singlet</td></tr>\n",
       "\t<tr><th scope=row>10X_P4_3_CACACCTAGCCCAATT</th><td>10X</td><td>18589</td><td>3694</td><td>18589</td><td>3694</td><td>10X_P4_3</td><td>Bladder</td><td></td><td>M</td><td>3-M-8</td><td>⋯</td><td>1</td><td>CL:1001428</td><td>0</td><td>0</td><td>0</td><td>0</td><td>2</td><td>2</td><td>0.1906752139</td><td>singlet</td></tr>\n",
       "\t<tr><th scope=row>10X_P4_3_CACACCTGTTTGACAC</th><td>10X</td><td>22110</td><td>4079</td><td>22110</td><td>4079</td><td>10X_P4_3</td><td>Bladder</td><td></td><td>M</td><td>3-M-8</td><td>⋯</td><td>1</td><td>CL:1001428</td><td>0</td><td>0</td><td>0</td><td>0</td><td>1</td><td>1</td><td>0.1856997162</td><td>singlet</td></tr>\n",
       "\t<tr><th scope=row>10X_P4_3_CACATAGCAGATGGCA</th><td>10X</td><td>17635</td><td>3750</td><td>17635</td><td>3750</td><td>10X_P4_3</td><td>Bladder</td><td></td><td>M</td><td>3-M-8</td><td>⋯</td><td>4</td><td>CL:1001428</td><td>0</td><td>0</td><td>0</td><td>0</td><td>2</td><td>2</td><td>0.1076648757</td><td>singlet</td></tr>\n",
       "\t<tr><th scope=row>10X_P4_3_CACCAGGCAAGGCTCC</th><td>10X</td><td> 2866</td><td>1463</td><td> 2866</td><td>1463</td><td>10X_P4_3</td><td>Bladder</td><td></td><td>M</td><td>3-M-8</td><td>⋯</td><td>4</td><td>CL:1001428</td><td>0</td><td>0</td><td>0</td><td>0</td><td>2</td><td>2</td><td>0.0003976770</td><td>singlet</td></tr>\n",
       "\t<tr><th scope=row>⋮</th><td>⋮</td><td>⋮</td><td>⋮</td><td>⋮</td><td>⋮</td><td>⋮</td><td>⋮</td><td>⋮</td><td>⋮</td><td>⋮</td><td>⋱</td><td>⋮</td><td>⋮</td><td>⋮</td><td>⋮</td><td>⋮</td><td>⋮</td><td>⋮</td><td>⋮</td><td>⋮</td><td>⋮</td></tr>\n",
       "\t<tr><th scope=row>10X_P7_7_TGTTCCGAGCTAACTC</th><td>10X</td><td>23228</td><td>4255</td><td>23228</td><td>4255</td><td>10X_P7_7</td><td>Bladder</td><td></td><td>F</td><td>3-F-56</td><td>⋯</td><td>1</td><td>CL:1001428</td><td>0</td><td>0</td><td>0</td><td>0</td><td>2</td><td>2</td><td>3.145166e-02</td><td>singlet</td></tr>\n",
       "\t<tr><th scope=row>10X_P7_7_TGTTCCGAGCTCCCAG</th><td>10X</td><td>42860</td><td>5745</td><td>42860</td><td>5745</td><td>10X_P7_7</td><td>Bladder</td><td></td><td>F</td><td>3-F-56</td><td>⋯</td><td>1</td><td>CL:1001428</td><td>0</td><td>0</td><td>0</td><td>0</td><td>2</td><td>2</td><td>9.466144e-02</td><td>singlet</td></tr>\n",
       "\t<tr><th scope=row>10X_P7_7_TTAACTCGTCTCTTTA</th><td>10X</td><td>35751</td><td>5422</td><td>35751</td><td>5422</td><td>10X_P7_7</td><td>Bladder</td><td></td><td>F</td><td>3-F-56</td><td>⋯</td><td>1</td><td>CL:1001428</td><td>0</td><td>0</td><td>0</td><td>0</td><td>2</td><td>2</td><td>1.392896e-01</td><td>singlet</td></tr>\n",
       "\t<tr><th scope=row>10X_P7_7_TTAACTCTCAGAGACG</th><td>10X</td><td>31618</td><td>4440</td><td>31618</td><td>4440</td><td>10X_P7_7</td><td>Bladder</td><td></td><td>F</td><td>3-F-56</td><td>⋯</td><td>4</td><td>CL:1001428</td><td>0</td><td>0</td><td>0</td><td>0</td><td>4</td><td>4</td><td>5.021507e-01</td><td>singlet</td></tr>\n",
       "\t<tr><th scope=row>10X_P7_7_TTAGGACAGACAAAGG</th><td>10X</td><td> 9988</td><td>3201</td><td> 9988</td><td>3201</td><td>10X_P7_7</td><td>Bladder</td><td></td><td>F</td><td>3-F-56</td><td>⋯</td><td>5</td><td>CL:1001319</td><td>0</td><td>0</td><td>0</td><td>0</td><td>5</td><td>5</td><td>9.902639e-03</td><td>singlet</td></tr>\n",
       "\t<tr><th scope=row>10X_P7_7_TTAGGACCAGGGTACA</th><td>10X</td><td>11756</td><td>2880</td><td>11756</td><td>2880</td><td>10X_P7_7</td><td>Bladder</td><td></td><td>F</td><td>3-F-56</td><td>⋯</td><td>1</td><td>CL:1001428</td><td>0</td><td>0</td><td>0</td><td>0</td><td>2</td><td>2</td><td>1.451338e-02</td><td>singlet</td></tr>\n",
       "\t<tr><th scope=row>10X_P7_7_TTAGGACGTCTCCCTA</th><td>10X</td><td> 8516</td><td>2732</td><td> 8516</td><td>2732</td><td>10X_P7_7</td><td>Bladder</td><td></td><td>F</td><td>3-F-56</td><td>⋯</td><td>5</td><td>CL:1001319</td><td>0</td><td>0</td><td>0</td><td>0</td><td>5</td><td>5</td><td>1.147757e-03</td><td>singlet</td></tr>\n",
       "\t<tr><th scope=row>10X_P7_7_TTATGCTAGCCATCGC</th><td>10X</td><td>14870</td><td>3657</td><td>14870</td><td>3657</td><td>10X_P7_7</td><td>Bladder</td><td></td><td>F</td><td>3-F-56</td><td>⋯</td><td>1</td><td>CL:1001428</td><td>0</td><td>0</td><td>0</td><td>0</td><td>2</td><td>2</td><td>3.870866e-02</td><td>singlet</td></tr>\n",
       "\t<tr><th scope=row>10X_P7_7_TTATGCTCAGATGAGC</th><td>10X</td><td>16126</td><td>3372</td><td>16126</td><td>3372</td><td>10X_P7_7</td><td>Bladder</td><td></td><td>F</td><td>3-F-56</td><td>⋯</td><td>4</td><td>CL:1001428</td><td>0</td><td>0</td><td>0</td><td>0</td><td>2</td><td>2</td><td>1.219655e-01</td><td>singlet</td></tr>\n",
       "\t<tr><th scope=row>10X_P7_7_TTATGCTCAGCGTTCG</th><td>10X</td><td> 4938</td><td>1528</td><td> 4938</td><td>1528</td><td>10X_P7_7</td><td>Bladder</td><td></td><td>F</td><td>3-F-56</td><td>⋯</td><td>6</td><td>CL:0000738</td><td>0</td><td>0</td><td>0</td><td>0</td><td>9</td><td>9</td><td>3.446916e-04</td><td>singlet</td></tr>\n",
       "\t<tr><th scope=row>10X_P7_7_TTATGCTTCCGAACGC</th><td>10X</td><td>11558</td><td>2319</td><td>11558</td><td>2319</td><td>10X_P7_7</td><td>Bladder</td><td></td><td>F</td><td>3-F-56</td><td>⋯</td><td>6</td><td>CL:0000738</td><td>0</td><td>0</td><td>0</td><td>0</td><td>8</td><td>8</td><td>1.600124e-03</td><td>singlet</td></tr>\n",
       "\t<tr><th scope=row>10X_P7_7_TTATGCTTCCGCGGTA</th><td>10X</td><td> 6376</td><td>2580</td><td> 6376</td><td>2580</td><td>10X_P7_7</td><td>Bladder</td><td></td><td>F</td><td>3-F-56</td><td>⋯</td><td>0</td><td>CL:1001319</td><td>0</td><td>0</td><td>0</td><td>0</td><td>6</td><td>6</td><td>1.091914e-04</td><td>singlet</td></tr>\n",
       "\t<tr><th scope=row>10X_P7_7_TTCCCAGTCATGTGGT</th><td>10X</td><td>34918</td><td>5002</td><td>34918</td><td>5002</td><td>10X_P7_7</td><td>Bladder</td><td></td><td>F</td><td>3-F-56</td><td>⋯</td><td>1</td><td>CL:1001428</td><td>0</td><td>0</td><td>0</td><td>0</td><td>2</td><td>2</td><td>3.084705e-01</td><td>singlet</td></tr>\n",
       "\t<tr><th scope=row>10X_P7_7_TTCGGTCAGTGCGTGA</th><td>10X</td><td>14304</td><td>3511</td><td>14304</td><td>3511</td><td>10X_P7_7</td><td>Bladder</td><td></td><td>F</td><td>3-F-56</td><td>⋯</td><td>5</td><td>CL:1001319</td><td>0</td><td>0</td><td>0</td><td>0</td><td>5</td><td>5</td><td>2.984263e-01</td><td>singlet</td></tr>\n",
       "\t<tr><th scope=row>10X_P7_7_TTCGGTCCAGCGTAAG</th><td>10X</td><td>22793</td><td>4562</td><td>22793</td><td>4562</td><td>10X_P7_7</td><td>Bladder</td><td></td><td>F</td><td>3-F-56</td><td>⋯</td><td>1</td><td>CL:1001428</td><td>0</td><td>0</td><td>0</td><td>0</td><td>2</td><td>2</td><td>1.311160e-01</td><td>singlet</td></tr>\n",
       "\t<tr><th scope=row>10X_P7_7_TTCGGTCTCCGGGTGT</th><td>10X</td><td> 8380</td><td>2764</td><td> 8380</td><td>2764</td><td>10X_P7_7</td><td>Bladder</td><td></td><td>F</td><td>3-F-56</td><td>⋯</td><td>5</td><td>CL:1001319</td><td>0</td><td>0</td><td>0</td><td>0</td><td>5</td><td>5</td><td>2.261933e-04</td><td>singlet</td></tr>\n",
       "\t<tr><th scope=row>10X_P7_7_TTCTCAAAGAGCCCAA</th><td>10X</td><td>37286</td><td>5356</td><td>37286</td><td>5356</td><td>10X_P7_7</td><td>Bladder</td><td></td><td>F</td><td>3-F-56</td><td>⋯</td><td>1</td><td>CL:1001428</td><td>0</td><td>0</td><td>0</td><td>0</td><td>2</td><td>2</td><td>3.372150e-01</td><td>singlet</td></tr>\n",
       "\t<tr><th scope=row>10X_P7_7_TTCTCAACAAACGTGG</th><td>10X</td><td>14565</td><td>3769</td><td>14565</td><td>3769</td><td>10X_P7_7</td><td>Bladder</td><td></td><td>F</td><td>3-F-56</td><td>⋯</td><td>5</td><td>CL:1001319</td><td>0</td><td>0</td><td>0</td><td>0</td><td>5</td><td>5</td><td>2.594182e-01</td><td>singlet</td></tr>\n",
       "\t<tr><th scope=row>10X_P7_7_TTGAACGAGATGTCGG</th><td>10X</td><td> 9558</td><td>2972</td><td> 9558</td><td>2972</td><td>10X_P7_7</td><td>Bladder</td><td></td><td>F</td><td>3-F-56</td><td>⋯</td><td>5</td><td>CL:1001319</td><td>0</td><td>0</td><td>0</td><td>0</td><td>5</td><td>5</td><td>9.185883e-03</td><td>singlet</td></tr>\n",
       "\t<tr><th scope=row>10X_P7_7_TTGCGTCCAAAGTGCG</th><td>10X</td><td>11456</td><td>3241</td><td>11456</td><td>3241</td><td>10X_P7_7</td><td>Bladder</td><td></td><td>F</td><td>3-F-56</td><td>⋯</td><td>5</td><td>CL:1001319</td><td>0</td><td>0</td><td>0</td><td>0</td><td>5</td><td>5</td><td>4.738551e-02</td><td>singlet</td></tr>\n",
       "\t<tr><th scope=row>10X_P7_7_TTGCGTCGTAGGACAC</th><td>10X</td><td>21269</td><td>3633</td><td>21269</td><td>3633</td><td>10X_P7_7</td><td>Bladder</td><td></td><td>F</td><td>3-F-56</td><td>⋯</td><td>1</td><td>CL:1001428</td><td>0</td><td>0</td><td>0</td><td>0</td><td>2</td><td>2</td><td>7.957777e-02</td><td>singlet</td></tr>\n",
       "\t<tr><th scope=row>10X_P7_7_TTGGAACAGTAGATGT</th><td>10X</td><td> 8974</td><td>2831</td><td> 8974</td><td>2831</td><td>10X_P7_7</td><td>Bladder</td><td></td><td>F</td><td>3-F-56</td><td>⋯</td><td>5</td><td>CL:1001319</td><td>0</td><td>0</td><td>0</td><td>0</td><td>5</td><td>5</td><td>2.019937e-01</td><td>singlet</td></tr>\n",
       "\t<tr><th scope=row>10X_P7_7_TTGGAACGTCTAGTCA</th><td>10X</td><td> 6607</td><td>2546</td><td> 6607</td><td>2546</td><td>10X_P7_7</td><td>Bladder</td><td></td><td>F</td><td>3-F-56</td><td>⋯</td><td>0</td><td>CL:1001319</td><td>0</td><td>0</td><td>0</td><td>0</td><td>6</td><td>6</td><td>8.364068e-05</td><td>singlet</td></tr>\n",
       "\t<tr><th scope=row>10X_P7_7_TTGGAACGTGTCGCTG</th><td>10X</td><td>50069</td><td>5641</td><td>50069</td><td>5641</td><td>10X_P7_7</td><td>Bladder</td><td></td><td>F</td><td>3-F-56</td><td>⋯</td><td>4</td><td>CL:1001428</td><td>0</td><td>0</td><td>0</td><td>0</td><td>4</td><td>4</td><td>2.405449e-02</td><td>singlet</td></tr>\n",
       "\t<tr><th scope=row>10X_P7_7_TTGTAGGCACTTGGAT</th><td>10X</td><td> 9666</td><td>3087</td><td> 9666</td><td>3087</td><td>10X_P7_7</td><td>Bladder</td><td></td><td>F</td><td>3-F-56</td><td>⋯</td><td>7</td><td>CL:0000115</td><td>0</td><td>0</td><td>0</td><td>0</td><td>7</td><td>7</td><td>3.867539e-03</td><td>singlet</td></tr>\n",
       "\t<tr><th scope=row>10X_P7_7_TTGTAGGTCATGTAGC</th><td>10X</td><td>22993</td><td>4296</td><td>22993</td><td>4296</td><td>10X_P7_7</td><td>Bladder</td><td></td><td>F</td><td>3-F-56</td><td>⋯</td><td>1</td><td>CL:1001428</td><td>0</td><td>0</td><td>0</td><td>0</td><td>2</td><td>2</td><td>7.739104e-02</td><td>singlet</td></tr>\n",
       "\t<tr><th scope=row>10X_P7_7_TTTACTGGTGTTGAGG</th><td>10X</td><td> 8753</td><td>3005</td><td> 8753</td><td>3005</td><td>10X_P7_7</td><td>Bladder</td><td></td><td>F</td><td>3-F-56</td><td>⋯</td><td>5</td><td>CL:1001319</td><td>0</td><td>0</td><td>0</td><td>0</td><td>5</td><td>5</td><td>9.136181e-04</td><td>singlet</td></tr>\n",
       "\t<tr><th scope=row>10X_P7_7_TTTCCTCCATACCATG</th><td>10X</td><td>14665</td><td>3778</td><td>14665</td><td>3778</td><td>10X_P7_7</td><td>Bladder</td><td></td><td>F</td><td>3-F-56</td><td>⋯</td><td>5</td><td>CL:1001319</td><td>0</td><td>0</td><td>0</td><td>0</td><td>5</td><td>5</td><td>8.029054e-02</td><td>singlet</td></tr>\n",
       "\t<tr><th scope=row>10X_P7_7_TTTGTCAGTTACCGAT</th><td>10X</td><td>30363</td><td>4786</td><td>30363</td><td>4786</td><td>10X_P7_7</td><td>Bladder</td><td></td><td>F</td><td>3-F-56</td><td>⋯</td><td>1</td><td>CL:1001428</td><td>0</td><td>0</td><td>0</td><td>0</td><td>2</td><td>2</td><td>2.783998e-01</td><td>singlet</td></tr>\n",
       "\t<tr><th scope=row>10X_P7_7_TTTGTCATCTGTGCAA</th><td>10X</td><td>16524</td><td>3979</td><td>16524</td><td>3979</td><td>10X_P7_7</td><td>Bladder</td><td></td><td>F</td><td>3-F-56</td><td>⋯</td><td>1</td><td>CL:1001428</td><td>0</td><td>0</td><td>0</td><td>0</td><td>2</td><td>2</td><td>2.000581e-02</td><td>singlet</td></tr>\n",
       "</tbody>\n",
       "</table>\n"
      ],
      "text/latex": [
       "A data.frame: 2392 × 27\n",
       "\\begin{tabular}{r|lllllllllllllllllllll}\n",
       "  & orig.ident & nCount\\_RNA & nFeature\\_RNA & nCounts\\_RNA & nFeatures\\_RNA & channel & tissue & subtissue & mouse.sex & mouse.id & ⋯ & cluster.ids & cell\\_ontology\\_id & percent.mt & percent.rb & percent.hb & percent.plat & RNA\\_snn\\_res.0.5 & seurat\\_clusters & doublet\\_score & doublet\\_class\\\\\n",
       "  & <fct> & <dbl> & <int> & <dbl> & <int> & <fct> & <fct> & <fct> & <fct> & <fct> & ⋯ & <fct> & <fct> & <dbl> & <dbl> & <dbl> & <dbl> & <fct> & <fct> & <dbl> & <fct>\\\\\n",
       "\\hline\n",
       "\t10X\\_P4\\_3\\_AAAGTAGAGATGCCAG & 10X & 10291 & 2853 & 10291 & 2853 & 10X\\_P4\\_3 & Bladder &  & M & 3-M-8 & ⋯ & 0 & CL:1001319 & 0 & 0 & 0 & 0 & 3 & 3 & 0.2572535276 & singlet\\\\\n",
       "\t10X\\_P4\\_3\\_AACTCCCGTCGGGTCT & 10X & 12944 & 3347 & 12944 & 3347 & 10X\\_P4\\_3 & Bladder &  & M & 3-M-8 & ⋯ & 5 & CL:1001319 & 0 & 0 & 0 & 0 & 5 & 5 & 0.1914071590 & singlet\\\\\n",
       "\t10X\\_P4\\_3\\_AACTCTTAGTTGCAGG & 10X & 19594 & 3851 & 19594 & 3851 & 10X\\_P4\\_3 & Bladder &  & M & 3-M-8 & ⋯ & 3 & CL:1001428 & 0 & 0 & 0 & 0 & 4 & 4 & 0.4951692522 & singlet\\\\\n",
       "\t10X\\_P4\\_3\\_AACTCTTTCATAACCG & 10X & 14594 & 3809 & 14594 & 3809 & 10X\\_P4\\_3 & Bladder &  & M & 3-M-8 & ⋯ & 2 & CL:1001319 & 0 & 0 & 0 & 0 & 0 & 0 & 0.2093610018 & singlet\\\\\n",
       "\t10X\\_P4\\_3\\_AAGACCTAGATCCGAG & 10X & 19190 & 3608 & 19190 & 3608 & 10X\\_P4\\_3 & Bladder &  & M & 3-M-8 & ⋯ & 6 & CL:0000738 & 0 & 0 & 0 & 0 & 8 & 8 & 0.3869006932 & singlet\\\\\n",
       "\t10X\\_P4\\_3\\_AAGGAGCGTGCAACTT & 10X &  5005 & 1960 &  5005 & 1960 & 10X\\_P4\\_3 & Bladder &  & M & 3-M-8 & ⋯ & 0 & CL:1001319 & 0 & 0 & 0 & 0 & 3 & 3 & 0.0268953685 & singlet\\\\\n",
       "\t10X\\_P4\\_3\\_AAGTCTGAGATAGTCA & 10X &  6253 & 2236 &  6253 & 2236 & 10X\\_P4\\_3 & Bladder &  & M & 3-M-8 & ⋯ & 4 & CL:1001428 & 0 & 0 & 0 & 0 & 4 & 4 & 0.0088629527 & singlet\\\\\n",
       "\t10X\\_P4\\_3\\_ACAGCTATCATACGGT & 10X & 15910 & 3374 & 15910 & 3374 & 10X\\_P4\\_3 & Bladder &  & M & 3-M-8 & ⋯ & 1 & CL:1001428 & 0 & 0 & 0 & 0 & 2 & 2 & 0.1332673728 & singlet\\\\\n",
       "\t10X\\_P4\\_3\\_ACATACGCAGCTCCGA & 10X &  2881 & 1558 &  2881 & 1558 & 10X\\_P4\\_3 & Bladder &  & M & 3-M-8 & ⋯ & 4 & CL:1001428 & 0 & 0 & 0 & 0 & 2 & 2 & 0.0018370392 & singlet\\\\\n",
       "\t10X\\_P4\\_3\\_ACCAGTACACGTCTCT & 10X &  6894 & 2348 &  6894 & 2348 & 10X\\_P4\\_3 & Bladder &  & M & 3-M-8 & ⋯ & 0 & CL:1001319 & 0 & 0 & 0 & 0 & 3 & 3 & 0.0007252959 & singlet\\\\\n",
       "\t10X\\_P4\\_3\\_ACGAGCCAGATAGCAT & 10X &  9658 & 3141 &  9658 & 3141 & 10X\\_P4\\_3 & Bladder &  & M & 3-M-8 & ⋯ & 0 & CL:1001319 & 0 & 0 & 0 & 0 & 6 & 6 & 0.0964101106 & singlet\\\\\n",
       "\t10X\\_P4\\_3\\_ACGGAGATCGGAATCT & 10X & 11623 & 3357 & 11623 & 3357 & 10X\\_P4\\_3 & Bladder &  & M & 3-M-8 & ⋯ & 2 & CL:1001319 & 0 & 0 & 0 & 0 & 5 & 5 & 0.0307382215 & singlet\\\\\n",
       "\t10X\\_P4\\_3\\_ACGGGCTGTCTGATCA & 10X &  6878 & 2285 &  6878 & 2285 & 10X\\_P4\\_3 & Bladder &  & M & 3-M-8 & ⋯ & 0 & CL:1001319 & 0 & 0 & 0 & 0 & 3 & 3 & 0.0662878603 & singlet\\\\\n",
       "\t10X\\_P4\\_3\\_ACTGAACCATCCGGGT & 10X &  7428 & 2319 &  7428 & 2319 & 10X\\_P4\\_3 & Bladder &  & M & 3-M-8 & ⋯ & 0 & CL:1001319 & 0 & 0 & 0 & 0 & 3 & 3 & 0.0706952289 & singlet\\\\\n",
       "\t10X\\_P4\\_3\\_ACTTTCAAGATGGGTC & 10X & 10302 & 2875 & 10302 & 2875 & 10X\\_P4\\_3 & Bladder &  & M & 3-M-8 & ⋯ & 1 & CL:1001428 & 0 & 0 & 0 & 0 & 2 & 2 & 0.0257869828 & singlet\\\\\n",
       "\t10X\\_P4\\_3\\_AGACGTTTCTTACCGC & 10X & 10187 & 3197 & 10187 & 3197 & 10X\\_P4\\_3 & Bladder &  & M & 3-M-8 & ⋯ & 5 & CL:1001319 & 0 & 0 & 0 & 0 & 5 & 5 & 0.0767364055 & singlet\\\\\n",
       "\t10X\\_P4\\_3\\_AGCGGTCTCTGAGTGT & 10X & 23497 & 4152 & 23497 & 4152 & 10X\\_P4\\_3 & Bladder &  & M & 3-M-8 & ⋯ & 1 & CL:1001428 & 0 & 0 & 0 & 0 & 2 & 2 & 0.0931750983 & singlet\\\\\n",
       "\t10X\\_P4\\_3\\_AGCTTGAAGACTAAGT & 10X &  3102 & 1431 &  3102 & 1431 & 10X\\_P4\\_3 & Bladder &  & M & 3-M-8 & ⋯ & 0 & CL:1001319 & 0 & 0 & 0 & 0 & 3 & 3 & 0.0015825944 & singlet\\\\\n",
       "\t10X\\_P4\\_3\\_AGGGAGTCAATCGGTT & 10X &  6981 & 2323 &  6981 & 2323 & 10X\\_P4\\_3 & Bladder &  & M & 3-M-8 & ⋯ & 0 & CL:1001319 & 0 & 0 & 0 & 0 & 3 & 3 & 0.0513042435 & singlet\\\\\n",
       "\t10X\\_P4\\_3\\_AGGGATGAGTCGCCGT & 10X &  5259 & 1975 &  5259 & 1975 & 10X\\_P4\\_3 & Bladder &  & M & 3-M-8 & ⋯ & 0 & CL:1001319 & 0 & 0 & 0 & 0 & 3 & 3 & 0.1014347225 & singlet\\\\\n",
       "\t10X\\_P4\\_3\\_AGGTCCGAGGACACCA & 10X & 26565 & 5040 & 26565 & 5040 & 10X\\_P4\\_3 & Bladder &  & M & 3-M-8 & ⋯ & 1 & CL:1001428 & 0 & 0 & 0 & 0 & 2 & 2 & 0.2526667118 & singlet\\\\\n",
       "\t10X\\_P4\\_3\\_AGTCTTTAGCTAGTGG & 10X &  2277 & 1098 &  2277 & 1098 & 10X\\_P4\\_3 & Bladder &  & M & 3-M-8 & ⋯ & 0 & CL:1001319 & 0 & 0 & 0 & 0 & 3 & 3 & 0.0018101180 & singlet\\\\\n",
       "\t10X\\_P4\\_3\\_AGTGAGGAGTGTACTC & 10X &  4800 & 1888 &  4800 & 1888 & 10X\\_P4\\_3 & Bladder &  & M & 3-M-8 & ⋯ & 0 & CL:1001319 & 0 & 0 & 0 & 0 & 3 & 3 & 0.0113621801 & singlet\\\\\n",
       "\t10X\\_P4\\_3\\_AGTGTCACAGTATCTG & 10X &  6171 & 2299 &  6171 & 2299 & 10X\\_P4\\_3 & Bladder &  & M & 3-M-8 & ⋯ & 5 & CL:1001319 & 0 & 0 & 0 & 0 & 0 & 0 & 0.2415932119 & singlet\\\\\n",
       "\t10X\\_P4\\_3\\_ATTATCCAGTAAGTAC & 10X & 11461 & 3377 & 11461 & 3377 & 10X\\_P4\\_3 & Bladder &  & M & 3-M-8 & ⋯ & 0 & CL:1001319 & 0 & 0 & 0 & 0 & 6 & 6 & 0.0812971219 & singlet\\\\\n",
       "\t10X\\_P4\\_3\\_ATTTCTGCATGTTGAC & 10X &  9688 & 2940 &  9688 & 2940 & 10X\\_P4\\_3 & Bladder &  & M & 3-M-8 & ⋯ & 0 & CL:1001319 & 0 & 0 & 0 & 0 & 3 & 3 & 0.1752033085 & singlet\\\\\n",
       "\t10X\\_P4\\_3\\_CACACCTAGCCCAATT & 10X & 18589 & 3694 & 18589 & 3694 & 10X\\_P4\\_3 & Bladder &  & M & 3-M-8 & ⋯ & 1 & CL:1001428 & 0 & 0 & 0 & 0 & 2 & 2 & 0.1906752139 & singlet\\\\\n",
       "\t10X\\_P4\\_3\\_CACACCTGTTTGACAC & 10X & 22110 & 4079 & 22110 & 4079 & 10X\\_P4\\_3 & Bladder &  & M & 3-M-8 & ⋯ & 1 & CL:1001428 & 0 & 0 & 0 & 0 & 1 & 1 & 0.1856997162 & singlet\\\\\n",
       "\t10X\\_P4\\_3\\_CACATAGCAGATGGCA & 10X & 17635 & 3750 & 17635 & 3750 & 10X\\_P4\\_3 & Bladder &  & M & 3-M-8 & ⋯ & 4 & CL:1001428 & 0 & 0 & 0 & 0 & 2 & 2 & 0.1076648757 & singlet\\\\\n",
       "\t10X\\_P4\\_3\\_CACCAGGCAAGGCTCC & 10X &  2866 & 1463 &  2866 & 1463 & 10X\\_P4\\_3 & Bladder &  & M & 3-M-8 & ⋯ & 4 & CL:1001428 & 0 & 0 & 0 & 0 & 2 & 2 & 0.0003976770 & singlet\\\\\n",
       "\t⋮ & ⋮ & ⋮ & ⋮ & ⋮ & ⋮ & ⋮ & ⋮ & ⋮ & ⋮ & ⋮ & ⋱ & ⋮ & ⋮ & ⋮ & ⋮ & ⋮ & ⋮ & ⋮ & ⋮ & ⋮ & ⋮\\\\\n",
       "\t10X\\_P7\\_7\\_TGTTCCGAGCTAACTC & 10X & 23228 & 4255 & 23228 & 4255 & 10X\\_P7\\_7 & Bladder &  & F & 3-F-56 & ⋯ & 1 & CL:1001428 & 0 & 0 & 0 & 0 & 2 & 2 & 3.145166e-02 & singlet\\\\\n",
       "\t10X\\_P7\\_7\\_TGTTCCGAGCTCCCAG & 10X & 42860 & 5745 & 42860 & 5745 & 10X\\_P7\\_7 & Bladder &  & F & 3-F-56 & ⋯ & 1 & CL:1001428 & 0 & 0 & 0 & 0 & 2 & 2 & 9.466144e-02 & singlet\\\\\n",
       "\t10X\\_P7\\_7\\_TTAACTCGTCTCTTTA & 10X & 35751 & 5422 & 35751 & 5422 & 10X\\_P7\\_7 & Bladder &  & F & 3-F-56 & ⋯ & 1 & CL:1001428 & 0 & 0 & 0 & 0 & 2 & 2 & 1.392896e-01 & singlet\\\\\n",
       "\t10X\\_P7\\_7\\_TTAACTCTCAGAGACG & 10X & 31618 & 4440 & 31618 & 4440 & 10X\\_P7\\_7 & Bladder &  & F & 3-F-56 & ⋯ & 4 & CL:1001428 & 0 & 0 & 0 & 0 & 4 & 4 & 5.021507e-01 & singlet\\\\\n",
       "\t10X\\_P7\\_7\\_TTAGGACAGACAAAGG & 10X &  9988 & 3201 &  9988 & 3201 & 10X\\_P7\\_7 & Bladder &  & F & 3-F-56 & ⋯ & 5 & CL:1001319 & 0 & 0 & 0 & 0 & 5 & 5 & 9.902639e-03 & singlet\\\\\n",
       "\t10X\\_P7\\_7\\_TTAGGACCAGGGTACA & 10X & 11756 & 2880 & 11756 & 2880 & 10X\\_P7\\_7 & Bladder &  & F & 3-F-56 & ⋯ & 1 & CL:1001428 & 0 & 0 & 0 & 0 & 2 & 2 & 1.451338e-02 & singlet\\\\\n",
       "\t10X\\_P7\\_7\\_TTAGGACGTCTCCCTA & 10X &  8516 & 2732 &  8516 & 2732 & 10X\\_P7\\_7 & Bladder &  & F & 3-F-56 & ⋯ & 5 & CL:1001319 & 0 & 0 & 0 & 0 & 5 & 5 & 1.147757e-03 & singlet\\\\\n",
       "\t10X\\_P7\\_7\\_TTATGCTAGCCATCGC & 10X & 14870 & 3657 & 14870 & 3657 & 10X\\_P7\\_7 & Bladder &  & F & 3-F-56 & ⋯ & 1 & CL:1001428 & 0 & 0 & 0 & 0 & 2 & 2 & 3.870866e-02 & singlet\\\\\n",
       "\t10X\\_P7\\_7\\_TTATGCTCAGATGAGC & 10X & 16126 & 3372 & 16126 & 3372 & 10X\\_P7\\_7 & Bladder &  & F & 3-F-56 & ⋯ & 4 & CL:1001428 & 0 & 0 & 0 & 0 & 2 & 2 & 1.219655e-01 & singlet\\\\\n",
       "\t10X\\_P7\\_7\\_TTATGCTCAGCGTTCG & 10X &  4938 & 1528 &  4938 & 1528 & 10X\\_P7\\_7 & Bladder &  & F & 3-F-56 & ⋯ & 6 & CL:0000738 & 0 & 0 & 0 & 0 & 9 & 9 & 3.446916e-04 & singlet\\\\\n",
       "\t10X\\_P7\\_7\\_TTATGCTTCCGAACGC & 10X & 11558 & 2319 & 11558 & 2319 & 10X\\_P7\\_7 & Bladder &  & F & 3-F-56 & ⋯ & 6 & CL:0000738 & 0 & 0 & 0 & 0 & 8 & 8 & 1.600124e-03 & singlet\\\\\n",
       "\t10X\\_P7\\_7\\_TTATGCTTCCGCGGTA & 10X &  6376 & 2580 &  6376 & 2580 & 10X\\_P7\\_7 & Bladder &  & F & 3-F-56 & ⋯ & 0 & CL:1001319 & 0 & 0 & 0 & 0 & 6 & 6 & 1.091914e-04 & singlet\\\\\n",
       "\t10X\\_P7\\_7\\_TTCCCAGTCATGTGGT & 10X & 34918 & 5002 & 34918 & 5002 & 10X\\_P7\\_7 & Bladder &  & F & 3-F-56 & ⋯ & 1 & CL:1001428 & 0 & 0 & 0 & 0 & 2 & 2 & 3.084705e-01 & singlet\\\\\n",
       "\t10X\\_P7\\_7\\_TTCGGTCAGTGCGTGA & 10X & 14304 & 3511 & 14304 & 3511 & 10X\\_P7\\_7 & Bladder &  & F & 3-F-56 & ⋯ & 5 & CL:1001319 & 0 & 0 & 0 & 0 & 5 & 5 & 2.984263e-01 & singlet\\\\\n",
       "\t10X\\_P7\\_7\\_TTCGGTCCAGCGTAAG & 10X & 22793 & 4562 & 22793 & 4562 & 10X\\_P7\\_7 & Bladder &  & F & 3-F-56 & ⋯ & 1 & CL:1001428 & 0 & 0 & 0 & 0 & 2 & 2 & 1.311160e-01 & singlet\\\\\n",
       "\t10X\\_P7\\_7\\_TTCGGTCTCCGGGTGT & 10X &  8380 & 2764 &  8380 & 2764 & 10X\\_P7\\_7 & Bladder &  & F & 3-F-56 & ⋯ & 5 & CL:1001319 & 0 & 0 & 0 & 0 & 5 & 5 & 2.261933e-04 & singlet\\\\\n",
       "\t10X\\_P7\\_7\\_TTCTCAAAGAGCCCAA & 10X & 37286 & 5356 & 37286 & 5356 & 10X\\_P7\\_7 & Bladder &  & F & 3-F-56 & ⋯ & 1 & CL:1001428 & 0 & 0 & 0 & 0 & 2 & 2 & 3.372150e-01 & singlet\\\\\n",
       "\t10X\\_P7\\_7\\_TTCTCAACAAACGTGG & 10X & 14565 & 3769 & 14565 & 3769 & 10X\\_P7\\_7 & Bladder &  & F & 3-F-56 & ⋯ & 5 & CL:1001319 & 0 & 0 & 0 & 0 & 5 & 5 & 2.594182e-01 & singlet\\\\\n",
       "\t10X\\_P7\\_7\\_TTGAACGAGATGTCGG & 10X &  9558 & 2972 &  9558 & 2972 & 10X\\_P7\\_7 & Bladder &  & F & 3-F-56 & ⋯ & 5 & CL:1001319 & 0 & 0 & 0 & 0 & 5 & 5 & 9.185883e-03 & singlet\\\\\n",
       "\t10X\\_P7\\_7\\_TTGCGTCCAAAGTGCG & 10X & 11456 & 3241 & 11456 & 3241 & 10X\\_P7\\_7 & Bladder &  & F & 3-F-56 & ⋯ & 5 & CL:1001319 & 0 & 0 & 0 & 0 & 5 & 5 & 4.738551e-02 & singlet\\\\\n",
       "\t10X\\_P7\\_7\\_TTGCGTCGTAGGACAC & 10X & 21269 & 3633 & 21269 & 3633 & 10X\\_P7\\_7 & Bladder &  & F & 3-F-56 & ⋯ & 1 & CL:1001428 & 0 & 0 & 0 & 0 & 2 & 2 & 7.957777e-02 & singlet\\\\\n",
       "\t10X\\_P7\\_7\\_TTGGAACAGTAGATGT & 10X &  8974 & 2831 &  8974 & 2831 & 10X\\_P7\\_7 & Bladder &  & F & 3-F-56 & ⋯ & 5 & CL:1001319 & 0 & 0 & 0 & 0 & 5 & 5 & 2.019937e-01 & singlet\\\\\n",
       "\t10X\\_P7\\_7\\_TTGGAACGTCTAGTCA & 10X &  6607 & 2546 &  6607 & 2546 & 10X\\_P7\\_7 & Bladder &  & F & 3-F-56 & ⋯ & 0 & CL:1001319 & 0 & 0 & 0 & 0 & 6 & 6 & 8.364068e-05 & singlet\\\\\n",
       "\t10X\\_P7\\_7\\_TTGGAACGTGTCGCTG & 10X & 50069 & 5641 & 50069 & 5641 & 10X\\_P7\\_7 & Bladder &  & F & 3-F-56 & ⋯ & 4 & CL:1001428 & 0 & 0 & 0 & 0 & 4 & 4 & 2.405449e-02 & singlet\\\\\n",
       "\t10X\\_P7\\_7\\_TTGTAGGCACTTGGAT & 10X &  9666 & 3087 &  9666 & 3087 & 10X\\_P7\\_7 & Bladder &  & F & 3-F-56 & ⋯ & 7 & CL:0000115 & 0 & 0 & 0 & 0 & 7 & 7 & 3.867539e-03 & singlet\\\\\n",
       "\t10X\\_P7\\_7\\_TTGTAGGTCATGTAGC & 10X & 22993 & 4296 & 22993 & 4296 & 10X\\_P7\\_7 & Bladder &  & F & 3-F-56 & ⋯ & 1 & CL:1001428 & 0 & 0 & 0 & 0 & 2 & 2 & 7.739104e-02 & singlet\\\\\n",
       "\t10X\\_P7\\_7\\_TTTACTGGTGTTGAGG & 10X &  8753 & 3005 &  8753 & 3005 & 10X\\_P7\\_7 & Bladder &  & F & 3-F-56 & ⋯ & 5 & CL:1001319 & 0 & 0 & 0 & 0 & 5 & 5 & 9.136181e-04 & singlet\\\\\n",
       "\t10X\\_P7\\_7\\_TTTCCTCCATACCATG & 10X & 14665 & 3778 & 14665 & 3778 & 10X\\_P7\\_7 & Bladder &  & F & 3-F-56 & ⋯ & 5 & CL:1001319 & 0 & 0 & 0 & 0 & 5 & 5 & 8.029054e-02 & singlet\\\\\n",
       "\t10X\\_P7\\_7\\_TTTGTCAGTTACCGAT & 10X & 30363 & 4786 & 30363 & 4786 & 10X\\_P7\\_7 & Bladder &  & F & 3-F-56 & ⋯ & 1 & CL:1001428 & 0 & 0 & 0 & 0 & 2 & 2 & 2.783998e-01 & singlet\\\\\n",
       "\t10X\\_P7\\_7\\_TTTGTCATCTGTGCAA & 10X & 16524 & 3979 & 16524 & 3979 & 10X\\_P7\\_7 & Bladder &  & F & 3-F-56 & ⋯ & 1 & CL:1001428 & 0 & 0 & 0 & 0 & 2 & 2 & 2.000581e-02 & singlet\\\\\n",
       "\\end{tabular}\n"
      ],
      "text/markdown": [
       "\n",
       "A data.frame: 2392 × 27\n",
       "\n",
       "| <!--/--> | orig.ident &lt;fct&gt; | nCount_RNA &lt;dbl&gt; | nFeature_RNA &lt;int&gt; | nCounts_RNA &lt;dbl&gt; | nFeatures_RNA &lt;int&gt; | channel &lt;fct&gt; | tissue &lt;fct&gt; | subtissue &lt;fct&gt; | mouse.sex &lt;fct&gt; | mouse.id &lt;fct&gt; | ⋯ ⋯ | cluster.ids &lt;fct&gt; | cell_ontology_id &lt;fct&gt; | percent.mt &lt;dbl&gt; | percent.rb &lt;dbl&gt; | percent.hb &lt;dbl&gt; | percent.plat &lt;dbl&gt; | RNA_snn_res.0.5 &lt;fct&gt; | seurat_clusters &lt;fct&gt; | doublet_score &lt;dbl&gt; | doublet_class &lt;fct&gt; |\n",
       "|---|---|---|---|---|---|---|---|---|---|---|---|---|---|---|---|---|---|---|---|---|---|\n",
       "| 10X_P4_3_AAAGTAGAGATGCCAG | 10X | 10291 | 2853 | 10291 | 2853 | 10X_P4_3 | Bladder | <!----> | M | 3-M-8 | ⋯ | 0 | CL:1001319 | 0 | 0 | 0 | 0 | 3 | 3 | 0.2572535276 | singlet |\n",
       "| 10X_P4_3_AACTCCCGTCGGGTCT | 10X | 12944 | 3347 | 12944 | 3347 | 10X_P4_3 | Bladder | <!----> | M | 3-M-8 | ⋯ | 5 | CL:1001319 | 0 | 0 | 0 | 0 | 5 | 5 | 0.1914071590 | singlet |\n",
       "| 10X_P4_3_AACTCTTAGTTGCAGG | 10X | 19594 | 3851 | 19594 | 3851 | 10X_P4_3 | Bladder | <!----> | M | 3-M-8 | ⋯ | 3 | CL:1001428 | 0 | 0 | 0 | 0 | 4 | 4 | 0.4951692522 | singlet |\n",
       "| 10X_P4_3_AACTCTTTCATAACCG | 10X | 14594 | 3809 | 14594 | 3809 | 10X_P4_3 | Bladder | <!----> | M | 3-M-8 | ⋯ | 2 | CL:1001319 | 0 | 0 | 0 | 0 | 0 | 0 | 0.2093610018 | singlet |\n",
       "| 10X_P4_3_AAGACCTAGATCCGAG | 10X | 19190 | 3608 | 19190 | 3608 | 10X_P4_3 | Bladder | <!----> | M | 3-M-8 | ⋯ | 6 | CL:0000738 | 0 | 0 | 0 | 0 | 8 | 8 | 0.3869006932 | singlet |\n",
       "| 10X_P4_3_AAGGAGCGTGCAACTT | 10X |  5005 | 1960 |  5005 | 1960 | 10X_P4_3 | Bladder | <!----> | M | 3-M-8 | ⋯ | 0 | CL:1001319 | 0 | 0 | 0 | 0 | 3 | 3 | 0.0268953685 | singlet |\n",
       "| 10X_P4_3_AAGTCTGAGATAGTCA | 10X |  6253 | 2236 |  6253 | 2236 | 10X_P4_3 | Bladder | <!----> | M | 3-M-8 | ⋯ | 4 | CL:1001428 | 0 | 0 | 0 | 0 | 4 | 4 | 0.0088629527 | singlet |\n",
       "| 10X_P4_3_ACAGCTATCATACGGT | 10X | 15910 | 3374 | 15910 | 3374 | 10X_P4_3 | Bladder | <!----> | M | 3-M-8 | ⋯ | 1 | CL:1001428 | 0 | 0 | 0 | 0 | 2 | 2 | 0.1332673728 | singlet |\n",
       "| 10X_P4_3_ACATACGCAGCTCCGA | 10X |  2881 | 1558 |  2881 | 1558 | 10X_P4_3 | Bladder | <!----> | M | 3-M-8 | ⋯ | 4 | CL:1001428 | 0 | 0 | 0 | 0 | 2 | 2 | 0.0018370392 | singlet |\n",
       "| 10X_P4_3_ACCAGTACACGTCTCT | 10X |  6894 | 2348 |  6894 | 2348 | 10X_P4_3 | Bladder | <!----> | M | 3-M-8 | ⋯ | 0 | CL:1001319 | 0 | 0 | 0 | 0 | 3 | 3 | 0.0007252959 | singlet |\n",
       "| 10X_P4_3_ACGAGCCAGATAGCAT | 10X |  9658 | 3141 |  9658 | 3141 | 10X_P4_3 | Bladder | <!----> | M | 3-M-8 | ⋯ | 0 | CL:1001319 | 0 | 0 | 0 | 0 | 6 | 6 | 0.0964101106 | singlet |\n",
       "| 10X_P4_3_ACGGAGATCGGAATCT | 10X | 11623 | 3357 | 11623 | 3357 | 10X_P4_3 | Bladder | <!----> | M | 3-M-8 | ⋯ | 2 | CL:1001319 | 0 | 0 | 0 | 0 | 5 | 5 | 0.0307382215 | singlet |\n",
       "| 10X_P4_3_ACGGGCTGTCTGATCA | 10X |  6878 | 2285 |  6878 | 2285 | 10X_P4_3 | Bladder | <!----> | M | 3-M-8 | ⋯ | 0 | CL:1001319 | 0 | 0 | 0 | 0 | 3 | 3 | 0.0662878603 | singlet |\n",
       "| 10X_P4_3_ACTGAACCATCCGGGT | 10X |  7428 | 2319 |  7428 | 2319 | 10X_P4_3 | Bladder | <!----> | M | 3-M-8 | ⋯ | 0 | CL:1001319 | 0 | 0 | 0 | 0 | 3 | 3 | 0.0706952289 | singlet |\n",
       "| 10X_P4_3_ACTTTCAAGATGGGTC | 10X | 10302 | 2875 | 10302 | 2875 | 10X_P4_3 | Bladder | <!----> | M | 3-M-8 | ⋯ | 1 | CL:1001428 | 0 | 0 | 0 | 0 | 2 | 2 | 0.0257869828 | singlet |\n",
       "| 10X_P4_3_AGACGTTTCTTACCGC | 10X | 10187 | 3197 | 10187 | 3197 | 10X_P4_3 | Bladder | <!----> | M | 3-M-8 | ⋯ | 5 | CL:1001319 | 0 | 0 | 0 | 0 | 5 | 5 | 0.0767364055 | singlet |\n",
       "| 10X_P4_3_AGCGGTCTCTGAGTGT | 10X | 23497 | 4152 | 23497 | 4152 | 10X_P4_3 | Bladder | <!----> | M | 3-M-8 | ⋯ | 1 | CL:1001428 | 0 | 0 | 0 | 0 | 2 | 2 | 0.0931750983 | singlet |\n",
       "| 10X_P4_3_AGCTTGAAGACTAAGT | 10X |  3102 | 1431 |  3102 | 1431 | 10X_P4_3 | Bladder | <!----> | M | 3-M-8 | ⋯ | 0 | CL:1001319 | 0 | 0 | 0 | 0 | 3 | 3 | 0.0015825944 | singlet |\n",
       "| 10X_P4_3_AGGGAGTCAATCGGTT | 10X |  6981 | 2323 |  6981 | 2323 | 10X_P4_3 | Bladder | <!----> | M | 3-M-8 | ⋯ | 0 | CL:1001319 | 0 | 0 | 0 | 0 | 3 | 3 | 0.0513042435 | singlet |\n",
       "| 10X_P4_3_AGGGATGAGTCGCCGT | 10X |  5259 | 1975 |  5259 | 1975 | 10X_P4_3 | Bladder | <!----> | M | 3-M-8 | ⋯ | 0 | CL:1001319 | 0 | 0 | 0 | 0 | 3 | 3 | 0.1014347225 | singlet |\n",
       "| 10X_P4_3_AGGTCCGAGGACACCA | 10X | 26565 | 5040 | 26565 | 5040 | 10X_P4_3 | Bladder | <!----> | M | 3-M-8 | ⋯ | 1 | CL:1001428 | 0 | 0 | 0 | 0 | 2 | 2 | 0.2526667118 | singlet |\n",
       "| 10X_P4_3_AGTCTTTAGCTAGTGG | 10X |  2277 | 1098 |  2277 | 1098 | 10X_P4_3 | Bladder | <!----> | M | 3-M-8 | ⋯ | 0 | CL:1001319 | 0 | 0 | 0 | 0 | 3 | 3 | 0.0018101180 | singlet |\n",
       "| 10X_P4_3_AGTGAGGAGTGTACTC | 10X |  4800 | 1888 |  4800 | 1888 | 10X_P4_3 | Bladder | <!----> | M | 3-M-8 | ⋯ | 0 | CL:1001319 | 0 | 0 | 0 | 0 | 3 | 3 | 0.0113621801 | singlet |\n",
       "| 10X_P4_3_AGTGTCACAGTATCTG | 10X |  6171 | 2299 |  6171 | 2299 | 10X_P4_3 | Bladder | <!----> | M | 3-M-8 | ⋯ | 5 | CL:1001319 | 0 | 0 | 0 | 0 | 0 | 0 | 0.2415932119 | singlet |\n",
       "| 10X_P4_3_ATTATCCAGTAAGTAC | 10X | 11461 | 3377 | 11461 | 3377 | 10X_P4_3 | Bladder | <!----> | M | 3-M-8 | ⋯ | 0 | CL:1001319 | 0 | 0 | 0 | 0 | 6 | 6 | 0.0812971219 | singlet |\n",
       "| 10X_P4_3_ATTTCTGCATGTTGAC | 10X |  9688 | 2940 |  9688 | 2940 | 10X_P4_3 | Bladder | <!----> | M | 3-M-8 | ⋯ | 0 | CL:1001319 | 0 | 0 | 0 | 0 | 3 | 3 | 0.1752033085 | singlet |\n",
       "| 10X_P4_3_CACACCTAGCCCAATT | 10X | 18589 | 3694 | 18589 | 3694 | 10X_P4_3 | Bladder | <!----> | M | 3-M-8 | ⋯ | 1 | CL:1001428 | 0 | 0 | 0 | 0 | 2 | 2 | 0.1906752139 | singlet |\n",
       "| 10X_P4_3_CACACCTGTTTGACAC | 10X | 22110 | 4079 | 22110 | 4079 | 10X_P4_3 | Bladder | <!----> | M | 3-M-8 | ⋯ | 1 | CL:1001428 | 0 | 0 | 0 | 0 | 1 | 1 | 0.1856997162 | singlet |\n",
       "| 10X_P4_3_CACATAGCAGATGGCA | 10X | 17635 | 3750 | 17635 | 3750 | 10X_P4_3 | Bladder | <!----> | M | 3-M-8 | ⋯ | 4 | CL:1001428 | 0 | 0 | 0 | 0 | 2 | 2 | 0.1076648757 | singlet |\n",
       "| 10X_P4_3_CACCAGGCAAGGCTCC | 10X |  2866 | 1463 |  2866 | 1463 | 10X_P4_3 | Bladder | <!----> | M | 3-M-8 | ⋯ | 4 | CL:1001428 | 0 | 0 | 0 | 0 | 2 | 2 | 0.0003976770 | singlet |\n",
       "| ⋮ | ⋮ | ⋮ | ⋮ | ⋮ | ⋮ | ⋮ | ⋮ | ⋮ | ⋮ | ⋮ | ⋱ | ⋮ | ⋮ | ⋮ | ⋮ | ⋮ | ⋮ | ⋮ | ⋮ | ⋮ | ⋮ |\n",
       "| 10X_P7_7_TGTTCCGAGCTAACTC | 10X | 23228 | 4255 | 23228 | 4255 | 10X_P7_7 | Bladder | <!----> | F | 3-F-56 | ⋯ | 1 | CL:1001428 | 0 | 0 | 0 | 0 | 2 | 2 | 3.145166e-02 | singlet |\n",
       "| 10X_P7_7_TGTTCCGAGCTCCCAG | 10X | 42860 | 5745 | 42860 | 5745 | 10X_P7_7 | Bladder | <!----> | F | 3-F-56 | ⋯ | 1 | CL:1001428 | 0 | 0 | 0 | 0 | 2 | 2 | 9.466144e-02 | singlet |\n",
       "| 10X_P7_7_TTAACTCGTCTCTTTA | 10X | 35751 | 5422 | 35751 | 5422 | 10X_P7_7 | Bladder | <!----> | F | 3-F-56 | ⋯ | 1 | CL:1001428 | 0 | 0 | 0 | 0 | 2 | 2 | 1.392896e-01 | singlet |\n",
       "| 10X_P7_7_TTAACTCTCAGAGACG | 10X | 31618 | 4440 | 31618 | 4440 | 10X_P7_7 | Bladder | <!----> | F | 3-F-56 | ⋯ | 4 | CL:1001428 | 0 | 0 | 0 | 0 | 4 | 4 | 5.021507e-01 | singlet |\n",
       "| 10X_P7_7_TTAGGACAGACAAAGG | 10X |  9988 | 3201 |  9988 | 3201 | 10X_P7_7 | Bladder | <!----> | F | 3-F-56 | ⋯ | 5 | CL:1001319 | 0 | 0 | 0 | 0 | 5 | 5 | 9.902639e-03 | singlet |\n",
       "| 10X_P7_7_TTAGGACCAGGGTACA | 10X | 11756 | 2880 | 11756 | 2880 | 10X_P7_7 | Bladder | <!----> | F | 3-F-56 | ⋯ | 1 | CL:1001428 | 0 | 0 | 0 | 0 | 2 | 2 | 1.451338e-02 | singlet |\n",
       "| 10X_P7_7_TTAGGACGTCTCCCTA | 10X |  8516 | 2732 |  8516 | 2732 | 10X_P7_7 | Bladder | <!----> | F | 3-F-56 | ⋯ | 5 | CL:1001319 | 0 | 0 | 0 | 0 | 5 | 5 | 1.147757e-03 | singlet |\n",
       "| 10X_P7_7_TTATGCTAGCCATCGC | 10X | 14870 | 3657 | 14870 | 3657 | 10X_P7_7 | Bladder | <!----> | F | 3-F-56 | ⋯ | 1 | CL:1001428 | 0 | 0 | 0 | 0 | 2 | 2 | 3.870866e-02 | singlet |\n",
       "| 10X_P7_7_TTATGCTCAGATGAGC | 10X | 16126 | 3372 | 16126 | 3372 | 10X_P7_7 | Bladder | <!----> | F | 3-F-56 | ⋯ | 4 | CL:1001428 | 0 | 0 | 0 | 0 | 2 | 2 | 1.219655e-01 | singlet |\n",
       "| 10X_P7_7_TTATGCTCAGCGTTCG | 10X |  4938 | 1528 |  4938 | 1528 | 10X_P7_7 | Bladder | <!----> | F | 3-F-56 | ⋯ | 6 | CL:0000738 | 0 | 0 | 0 | 0 | 9 | 9 | 3.446916e-04 | singlet |\n",
       "| 10X_P7_7_TTATGCTTCCGAACGC | 10X | 11558 | 2319 | 11558 | 2319 | 10X_P7_7 | Bladder | <!----> | F | 3-F-56 | ⋯ | 6 | CL:0000738 | 0 | 0 | 0 | 0 | 8 | 8 | 1.600124e-03 | singlet |\n",
       "| 10X_P7_7_TTATGCTTCCGCGGTA | 10X |  6376 | 2580 |  6376 | 2580 | 10X_P7_7 | Bladder | <!----> | F | 3-F-56 | ⋯ | 0 | CL:1001319 | 0 | 0 | 0 | 0 | 6 | 6 | 1.091914e-04 | singlet |\n",
       "| 10X_P7_7_TTCCCAGTCATGTGGT | 10X | 34918 | 5002 | 34918 | 5002 | 10X_P7_7 | Bladder | <!----> | F | 3-F-56 | ⋯ | 1 | CL:1001428 | 0 | 0 | 0 | 0 | 2 | 2 | 3.084705e-01 | singlet |\n",
       "| 10X_P7_7_TTCGGTCAGTGCGTGA | 10X | 14304 | 3511 | 14304 | 3511 | 10X_P7_7 | Bladder | <!----> | F | 3-F-56 | ⋯ | 5 | CL:1001319 | 0 | 0 | 0 | 0 | 5 | 5 | 2.984263e-01 | singlet |\n",
       "| 10X_P7_7_TTCGGTCCAGCGTAAG | 10X | 22793 | 4562 | 22793 | 4562 | 10X_P7_7 | Bladder | <!----> | F | 3-F-56 | ⋯ | 1 | CL:1001428 | 0 | 0 | 0 | 0 | 2 | 2 | 1.311160e-01 | singlet |\n",
       "| 10X_P7_7_TTCGGTCTCCGGGTGT | 10X |  8380 | 2764 |  8380 | 2764 | 10X_P7_7 | Bladder | <!----> | F | 3-F-56 | ⋯ | 5 | CL:1001319 | 0 | 0 | 0 | 0 | 5 | 5 | 2.261933e-04 | singlet |\n",
       "| 10X_P7_7_TTCTCAAAGAGCCCAA | 10X | 37286 | 5356 | 37286 | 5356 | 10X_P7_7 | Bladder | <!----> | F | 3-F-56 | ⋯ | 1 | CL:1001428 | 0 | 0 | 0 | 0 | 2 | 2 | 3.372150e-01 | singlet |\n",
       "| 10X_P7_7_TTCTCAACAAACGTGG | 10X | 14565 | 3769 | 14565 | 3769 | 10X_P7_7 | Bladder | <!----> | F | 3-F-56 | ⋯ | 5 | CL:1001319 | 0 | 0 | 0 | 0 | 5 | 5 | 2.594182e-01 | singlet |\n",
       "| 10X_P7_7_TTGAACGAGATGTCGG | 10X |  9558 | 2972 |  9558 | 2972 | 10X_P7_7 | Bladder | <!----> | F | 3-F-56 | ⋯ | 5 | CL:1001319 | 0 | 0 | 0 | 0 | 5 | 5 | 9.185883e-03 | singlet |\n",
       "| 10X_P7_7_TTGCGTCCAAAGTGCG | 10X | 11456 | 3241 | 11456 | 3241 | 10X_P7_7 | Bladder | <!----> | F | 3-F-56 | ⋯ | 5 | CL:1001319 | 0 | 0 | 0 | 0 | 5 | 5 | 4.738551e-02 | singlet |\n",
       "| 10X_P7_7_TTGCGTCGTAGGACAC | 10X | 21269 | 3633 | 21269 | 3633 | 10X_P7_7 | Bladder | <!----> | F | 3-F-56 | ⋯ | 1 | CL:1001428 | 0 | 0 | 0 | 0 | 2 | 2 | 7.957777e-02 | singlet |\n",
       "| 10X_P7_7_TTGGAACAGTAGATGT | 10X |  8974 | 2831 |  8974 | 2831 | 10X_P7_7 | Bladder | <!----> | F | 3-F-56 | ⋯ | 5 | CL:1001319 | 0 | 0 | 0 | 0 | 5 | 5 | 2.019937e-01 | singlet |\n",
       "| 10X_P7_7_TTGGAACGTCTAGTCA | 10X |  6607 | 2546 |  6607 | 2546 | 10X_P7_7 | Bladder | <!----> | F | 3-F-56 | ⋯ | 0 | CL:1001319 | 0 | 0 | 0 | 0 | 6 | 6 | 8.364068e-05 | singlet |\n",
       "| 10X_P7_7_TTGGAACGTGTCGCTG | 10X | 50069 | 5641 | 50069 | 5641 | 10X_P7_7 | Bladder | <!----> | F | 3-F-56 | ⋯ | 4 | CL:1001428 | 0 | 0 | 0 | 0 | 4 | 4 | 2.405449e-02 | singlet |\n",
       "| 10X_P7_7_TTGTAGGCACTTGGAT | 10X |  9666 | 3087 |  9666 | 3087 | 10X_P7_7 | Bladder | <!----> | F | 3-F-56 | ⋯ | 7 | CL:0000115 | 0 | 0 | 0 | 0 | 7 | 7 | 3.867539e-03 | singlet |\n",
       "| 10X_P7_7_TTGTAGGTCATGTAGC | 10X | 22993 | 4296 | 22993 | 4296 | 10X_P7_7 | Bladder | <!----> | F | 3-F-56 | ⋯ | 1 | CL:1001428 | 0 | 0 | 0 | 0 | 2 | 2 | 7.739104e-02 | singlet |\n",
       "| 10X_P7_7_TTTACTGGTGTTGAGG | 10X |  8753 | 3005 |  8753 | 3005 | 10X_P7_7 | Bladder | <!----> | F | 3-F-56 | ⋯ | 5 | CL:1001319 | 0 | 0 | 0 | 0 | 5 | 5 | 9.136181e-04 | singlet |\n",
       "| 10X_P7_7_TTTCCTCCATACCATG | 10X | 14665 | 3778 | 14665 | 3778 | 10X_P7_7 | Bladder | <!----> | F | 3-F-56 | ⋯ | 5 | CL:1001319 | 0 | 0 | 0 | 0 | 5 | 5 | 8.029054e-02 | singlet |\n",
       "| 10X_P7_7_TTTGTCAGTTACCGAT | 10X | 30363 | 4786 | 30363 | 4786 | 10X_P7_7 | Bladder | <!----> | F | 3-F-56 | ⋯ | 1 | CL:1001428 | 0 | 0 | 0 | 0 | 2 | 2 | 2.783998e-01 | singlet |\n",
       "| 10X_P7_7_TTTGTCATCTGTGCAA | 10X | 16524 | 3979 | 16524 | 3979 | 10X_P7_7 | Bladder | <!----> | F | 3-F-56 | ⋯ | 1 | CL:1001428 | 0 | 0 | 0 | 0 | 2 | 2 | 2.000581e-02 | singlet |\n",
       "\n"
      ],
      "text/plain": [
       "                          orig.ident nCount_RNA nFeature_RNA nCounts_RNA\n",
       "10X_P4_3_AAAGTAGAGATGCCAG 10X        10291      2853         10291      \n",
       "10X_P4_3_AACTCCCGTCGGGTCT 10X        12944      3347         12944      \n",
       "10X_P4_3_AACTCTTAGTTGCAGG 10X        19594      3851         19594      \n",
       "10X_P4_3_AACTCTTTCATAACCG 10X        14594      3809         14594      \n",
       "10X_P4_3_AAGACCTAGATCCGAG 10X        19190      3608         19190      \n",
       "10X_P4_3_AAGGAGCGTGCAACTT 10X         5005      1960          5005      \n",
       "10X_P4_3_AAGTCTGAGATAGTCA 10X         6253      2236          6253      \n",
       "10X_P4_3_ACAGCTATCATACGGT 10X        15910      3374         15910      \n",
       "10X_P4_3_ACATACGCAGCTCCGA 10X         2881      1558          2881      \n",
       "10X_P4_3_ACCAGTACACGTCTCT 10X         6894      2348          6894      \n",
       "10X_P4_3_ACGAGCCAGATAGCAT 10X         9658      3141          9658      \n",
       "10X_P4_3_ACGGAGATCGGAATCT 10X        11623      3357         11623      \n",
       "10X_P4_3_ACGGGCTGTCTGATCA 10X         6878      2285          6878      \n",
       "10X_P4_3_ACTGAACCATCCGGGT 10X         7428      2319          7428      \n",
       "10X_P4_3_ACTTTCAAGATGGGTC 10X        10302      2875         10302      \n",
       "10X_P4_3_AGACGTTTCTTACCGC 10X        10187      3197         10187      \n",
       "10X_P4_3_AGCGGTCTCTGAGTGT 10X        23497      4152         23497      \n",
       "10X_P4_3_AGCTTGAAGACTAAGT 10X         3102      1431          3102      \n",
       "10X_P4_3_AGGGAGTCAATCGGTT 10X         6981      2323          6981      \n",
       "10X_P4_3_AGGGATGAGTCGCCGT 10X         5259      1975          5259      \n",
       "10X_P4_3_AGGTCCGAGGACACCA 10X        26565      5040         26565      \n",
       "10X_P4_3_AGTCTTTAGCTAGTGG 10X         2277      1098          2277      \n",
       "10X_P4_3_AGTGAGGAGTGTACTC 10X         4800      1888          4800      \n",
       "10X_P4_3_AGTGTCACAGTATCTG 10X         6171      2299          6171      \n",
       "10X_P4_3_ATTATCCAGTAAGTAC 10X        11461      3377         11461      \n",
       "10X_P4_3_ATTTCTGCATGTTGAC 10X         9688      2940          9688      \n",
       "10X_P4_3_CACACCTAGCCCAATT 10X        18589      3694         18589      \n",
       "10X_P4_3_CACACCTGTTTGACAC 10X        22110      4079         22110      \n",
       "10X_P4_3_CACATAGCAGATGGCA 10X        17635      3750         17635      \n",
       "10X_P4_3_CACCAGGCAAGGCTCC 10X         2866      1463          2866      \n",
       "⋮                         ⋮          ⋮          ⋮            ⋮          \n",
       "10X_P7_7_TGTTCCGAGCTAACTC 10X        23228      4255         23228      \n",
       "10X_P7_7_TGTTCCGAGCTCCCAG 10X        42860      5745         42860      \n",
       "10X_P7_7_TTAACTCGTCTCTTTA 10X        35751      5422         35751      \n",
       "10X_P7_7_TTAACTCTCAGAGACG 10X        31618      4440         31618      \n",
       "10X_P7_7_TTAGGACAGACAAAGG 10X         9988      3201          9988      \n",
       "10X_P7_7_TTAGGACCAGGGTACA 10X        11756      2880         11756      \n",
       "10X_P7_7_TTAGGACGTCTCCCTA 10X         8516      2732          8516      \n",
       "10X_P7_7_TTATGCTAGCCATCGC 10X        14870      3657         14870      \n",
       "10X_P7_7_TTATGCTCAGATGAGC 10X        16126      3372         16126      \n",
       "10X_P7_7_TTATGCTCAGCGTTCG 10X         4938      1528          4938      \n",
       "10X_P7_7_TTATGCTTCCGAACGC 10X        11558      2319         11558      \n",
       "10X_P7_7_TTATGCTTCCGCGGTA 10X         6376      2580          6376      \n",
       "10X_P7_7_TTCCCAGTCATGTGGT 10X        34918      5002         34918      \n",
       "10X_P7_7_TTCGGTCAGTGCGTGA 10X        14304      3511         14304      \n",
       "10X_P7_7_TTCGGTCCAGCGTAAG 10X        22793      4562         22793      \n",
       "10X_P7_7_TTCGGTCTCCGGGTGT 10X         8380      2764          8380      \n",
       "10X_P7_7_TTCTCAAAGAGCCCAA 10X        37286      5356         37286      \n",
       "10X_P7_7_TTCTCAACAAACGTGG 10X        14565      3769         14565      \n",
       "10X_P7_7_TTGAACGAGATGTCGG 10X         9558      2972          9558      \n",
       "10X_P7_7_TTGCGTCCAAAGTGCG 10X        11456      3241         11456      \n",
       "10X_P7_7_TTGCGTCGTAGGACAC 10X        21269      3633         21269      \n",
       "10X_P7_7_TTGGAACAGTAGATGT 10X         8974      2831          8974      \n",
       "10X_P7_7_TTGGAACGTCTAGTCA 10X         6607      2546          6607      \n",
       "10X_P7_7_TTGGAACGTGTCGCTG 10X        50069      5641         50069      \n",
       "10X_P7_7_TTGTAGGCACTTGGAT 10X         9666      3087          9666      \n",
       "10X_P7_7_TTGTAGGTCATGTAGC 10X        22993      4296         22993      \n",
       "10X_P7_7_TTTACTGGTGTTGAGG 10X         8753      3005          8753      \n",
       "10X_P7_7_TTTCCTCCATACCATG 10X        14665      3778         14665      \n",
       "10X_P7_7_TTTGTCAGTTACCGAT 10X        30363      4786         30363      \n",
       "10X_P7_7_TTTGTCATCTGTGCAA 10X        16524      3979         16524      \n",
       "                          nFeatures_RNA channel  tissue  subtissue mouse.sex\n",
       "10X_P4_3_AAAGTAGAGATGCCAG 2853          10X_P4_3 Bladder           M        \n",
       "10X_P4_3_AACTCCCGTCGGGTCT 3347          10X_P4_3 Bladder           M        \n",
       "10X_P4_3_AACTCTTAGTTGCAGG 3851          10X_P4_3 Bladder           M        \n",
       "10X_P4_3_AACTCTTTCATAACCG 3809          10X_P4_3 Bladder           M        \n",
       "10X_P4_3_AAGACCTAGATCCGAG 3608          10X_P4_3 Bladder           M        \n",
       "10X_P4_3_AAGGAGCGTGCAACTT 1960          10X_P4_3 Bladder           M        \n",
       "10X_P4_3_AAGTCTGAGATAGTCA 2236          10X_P4_3 Bladder           M        \n",
       "10X_P4_3_ACAGCTATCATACGGT 3374          10X_P4_3 Bladder           M        \n",
       "10X_P4_3_ACATACGCAGCTCCGA 1558          10X_P4_3 Bladder           M        \n",
       "10X_P4_3_ACCAGTACACGTCTCT 2348          10X_P4_3 Bladder           M        \n",
       "10X_P4_3_ACGAGCCAGATAGCAT 3141          10X_P4_3 Bladder           M        \n",
       "10X_P4_3_ACGGAGATCGGAATCT 3357          10X_P4_3 Bladder           M        \n",
       "10X_P4_3_ACGGGCTGTCTGATCA 2285          10X_P4_3 Bladder           M        \n",
       "10X_P4_3_ACTGAACCATCCGGGT 2319          10X_P4_3 Bladder           M        \n",
       "10X_P4_3_ACTTTCAAGATGGGTC 2875          10X_P4_3 Bladder           M        \n",
       "10X_P4_3_AGACGTTTCTTACCGC 3197          10X_P4_3 Bladder           M        \n",
       "10X_P4_3_AGCGGTCTCTGAGTGT 4152          10X_P4_3 Bladder           M        \n",
       "10X_P4_3_AGCTTGAAGACTAAGT 1431          10X_P4_3 Bladder           M        \n",
       "10X_P4_3_AGGGAGTCAATCGGTT 2323          10X_P4_3 Bladder           M        \n",
       "10X_P4_3_AGGGATGAGTCGCCGT 1975          10X_P4_3 Bladder           M        \n",
       "10X_P4_3_AGGTCCGAGGACACCA 5040          10X_P4_3 Bladder           M        \n",
       "10X_P4_3_AGTCTTTAGCTAGTGG 1098          10X_P4_3 Bladder           M        \n",
       "10X_P4_3_AGTGAGGAGTGTACTC 1888          10X_P4_3 Bladder           M        \n",
       "10X_P4_3_AGTGTCACAGTATCTG 2299          10X_P4_3 Bladder           M        \n",
       "10X_P4_3_ATTATCCAGTAAGTAC 3377          10X_P4_3 Bladder           M        \n",
       "10X_P4_3_ATTTCTGCATGTTGAC 2940          10X_P4_3 Bladder           M        \n",
       "10X_P4_3_CACACCTAGCCCAATT 3694          10X_P4_3 Bladder           M        \n",
       "10X_P4_3_CACACCTGTTTGACAC 4079          10X_P4_3 Bladder           M        \n",
       "10X_P4_3_CACATAGCAGATGGCA 3750          10X_P4_3 Bladder           M        \n",
       "10X_P4_3_CACCAGGCAAGGCTCC 1463          10X_P4_3 Bladder           M        \n",
       "⋮                         ⋮             ⋮        ⋮       ⋮         ⋮        \n",
       "10X_P7_7_TGTTCCGAGCTAACTC 4255          10X_P7_7 Bladder           F        \n",
       "10X_P7_7_TGTTCCGAGCTCCCAG 5745          10X_P7_7 Bladder           F        \n",
       "10X_P7_7_TTAACTCGTCTCTTTA 5422          10X_P7_7 Bladder           F        \n",
       "10X_P7_7_TTAACTCTCAGAGACG 4440          10X_P7_7 Bladder           F        \n",
       "10X_P7_7_TTAGGACAGACAAAGG 3201          10X_P7_7 Bladder           F        \n",
       "10X_P7_7_TTAGGACCAGGGTACA 2880          10X_P7_7 Bladder           F        \n",
       "10X_P7_7_TTAGGACGTCTCCCTA 2732          10X_P7_7 Bladder           F        \n",
       "10X_P7_7_TTATGCTAGCCATCGC 3657          10X_P7_7 Bladder           F        \n",
       "10X_P7_7_TTATGCTCAGATGAGC 3372          10X_P7_7 Bladder           F        \n",
       "10X_P7_7_TTATGCTCAGCGTTCG 1528          10X_P7_7 Bladder           F        \n",
       "10X_P7_7_TTATGCTTCCGAACGC 2319          10X_P7_7 Bladder           F        \n",
       "10X_P7_7_TTATGCTTCCGCGGTA 2580          10X_P7_7 Bladder           F        \n",
       "10X_P7_7_TTCCCAGTCATGTGGT 5002          10X_P7_7 Bladder           F        \n",
       "10X_P7_7_TTCGGTCAGTGCGTGA 3511          10X_P7_7 Bladder           F        \n",
       "10X_P7_7_TTCGGTCCAGCGTAAG 4562          10X_P7_7 Bladder           F        \n",
       "10X_P7_7_TTCGGTCTCCGGGTGT 2764          10X_P7_7 Bladder           F        \n",
       "10X_P7_7_TTCTCAAAGAGCCCAA 5356          10X_P7_7 Bladder           F        \n",
       "10X_P7_7_TTCTCAACAAACGTGG 3769          10X_P7_7 Bladder           F        \n",
       "10X_P7_7_TTGAACGAGATGTCGG 2972          10X_P7_7 Bladder           F        \n",
       "10X_P7_7_TTGCGTCCAAAGTGCG 3241          10X_P7_7 Bladder           F        \n",
       "10X_P7_7_TTGCGTCGTAGGACAC 3633          10X_P7_7 Bladder           F        \n",
       "10X_P7_7_TTGGAACAGTAGATGT 2831          10X_P7_7 Bladder           F        \n",
       "10X_P7_7_TTGGAACGTCTAGTCA 2546          10X_P7_7 Bladder           F        \n",
       "10X_P7_7_TTGGAACGTGTCGCTG 5641          10X_P7_7 Bladder           F        \n",
       "10X_P7_7_TTGTAGGCACTTGGAT 3087          10X_P7_7 Bladder           F        \n",
       "10X_P7_7_TTGTAGGTCATGTAGC 4296          10X_P7_7 Bladder           F        \n",
       "10X_P7_7_TTTACTGGTGTTGAGG 3005          10X_P7_7 Bladder           F        \n",
       "10X_P7_7_TTTCCTCCATACCATG 3778          10X_P7_7 Bladder           F        \n",
       "10X_P7_7_TTTGTCAGTTACCGAT 4786          10X_P7_7 Bladder           F        \n",
       "10X_P7_7_TTTGTCATCTGTGCAA 3979          10X_P7_7 Bladder           F        \n",
       "                          mouse.id ⋯ cluster.ids cell_ontology_id percent.mt\n",
       "10X_P4_3_AAAGTAGAGATGCCAG 3-M-8    ⋯ 0           CL:1001319       0         \n",
       "10X_P4_3_AACTCCCGTCGGGTCT 3-M-8    ⋯ 5           CL:1001319       0         \n",
       "10X_P4_3_AACTCTTAGTTGCAGG 3-M-8    ⋯ 3           CL:1001428       0         \n",
       "10X_P4_3_AACTCTTTCATAACCG 3-M-8    ⋯ 2           CL:1001319       0         \n",
       "10X_P4_3_AAGACCTAGATCCGAG 3-M-8    ⋯ 6           CL:0000738       0         \n",
       "10X_P4_3_AAGGAGCGTGCAACTT 3-M-8    ⋯ 0           CL:1001319       0         \n",
       "10X_P4_3_AAGTCTGAGATAGTCA 3-M-8    ⋯ 4           CL:1001428       0         \n",
       "10X_P4_3_ACAGCTATCATACGGT 3-M-8    ⋯ 1           CL:1001428       0         \n",
       "10X_P4_3_ACATACGCAGCTCCGA 3-M-8    ⋯ 4           CL:1001428       0         \n",
       "10X_P4_3_ACCAGTACACGTCTCT 3-M-8    ⋯ 0           CL:1001319       0         \n",
       "10X_P4_3_ACGAGCCAGATAGCAT 3-M-8    ⋯ 0           CL:1001319       0         \n",
       "10X_P4_3_ACGGAGATCGGAATCT 3-M-8    ⋯ 2           CL:1001319       0         \n",
       "10X_P4_3_ACGGGCTGTCTGATCA 3-M-8    ⋯ 0           CL:1001319       0         \n",
       "10X_P4_3_ACTGAACCATCCGGGT 3-M-8    ⋯ 0           CL:1001319       0         \n",
       "10X_P4_3_ACTTTCAAGATGGGTC 3-M-8    ⋯ 1           CL:1001428       0         \n",
       "10X_P4_3_AGACGTTTCTTACCGC 3-M-8    ⋯ 5           CL:1001319       0         \n",
       "10X_P4_3_AGCGGTCTCTGAGTGT 3-M-8    ⋯ 1           CL:1001428       0         \n",
       "10X_P4_3_AGCTTGAAGACTAAGT 3-M-8    ⋯ 0           CL:1001319       0         \n",
       "10X_P4_3_AGGGAGTCAATCGGTT 3-M-8    ⋯ 0           CL:1001319       0         \n",
       "10X_P4_3_AGGGATGAGTCGCCGT 3-M-8    ⋯ 0           CL:1001319       0         \n",
       "10X_P4_3_AGGTCCGAGGACACCA 3-M-8    ⋯ 1           CL:1001428       0         \n",
       "10X_P4_3_AGTCTTTAGCTAGTGG 3-M-8    ⋯ 0           CL:1001319       0         \n",
       "10X_P4_3_AGTGAGGAGTGTACTC 3-M-8    ⋯ 0           CL:1001319       0         \n",
       "10X_P4_3_AGTGTCACAGTATCTG 3-M-8    ⋯ 5           CL:1001319       0         \n",
       "10X_P4_3_ATTATCCAGTAAGTAC 3-M-8    ⋯ 0           CL:1001319       0         \n",
       "10X_P4_3_ATTTCTGCATGTTGAC 3-M-8    ⋯ 0           CL:1001319       0         \n",
       "10X_P4_3_CACACCTAGCCCAATT 3-M-8    ⋯ 1           CL:1001428       0         \n",
       "10X_P4_3_CACACCTGTTTGACAC 3-M-8    ⋯ 1           CL:1001428       0         \n",
       "10X_P4_3_CACATAGCAGATGGCA 3-M-8    ⋯ 4           CL:1001428       0         \n",
       "10X_P4_3_CACCAGGCAAGGCTCC 3-M-8    ⋯ 4           CL:1001428       0         \n",
       "⋮                         ⋮        ⋱ ⋮           ⋮                ⋮         \n",
       "10X_P7_7_TGTTCCGAGCTAACTC 3-F-56   ⋯ 1           CL:1001428       0         \n",
       "10X_P7_7_TGTTCCGAGCTCCCAG 3-F-56   ⋯ 1           CL:1001428       0         \n",
       "10X_P7_7_TTAACTCGTCTCTTTA 3-F-56   ⋯ 1           CL:1001428       0         \n",
       "10X_P7_7_TTAACTCTCAGAGACG 3-F-56   ⋯ 4           CL:1001428       0         \n",
       "10X_P7_7_TTAGGACAGACAAAGG 3-F-56   ⋯ 5           CL:1001319       0         \n",
       "10X_P7_7_TTAGGACCAGGGTACA 3-F-56   ⋯ 1           CL:1001428       0         \n",
       "10X_P7_7_TTAGGACGTCTCCCTA 3-F-56   ⋯ 5           CL:1001319       0         \n",
       "10X_P7_7_TTATGCTAGCCATCGC 3-F-56   ⋯ 1           CL:1001428       0         \n",
       "10X_P7_7_TTATGCTCAGATGAGC 3-F-56   ⋯ 4           CL:1001428       0         \n",
       "10X_P7_7_TTATGCTCAGCGTTCG 3-F-56   ⋯ 6           CL:0000738       0         \n",
       "10X_P7_7_TTATGCTTCCGAACGC 3-F-56   ⋯ 6           CL:0000738       0         \n",
       "10X_P7_7_TTATGCTTCCGCGGTA 3-F-56   ⋯ 0           CL:1001319       0         \n",
       "10X_P7_7_TTCCCAGTCATGTGGT 3-F-56   ⋯ 1           CL:1001428       0         \n",
       "10X_P7_7_TTCGGTCAGTGCGTGA 3-F-56   ⋯ 5           CL:1001319       0         \n",
       "10X_P7_7_TTCGGTCCAGCGTAAG 3-F-56   ⋯ 1           CL:1001428       0         \n",
       "10X_P7_7_TTCGGTCTCCGGGTGT 3-F-56   ⋯ 5           CL:1001319       0         \n",
       "10X_P7_7_TTCTCAAAGAGCCCAA 3-F-56   ⋯ 1           CL:1001428       0         \n",
       "10X_P7_7_TTCTCAACAAACGTGG 3-F-56   ⋯ 5           CL:1001319       0         \n",
       "10X_P7_7_TTGAACGAGATGTCGG 3-F-56   ⋯ 5           CL:1001319       0         \n",
       "10X_P7_7_TTGCGTCCAAAGTGCG 3-F-56   ⋯ 5           CL:1001319       0         \n",
       "10X_P7_7_TTGCGTCGTAGGACAC 3-F-56   ⋯ 1           CL:1001428       0         \n",
       "10X_P7_7_TTGGAACAGTAGATGT 3-F-56   ⋯ 5           CL:1001319       0         \n",
       "10X_P7_7_TTGGAACGTCTAGTCA 3-F-56   ⋯ 0           CL:1001319       0         \n",
       "10X_P7_7_TTGGAACGTGTCGCTG 3-F-56   ⋯ 4           CL:1001428       0         \n",
       "10X_P7_7_TTGTAGGCACTTGGAT 3-F-56   ⋯ 7           CL:0000115       0         \n",
       "10X_P7_7_TTGTAGGTCATGTAGC 3-F-56   ⋯ 1           CL:1001428       0         \n",
       "10X_P7_7_TTTACTGGTGTTGAGG 3-F-56   ⋯ 5           CL:1001319       0         \n",
       "10X_P7_7_TTTCCTCCATACCATG 3-F-56   ⋯ 5           CL:1001319       0         \n",
       "10X_P7_7_TTTGTCAGTTACCGAT 3-F-56   ⋯ 1           CL:1001428       0         \n",
       "10X_P7_7_TTTGTCATCTGTGCAA 3-F-56   ⋯ 1           CL:1001428       0         \n",
       "                          percent.rb percent.hb percent.plat RNA_snn_res.0.5\n",
       "10X_P4_3_AAAGTAGAGATGCCAG 0          0          0            3              \n",
       "10X_P4_3_AACTCCCGTCGGGTCT 0          0          0            5              \n",
       "10X_P4_3_AACTCTTAGTTGCAGG 0          0          0            4              \n",
       "10X_P4_3_AACTCTTTCATAACCG 0          0          0            0              \n",
       "10X_P4_3_AAGACCTAGATCCGAG 0          0          0            8              \n",
       "10X_P4_3_AAGGAGCGTGCAACTT 0          0          0            3              \n",
       "10X_P4_3_AAGTCTGAGATAGTCA 0          0          0            4              \n",
       "10X_P4_3_ACAGCTATCATACGGT 0          0          0            2              \n",
       "10X_P4_3_ACATACGCAGCTCCGA 0          0          0            2              \n",
       "10X_P4_3_ACCAGTACACGTCTCT 0          0          0            3              \n",
       "10X_P4_3_ACGAGCCAGATAGCAT 0          0          0            6              \n",
       "10X_P4_3_ACGGAGATCGGAATCT 0          0          0            5              \n",
       "10X_P4_3_ACGGGCTGTCTGATCA 0          0          0            3              \n",
       "10X_P4_3_ACTGAACCATCCGGGT 0          0          0            3              \n",
       "10X_P4_3_ACTTTCAAGATGGGTC 0          0          0            2              \n",
       "10X_P4_3_AGACGTTTCTTACCGC 0          0          0            5              \n",
       "10X_P4_3_AGCGGTCTCTGAGTGT 0          0          0            2              \n",
       "10X_P4_3_AGCTTGAAGACTAAGT 0          0          0            3              \n",
       "10X_P4_3_AGGGAGTCAATCGGTT 0          0          0            3              \n",
       "10X_P4_3_AGGGATGAGTCGCCGT 0          0          0            3              \n",
       "10X_P4_3_AGGTCCGAGGACACCA 0          0          0            2              \n",
       "10X_P4_3_AGTCTTTAGCTAGTGG 0          0          0            3              \n",
       "10X_P4_3_AGTGAGGAGTGTACTC 0          0          0            3              \n",
       "10X_P4_3_AGTGTCACAGTATCTG 0          0          0            0              \n",
       "10X_P4_3_ATTATCCAGTAAGTAC 0          0          0            6              \n",
       "10X_P4_3_ATTTCTGCATGTTGAC 0          0          0            3              \n",
       "10X_P4_3_CACACCTAGCCCAATT 0          0          0            2              \n",
       "10X_P4_3_CACACCTGTTTGACAC 0          0          0            1              \n",
       "10X_P4_3_CACATAGCAGATGGCA 0          0          0            2              \n",
       "10X_P4_3_CACCAGGCAAGGCTCC 0          0          0            2              \n",
       "⋮                         ⋮          ⋮          ⋮            ⋮              \n",
       "10X_P7_7_TGTTCCGAGCTAACTC 0          0          0            2              \n",
       "10X_P7_7_TGTTCCGAGCTCCCAG 0          0          0            2              \n",
       "10X_P7_7_TTAACTCGTCTCTTTA 0          0          0            2              \n",
       "10X_P7_7_TTAACTCTCAGAGACG 0          0          0            4              \n",
       "10X_P7_7_TTAGGACAGACAAAGG 0          0          0            5              \n",
       "10X_P7_7_TTAGGACCAGGGTACA 0          0          0            2              \n",
       "10X_P7_7_TTAGGACGTCTCCCTA 0          0          0            5              \n",
       "10X_P7_7_TTATGCTAGCCATCGC 0          0          0            2              \n",
       "10X_P7_7_TTATGCTCAGATGAGC 0          0          0            2              \n",
       "10X_P7_7_TTATGCTCAGCGTTCG 0          0          0            9              \n",
       "10X_P7_7_TTATGCTTCCGAACGC 0          0          0            8              \n",
       "10X_P7_7_TTATGCTTCCGCGGTA 0          0          0            6              \n",
       "10X_P7_7_TTCCCAGTCATGTGGT 0          0          0            2              \n",
       "10X_P7_7_TTCGGTCAGTGCGTGA 0          0          0            5              \n",
       "10X_P7_7_TTCGGTCCAGCGTAAG 0          0          0            2              \n",
       "10X_P7_7_TTCGGTCTCCGGGTGT 0          0          0            5              \n",
       "10X_P7_7_TTCTCAAAGAGCCCAA 0          0          0            2              \n",
       "10X_P7_7_TTCTCAACAAACGTGG 0          0          0            5              \n",
       "10X_P7_7_TTGAACGAGATGTCGG 0          0          0            5              \n",
       "10X_P7_7_TTGCGTCCAAAGTGCG 0          0          0            5              \n",
       "10X_P7_7_TTGCGTCGTAGGACAC 0          0          0            2              \n",
       "10X_P7_7_TTGGAACAGTAGATGT 0          0          0            5              \n",
       "10X_P7_7_TTGGAACGTCTAGTCA 0          0          0            6              \n",
       "10X_P7_7_TTGGAACGTGTCGCTG 0          0          0            4              \n",
       "10X_P7_7_TTGTAGGCACTTGGAT 0          0          0            7              \n",
       "10X_P7_7_TTGTAGGTCATGTAGC 0          0          0            2              \n",
       "10X_P7_7_TTTACTGGTGTTGAGG 0          0          0            5              \n",
       "10X_P7_7_TTTCCTCCATACCATG 0          0          0            5              \n",
       "10X_P7_7_TTTGTCAGTTACCGAT 0          0          0            2              \n",
       "10X_P7_7_TTTGTCATCTGTGCAA 0          0          0            2              \n",
       "                          seurat_clusters doublet_score doublet_class\n",
       "10X_P4_3_AAAGTAGAGATGCCAG 3               0.2572535276  singlet      \n",
       "10X_P4_3_AACTCCCGTCGGGTCT 5               0.1914071590  singlet      \n",
       "10X_P4_3_AACTCTTAGTTGCAGG 4               0.4951692522  singlet      \n",
       "10X_P4_3_AACTCTTTCATAACCG 0               0.2093610018  singlet      \n",
       "10X_P4_3_AAGACCTAGATCCGAG 8               0.3869006932  singlet      \n",
       "10X_P4_3_AAGGAGCGTGCAACTT 3               0.0268953685  singlet      \n",
       "10X_P4_3_AAGTCTGAGATAGTCA 4               0.0088629527  singlet      \n",
       "10X_P4_3_ACAGCTATCATACGGT 2               0.1332673728  singlet      \n",
       "10X_P4_3_ACATACGCAGCTCCGA 2               0.0018370392  singlet      \n",
       "10X_P4_3_ACCAGTACACGTCTCT 3               0.0007252959  singlet      \n",
       "10X_P4_3_ACGAGCCAGATAGCAT 6               0.0964101106  singlet      \n",
       "10X_P4_3_ACGGAGATCGGAATCT 5               0.0307382215  singlet      \n",
       "10X_P4_3_ACGGGCTGTCTGATCA 3               0.0662878603  singlet      \n",
       "10X_P4_3_ACTGAACCATCCGGGT 3               0.0706952289  singlet      \n",
       "10X_P4_3_ACTTTCAAGATGGGTC 2               0.0257869828  singlet      \n",
       "10X_P4_3_AGACGTTTCTTACCGC 5               0.0767364055  singlet      \n",
       "10X_P4_3_AGCGGTCTCTGAGTGT 2               0.0931750983  singlet      \n",
       "10X_P4_3_AGCTTGAAGACTAAGT 3               0.0015825944  singlet      \n",
       "10X_P4_3_AGGGAGTCAATCGGTT 3               0.0513042435  singlet      \n",
       "10X_P4_3_AGGGATGAGTCGCCGT 3               0.1014347225  singlet      \n",
       "10X_P4_3_AGGTCCGAGGACACCA 2               0.2526667118  singlet      \n",
       "10X_P4_3_AGTCTTTAGCTAGTGG 3               0.0018101180  singlet      \n",
       "10X_P4_3_AGTGAGGAGTGTACTC 3               0.0113621801  singlet      \n",
       "10X_P4_3_AGTGTCACAGTATCTG 0               0.2415932119  singlet      \n",
       "10X_P4_3_ATTATCCAGTAAGTAC 6               0.0812971219  singlet      \n",
       "10X_P4_3_ATTTCTGCATGTTGAC 3               0.1752033085  singlet      \n",
       "10X_P4_3_CACACCTAGCCCAATT 2               0.1906752139  singlet      \n",
       "10X_P4_3_CACACCTGTTTGACAC 1               0.1856997162  singlet      \n",
       "10X_P4_3_CACATAGCAGATGGCA 2               0.1076648757  singlet      \n",
       "10X_P4_3_CACCAGGCAAGGCTCC 2               0.0003976770  singlet      \n",
       "⋮                         ⋮               ⋮             ⋮            \n",
       "10X_P7_7_TGTTCCGAGCTAACTC 2               3.145166e-02  singlet      \n",
       "10X_P7_7_TGTTCCGAGCTCCCAG 2               9.466144e-02  singlet      \n",
       "10X_P7_7_TTAACTCGTCTCTTTA 2               1.392896e-01  singlet      \n",
       "10X_P7_7_TTAACTCTCAGAGACG 4               5.021507e-01  singlet      \n",
       "10X_P7_7_TTAGGACAGACAAAGG 5               9.902639e-03  singlet      \n",
       "10X_P7_7_TTAGGACCAGGGTACA 2               1.451338e-02  singlet      \n",
       "10X_P7_7_TTAGGACGTCTCCCTA 5               1.147757e-03  singlet      \n",
       "10X_P7_7_TTATGCTAGCCATCGC 2               3.870866e-02  singlet      \n",
       "10X_P7_7_TTATGCTCAGATGAGC 2               1.219655e-01  singlet      \n",
       "10X_P7_7_TTATGCTCAGCGTTCG 9               3.446916e-04  singlet      \n",
       "10X_P7_7_TTATGCTTCCGAACGC 8               1.600124e-03  singlet      \n",
       "10X_P7_7_TTATGCTTCCGCGGTA 6               1.091914e-04  singlet      \n",
       "10X_P7_7_TTCCCAGTCATGTGGT 2               3.084705e-01  singlet      \n",
       "10X_P7_7_TTCGGTCAGTGCGTGA 5               2.984263e-01  singlet      \n",
       "10X_P7_7_TTCGGTCCAGCGTAAG 2               1.311160e-01  singlet      \n",
       "10X_P7_7_TTCGGTCTCCGGGTGT 5               2.261933e-04  singlet      \n",
       "10X_P7_7_TTCTCAAAGAGCCCAA 2               3.372150e-01  singlet      \n",
       "10X_P7_7_TTCTCAACAAACGTGG 5               2.594182e-01  singlet      \n",
       "10X_P7_7_TTGAACGAGATGTCGG 5               9.185883e-03  singlet      \n",
       "10X_P7_7_TTGCGTCCAAAGTGCG 5               4.738551e-02  singlet      \n",
       "10X_P7_7_TTGCGTCGTAGGACAC 2               7.957777e-02  singlet      \n",
       "10X_P7_7_TTGGAACAGTAGATGT 5               2.019937e-01  singlet      \n",
       "10X_P7_7_TTGGAACGTCTAGTCA 6               8.364068e-05  singlet      \n",
       "10X_P7_7_TTGGAACGTGTCGCTG 4               2.405449e-02  singlet      \n",
       "10X_P7_7_TTGTAGGCACTTGGAT 7               3.867539e-03  singlet      \n",
       "10X_P7_7_TTGTAGGTCATGTAGC 2               7.739104e-02  singlet      \n",
       "10X_P7_7_TTTACTGGTGTTGAGG 5               9.136181e-04  singlet      \n",
       "10X_P7_7_TTTCCTCCATACCATG 5               8.029054e-02  singlet      \n",
       "10X_P7_7_TTTGTCAGTTACCGAT 2               2.783998e-01  singlet      \n",
       "10X_P7_7_TTTGTCATCTGTGCAA 2               2.000581e-02  singlet      "
      ]
     },
     "metadata": {},
     "output_type": "display_data"
    }
   ],
   "source": [
    "srat@meta.data"
   ]
  },
  {
   "cell_type": "code",
   "execution_count": null,
   "id": "a0b05785-b9fa-429c-869f-197eaf7d5ac9",
   "metadata": {},
   "outputs": [],
   "source": [
    "colnames(srat[['RNA']])"
   ]
  },
  {
   "cell_type": "code",
   "execution_count": null,
   "id": "09a9c0ee-ec1b-44f9-9db0-9a80249e8344",
   "metadata": {},
   "outputs": [],
   "source": [
    "srat[['pca']]"
   ]
  },
  {
   "cell_type": "code",
   "execution_count": null,
   "id": "8094b2ae-e446-48f9-b8a5-64b89f4b30c2",
   "metadata": {},
   "outputs": [],
   "source": [
    "srat <- Seurat::ReadH5AD(path)\n",
    "srat"
   ]
  },
  {
   "cell_type": "code",
   "execution_count": null,
   "id": "d2459881-1469-4bb6-b09e-210d66f22740",
   "metadata": {},
   "outputs": [],
   "source": [
    "adata <- LoadAnndata(path)\n",
    "adata"
   ]
  },
  {
   "cell_type": "code",
   "execution_count": null,
   "id": "3d513589-fb47-43a0-beed-5f1ec3b19acb",
   "metadata": {},
   "outputs": [],
   "source": [
    "# Add dimension reduction\n",
    "  embed_names <- unlist(adata$obsm_keys())\n",
    "  if (length(embed_names) > 0) {\n",
    "    embeddings <- sapply(embed_names, function(x) as.matrix(adata$obsm[[x]]), simplify = FALSE, USE.NAMES = TRUE)\n",
    "    names(embeddings) <- embed_names\n",
    "      for (name in embed_names) {\n",
    "        rownames(embeddings[[name]]) <- colnames(srat[['RNA']])\n",
    "      }\n",
    "  }"
   ]
  },
  {
   "cell_type": "code",
   "execution_count": null,
   "id": "88eb538e-dfc4-40fb-9fe1-fd2ff4877375",
   "metadata": {},
   "outputs": [],
   "source": [
    "embeddings"
   ]
  },
  {
   "cell_type": "code",
   "execution_count": null,
   "id": "c407ef45-b217-4d65-a1f0-518cb3d27c9e",
   "metadata": {},
   "outputs": [],
   "source": [
    "length(adata$obsm[['X_tsne']])"
   ]
  },
  {
   "cell_type": "code",
   "execution_count": null,
   "id": "53c6cce0-6169-473e-83e1-6798d8bb8e9c",
   "metadata": {},
   "outputs": [],
   "source": [
    "adata$obsm[['X_tsne']]"
   ]
  },
  {
   "cell_type": "code",
   "execution_count": null,
   "id": "a7e1c787-cc98-4aec-b997-b45bac0d717c",
   "metadata": {},
   "outputs": [],
   "source": [
    "adata$layers"
   ]
  },
  {
   "cell_type": "code",
   "execution_count": null,
   "id": "e3f62816-6821-408f-b8b8-b186d7bb43a6",
   "metadata": {},
   "outputs": [],
   "source": [
    "adata$layers <- NULL\n",
    "adata"
   ]
  },
  {
   "cell_type": "code",
   "execution_count": null,
   "id": "b342fe99-91a6-4006-8807-b77053abe151",
   "metadata": {},
   "outputs": [],
   "source": [
    "'' %in% names(adata$layers)"
   ]
  },
  {
   "cell_type": "code",
   "execution_count": null,
   "id": "5151d653-cb0b-4e2a-9780-1c4e452ad9bd",
   "metadata": {},
   "outputs": [],
   "source": [
    "names(adata$layers)"
   ]
  },
  {
   "cell_type": "code",
   "execution_count": null,
   "id": "5e63df43-62b4-40a9-af84-60c70f87fef6",
   "metadata": {},
   "outputs": [],
   "source": [
    "for (layer in names(adata$layers)){\n",
    "    print(layer)\n",
    "  }"
   ]
  },
  {
   "cell_type": "code",
   "execution_count": null,
   "id": "1ca24628-0af4-49c9-84ca-f60c150055b8",
   "metadata": {},
   "outputs": [],
   "source": [
    "is.null(names(adata$layers))"
   ]
  },
  {
   "cell_type": "code",
   "execution_count": null,
   "id": "bc0f5191-893b-4fc9-9cb2-d2cd090c743c",
   "metadata": {},
   "outputs": [],
   "source": [
    "names(adata$layers) == 'aaa'"
   ]
  },
  {
   "cell_type": "code",
   "execution_count": null,
   "id": "a339456f-3239-4740-b6a9-006cf95c5846",
   "metadata": {},
   "outputs": [],
   "source": [
    "'scale.data' %in% names(adata$layers)"
   ]
  },
  {
   "cell_type": "code",
   "execution_count": null,
   "id": "66ba5a2d-80b6-4b4b-ac42-4ef1bc431e1c",
   "metadata": {},
   "outputs": [],
   "source": [
    "adata$layers['scale.data']"
   ]
  },
  {
   "cell_type": "code",
   "execution_count": null,
   "id": "6fbee9b6-9bfe-42a5-ab28-846edd72c1ea",
   "metadata": {},
   "outputs": [],
   "source": [
    "srat <- LoadSeurat(\"/ps/ai-ready/data/Clustering/Tabula_Muris/droplet_Bladder_seurat_tiss.h5Seurat\")\n",
    "srat"
   ]
  },
  {
   "cell_type": "code",
   "execution_count": null,
   "id": "aa86d3a2-a476-40c6-a91d-45c13bad6aad",
   "metadata": {},
   "outputs": [],
   "source": [
    "print(srat[['umap']])"
   ]
  },
  {
   "cell_type": "code",
   "execution_count": null,
   "id": "6da40966-93a9-4c45-99e7-3d2f28778435",
   "metadata": {},
   "outputs": [],
   "source": [
    "dims=1:10\n",
    "srat <- FindVariableFeatures(srat, selection.method = \"vst\")\n",
    "srat <- ScaleData(srat, features = rownames(srat))\n",
    "\n",
    "# PCA\n",
    "# srat <- RunPCA(srat, features = VariableFeatures(srat), ndims.print = 6:10, nfeatures.print = 10)\n",
    "srat <- RunPCA(srat, features = VariableFeatures(srat))\n",
    "\n",
    "srat <- FindNeighbors(srat, dims=dims)\n",
    "srat <- FindClusters(srat, resolution = 0.5)\n",
    "srat\n",
    "\n",
    "# TSNE\n",
    "srat <- RunTSNE(srat, dims=dims)\n",
    "# UMAP\n",
    "srat <- RunUMAP(srat, dims=dims)\n",
    "\n",
    "umap <- Embeddings(object = srat, reduction = \"umap\")"
   ]
  },
  {
   "cell_type": "code",
   "execution_count": null,
   "id": "28ef1303-23e1-4798-b8d4-3481d55d9f5b",
   "metadata": {},
   "outputs": [],
   "source": [
    "embed_names <- unlist(adata$obsm_keys())\n",
    "embed_names"
   ]
  },
  {
   "cell_type": "code",
   "execution_count": null,
   "id": "e3f7ca07-caa2-44e9-993a-fa69f9c0838b",
   "metadata": {},
   "outputs": [],
   "source": [
    "adata$obsm[['X_umap']]"
   ]
  },
  {
   "cell_type": "code",
   "execution_count": null,
   "id": "0dd83280-8ae6-4b2b-b692-dfb344a94ffd",
   "metadata": {},
   "outputs": [],
   "source": [
    "adata$obsm[['X_pca']]"
   ]
  },
  {
   "cell_type": "code",
   "execution_count": null,
   "id": "4047145e-8f08-481d-a80b-2449acbe42c1",
   "metadata": {},
   "outputs": [],
   "source": [
    "as.matrix(adata$obsm[['X_pca']])"
   ]
  },
  {
   "cell_type": "code",
   "execution_count": null,
   "id": "3f1b5a56-bfdf-4d9a-8075-da1bdf611899",
   "metadata": {},
   "outputs": [],
   "source": [
    "adata_Seurat <- CreateSeuratObject(counts = t(adata$X), meta.data = adata$obs)\n",
    "adata_Seurat"
   ]
  },
  {
   "cell_type": "code",
   "execution_count": null,
   "id": "29410052-ec2d-4480-a57d-8e9a3a581fb7",
   "metadata": {},
   "outputs": [],
   "source": [
    "adata_Seurat$data"
   ]
  },
  {
   "cell_type": "code",
   "execution_count": null,
   "id": "371e09ce-06ec-4bae-bea5-c2cedf537876",
   "metadata": {},
   "outputs": [],
   "source": [
    "if (reticulate::py_to_r(sp$issparse(adata$X))) {\n",
    "      X <- Matrix::t(reticulate::py_to_r(sp$csc_matrix(adata$X)))\n",
    "    } else {\n",
    "      X <- t(reticulate::py_to_r(adata$X))\n",
    "    }"
   ]
  },
  {
   "cell_type": "code",
   "execution_count": null,
   "id": "b5eb0a07-b6da-4217-8811-dd4407928359",
   "metadata": {},
   "outputs": [],
   "source": [
    "adata$X"
   ]
  },
  {
   "cell_type": "code",
   "execution_count": null,
   "id": "5440ed46-672a-41c4-afd8-538a2f46a3bf",
   "metadata": {},
   "outputs": [],
   "source": [
    ".obs2metadata <- function(obs_pd, assay = \"RNA\") {\n",
    "  obs_df <- .regularise_df(obs_pd, drop_single_values=FALSE, drop_na_values=TRUE)\n",
    "  colnames(obs_df) <- sub(\"n_counts\", paste0(\"nCounts_\", assay), colnames(obs_df))\n",
    "  colnames(obs_df) <- sub(\"n_genes\", paste0(\"nFeaturess_\", assay), colnames(obs_df))\n",
    "  return(obs_df)\n",
    "}\n",
    "\n",
    "#' Prepare feature metadata\n",
    "#'\n",
    "#' This function prepare feature metadata from AnnData.var\n",
    "#'\n",
    "#' @param var_pd Input AnnData.var dataframe\n",
    "#'\n",
    "#' @return AnnData object\n",
    "#'\n",
    "#' @import reticulate\n",
    ".var2feature_metadata <- function(var_pd) {\n",
    "  var_df <- .regularise_df(var_pd, drop_single_values=FALSE, drop_na_values=TRUE)\n",
    "  colnames(var_df) <- sub(\"dispersions_norm\", \"mvp.dispersion.scaled\", colnames(var_df))\n",
    "  colnames(var_df) <- sub(\"dispersions\", \"mvp.dispersion\", colnames(var_df))\n",
    "  colnames(var_df) <- sub(\"means\", \"mvp.mean\", colnames(var_df))\n",
    "  colnames(var_df) <- sub(\"highly_variable\", \"highly.variable\", colnames(var_df))\n",
    "  return(var_df)\n",
    "}"
   ]
  },
  {
   "cell_type": "code",
   "execution_count": null,
   "id": "b764b18f-c2d1-4dae-9839-f931a05f03b3",
   "metadata": {},
   "outputs": [],
   "source": [
    "obs_df <- .obs2metadata(adata$obs)\n",
    "var_df <- .var2feature_metadata(adata$var)\n",
    "X <- t(adata$X)\n",
    "colnames(X) <- rownames(obs_df)\n",
    "rownames(X) <- rownames(var_df)\n",
    "X"
   ]
  },
  {
   "cell_type": "code",
   "execution_count": null,
   "id": "2d99eee8-591b-476c-be23-8fe3b8ed1881",
   "metadata": {},
   "outputs": [],
   "source": [
    "rownames(obs_df)"
   ]
  },
  {
   "cell_type": "code",
   "execution_count": null,
   "id": "bcee3721-1d55-489f-b28c-149f90341c35",
   "metadata": {},
   "outputs": [],
   "source": [
    "rownames(var_df)"
   ]
  },
  {
   "cell_type": "code",
   "execution_count": null,
   "id": "9085ec31-9b8e-4b8f-aa3f-d65356405993",
   "metadata": {},
   "outputs": [],
   "source": [
    "obs_df"
   ]
  },
  {
   "cell_type": "code",
   "execution_count": null,
   "id": "c99a50db-e0ce-46c4-847d-ce3891408c56",
   "metadata": {},
   "outputs": [],
   "source": [
    "x_t <- Matrix::t(adata$X)\n",
    "x_t"
   ]
  },
  {
   "cell_type": "code",
   "execution_count": null,
   "id": "726a6105-0b89-4bcb-af38-2675cac44527",
   "metadata": {},
   "outputs": [],
   "source": [
    "adata_Seurat$RNA$counts"
   ]
  },
  {
   "cell_type": "code",
   "execution_count": null,
   "id": "091d4d91-c50e-4ca7-bb8e-0aa0ee647b4e",
   "metadata": {},
   "outputs": [],
   "source": [
    "adata_Seurat$RNA$counts"
   ]
  },
  {
   "cell_type": "code",
   "execution_count": null,
   "id": "dba47a05-2ff5-408c-87fa-e4462b36326f",
   "metadata": {},
   "outputs": [],
   "source": [
    "Convert(path, \"h5seurat\", overwrite = TRUE)"
   ]
  },
  {
   "cell_type": "code",
   "execution_count": null,
   "id": "49cab4f7-8a9e-433a-8072-069f8346bce5",
   "metadata": {},
   "outputs": [],
   "source": [
    "srat <- LoadH5Seurat(paste0(tools::file_path_sans_ext(path), \".h5seurat\"), meta.data = FALSE, misc = FALSE)"
   ]
  },
  {
   "cell_type": "code",
   "execution_count": null,
   "id": "260cf277-5275-46fc-908a-23be6cfab9e5",
   "metadata": {},
   "outputs": [],
   "source": [
    "library(Seurat)\n",
    "library(SingleCellExperiment)\n",
    "library(SeuratDisk)\n",
    "library(SeuratData)\n",
    "input = \"/ps/ai-ready/data/error/tung.rds\"\n",
    "robj <- readRDS(input)\n",
    "robj"
   ]
  },
  {
   "cell_type": "code",
   "execution_count": null,
   "id": "5fb9d7dc-df0b-46fb-88a2-f2377537d1d1",
   "metadata": {},
   "outputs": [],
   "source": [
    "logcounts(robj)"
   ]
  },
  {
   "cell_type": "code",
   "execution_count": null,
   "id": "804c9bd1-a1fb-49b3-ba42-f0cc673d9c15",
   "metadata": {},
   "outputs": [],
   "source": [
    "'logcounts'  %in% names(robj)"
   ]
  },
  {
   "cell_type": "code",
   "execution_count": null,
   "id": "39bbb360-2c6c-4f94-830f-525c881a011d",
   "metadata": {},
   "outputs": [],
   "source": [
    "srat <- as.Seurat(robj, slot = \"counts\")"
   ]
  },
  {
   "cell_type": "code",
   "execution_count": null,
   "id": "27660094-7de8-464d-81d5-ec2056eaec18",
   "metadata": {},
   "outputs": [],
   "source": [
    "# path <- \"/ps/ai-ready/data/Clustering/Tabula_Muris/droplet_Bladder_seurat_tiss.Robj\"\n",
    "path <- \"/ps/ai-ready/data/Clustering/Tabula_Muris/droplet_Bladder_seurat_tiss.h5Seurat\""
   ]
  },
  {
   "cell_type": "code",
   "execution_count": null,
   "id": "a0c593ee-5c92-40d5-959a-cde6b390114a",
   "metadata": {},
   "outputs": [],
   "source": [
    "srat <- LoadSeurat(path)\n",
    "srat"
   ]
  },
  {
   "cell_type": "code",
   "execution_count": null,
   "id": "a6299d58-0820-495a-a351-e9f6c7a321e9",
   "metadata": {},
   "outputs": [],
   "source": [
    "adata <- SeuratToAnndata(srat)\n",
    "adata"
   ]
  },
  {
   "cell_type": "code",
   "execution_count": null,
   "id": "15a96d97-33f8-476c-8d2f-481ae183945a",
   "metadata": {},
   "outputs": [],
   "source": [
    "adata$X"
   ]
  },
  {
   "cell_type": "code",
   "execution_count": null,
   "id": "055070f8-bd1f-4839-81c1-f3dec9db6052",
   "metadata": {},
   "outputs": [],
   "source": [
    "obj <- srat\n",
    "default_assay <- 'RNA'\n",
    "if(paste0(\"nCount_\", default_assay) %in% names(obj@meta.data)) names(obj@meta.data)[names(obj@meta.data) ==paste0(\"nCount_\", default_assay)] <-\"n_counts\"\n",
    "if(paste0(\"nFeature_\", default_assay) %in% names(obj@meta.data)) names(obj@meta.data)[names(obj@meta.data) ==paste0(\"nFeature_\", default_assay)] <-\"n_genes\"\n",
    "if(\"percent.mt\" %in% names(obj@meta.data)) names(obj@meta.data)[names(obj@meta.data) ==\"percent.mt\"] <-\"percent_mito\"\n",
    "obj@meta.data"
   ]
  },
  {
   "cell_type": "code",
   "execution_count": null,
   "id": "f4a2cf45-e0ee-4de4-beb0-b8952d0cce0d",
   "metadata": {},
   "outputs": [],
   "source": [
    "adata$layers['scale.data']"
   ]
  },
  {
   "cell_type": "code",
   "execution_count": null,
   "id": "eba87618-54ff-4c1a-bcae-ac71e3884971",
   "metadata": {},
   "outputs": [],
   "source": [
    "srat[['RNA']]@counts"
   ]
  },
  {
   "cell_type": "code",
   "execution_count": null,
   "id": "2122e16a-5b02-4235-8ea1-0fe8bc20eb06",
   "metadata": {},
   "outputs": [],
   "source": [
    "mat <- Seurat::GetAssayData(object=srat, assay='RNA', layer='X')"
   ]
  },
  {
   "cell_type": "code",
   "execution_count": null,
   "id": "079289bf-8ff0-4420-9bf7-9f115f9e2c40",
   "metadata": {},
   "outputs": [],
   "source": [
    "default_assay <- DefaultAssay(srat)\n",
    "default_assay"
   ]
  },
  {
   "cell_type": "code",
   "execution_count": null,
   "id": "408d6411-1df8-4854-b195-ef59d3c11d5b",
   "metadata": {},
   "outputs": [],
   "source": [
    "adata <- LoadAnndata(\"/ps/ai-ready/data/Clustering/Tabula_Muris/droplet_Bladder_seurat_tiss.h5ad\")\n",
    "adata"
   ]
  },
  {
   "cell_type": "code",
   "execution_count": null,
   "id": "89986048-4a9b-4986-bd0b-fdd2f59adfbc",
   "metadata": {},
   "outputs": [],
   "source": [
    "adata$obsm['X_pca']"
   ]
  },
  {
   "cell_type": "code",
   "execution_count": null,
   "id": "6f349ebe-3fd8-45b3-9172-72ea4aeb4629",
   "metadata": {},
   "outputs": [],
   "source": [
    "Embeddings(object = srat, reduction = \"pca\")"
   ]
  },
  {
   "cell_type": "code",
   "execution_count": null,
   "id": "27ca88ee-e074-4cf5-81b7-e950f7ea7823",
   "metadata": {},
   "outputs": [],
   "source": [
    "max(srat[['RNA']]@counts)"
   ]
  },
  {
   "cell_type": "code",
   "execution_count": null,
   "id": "fd730f8b-fc95-4928-97d7-c9e5433da6fa",
   "metadata": {},
   "outputs": [],
   "source": [
    "min(srat[['RNA']]@counts)"
   ]
  },
  {
   "cell_type": "code",
   "execution_count": null,
   "id": "ee6c670d-6546-45b2-9a27-033ee91c9034",
   "metadata": {},
   "outputs": [],
   "source": [
    "doublet_annnotation <- AnnotateDroplet(srat[[default_assay]]@counts)"
   ]
  },
  {
   "cell_type": "code",
   "execution_count": null,
   "id": "965e98ec-9fd5-4734-8175-745b6d847120",
   "metadata": {},
   "outputs": [],
   "source": [
    "doublet_annnotation$doublet_score"
   ]
  },
  {
   "cell_type": "code",
   "execution_count": null,
   "id": "0bc51fed-2498-43c9-b277-c76fb36e68e0",
   "metadata": {},
   "outputs": [],
   "source": [
    "srat[[\"Doublet_score\"]] <- doublet_annnotation$doublet_score\n",
    "srat[[\"Doublet_class\"]] <- doublet_annnotation$doublet_class"
   ]
  },
  {
   "cell_type": "code",
   "execution_count": null,
   "id": "752c1517-ec8b-4820-a190-6f0a7c08a055",
   "metadata": {},
   "outputs": [],
   "source": [
    "data_mat = srat[['RNA']]@counts"
   ]
  },
  {
   "cell_type": "code",
   "execution_count": null,
   "id": "8a3a3db6-5787-4fc2-9a07-b414f8d7a86e",
   "metadata": {},
   "outputs": [],
   "source": [
    "# -i data_mat -o doublet_score -o doublet_class\n",
    "\n",
    "set.seed(123)\n",
    "sce = scDblFinder(\n",
    "    SingleCellExperiment(\n",
    "        list(counts=data_mat),\n",
    "    ) \n",
    ")\n",
    "doublet_score = sce$scDblFinder.score\n",
    "doublet_class = sce$scDblFinder.class"
   ]
  },
  {
   "cell_type": "code",
   "execution_count": null,
   "id": "19e6ddc8-72f3-450b-a8af-f6c6be07f47e",
   "metadata": {},
   "outputs": [],
   "source": [
    "srat[[\"Doublet_score\"]] <- doublet_score"
   ]
  },
  {
   "cell_type": "code",
   "execution_count": null,
   "id": "a8ac1ee2-6fe0-4e81-ba74-e82185c42a28",
   "metadata": {},
   "outputs": [],
   "source": [
    "srat[[\"Doublet_class\"]] <- doublet_class"
   ]
  },
  {
   "cell_type": "code",
   "execution_count": null,
   "id": "a22ca2e7-d6a4-45ae-a178-d68b969ad2a2",
   "metadata": {},
   "outputs": [],
   "source": [
    "srat[[]]"
   ]
  },
  {
   "cell_type": "code",
   "execution_count": null,
   "id": "2dc6b484-db21-4ea7-8554-45db2160f838",
   "metadata": {},
   "outputs": [],
   "source": [
    "dim(srat[['RNA']]@counts)\n",
    "dim(srat)\n",
    "dim(srat@meta.data)"
   ]
  },
  {
   "cell_type": "code",
   "execution_count": null,
   "id": "40701ef2-af47-41a7-9de9-2a0859e37be0",
   "metadata": {},
   "outputs": [],
   "source": [
    "if(!paste0(\"nCount_\", default_assay) %in% names(x = srat[[]])) srat[[paste0(\"nCount_\", default_assay)]] <- colSums(x = srat[[default_assay]], slot = \"counts\")  # nCount of the default assay\n",
    "if(!paste0(\"nFeature_\", default_assay) %in% names(x = srat[[]])) srat[[paste0(\"nFeature_\", default_assay)]] <- colSums(x = GetAssayData(object = srat[[default_assay]], slot = \"counts\") > 0)  # nFeature of the default assay"
   ]
  },
  {
   "cell_type": "code",
   "execution_count": null,
   "id": "f58faf9f-780e-4a8f-a836-368a2ef29dc9",
   "metadata": {},
   "outputs": [],
   "source": [
    "head(srat@meta.data)"
   ]
  },
  {
   "cell_type": "code",
   "execution_count": null,
   "id": "88ecf46d-90ef-43fd-ab02-8334381ddabd",
   "metadata": {},
   "outputs": [],
   "source": [
    "output_path <- '/ps/ai-ready/data/Clustering/Tabula_Muris/droplet_Bladder_seurat_tiss.h5Seurat'\n",
    "SaveH5Seurat(srat, filename = output_path, overwrite = TRUE, verbose = TRUE)"
   ]
  },
  {
   "cell_type": "code",
   "execution_count": null,
   "id": "eabafc99-039c-47b5-9a41-13295c1dfff3",
   "metadata": {},
   "outputs": [],
   "source": [
    "srat1 <- LoadH5Seurat(output_path)\n",
    "srat1"
   ]
  },
  {
   "cell_type": "code",
   "execution_count": null,
   "id": "f2e50a74-b183-436c-8180-9d0a80cc6fa7",
   "metadata": {},
   "outputs": [],
   "source": [
    "srat1@meta.data"
   ]
  },
  {
   "cell_type": "code",
   "execution_count": null,
   "id": "affb447c-3606-4f5c-9219-e205db50ae24",
   "metadata": {},
   "outputs": [],
   "source": [
    "adata_path <- Convert('/ps/ai-ready/data/Clustering/Tabula_Muris/droplet_Bladder_seurat_tiss.h5Seurat', dest = \"h5ad\" , overwrite = TRUE)\n",
    "adata_path"
   ]
  },
  {
   "cell_type": "code",
   "execution_count": null,
   "id": "133a53bd-216f-4bde-98fc-30c62af8cf69",
   "metadata": {},
   "outputs": [],
   "source": [
    "# Calculate the percentage of mitocondrial per cell and add to the metadata.\n",
    "if(! \"percent.mt\" %in% names(x = srat[[]])) srat[[\"percent.mt\"]] <- PercentageFeatureSet(srat, pattern = \"^MT-\")\n",
    "# Calculate the proportion gene expression that comes from ribosomal proteins.\n",
    "if(! \"percent.rb\" %in% names(x = srat[[]])) srat[[\"percent.rb\"]] <- PercentageFeatureSet(srat, pattern = \"^RP[SL]\")\n",
    "\n",
    "# Percentage hemoglobin genes - includes all genes starting with HB except HBP.\n",
    "if(! \"percent.hb\" %in% names(x = srat[[]])) srat[[\"percent.hb\"]] <- PercentageFeatureSet(srat, pattern = \"^HB[^(P)]\")\n",
    "if(! \"percent.plat\" %in% names(x = srat[[]])) srat[[\"percent.plat\"]] <- PercentageFeatureSet(srat, pattern = \"PECAM1|PF4\")\n",
    "head(srat@meta.data)"
   ]
  },
  {
   "cell_type": "code",
   "execution_count": null,
   "id": "9902a395-bfba-4857-8deb-047fb43e2b66",
   "metadata": {},
   "outputs": [],
   "source": [
    "# Add the doublet annotation\n",
    "doublets <- read.table(here::here('api/tools/qc/scrublet_calls.tsv'), header = F, row.names = 1)\n",
    "colnames(doublets) <- c(\"Doublet_score\", \"Is_doublet\")\n",
    "srat <- AddMetaData(srat, doublets)\n",
    "# srat[['Is_doublet']] <- !is.na(srat[['Is_doublet']])"
   ]
  },
  {
   "cell_type": "code",
   "execution_count": null,
   "id": "5f2a4975-e397-4218-9604-fbd3b78e8381",
   "metadata": {},
   "outputs": [],
   "source": [
    "head(srat@meta.data)"
   ]
  },
  {
   "cell_type": "code",
   "execution_count": null,
   "id": "b7afb29b-e016-493d-89b3-5bf9735416de",
   "metadata": {},
   "outputs": [],
   "source": [
    "srat@meta.data"
   ]
  },
  {
   "cell_type": "code",
   "execution_count": null,
   "id": "1a655c17-849a-48a1-a5af-c085f3e81989",
   "metadata": {},
   "outputs": [],
   "source": [
    "names(srat@meta.data)[names(srat@meta.data) ==\"nCount_RNA\"] <-\"n_counts\"\n",
    "srat@meta.data"
   ]
  },
  {
   "cell_type": "code",
   "execution_count": null,
   "id": "9d4e490b-3ad5-45dd-88b3-01d07a73555b",
   "metadata": {},
   "outputs": [],
   "source": [
    "names(srat@meta.data)"
   ]
  },
  {
   "cell_type": "code",
   "execution_count": null,
   "id": "09b253c0-fef6-45a6-b60c-20597f12b378",
   "metadata": {},
   "outputs": [],
   "source": [
    "nFeature_min=200\n",
    "nFeature_max=0\n",
    "percent_mt_max=5\n",
    "percent_rb_min=0\n",
    "srat <- subset(srat, subset = paste0(\"nFeature_\", default_assay) > nFeature_min & percent.mt < percent_mt_max)\n",
    "if(nFeature_max != 0) srat <- subset(srat, subset = paste0(\"nFeature_\", default_assay) < nFeature_max)\n",
    "if(percent_rb_min != 0)  srat <- subset(srat, subset = percent.rb > percent_rb_min)"
   ]
  },
  {
   "cell_type": "code",
   "execution_count": null,
   "id": "260a6b7f-94b8-4f6a-aadb-e03f64bf569f",
   "metadata": {},
   "outputs": [],
   "source": [
    "srat <- subset(srat, subset = Is_doublet != 'True' | is.na(Is_doublet))"
   ]
  },
  {
   "cell_type": "code",
   "execution_count": null,
   "id": "6b43c216-4881-4cb4-9fe9-95e7fea3d1b4",
   "metadata": {},
   "outputs": [],
   "source": [
    "#' Regularise dataframe\n",
    "#'\n",
    "#' This function checks if certain columns of a dataframe is of a single value\n",
    "#' and drop them if required\n",
    "#'\n",
    "#' @param df Input data frame, usually cell metadata table (data.frame-like\n",
    "#'   object)\n",
    "#' @param drop_single_values Drop columns with only a single value (logical)\n",
    "#'\n",
    "#' @return Dataframe\n",
    ".regularise_df <- function(df, drop_single_values=FALSE, drop_na_values=TRUE) {\n",
    "  if (ncol(df) == 0) df[[\"name\"]] <- rownames(df)\n",
    "  if (drop_single_values) {\n",
    "    k_singular <- sapply(df, function(x) length(unique(x)) == 1)\n",
    "    if (sum(k_singular) > 0) {\n",
    "      warning(\n",
    "        paste(\"Dropping single category variables:\"),\n",
    "        paste(colnames(df)[k_singular], collapse = \", \")\n",
    "      )\n",
    "    }\n",
    "    df <- df[, !k_singular, drop = F]\n",
    "    if (ncol(df) == 0) df[[\"name\"]] <- rownames(df)\n",
    "  }\n",
    " if (drop_na_values) {\n",
    "    k_na <- sapply(srat@meta.data, function(x) sum(is.na(x))==length(x))\n",
    "    if (sum(k_na) > 0) {\n",
    "      warning(\n",
    "        paste(\"Dropping NA category variables:\"),\n",
    "        paste(colnames(df)[k_na], collapse = \", \")\n",
    "      )\n",
    "    }\n",
    "    df <- df[, !k_na, drop = F]\n",
    "    if (ncol(df) == 0) df[[\"name\"]] <- rownames(df)\n",
    "  }\n",
    "  return(df)\n",
    "}"
   ]
  },
  {
   "cell_type": "code",
   "execution_count": null,
   "id": "9506e842-153e-4028-8422-adcdb7fa5dbe",
   "metadata": {},
   "outputs": [],
   "source": [
    "output_path_rds <- '/ps/ai-ready/data/Clustering/Tabula_Muris/droplet_Bladder_seurat_tiss.rds'\n",
    "saveRDS(srat, output_path_rds)\n",
    "srat1 <- LoadSeurat(output_path_rds)\n",
    "srat1"
   ]
  },
  {
   "cell_type": "code",
   "execution_count": null,
   "id": "b3795b46-8420-41fb-ac83-87109bc40136",
   "metadata": {},
   "outputs": [],
   "source": [
    "k_na <- sapply(srat@meta.data, function(x) sum(is.na(x))==length(x))\n",
    "k_na\n",
    "sum(k_na)"
   ]
  },
  {
   "cell_type": "code",
   "execution_count": null,
   "id": "a812d011-247f-4517-92a9-f3ddf7761012",
   "metadata": {},
   "outputs": [],
   "source": []
  },
  {
   "cell_type": "code",
   "execution_count": null,
   "id": "6de8e5b6-6de7-4de8-a8d8-3c18758941ef",
   "metadata": {},
   "outputs": [],
   "source": [
    "srat_qc@meta.data %>% is.na()"
   ]
  },
  {
   "cell_type": "code",
   "execution_count": null,
   "id": "a5814537-dce3-4d63-841e-342fb3c08f42",
   "metadata": {},
   "outputs": [],
   "source": [
    "k_singular <- sapply(srat_qc@meta.data, function(x) length(unique(x)) == 1)\n",
    "k_singular"
   ]
  },
  {
   "cell_type": "code",
   "execution_count": null,
   "id": "000d0c07-f0d4-4b53-9db3-8695efcebf90",
   "metadata": {},
   "outputs": [],
   "source": [
    "srat_qc@meta.data"
   ]
  },
  {
   "cell_type": "code",
   "execution_count": null,
   "id": "bcb64479-e5b4-4f6c-aa39-6575314f7ec0",
   "metadata": {},
   "outputs": [],
   "source": [
    "srat@meta.data <- .regularise_df(srat@meta.data, drop_single_values=FALSE, drop_na_values=TRUE)\n",
    "srat@meta.data"
   ]
  },
  {
   "cell_type": "code",
   "execution_count": null,
   "id": "c3fc2d99-3bd5-4e0e-ab31-590caf70dae5",
   "metadata": {},
   "outputs": [],
   "source": [
    "srat_qc@meta.data <- .regularise_df(srat_qc@meta.data, drop_single_values = FALSE)\n",
    "srat_qc@meta.data"
   ]
  },
  {
   "cell_type": "code",
   "execution_count": null,
   "id": "c74fc5e1-af6d-4baa-87c4-97ed9cfa86aa",
   "metadata": {},
   "outputs": [],
   "source": [
    "output_path <- '/ps/ai-ready/data/Clustering/Tabula_Muris/droplet_Bladder_seurat_tiss.h5Seurat'\n",
    "SaveH5Seurat(srat_qc, filename = output_path, overwrite = TRUE, verbose = TRUE)\n",
    "srat_3 <- LoadH5Seurat(output_path)\n",
    "srat_3"
   ]
  },
  {
   "cell_type": "code",
   "execution_count": null,
   "id": "d72c3350-1464-4b27-8af1-7e756efb83fb",
   "metadata": {},
   "outputs": [],
   "source": [
    "output_path <- '/ps/ai-ready/data/Clustering/Tabula_Muris/droplet_Bladder_seurat_tiss.h5Seurat'\n",
    "SaveH5Seurat(srat1, filename = output_path, overwrite = TRUE, verbose = TRUE)\n",
    "srat_2 <- LoadH5Seurat(output_path)\n",
    "srat_2"
   ]
  },
  {
   "cell_type": "code",
   "execution_count": null,
   "id": "9e7497b3-3e58-4cb1-b752-9bbdd4f56c7f",
   "metadata": {},
   "outputs": [],
   "source": [
    "srat1[[\"meta.data\"]]"
   ]
  },
  {
   "cell_type": "code",
   "execution_count": null,
   "id": "4383b840-6473-4fb6-8bc6-d2eaecc81a25",
   "metadata": {},
   "outputs": [],
   "source": [
    "srat1@meta.data"
   ]
  },
  {
   "cell_type": "code",
   "execution_count": null,
   "id": "9b48dc91-8451-4761-8509-63b84c3c4138",
   "metadata": {},
   "outputs": [],
   "source": [
    "devtools::install_github(\"cellgeni/sceasy\")"
   ]
  },
  {
   "cell_type": "code",
   "execution_count": null,
   "id": "d4ff17ef-ca01-47f1-ad89-9917df098102",
   "metadata": {},
   "outputs": [],
   "source": [
    "sceasy::convertFormat(srat1, from=\"seurat\", to=\"anndata\",\n",
    "                       outFile='/ps/ai-ready/data/Clustering/Tabula_Muris/droplet_Bladder_seurat_tiss.h5ad')"
   ]
  },
  {
   "cell_type": "code",
   "execution_count": null,
   "id": "1d0e0e8e-df27-4cc0-9d3f-9b67a3d61781",
   "metadata": {},
   "outputs": [],
   "source": [
    "adata <- LoadAnndata('/ps/ai-ready/data/Clustering/Tabula_Muris/droplet_Bladder_seurat_tiss.h5ad')\n",
    "adata"
   ]
  },
  {
   "cell_type": "code",
   "execution_count": null,
   "id": "8f15d725-31cf-4737-84ea-bdf782f7d878",
   "metadata": {},
   "outputs": [],
   "source": [
    "adata$obs"
   ]
  },
  {
   "cell_type": "code",
   "execution_count": null,
   "id": "a118346e-76c0-42f1-8690-4fe6259a8506",
   "metadata": {},
   "outputs": [],
   "source": [
    "adata$X"
   ]
  },
  {
   "cell_type": "code",
   "execution_count": null,
   "id": "bce54ae7-cd63-4881-a1c6-34b66c6f1e4c",
   "metadata": {},
   "outputs": [],
   "source": [
    "srat_qc <- CreateSeuratObject(counts=srat[['RNA']]@counts, meta.data=srat@meta.data, project = Project(srat))\n",
    "srat_qc"
   ]
  },
  {
   "cell_type": "code",
   "execution_count": null,
   "id": "e3f06c4a-c311-4421-a203-6af4ddf7e793",
   "metadata": {},
   "outputs": [],
   "source": [
    "output_path <- '/ps/ai-ready/data/Clustering/Tabula_Muris/droplet_Bladder_seurat_tiss.h5Seurat'\n",
    "SaveH5Seurat(srat_qc, filename = output_path, overwrite = TRUE, verbose = TRUE)\n",
    "srat_qc_1 <- LoadH5Seurat(output_path)\n",
    "srat_qc_1"
   ]
  },
  {
   "cell_type": "code",
   "execution_count": null,
   "id": "f9b1db66-1fd2-4662-bafe-44db3ccd06c8",
   "metadata": {},
   "outputs": [],
   "source": [
    "output_path <- '/ps/ai-ready/data/Clustering/Tabula_Muris/droplet_Bladder_seurat_tiss.h5Seurat'\n",
    "SaveH5Seurat(srat, filename = output_path, overwrite = TRUE, verbose = TRUE)\n",
    "srat1 <- LoadH5Seurat(output_path)\n",
    "srat1"
   ]
  },
  {
   "cell_type": "code",
   "execution_count": null,
   "id": "270245bf-785d-40a6-aec6-034c5b9c1c06",
   "metadata": {},
   "outputs": [],
   "source": [
    "srat <- subset(srat, subset = Is_doublet != 'True')"
   ]
  },
  {
   "cell_type": "code",
   "execution_count": null,
   "id": "6cd40758-93ca-4e50-a9a9-9020127dace6",
   "metadata": {},
   "outputs": [],
   "source": [
    "srat[[\"meta.data\"]]"
   ]
  },
  {
   "cell_type": "code",
   "execution_count": null,
   "id": "0489a1eb-9743-4749-a333-9a354d48eaed",
   "metadata": {},
   "outputs": [],
   "source": [
    "Cells(srat)"
   ]
  },
  {
   "cell_type": "code",
   "execution_count": null,
   "id": "e9896ca7-fabf-4ed4-9bd7-8a8aa4d2db67",
   "metadata": {},
   "outputs": [],
   "source": [
    "srat <- NormalizeData(srat, normalization.method = \"LogNormalize\", scale.factor = 10000)\n",
    "srat <- FindVariableFeatures(srat, selection.method = \"vst\")\n",
    "srat <- ScaleData(srat, features = rownames(srat))\n",
    "srat\n",
    "dim(srat)\n",
    "dim(srat@meta.data)"
   ]
  },
  {
   "cell_type": "code",
   "execution_count": null,
   "id": "c01f220d-46fa-4f61-b119-e29a9cd43b33",
   "metadata": {},
   "outputs": [],
   "source": [
    "srat[['Doublet_score']][sapply(srat[['Doublet_score']], is.na)] <- 0\n",
    "srat[['Doublet_score']]"
   ]
  },
  {
   "cell_type": "code",
   "execution_count": null,
   "id": "2a37f187-c56c-4548-a5e1-383b87486ccb",
   "metadata": {},
   "outputs": [],
   "source": [
    "srat[['Doublet_score']] <- !is.na(srat[['Doublet_score']])\n"
   ]
  },
  {
   "cell_type": "code",
   "execution_count": null,
   "id": "506f420a-6ad6-4ec6-8ca1-ac5ad50bdfb8",
   "metadata": {},
   "outputs": [],
   "source": [
    "# srat <- subset(srat, subset = percent.rb >= 0)\n",
    "srat <- subset(srat, subset = is.na(Is_doublet))\n",
    "srat"
   ]
  },
  {
   "cell_type": "code",
   "execution_count": null,
   "id": "dead8488-4c2a-490c-8a05-3d0faece6b20",
   "metadata": {},
   "outputs": [],
   "source": [
    "srat[['Is_doublet']] <- !is.na(srat[['Is_doublet']])"
   ]
  },
  {
   "cell_type": "code",
   "execution_count": null,
   "id": "ff4aa97d-0c60-4a81-9841-147ac3c6c21e",
   "metadata": {},
   "outputs": [],
   "source": [
    "srat <- subset(srat, subset = Is_doublet != 'True')\n",
    "srat"
   ]
  },
  {
   "cell_type": "code",
   "execution_count": null,
   "id": "ae24ac8d-2c3e-4e05-a761-9ae0d312fa4d",
   "metadata": {},
   "outputs": [],
   "source": [
    "srat@meta.data"
   ]
  },
  {
   "cell_type": "code",
   "execution_count": null,
   "id": "e0a592bd-e7df-4cca-9fbc-f9d6b1a39397",
   "metadata": {},
   "outputs": [],
   "source": [
    "'nCount_RNA' %in% names(srat@meta.data)"
   ]
  },
  {
   "cell_type": "code",
   "execution_count": null,
   "id": "05765fa5-074a-4792-83b2-b1cf2056dc64",
   "metadata": {},
   "outputs": [],
   "source": [
    "result <- GetMetadataFromSeurat(path)\n",
    "result"
   ]
  },
  {
   "cell_type": "code",
   "execution_count": null,
   "id": "a225d33f-af85-4ba8-a720-7be27d85b542",
   "metadata": {},
   "outputs": [],
   "source": [
    "suffix <- tolower(get_suffix(path))\n",
    "suffix"
   ]
  },
  {
   "cell_type": "code",
   "execution_count": null,
   "id": "382732d8-d2e6-4e6e-9b0f-80984b505fda",
   "metadata": {},
   "outputs": [],
   "source": [
    "seurat_object <- LoadSeurat(path)\n",
    "seurat_object"
   ]
  },
  {
   "cell_type": "code",
   "execution_count": null,
   "id": "2ad344aa-8ee0-4173-a895-308b87090ef1",
   "metadata": {},
   "outputs": [],
   "source": [
    "'umap' %in% names(seurat_object@reductions)"
   ]
  },
  {
   "cell_type": "code",
   "execution_count": null,
   "id": "b43db97a-9588-4337-88d4-1b4dd02abe13",
   "metadata": {},
   "outputs": [],
   "source": [
    "genes <- rownames(seurat_object)\n",
    "typeof(genes)\n",
    "genes"
   ]
  },
  {
   "cell_type": "code",
   "execution_count": null,
   "id": "1d6188ab-44f8-4613-a017-6389b6c265da",
   "metadata": {},
   "outputs": [],
   "source": [
    "cells <- Cells(seurat_object)\n",
    "typeof(cells)\n",
    "cells"
   ]
  },
  {
   "cell_type": "code",
   "execution_count": null,
   "id": "e61df171-534d-415c-806b-0f404a565b20",
   "metadata": {},
   "outputs": [],
   "source": [
    "pca <- Embeddings(object = seurat_object, reduction = \"pca\")\n",
    "typeof(pca)\n",
    "pca"
   ]
  },
  {
   "cell_type": "code",
   "execution_count": null,
   "id": "1e8acc36-820a-4133-85ef-116ac193238c",
   "metadata": {},
   "outputs": [],
   "source": [
    "name <- load(path)\n",
    "seurat_object <- UpdateSeuratObject(get(name))"
   ]
  },
  {
   "cell_type": "code",
   "execution_count": null,
   "id": "0a90d351-fe26-4efc-a878-a02be85ec72f",
   "metadata": {},
   "outputs": [],
   "source": [
    "seurat_object"
   ]
  },
  {
   "cell_type": "code",
   "execution_count": null,
   "id": "be5bad61-ecb5-4222-8826-4d96ec285bb3",
   "metadata": {},
   "outputs": [],
   "source": [
    "features <- seurat_object[['RNA']]@var.features\n",
    "typeof(features)\n",
    "features"
   ]
  },
  {
   "cell_type": "code",
   "execution_count": null,
   "id": "f7a39369-c220-4b9f-be3b-32f51775d2b0",
   "metadata": {},
   "outputs": [],
   "source": [
    "#获取当前用的Idents\n",
    "Idents(seurat_object)\n",
    "levels(seurat_object)"
   ]
  },
  {
   "cell_type": "code",
   "execution_count": null,
   "id": "3ca5b9c8-5d85-4b15-865d-f2fa1cd89699",
   "metadata": {},
   "outputs": [],
   "source": [
    "#总数目\n",
    "nCells <- ncol(seurat_object)\n",
    "nGenes <- nrow(seurat_object)\n",
    "\n",
    "nCells\n",
    "nGenes"
   ]
  },
  {
   "cell_type": "code",
   "execution_count": null,
   "id": "0abc26cb-dcec-455a-a6b4-a56709bb55e7",
   "metadata": {},
   "outputs": [],
   "source": [
    "dim=1:10\n",
    "class(dim)"
   ]
  },
  {
   "cell_type": "code",
   "execution_count": null,
   "id": "90f2d815-54c5-409a-b377-e778819cf945",
   "metadata": {},
   "outputs": [],
   "source": [
    "x <- 1:10\n",
    "x"
   ]
  },
  {
   "cell_type": "code",
   "execution_count": null,
   "id": "4e208cae-d405-4b1e-bbc3-0ab6ce799f48",
   "metadata": {},
   "outputs": [],
   "source": [
    "class(x)"
   ]
  },
  {
   "cell_type": "code",
   "execution_count": null,
   "id": "86108931-ab51-400e-8baf-99a869cfba95",
   "metadata": {},
   "outputs": [],
   "source": [
    "devtools::install_github('JiekaiLab/dior')"
   ]
  },
  {
   "cell_type": "code",
   "execution_count": null,
   "id": "7755e6fe-1982-4aaf-a2ce-bee265d0b01a",
   "metadata": {},
   "outputs": [],
   "source": []
  }
 ],
 "metadata": {
  "kernelspec": {
   "display_name": "R",
   "language": "R",
   "name": "ir"
  },
  "language_info": {
   "codemirror_mode": "r",
   "file_extension": ".r",
   "mimetype": "text/x-r-source",
   "name": "R",
   "pygments_lexer": "r",
   "version": "4.2.1"
  }
 },
 "nbformat": 4,
 "nbformat_minor": 5
}
