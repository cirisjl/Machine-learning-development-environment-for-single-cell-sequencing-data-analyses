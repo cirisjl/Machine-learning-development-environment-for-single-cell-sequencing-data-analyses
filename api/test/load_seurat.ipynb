{
 "cells": [
  {
   "cell_type": "code",
   "execution_count": null,
   "id": "66a49577-7919-4513-989a-b610721dc36c",
   "metadata": {},
   "outputs": [],
   "source": [
    "# devtools::install_github(\"cellgeni/sceasy\")"
   ]
  },
  {
   "cell_type": "code",
   "execution_count": 1,
   "id": "b144d609-82e8-4323-8fe2-1a036cc73856",
   "metadata": {},
   "outputs": [
    {
     "name": "stderr",
     "output_type": "stream",
     "text": [
      "Loading required package: SingleCellExperiment\n",
      "\n",
      "Loading required package: SummarizedExperiment\n",
      "\n",
      "Loading required package: MatrixGenerics\n",
      "\n",
      "Loading required package: matrixStats\n",
      "\n",
      "\n",
      "Attaching package: ‘MatrixGenerics’\n",
      "\n",
      "\n",
      "The following objects are masked from ‘package:matrixStats’:\n",
      "\n",
      "    colAlls, colAnyNAs, colAnys, colAvgsPerRowSet, colCollapse,\n",
      "    colCounts, colCummaxs, colCummins, colCumprods, colCumsums,\n",
      "    colDiffs, colIQRDiffs, colIQRs, colLogSumExps, colMadDiffs,\n",
      "    colMads, colMaxs, colMeans2, colMedians, colMins, colOrderStats,\n",
      "    colProds, colQuantiles, colRanges, colRanks, colSdDiffs, colSds,\n",
      "    colSums2, colTabulates, colVarDiffs, colVars, colWeightedMads,\n",
      "    colWeightedMeans, colWeightedMedians, colWeightedSds,\n",
      "    colWeightedVars, rowAlls, rowAnyNAs, rowAnys, rowAvgsPerColSet,\n",
      "    rowCollapse, rowCounts, rowCummaxs, rowCummins, rowCumprods,\n",
      "    rowCumsums, rowDiffs, rowIQRDiffs, rowIQRs, rowLogSumExps,\n",
      "    rowMadDiffs, rowMads, rowMaxs, rowMeans2, rowMedians, rowMins,\n",
      "    rowOrderStats, rowProds, rowQuantiles, rowRanges, rowRanks,\n",
      "    rowSdDiffs, rowSds, rowSums2, rowTabulates, rowVarDiffs, rowVars,\n",
      "    rowWeightedMads, rowWeightedMeans, rowWeightedMedians,\n",
      "    rowWeightedSds, rowWeightedVars\n",
      "\n",
      "\n",
      "Loading required package: GenomicRanges\n",
      "\n",
      "Loading required package: stats4\n",
      "\n",
      "Loading required package: BiocGenerics\n",
      "\n",
      "\n",
      "Attaching package: ‘BiocGenerics’\n",
      "\n",
      "\n",
      "The following objects are masked from ‘package:stats’:\n",
      "\n",
      "    IQR, mad, sd, var, xtabs\n",
      "\n",
      "\n",
      "The following objects are masked from ‘package:base’:\n",
      "\n",
      "    anyDuplicated, aperm, append, as.data.frame, basename, cbind,\n",
      "    colnames, dirname, do.call, duplicated, eval, evalq, Filter, Find,\n",
      "    get, grep, grepl, intersect, is.unsorted, lapply, Map, mapply,\n",
      "    match, mget, order, paste, pmax, pmax.int, pmin, pmin.int,\n",
      "    Position, rank, rbind, Reduce, rownames, sapply, setdiff, sort,\n",
      "    table, tapply, union, unique, unsplit, which.max, which.min\n",
      "\n",
      "\n",
      "Loading required package: S4Vectors\n",
      "\n",
      "\n",
      "Attaching package: ‘S4Vectors’\n",
      "\n",
      "\n",
      "The following objects are masked from ‘package:base’:\n",
      "\n",
      "    expand.grid, I, unname\n",
      "\n",
      "\n",
      "Loading required package: IRanges\n",
      "\n",
      "Loading required package: GenomeInfoDb\n",
      "\n",
      "Loading required package: Biobase\n",
      "\n",
      "Welcome to Bioconductor\n",
      "\n",
      "    Vignettes contain introductory material; view with\n",
      "    'browseVignettes()'. To cite Bioconductor, see\n",
      "    'citation(\"Biobase\")', and for packages 'citation(\"pkgname\")'.\n",
      "\n",
      "\n",
      "\n",
      "Attaching package: ‘Biobase’\n",
      "\n",
      "\n",
      "The following object is masked from ‘package:MatrixGenerics’:\n",
      "\n",
      "    rowMedians\n",
      "\n",
      "\n",
      "The following objects are masked from ‘package:matrixStats’:\n",
      "\n",
      "    anyMissing, rowMedians\n",
      "\n",
      "\n",
      "Loading required package: scuttle\n",
      "\n",
      "Loading required package: ggplot2\n",
      "\n",
      "Loading required package: SeuratObject\n",
      "\n",
      "Loading required package: sp\n",
      "\n",
      "\n",
      "Attaching package: ‘sp’\n",
      "\n",
      "\n",
      "The following object is masked from ‘package:IRanges’:\n",
      "\n",
      "    %over%\n",
      "\n",
      "\n",
      "\n",
      "Attaching package: ‘SeuratObject’\n",
      "\n",
      "\n",
      "The following object is masked from ‘package:anndata’:\n",
      "\n",
      "    Layers\n",
      "\n",
      "\n",
      "The following object is masked from ‘package:SummarizedExperiment’:\n",
      "\n",
      "    Assays\n",
      "\n",
      "\n",
      "The following object is masked from ‘package:GenomicRanges’:\n",
      "\n",
      "    intersect\n",
      "\n",
      "\n",
      "The following object is masked from ‘package:GenomeInfoDb’:\n",
      "\n",
      "    intersect\n",
      "\n",
      "\n",
      "The following object is masked from ‘package:IRanges’:\n",
      "\n",
      "    intersect\n",
      "\n",
      "\n",
      "The following object is masked from ‘package:S4Vectors’:\n",
      "\n",
      "    intersect\n",
      "\n",
      "\n",
      "The following object is masked from ‘package:BiocGenerics’:\n",
      "\n",
      "    intersect\n",
      "\n",
      "\n",
      "The following object is masked from ‘package:base’:\n",
      "\n",
      "    intersect\n",
      "\n",
      "\n",
      "\n",
      "Attaching package: ‘Seurat’\n",
      "\n",
      "\n",
      "The following object is masked from ‘package:SummarizedExperiment’:\n",
      "\n",
      "    Assays\n",
      "\n",
      "\n",
      "Registered S3 method overwritten by 'SeuratDisk':\n",
      "  method            from  \n",
      "  as.sparse.H5Group Seurat\n",
      "\n"
     ]
    }
   ],
   "source": [
    "library(scater)\n",
    "library(scDblFinder)\n",
    "library(BiocParallel)\n",
    "source(\"../tools/formating/formating.R\")"
   ]
  },
  {
   "cell_type": "code",
   "execution_count": 2,
   "id": "c3f8739c-090d-47f1-a3c2-678b781c3bba",
   "metadata": {},
   "outputs": [
    {
     "name": "stderr",
     "output_type": "stream",
     "text": [
      "Warning message:\n",
      "“Data is of class matrix. Coercing to dgCMatrix.”\n",
      "X -> counts; scale.data -> data\n",
      "\n",
      "Adding AnnData embeddings to Seurat assays\n",
      "\n",
      "Adding AnnData embeddings to Seurat assays\n",
      "\n",
      "Adding AnnData embeddings to Seurat assays\n",
      "\n"
     ]
    },
    {
     "data": {
      "text/plain": [
       "An object of class Seurat \n",
       "23341 features across 2392 samples within 1 assay \n",
       "Active assay: RNA (23341 features, 0 variable features)\n",
       " 2 layers present: counts, data\n",
       " 3 dimensional reductions calculated: pca, tsne, umap"
      ]
     },
     "metadata": {},
     "output_type": "display_data"
    }
   ],
   "source": [
    "# path = \"/ps/ai-ready/data/Clustering/Tabula_Muris/droplet_Bladder_seurat_tiss.h5Seurat\"\n",
    "path = \"/ps/ai-ready/data/Clustering/Tabula_Muris/droplet_Bladder_seurat_tiss.h5ad\"\n",
    "srat <- LoadSeurat(path)\n",
    "srat"
   ]
  },
  {
   "cell_type": "code",
   "execution_count": 3,
   "id": "ddacf99b-ec7f-40e2-a989-a097f0d3009f",
   "metadata": {},
   "outputs": [],
   "source": [
    "# SaveH5Seurat(srat, filename = \"/ps/ai-ready/data/Clustering/Tabula_Muris/droplet_Bladder_seurat_tiss.h5Seurat\", overwrite = TRUE, verbose = FALSE)\n",
    "saveRDS(object = srat, file = \"/ps/ai-ready/data/Clustering/Tabula_Muris/droplet_Bladder_seurat_tiss.rds\")"
   ]
  },
  {
   "cell_type": "code",
   "execution_count": null,
   "id": "a559f43f-ed02-4efc-91b6-a3b2bb1464d3",
   "metadata": {},
   "outputs": [],
   "source": [
    "robj <- readRDS(\"/ps/ai-ready/data/Clustering/Tabula_Muris/droplet_Bladder_seurat_tiss.rds\")\n",
    "robj"
   ]
  },
  {
   "cell_type": "code",
   "execution_count": 4,
   "id": "c9466fc6-c7ce-44e9-898c-487fc374b04a",
   "metadata": {},
   "outputs": [
    {
     "data": {
      "text/plain": [
       "An object of class Seurat \n",
       "23341 features across 2392 samples within 1 assay \n",
       "Active assay: RNA (23341 features, 0 variable features)\n",
       " 2 layers present: counts, data\n",
       " 3 dimensional reductions calculated: pca, tsne, umap"
      ]
     },
     "metadata": {},
     "output_type": "display_data"
    }
   ],
   "source": [
    "srat <- LoadSeurat(\"//ps/ai-ready/data/Clustering/Tabula_Muris/droplet_Bladder_seurat_tiss.rds\")\n",
    "# srat <- LoadSeurat(\"/ps/ai-ready/data/Clustering/Tabula_Muris/droplet_Bladder_seurat_tiss.h5Seurat\")\n",
    "srat"
   ]
  },
  {
   "cell_type": "code",
   "execution_count": null,
   "id": "c8c05ba9-9311-4b33-bc28-015850e54c6d",
   "metadata": {},
   "outputs": [],
   "source": [
    "SaveH5Seurat(srat, filename = \"/ps/ai-ready/data/Clustering/Tabula_Muris/droplet_Bladder_seurat_tiss.h5Seurat\", overwrite = TRUE, verbose = FALSE)\n",
    "srat <- LoadSeurat(\"/ps/ai-ready/data/Clustering/Tabula_Muris/droplet_Bladder_seurat_tiss.h5Seurat\")\n",
    "srat"
   ]
  },
  {
   "cell_type": "code",
   "execution_count": null,
   "id": "4275933e-be6e-4bd9-a8c8-b4f6a01d1f0d",
   "metadata": {},
   "outputs": [],
   "source": [
    "srat <- tryCatch(\n",
    "        LoadSeurat(path),\n",
    "        error = function(e) {\n",
    "            stop(\"The file format is not supported.\")\n",
    "            print(e)\n",
    "        }\n",
    "    )"
   ]
  },
  {
   "cell_type": "code",
   "execution_count": null,
   "id": "606f73e3-dfb2-4819-9c37-d197299f6d0d",
   "metadata": {},
   "outputs": [],
   "source": [
    "srat"
   ]
  },
  {
   "cell_type": "code",
   "execution_count": null,
   "id": "a0a09ba8-ecc0-4637-9af6-80fe67d81e4f",
   "metadata": {},
   "outputs": [],
   "source": [
    "UMAPPlot(object = srat, label=T)"
   ]
  },
  {
   "cell_type": "code",
   "execution_count": null,
   "id": "85ed93a8-0d72-4035-8e0d-b8a571b061fb",
   "metadata": {},
   "outputs": [],
   "source": [
    "srat@meta.data"
   ]
  },
  {
   "cell_type": "code",
   "execution_count": null,
   "id": "a0b05785-b9fa-429c-869f-197eaf7d5ac9",
   "metadata": {},
   "outputs": [],
   "source": [
    "colnames(srat[['RNA']])"
   ]
  },
  {
   "cell_type": "code",
   "execution_count": null,
   "id": "09a9c0ee-ec1b-44f9-9db0-9a80249e8344",
   "metadata": {},
   "outputs": [],
   "source": [
    "srat[['pca']]"
   ]
  },
  {
   "cell_type": "code",
   "execution_count": null,
   "id": "8094b2ae-e446-48f9-b8a5-64b89f4b30c2",
   "metadata": {},
   "outputs": [],
   "source": [
    "srat <- Seurat::ReadH5AD(path)\n",
    "srat"
   ]
  },
  {
   "cell_type": "code",
   "execution_count": null,
   "id": "d2459881-1469-4bb6-b09e-210d66f22740",
   "metadata": {},
   "outputs": [],
   "source": [
    "adata <- LoadAnndata(path)\n",
    "adata"
   ]
  },
  {
   "cell_type": "code",
   "execution_count": null,
   "id": "3d513589-fb47-43a0-beed-5f1ec3b19acb",
   "metadata": {},
   "outputs": [],
   "source": [
    "# Add dimension reduction\n",
    "  embed_names <- unlist(adata$obsm_keys())\n",
    "  if (length(embed_names) > 0) {\n",
    "    embeddings <- sapply(embed_names, function(x) as.matrix(adata$obsm[[x]]), simplify = FALSE, USE.NAMES = TRUE)\n",
    "    names(embeddings) <- embed_names\n",
    "      for (name in embed_names) {\n",
    "        rownames(embeddings[[name]]) <- colnames(srat[['RNA']])\n",
    "      }\n",
    "  }"
   ]
  },
  {
   "cell_type": "code",
   "execution_count": null,
   "id": "88eb538e-dfc4-40fb-9fe1-fd2ff4877375",
   "metadata": {},
   "outputs": [],
   "source": [
    "embeddings"
   ]
  },
  {
   "cell_type": "code",
   "execution_count": null,
   "id": "c407ef45-b217-4d65-a1f0-518cb3d27c9e",
   "metadata": {},
   "outputs": [],
   "source": [
    "length(adata$obsm[['X_tsne']])"
   ]
  },
  {
   "cell_type": "code",
   "execution_count": null,
   "id": "53c6cce0-6169-473e-83e1-6798d8bb8e9c",
   "metadata": {},
   "outputs": [],
   "source": [
    "adata$obsm[['X_tsne']]"
   ]
  },
  {
   "cell_type": "code",
   "execution_count": null,
   "id": "a7e1c787-cc98-4aec-b997-b45bac0d717c",
   "metadata": {},
   "outputs": [],
   "source": [
    "adata$layers"
   ]
  },
  {
   "cell_type": "code",
   "execution_count": null,
   "id": "e3f62816-6821-408f-b8b8-b186d7bb43a6",
   "metadata": {},
   "outputs": [],
   "source": [
    "adata$layers <- NULL\n",
    "adata"
   ]
  },
  {
   "cell_type": "code",
   "execution_count": null,
   "id": "b342fe99-91a6-4006-8807-b77053abe151",
   "metadata": {},
   "outputs": [],
   "source": [
    "'' %in% names(adata$layers)"
   ]
  },
  {
   "cell_type": "code",
   "execution_count": null,
   "id": "5151d653-cb0b-4e2a-9780-1c4e452ad9bd",
   "metadata": {},
   "outputs": [],
   "source": [
    "names(adata$layers)"
   ]
  },
  {
   "cell_type": "code",
   "execution_count": null,
   "id": "5e63df43-62b4-40a9-af84-60c70f87fef6",
   "metadata": {},
   "outputs": [],
   "source": [
    "for (layer in names(adata$layers)){\n",
    "    print(layer)\n",
    "  }"
   ]
  },
  {
   "cell_type": "code",
   "execution_count": null,
   "id": "1ca24628-0af4-49c9-84ca-f60c150055b8",
   "metadata": {},
   "outputs": [],
   "source": [
    "is.null(names(adata$layers))"
   ]
  },
  {
   "cell_type": "code",
   "execution_count": null,
   "id": "bc0f5191-893b-4fc9-9cb2-d2cd090c743c",
   "metadata": {},
   "outputs": [],
   "source": [
    "names(adata$layers) == 'aaa'"
   ]
  },
  {
   "cell_type": "code",
   "execution_count": null,
   "id": "a339456f-3239-4740-b6a9-006cf95c5846",
   "metadata": {},
   "outputs": [],
   "source": [
    "'scale.data' %in% names(adata$layers)"
   ]
  },
  {
   "cell_type": "code",
   "execution_count": null,
   "id": "66ba5a2d-80b6-4b4b-ac42-4ef1bc431e1c",
   "metadata": {},
   "outputs": [],
   "source": [
    "adata$layers['scale.data']"
   ]
  },
  {
   "cell_type": "code",
   "execution_count": null,
   "id": "6fbee9b6-9bfe-42a5-ab28-846edd72c1ea",
   "metadata": {},
   "outputs": [],
   "source": [
    "srat <- LoadSeurat(\"/ps/ai-ready/data/Clustering/Tabula_Muris/droplet_Bladder_seurat_tiss.h5Seurat\")\n",
    "srat"
   ]
  },
  {
   "cell_type": "code",
   "execution_count": null,
   "id": "aa86d3a2-a476-40c6-a91d-45c13bad6aad",
   "metadata": {},
   "outputs": [],
   "source": [
    "print(srat[['umap']])"
   ]
  },
  {
   "cell_type": "code",
   "execution_count": null,
   "id": "6da40966-93a9-4c45-99e7-3d2f28778435",
   "metadata": {},
   "outputs": [],
   "source": [
    "dims=1:10\n",
    "srat <- FindVariableFeatures(srat, selection.method = \"vst\")\n",
    "srat <- ScaleData(srat, features = rownames(srat))\n",
    "\n",
    "# PCA\n",
    "# srat <- RunPCA(srat, features = VariableFeatures(srat), ndims.print = 6:10, nfeatures.print = 10)\n",
    "srat <- RunPCA(srat, features = VariableFeatures(srat))\n",
    "\n",
    "srat <- FindNeighbors(srat, dims=dims)\n",
    "srat <- FindClusters(srat, resolution = 0.5)\n",
    "srat\n",
    "\n",
    "# TSNE\n",
    "srat <- RunTSNE(srat, dims=dims)\n",
    "# UMAP\n",
    "srat <- RunUMAP(srat, dims=dims)\n",
    "\n",
    "umap <- Embeddings(object = srat, reduction = \"umap\")"
   ]
  },
  {
   "cell_type": "code",
   "execution_count": null,
   "id": "28ef1303-23e1-4798-b8d4-3481d55d9f5b",
   "metadata": {},
   "outputs": [],
   "source": [
    "embed_names <- unlist(adata$obsm_keys())\n",
    "embed_names"
   ]
  },
  {
   "cell_type": "code",
   "execution_count": null,
   "id": "e3f7ca07-caa2-44e9-993a-fa69f9c0838b",
   "metadata": {},
   "outputs": [],
   "source": [
    "adata$obsm[['X_umap']]"
   ]
  },
  {
   "cell_type": "code",
   "execution_count": null,
   "id": "0dd83280-8ae6-4b2b-b692-dfb344a94ffd",
   "metadata": {},
   "outputs": [],
   "source": [
    "adata$obsm[['X_pca']]"
   ]
  },
  {
   "cell_type": "code",
   "execution_count": null,
   "id": "4047145e-8f08-481d-a80b-2449acbe42c1",
   "metadata": {},
   "outputs": [],
   "source": [
    "as.matrix(adata$obsm[['X_pca']])"
   ]
  },
  {
   "cell_type": "code",
   "execution_count": null,
   "id": "3f1b5a56-bfdf-4d9a-8075-da1bdf611899",
   "metadata": {},
   "outputs": [],
   "source": [
    "adata_Seurat <- CreateSeuratObject(counts = t(adata$X), meta.data = adata$obs)\n",
    "adata_Seurat"
   ]
  },
  {
   "cell_type": "code",
   "execution_count": null,
   "id": "29410052-ec2d-4480-a57d-8e9a3a581fb7",
   "metadata": {},
   "outputs": [],
   "source": [
    "adata_Seurat$data"
   ]
  },
  {
   "cell_type": "code",
   "execution_count": null,
   "id": "371e09ce-06ec-4bae-bea5-c2cedf537876",
   "metadata": {},
   "outputs": [],
   "source": [
    "if (reticulate::py_to_r(sp$issparse(adata$X))) {\n",
    "      X <- Matrix::t(reticulate::py_to_r(sp$csc_matrix(adata$X)))\n",
    "    } else {\n",
    "      X <- t(reticulate::py_to_r(adata$X))\n",
    "    }"
   ]
  },
  {
   "cell_type": "code",
   "execution_count": null,
   "id": "b5eb0a07-b6da-4217-8811-dd4407928359",
   "metadata": {},
   "outputs": [],
   "source": [
    "adata$X"
   ]
  },
  {
   "cell_type": "code",
   "execution_count": null,
   "id": "5440ed46-672a-41c4-afd8-538a2f46a3bf",
   "metadata": {},
   "outputs": [],
   "source": [
    ".obs2metadata <- function(obs_pd, assay = \"RNA\") {\n",
    "  obs_df <- .regularise_df(obs_pd, drop_single_values=FALSE, drop_na_values=TRUE)\n",
    "  colnames(obs_df) <- sub(\"n_counts\", paste0(\"nCounts_\", assay), colnames(obs_df))\n",
    "  colnames(obs_df) <- sub(\"n_genes\", paste0(\"nFeaturess_\", assay), colnames(obs_df))\n",
    "  return(obs_df)\n",
    "}\n",
    "\n",
    "#' Prepare feature metadata\n",
    "#'\n",
    "#' This function prepare feature metadata from AnnData.var\n",
    "#'\n",
    "#' @param var_pd Input AnnData.var dataframe\n",
    "#'\n",
    "#' @return AnnData object\n",
    "#'\n",
    "#' @import reticulate\n",
    ".var2feature_metadata <- function(var_pd) {\n",
    "  var_df <- .regularise_df(var_pd, drop_single_values=FALSE, drop_na_values=TRUE)\n",
    "  colnames(var_df) <- sub(\"dispersions_norm\", \"mvp.dispersion.scaled\", colnames(var_df))\n",
    "  colnames(var_df) <- sub(\"dispersions\", \"mvp.dispersion\", colnames(var_df))\n",
    "  colnames(var_df) <- sub(\"means\", \"mvp.mean\", colnames(var_df))\n",
    "  colnames(var_df) <- sub(\"highly_variable\", \"highly.variable\", colnames(var_df))\n",
    "  return(var_df)\n",
    "}"
   ]
  },
  {
   "cell_type": "code",
   "execution_count": null,
   "id": "b764b18f-c2d1-4dae-9839-f931a05f03b3",
   "metadata": {},
   "outputs": [],
   "source": [
    "obs_df <- .obs2metadata(adata$obs)\n",
    "var_df <- .var2feature_metadata(adata$var)\n",
    "X <- t(adata$X)\n",
    "colnames(X) <- rownames(obs_df)\n",
    "rownames(X) <- rownames(var_df)\n",
    "X"
   ]
  },
  {
   "cell_type": "code",
   "execution_count": null,
   "id": "2d99eee8-591b-476c-be23-8fe3b8ed1881",
   "metadata": {},
   "outputs": [],
   "source": [
    "rownames(obs_df)"
   ]
  },
  {
   "cell_type": "code",
   "execution_count": null,
   "id": "bcee3721-1d55-489f-b28c-149f90341c35",
   "metadata": {},
   "outputs": [],
   "source": [
    "rownames(var_df)"
   ]
  },
  {
   "cell_type": "code",
   "execution_count": null,
   "id": "9085ec31-9b8e-4b8f-aa3f-d65356405993",
   "metadata": {},
   "outputs": [],
   "source": [
    "obs_df"
   ]
  },
  {
   "cell_type": "code",
   "execution_count": null,
   "id": "c99a50db-e0ce-46c4-847d-ce3891408c56",
   "metadata": {},
   "outputs": [],
   "source": [
    "x_t <- Matrix::t(adata$X)\n",
    "x_t"
   ]
  },
  {
   "cell_type": "code",
   "execution_count": null,
   "id": "726a6105-0b89-4bcb-af38-2675cac44527",
   "metadata": {},
   "outputs": [],
   "source": [
    "adata_Seurat$RNA$counts"
   ]
  },
  {
   "cell_type": "code",
   "execution_count": null,
   "id": "091d4d91-c50e-4ca7-bb8e-0aa0ee647b4e",
   "metadata": {},
   "outputs": [],
   "source": [
    "adata_Seurat$RNA$counts"
   ]
  },
  {
   "cell_type": "code",
   "execution_count": null,
   "id": "dba47a05-2ff5-408c-87fa-e4462b36326f",
   "metadata": {},
   "outputs": [],
   "source": [
    "Convert(path, \"h5seurat\", overwrite = TRUE)"
   ]
  },
  {
   "cell_type": "code",
   "execution_count": null,
   "id": "49cab4f7-8a9e-433a-8072-069f8346bce5",
   "metadata": {},
   "outputs": [],
   "source": [
    "srat <- LoadH5Seurat(paste0(tools::file_path_sans_ext(path), \".h5seurat\"), meta.data = FALSE, misc = FALSE)"
   ]
  },
  {
   "cell_type": "code",
   "execution_count": null,
   "id": "260cf277-5275-46fc-908a-23be6cfab9e5",
   "metadata": {},
   "outputs": [],
   "source": [
    "library(Seurat)\n",
    "library(SingleCellExperiment)\n",
    "library(SeuratDisk)\n",
    "library(SeuratData)\n",
    "input = \"/ps/ai-ready/data/error/tung.rds\"\n",
    "robj <- readRDS(input)\n",
    "robj"
   ]
  },
  {
   "cell_type": "code",
   "execution_count": null,
   "id": "5fb9d7dc-df0b-46fb-88a2-f2377537d1d1",
   "metadata": {},
   "outputs": [],
   "source": [
    "logcounts(robj)"
   ]
  },
  {
   "cell_type": "code",
   "execution_count": null,
   "id": "804c9bd1-a1fb-49b3-ba42-f0cc673d9c15",
   "metadata": {},
   "outputs": [],
   "source": [
    "'logcounts'  %in% names(robj)"
   ]
  },
  {
   "cell_type": "code",
   "execution_count": null,
   "id": "39bbb360-2c6c-4f94-830f-525c881a011d",
   "metadata": {},
   "outputs": [],
   "source": [
    "srat <- as.Seurat(robj, slot = \"counts\")"
   ]
  },
  {
   "cell_type": "code",
   "execution_count": null,
   "id": "27660094-7de8-464d-81d5-ec2056eaec18",
   "metadata": {},
   "outputs": [],
   "source": [
    "# path <- \"/ps/ai-ready/data/Clustering/Tabula_Muris/droplet_Bladder_seurat_tiss.Robj\"\n",
    "path <- \"/ps/ai-ready/data/Clustering/Tabula_Muris/droplet_Bladder_seurat_tiss.h5Seurat\""
   ]
  },
  {
   "cell_type": "code",
   "execution_count": null,
   "id": "a0c593ee-5c92-40d5-959a-cde6b390114a",
   "metadata": {},
   "outputs": [],
   "source": [
    "srat <- LoadSeurat(path)\n",
    "srat"
   ]
  },
  {
   "cell_type": "code",
   "execution_count": null,
   "id": "a6299d58-0820-495a-a351-e9f6c7a321e9",
   "metadata": {},
   "outputs": [],
   "source": [
    "adata <- SeuratToAnndata(srat)\n",
    "adata"
   ]
  },
  {
   "cell_type": "code",
   "execution_count": null,
   "id": "15a96d97-33f8-476c-8d2f-481ae183945a",
   "metadata": {},
   "outputs": [],
   "source": [
    "adata$X"
   ]
  },
  {
   "cell_type": "code",
   "execution_count": null,
   "id": "055070f8-bd1f-4839-81c1-f3dec9db6052",
   "metadata": {},
   "outputs": [],
   "source": [
    "obj <- srat\n",
    "default_assay <- 'RNA'\n",
    "if(paste0(\"nCount_\", default_assay) %in% names(obj@meta.data)) names(obj@meta.data)[names(obj@meta.data) ==paste0(\"nCount_\", default_assay)] <-\"n_counts\"\n",
    "if(paste0(\"nFeature_\", default_assay) %in% names(obj@meta.data)) names(obj@meta.data)[names(obj@meta.data) ==paste0(\"nFeature_\", default_assay)] <-\"n_genes\"\n",
    "if(\"percent.mt\" %in% names(obj@meta.data)) names(obj@meta.data)[names(obj@meta.data) ==\"percent.mt\"] <-\"percent_mito\"\n",
    "obj@meta.data"
   ]
  },
  {
   "cell_type": "code",
   "execution_count": null,
   "id": "f4a2cf45-e0ee-4de4-beb0-b8952d0cce0d",
   "metadata": {},
   "outputs": [],
   "source": [
    "adata$layers['scale.data']"
   ]
  },
  {
   "cell_type": "code",
   "execution_count": null,
   "id": "eba87618-54ff-4c1a-bcae-ac71e3884971",
   "metadata": {},
   "outputs": [],
   "source": [
    "srat[['RNA']]@counts"
   ]
  },
  {
   "cell_type": "code",
   "execution_count": null,
   "id": "2122e16a-5b02-4235-8ea1-0fe8bc20eb06",
   "metadata": {},
   "outputs": [],
   "source": [
    "mat <- Seurat::GetAssayData(object=srat, assay='RNA', layer='X')"
   ]
  },
  {
   "cell_type": "code",
   "execution_count": null,
   "id": "079289bf-8ff0-4420-9bf7-9f115f9e2c40",
   "metadata": {},
   "outputs": [],
   "source": [
    "default_assay <- DefaultAssay(srat)\n",
    "default_assay"
   ]
  },
  {
   "cell_type": "code",
   "execution_count": null,
   "id": "408d6411-1df8-4854-b195-ef59d3c11d5b",
   "metadata": {},
   "outputs": [],
   "source": [
    "adata <- LoadAnndata(\"/ps/ai-ready/data/Clustering/Tabula_Muris/droplet_Bladder_seurat_tiss.h5ad\")\n",
    "adata"
   ]
  },
  {
   "cell_type": "code",
   "execution_count": null,
   "id": "89986048-4a9b-4986-bd0b-fdd2f59adfbc",
   "metadata": {},
   "outputs": [],
   "source": [
    "adata$obsm['X_pca']"
   ]
  },
  {
   "cell_type": "code",
   "execution_count": null,
   "id": "6f349ebe-3fd8-45b3-9172-72ea4aeb4629",
   "metadata": {},
   "outputs": [],
   "source": [
    "Embeddings(object = srat, reduction = \"pca\")"
   ]
  },
  {
   "cell_type": "code",
   "execution_count": null,
   "id": "27ca88ee-e074-4cf5-81b7-e950f7ea7823",
   "metadata": {},
   "outputs": [],
   "source": [
    "max(srat[['RNA']]@counts)"
   ]
  },
  {
   "cell_type": "code",
   "execution_count": null,
   "id": "fd730f8b-fc95-4928-97d7-c9e5433da6fa",
   "metadata": {},
   "outputs": [],
   "source": [
    "min(srat[['RNA']]@counts)"
   ]
  },
  {
   "cell_type": "code",
   "execution_count": null,
   "id": "ee6c670d-6546-45b2-9a27-033ee91c9034",
   "metadata": {},
   "outputs": [],
   "source": [
    "doublet_annnotation <- AnnotateDroplet(srat[[default_assay]]@counts)"
   ]
  },
  {
   "cell_type": "code",
   "execution_count": null,
   "id": "965e98ec-9fd5-4734-8175-745b6d847120",
   "metadata": {},
   "outputs": [],
   "source": [
    "doublet_annnotation$doublet_score"
   ]
  },
  {
   "cell_type": "code",
   "execution_count": null,
   "id": "0bc51fed-2498-43c9-b277-c76fb36e68e0",
   "metadata": {},
   "outputs": [],
   "source": [
    "srat[[\"Doublet_score\"]] <- doublet_annnotation$doublet_score\n",
    "srat[[\"Doublet_class\"]] <- doublet_annnotation$doublet_class"
   ]
  },
  {
   "cell_type": "code",
   "execution_count": null,
   "id": "752c1517-ec8b-4820-a190-6f0a7c08a055",
   "metadata": {},
   "outputs": [],
   "source": [
    "data_mat = srat[['RNA']]@counts"
   ]
  },
  {
   "cell_type": "code",
   "execution_count": null,
   "id": "8a3a3db6-5787-4fc2-9a07-b414f8d7a86e",
   "metadata": {},
   "outputs": [],
   "source": [
    "# -i data_mat -o doublet_score -o doublet_class\n",
    "\n",
    "set.seed(123)\n",
    "sce = scDblFinder(\n",
    "    SingleCellExperiment(\n",
    "        list(counts=data_mat),\n",
    "    ) \n",
    ")\n",
    "doublet_score = sce$scDblFinder.score\n",
    "doublet_class = sce$scDblFinder.class"
   ]
  },
  {
   "cell_type": "code",
   "execution_count": null,
   "id": "19e6ddc8-72f3-450b-a8af-f6c6be07f47e",
   "metadata": {},
   "outputs": [],
   "source": [
    "srat[[\"Doublet_score\"]] <- doublet_score"
   ]
  },
  {
   "cell_type": "code",
   "execution_count": null,
   "id": "a8ac1ee2-6fe0-4e81-ba74-e82185c42a28",
   "metadata": {},
   "outputs": [],
   "source": [
    "srat[[\"Doublet_class\"]] <- doublet_class"
   ]
  },
  {
   "cell_type": "code",
   "execution_count": null,
   "id": "a22ca2e7-d6a4-45ae-a178-d68b969ad2a2",
   "metadata": {},
   "outputs": [],
   "source": [
    "srat[[]]"
   ]
  },
  {
   "cell_type": "code",
   "execution_count": null,
   "id": "2dc6b484-db21-4ea7-8554-45db2160f838",
   "metadata": {},
   "outputs": [],
   "source": [
    "dim(srat[['RNA']]@counts)\n",
    "dim(srat)\n",
    "dim(srat@meta.data)"
   ]
  },
  {
   "cell_type": "code",
   "execution_count": null,
   "id": "40701ef2-af47-41a7-9de9-2a0859e37be0",
   "metadata": {},
   "outputs": [],
   "source": [
    "if(!paste0(\"nCount_\", default_assay) %in% names(x = srat[[]])) srat[[paste0(\"nCount_\", default_assay)]] <- colSums(x = srat[[default_assay]], slot = \"counts\")  # nCount of the default assay\n",
    "if(!paste0(\"nFeature_\", default_assay) %in% names(x = srat[[]])) srat[[paste0(\"nFeature_\", default_assay)]] <- colSums(x = GetAssayData(object = srat[[default_assay]], slot = \"counts\") > 0)  # nFeature of the default assay"
   ]
  },
  {
   "cell_type": "code",
   "execution_count": null,
   "id": "f58faf9f-780e-4a8f-a836-368a2ef29dc9",
   "metadata": {},
   "outputs": [],
   "source": [
    "head(srat@meta.data)"
   ]
  },
  {
   "cell_type": "code",
   "execution_count": null,
   "id": "88ecf46d-90ef-43fd-ab02-8334381ddabd",
   "metadata": {},
   "outputs": [],
   "source": [
    "output_path <- '/ps/ai-ready/data/Clustering/Tabula_Muris/droplet_Bladder_seurat_tiss.h5Seurat'\n",
    "SaveH5Seurat(srat, filename = output_path, overwrite = TRUE, verbose = TRUE)"
   ]
  },
  {
   "cell_type": "code",
   "execution_count": null,
   "id": "eabafc99-039c-47b5-9a41-13295c1dfff3",
   "metadata": {},
   "outputs": [],
   "source": [
    "srat1 <- LoadH5Seurat(output_path)\n",
    "srat1"
   ]
  },
  {
   "cell_type": "code",
   "execution_count": null,
   "id": "f2e50a74-b183-436c-8180-9d0a80cc6fa7",
   "metadata": {},
   "outputs": [],
   "source": [
    "srat1@meta.data"
   ]
  },
  {
   "cell_type": "code",
   "execution_count": null,
   "id": "affb447c-3606-4f5c-9219-e205db50ae24",
   "metadata": {},
   "outputs": [],
   "source": [
    "adata_path <- Convert('/ps/ai-ready/data/Clustering/Tabula_Muris/droplet_Bladder_seurat_tiss.h5Seurat', dest = \"h5ad\" , overwrite = TRUE)\n",
    "adata_path"
   ]
  },
  {
   "cell_type": "code",
   "execution_count": null,
   "id": "133a53bd-216f-4bde-98fc-30c62af8cf69",
   "metadata": {},
   "outputs": [],
   "source": [
    "# Calculate the percentage of mitocondrial per cell and add to the metadata.\n",
    "if(! \"percent.mt\" %in% names(x = srat[[]])) srat[[\"percent.mt\"]] <- PercentageFeatureSet(srat, pattern = \"^MT-\")\n",
    "# Calculate the proportion gene expression that comes from ribosomal proteins.\n",
    "if(! \"percent.rb\" %in% names(x = srat[[]])) srat[[\"percent.rb\"]] <- PercentageFeatureSet(srat, pattern = \"^RP[SL]\")\n",
    "\n",
    "# Percentage hemoglobin genes - includes all genes starting with HB except HBP.\n",
    "if(! \"percent.hb\" %in% names(x = srat[[]])) srat[[\"percent.hb\"]] <- PercentageFeatureSet(srat, pattern = \"^HB[^(P)]\")\n",
    "if(! \"percent.plat\" %in% names(x = srat[[]])) srat[[\"percent.plat\"]] <- PercentageFeatureSet(srat, pattern = \"PECAM1|PF4\")\n",
    "head(srat@meta.data)"
   ]
  },
  {
   "cell_type": "code",
   "execution_count": null,
   "id": "9902a395-bfba-4857-8deb-047fb43e2b66",
   "metadata": {},
   "outputs": [],
   "source": [
    "# Add the doublet annotation\n",
    "doublets <- read.table(here::here('api/tools/qc/scrublet_calls.tsv'), header = F, row.names = 1)\n",
    "colnames(doublets) <- c(\"Doublet_score\", \"Is_doublet\")\n",
    "srat <- AddMetaData(srat, doublets)\n",
    "# srat[['Is_doublet']] <- !is.na(srat[['Is_doublet']])"
   ]
  },
  {
   "cell_type": "code",
   "execution_count": null,
   "id": "5f2a4975-e397-4218-9604-fbd3b78e8381",
   "metadata": {},
   "outputs": [],
   "source": [
    "head(srat@meta.data)"
   ]
  },
  {
   "cell_type": "code",
   "execution_count": null,
   "id": "b7afb29b-e016-493d-89b3-5bf9735416de",
   "metadata": {},
   "outputs": [],
   "source": [
    "srat@meta.data"
   ]
  },
  {
   "cell_type": "code",
   "execution_count": null,
   "id": "1a655c17-849a-48a1-a5af-c085f3e81989",
   "metadata": {},
   "outputs": [],
   "source": [
    "names(srat@meta.data)[names(srat@meta.data) ==\"nCount_RNA\"] <-\"n_counts\"\n",
    "srat@meta.data"
   ]
  },
  {
   "cell_type": "code",
   "execution_count": null,
   "id": "9d4e490b-3ad5-45dd-88b3-01d07a73555b",
   "metadata": {},
   "outputs": [],
   "source": [
    "names(srat@meta.data)"
   ]
  },
  {
   "cell_type": "code",
   "execution_count": null,
   "id": "09b253c0-fef6-45a6-b60c-20597f12b378",
   "metadata": {},
   "outputs": [],
   "source": [
    "nFeature_min=200\n",
    "nFeature_max=0\n",
    "percent_mt_max=5\n",
    "percent_rb_min=0\n",
    "srat <- subset(srat, subset = paste0(\"nFeature_\", default_assay) > nFeature_min & percent.mt < percent_mt_max)\n",
    "if(nFeature_max != 0) srat <- subset(srat, subset = paste0(\"nFeature_\", default_assay) < nFeature_max)\n",
    "if(percent_rb_min != 0)  srat <- subset(srat, subset = percent.rb > percent_rb_min)"
   ]
  },
  {
   "cell_type": "code",
   "execution_count": null,
   "id": "260a6b7f-94b8-4f6a-aadb-e03f64bf569f",
   "metadata": {},
   "outputs": [],
   "source": [
    "srat <- subset(srat, subset = Is_doublet != 'True' | is.na(Is_doublet))"
   ]
  },
  {
   "cell_type": "code",
   "execution_count": null,
   "id": "6b43c216-4881-4cb4-9fe9-95e7fea3d1b4",
   "metadata": {},
   "outputs": [],
   "source": [
    "#' Regularise dataframe\n",
    "#'\n",
    "#' This function checks if certain columns of a dataframe is of a single value\n",
    "#' and drop them if required\n",
    "#'\n",
    "#' @param df Input data frame, usually cell metadata table (data.frame-like\n",
    "#'   object)\n",
    "#' @param drop_single_values Drop columns with only a single value (logical)\n",
    "#'\n",
    "#' @return Dataframe\n",
    ".regularise_df <- function(df, drop_single_values=FALSE, drop_na_values=TRUE) {\n",
    "  if (ncol(df) == 0) df[[\"name\"]] <- rownames(df)\n",
    "  if (drop_single_values) {\n",
    "    k_singular <- sapply(df, function(x) length(unique(x)) == 1)\n",
    "    if (sum(k_singular) > 0) {\n",
    "      warning(\n",
    "        paste(\"Dropping single category variables:\"),\n",
    "        paste(colnames(df)[k_singular], collapse = \", \")\n",
    "      )\n",
    "    }\n",
    "    df <- df[, !k_singular, drop = F]\n",
    "    if (ncol(df) == 0) df[[\"name\"]] <- rownames(df)\n",
    "  }\n",
    " if (drop_na_values) {\n",
    "    k_na <- sapply(srat@meta.data, function(x) sum(is.na(x))==length(x))\n",
    "    if (sum(k_na) > 0) {\n",
    "      warning(\n",
    "        paste(\"Dropping NA category variables:\"),\n",
    "        paste(colnames(df)[k_na], collapse = \", \")\n",
    "      )\n",
    "    }\n",
    "    df <- df[, !k_na, drop = F]\n",
    "    if (ncol(df) == 0) df[[\"name\"]] <- rownames(df)\n",
    "  }\n",
    "  return(df)\n",
    "}"
   ]
  },
  {
   "cell_type": "code",
   "execution_count": null,
   "id": "9506e842-153e-4028-8422-adcdb7fa5dbe",
   "metadata": {},
   "outputs": [],
   "source": [
    "output_path_rds <- '/ps/ai-ready/data/Clustering/Tabula_Muris/droplet_Bladder_seurat_tiss.rds'\n",
    "saveRDS(srat, output_path_rds)\n",
    "srat1 <- LoadSeurat(output_path_rds)\n",
    "srat1"
   ]
  },
  {
   "cell_type": "code",
   "execution_count": null,
   "id": "b3795b46-8420-41fb-ac83-87109bc40136",
   "metadata": {},
   "outputs": [],
   "source": [
    "k_na <- sapply(srat@meta.data, function(x) sum(is.na(x))==length(x))\n",
    "k_na\n",
    "sum(k_na)"
   ]
  },
  {
   "cell_type": "code",
   "execution_count": null,
   "id": "a812d011-247f-4517-92a9-f3ddf7761012",
   "metadata": {},
   "outputs": [],
   "source": []
  },
  {
   "cell_type": "code",
   "execution_count": null,
   "id": "6de8e5b6-6de7-4de8-a8d8-3c18758941ef",
   "metadata": {},
   "outputs": [],
   "source": [
    "srat_qc@meta.data %>% is.na()"
   ]
  },
  {
   "cell_type": "code",
   "execution_count": null,
   "id": "a5814537-dce3-4d63-841e-342fb3c08f42",
   "metadata": {},
   "outputs": [],
   "source": [
    "k_singular <- sapply(srat_qc@meta.data, function(x) length(unique(x)) == 1)\n",
    "k_singular"
   ]
  },
  {
   "cell_type": "code",
   "execution_count": null,
   "id": "000d0c07-f0d4-4b53-9db3-8695efcebf90",
   "metadata": {},
   "outputs": [],
   "source": [
    "srat_qc@meta.data"
   ]
  },
  {
   "cell_type": "code",
   "execution_count": null,
   "id": "bcb64479-e5b4-4f6c-aa39-6575314f7ec0",
   "metadata": {},
   "outputs": [],
   "source": [
    "srat@meta.data <- .regularise_df(srat@meta.data, drop_single_values=FALSE, drop_na_values=TRUE)\n",
    "srat@meta.data"
   ]
  },
  {
   "cell_type": "code",
   "execution_count": null,
   "id": "c3fc2d99-3bd5-4e0e-ab31-590caf70dae5",
   "metadata": {},
   "outputs": [],
   "source": [
    "srat_qc@meta.data <- .regularise_df(srat_qc@meta.data, drop_single_values = FALSE)\n",
    "srat_qc@meta.data"
   ]
  },
  {
   "cell_type": "code",
   "execution_count": null,
   "id": "c74fc5e1-af6d-4baa-87c4-97ed9cfa86aa",
   "metadata": {},
   "outputs": [],
   "source": [
    "output_path <- '/ps/ai-ready/data/Clustering/Tabula_Muris/droplet_Bladder_seurat_tiss.h5Seurat'\n",
    "SaveH5Seurat(srat_qc, filename = output_path, overwrite = TRUE, verbose = TRUE)\n",
    "srat_3 <- LoadH5Seurat(output_path)\n",
    "srat_3"
   ]
  },
  {
   "cell_type": "code",
   "execution_count": null,
   "id": "d72c3350-1464-4b27-8af1-7e756efb83fb",
   "metadata": {},
   "outputs": [],
   "source": [
    "output_path <- '/ps/ai-ready/data/Clustering/Tabula_Muris/droplet_Bladder_seurat_tiss.h5Seurat'\n",
    "SaveH5Seurat(srat1, filename = output_path, overwrite = TRUE, verbose = TRUE)\n",
    "srat_2 <- LoadH5Seurat(output_path)\n",
    "srat_2"
   ]
  },
  {
   "cell_type": "code",
   "execution_count": null,
   "id": "9e7497b3-3e58-4cb1-b752-9bbdd4f56c7f",
   "metadata": {},
   "outputs": [],
   "source": [
    "srat1[[\"meta.data\"]]"
   ]
  },
  {
   "cell_type": "code",
   "execution_count": null,
   "id": "4383b840-6473-4fb6-8bc6-d2eaecc81a25",
   "metadata": {},
   "outputs": [],
   "source": [
    "srat1@meta.data"
   ]
  },
  {
   "cell_type": "code",
   "execution_count": null,
   "id": "9b48dc91-8451-4761-8509-63b84c3c4138",
   "metadata": {},
   "outputs": [],
   "source": [
    "devtools::install_github(\"cellgeni/sceasy\")"
   ]
  },
  {
   "cell_type": "code",
   "execution_count": null,
   "id": "d4ff17ef-ca01-47f1-ad89-9917df098102",
   "metadata": {},
   "outputs": [],
   "source": [
    "sceasy::convertFormat(srat1, from=\"seurat\", to=\"anndata\",\n",
    "                       outFile='/ps/ai-ready/data/Clustering/Tabula_Muris/droplet_Bladder_seurat_tiss.h5ad')"
   ]
  },
  {
   "cell_type": "code",
   "execution_count": null,
   "id": "1d0e0e8e-df27-4cc0-9d3f-9b67a3d61781",
   "metadata": {},
   "outputs": [],
   "source": [
    "adata <- LoadAnndata('/ps/ai-ready/data/Clustering/Tabula_Muris/droplet_Bladder_seurat_tiss.h5ad')\n",
    "adata"
   ]
  },
  {
   "cell_type": "code",
   "execution_count": null,
   "id": "8f15d725-31cf-4737-84ea-bdf782f7d878",
   "metadata": {},
   "outputs": [],
   "source": [
    "adata$obs"
   ]
  },
  {
   "cell_type": "code",
   "execution_count": null,
   "id": "a118346e-76c0-42f1-8690-4fe6259a8506",
   "metadata": {},
   "outputs": [],
   "source": [
    "adata$X"
   ]
  },
  {
   "cell_type": "code",
   "execution_count": null,
   "id": "bce54ae7-cd63-4881-a1c6-34b66c6f1e4c",
   "metadata": {},
   "outputs": [],
   "source": [
    "srat_qc <- CreateSeuratObject(counts=srat[['RNA']]@counts, meta.data=srat@meta.data, project = Project(srat))\n",
    "srat_qc"
   ]
  },
  {
   "cell_type": "code",
   "execution_count": null,
   "id": "e3f06c4a-c311-4421-a203-6af4ddf7e793",
   "metadata": {},
   "outputs": [],
   "source": [
    "output_path <- '/ps/ai-ready/data/Clustering/Tabula_Muris/droplet_Bladder_seurat_tiss.h5Seurat'\n",
    "SaveH5Seurat(srat_qc, filename = output_path, overwrite = TRUE, verbose = TRUE)\n",
    "srat_qc_1 <- LoadH5Seurat(output_path)\n",
    "srat_qc_1"
   ]
  },
  {
   "cell_type": "code",
   "execution_count": null,
   "id": "f9b1db66-1fd2-4662-bafe-44db3ccd06c8",
   "metadata": {},
   "outputs": [],
   "source": [
    "output_path <- '/ps/ai-ready/data/Clustering/Tabula_Muris/droplet_Bladder_seurat_tiss.h5Seurat'\n",
    "SaveH5Seurat(srat, filename = output_path, overwrite = TRUE, verbose = TRUE)\n",
    "srat1 <- LoadH5Seurat(output_path)\n",
    "srat1"
   ]
  },
  {
   "cell_type": "code",
   "execution_count": null,
   "id": "270245bf-785d-40a6-aec6-034c5b9c1c06",
   "metadata": {},
   "outputs": [],
   "source": [
    "srat <- subset(srat, subset = Is_doublet != 'True')"
   ]
  },
  {
   "cell_type": "code",
   "execution_count": null,
   "id": "6cd40758-93ca-4e50-a9a9-9020127dace6",
   "metadata": {},
   "outputs": [],
   "source": [
    "srat[[\"meta.data\"]]"
   ]
  },
  {
   "cell_type": "code",
   "execution_count": null,
   "id": "0489a1eb-9743-4749-a333-9a354d48eaed",
   "metadata": {},
   "outputs": [],
   "source": [
    "Cells(srat)"
   ]
  },
  {
   "cell_type": "code",
   "execution_count": null,
   "id": "e9896ca7-fabf-4ed4-9bd7-8a8aa4d2db67",
   "metadata": {},
   "outputs": [],
   "source": [
    "srat <- NormalizeData(srat, normalization.method = \"LogNormalize\", scale.factor = 10000)\n",
    "srat <- FindVariableFeatures(srat, selection.method = \"vst\")\n",
    "srat <- ScaleData(srat, features = rownames(srat))\n",
    "srat\n",
    "dim(srat)\n",
    "dim(srat@meta.data)"
   ]
  },
  {
   "cell_type": "code",
   "execution_count": null,
   "id": "c01f220d-46fa-4f61-b119-e29a9cd43b33",
   "metadata": {},
   "outputs": [],
   "source": [
    "srat[['Doublet_score']][sapply(srat[['Doublet_score']], is.na)] <- 0\n",
    "srat[['Doublet_score']]"
   ]
  },
  {
   "cell_type": "code",
   "execution_count": null,
   "id": "2a37f187-c56c-4548-a5e1-383b87486ccb",
   "metadata": {},
   "outputs": [],
   "source": [
    "srat[['Doublet_score']] <- !is.na(srat[['Doublet_score']])\n"
   ]
  },
  {
   "cell_type": "code",
   "execution_count": null,
   "id": "506f420a-6ad6-4ec6-8ca1-ac5ad50bdfb8",
   "metadata": {},
   "outputs": [],
   "source": [
    "# srat <- subset(srat, subset = percent.rb >= 0)\n",
    "srat <- subset(srat, subset = is.na(Is_doublet))\n",
    "srat"
   ]
  },
  {
   "cell_type": "code",
   "execution_count": null,
   "id": "dead8488-4c2a-490c-8a05-3d0faece6b20",
   "metadata": {},
   "outputs": [],
   "source": [
    "srat[['Is_doublet']] <- !is.na(srat[['Is_doublet']])"
   ]
  },
  {
   "cell_type": "code",
   "execution_count": null,
   "id": "ff4aa97d-0c60-4a81-9841-147ac3c6c21e",
   "metadata": {},
   "outputs": [],
   "source": [
    "srat <- subset(srat, subset = Is_doublet != 'True')\n",
    "srat"
   ]
  },
  {
   "cell_type": "code",
   "execution_count": null,
   "id": "ae24ac8d-2c3e-4e05-a761-9ae0d312fa4d",
   "metadata": {},
   "outputs": [],
   "source": [
    "srat@meta.data"
   ]
  },
  {
   "cell_type": "code",
   "execution_count": null,
   "id": "e0a592bd-e7df-4cca-9fbc-f9d6b1a39397",
   "metadata": {},
   "outputs": [],
   "source": [
    "'nCount_RNA' %in% names(srat@meta.data)"
   ]
  },
  {
   "cell_type": "code",
   "execution_count": null,
   "id": "05765fa5-074a-4792-83b2-b1cf2056dc64",
   "metadata": {},
   "outputs": [],
   "source": [
    "result <- GetMetadataFromSeurat(path)\n",
    "result"
   ]
  },
  {
   "cell_type": "code",
   "execution_count": null,
   "id": "a225d33f-af85-4ba8-a720-7be27d85b542",
   "metadata": {},
   "outputs": [],
   "source": [
    "suffix <- tolower(get_suffix(path))\n",
    "suffix"
   ]
  },
  {
   "cell_type": "code",
   "execution_count": null,
   "id": "382732d8-d2e6-4e6e-9b0f-80984b505fda",
   "metadata": {},
   "outputs": [],
   "source": [
    "seurat_object <- LoadSeurat(path)\n",
    "seurat_object"
   ]
  },
  {
   "cell_type": "code",
   "execution_count": null,
   "id": "2ad344aa-8ee0-4173-a895-308b87090ef1",
   "metadata": {},
   "outputs": [],
   "source": [
    "'umap' %in% names(seurat_object@reductions)"
   ]
  },
  {
   "cell_type": "code",
   "execution_count": null,
   "id": "b43db97a-9588-4337-88d4-1b4dd02abe13",
   "metadata": {},
   "outputs": [],
   "source": [
    "genes <- rownames(seurat_object)\n",
    "typeof(genes)\n",
    "genes"
   ]
  },
  {
   "cell_type": "code",
   "execution_count": null,
   "id": "1d6188ab-44f8-4613-a017-6389b6c265da",
   "metadata": {},
   "outputs": [],
   "source": [
    "cells <- Cells(seurat_object)\n",
    "typeof(cells)\n",
    "cells"
   ]
  },
  {
   "cell_type": "code",
   "execution_count": null,
   "id": "e61df171-534d-415c-806b-0f404a565b20",
   "metadata": {},
   "outputs": [],
   "source": [
    "pca <- Embeddings(object = seurat_object, reduction = \"pca\")\n",
    "typeof(pca)\n",
    "pca"
   ]
  },
  {
   "cell_type": "code",
   "execution_count": null,
   "id": "1e8acc36-820a-4133-85ef-116ac193238c",
   "metadata": {},
   "outputs": [],
   "source": [
    "name <- load(path)\n",
    "seurat_object <- UpdateSeuratObject(get(name))"
   ]
  },
  {
   "cell_type": "code",
   "execution_count": null,
   "id": "0a90d351-fe26-4efc-a878-a02be85ec72f",
   "metadata": {},
   "outputs": [],
   "source": [
    "seurat_object"
   ]
  },
  {
   "cell_type": "code",
   "execution_count": null,
   "id": "be5bad61-ecb5-4222-8826-4d96ec285bb3",
   "metadata": {},
   "outputs": [],
   "source": [
    "features <- seurat_object[['RNA']]@var.features\n",
    "typeof(features)\n",
    "features"
   ]
  },
  {
   "cell_type": "code",
   "execution_count": null,
   "id": "f7a39369-c220-4b9f-be3b-32f51775d2b0",
   "metadata": {},
   "outputs": [],
   "source": [
    "#获取当前用的Idents\n",
    "Idents(seurat_object)\n",
    "levels(seurat_object)"
   ]
  },
  {
   "cell_type": "code",
   "execution_count": null,
   "id": "3ca5b9c8-5d85-4b15-865d-f2fa1cd89699",
   "metadata": {},
   "outputs": [],
   "source": [
    "#总数目\n",
    "nCells <- ncol(seurat_object)\n",
    "nGenes <- nrow(seurat_object)\n",
    "\n",
    "nCells\n",
    "nGenes"
   ]
  },
  {
   "cell_type": "code",
   "execution_count": null,
   "id": "0abc26cb-dcec-455a-a6b4-a56709bb55e7",
   "metadata": {},
   "outputs": [],
   "source": [
    "dim=1:10\n",
    "class(dim)"
   ]
  },
  {
   "cell_type": "code",
   "execution_count": null,
   "id": "90f2d815-54c5-409a-b377-e778819cf945",
   "metadata": {},
   "outputs": [],
   "source": [
    "x <- 1:10\n",
    "x"
   ]
  },
  {
   "cell_type": "code",
   "execution_count": null,
   "id": "4e208cae-d405-4b1e-bbc3-0ab6ce799f48",
   "metadata": {},
   "outputs": [],
   "source": [
    "class(x)"
   ]
  },
  {
   "cell_type": "code",
   "execution_count": null,
   "id": "86108931-ab51-400e-8baf-99a869cfba95",
   "metadata": {},
   "outputs": [],
   "source": [
    "devtools::install_github('JiekaiLab/dior')"
   ]
  },
  {
   "cell_type": "code",
   "execution_count": null,
   "id": "7755e6fe-1982-4aaf-a2ce-bee265d0b01a",
   "metadata": {},
   "outputs": [],
   "source": [
    "source(\"../tools/benchmarks/clustering/seurat.R\")\n",
    "path = \"/ps/ai-ready/data/Clustering/Tabula_Muris/droplet_Bladder_seurat_tiss.h5ad\""
   ]
  },
  {
   "cell_type": "code",
   "execution_count": null,
   "id": "1d732f02-2a91-4c8d-9af8-6a50ac74c558",
   "metadata": {},
   "outputs": [],
   "source": [
    "clustering <- function(path, labels, dims=1:10){ # labels: column name of labels in srat@meta.data\n",
    "    srat <- tryCatch(\n",
    "        LoadSeurat(path),\n",
    "        error = function(e) {\n",
    "            stop(\"The file format is not supported.\")\n",
    "            print(e)\n",
    "        }\n",
    "    )\n",
    "\n",
    "    srat <- FindVariableFeatures(srat, selection.method = \"vst\")\n",
    "    srat <- ScaleData(srat, features = rownames(srat))\n",
    "\n",
    "    # PCA\n",
    "    # srat <- RunPCA(srat, features = VariableFeatures(srat), ndims.print = 6:10, nfeatures.print = 10)\n",
    "    srat <- RunPCA(srat, features = VariableFeatures(srat))\n",
    "\n",
    "    srat <- FindNeighbors(srat, dims=dims)\n",
    "    srat <- FindClusters(srat, resolution = 0.5)\n",
    "    srat\n",
    "\n",
    "    # TSNE\n",
    "    srat <- RunTSNE(srat, dims=dims)\n",
    "    # UMAP\n",
    "    srat <- RunUMAP(srat, dims=dims)\n",
    "\n",
    "    umap <- Embeddings(object = srat, reduction = \"umap\")\n",
    "\n",
    "    list(labels=as.list(srat@meta.data[labels]), labels_pred=as.list(srat@meta.data[\"seurat_clusters\"]), umap=umap)\n",
    "}"
   ]
  },
  {
   "cell_type": "code",
   "execution_count": null,
   "id": "80571109-4b5a-4452-ac45-b67ce9c2605a",
   "metadata": {},
   "outputs": [],
   "source": [
    "result <- clustering(path, 'cluster.ids')\n",
    "result"
   ]
  },
  {
   "cell_type": "code",
   "execution_count": null,
   "id": "45c5e492-7483-4e79-a739-8efad6a511ce",
   "metadata": {},
   "outputs": [],
   "source": [
    "result"
   ]
  },
  {
   "cell_type": "code",
   "execution_count": null,
   "id": "882acd08-ec99-4e51-9000-bddc38b14f9a",
   "metadata": {},
   "outputs": [],
   "source": []
  }
 ],
 "metadata": {
  "kernelspec": {
   "display_name": "R",
   "language": "R",
   "name": "ir"
  },
  "language_info": {
   "codemirror_mode": "r",
   "file_extension": ".r",
   "mimetype": "text/x-r-source",
   "name": "R",
   "pygments_lexer": "r",
   "version": "4.2.1"
  }
 },
 "nbformat": 4,
 "nbformat_minor": 5
}
