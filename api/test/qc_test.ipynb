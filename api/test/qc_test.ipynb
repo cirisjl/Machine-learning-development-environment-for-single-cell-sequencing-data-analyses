{
 "cells": [
  {
   "cell_type": "code",
   "execution_count": 1,
   "id": "6d4d585d",
   "metadata": {},
   "outputs": [
    {
     "name": "stdout",
     "output_type": "stream",
     "text": [
      "scanpy==1.9.3 anndata==0.8.0 umap==0.5.3 numpy==1.22.4 scipy==1.9.1 pandas==1.3.5 scikit-learn==1.2.2 statsmodels==0.13.5 python-igraph==0.10.4 pynndescent==0.5.8\n",
      "scanpy==1.9.3 anndata==0.8.0 umap==0.5.3 numpy==1.22.4 scipy==1.9.1 pandas==1.3.5 scikit-learn==1.2.2 statsmodels==0.13.5 python-igraph==0.10.4 pynndescent==0.5.8\n"
     ]
    }
   ],
   "source": [
    "import os\n",
    "import subprocess\n",
    "import sys\n",
    "sys.path.append('..')\n",
    "from tools.qc.scanpy_qc import scanpy_qc\n",
    "from tools.qc.dropkick_qc import dropkick_qc\n",
    "from tools.formating.formating import *\n",
    "# from tools.run_qc import run_qc"
   ]
  },
  {
   "cell_type": "code",
   "execution_count": 2,
   "id": "0dda5546",
   "metadata": {},
   "outputs": [
    {
     "name": "stdout",
     "output_type": "stream",
     "text": [
      "/ps/Machine-learning-development-environment-for-single-cell-sequencing-data-analyses/api/tools/qc/scrublet_calls.tsv\n"
     ]
    }
   ],
   "source": [
    "dataset='RDS'\n",
    "# input_path='/ps/ai-ready/data/filtered_gene_bc_matrices/hg19/'\n",
    "# methods=None\n",
    "# input_path='/ps/ai-ready/data/kbcfh/loomDataset/867236c9-e8c8-46a4-971a-3c046b1d4328.loom'\n",
    "# input_path='/ps/ai-ready/data/kbcfh/gzDataset/counts.csv.gz'\n",
    "input_path='/ps/ai-ready/data/kbcfh/TungDataset/tung.rds'\n",
    "methods='Scanpy'\n",
    "path_of_scrublet_calls=os.path.abspath('../tools/qc/scrublet_calls.tsv')\n",
    "print(path_of_scrublet_calls)"
   ]
  },
  {
   "cell_type": "code",
   "execution_count": null,
   "id": "45cc373f",
   "metadata": {},
   "outputs": [],
   "source": [
    "# run_qc(dataset, input, output, methods, path_of_scrublet_calls='./scrublet_calls.tsv', show_error=True)"
   ]
  },
  {
   "cell_type": "code",
   "execution_count": null,
   "id": "a412943f",
   "metadata": {},
   "outputs": [],
   "source": [
    "os.path.isdir(input_path)"
   ]
  },
  {
   "cell_type": "code",
   "execution_count": null,
   "id": "df4ae3b5",
   "metadata": {},
   "outputs": [],
   "source": [
    "os.path.dirname(input_path)"
   ]
  },
  {
   "cell_type": "code",
   "execution_count": null,
   "id": "ee2ea902",
   "metadata": {},
   "outputs": [],
   "source": [
    "adata_path = os.path.splitext(input_path)[0] + '.h5ad'\n",
    "adata_path"
   ]
  },
  {
   "cell_type": "code",
   "execution_count": null,
   "id": "8299e40c",
   "metadata": {},
   "outputs": [],
   "source": [
    "# adata = sc.read_loom(input_path)\n",
    "# adata"
   ]
  },
  {
   "cell_type": "code",
   "execution_count": null,
   "id": "4a2a01da",
   "metadata": {},
   "outputs": [],
   "source": [
    "adata = sc.read_text(input_path)\n",
    "adata"
   ]
  },
  {
   "cell_type": "code",
   "execution_count": null,
   "id": "e87ec368",
   "metadata": {},
   "outputs": [],
   "source": [
    "suffix = input_path.endswith('.gz')\n",
    "suffix"
   ]
  },
  {
   "cell_type": "code",
   "execution_count": null,
   "id": "4204d12b",
   "metadata": {},
   "outputs": [],
   "source": [
    "import pyreadr\n",
    "\n",
    "result = pyreadr.read_r(input_path)\n",
    "result"
   ]
  },
  {
   "cell_type": "markdown",
   "id": "d4c48f7f",
   "metadata": {},
   "source": [
    "## Scanpy"
   ]
  },
  {
   "cell_type": "code",
   "execution_count": 3,
   "id": "c9ecfab2",
   "metadata": {},
   "outputs": [
    {
     "name": "stdout",
     "output_type": "stream",
     "text": [
      "/ps/ai-ready/data/kbcfh/TungDataset/tung.rds\n",
      "\n",
      "R version 4.2.1 (2022-06-23) -- \"Funny-Looking Kid\"\n",
      "Copyright (C) 2022 The R Foundation for Statistical Computing\n",
      "Platform: x86_64-pc-linux-gnu (64-bit)\n",
      "\n",
      "R is free software and comes with ABSOLUTELY NO WARRANTY.\n",
      "You are welcome to redistribute it under certain conditions.\n",
      "Type 'license()' or 'licence()' for distribution details.\n",
      "\n",
      "  Natural language support but running in an English locale\n",
      "\n",
      "R is a collaborative project with many contributors.\n",
      "Type 'contributors()' for more information and\n",
      "'citation()' on how to cite R or R packages in publications.\n",
      "\n",
      "Type 'demo()' for some demos, 'help()' for on-line help, or\n",
      "'help.start()' for an HTML browser interface to help.\n",
      "Type 'q()' to quit R.\n",
      "\n",
      "> rmarkdown::render('/ps/Machine-learning-development-environment-for-single-cell-sequencing-data-analyses/api/tools/formating/convert_to_anndata.Rmd', params=list(path='/ps/ai-ready/data/kbcfh/TungDataset/tung.rds'), output_file='/ps/ai-ready/data/kbcfh/TungDataset/file_conversion_report.html')\n"
     ]
    },
    {
     "name": "stderr",
     "output_type": "stream",
     "text": [
      "\n",
      "\n",
      "processing file: convert_to_anndata.Rmd\n"
     ]
    },
    {
     "name": "stdout",
     "output_type": "stream",
     "text": [
      "                                                                                                      \n",
      "/usr/bin/pandoc +RTS -K512m -RTS convert_to_anndata.knit.md --to html4 --from markdown+autolink_bare_uris+tex_math_single_backslash --output /ps/ai-ready/data/kbcfh/TungDataset/file_conversion_report.html --lua-filter /usr/local/lib/R/site-library/rmarkdown/rmarkdown/lua/pagebreak.lua --lua-filter /usr/local/lib/R/site-library/rmarkdown/rmarkdown/lua/latex-div.lua --embed-resources --standalone --variable bs3=TRUE --section-divs --template /usr/local/lib/R/site-library/rmarkdown/rmd/h/default.html --no-highlight --variable highlightjs=1 --variable theme=bootstrap --mathjax --variable 'mathjax-url=https://mathjax.rstudio.com/latest/MathJax.js?config=TeX-AMS-MML_HTMLorMML' --include-in-header /tmp/RtmpwDtxjB/rmarkdown-str68864b738d8.html \n",
      "> \n",
      "> \n"
     ]
    },
    {
     "name": "stderr",
     "output_type": "stream",
     "text": [
      "output file: convert_to_anndata.knit.md\n",
      "\n",
      "\n",
      "Output created: /ps/ai-ready/data/kbcfh/TungDataset/file_conversion_report.html\n"
     ]
    },
    {
     "name": "stdout",
     "output_type": "stream",
     "text": [
      "0\n"
     ]
    },
    {
     "data": {
      "text/plain": [
       "AnnData object with n_obs × n_vars = 670 × 13873\n",
       "    obs: 'orig.ident', 'nCount_RNA', 'nFeature_RNA', 'individual', 'replicate', 'well', 'batch', 'sample_id', 'sum', 'detected', 'subsets_Mito_sum', 'subsets_Mito_detected', 'subsets_Mito_percent', 'altexps_ERCC_sum', 'altexps_ERCC_detected', 'altexps_ERCC_percent', 'total', 'discard'\n",
       "    var: 'SYMBOL', 'mean', 'detected', 'discard'\n",
       "    obsm: 'X_PCA', 'X_TSNE'"
      ]
     },
     "execution_count": 3,
     "metadata": {},
     "output_type": "execute_result"
    }
   ],
   "source": [
    "adata = load_anndata(input_path)\n",
    "adata"
   ]
  },
  {
   "cell_type": "code",
   "execution_count": 4,
   "id": "dd8452b2",
   "metadata": {},
   "outputs": [
    {
     "data": {
      "text/plain": [
       "anndata._core.anndata.AnnData"
      ]
     },
     "execution_count": 4,
     "metadata": {},
     "output_type": "execute_result"
    }
   ],
   "source": [
    "type(adata)"
   ]
  },
  {
   "cell_type": "code",
   "execution_count": null,
   "id": "11de1572",
   "metadata": {},
   "outputs": [],
   "source": [
    "adata is None"
   ]
  },
  {
   "cell_type": "code",
   "execution_count": 7,
   "id": "e6c1bdd0",
   "metadata": {},
   "outputs": [],
   "source": [
    "import numpy as np\n",
    "import pandas as pd\n",
    "import scanpy as sc\n",
    "import scrublet as scr"
   ]
  },
  {
   "cell_type": "code",
   "execution_count": null,
   "id": "2ef5399f",
   "metadata": {},
   "outputs": [],
   "source": [
    "output = get_output_path(dataset, input_path, method='scanpy', format = \"AnnData\")"
   ]
  },
  {
   "cell_type": "code",
   "execution_count": null,
   "id": "2d097a25",
   "metadata": {},
   "outputs": [],
   "source": [
    "adata.X.shape"
   ]
  },
  {
   "cell_type": "code",
   "execution_count": 5,
   "id": "2eb94c26",
   "metadata": {},
   "outputs": [
    {
     "data": {
      "text/plain": [
       "scipy.sparse._csr.csr_matrix"
      ]
     },
     "execution_count": 5,
     "metadata": {},
     "output_type": "execute_result"
    }
   ],
   "source": [
    "type(adata.X)"
   ]
  },
  {
   "cell_type": "code",
   "execution_count": 14,
   "id": "bc1da9e6",
   "metadata": {},
   "outputs": [
    {
     "ename": "AttributeError",
     "evalue": "stats not found",
     "output_type": "error",
     "traceback": [
      "\u001b[0;31m---------------------------------------------------------------------------\u001b[0m",
      "\u001b[0;31mAttributeError\u001b[0m                            Traceback (most recent call last)",
      "Cell \u001b[0;32mIn[14], line 1\u001b[0m\n\u001b[0;32m----> 1\u001b[0m \u001b[43madata\u001b[49m\u001b[38;5;241;43m.\u001b[39;49m\u001b[43mX\u001b[49m\u001b[38;5;241;43m.\u001b[39;49m\u001b[43mstats\u001b[49m\n",
      "File \u001b[0;32m/usr/local/lib/python3.8/dist-packages/scipy/sparse/_base.py:771\u001b[0m, in \u001b[0;36mspmatrix.__getattr__\u001b[0;34m(self, attr)\u001b[0m\n\u001b[1;32m    769\u001b[0m     \u001b[38;5;28;01mreturn\u001b[39;00m \u001b[38;5;28mself\u001b[39m\u001b[38;5;241m.\u001b[39mgetnnz()\n\u001b[1;32m    770\u001b[0m \u001b[38;5;28;01melse\u001b[39;00m:\n\u001b[0;32m--> 771\u001b[0m     \u001b[38;5;28;01mraise\u001b[39;00m \u001b[38;5;167;01mAttributeError\u001b[39;00m(attr \u001b[38;5;241m+\u001b[39m \u001b[38;5;124m\"\u001b[39m\u001b[38;5;124m not found\u001b[39m\u001b[38;5;124m\"\u001b[39m)\n",
      "\u001b[0;31mAttributeError\u001b[0m: stats not found"
     ]
    }
   ],
   "source": [
    "adata.X.stats"
   ]
  },
  {
   "cell_type": "code",
   "execution_count": 9,
   "id": "2f48cd02",
   "metadata": {},
   "outputs": [
    {
     "data": {
      "text/plain": [
       "0         2.0\n",
       "1        11.0\n",
       "2         4.0\n",
       "3        13.0\n",
       "4        17.0\n",
       "         ... \n",
       "13868     8.0\n",
       "13869     9.0\n",
       "13870    18.0\n",
       "13871     8.0\n",
       "13872    39.0\n",
       "Length: 13873, dtype: float64"
      ]
     },
     "execution_count": 9,
     "metadata": {},
     "output_type": "execute_result"
    }
   ],
   "source": [
    "pd.DataFrame.sparse.from_spmatrix(adata.X).max()"
   ]
  },
  {
   "cell_type": "code",
   "execution_count": 18,
   "id": "6a1e2c70",
   "metadata": {},
   "outputs": [
    {
     "data": {
      "text/plain": [
       "(670, 13873)"
      ]
     },
     "execution_count": 18,
     "metadata": {},
     "output_type": "execute_result"
    }
   ],
   "source": [
    "adata.X.shape"
   ]
  },
  {
   "cell_type": "code",
   "execution_count": 19,
   "id": "af4c9d4e",
   "metadata": {},
   "outputs": [
    {
     "ename": "NameError",
     "evalue": "name '_num_samples' is not defined",
     "output_type": "error",
     "traceback": [
      "\u001b[0;31m---------------------------------------------------------------------------\u001b[0m",
      "\u001b[0;31mNameError\u001b[0m                                 Traceback (most recent call last)",
      "Cell \u001b[0;32mIn[19], line 1\u001b[0m\n\u001b[0;32m----> 1\u001b[0m n_samples \u001b[38;5;241m=\u001b[39m \u001b[43m_num_samples\u001b[49m(adata\u001b[38;5;241m.\u001b[39mX)\n\u001b[1;32m      2\u001b[0m n_samples\n",
      "\u001b[0;31mNameError\u001b[0m: name '_num_samples' is not defined"
     ]
    }
   ],
   "source": [
    "n_samples = _num_samples(adata.X)\n",
    "n_samples"
   ]
  },
  {
   "cell_type": "code",
   "execution_count": 15,
   "id": "c0b3f87c",
   "metadata": {},
   "outputs": [
    {
     "name": "stdout",
     "output_type": "stream",
     "text": [
      "normalizing counts per cell\n",
      "    finished (0:00:00)\n"
     ]
    },
    {
     "ename": "ValueError",
     "evalue": "Found array with 0 sample(s) (shape=(0, 13873)) while a minimum of 1 is required.",
     "output_type": "error",
     "traceback": [
      "\u001b[0;31m---------------------------------------------------------------------------\u001b[0m",
      "\u001b[0;31mValueError\u001b[0m                                Traceback (most recent call last)",
      "Cell \u001b[0;32mIn[15], line 1\u001b[0m\n\u001b[0;32m----> 1\u001b[0m adata \u001b[38;5;241m=\u001b[39m \u001b[43mscanpy_qc\u001b[49m\u001b[43m(\u001b[49m\u001b[43madata\u001b[49m\u001b[43m)\u001b[49m\n\u001b[1;32m      2\u001b[0m  \u001b[38;5;66;03m# Save AnnData object\u001b[39;00m\n\u001b[1;32m      3\u001b[0m adata\u001b[38;5;241m.\u001b[39mwrite_h5ad(output, compression\u001b[38;5;241m=\u001b[39m\u001b[38;5;124m'\u001b[39m\u001b[38;5;124mgzip\u001b[39m\u001b[38;5;124m'\u001b[39m)\n",
      "File \u001b[0;32m/ps/Machine-learning-development-environment-for-single-cell-sequencing-data-analyses/api/test/../tools/qc/scanpy_qc.py:31\u001b[0m, in \u001b[0;36mscanpy_qc\u001b[0;34m(adata, min_genes, min_cells)\u001b[0m\n\u001b[1;32m     28\u001b[0m adata\u001b[38;5;241m=\u001b[39madata[adata\u001b[38;5;241m.\u001b[39mobs\u001b[38;5;241m.\u001b[39mpct_counts_mt \u001b[38;5;241m<\u001b[39m \u001b[38;5;241m5\u001b[39m, :]\n\u001b[1;32m     29\u001b[0m sc\u001b[38;5;241m.\u001b[39mpp\u001b[38;5;241m.\u001b[39mnormalize_total(adata, target_sum\u001b[38;5;241m=\u001b[39m\u001b[38;5;241m1e4\u001b[39m)\n\u001b[0;32m---> 31\u001b[0m \u001b[43msc\u001b[49m\u001b[38;5;241;43m.\u001b[39;49m\u001b[43mpp\u001b[49m\u001b[38;5;241;43m.\u001b[39;49m\u001b[43mlog1p\u001b[49m\u001b[43m(\u001b[49m\u001b[43madata\u001b[49m\u001b[43m)\u001b[49m\n\u001b[1;32m     33\u001b[0m sc\u001b[38;5;241m.\u001b[39mpp\u001b[38;5;241m.\u001b[39mhighly_variable_genes(adata, min_mean\u001b[38;5;241m=\u001b[39m\u001b[38;5;241m0.0125\u001b[39m, max_mean\u001b[38;5;241m=\u001b[39m\u001b[38;5;241m3\u001b[39m, min_disp\u001b[38;5;241m=\u001b[39m\u001b[38;5;241m0.5\u001b[39m)\n\u001b[1;32m     36\u001b[0m adata\u001b[38;5;241m=\u001b[39madata[:, adata\u001b[38;5;241m.\u001b[39mvar\u001b[38;5;241m.\u001b[39mhighly_variable] \u001b[38;5;66;03m# Do the filtering\u001b[39;00m\n",
      "File \u001b[0;32m/usr/lib/python3.8/functools.py:875\u001b[0m, in \u001b[0;36msingledispatch.<locals>.wrapper\u001b[0;34m(*args, **kw)\u001b[0m\n\u001b[1;32m    871\u001b[0m \u001b[38;5;28;01mif\u001b[39;00m \u001b[38;5;129;01mnot\u001b[39;00m args:\n\u001b[1;32m    872\u001b[0m     \u001b[38;5;28;01mraise\u001b[39;00m \u001b[38;5;167;01mTypeError\u001b[39;00m(\u001b[38;5;124mf\u001b[39m\u001b[38;5;124m'\u001b[39m\u001b[38;5;132;01m{\u001b[39;00mfuncname\u001b[38;5;132;01m}\u001b[39;00m\u001b[38;5;124m requires at least \u001b[39m\u001b[38;5;124m'\u001b[39m\n\u001b[1;32m    873\u001b[0m                     \u001b[38;5;124m'\u001b[39m\u001b[38;5;124m1 positional argument\u001b[39m\u001b[38;5;124m'\u001b[39m)\n\u001b[0;32m--> 875\u001b[0m \u001b[38;5;28;01mreturn\u001b[39;00m \u001b[43mdispatch\u001b[49m\u001b[43m(\u001b[49m\u001b[43margs\u001b[49m\u001b[43m[\u001b[49m\u001b[38;5;241;43m0\u001b[39;49m\u001b[43m]\u001b[49m\u001b[38;5;241;43m.\u001b[39;49m\u001b[38;5;18;43m__class__\u001b[39;49m\u001b[43m)\u001b[49m\u001b[43m(\u001b[49m\u001b[38;5;241;43m*\u001b[39;49m\u001b[43margs\u001b[49m\u001b[43m,\u001b[49m\u001b[43m \u001b[49m\u001b[38;5;241;43m*\u001b[39;49m\u001b[38;5;241;43m*\u001b[39;49m\u001b[43mkw\u001b[49m\u001b[43m)\u001b[49m\n",
      "File \u001b[0;32m/usr/local/lib/python3.8/dist-packages/scanpy/preprocessing/_simple.py:384\u001b[0m, in \u001b[0;36mlog1p_anndata\u001b[0;34m(adata, base, copy, chunked, chunk_size, layer, obsm)\u001b[0m\n\u001b[1;32m    382\u001b[0m \u001b[38;5;28;01melse\u001b[39;00m:\n\u001b[1;32m    383\u001b[0m     X \u001b[38;5;241m=\u001b[39m _get_obs_rep(adata, layer\u001b[38;5;241m=\u001b[39mlayer, obsm\u001b[38;5;241m=\u001b[39mobsm)\n\u001b[0;32m--> 384\u001b[0m     X \u001b[38;5;241m=\u001b[39m \u001b[43mlog1p\u001b[49m\u001b[43m(\u001b[49m\u001b[43mX\u001b[49m\u001b[43m,\u001b[49m\u001b[43m \u001b[49m\u001b[43mcopy\u001b[49m\u001b[38;5;241;43m=\u001b[39;49m\u001b[38;5;28;43;01mFalse\u001b[39;49;00m\u001b[43m,\u001b[49m\u001b[43m \u001b[49m\u001b[43mbase\u001b[49m\u001b[38;5;241;43m=\u001b[39;49m\u001b[43mbase\u001b[49m\u001b[43m)\u001b[49m\n\u001b[1;32m    385\u001b[0m     _set_obs_rep(adata, X, layer\u001b[38;5;241m=\u001b[39mlayer, obsm\u001b[38;5;241m=\u001b[39mobsm)\n\u001b[1;32m    387\u001b[0m adata\u001b[38;5;241m.\u001b[39muns[\u001b[38;5;124m\"\u001b[39m\u001b[38;5;124mlog1p\u001b[39m\u001b[38;5;124m\"\u001b[39m] \u001b[38;5;241m=\u001b[39m {\u001b[38;5;124m\"\u001b[39m\u001b[38;5;124mbase\u001b[39m\u001b[38;5;124m\"\u001b[39m: base}\n",
      "File \u001b[0;32m/usr/lib/python3.8/functools.py:875\u001b[0m, in \u001b[0;36msingledispatch.<locals>.wrapper\u001b[0;34m(*args, **kw)\u001b[0m\n\u001b[1;32m    871\u001b[0m \u001b[38;5;28;01mif\u001b[39;00m \u001b[38;5;129;01mnot\u001b[39;00m args:\n\u001b[1;32m    872\u001b[0m     \u001b[38;5;28;01mraise\u001b[39;00m \u001b[38;5;167;01mTypeError\u001b[39;00m(\u001b[38;5;124mf\u001b[39m\u001b[38;5;124m'\u001b[39m\u001b[38;5;132;01m{\u001b[39;00mfuncname\u001b[38;5;132;01m}\u001b[39;00m\u001b[38;5;124m requires at least \u001b[39m\u001b[38;5;124m'\u001b[39m\n\u001b[1;32m    873\u001b[0m                     \u001b[38;5;124m'\u001b[39m\u001b[38;5;124m1 positional argument\u001b[39m\u001b[38;5;124m'\u001b[39m)\n\u001b[0;32m--> 875\u001b[0m \u001b[38;5;28;01mreturn\u001b[39;00m \u001b[43mdispatch\u001b[49m\u001b[43m(\u001b[49m\u001b[43margs\u001b[49m\u001b[43m[\u001b[49m\u001b[38;5;241;43m0\u001b[39;49m\u001b[43m]\u001b[49m\u001b[38;5;241;43m.\u001b[39;49m\u001b[38;5;18;43m__class__\u001b[39;49m\u001b[43m)\u001b[49m\u001b[43m(\u001b[49m\u001b[38;5;241;43m*\u001b[39;49m\u001b[43margs\u001b[49m\u001b[43m,\u001b[49m\u001b[43m \u001b[49m\u001b[38;5;241;43m*\u001b[39;49m\u001b[38;5;241;43m*\u001b[39;49m\u001b[43mkw\u001b[49m\u001b[43m)\u001b[49m\n",
      "File \u001b[0;32m/usr/local/lib/python3.8/dist-packages/scanpy/preprocessing/_simple.py:334\u001b[0m, in \u001b[0;36mlog1p_sparse\u001b[0;34m(X, base, copy)\u001b[0m\n\u001b[1;32m    332\u001b[0m \u001b[38;5;129m@log1p\u001b[39m\u001b[38;5;241m.\u001b[39mregister(spmatrix)\n\u001b[1;32m    333\u001b[0m \u001b[38;5;28;01mdef\u001b[39;00m \u001b[38;5;21mlog1p_sparse\u001b[39m(X, \u001b[38;5;241m*\u001b[39m, base: Optional[Number] \u001b[38;5;241m=\u001b[39m \u001b[38;5;28;01mNone\u001b[39;00m, copy: \u001b[38;5;28mbool\u001b[39m \u001b[38;5;241m=\u001b[39m \u001b[38;5;28;01mFalse\u001b[39;00m):\n\u001b[0;32m--> 334\u001b[0m     X \u001b[38;5;241m=\u001b[39m \u001b[43mcheck_array\u001b[49m\u001b[43m(\u001b[49m\n\u001b[1;32m    335\u001b[0m \u001b[43m        \u001b[49m\u001b[43mX\u001b[49m\u001b[43m,\u001b[49m\u001b[43m \u001b[49m\u001b[43maccept_sparse\u001b[49m\u001b[38;5;241;43m=\u001b[39;49m\u001b[43m(\u001b[49m\u001b[38;5;124;43m\"\u001b[39;49m\u001b[38;5;124;43mcsr\u001b[39;49m\u001b[38;5;124;43m\"\u001b[39;49m\u001b[43m,\u001b[49m\u001b[43m \u001b[49m\u001b[38;5;124;43m\"\u001b[39;49m\u001b[38;5;124;43mcsc\u001b[39;49m\u001b[38;5;124;43m\"\u001b[39;49m\u001b[43m)\u001b[49m\u001b[43m,\u001b[49m\u001b[43m \u001b[49m\u001b[43mdtype\u001b[49m\u001b[38;5;241;43m=\u001b[39;49m\u001b[43m(\u001b[49m\u001b[43mnp\u001b[49m\u001b[38;5;241;43m.\u001b[39;49m\u001b[43mfloat64\u001b[49m\u001b[43m,\u001b[49m\u001b[43m \u001b[49m\u001b[43mnp\u001b[49m\u001b[38;5;241;43m.\u001b[39;49m\u001b[43mfloat32\u001b[49m\u001b[43m)\u001b[49m\u001b[43m,\u001b[49m\u001b[43m \u001b[49m\u001b[43mcopy\u001b[49m\u001b[38;5;241;43m=\u001b[39;49m\u001b[43mcopy\u001b[49m\n\u001b[1;32m    336\u001b[0m \u001b[43m    \u001b[49m\u001b[43m)\u001b[49m\n\u001b[1;32m    337\u001b[0m     X\u001b[38;5;241m.\u001b[39mdata \u001b[38;5;241m=\u001b[39m log1p(X\u001b[38;5;241m.\u001b[39mdata, copy\u001b[38;5;241m=\u001b[39m\u001b[38;5;28;01mFalse\u001b[39;00m, base\u001b[38;5;241m=\u001b[39mbase)\n\u001b[1;32m    338\u001b[0m     \u001b[38;5;28;01mreturn\u001b[39;00m X\n",
      "File \u001b[0;32m/usr/local/lib/python3.8/dist-packages/sklearn/utils/validation.py:931\u001b[0m, in \u001b[0;36mcheck_array\u001b[0;34m(array, accept_sparse, accept_large_sparse, dtype, order, copy, force_all_finite, ensure_2d, allow_nd, ensure_min_samples, ensure_min_features, estimator, input_name)\u001b[0m\n\u001b[1;32m    929\u001b[0m     n_samples \u001b[38;5;241m=\u001b[39m _num_samples(array)\n\u001b[1;32m    930\u001b[0m     \u001b[38;5;28;01mif\u001b[39;00m n_samples \u001b[38;5;241m<\u001b[39m ensure_min_samples:\n\u001b[0;32m--> 931\u001b[0m         \u001b[38;5;28;01mraise\u001b[39;00m \u001b[38;5;167;01mValueError\u001b[39;00m(\n\u001b[1;32m    932\u001b[0m             \u001b[38;5;124m\"\u001b[39m\u001b[38;5;124mFound array with \u001b[39m\u001b[38;5;132;01m%d\u001b[39;00m\u001b[38;5;124m sample(s) (shape=\u001b[39m\u001b[38;5;132;01m%s\u001b[39;00m\u001b[38;5;124m) while a\u001b[39m\u001b[38;5;124m\"\u001b[39m\n\u001b[1;32m    933\u001b[0m             \u001b[38;5;124m\"\u001b[39m\u001b[38;5;124m minimum of \u001b[39m\u001b[38;5;132;01m%d\u001b[39;00m\u001b[38;5;124m is required\u001b[39m\u001b[38;5;132;01m%s\u001b[39;00m\u001b[38;5;124m.\u001b[39m\u001b[38;5;124m\"\u001b[39m\n\u001b[1;32m    934\u001b[0m             \u001b[38;5;241m%\u001b[39m (n_samples, array\u001b[38;5;241m.\u001b[39mshape, ensure_min_samples, context)\n\u001b[1;32m    935\u001b[0m         )\n\u001b[1;32m    937\u001b[0m \u001b[38;5;28;01mif\u001b[39;00m ensure_min_features \u001b[38;5;241m>\u001b[39m \u001b[38;5;241m0\u001b[39m \u001b[38;5;129;01mand\u001b[39;00m array\u001b[38;5;241m.\u001b[39mndim \u001b[38;5;241m==\u001b[39m \u001b[38;5;241m2\u001b[39m:\n\u001b[1;32m    938\u001b[0m     n_features \u001b[38;5;241m=\u001b[39m array\u001b[38;5;241m.\u001b[39mshape[\u001b[38;5;241m1\u001b[39m]\n",
      "\u001b[0;31mValueError\u001b[0m: Found array with 0 sample(s) (shape=(0, 13873)) while a minimum of 1 is required."
     ]
    }
   ],
   "source": [
    "adata = scanpy_qc(adata)\n",
    " # Save AnnData object\n",
    "adata.write_h5ad(output, compression='gzip')\n",
    "print(\"AnnData object for Scanpy QC is saved successfully\")"
   ]
  },
  {
   "cell_type": "code",
   "execution_count": null,
   "id": "78b09ba1",
   "metadata": {},
   "outputs": [],
   "source": [
    "adata.var_names_make_unique()\n",
    "adata"
   ]
  },
  {
   "cell_type": "code",
   "execution_count": null,
   "id": "8db9f62d",
   "metadata": {},
   "outputs": [],
   "source": [
    "scrub = scr.Scrublet(adata.X, expected_doublet_rate = 0.076)\n",
    "adata.obs['doublet_scores'], adata.obs['predicted_doublets'] = scrub.scrub_doublets(min_counts=2, min_cells=3, \n",
    "                                                          min_gene_variability_pctl=85, n_prin_comps=30)"
   ]
  },
  {
   "cell_type": "code",
   "execution_count": null,
   "id": "cbcbac51",
   "metadata": {},
   "outputs": [],
   "source": [
    "scrub.plot_histogram()"
   ]
  },
  {
   "cell_type": "code",
   "execution_count": null,
   "id": "ca7c1ecd",
   "metadata": {},
   "outputs": [],
   "source": [
    "scrub.set_embedding('UMAP', scr.get_umap(scrub.manifold_obs_, 10, min_dist=0.3))\n",
    "scrub.plot_embedding('UMAP', order_points=True);"
   ]
  },
  {
   "cell_type": "code",
   "execution_count": null,
   "id": "06c411d9",
   "metadata": {},
   "outputs": [],
   "source": [
    "adata.obs"
   ]
  },
  {
   "cell_type": "code",
   "execution_count": null,
   "id": "bc98cf9d",
   "metadata": {},
   "outputs": [],
   "source": [
    "adata.obs['predicted_doublets'].value_counts()"
   ]
  },
  {
   "cell_type": "code",
   "execution_count": null,
   "id": "e43ca639",
   "metadata": {},
   "outputs": [],
   "source": [
    "scrublet_path = os.path.join(os.path.dirname(input_path), \"scrublet_calls.tsv\")\n",
    "scrublet_path"
   ]
  },
  {
   "cell_type": "code",
   "execution_count": null,
   "id": "c9b6687e",
   "metadata": {},
   "outputs": [],
   "source": [
    "df_predicted_doublets = adata.obs.iloc[:, -2:]\n",
    "df_predicted_doublets "
   ]
  },
  {
   "cell_type": "code",
   "execution_count": null,
   "id": "bb4d4716",
   "metadata": {},
   "outputs": [],
   "source": [
    "df_"
   ]
  },
  {
   "cell_type": "code",
   "execution_count": null,
   "id": "43862ecc",
   "metadata": {},
   "outputs": [],
   "source": [
    "pd.DataFrame(adata.obs.iloc[:, -2:]).to_csv(scrublet_path,sep = '\\t',header = False)"
   ]
  },
  {
   "cell_type": "markdown",
   "id": "038634ea",
   "metadata": {},
   "source": [
    "## Dropkick"
   ]
  },
  {
   "cell_type": "code",
   "execution_count": null,
   "id": "9ac4fb51",
   "metadata": {},
   "outputs": [],
   "source": [
    "adata = load_anndata(input_path)\n",
    "adata"
   ]
  },
  {
   "cell_type": "code",
   "execution_count": null,
   "id": "053bef78",
   "metadata": {},
   "outputs": [],
   "source": [
    "adata = dropkick_qc(adata)\n",
    "output_path = get_output_path(dataset, input_path, method='dropkick')\n",
    "# Save AnnData object\n",
    "adata.write_h5ad(output_path, compression='gzip')\n",
    "print(\"AnnData object for Dropkick QC is saved successfully\")"
   ]
  },
  {
   "cell_type": "markdown",
   "id": "0530f381",
   "metadata": {},
   "source": [
    "## BIOCONDUCTOR"
   ]
  },
  {
   "cell_type": "code",
   "execution_count": null,
   "id": "2027c842",
   "metadata": {},
   "outputs": [],
   "source": [
    "output_path = get_output_path(dataset, input_path, method='Bioconductor', format='SingleCellExperiment')"
   ]
  },
  {
   "cell_type": "code",
   "execution_count": null,
   "id": "e61e4f61",
   "metadata": {},
   "outputs": [],
   "source": [
    "report_path = get_report_path(dataset, output_path, \"Bioconductor\")\n",
    "print(report_path)"
   ]
  },
  {
   "cell_type": "code",
   "execution_count": null,
   "id": "5c749e7a",
   "metadata": {},
   "outputs": [],
   "source": [
    "bioconductor_path = os.path.abspath(\"../tools/qc/bioconductor_qc.Rmd\")\n",
    "print(bioconductor_path)"
   ]
  },
  {
   "cell_type": "code",
   "execution_count": null,
   "id": "035805f4",
   "metadata": {},
   "outputs": [],
   "source": [
    "s = subprocess.call([\"R -e \\\"rmarkdown::render('\" + bioconductor_path + \"', params=list(dataset='\" + str(dataset) + \"', input_path='\" + input_path + \"', output='\" + output_path + \"', idtype='SYMBOL', colour_by=NULL, shape_by_1='NULL', shape_by_2='NULL',output_format='SingleCellExperiment'), output_file='\" + report_path + \"')\\\"\"], shell = True)\n",
    "print(s)"
   ]
  },
  {
   "cell_type": "markdown",
   "id": "5ecd8b79",
   "metadata": {},
   "source": [
    "## SEURAT"
   ]
  },
  {
   "cell_type": "code",
   "execution_count": null,
   "id": "1b3384b8",
   "metadata": {},
   "outputs": [],
   "source": [
    "output_path = get_output_path(dataset, input_path, method='Seurat', format='Seurat')\n",
    "report_path = get_report_path(dataset, output_path, \"Seurat\")\n",
    "print(report_path)"
   ]
  },
  {
   "cell_type": "code",
   "execution_count": null,
   "id": "4f2bbc37",
   "metadata": {},
   "outputs": [],
   "source": [
    "seurat_path = os.path.abspath(\"../tools/qc/seurat_qc.Rmd\")\n",
    "s = subprocess.call([\"R -e \\\"rmarkdown::render('\" + seurat_path + \"', params=list(dataset='\" + str(dataset) + \"', input='\" + input_path + \"', output='\" + output_path + \"', output_format='Seurat', path_of_scrublet_calls='\" + path_of_scrublet_calls + \"'), output_file='\" + report_path + \"')\\\"\"], shell = True)\n",
    "print(s)"
   ]
  },
  {
   "cell_type": "code",
   "execution_count": null,
   "id": "8f096a89",
   "metadata": {},
   "outputs": [],
   "source": []
  }
 ],
 "metadata": {
  "kernelspec": {
   "display_name": "Python 3 (ipykernel)",
   "language": "python",
   "name": "python3"
  },
  "language_info": {
   "codemirror_mode": {
    "name": "ipython",
    "version": 3
   },
   "file_extension": ".py",
   "mimetype": "text/x-python",
   "name": "python",
   "nbconvert_exporter": "python",
   "pygments_lexer": "ipython3",
   "version": "3.8.10"
  }
 },
 "nbformat": 4,
 "nbformat_minor": 5
}
