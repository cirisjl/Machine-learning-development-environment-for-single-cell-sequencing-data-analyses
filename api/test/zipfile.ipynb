{
 "cells": [
  {
   "cell_type": "code",
   "execution_count": 1,
   "id": "24f8dc41-82ea-4f98-b7b0-abd3c229cae2",
   "metadata": {},
   "outputs": [],
   "source": [
    "import zipfile"
   ]
  },
  {
   "cell_type": "code",
   "execution_count": 2,
   "id": "cb8f3884-e9eb-4d89-9a48-8bf057b36b85",
   "metadata": {},
   "outputs": [],
   "source": [
    "import tarfile"
   ]
  },
  {
   "cell_type": "code",
   "execution_count": 4,
   "id": "abc33372-ad85-4c87-8a4d-3b33e3665c33",
   "metadata": {},
   "outputs": [],
   "source": [
    "import gzip"
   ]
  },
  {
   "cell_type": "code",
   "execution_count": 10,
   "id": "2ada20cf-3194-4858-b196-ad2180ec6629",
   "metadata": {},
   "outputs": [],
   "source": [
    "input_path=\"/ps/ai-ready/TS_germ line.h5ad.zip\""
   ]
  },
  {
   "cell_type": "code",
   "execution_count": 7,
   "id": "91ab0b92-a705-47a5-a02a-a4422d57e0cc",
   "metadata": {},
   "outputs": [],
   "source": [
    "with tarfile.open(input_path, 'r:gz') as tar_ref:\n",
    "    tar_ref.extractall()"
   ]
  },
  {
   "cell_type": "code",
   "execution_count": 11,
   "id": "f1b01644-b5dc-4c0b-afaf-efa0458d76c0",
   "metadata": {},
   "outputs": [
    {
     "name": "stdout",
     "output_type": "stream",
     "text": [
      "None\n"
     ]
    }
   ],
   "source": [
    "import zipfile\n",
    "\n",
    "with zipfile.ZipFile(input_path, 'r') as zip_ref:\n",
    "    zip_ref.extractall()"
   ]
  },
  {
   "cell_type": "code",
   "execution_count": 23,
   "id": "9c99da30-7e61-4253-8a30-61db4c4be98f",
   "metadata": {},
   "outputs": [],
   "source": [
    "file_list = zip_ref.namelist()"
   ]
  },
  {
   "cell_type": "code",
   "execution_count": 24,
   "id": "5bc0ddb6-cce3-4346-82b8-0394de61c93f",
   "metadata": {},
   "outputs": [
    {
     "data": {
      "text/plain": [
       "1"
      ]
     },
     "execution_count": 24,
     "metadata": {},
     "output_type": "execute_result"
    }
   ],
   "source": [
    "len(file_list)"
   ]
  },
  {
   "cell_type": "code",
   "execution_count": 20,
   "id": "ac5191a5-1b5f-4ad1-ad16-8477c9554e22",
   "metadata": {},
   "outputs": [
    {
     "name": "stdout",
     "output_type": "stream",
     "text": [
      "File Name                                             Modified             Size\n",
      "TS_germ line.h5ad                              2022-04-05 18:37:46     34930282\n"
     ]
    }
   ],
   "source": [
    "zip_ref.printdir()"
   ]
  },
  {
   "cell_type": "code",
   "execution_count": 22,
   "id": "5268c4a6-8881-4a35-91ec-28c4d8658017",
   "metadata": {},
   "outputs": [],
   "source": [
    "with zipfile.ZipFile(input_path, 'r') as zip_ref:\n",
    "    zip_ref.extractall(\"/ps/ai-ready/\")"
   ]
  },
  {
   "cell_type": "code",
   "execution_count": 70,
   "id": "902465e1-3ffd-4b52-8de6-f19b1e16f7d6",
   "metadata": {},
   "outputs": [],
   "source": [
    "import os\n",
    "import sys\n",
    "import zipfile\n",
    "import rarfile\n",
    "import tarfile\n",
    "from tarfile import is_tarfile\n",
    "\n",
    "# zio files\n",
    "def extract_zip_all(zip_file_path):\n",
    "    extract_path = os.path.dirname(zip_file_path)\n",
    "    try:\n",
    "        with zipfile.ZipFile(zip_file_path,'r') as zip_ref:\n",
    "            file_list = zip_ref.namelist()\n",
    "            zip_ref.extractall(extract_path)\n",
    "            if len(file_list) == 1:\n",
    "                extract_path = os.path.dirname(zip_file_path) + \"/\" + file_list[0]\n",
    "                \n",
    "            # os.remove(zip_file_path) # Delete the zip file\n",
    "    except Exception as e:\n",
    "        print('An error occurred:', str(e))\n",
    "        return None\n",
    "        \n",
    "    return extract_path\n",
    "\n",
    "# RAR files\n",
    "def extract_rar_all(rar_file_path):\n",
    "    extract_path = os.path.dirname(rar_file_path)\n",
    "    try:\n",
    "        with rarfile.RarFile(rar_file_path,'r') as rar_ref:\n",
    "            file_list = rar_ref.namelist()\n",
    "            rar_ref.extractall(extract_path)\n",
    "            if len(file_list) == 1:\n",
    "                extract_path = os.path.dirname(rar_file_path) + \"/\" + file_list[0]\n",
    "                \n",
    "            # os.remove(rar_file_path) # Delete the zip file\n",
    "    except Exception as e:\n",
    "        print('An error occurred:', str(e))\n",
    "        return None\n",
    "        \n",
    "    return extract_path\n",
    "    \n",
    "# tar, tar.gz, bz2, xz files\n",
    "def extract_tar_all(gz_file_path):\n",
    "    extract_path = os.path.dirname(gz_file_path)\n",
    "    try:\n",
    "        with tarfile.open(gz_file_path,'r') as tar_ref:\n",
    "            file_list = tar_ref.getnames()\n",
    "            tar_ref.extractall(extract_path)\n",
    "            extract_path = os.path.dirname(gz_file_path) + \"/\" + file_list[0]\n",
    "            subfolder = traversal_subfolder(extract_path)\n",
    "            if subfolder is not None or len(subfolder) != 0:\n",
    "                extract_path += '/' + subfolder[0]\n",
    "                \n",
    "            # os.remove(gz_file_path) # Delete the zip file\n",
    "    except Exception as e:\n",
    "        print('An error occurred:', str(e))\n",
    "        return None\n",
    "        \n",
    "    return extract_path\n",
    "\n",
    "# Find the deepest subfolder\n",
    "def traversal_subfolder(path):\n",
    "    list = []\n",
    "    if (os.path.exists(path)):\n",
    "        files = os.listdir(path)\n",
    "        for file in files:\n",
    "            m = os.path.join(path, file)\n",
    "            if (os.path.isdir(m)):\n",
    "                h = os.path.split(m)\n",
    "                list.append(h[1])\n",
    "        return list\n",
    "\n",
    "\n",
    "def unzip_file(file_path):\n",
    "    extract_path = None\n",
    "    if os.path.exists(file_path):\n",
    "        if file_path.endswith(\".zip\"):\n",
    "            extract_path = extract_zip_all(file_path)\n",
    "        elif file_path.endswith(\".rar\"):\n",
    "            extract_path = extract_rar_all(file_path)\n",
    "        elif is_tarfile(file_path) or file_path.endswith(\".gz\"):\n",
    "            extract_path = extract_tar_all(file_path)\n",
    "        else:\n",
    "            print(\"No compressed file is found in: \" + file_path)\n",
    "\n",
    "    return extract_path"
   ]
  },
  {
   "cell_type": "code",
   "execution_count": 32,
   "id": "fed4de69-75dc-439e-9bb7-a4d3fed110d7",
   "metadata": {},
   "outputs": [
    {
     "name": "stdout",
     "output_type": "stream",
     "text": [
      "Collecting rarfile\n",
      "  Downloading rarfile-4.1-py3-none-any.whl (28 kB)\n",
      "Installing collected packages: rarfile\n",
      "Successfully installed rarfile-4.1\n"
     ]
    }
   ],
   "source": [
    "!pip install rarfile"
   ]
  },
  {
   "cell_type": "code",
   "execution_count": 37,
   "id": "37642c0f-7205-4a64-bf3e-5c8857831c29",
   "metadata": {},
   "outputs": [
    {
     "name": "stdout",
     "output_type": "stream",
     "text": [
      "/ps/ai-ready/TS_germ line.h5ad\n"
     ]
    }
   ],
   "source": [
    "extract_path = unzip_file(input_path)\n",
    "print(extract_path)"
   ]
  },
  {
   "cell_type": "code",
   "execution_count": 72,
   "id": "7b28163c-0fd1-4dc2-802e-2734c2952f5b",
   "metadata": {},
   "outputs": [
    {
     "name": "stdout",
     "output_type": "stream",
     "text": [
      "/ps/ai-ready/filtered_gene_bc_matrices/hg19\n"
     ]
    }
   ],
   "source": [
    "extract_path = unzip_file(\"/ps/ai-ready/pbmc3k_filtered_gene_bc_matrices.tar.gz\")\n",
    "print(extract_path)"
   ]
  },
  {
   "cell_type": "code",
   "execution_count": 53,
   "id": "c0717d50-4f8c-4240-9149-f50af2a2dbbc",
   "metadata": {},
   "outputs": [],
   "source": [
    "def traversalDir_FirstDir(path):\n",
    "    list = []\n",
    "    if (os.path.exists(path)):\n",
    "        files = os.listdir(path)\n",
    "        for file in files:\n",
    "            m = os.path.join(path, file)\n",
    "            if (os.path.isdir(m)):\n",
    "                h = os.path.split(m)\n",
    "                list.append(h[1])\n",
    "        return list"
   ]
  },
  {
   "cell_type": "code",
   "execution_count": 56,
   "id": "20b35f4b-dcb2-405c-9efd-652e3e9a372d",
   "metadata": {},
   "outputs": [
    {
     "name": "stdout",
     "output_type": "stream",
     "text": [
      "[]\n"
     ]
    }
   ],
   "source": [
    "print(traversalDir_FirstDir(\"/ps/ai-ready/filtered_gene_bc_matrices/hg19\"))"
   ]
  },
  {
   "cell_type": "code",
   "execution_count": null,
   "id": "94a72aea-a751-45a3-a260-2f2091b44911",
   "metadata": {},
   "outputs": [],
   "source": []
  }
 ],
 "metadata": {
  "kernelspec": {
   "display_name": "Python 3 (ipykernel)",
   "language": "python",
   "name": "python3"
  },
  "language_info": {
   "codemirror_mode": {
    "name": "ipython",
    "version": 3
   },
   "file_extension": ".py",
   "mimetype": "text/x-python",
   "name": "python",
   "nbconvert_exporter": "python",
   "pygments_lexer": "ipython3",
   "version": "3.8.10"
  }
 },
 "nbformat": 4,
 "nbformat_minor": 5
}
