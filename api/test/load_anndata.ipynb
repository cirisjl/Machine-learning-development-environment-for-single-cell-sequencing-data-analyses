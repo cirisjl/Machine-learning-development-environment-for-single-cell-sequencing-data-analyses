{
 "cells": [
  {
   "cell_type": "code",
   "execution_count": 3,
   "id": "f33e408a-b77f-4b35-a7e1-4cb9ff05e53a",
   "metadata": {},
   "outputs": [],
   "source": [
    "import os\n",
    "import subprocess\n",
    "import sys\n",
    "sys.path.append('..')\n",
    "from tools.formating.formating import *\n",
    "from tools.utils.utils import *\n",
    "from tools.qc.scanpy_qc import *\n",
    "import numpy as np\n",
    "import scipy"
   ]
  },
  {
   "cell_type": "code",
   "execution_count": 4,
   "id": "4d867cb5-fd7b-449b-a6bf-aa87ee94fd58",
   "metadata": {},
   "outputs": [
    {
     "name": "stdout",
     "output_type": "stream",
     "text": [
      "/ps/ai-ready/data/error/droplet_Bladder_seurat_tiss.h5seurat\n",
      "[1] \"Inside LoadSeurat\"\n",
      "[1] \"inside s to a\"\n",
      "[1] \"/ps/ai-ready/data/error/droplet_Bladder_seurat_tiss.h5ad\"\n",
      "[1] \"AnnData object is saved successfully.\"\n",
      "load_anndata /ps/ai-ready/data/error/droplet_Bladder_seurat_tiss.h5ad\n"
     ]
    },
    {
     "data": {
      "text/plain": [
       "AnnData object with n_obs × n_vars = 2500 × 23341\n",
       "    obs: 'orig.ident', 'n_counts', 'n_genes', 'channel', 'tissue', 'subtissue', 'mouse.sex', 'mouse.id', 'percent.ercc', 'percent.ribo', 'free_annotation', 'cell_ontology_class', 'res.0.4', 'previous_free_annotation', 'previous_cell_ontology_class', 'cluster.ids', 'cell_ontology_id'\n",
       "    var: 'name'"
      ]
     },
     "execution_count": 4,
     "metadata": {},
     "output_type": "execute_result"
    }
   ],
   "source": [
    "# input = \"/ps/ai-ready/data/Clustering/Tabula_Sapiens/TS_germ line.h5ad\"\n",
    "# input = \"/ps/ai-ready/data/Clustering/Tabula_Muris/droplet_Bladder_seurat_tiss.h5ad\"\n",
    "# input = \"/ps/ai-ready/data/error/hca_heart_neuronal_raw.h5ad\"\n",
    "# input = \"/ps/ai-ready/data/Clustering/Tabula_Sapiens/TS_Skin.h5ad\"\n",
    "input = \"/ps/ai-ready/data/error/droplet_Bladder_seurat_tiss.h5seurat\"\n",
    "# input = \"/ps/ai-ready/data/error/tung.rds\"\n",
    "adata = load_anndata(input)\n",
    "adata"
   ]
  },
  {
   "cell_type": "code",
   "execution_count": null,
   "id": "b248c0e2-e14f-4df8-a5e1-203e0c7eec25",
   "metadata": {},
   "outputs": [],
   "source": [
    "# Convert Seurat/Single-Cell Experiment object to Anndata object and return the path of Anndata object\n",
    "def convert_seurat_sce_to_anndata1(path, assay='RNA'):\n",
    "    import rpy2.rinterface_lib.callbacks as rcb\n",
    "    import rpy2.robjects as ro\n",
    "    import anndata2ri\n",
    "    from rpy2.robjects.packages import importr\n",
    "    from rpy2.robjects import pandas2ri\n",
    "    from rpy2.robjects.conversion import localconverter\n",
    "    \n",
    "    rcb.logger.setLevel(logging.ERROR)\n",
    "    ro.pandas2ri.activate()\n",
    "    anndata2ri.activate()\n",
    "\n",
    "    # Defining the R script and loading the instance in Python\n",
    "    ro.r['source'](os.path.abspath(\"../tools/formating/formating.R\"))\n",
    "    # Access the loaded R functions\n",
    "    ConvertSeuratSCEtoAnndata_r = ro.globalenv['ConvertSeuratSCEtoAnndata']\n",
    "\n",
    "    assay_names = None\n",
    "    adata_path = None\n",
    "    results = None\n",
    "\n",
    "    if path.endswith(\".h5Seurat\") or path.endswith(\".h5seurat\") or path.endswith(\".rds\") or path.endswith(\".Robj\"):\n",
    "        results = ConvertSeuratSCEtoAnndata_r(path, assay=assay)\n",
    "        print(results)\n",
    "        adata_path = str(results.rx2('anndata_path'))\n",
    "        # adata_path = list(results[2])[0]\n",
    "        assay_names = list(results[1])\n",
    "    \n",
    "    return results"
   ]
  },
  {
   "cell_type": "code",
   "execution_count": null,
   "id": "37d0b493-7b1f-4dd8-b56e-6101f8efff90",
   "metadata": {},
   "outputs": [],
   "source": [
    "results = convert_seurat_sce_to_anndata1(input)\n",
    "results"
   ]
  },
  {
   "cell_type": "code",
   "execution_count": null,
   "id": "2f7b0ec1-eed2-41b5-8474-e1c7c1b67e7c",
   "metadata": {},
   "outputs": [],
   "source": [
    "type(results)"
   ]
  },
  {
   "cell_type": "code",
   "execution_count": null,
   "id": "656faad2-05c7-4966-b67d-b27c19d9d362",
   "metadata": {},
   "outputs": [],
   "source": [
    "from collections import OrderedDict\n",
    "\n",
    "results = OrderedDict(results)"
   ]
  },
  {
   "cell_type": "code",
   "execution_count": null,
   "id": "ff83b08f-135b-4133-9f37-39509b7d970b",
   "metadata": {},
   "outputs": [],
   "source": [
    "results['anndata_path'][0]"
   ]
  },
  {
   "cell_type": "code",
   "execution_count": null,
   "id": "2fa89361-476b-44df-a6f4-0c24fc660949",
   "metadata": {},
   "outputs": [],
   "source": []
  }
 ],
 "metadata": {
  "kernelspec": {
   "display_name": "Python 3 (ipykernel)",
   "language": "python",
   "name": "python3"
  },
  "language_info": {
   "codemirror_mode": {
    "name": "ipython",
    "version": 3
   },
   "file_extension": ".py",
   "mimetype": "text/x-python",
   "name": "python",
   "nbconvert_exporter": "python",
   "pygments_lexer": "ipython3",
   "version": "3.8.10"
  }
 },
 "nbformat": 4,
 "nbformat_minor": 5
}
