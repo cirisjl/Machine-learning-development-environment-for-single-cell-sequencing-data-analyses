{
 "cells": [
  {
   "cell_type": "code",
   "execution_count": 1,
   "id": "cd446f0f",
   "metadata": {
    "scrolled": false
   },
   "outputs": [
    {
     "name": "stderr",
     "output_type": "stream",
     "text": [
      "Loading required package: SummarizedExperiment\n",
      "\n",
      "Loading required package: MatrixGenerics\n",
      "\n",
      "Loading required package: matrixStats\n",
      "\n",
      "\n",
      "Attaching package: ‘MatrixGenerics’\n",
      "\n",
      "\n",
      "The following objects are masked from ‘package:matrixStats’:\n",
      "\n",
      "    colAlls, colAnyNAs, colAnys, colAvgsPerRowSet, colCollapse,\n",
      "    colCounts, colCummaxs, colCummins, colCumprods, colCumsums,\n",
      "    colDiffs, colIQRDiffs, colIQRs, colLogSumExps, colMadDiffs,\n",
      "    colMads, colMaxs, colMeans2, colMedians, colMins, colOrderStats,\n",
      "    colProds, colQuantiles, colRanges, colRanks, colSdDiffs, colSds,\n",
      "    colSums2, colTabulates, colVarDiffs, colVars, colWeightedMads,\n",
      "    colWeightedMeans, colWeightedMedians, colWeightedSds,\n",
      "    colWeightedVars, rowAlls, rowAnyNAs, rowAnys, rowAvgsPerColSet,\n",
      "    rowCollapse, rowCounts, rowCummaxs, rowCummins, rowCumprods,\n",
      "    rowCumsums, rowDiffs, rowIQRDiffs, rowIQRs, rowLogSumExps,\n",
      "    rowMadDiffs, rowMads, rowMaxs, rowMeans2, rowMedians, rowMins,\n",
      "    rowOrderStats, rowProds, rowQuantiles, rowRanges, rowRanks,\n",
      "    rowSdDiffs, rowSds, rowSums2, rowTabulates, rowVarDiffs, rowVars,\n",
      "    rowWeightedMads, rowWeightedMeans, rowWeightedMedians,\n",
      "    rowWeightedSds, rowWeightedVars\n",
      "\n",
      "\n",
      "Loading required package: GenomicRanges\n",
      "\n",
      "Loading required package: stats4\n",
      "\n",
      "Loading required package: BiocGenerics\n",
      "\n",
      "\n",
      "Attaching package: ‘BiocGenerics’\n",
      "\n",
      "\n",
      "The following objects are masked from ‘package:stats’:\n",
      "\n",
      "    IQR, mad, sd, var, xtabs\n",
      "\n",
      "\n",
      "The following objects are masked from ‘package:base’:\n",
      "\n",
      "    anyDuplicated, aperm, append, as.data.frame, basename, cbind,\n",
      "    colnames, dirname, do.call, duplicated, eval, evalq, Filter, Find,\n",
      "    get, grep, grepl, intersect, is.unsorted, lapply, Map, mapply,\n",
      "    match, mget, order, paste, pmax, pmax.int, pmin, pmin.int,\n",
      "    Position, rank, rbind, Reduce, rownames, sapply, setdiff, sort,\n",
      "    table, tapply, union, unique, unsplit, which.max, which.min\n",
      "\n",
      "\n",
      "Loading required package: S4Vectors\n",
      "\n",
      "\n",
      "Attaching package: ‘S4Vectors’\n",
      "\n",
      "\n",
      "The following objects are masked from ‘package:base’:\n",
      "\n",
      "    expand.grid, I, unname\n",
      "\n",
      "\n",
      "Loading required package: IRanges\n",
      "\n",
      "Loading required package: GenomeInfoDb\n",
      "\n",
      "Loading required package: Biobase\n",
      "\n",
      "Welcome to Bioconductor\n",
      "\n",
      "    Vignettes contain introductory material; view with\n",
      "    'browseVignettes()'. To cite Bioconductor, see\n",
      "    'citation(\"Biobase\")', and for packages 'citation(\"pkgname\")'.\n",
      "\n",
      "\n",
      "\n",
      "Attaching package: ‘Biobase’\n",
      "\n",
      "\n",
      "The following object is masked from ‘package:MatrixGenerics’:\n",
      "\n",
      "    rowMedians\n",
      "\n",
      "\n",
      "The following objects are masked from ‘package:matrixStats’:\n",
      "\n",
      "    anyMissing, rowMedians\n",
      "\n",
      "\n",
      "\n",
      "Attaching package: ‘dplyr’\n",
      "\n",
      "\n",
      "The following object is masked from ‘package:Biobase’:\n",
      "\n",
      "    combine\n",
      "\n",
      "\n",
      "The following objects are masked from ‘package:GenomicRanges’:\n",
      "\n",
      "    intersect, setdiff, union\n",
      "\n",
      "\n",
      "The following object is masked from ‘package:GenomeInfoDb’:\n",
      "\n",
      "    intersect\n",
      "\n",
      "\n",
      "The following objects are masked from ‘package:IRanges’:\n",
      "\n",
      "    collapse, desc, intersect, setdiff, slice, union\n",
      "\n",
      "\n",
      "The following objects are masked from ‘package:S4Vectors’:\n",
      "\n",
      "    first, intersect, rename, setdiff, setequal, union\n",
      "\n",
      "\n",
      "The following objects are masked from ‘package:BiocGenerics’:\n",
      "\n",
      "    combine, intersect, setdiff, union\n",
      "\n",
      "\n",
      "The following object is masked from ‘package:matrixStats’:\n",
      "\n",
      "    count\n",
      "\n",
      "\n",
      "The following objects are masked from ‘package:stats’:\n",
      "\n",
      "    filter, lag\n",
      "\n",
      "\n",
      "The following objects are masked from ‘package:base’:\n",
      "\n",
      "    intersect, setdiff, setequal, union\n",
      "\n",
      "\n",
      "\n",
      "Attaching package: ‘celldex’\n",
      "\n",
      "\n",
      "The following objects are masked from ‘package:SingleR’:\n",
      "\n",
      "    BlueprintEncodeData, DatabaseImmuneCellExpressionData,\n",
      "    HumanPrimaryCellAtlasData, ImmGenData, MonacoImmuneData,\n",
      "    MouseRNAseqData, NovershternHematopoieticData\n",
      "\n",
      "\n",
      "Loading required package: SingleCellExperiment\n",
      "\n",
      "Loading required package: scuttle\n",
      "\n",
      "The legacy packages maptools, rgdal, and rgeos, underpinning the sp package,\n",
      "which was just loaded, will retire in October 2023.\n",
      "Please refer to R-spatial evolution reports for details, especially\n",
      "https://r-spatial.org/r/2023/05/15/evolution4.html.\n",
      "It may be desirable to make the sf package available;\n",
      "package maintainers should consider adding sf to Suggests:.\n",
      "The sp package is now running under evolution status 2\n",
      "     (status 2 uses the sf package in place of rgdal)\n",
      "\n",
      "Attaching SeuratObject\n",
      "\n",
      "\n",
      "Attaching package: ‘Seurat’\n",
      "\n",
      "\n",
      "The following object is masked from ‘package:SummarizedExperiment’:\n",
      "\n",
      "    Assays\n",
      "\n",
      "\n",
      "Registered S3 method overwritten by 'SeuratDisk':\n",
      "  method            from  \n",
      "  as.sparse.H5Group Seurat\n",
      "\n"
     ]
    }
   ],
   "source": [
    "library(ggplot2)\n",
    "library(SingleR)\n",
    "library(dplyr)\n",
    "library(celldex)\n",
    "library(RColorBrewer)\n",
    "\n",
    "source(\"../tools/formating/formating.R\")"
   ]
  },
  {
   "cell_type": "code",
   "execution_count": null,
   "id": "c9256578",
   "metadata": {},
   "outputs": [],
   "source": [
    "inupt_path <- \"/ps/ai-ready/data/tung/tung.h5Seurat\""
   ]
  },
  {
   "cell_type": "code",
   "execution_count": null,
   "id": "266ca44f",
   "metadata": {},
   "outputs": [],
   "source": [
    "srat <- load_seurat(inupt_path)\n",
    "srat"
   ]
  },
  {
   "cell_type": "code",
   "execution_count": null,
   "id": "f356bfdd",
   "metadata": {},
   "outputs": [],
   "source": [
    "names(srat@assays)"
   ]
  },
  {
   "cell_type": "code",
   "execution_count": null,
   "id": "950cab6b",
   "metadata": {},
   "outputs": [],
   "source": [
    "'RNA' %in% names(srat@assays)"
   ]
  },
  {
   "cell_type": "code",
   "execution_count": null,
   "id": "4a158783",
   "metadata": {},
   "outputs": [],
   "source": [
    "DefaultAssay(srat)<-'SCT'"
   ]
  },
  {
   "cell_type": "code",
   "execution_count": null,
   "id": "ec0288e8",
   "metadata": {},
   "outputs": [],
   "source": [
    "names(srat@assays)"
   ]
  },
  {
   "cell_type": "code",
   "execution_count": null,
   "id": "c2e6894a",
   "metadata": {},
   "outputs": [],
   "source": [
    "DefaultAssay(srat)"
   ]
  },
  {
   "cell_type": "code",
   "execution_count": null,
   "id": "1524c2e9",
   "metadata": {},
   "outputs": [],
   "source": [
    "get_assays_from_seurat <- function(seurat_object) {\n",
    "    assays_names <- 'RNA'\n",
    "\n",
    "    if (DefaultAssay(seurat_object) != 'RNA') {\n",
    "        assays_names <- names(srat@assays)\n",
    "    }\n",
    "    assays_names\n",
    "}"
   ]
  },
  {
   "cell_type": "code",
   "execution_count": null,
   "id": "e0f7df0e",
   "metadata": {},
   "outputs": [],
   "source": [
    "assays_names <- get_assays_from_seurat(srat)\n",
    "assays_names"
   ]
  },
  {
   "cell_type": "code",
   "execution_count": null,
   "id": "c3bb82c5",
   "metadata": {},
   "outputs": [],
   "source": [
    "SaveH5Seurat(srat, filename = \"/ps/ai-ready/data/tung/tung1.h5Seurat\", overwrite = TRUE, verbose = FALSE)"
   ]
  },
  {
   "cell_type": "code",
   "execution_count": null,
   "id": "c4ad610e",
   "metadata": {},
   "outputs": [],
   "source": [
    "seu = DietSeurat(\n",
    "  srat,\n",
    "  counts = TRUE, # so, raw counts save to adata.layers['counts']\n",
    "  data = TRUE, # so, log1p counts save to adata.X when scale.data = False, else adata.layers['data']\n",
    "  scale.data = FALSE, # if only scaled highly variable gene, the export to h5ad would fail. set to false\n",
    "  features = rownames(srat), # export all genes, not just top highly variable genes\n",
    "  assays = \"RNA\",\n",
    "  dimreducs = c(\"pca\",\"umap\"),\n",
    "  graphs = c(\"RNA_nn\", \"RNA_snn\"), # to RNA_nn -> distances, RNA_snn -> connectivities\n",
    "  misc = TRUE\n",
    ")"
   ]
  },
  {
   "cell_type": "code",
   "execution_count": null,
   "id": "16c9e661",
   "metadata": {},
   "outputs": [],
   "source": [
    "seu[['RNA']]@counts"
   ]
  },
  {
   "cell_type": "code",
   "execution_count": null,
   "id": "970ce0bf",
   "metadata": {},
   "outputs": [],
   "source": [
    "seu[['RNA']]"
   ]
  },
  {
   "cell_type": "code",
   "execution_count": null,
   "id": "2ec1888e",
   "metadata": {},
   "outputs": [],
   "source": [
    "path <- MuDataSeurat::WriteH5AD(seu, \"/ps/ai-ready/data/tung/seu.h5ad\", assay=\"RNA\")\n",
    "path"
   ]
  },
  {
   "cell_type": "code",
   "execution_count": null,
   "id": "23a5855a",
   "metadata": {},
   "outputs": [],
   "source": [
    "DefaultAssay(srat)<-'SCT'\n",
    "\n",
    "seu_sct = DietSeurat(\n",
    "  srat,\n",
    "  counts = TRUE, # so, raw counts save to adata.layers['counts']\n",
    "  data = TRUE, # so, log1p counts save to adata.X when scale.data = False, else adata.layers['data']\n",
    "  scale.data = FALSE, # if only scaled highly variable gene, the export to h5ad would fail. set to false\n",
    "  features = rownames(srat), # export all genes, not just top highly variable genes\n",
    "  assays = \"SCT\",\n",
    "  dimreducs = c(\"pca\",\"umap\"),\n",
    "  graphs = c(\"RNA_nn\", \"RNA_snn\"), # to RNA_nn -> distances, RNA_snn -> connectivities\n",
    "  misc = TRUE\n",
    ")\n",
    "seu_sct"
   ]
  },
  {
   "cell_type": "code",
   "execution_count": null,
   "id": "e75ed879",
   "metadata": {},
   "outputs": [],
   "source": [
    "seu_sct[['SCT']]@counts"
   ]
  },
  {
   "cell_type": "code",
   "execution_count": null,
   "id": "9dd9cd15",
   "metadata": {},
   "outputs": [],
   "source": [
    "DefaultAssay(seu_sct)<-'RNA'"
   ]
  },
  {
   "cell_type": "code",
   "execution_count": null,
   "id": "2e652918",
   "metadata": {},
   "outputs": [],
   "source": [
    "path <- \"/ps/ai-ready/data/tung/umi.h5Seurat\"\n",
    "seurat_object <- LoadH5Seurat(path)\n",
    "seurat_object"
   ]
  },
  {
   "cell_type": "code",
   "execution_count": null,
   "id": "f86bdb12",
   "metadata": {},
   "outputs": [],
   "source": [
    "DefaultAssay(seurat_object)"
   ]
  },
  {
   "cell_type": "code",
   "execution_count": 4,
   "id": "94d02d41",
   "metadata": {},
   "outputs": [
    {
     "name": "stderr",
     "output_type": "stream",
     "text": [
      "Validating h5Seurat file\n",
      "\n",
      "Initializing ERCC with data\n",
      "\n",
      "Adding counts for ERCC\n",
      "\n",
      "Adding miscellaneous information for ERCC\n",
      "\n",
      "Initializing RNA with data\n",
      "\n",
      "Adding counts for RNA\n",
      "\n",
      "Adding feature-level metadata for RNA\n",
      "\n",
      "Adding miscellaneous information for RNA\n",
      "\n",
      "Adding command information\n",
      "\n",
      "Adding cell-level metadata\n",
      "\n",
      "Adding miscellaneous information\n",
      "\n",
      "Adding tool-specific results\n",
      "\n",
      "Validating h5Seurat file\n",
      "\n"
     ]
    }
   ],
   "source": [
    "path <- \"/ps/ai-ready/data/tung/umi.h5Seurat\"\n",
    "results <- convert_seurat_to_anndata(path, assay = 'RNA')"
   ]
  },
  {
   "cell_type": "code",
   "execution_count": null,
   "id": "c74c9396",
   "metadata": {},
   "outputs": [],
   "source": []
  },
  {
   "cell_type": "code",
   "execution_count": null,
   "id": "34adc6df",
   "metadata": {},
   "outputs": [],
   "source": [
    "# inupt_path <- \"/ps/ai-ready/data/filtered_gene_bc_matrices/hg19/\"\n",
    "inupt_path <- \"/ps/ai-ready/data/kbcfh/Anndata/hca_heart_neuronal_raw.h5ad\"\n",
    "path_of_scrublet_calls<-\"/ps/ai-ready/data/filtered_gene_bc_matrices/hg19/scrublet_calls.tsv\""
   ]
  },
  {
   "cell_type": "code",
   "execution_count": null,
   "id": "ec2f4cd6",
   "metadata": {},
   "outputs": [],
   "source": [
    "srat <- load_seurat(inupt_path)\n",
    "srat"
   ]
  },
  {
   "cell_type": "code",
   "execution_count": null,
   "id": "93040a95",
   "metadata": {},
   "outputs": [],
   "source": [
    "default_assay <- \"RNA\""
   ]
  },
  {
   "cell_type": "code",
   "execution_count": null,
   "id": "fe8733ff",
   "metadata": {},
   "outputs": [],
   "source": [
    "if(!default_assay %in% names(x = srat)) stop(paste(default_assay, \"does not exist.\"))\n",
    "DefaultAssay(object = srat) <-default_assay"
   ]
  },
  {
   "cell_type": "code",
   "execution_count": null,
   "id": "670bf229",
   "metadata": {},
   "outputs": [],
   "source": [
    "head(srat[[]])"
   ]
  },
  {
   "cell_type": "code",
   "execution_count": null,
   "id": "348c9412",
   "metadata": {},
   "outputs": [],
   "source": [
    "srat[[default_assay]]@counts"
   ]
  },
  {
   "cell_type": "code",
   "execution_count": null,
   "id": "0fcbb46d",
   "metadata": {},
   "outputs": [],
   "source": [
    "if(!paste0(\"nCount_\", default_assay) %in% names(x = srat[[]])) srat[[paste0(\"nCount_\", default_assay)]] <- colSums(x = srat[[default_assay]], slot = \"counts\")  # nCount of the default assay\n",
    "if(!paste0(\"nFeature_\", default_assay) %in% names(x = srat[[]])) srat[[paste0(\"nFeature_\", default_assay)]] <- colSums(x = GetAssayData(object = srat[[default_assay]], slot = \"counts\") > 0)  # nFeature of the default assay"
   ]
  },
  {
   "cell_type": "code",
   "execution_count": null,
   "id": "73e02345",
   "metadata": {},
   "outputs": [],
   "source": [
    "meta <- srat@meta.data\n",
    "dim(meta)\n",
    "head(meta)\n",
    "\n",
    "summary(meta[paste0(\"nCount_\", default_assay)])\n",
    "summary(meta[paste0(\"nFeature_\", default_assay)])"
   ]
  },
  {
   "cell_type": "code",
   "execution_count": null,
   "id": "86bf3cdf",
   "metadata": {},
   "outputs": [],
   "source": [
    "srat[[\"percent.mt\"]] <- PercentageFeatureSet(srat, pattern = \"^MT-\") # Michochondrial genes\n",
    "srat[[\"percent.rb\"]] <- PercentageFeatureSet(srat, pattern = \"^RP[SL]\") # Ribosomal proteins (their names begin with RPS or RPL"
   ]
  },
  {
   "cell_type": "code",
   "execution_count": null,
   "id": "707de936",
   "metadata": {},
   "outputs": [],
   "source": [
    "# add the doublet annotation\n",
    "doublets <- read.table(path_of_scrublet_calls, header = F, row.names = 1)\n",
    "colnames(doublets) <- c(\"Doublet_score\", \"Is_doublet\")\n",
    "srat <- AddMetaData(srat, doublets)\n",
    "head(srat[[]])"
   ]
  },
  {
   "cell_type": "code",
   "execution_count": null,
   "id": "ce99c877",
   "metadata": {},
   "outputs": [],
   "source": [
    "names(srat[[]])"
   ]
  },
  {
   "cell_type": "code",
   "execution_count": null,
   "id": "c22f9a99",
   "metadata": {},
   "outputs": [],
   "source": [
    "srat[[]][\"scrublet_score\"]"
   ]
  },
  {
   "cell_type": "code",
   "execution_count": null,
   "id": "7a8d55f4",
   "metadata": {},
   "outputs": [],
   "source": [
    "doublets"
   ]
  },
  {
   "cell_type": "code",
   "execution_count": null,
   "id": "16a1b895",
   "metadata": {},
   "outputs": [],
   "source": [
    "VlnPlot(srat, features = c(paste0(\"nFeature_\", default_assay), paste0(\"nCount_\", default_assay),\"percent.mt\",\"percent.rb\"),ncol = 4,pt.size = 0.1) & \n",
    "  theme(plot.title = element_text(size=10))"
   ]
  },
  {
   "cell_type": "code",
   "execution_count": null,
   "id": "a003041b",
   "metadata": {},
   "outputs": [],
   "source": [
    "FeatureScatter(srat, feature1 = paste0(\"nCount_\", default_assay), feature2 = \"percent.mt\")\n",
    "FeatureScatter(srat, feature1 = paste0(\"nCount_\", default_assay), feature2 = paste0(\"nFeature_\", default_assay))\n",
    "FeatureScatter(srat, feature1 = paste0(\"nCount_\", default_assay), feature2 = \"percent.rb\")\n",
    "FeatureScatter(srat, feature1 = \"percent.rb\", feature2 = \"percent.mt\")\n",
    "# FeatureScatter(srat, feature1 = paste0(\"nFeature_\", default_assay), feature2 = \"Doublet_score\")\n",
    "FeatureScatter(srat, feature1 = paste0(\"nFeature_\", default_assay), feature2 = \"scrublet_score\")"
   ]
  },
  {
   "cell_type": "code",
   "execution_count": null,
   "id": "345d6279",
   "metadata": {},
   "outputs": [],
   "source": [
    "srat[['QC']] <- ifelse(srat@meta.data$Is_doublet == 'True','Doublet','Pass')\n",
    "srat[['QC']] <- ifelse(srat@meta.data[paste0(\"nFeature_\", default_assay)] < 500 & srat@meta.data$QC == 'Pass','Low_nFeature',srat@meta.data$QC)\n",
    "srat[['QC']] <- ifelse(srat@meta.data[paste0(\"nFeature_\", default_assay)] < 500 & srat@meta.data$QC != 'Pass' & srat@meta.data$QC != 'Low_nFeature',paste('Low_nFeature',srat@meta.data$QC,sep = ','),srat@meta.data$QC)\n",
    "srat[['QC']] <- ifelse(srat@meta.data$percent.mt > 15 & srat@meta.data$QC == 'Pass','High_MT',srat@meta.data$QC)\n",
    "srat[['QC']] <- ifelse(srat@meta.data[paste0(\"nFeature_\", default_assay)] < 500 & srat@meta.data$QC != 'Pass' & srat@meta.data$QC != 'High_MT',paste('High_MT',srat@meta.data$QC,sep = ','),srat@meta.data$QC)\n",
    "table(srat[['QC']])"
   ]
  },
  {
   "cell_type": "code",
   "execution_count": null,
   "id": "3e928a64",
   "metadata": {},
   "outputs": [],
   "source": [
    "srat[[]]"
   ]
  },
  {
   "cell_type": "code",
   "execution_count": null,
   "id": "ca1768c1",
   "metadata": {},
   "outputs": [],
   "source": [
    "VlnPlot(srat, features = c(\"nFeature_RNA\",\"nCount_RNA\",\"percent.mt\",\"percent.rb\"),ncol = 4,pt.size = 0.1) & \n",
    "  theme(plot.title = element_text(size=10))"
   ]
  },
  {
   "cell_type": "code",
   "execution_count": null,
   "id": "e7bc4c74",
   "metadata": {},
   "outputs": [],
   "source": [
    "FeatureScatter(srat, feature1 = \"nCount_RNA\", feature2 = \"percent.mt\")\n",
    "FeatureScatter(srat, feature1 = \"nCount_RNA\", feature2 = \"nFeature_RNA\")\n",
    "FeatureScatter(srat, feature1 = \"nCount_RNA\", feature2 = \"percent.rb\")\n",
    "FeatureScatter(srat, feature1 = \"percent.rb\", feature2 = \"percent.mt\")\n",
    "FeatureScatter(srat, feature1 = \"nFeature_RNA\", feature2 = \"Doublet_score\")"
   ]
  },
  {
   "cell_type": "code",
   "execution_count": null,
   "id": "a98eb60f",
   "metadata": {},
   "outputs": [],
   "source": [
    "srat[['QC']] <- ifelse(srat@meta.data$Is_doublet == 'True','Doublet','Pass')\n",
    "srat[['QC']] <- ifelse(srat@meta.data$nFeature_RNA < 500 & srat@meta.data$QC == 'Pass','Low_nFeature',srat@meta.data$QC)\n",
    "srat[['QC']] <- ifelse(srat@meta.data$nFeature_RNA < 500 & srat@meta.data$QC != 'Pass' & srat@meta.data$QC != 'Low_nFeature',paste('Low_nFeature',srat@meta.data$QC,sep = ','),srat@meta.data$QC)\n",
    "srat[['QC']] <- ifelse(srat@meta.data$percent.mt > 15 & srat@meta.data$QC == 'Pass','High_MT',srat@meta.data$QC)\n",
    "srat[['QC']] <- ifelse(srat@meta.data$nFeature_RNA < 500 & srat@meta.data$QC != 'Pass' & srat@meta.data$QC != 'High_MT',paste('High_MT',srat@meta.data$QC,sep = ','),srat@meta.data$QC)\n",
    "table(srat[['QC']])"
   ]
  },
  {
   "cell_type": "code",
   "execution_count": null,
   "id": "21f234a7",
   "metadata": {},
   "outputs": [],
   "source": [
    "srat[['QC']]"
   ]
  },
  {
   "cell_type": "code",
   "execution_count": null,
   "id": "b30c6d58",
   "metadata": {},
   "outputs": [],
   "source": [
    "VlnPlot(subset(srat, subset = QC == 'Pass'), \n",
    "        features = c(\"nFeature_RNA\", \"nCount_RNA\", \"percent.mt\",\"percent.rb\"), ncol = 4, pt.size = 0.1) & \n",
    "  theme(plot.title = element_text(size=10))"
   ]
  },
  {
   "cell_type": "code",
   "execution_count": null,
   "id": "fdafb96d",
   "metadata": {},
   "outputs": [],
   "source": []
  }
 ],
 "metadata": {
  "kernelspec": {
   "display_name": "R",
   "language": "R",
   "name": "ir"
  },
  "language_info": {
   "codemirror_mode": "r",
   "file_extension": ".r",
   "mimetype": "text/x-r-source",
   "name": "R",
   "pygments_lexer": "r",
   "version": "4.2.1"
  }
 },
 "nbformat": 4,
 "nbformat_minor": 5
}
