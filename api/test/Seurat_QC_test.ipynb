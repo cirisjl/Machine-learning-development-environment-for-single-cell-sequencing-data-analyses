{
 "cells": [
  {
   "cell_type": "code",
   "execution_count": null,
   "id": "3fa5001f-1de3-4220-a87c-9c15ebd0774e",
   "metadata": {},
   "outputs": [],
   "source": [
    "# install.packages('redux')"
   ]
  },
  {
   "cell_type": "code",
   "execution_count": 1,
   "id": "cd446f0f",
   "metadata": {},
   "outputs": [
    {
     "name": "stderr",
     "output_type": "stream",
     "text": [
      "Loading required package: SummarizedExperiment\n",
      "\n",
      "Loading required package: MatrixGenerics\n",
      "\n",
      "Loading required package: matrixStats\n",
      "\n",
      "\n",
      "Attaching package: ‘MatrixGenerics’\n",
      "\n",
      "\n",
      "The following objects are masked from ‘package:matrixStats’:\n",
      "\n",
      "    colAlls, colAnyNAs, colAnys, colAvgsPerRowSet, colCollapse,\n",
      "    colCounts, colCummaxs, colCummins, colCumprods, colCumsums,\n",
      "    colDiffs, colIQRDiffs, colIQRs, colLogSumExps, colMadDiffs,\n",
      "    colMads, colMaxs, colMeans2, colMedians, colMins, colOrderStats,\n",
      "    colProds, colQuantiles, colRanges, colRanks, colSdDiffs, colSds,\n",
      "    colSums2, colTabulates, colVarDiffs, colVars, colWeightedMads,\n",
      "    colWeightedMeans, colWeightedMedians, colWeightedSds,\n",
      "    colWeightedVars, rowAlls, rowAnyNAs, rowAnys, rowAvgsPerColSet,\n",
      "    rowCollapse, rowCounts, rowCummaxs, rowCummins, rowCumprods,\n",
      "    rowCumsums, rowDiffs, rowIQRDiffs, rowIQRs, rowLogSumExps,\n",
      "    rowMadDiffs, rowMads, rowMaxs, rowMeans2, rowMedians, rowMins,\n",
      "    rowOrderStats, rowProds, rowQuantiles, rowRanges, rowRanks,\n",
      "    rowSdDiffs, rowSds, rowSums2, rowTabulates, rowVarDiffs, rowVars,\n",
      "    rowWeightedMads, rowWeightedMeans, rowWeightedMedians,\n",
      "    rowWeightedSds, rowWeightedVars\n",
      "\n",
      "\n",
      "Loading required package: GenomicRanges\n",
      "\n",
      "Loading required package: stats4\n",
      "\n",
      "Loading required package: BiocGenerics\n",
      "\n",
      "\n",
      "Attaching package: ‘BiocGenerics’\n",
      "\n",
      "\n",
      "The following objects are masked from ‘package:stats’:\n",
      "\n",
      "    IQR, mad, sd, var, xtabs\n",
      "\n",
      "\n",
      "The following objects are masked from ‘package:base’:\n",
      "\n",
      "    anyDuplicated, aperm, append, as.data.frame, basename, cbind,\n",
      "    colnames, dirname, do.call, duplicated, eval, evalq, Filter, Find,\n",
      "    get, grep, grepl, intersect, is.unsorted, lapply, Map, mapply,\n",
      "    match, mget, order, paste, pmax, pmax.int, pmin, pmin.int,\n",
      "    Position, rank, rbind, Reduce, rownames, sapply, setdiff, sort,\n",
      "    table, tapply, union, unique, unsplit, which.max, which.min\n",
      "\n",
      "\n",
      "Loading required package: S4Vectors\n",
      "\n",
      "\n",
      "Attaching package: ‘S4Vectors’\n",
      "\n",
      "\n",
      "The following objects are masked from ‘package:base’:\n",
      "\n",
      "    expand.grid, I, unname\n",
      "\n",
      "\n",
      "Loading required package: IRanges\n",
      "\n",
      "Loading required package: GenomeInfoDb\n",
      "\n",
      "Loading required package: Biobase\n",
      "\n",
      "Welcome to Bioconductor\n",
      "\n",
      "    Vignettes contain introductory material; view with\n",
      "    'browseVignettes()'. To cite Bioconductor, see\n",
      "    'citation(\"Biobase\")', and for packages 'citation(\"pkgname\")'.\n",
      "\n",
      "\n",
      "\n",
      "Attaching package: ‘Biobase’\n",
      "\n",
      "\n",
      "The following object is masked from ‘package:MatrixGenerics’:\n",
      "\n",
      "    rowMedians\n",
      "\n",
      "\n",
      "The following objects are masked from ‘package:matrixStats’:\n",
      "\n",
      "    anyMissing, rowMedians\n",
      "\n",
      "\n",
      "\n",
      "Attaching package: ‘dplyr’\n",
      "\n",
      "\n",
      "The following object is masked from ‘package:Biobase’:\n",
      "\n",
      "    combine\n",
      "\n",
      "\n",
      "The following objects are masked from ‘package:GenomicRanges’:\n",
      "\n",
      "    intersect, setdiff, union\n",
      "\n",
      "\n",
      "The following object is masked from ‘package:GenomeInfoDb’:\n",
      "\n",
      "    intersect\n",
      "\n",
      "\n",
      "The following objects are masked from ‘package:IRanges’:\n",
      "\n",
      "    collapse, desc, intersect, setdiff, slice, union\n",
      "\n",
      "\n",
      "The following objects are masked from ‘package:S4Vectors’:\n",
      "\n",
      "    first, intersect, rename, setdiff, setequal, union\n",
      "\n",
      "\n",
      "The following objects are masked from ‘package:BiocGenerics’:\n",
      "\n",
      "    combine, intersect, setdiff, union\n",
      "\n",
      "\n",
      "The following object is masked from ‘package:matrixStats’:\n",
      "\n",
      "    count\n",
      "\n",
      "\n",
      "The following objects are masked from ‘package:stats’:\n",
      "\n",
      "    filter, lag\n",
      "\n",
      "\n",
      "The following objects are masked from ‘package:base’:\n",
      "\n",
      "    intersect, setdiff, setequal, union\n",
      "\n",
      "\n",
      "\n",
      "Attaching package: ‘celldex’\n",
      "\n",
      "\n",
      "The following objects are masked from ‘package:SingleR’:\n",
      "\n",
      "    BlueprintEncodeData, DatabaseImmuneCellExpressionData,\n",
      "    HumanPrimaryCellAtlasData, ImmGenData, MonacoImmuneData,\n",
      "    MouseRNAseqData, NovershternHematopoieticData\n",
      "\n",
      "\n",
      "Loading required package: SingleCellExperiment\n",
      "\n",
      "Loading required package: scuttle\n",
      "\n",
      "Attaching SeuratObject\n",
      "\n",
      "Seurat v4 was just loaded with SeuratObject v5; disabling v5 assays and\n",
      "validation routines, and ensuring assays work in strict v3/v4\n",
      "compatibility mode\n",
      "\n",
      "\n",
      "Attaching package: ‘Seurat’\n",
      "\n",
      "\n",
      "The following object is masked from ‘package:SummarizedExperiment’:\n",
      "\n",
      "    Assays\n",
      "\n",
      "\n",
      "Registered S3 method overwritten by 'SeuratDisk':\n",
      "  method            from  \n",
      "  as.sparse.H5Group Seurat\n",
      "\n",
      "Signac built for for SeuratObject v4 was just loaded with SeuratObject\n",
      "v5; disabling v5 assays and validation routines, and ensuring assays\n",
      "work in strict v3/v4 compatibility mode\n",
      "\n"
     ]
    }
   ],
   "source": [
    "library(ggplot2)\n",
    "library(SingleR)\n",
    "library(dplyr)\n",
    "library(celldex)\n",
    "library(RColorBrewer)\n",
    "library(stringr)\n",
    "library(DoubletFinder)\n",
    "\n",
    "source(\"../tools/formating/formating.R\")"
   ]
  },
  {
   "cell_type": "code",
   "execution_count": 2,
   "id": "7df7409e-1ee2-48cc-9ff3-f1d9e062861c",
   "metadata": {},
   "outputs": [],
   "source": [
    "input=\"/ps/ai-ready/data/error/droplet_Bladder_seurat_tiss.h5seurat\"\n",
    "output='/ps/ai-ready/data/Clustering/Tabula_Muris/droplet_Bladder_seurat_tiss.h5Seurat'\n",
    "adata_path = '/ps/ai-ready/data/error/droplet_Bladder_seurat_tiss.h5ad'\n",
    "unique_id='Seurat test'\n",
    "assay='RNA'\n",
    "min_genes=200\n",
    "max_genes=0\n",
    "min_UMI_count=0\n",
    "max_UMI_count=0\n",
    "percent_mt_max=5\n",
    "percent_rb_min=0\n",
    "resolution=0.5\n",
    "dims=1:10\n",
    "doublet_rate=0.075\n",
    "regress_cell_cycle=FALSE"
   ]
  },
  {
   "cell_type": "code",
   "execution_count": 3,
   "id": "ae6a6476-10fe-496d-917d-1f967e0dc4fe",
   "metadata": {},
   "outputs": [
    {
     "name": "stdout",
     "output_type": "stream",
     "text": [
      "[1] \"Inside LoadSeurat\"\n"
     ]
    },
    {
     "name": "stderr",
     "output_type": "stream",
     "text": [
      "Validating h5Seurat file\n",
      "\n",
      "Initializing RNA with data\n",
      "\n",
      "Adding counts for RNA\n",
      "\n",
      "Adding miscellaneous information for RNA\n",
      "\n",
      "Adding command information\n",
      "\n",
      "Adding cell-level metadata\n",
      "\n",
      "Adding miscellaneous information\n",
      "\n",
      "Adding tool-specific results\n",
      "\n"
     ]
    }
   ],
   "source": [
    "srat <- tryCatch(\n",
    "        LoadSeurat(input),\n",
    "        error = function(e) {\n",
    "            # stop(\"The file format is not supported.\")\n",
    "            # print(e)\n",
    "            RedisError(unique_id, paste0(\"The file format is not supported: \", e$message))\n",
    "            stop(paste0(\"The file format is not supported: \", e$message))\n",
    "        }\n",
    "    )"
   ]
  },
  {
   "cell_type": "code",
   "execution_count": 8,
   "id": "526e3252-81d2-43c9-b771-696c1b032251",
   "metadata": {},
   "outputs": [
    {
     "name": "stdout",
     "output_type": "stream",
     "text": [
      "Formal class 'Seurat' [package \"SeuratObject\"] with 13 slots\n",
      "  ..@ assays      :List of 1\n",
      "  .. ..$ RNA:Formal class 'Assay' [package \"SeuratObject\"] with 8 slots\n",
      "  .. .. .. ..@ counts       :Formal class 'dgCMatrix' [package \"Matrix\"] with 6 slots\n",
      "  .. .. .. .. .. ..@ i       : int [1:7620996] 3 10 22 24 27 50 53 54 98 132 ...\n",
      "  .. .. .. .. .. ..@ p       : int [1:2501] 0 2853 7047 10394 14245 18054 21662 26009 27969 30205 ...\n",
      "  .. .. .. .. .. ..@ Dim     : int [1:2] 23341 2500\n",
      "  .. .. .. .. .. ..@ Dimnames:List of 2\n",
      "  .. .. .. .. .. .. ..$ : chr [1:23341] \"Xkr4\" \"Rp1\" \"Sox17\" \"Mrpl15\" ...\n",
      "  .. .. .. .. .. .. ..$ : chr [1:2500] \"10X_P4_3_AAAGTAGAGATGCCAG\" \"10X_P4_3_AACCGCGTCCAACCAA\" \"10X_P4_3_AACTCCCGTCGGGTCT\" \"10X_P4_3_AACTCTTAGTTGCAGG\" ...\n",
      "  .. .. .. .. .. ..@ x       : num [1:7620996] 1 1 1 1 1 21 1 1 1 1 ...\n",
      "  .. .. .. .. .. ..@ factors : list()\n",
      "  .. .. .. ..@ data         :Formal class 'dgCMatrix' [package \"Matrix\"] with 6 slots\n",
      "  .. .. .. .. .. ..@ i       : int [1:7620996] 3 10 22 24 27 50 53 54 98 132 ...\n",
      "  .. .. .. .. .. ..@ p       : int [1:2501] 0 2853 7047 10394 14245 18054 21662 26009 27969 30205 ...\n",
      "  .. .. .. .. .. ..@ Dim     : int [1:2] 23341 2500\n",
      "  .. .. .. .. .. ..@ Dimnames:List of 2\n",
      "  .. .. .. .. .. .. ..$ : chr [1:23341] \"Xkr4\" \"Rp1\" \"Sox17\" \"Mrpl15\" ...\n",
      "  .. .. .. .. .. .. ..$ : chr [1:2500] \"10X_P4_3_AAAGTAGAGATGCCAG\" \"10X_P4_3_AACCGCGTCCAACCAA\" \"10X_P4_3_AACTCCCGTCGGGTCT\" \"10X_P4_3_AACTCTTAGTTGCAGG\" ...\n",
      "  .. .. .. .. .. ..@ x       : num [1:7620996] 1 1 1 1 1 21 1 1 1 1 ...\n",
      "  .. .. .. .. .. ..@ factors : list()\n",
      "  .. .. .. ..@ scale.data   : num[0 , 0 ] \n",
      "  .. .. .. ..@ assay.orig   : NULL\n",
      "  .. .. .. ..@ var.features : logi(0) \n",
      "  .. .. .. ..@ meta.features:'data.frame':\t23341 obs. of  0 variables\n",
      "  .. .. .. ..@ misc         : Named list()\n",
      "  .. .. .. ..@ key          : chr \"rna_\"\n",
      "  ..@ meta.data   :'data.frame':\t2500 obs. of  17 variables:\n",
      "  .. ..$ orig.ident                  : Factor w/ 1 level \"10X\": 1 1 1 1 1 1 1 1 1 1 ...\n",
      "  .. ..$ nCount_RNA                  : num [1:2500] 10291 17520 12944 19594 14594 ...\n",
      "  .. ..$ nFeature_RNA                : int [1:2500] 2853 4194 3347 3851 3809 3608 4347 1960 2236 3374 ...\n",
      "  .. ..$ channel                     : Factor w/ 28 levels \"10X_P4_0\",\"10X_P4_1\",..: 4 4 4 4 4 4 4 4 4 4 ...\n",
      "  .. ..$ tissue                      : Factor w/ 12 levels \"Bladder\",\"Heart_and_Aorta\",..: 1 1 1 1 1 1 1 1 1 1 ...\n",
      "  .. ..$ subtissue                   : Factor w/ 3 levels \"\",\"hepatocytes\",..: 1 1 1 1 1 1 1 1 1 1 ...\n",
      "  .. ..$ mouse.sex                   : Factor w/ 2 levels \"F\",\"M\": 2 2 2 2 2 2 2 2 2 2 ...\n",
      "  .. ..$ mouse.id                    : Factor w/ 7 levels \"3-F-56\",\"3-F-57\",..: 5 5 5 5 5 5 5 5 5 5 ...\n",
      "  .. ..$ percent.ercc                : num [1:2500] 0 0 0 0 0 0 0 0 0 0 ...\n",
      "  .. ..$ percent.ribo                : num [1:2500] 0.22 0.177 0.192 0.356 0.157 ...\n",
      "  .. ..$ free_annotation             : chr [1:2500] \"Bladder mesenchymal cell\" \"Bladder mesenchymal cell\" \"Bladder mesenchymal cell\" \"Luminal bladder epithelial cell\" ...\n",
      "  .. ..$ cell_ontology_class         : chr [1:2500] \"bladder cell\" \"bladder cell\" \"bladder cell\" \"bladder urothelial cell\" ...\n",
      "  .. ..$ res.0.4                     : chr [1:2500] \"0\" \"2\" \"5\" \"3\" ...\n",
      "  .. ..$ previous_free_annotation    : chr [1:2500] \"NA\" \"NA\" \"NA\" \"NA\" ...\n",
      "  .. ..$ previous_cell_ontology_class: chr [1:2500] \"NA\" \"NA\" \"NA\" \"NA\" ...\n",
      "  .. ..$ cluster.ids                 : chr [1:2500] \"0\" \"2\" \"5\" \"3\" ...\n",
      "  .. ..$ cell_ontology_id            : chr [1:2500] \"CL:1001319\" \"CL:1001319\" \"CL:1001319\" \"CL:1001428\" ...\n",
      "  ..@ active.assay: chr \"RNA\"\n",
      "  ..@ active.ident: Factor w/ 1 level \"10X\": 1 1 1 1 1 1 1 1 1 1 ...\n",
      "  .. ..- attr(*, \"names\")= chr [1:2500] \"10X_P4_3_AAAGTAGAGATGCCAG\" \"10X_P4_3_AACCGCGTCCAACCAA\" \"10X_P4_3_AACTCCCGTCGGGTCT\" \"10X_P4_3_AACTCTTAGTTGCAGG\" ...\n",
      "  ..@ graphs      : list()\n",
      "  ..@ neighbors   : list()\n",
      "  ..@ reductions  : list()\n",
      "  ..@ images      : list()\n",
      "  ..@ project.name: chr \"SeuratProject\"\n",
      "  ..@ misc        : Named list()\n",
      "  ..@ version     :Classes 'package_version', 'numeric_version'  hidden list of 1\n",
      "  .. ..$ : int [1:3] 4 1 4\n",
      "  ..@ commands    : list()\n",
      "  ..@ tools       : Named list()\n"
     ]
    }
   ],
   "source": [
    "str(srat)"
   ]
  },
  {
   "cell_type": "code",
   "execution_count": 4,
   "id": "813bcf48-d756-4ed0-a74a-f15cf9b52ed6",
   "metadata": {},
   "outputs": [
    {
     "name": "stdout",
     "output_type": "stream",
     "text": [
      "An object of class Seurat \n",
      "23341 features across 2500 samples within 1 assay \n",
      "Active assay: RNA (23341 features, 0 variable features)\n",
      " 2 layers present: counts, data\n"
     ]
    }
   ],
   "source": [
    "info <- print(srat)\n",
    "# RedisInfo(unique_id, info)"
   ]
  },
  {
   "cell_type": "code",
   "execution_count": 6,
   "id": "263b9d99-5f69-490e-8819-500c64cbeca8",
   "metadata": {},
   "outputs": [
    {
     "data": {
      "text/html": [
       "2"
      ],
      "text/latex": [
       "2"
      ],
      "text/markdown": [
       "2"
      ],
      "text/plain": [
       "[1] 2"
      ]
     },
     "metadata": {},
     "output_type": "display_data"
    }
   ],
   "source": [
    "assay_names <- names(srat@assays)\n",
    "        \n",
    "if(length(assay_names)==1){\n",
    "    assay <- DefaultAssay(srat) # If there is only one assay, then no matter if assay is provided, set assay to default assay\n",
    "} else if (assay %in% assay_names){\n",
    "    DefaultAssay(srat) <- assay # If there is more than one assay, and the user provides assay, then set default assay to assay\n",
    "} \n",
    "default_assay <- DefaultAssay(srat)\n",
    "RedisInfo(unique_id, paste0(\"Setting default_assay to \", default_assay))\n",
    "\n",
    "if(IsNormalized(srat[[default_assay]]@counts, min_genes=min_genes)){\n",
    "    RedisError(unique_id, \"Seurat QC only takes raw counts, not normalized data.\")\n",
    "    stop(\"Seurat QC only takes raw counts, not normalized data.\")\n",
    "}"
   ]
  },
  {
   "cell_type": "code",
   "execution_count": null,
   "id": "b6a76092-d4d7-402a-9611-b305aad4cf1f",
   "metadata": {},
   "outputs": [],
   "source": []
  },
  {
   "cell_type": "code",
   "execution_count": null,
   "id": "72783e0b-88d0-48b9-9a27-4a941ab8db01",
   "metadata": {},
   "outputs": [],
   "source": []
  },
  {
   "cell_type": "code",
   "execution_count": null,
   "id": "742a8d82-3e0b-4f5e-aacf-0dde5a5b3839",
   "metadata": {},
   "outputs": [],
   "source": []
  },
  {
   "cell_type": "code",
   "execution_count": null,
   "id": "31275cab-00df-4938-b25e-de2d58c5b992",
   "metadata": {},
   "outputs": [],
   "source": [
    "local({\n",
    "   load(\"/ps/ai-ready/data/Clustering/Tabula_Muris/droplet_Bladder_seurat_tiss.Robj\")\n",
    "   ls()\n",
    "})"
   ]
  },
  {
   "cell_type": "code",
   "execution_count": null,
   "id": "5b3f2b08-2063-44dd-843c-4a1cc58b733a",
   "metadata": {},
   "outputs": [],
   "source": [
    "name <- load(\"/ps/ai-ready/data/Clustering/Tabula_Muris/droplet_Bladder_seurat_tiss.Robj\")"
   ]
  },
  {
   "cell_type": "code",
   "execution_count": null,
   "id": "2abb9136-fcb2-47a8-ab15-fcfa5b6ae013",
   "metadata": {},
   "outputs": [],
   "source": [
    "get(name)"
   ]
  },
  {
   "cell_type": "code",
   "execution_count": null,
   "id": "79f5d5f9-ce73-4dd4-824b-2dcdb29b1427",
   "metadata": {},
   "outputs": [],
   "source": [
    "tiss"
   ]
  },
  {
   "cell_type": "code",
   "execution_count": null,
   "id": "9656928d-ed16-4f1a-9f28-940665a5d9e3",
   "metadata": {},
   "outputs": [],
   "source": [
    "typeof(tiss)"
   ]
  },
  {
   "cell_type": "code",
   "execution_count": null,
   "id": "8fa1d997-a3ab-48db-8f8b-01d7b4f638e5",
   "metadata": {},
   "outputs": [],
   "source": [
    "tiss_new <- UpdateSeuratObject(tiss)\n",
    "tiss_new"
   ]
  },
  {
   "cell_type": "code",
   "execution_count": null,
   "id": "6abdc79e-61b8-464d-b86b-c7a6327076c6",
   "metadata": {},
   "outputs": [],
   "source": [
    "tiss_new"
   ]
  },
  {
   "cell_type": "code",
   "execution_count": null,
   "id": "6fd738a1-86be-49d6-b528-d1144588c1c3",
   "metadata": {},
   "outputs": [],
   "source": [
    "tiss_new[['RNA']]@counts"
   ]
  },
  {
   "cell_type": "code",
   "execution_count": null,
   "id": "68ea85f6-3102-48a9-8b98-feb37217e74b",
   "metadata": {},
   "outputs": [],
   "source": [
    "tiss_new@meta.data"
   ]
  },
  {
   "cell_type": "code",
   "execution_count": null,
   "id": "a8ed4f85-6a8e-406b-8455-cb9b3f8115ef",
   "metadata": {},
   "outputs": [],
   "source": [
    "tiss_new@var.features"
   ]
  },
  {
   "cell_type": "code",
   "execution_count": null,
   "id": "90e46f1f-4303-421c-9065-262051130204",
   "metadata": {},
   "outputs": [],
   "source": [
    "srat <- load(\"/ps/ai-ready/data/Clustering/Tabula_Muris/droplet_Bladder_seurat_tiss.Robj\")\n",
    "srat"
   ]
  },
  {
   "cell_type": "code",
   "execution_count": null,
   "id": "913e793e-281d-48c2-9ba7-ca09563dd971",
   "metadata": {},
   "outputs": [],
   "source": [
    "dim(srat)"
   ]
  },
  {
   "cell_type": "code",
   "execution_count": null,
   "id": "c9256578",
   "metadata": {},
   "outputs": [],
   "source": [
    "inupt_path <- \"/ps/ai-ready/data/tung/tung.h5Seurat\""
   ]
  },
  {
   "cell_type": "code",
   "execution_count": null,
   "id": "266ca44f",
   "metadata": {},
   "outputs": [],
   "source": [
    "srat <- LoadSeurat(inupt_path)\n",
    "srat"
   ]
  },
  {
   "cell_type": "code",
   "execution_count": null,
   "id": "f356bfdd",
   "metadata": {},
   "outputs": [],
   "source": [
    "names(srat@assays)"
   ]
  },
  {
   "cell_type": "code",
   "execution_count": null,
   "id": "950cab6b",
   "metadata": {},
   "outputs": [],
   "source": [
    "'RNA' %in% names(srat@assays)"
   ]
  },
  {
   "cell_type": "code",
   "execution_count": null,
   "id": "4a158783",
   "metadata": {},
   "outputs": [],
   "source": [
    "DefaultAssay(srat)<-'SCT'"
   ]
  },
  {
   "cell_type": "code",
   "execution_count": null,
   "id": "ec0288e8",
   "metadata": {},
   "outputs": [],
   "source": [
    "names(srat@assays)"
   ]
  },
  {
   "cell_type": "code",
   "execution_count": null,
   "id": "c2e6894a",
   "metadata": {},
   "outputs": [],
   "source": [
    "DefaultAssay(srat)"
   ]
  },
  {
   "cell_type": "code",
   "execution_count": null,
   "id": "1524c2e9",
   "metadata": {},
   "outputs": [],
   "source": [
    "get_assays_from_seurat <- function(seurat_object) {\n",
    "    assays_names <- 'RNA'\n",
    "\n",
    "    if (DefaultAssay(seurat_object) != 'RNA') {\n",
    "        assays_names <- names(srat@assays)\n",
    "    }\n",
    "    assays_names\n",
    "}"
   ]
  },
  {
   "cell_type": "code",
   "execution_count": null,
   "id": "e0f7df0e",
   "metadata": {},
   "outputs": [],
   "source": [
    "assays_names <- get_assays_from_seurat(srat)\n",
    "assays_names"
   ]
  },
  {
   "cell_type": "code",
   "execution_count": null,
   "id": "c3bb82c5",
   "metadata": {},
   "outputs": [],
   "source": [
    "SaveH5Seurat(srat, filename = \"/ps/ai-ready/data/tung/tung1.h5Seurat\", overwrite = TRUE, verbose = FALSE)"
   ]
  },
  {
   "cell_type": "code",
   "execution_count": null,
   "id": "c4ad610e",
   "metadata": {},
   "outputs": [],
   "source": [
    "seu = DietSeurat(\n",
    "  srat,\n",
    "  counts = TRUE, # so, raw counts save to adata.layers['counts']\n",
    "  data = TRUE, # so, log1p counts save to adata.X when scale.data = False, else adata.layers['data']\n",
    "  scale.data = FALSE, # if only scaled highly variable gene, the export to h5ad would fail. set to false\n",
    "  features = rownames(srat), # export all genes, not just top highly variable genes\n",
    "  assays = \"RNA\",\n",
    "  dimreducs = c(\"pca\",\"umap\"),\n",
    "  graphs = c(\"RNA_nn\", \"RNA_snn\"), # to RNA_nn -> distances, RNA_snn -> connectivities\n",
    "  misc = TRUE\n",
    ")"
   ]
  },
  {
   "cell_type": "code",
   "execution_count": null,
   "id": "16c9e661",
   "metadata": {},
   "outputs": [],
   "source": [
    "seu[['RNA']]@counts"
   ]
  },
  {
   "cell_type": "code",
   "execution_count": null,
   "id": "970ce0bf",
   "metadata": {},
   "outputs": [],
   "source": [
    "seu[['RNA']]"
   ]
  },
  {
   "cell_type": "code",
   "execution_count": null,
   "id": "2ec1888e",
   "metadata": {},
   "outputs": [],
   "source": [
    "path <- MuDataSeurat::WriteH5AD(seu, \"/ps/ai-ready/data/tung/seu.h5ad\", assay=\"RNA\")\n",
    "path"
   ]
  },
  {
   "cell_type": "code",
   "execution_count": null,
   "id": "23a5855a",
   "metadata": {},
   "outputs": [],
   "source": [
    "DefaultAssay(srat)<-'SCT'\n",
    "\n",
    "seu_sct = DietSeurat(\n",
    "  srat,\n",
    "  counts = TRUE, # so, raw counts save to adata.layers['counts']\n",
    "  data = TRUE, # so, log1p counts save to adata.X when scale.data = False, else adata.layers['data']\n",
    "  scale.data = FALSE, # if only scaled highly variable gene, the export to h5ad would fail. set to false\n",
    "  features = rownames(srat), # export all genes, not just top highly variable genes\n",
    "  assays = \"SCT\",\n",
    "  dimreducs = c(\"pca\",\"umap\"),\n",
    "  graphs = c(\"RNA_nn\", \"RNA_snn\"), # to RNA_nn -> distances, RNA_snn -> connectivities\n",
    "  misc = TRUE\n",
    ")\n",
    "seu_sct"
   ]
  },
  {
   "cell_type": "code",
   "execution_count": null,
   "id": "e75ed879",
   "metadata": {},
   "outputs": [],
   "source": [
    "seu_sct[['SCT']]@counts"
   ]
  },
  {
   "cell_type": "code",
   "execution_count": null,
   "id": "9dd9cd15",
   "metadata": {},
   "outputs": [],
   "source": [
    "DefaultAssay(seu_sct)<-'RNA'"
   ]
  },
  {
   "cell_type": "code",
   "execution_count": null,
   "id": "2e652918",
   "metadata": {},
   "outputs": [],
   "source": [
    "path <- \"/ps/ai-ready/data/tung/umi.h5Seurat\"\n",
    "seurat_object <- LoadH5Seurat(path)\n",
    "seurat_object"
   ]
  },
  {
   "cell_type": "code",
   "execution_count": null,
   "id": "f86bdb12",
   "metadata": {},
   "outputs": [],
   "source": [
    "DefaultAssay(seurat_object)"
   ]
  },
  {
   "cell_type": "code",
   "execution_count": null,
   "id": "94d02d41",
   "metadata": {},
   "outputs": [],
   "source": [
    "path <- \"/ps/ai-ready/data/tung/umi.h5Seurat\"\n",
    "results <- convert_seurat_to_anndata(path, assay = 'RNA')"
   ]
  },
  {
   "cell_type": "code",
   "execution_count": null,
   "id": "c74c9396",
   "metadata": {},
   "outputs": [],
   "source": []
  },
  {
   "cell_type": "code",
   "execution_count": null,
   "id": "34adc6df",
   "metadata": {},
   "outputs": [],
   "source": [
    "# inupt_path <- \"/ps/ai-ready/data/filtered_gene_bc_matrices/hg19/\"\n",
    "# inupt_path <- \"/ps/ai-ready/data/kbcfh/Anndata/hca_heart_neuronal_raw.h5ad\"\n",
    "# path_of_scrublet_calls<-\"/ps/ai-ready/data/filtered_gene_bc_matrices/hg19/scrublet_calls.tsv\"\n",
    "inupt_path = \"/ps/ai-ready/data/error/droplet_Bladder_seurat_tiss.h5seurat\""
   ]
  },
  {
   "cell_type": "code",
   "execution_count": null,
   "id": "ec2f4cd6",
   "metadata": {},
   "outputs": [],
   "source": [
    "srat <- LoadSeurat(inupt_path)\n",
    "srat"
   ]
  },
  {
   "cell_type": "code",
   "execution_count": null,
   "id": "93040a95",
   "metadata": {},
   "outputs": [],
   "source": [
    "default_assay <- \"RNA\""
   ]
  },
  {
   "cell_type": "code",
   "execution_count": null,
   "id": "fe8733ff",
   "metadata": {},
   "outputs": [],
   "source": [
    "if(!default_assay %in% names(x = srat)) stop(paste(default_assay, \"does not exist.\"))\n",
    "DefaultAssay(object = srat) <-default_assay"
   ]
  },
  {
   "cell_type": "code",
   "execution_count": null,
   "id": "670bf229",
   "metadata": {},
   "outputs": [],
   "source": [
    "head(srat[[]])"
   ]
  },
  {
   "cell_type": "code",
   "execution_count": null,
   "id": "348c9412",
   "metadata": {},
   "outputs": [],
   "source": [
    "srat[[default_assay]]@counts"
   ]
  },
  {
   "cell_type": "code",
   "execution_count": null,
   "id": "0fcbb46d",
   "metadata": {},
   "outputs": [],
   "source": [
    "if(!paste0(\"nCount_\", default_assay) %in% names(x = srat[[]])) srat[[paste0(\"nCount_\", default_assay)]] <- colSums(x = srat[[default_assay]], slot = \"counts\")  # nCount of the default assay\n",
    "if(!paste0(\"nFeature_\", default_assay) %in% names(x = srat[[]])) srat[[paste0(\"nFeature_\", default_assay)]] <- colSums(x = GetAssayData(object = srat[[default_assay]], slot = \"counts\") > 0)  # nFeature of the default assay"
   ]
  },
  {
   "cell_type": "code",
   "execution_count": null,
   "id": "73e02345",
   "metadata": {},
   "outputs": [],
   "source": [
    "meta <- srat@meta.data\n",
    "dim(meta)\n",
    "head(meta)\n",
    "\n",
    "summary(meta[paste0(\"nCount_\", default_assay)])\n",
    "summary(meta[paste0(\"nFeature_\", default_assay)])"
   ]
  },
  {
   "cell_type": "code",
   "execution_count": null,
   "id": "86bf3cdf",
   "metadata": {},
   "outputs": [],
   "source": [
    "srat[[\"percent.mt\"]] <- PercentageFeatureSet(srat, pattern = \"^MT-\") # Michochondrial genes\n",
    "srat[[\"percent.rb\"]] <- PercentageFeatureSet(srat, pattern = \"^RP[SL]\") # Ribosomal proteins (their names begin with RPS or RPL"
   ]
  },
  {
   "cell_type": "code",
   "execution_count": null,
   "id": "a552832a-bda9-4a35-87cb-a0821e676a66",
   "metadata": {},
   "outputs": [],
   "source": [
    "if(! \"percent.hb\" %in% names(x = srat[[]])) srat[[\"percent.hb\"]] <- PercentageFeatureSet(srat, pattern = \"^HB[^(P)]\")\n",
    "if(! \"percent.plat\" %in% names(x = srat[[]])) srat[[\"percent.plat\"]] <- PercentageFeatureSet(srat, pattern = \"PECAM1|PF4\")"
   ]
  },
  {
   "cell_type": "code",
   "execution_count": null,
   "id": "32256ec1-8443-4976-a31a-4f32df36a124",
   "metadata": {},
   "outputs": [],
   "source": []
  },
  {
   "cell_type": "code",
   "execution_count": null,
   "id": "707de936",
   "metadata": {},
   "outputs": [],
   "source": [
    "# add the doublet annotation\n",
    "doublets <- read.table(path_of_scrublet_calls, header = F, row.names = 1)\n",
    "colnames(doublets) <- c(\"Doublet_score\", \"Is_doublet\")\n",
    "srat <- AddMetaData(srat, doublets)\n",
    "head(srat[[]])"
   ]
  },
  {
   "cell_type": "code",
   "execution_count": null,
   "id": "ce99c877",
   "metadata": {},
   "outputs": [],
   "source": [
    "names(srat[[]])"
   ]
  },
  {
   "cell_type": "code",
   "execution_count": null,
   "id": "c22f9a99",
   "metadata": {},
   "outputs": [],
   "source": [
    "srat[[]][\"scrublet_score\"]"
   ]
  },
  {
   "cell_type": "code",
   "execution_count": null,
   "id": "7a8d55f4",
   "metadata": {},
   "outputs": [],
   "source": [
    "doublets"
   ]
  },
  {
   "cell_type": "code",
   "execution_count": null,
   "id": "16a1b895",
   "metadata": {},
   "outputs": [],
   "source": [
    "VlnPlot(srat, features = c(paste0(\"nFeature_\", default_assay), paste0(\"nCount_\", default_assay),\"percent.mt\",\"percent.rb\"),ncol = 4,pt.size = 0.1) & \n",
    "  theme(plot.title = element_text(size=10))"
   ]
  },
  {
   "cell_type": "code",
   "execution_count": null,
   "id": "a003041b",
   "metadata": {},
   "outputs": [],
   "source": [
    "FeatureScatter(srat, feature1 = paste0(\"nCount_\", default_assay), feature2 = \"percent.mt\")\n",
    "FeatureScatter(srat, feature1 = paste0(\"nCount_\", default_assay), feature2 = paste0(\"nFeature_\", default_assay))\n",
    "FeatureScatter(srat, feature1 = paste0(\"nCount_\", default_assay), feature2 = \"percent.rb\")\n",
    "FeatureScatter(srat, feature1 = \"percent.rb\", feature2 = \"percent.mt\")\n",
    "# FeatureScatter(srat, feature1 = paste0(\"nFeature_\", default_assay), feature2 = \"Doublet_score\")\n",
    "FeatureScatter(srat, feature1 = paste0(\"nFeature_\", default_assay), feature2 = \"scrublet_score\")"
   ]
  },
  {
   "cell_type": "code",
   "execution_count": null,
   "id": "345d6279",
   "metadata": {},
   "outputs": [],
   "source": [
    "srat[['QC']] <- ifelse(srat@meta.data$Is_doublet == 'True','Doublet','Pass')\n",
    "srat[['QC']] <- ifelse(srat@meta.data[paste0(\"nFeature_\", default_assay)] < 500 & srat@meta.data$QC == 'Pass','Low_nFeature',srat@meta.data$QC)\n",
    "srat[['QC']] <- ifelse(srat@meta.data[paste0(\"nFeature_\", default_assay)] < 500 & srat@meta.data$QC != 'Pass' & srat@meta.data$QC != 'Low_nFeature',paste('Low_nFeature',srat@meta.data$QC,sep = ','),srat@meta.data$QC)\n",
    "srat[['QC']] <- ifelse(srat@meta.data$percent.mt > 15 & srat@meta.data$QC == 'Pass','High_MT',srat@meta.data$QC)\n",
    "srat[['QC']] <- ifelse(srat@meta.data[paste0(\"nFeature_\", default_assay)] < 500 & srat@meta.data$QC != 'Pass' & srat@meta.data$QC != 'High_MT',paste('High_MT',srat@meta.data$QC,sep = ','),srat@meta.data$QC)\n",
    "table(srat[['QC']])"
   ]
  },
  {
   "cell_type": "code",
   "execution_count": null,
   "id": "3e928a64",
   "metadata": {},
   "outputs": [],
   "source": [
    "srat[[]]"
   ]
  },
  {
   "cell_type": "code",
   "execution_count": null,
   "id": "ca1768c1",
   "metadata": {},
   "outputs": [],
   "source": [
    "VlnPlot(srat, features = c(\"nFeature_RNA\",\"nCount_RNA\",\"percent.mt\",\"percent.rb\"),ncol = 4,pt.size = 0.1) & \n",
    "  theme(plot.title = element_text(size=10))"
   ]
  },
  {
   "cell_type": "code",
   "execution_count": null,
   "id": "e7bc4c74",
   "metadata": {},
   "outputs": [],
   "source": [
    "FeatureScatter(srat, feature1 = \"nCount_RNA\", feature2 = \"percent.mt\")\n",
    "FeatureScatter(srat, feature1 = \"nCount_RNA\", feature2 = \"nFeature_RNA\")\n",
    "FeatureScatter(srat, feature1 = \"nCount_RNA\", feature2 = \"percent.rb\")\n",
    "FeatureScatter(srat, feature1 = \"percent.rb\", feature2 = \"percent.mt\")\n",
    "FeatureScatter(srat, feature1 = \"nFeature_RNA\", feature2 = \"Doublet_score\")"
   ]
  },
  {
   "cell_type": "code",
   "execution_count": null,
   "id": "a98eb60f",
   "metadata": {},
   "outputs": [],
   "source": [
    "srat[['QC']] <- ifelse(srat@meta.data$Is_doublet == 'True','Doublet','Pass')\n",
    "srat[['QC']] <- ifelse(srat@meta.data$nFeature_RNA < 500 & srat@meta.data$QC == 'Pass','Low_nFeature',srat@meta.data$QC)\n",
    "srat[['QC']] <- ifelse(srat@meta.data$nFeature_RNA < 500 & srat@meta.data$QC != 'Pass' & srat@meta.data$QC != 'Low_nFeature',paste('Low_nFeature',srat@meta.data$QC,sep = ','),srat@meta.data$QC)\n",
    "srat[['QC']] <- ifelse(srat@meta.data$percent.mt > 15 & srat@meta.data$QC == 'Pass','High_MT',srat@meta.data$QC)\n",
    "srat[['QC']] <- ifelse(srat@meta.data$nFeature_RNA < 500 & srat@meta.data$QC != 'Pass' & srat@meta.data$QC != 'High_MT',paste('High_MT',srat@meta.data$QC,sep = ','),srat@meta.data$QC)\n",
    "table(srat[['QC']])"
   ]
  },
  {
   "cell_type": "code",
   "execution_count": null,
   "id": "21f234a7",
   "metadata": {},
   "outputs": [],
   "source": [
    "srat[['QC']]"
   ]
  },
  {
   "cell_type": "code",
   "execution_count": null,
   "id": "b30c6d58",
   "metadata": {},
   "outputs": [],
   "source": [
    "VlnPlot(subset(srat, subset = QC == 'Pass'), \n",
    "        features = c(\"nFeature_RNA\", \"nCount_RNA\", \"percent.mt\",\"percent.rb\"), ncol = 4, pt.size = 0.1) & \n",
    "  theme(plot.title = element_text(size=10))"
   ]
  },
  {
   "cell_type": "code",
   "execution_count": null,
   "id": "fdafb96d",
   "metadata": {},
   "outputs": [],
   "source": []
  }
 ],
 "metadata": {
  "kernelspec": {
   "display_name": "R",
   "language": "R",
   "name": "ir"
  },
  "language_info": {
   "codemirror_mode": "r",
   "file_extension": ".r",
   "mimetype": "text/x-r-source",
   "name": "R",
   "pygments_lexer": "r",
   "version": "4.2.1"
  }
 },
 "nbformat": 4,
 "nbformat_minor": 5
}
