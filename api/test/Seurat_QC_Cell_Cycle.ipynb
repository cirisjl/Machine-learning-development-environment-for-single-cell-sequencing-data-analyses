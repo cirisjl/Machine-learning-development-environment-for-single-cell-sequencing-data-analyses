{
 "cells": [
  {
   "cell_type": "code",
   "execution_count": null,
   "id": "4b523d6a-aec6-47a9-a20a-b8b025cb1f7b",
   "metadata": {},
   "outputs": [],
   "source": [
    "library(ggplot2)\n",
    "library(SingleR)\n",
    "library(dplyr)\n",
    "library(celldex)\n",
    "library(RColorBrewer)\n",
    "source(\"../tools/formating/formating.R\")"
   ]
  },
  {
   "cell_type": "code",
   "execution_count": null,
   "id": "4df4de01-3b25-49ca-9296-84ba4e06bd3e",
   "metadata": {},
   "outputs": [],
   "source": [
    "source(\"../tools/qc/seurat_qc.R\")\n",
    "path=\"/ps/ai-ready/data/Clustering/Tabula_Muris/droplet_Bladder_seurat_tiss.Robj\"\n",
    "results <- LoadSeuratMetaData(path)\n",
    "results$srat"
   ]
  },
  {
   "cell_type": "code",
   "execution_count": null,
   "id": "1c9aa399-01fe-4a39-b44c-d6c0366e9c62",
   "metadata": {},
   "outputs": [],
   "source": [
    "qc_results <- RunSeuratQC(results$srat, '/ps/ai-ready/data/Clustering/Tabula_Muris/droplet_Bladder_seurat_tiss.h5Seurat')\n",
    "qc_results"
   ]
  },
  {
   "cell_type": "code",
   "execution_count": null,
   "id": "c520e237-1c70-4361-bd3c-19275f6e5e89",
   "metadata": {},
   "outputs": [],
   "source": [
    "# library(\"here\")\n",
    "here()"
   ]
  },
  {
   "cell_type": "code",
   "execution_count": null,
   "id": "f9a961d3-7756-4892-a9a0-5d3b2c618010",
   "metadata": {},
   "outputs": [],
   "source": [
    "getwd()"
   ]
  },
  {
   "cell_type": "code",
   "execution_count": null,
   "id": "1f422608-5c1e-4978-9d38-96bf8b7dbebc",
   "metadata": {},
   "outputs": [],
   "source": [
    "packageVersion(\"Seurat\")"
   ]
  },
  {
   "cell_type": "code",
   "execution_count": null,
   "id": "d08495c9-de2a-4075-85a1-cfcc4271a8bf",
   "metadata": {},
   "outputs": [],
   "source": [
    "current_path <- getwd()\n",
    "print(current_path)"
   ]
  },
  {
   "cell_type": "code",
   "execution_count": null,
   "id": "ccad8dd4-9948-4dc7-9b6d-7a7cb181be1b",
   "metadata": {},
   "outputs": [],
   "source": [
    "here::here('api/tools/qc/scrublet_calls.tsv')"
   ]
  },
  {
   "cell_type": "code",
   "execution_count": 1,
   "id": "1267879f-38ad-4756-8a7f-b9931ca19a3d",
   "metadata": {},
   "outputs": [
    {
     "name": "stderr",
     "output_type": "stream",
     "text": [
      "Loading required package: SummarizedExperiment\n",
      "\n",
      "Loading required package: MatrixGenerics\n",
      "\n",
      "Loading required package: matrixStats\n",
      "\n",
      "\n",
      "Attaching package: ‘MatrixGenerics’\n",
      "\n",
      "\n",
      "The following objects are masked from ‘package:matrixStats’:\n",
      "\n",
      "    colAlls, colAnyNAs, colAnys, colAvgsPerRowSet, colCollapse,\n",
      "    colCounts, colCummaxs, colCummins, colCumprods, colCumsums,\n",
      "    colDiffs, colIQRDiffs, colIQRs, colLogSumExps, colMadDiffs,\n",
      "    colMads, colMaxs, colMeans2, colMedians, colMins, colOrderStats,\n",
      "    colProds, colQuantiles, colRanges, colRanks, colSdDiffs, colSds,\n",
      "    colSums2, colTabulates, colVarDiffs, colVars, colWeightedMads,\n",
      "    colWeightedMeans, colWeightedMedians, colWeightedSds,\n",
      "    colWeightedVars, rowAlls, rowAnyNAs, rowAnys, rowAvgsPerColSet,\n",
      "    rowCollapse, rowCounts, rowCummaxs, rowCummins, rowCumprods,\n",
      "    rowCumsums, rowDiffs, rowIQRDiffs, rowIQRs, rowLogSumExps,\n",
      "    rowMadDiffs, rowMads, rowMaxs, rowMeans2, rowMedians, rowMins,\n",
      "    rowOrderStats, rowProds, rowQuantiles, rowRanges, rowRanks,\n",
      "    rowSdDiffs, rowSds, rowSums2, rowTabulates, rowVarDiffs, rowVars,\n",
      "    rowWeightedMads, rowWeightedMeans, rowWeightedMedians,\n",
      "    rowWeightedSds, rowWeightedVars\n",
      "\n",
      "\n",
      "Loading required package: GenomicRanges\n",
      "\n",
      "Loading required package: stats4\n",
      "\n",
      "Loading required package: BiocGenerics\n",
      "\n",
      "\n",
      "Attaching package: ‘BiocGenerics’\n",
      "\n",
      "\n",
      "The following objects are masked from ‘package:stats’:\n",
      "\n",
      "    IQR, mad, sd, var, xtabs\n",
      "\n",
      "\n",
      "The following objects are masked from ‘package:base’:\n",
      "\n",
      "    anyDuplicated, aperm, append, as.data.frame, basename, cbind,\n",
      "    colnames, dirname, do.call, duplicated, eval, evalq, Filter, Find,\n",
      "    get, grep, grepl, intersect, is.unsorted, lapply, Map, mapply,\n",
      "    match, mget, order, paste, pmax, pmax.int, pmin, pmin.int,\n",
      "    Position, rank, rbind, Reduce, rownames, sapply, setdiff, sort,\n",
      "    table, tapply, union, unique, unsplit, which.max, which.min\n",
      "\n",
      "\n",
      "Loading required package: S4Vectors\n",
      "\n",
      "\n",
      "Attaching package: ‘S4Vectors’\n",
      "\n",
      "\n",
      "The following objects are masked from ‘package:base’:\n",
      "\n",
      "    expand.grid, I, unname\n",
      "\n",
      "\n",
      "Loading required package: IRanges\n",
      "\n",
      "Loading required package: GenomeInfoDb\n",
      "\n",
      "Loading required package: Biobase\n",
      "\n",
      "Welcome to Bioconductor\n",
      "\n",
      "    Vignettes contain introductory material; view with\n",
      "    'browseVignettes()'. To cite Bioconductor, see\n",
      "    'citation(\"Biobase\")', and for packages 'citation(\"pkgname\")'.\n",
      "\n",
      "\n",
      "\n",
      "Attaching package: ‘Biobase’\n",
      "\n",
      "\n",
      "The following object is masked from ‘package:MatrixGenerics’:\n",
      "\n",
      "    rowMedians\n",
      "\n",
      "\n",
      "The following objects are masked from ‘package:matrixStats’:\n",
      "\n",
      "    anyMissing, rowMedians\n",
      "\n",
      "\n",
      "\n",
      "Attaching package: ‘dplyr’\n",
      "\n",
      "\n",
      "The following object is masked from ‘package:Biobase’:\n",
      "\n",
      "    combine\n",
      "\n",
      "\n",
      "The following objects are masked from ‘package:GenomicRanges’:\n",
      "\n",
      "    intersect, setdiff, union\n",
      "\n",
      "\n",
      "The following object is masked from ‘package:GenomeInfoDb’:\n",
      "\n",
      "    intersect\n",
      "\n",
      "\n",
      "The following objects are masked from ‘package:IRanges’:\n",
      "\n",
      "    collapse, desc, intersect, setdiff, slice, union\n",
      "\n",
      "\n",
      "The following objects are masked from ‘package:S4Vectors’:\n",
      "\n",
      "    first, intersect, rename, setdiff, setequal, union\n",
      "\n",
      "\n",
      "The following objects are masked from ‘package:BiocGenerics’:\n",
      "\n",
      "    combine, intersect, setdiff, union\n",
      "\n",
      "\n",
      "The following object is masked from ‘package:matrixStats’:\n",
      "\n",
      "    count\n",
      "\n",
      "\n",
      "The following objects are masked from ‘package:stats’:\n",
      "\n",
      "    filter, lag\n",
      "\n",
      "\n",
      "The following objects are masked from ‘package:base’:\n",
      "\n",
      "    intersect, setdiff, setequal, union\n",
      "\n",
      "\n",
      "\n",
      "Attaching package: ‘celldex’\n",
      "\n",
      "\n",
      "The following objects are masked from ‘package:SingleR’:\n",
      "\n",
      "    BlueprintEncodeData, DatabaseImmuneCellExpressionData,\n",
      "    HumanPrimaryCellAtlasData, ImmGenData, MonacoImmuneData,\n",
      "    MouseRNAseqData, NovershternHematopoieticData\n",
      "\n",
      "\n",
      "here() starts at /ps/Machine-learning-development-environment-for-single-cell-sequencing-data-analyses\n",
      "\n",
      "Loading required package: SingleCellExperiment\n",
      "\n",
      "Loading required package: scuttle\n",
      "\n",
      "Attaching SeuratObject\n",
      "\n",
      "Seurat v4 was just loaded with SeuratObject v5; disabling v5 assays and\n",
      "validation routines, and ensuring assays work in strict v3/v4\n",
      "compatibility mode\n",
      "\n",
      "\n",
      "Attaching package: ‘Seurat’\n",
      "\n",
      "\n",
      "The following object is masked from ‘package:SummarizedExperiment’:\n",
      "\n",
      "    Assays\n",
      "\n",
      "\n",
      "Registered S3 method overwritten by 'SeuratDisk':\n",
      "  method            from  \n",
      "  as.sparse.H5Group Seurat\n",
      "\n",
      "Signac built for for SeuratObject v4 was just loaded with SeuratObject\n",
      "v5; disabling v5 assays and validation routines, and ensuring assays\n",
      "work in strict v3/v4 compatibility mode\n",
      "\n"
     ]
    },
    {
     "name": "stdout",
     "output_type": "stream",
     "text": [
      "[1] \"Inside LoadSeurat\"\n"
     ]
    },
    {
     "name": "stderr",
     "output_type": "stream",
     "text": [
      "Validating h5Seurat file\n",
      "\n",
      "Initializing ERCC with data\n",
      "\n",
      "Adding counts for ERCC\n",
      "\n",
      "Adding miscellaneous information for ERCC\n",
      "\n",
      "Initializing originalexp with data\n",
      "\n",
      "Adding counts for originalexp\n",
      "\n",
      "Adding feature-level metadata for originalexp\n",
      "\n",
      "Adding miscellaneous information for originalexp\n",
      "\n",
      "Adding command information\n",
      "\n",
      "Adding cell-level metadata\n",
      "\n",
      "Adding miscellaneous information\n",
      "\n",
      "Adding tool-specific results\n",
      "\n"
     ]
    },
    {
     "name": "stdout",
     "output_type": "stream",
     "text": [
      "[1] \"originalexp\"\n"
     ]
    },
    {
     "name": "stderr",
     "output_type": "stream",
     "text": [
      "Centering and scaling data matrix\n",
      "\n",
      "PC_ 1 \n",
      "Positive:  ENSG00000132507, ENSG00000167526, ENSG00000126457, ENSG00000140988, ENSG00000167996, ENSG00000099901, ENSG00000240972, ENSG00000108518, ENSG00000145425, ENSG00000099817 \n",
      "\t   ENSG00000101182, ENSG00000163682, ENSG00000115268, ENSG00000108953, ENSG00000125835, ENSG00000181061, ENSG00000105669, ENSG00000198830, ENSG00000162244, ENSG00000178741 \n",
      "\t   ENSG00000144713, ENSG00000126432, ENSG00000103363, ENSG00000174748, ENSG00000120437, ENSG00000166441, ENSG00000177600, ENSG00000169567, ENSG00000211450, ENSG00000197728 \n",
      "Negative:  ENSG00000147601, ENSG00000088305, ENSG00000106153, ENSG00000241186, ENSG00000143494, ENSG00000139364, ENSG00000143375, ENSG00000066279, ENSG00000117724, ENSG00000138035 \n",
      "\t   ENSG00000185630, ENSG00000152061, ENSG00000108821, ENSG00000132688, ENSG00000166105, ENSG00000011201, ENSG00000203668, ENSG00000154556, ENSG00000185088, ENSG00000123560 \n",
      "\t   ENSG00000022556, ENSG00000092964, ENSG00000136110, ENSG00000076716, ENSG00000173726, ENSG00000169764, ENSG00000158769, ENSG00000134369, ENSG00000123636, ENSG00000181666 \n",
      "PC_ 2 \n",
      "Positive:  ENSG00000198786, ENSG00000026025, ENSG00000198825, ENSG00000198865, ENSG00000255823, ENSG00000270672, ENSG00000053438, ENSG00000105894, ENSG00000166450, ENSG00000164434 \n",
      "\t   ENSG00000148680, ENSG00000137872, ENSG00000256045, ENSG00000169715, ENSG00000120437, ENSG00000134363, ENSG00000179059, ENSG00000269028, ENSG00000125148, ENSG00000205358 \n",
      "\t   ENSG00000100604, ENSG00000169136, ENSG00000185201, ENSG00000165449, ENSG00000165588, ENSG00000105810, ENSG00000205364, ENSG00000082438, ENSG00000151012, ENSG00000152778 \n",
      "Negative:  ENSG00000177954, ENSG00000166426, ENSG00000163041, ENSG00000106153, ENSG00000137154, ENSG00000231500, ENSG00000114391, ENSG00000198918, ENSG00000142541, ENSG00000143320 \n",
      "\t   ENSG00000143742, ENSG00000142534, ENSG00000174748, ENSG00000185088, ENSG00000176386, ENSG00000166347, ENSG00000156508, ENSG00000116161, ENSG00000144426, ENSG00000229117 \n",
      "\t   ENSG00000144713, ENSG00000107438, ENSG00000131469, ENSG00000182004, ENSG00000134809, ENSG00000143621, ENSG00000163032, ENSG00000150459, ENSG00000167863, ENSG00000124614 \n",
      "PC_ 3 \n",
      "Positive:  ENSG00000135549, ENSG00000256618, ENSG00000187193, ENSG00000077458, ENSG00000022556, ENSG00000198865, ENSG00000131969, ENSG00000141543, ENSG00000142871, ENSG00000163106 \n",
      "\t   ENSG00000139209, ENSG00000165118, ENSG00000102309, ENSG00000143248, ENSG00000137267, ENSG00000118523, ENSG00000158710, ENSG00000179059, ENSG00000198093, ENSG00000198028 \n",
      "\t   ENSG00000179172, ENSG00000180543, ENSG00000164241, ENSG00000158716, ENSG00000159228, ENSG00000173281, ENSG00000147604, ENSG00000003436, ENSG00000161281, ENSG00000129991 \n",
      "Negative:  ENSG00000163191, ENSG00000154556, ENSG00000143771, ENSG00000170561, ENSG00000182195, ENSG00000179542, ENSG00000152904, ENSG00000165323, ENSG00000166352, ENSG00000065518 \n",
      "\t   ENSG00000117724, ENSG00000168275, ENSG00000128610, ENSG00000163041, ENSG00000064042, ENSG00000203667, ENSG00000164104, ENSG00000198046, ENSG00000148834, ENSG00000131203 \n",
      "\t   ENSG00000116161, ENSG00000185885, ENSG00000067533, ENSG00000137288, ENSG00000121644, ENSG00000056050, ENSG00000183648, ENSG00000143353, ENSG00000169567, ENSG00000170961 \n",
      "PC_ 4 \n",
      "Positive:  ENSG00000185885, ENSG00000164265, ENSG00000197747, ENSG00000171532, ENSG00000102144, ENSG00000136810, ENSG00000159167, ENSG00000142089, ENSG00000114023, ENSG00000182718 \n",
      "\t   ENSG00000128052, ENSG00000131969, ENSG00000171246, ENSG00000136160, ENSG00000198695, ENSG00000163106, ENSG00000189143, ENSG00000163032, ENSG00000134333, ENSG00000127184 \n",
      "\t   ENSG00000106789, ENSG00000141741, ENSG00000124839, ENSG00000124588, ENSG00000187193, ENSG00000147601, ENSG00000134954, ENSG00000163683, ENSG00000079739, ENSG00000100526 \n",
      "Negative:  ENSG00000121207, ENSG00000143569, ENSG00000134369, ENSG00000138161, ENSG00000162521, ENSG00000162878, ENSG00000165588, ENSG00000171617, ENSG00000121769, ENSG00000196923 \n",
      "\t   ENSG00000106341, ENSG00000185630, ENSG00000197903, ENSG00000143384, ENSG00000111328, ENSG00000198830, ENSG00000130726, ENSG00000121481, ENSG00000144909, ENSG00000043355 \n",
      "\t   ENSG00000139800, ENSG00000159840, ENSG00000113758, ENSG00000136367, ENSG00000162998, ENSG00000132718, ENSG00000137309, ENSG00000105894, ENSG00000169371, ENSG00000092964 \n",
      "PC_ 5 \n",
      "Positive:  ENSG00000125148, ENSG00000169715, ENSG00000205358, ENSG00000125144, ENSG00000198417, ENSG00000205364, ENSG00000133316, ENSG00000067082, ENSG00000173401, ENSG00000067064 \n",
      "\t   ENSG00000112081, ENSG00000122565, ENSG00000244020, ENSG00000169288, ENSG00000082438, ENSG00000170312, ENSG00000102317, ENSG00000164111, ENSG00000128564, ENSG00000135069 \n",
      "\t   ENSG00000170561, ENSG00000134057, ENSG00000132823, ENSG00000142871, ENSG00000136108, ENSG00000112742, ENSG00000114021, ENSG00000169136, ENSG00000137807, ENSG00000114315 \n",
      "Negative:  ENSG00000117318, ENSG00000139318, ENSG00000172270, ENSG00000184697, ENSG00000183513, ENSG00000181029, ENSG00000051523, ENSG00000143198, ENSG00000130303, ENSG00000240972 \n",
      "\t   ENSG00000117122, ENSG00000196950, ENSG00000171222, ENSG00000108518, ENSG00000077312, ENSG00000105404, ENSG00000106211, ENSG00000167996, ENSG00000004059, ENSG00000185883 \n",
      "\t   ENSG00000142408, ENSG00000160888, ENSG00000167196, ENSG00000158164, ENSG00000175390, ENSG00000182154, ENSG00000152256, ENSG00000167526, ENSG00000162174, ENSG00000214026 \n",
      "\n",
      "Computing nearest neighbor graph\n",
      "\n",
      "Computing SNN\n",
      "\n"
     ]
    },
    {
     "name": "stdout",
     "output_type": "stream",
     "text": [
      "Modularity Optimizer version 1.3.0 by Ludo Waltman and Nees Jan van Eck\n",
      "\n",
      "Number of nodes: 864\n",
      "Number of edges: 24436\n",
      "\n",
      "Running Louvain algorithm...\n",
      "Maximum modularity in 10 random starts: 0.9446\n",
      "Number of communities: 13\n",
      "Elapsed time: 0 seconds\n"
     ]
    },
    {
     "name": "stderr",
     "output_type": "stream",
     "text": [
      "Warning message:\n",
      "“The default method for RunUMAP has changed from calling Python UMAP via reticulate to the R-native UWOT using the cosine metric\n",
      "To use Python UMAP via reticulate, set umap.method to 'umap-learn' and metric to 'correlation'\n",
      "This message will be shown once per session”\n",
      "02:32:54 UMAP embedding parameters a = 0.9922 b = 1.112\n",
      "\n",
      "Found more than one class \"dist\" in cache; using the first, from namespace 'BiocGenerics'\n",
      "\n",
      "Also defined by ‘spam’\n",
      "\n",
      "02:32:54 Read 864 rows and found 10 numeric columns\n",
      "\n",
      "02:32:54 Using Annoy for neighbor search, n_neighbors = 30\n",
      "\n",
      "Found more than one class \"dist\" in cache; using the first, from namespace 'BiocGenerics'\n",
      "\n",
      "Also defined by ‘spam’\n",
      "\n",
      "02:32:54 Building Annoy index with metric = cosine, n_trees = 50\n",
      "\n",
      "0%   10   20   30   40   50   60   70   80   90   100%\n",
      "\n",
      "[----|----|----|----|----|----|----|----|----|----|\n",
      "\n",
      "*\n",
      "*\n",
      "*\n",
      "*\n",
      "*\n",
      "*\n",
      "*\n",
      "*\n",
      "*\n",
      "*\n",
      "*\n",
      "*\n",
      "*\n",
      "*\n",
      "*\n",
      "*\n",
      "*\n",
      "*\n",
      "*\n",
      "*\n",
      "*\n",
      "*\n",
      "*\n",
      "*\n",
      "*\n",
      "*\n",
      "*\n",
      "*\n",
      "*\n",
      "*\n",
      "*\n",
      "*\n",
      "*\n",
      "*\n",
      "*\n",
      "*\n",
      "*\n",
      "*\n",
      "*\n",
      "*\n",
      "*\n",
      "*\n",
      "*\n",
      "*\n",
      "*\n",
      "*\n",
      "*\n",
      "*\n",
      "*\n",
      "*\n",
      "|\n",
      "\n",
      "02:32:54 Writing NN index file to temp file /tmp/RtmpSU2y8P/file20456f4fef02\n",
      "\n",
      "02:32:54 Searching Annoy index using 1 thread, search_k = 3000\n",
      "\n",
      "02:32:54 Annoy recall = 100%\n",
      "\n",
      "02:32:55 Commencing smooth kNN distance calibration using 1 thread\n",
      " with target n_neighbors = 30\n",
      "\n",
      "02:32:57 Initializing from normalized Laplacian + noise (using irlba)\n",
      "\n",
      "02:32:58 Commencing optimization for 500 epochs, with 31050 positive edges\n",
      "\n",
      "02:33:00 Optimization finished\n",
      "\n",
      "Loading required package: fields\n",
      "\n",
      "Loading required package: spam\n",
      "\n",
      "Spam version 2.10-0 (2023-10-23) is loaded.\n",
      "Type 'help( Spam)' or 'demo( spam)' for a short introduction \n",
      "and overview of this package.\n",
      "Help for individual functions is also obtained by adding the\n",
      "suffix '.spam' to the function name, e.g. 'help( chol.spam)'.\n",
      "\n",
      "\n",
      "Attaching package: ‘spam’\n",
      "\n",
      "\n",
      "The following object is masked from ‘package:stats4’:\n",
      "\n",
      "    mle\n",
      "\n",
      "\n",
      "The following objects are masked from ‘package:base’:\n",
      "\n",
      "    backsolve, forwardsolve\n",
      "\n",
      "\n",
      "Loading required package: viridisLite\n",
      "\n",
      "\n",
      "Try help(fields) to get started.\n",
      "\n",
      "Loading required package: parallel\n",
      "\n"
     ]
    },
    {
     "name": "stdout",
     "output_type": "stream",
     "text": [
      "[1] \"Creating artificial doublets for pN = 5%\"\n",
      "[1] \"An error occurred when running DoubletFinder. Skipping... \"\n",
      "[1] \"invalid 'size' argument\"\n",
      "[1] \"Seurat object is saved successfully.\"\n",
      "[1] \"inside s to a\"\n",
      "[1] \"/ps/ai-ready/data/tung/umi.h5ad\"\n",
      "[1] \"AnnData object is saved successfully.\"\n"
     ]
    },
    {
     "data": {
      "text/html": [
       "<dl>\n",
       "\t<dt>$default_assay</dt>\n",
       "\t\t<dd>'originalexp'</dd>\n",
       "\t<dt>$assay_names</dt>\n",
       "\t\t<dd><style>\n",
       ".list-inline {list-style: none; margin:0; padding: 0}\n",
       ".list-inline>li {display: inline-block}\n",
       ".list-inline>li:not(:last-child)::after {content: \"\\00b7\"; padding: 0 .5ex}\n",
       "</style>\n",
       "<ol class=list-inline><li>'ERCC'</li><li>'originalexp'</li></ol>\n",
       "</dd>\n",
       "\t<dt>$adata_path</dt>\n",
       "\t\t<dd>'/ps/ai-ready/data/tung/umi.h5ad'</dd>\n",
       "\t<dt>$ddl_assay_names</dt>\n",
       "\t\t<dd>FALSE</dd>\n",
       "</dl>\n"
      ],
      "text/latex": [
       "\\begin{description}\n",
       "\\item[\\$default\\_assay] 'originalexp'\n",
       "\\item[\\$assay\\_names] \\begin{enumerate*}\n",
       "\\item 'ERCC'\n",
       "\\item 'originalexp'\n",
       "\\end{enumerate*}\n",
       "\n",
       "\\item[\\$adata\\_path] '/ps/ai-ready/data/tung/umi.h5ad'\n",
       "\\item[\\$ddl\\_assay\\_names] FALSE\n",
       "\\end{description}\n"
      ],
      "text/markdown": [
       "$default_assay\n",
       ":   'originalexp'\n",
       "$assay_names\n",
       ":   1. 'ERCC'\n",
       "2. 'originalexp'\n",
       "\n",
       "\n",
       "\n",
       "$adata_path\n",
       ":   '/ps/ai-ready/data/tung/umi.h5ad'\n",
       "$ddl_assay_names\n",
       ":   FALSE\n",
       "\n",
       "\n"
      ],
      "text/plain": [
       "$default_assay\n",
       "[1] \"originalexp\"\n",
       "\n",
       "$assay_names\n",
       "[1] \"ERCC\"        \"originalexp\"\n",
       "\n",
       "$adata_path\n",
       "[1] \"/ps/ai-ready/data/tung/umi.h5ad\"\n",
       "\n",
       "$ddl_assay_names\n",
       "[1] FALSE\n"
      ]
     },
     "metadata": {},
     "output_type": "display_data"
    }
   ],
   "source": [
    "source(\"../tools/qc/seurat_qc.R\")\n",
    "# path=\"/ps/ai-ready/data/error/droplet_Bladder_seurat_tiss.h5seurat\"\n",
    "# adata_path = '/ps/ai-ready/data/error/droplet_Bladder_seurat_tiss.h5ad'\n",
    "path=\"/ps/ai-ready/data/tung/umi.h5Seurat\"\n",
    "adata_path = '/ps/ai-ready/data/tung/umi.h5ad'\n",
    "\n",
    "results <- RunSeuratQC(path, '/ps/ai-ready/data/Clustering/Tabula_Muris/droplet_Bladder_seurat_tiss.h5Seurat', adata_path=adata_path, assay='originalexp')\n",
    "results"
   ]
  },
  {
   "cell_type": "code",
   "execution_count": null,
   "id": "dcadfe1a-1355-415d-9cc7-c4d6ae7a1df8",
   "metadata": {},
   "outputs": [],
   "source": [
    "print(results)"
   ]
  },
  {
   "cell_type": "code",
   "execution_count": null,
   "id": "b82fb602-65a5-4511-8f6d-7d15d49594a6",
   "metadata": {},
   "outputs": [],
   "source": [
    "source(\"../tools/qc/seurat_qc.R\")\n",
    "# path=\"/ps/ai-ready/data/Clustering/Tabula_Muris/droplet_Bladder_seurat_tiss.h5Seurat\"\n",
    "# adata_path = '/ps/ai-ready/data/Clustering/Tabula_Muris/droplet_Bladder_seurat_tiss.h5ad'\n",
    "path=\"/ps/ai-ready/data/error/droplet_Bladder_seurat_tiss.Robj\"\n",
    "adata_path = '/ps/ai-ready/data/error/droplet_Bladder_seurat_tiss.h5ad'\n",
    "\n",
    "results <- RunSeuratQC(path, '/ps/ai-ready/data/Clustering/Tabula_Muris/droplet_Bladder_seurat_tiss.h5Seurat', adata_path=adata_path)\n",
    "results"
   ]
  },
  {
   "cell_type": "code",
   "execution_count": null,
   "id": "571ba18e-06e7-4bdd-8a3a-b180c2a26049",
   "metadata": {},
   "outputs": [],
   "source": [
    "# srat <- LoadSeurat('/ps/ai-ready/data/error/droplet_Bladder_seurat_tiss.Robj')\n",
    "# srat <- LoadSeurat(\"/ps/ai-ready/data/error/droplet_Bladder_seurat_tiss.h5seurat\")\n",
    "srat <- LoadSeurat(\"/ps/ai-ready/data/tung/umi.h5Seurat\")\n",
    "# srat@reductions <- NULL\n",
    "srat"
   ]
  },
  {
   "cell_type": "code",
   "execution_count": null,
   "id": "9694b7b4-6e88-4fc0-bebf-bcbf5e711482",
   "metadata": {},
   "outputs": [],
   "source": [
    "DefaultAssay(srat) <- \"originalexp\"\n",
    "srat"
   ]
  },
  {
   "cell_type": "code",
   "execution_count": null,
   "id": "72928c47-cddf-4156-b292-2aa959c0fbd6",
   "metadata": {},
   "outputs": [],
   "source": [
    "# remotes::install_github('chris-mcginnis-ucsf/DoubletFinder')"
   ]
  },
  {
   "cell_type": "code",
   "execution_count": null,
   "id": "2c81e6fb-16f0-4c22-972c-82431c8c36bb",
   "metadata": {},
   "outputs": [],
   "source": [
    "srat <- NormalizeData(srat)\n",
    "srat <- FindVariableFeatures(srat, selection.method=\"vst\", nfeatures=2000)\n",
    "srat <- ScaleData(srat)\n",
    "srat <- RunPCA(srat)\n",
    "srat <- RunUMAP(srat, dims=1:10)"
   ]
  },
  {
   "cell_type": "code",
   "execution_count": null,
   "id": "a1b56ec5-b859-4be6-a5d5-2cdcfaf41e67",
   "metadata": {},
   "outputs": [],
   "source": [
    "srat"
   ]
  },
  {
   "cell_type": "code",
   "execution_count": null,
   "id": "957a5046-5bd1-430c-ad5b-93207702837f",
   "metadata": {},
   "outputs": [],
   "source": [
    "srat@meta.data"
   ]
  },
  {
   "cell_type": "code",
   "execution_count": null,
   "id": "a6b6b149-3ecf-4e98-8238-19574281a12b",
   "metadata": {},
   "outputs": [],
   "source": [
    "library(DoubletFinder)\n",
    "set.seed(123)\n",
    "sweep.res.list <- paramSweep(srat, PCs=1:10, sct=FALSE)\n",
    "sweep.stats <- summarizeSweep(sweep.res.list, GT=FALSE)\n",
    "bcmvn <- find.pK(sweep.stats)"
   ]
  },
  {
   "cell_type": "code",
   "execution_count": null,
   "id": "e479ac6d-d496-470c-9a16-100b42ed3230",
   "metadata": {},
   "outputs": [],
   "source": [
    "packageVersion(\"DoubletFinder\")"
   ]
  },
  {
   "cell_type": "code",
   "execution_count": null,
   "id": "b491b148-37ef-42d3-bdd2-06a23649ed5a",
   "metadata": {},
   "outputs": [],
   "source": [
    "nExp_poi <- round(0.075*nrow(srat@meta.data)) "
   ]
  },
  {
   "cell_type": "code",
   "execution_count": null,
   "id": "9c34ee13-cb5d-40cc-aa74-94640116fb8f",
   "metadata": {},
   "outputs": [],
   "source": [
    "srat <- doubletFinder(srat, PCs = 1:10, pN = 0.25, pK = 0.09, nExp = nExp_poi, reuse.pANN = FALSE, sct = FALSE)"
   ]
  },
  {
   "cell_type": "code",
   "execution_count": null,
   "id": "2ea8ca0e-184d-491a-87b9-fad2a853b9e8",
   "metadata": {},
   "outputs": [],
   "source": [
    "library(stringr)\n",
    "colnames(srat@meta.data)[str_starts(colnames(srat@meta.data),\"pANN_\")] <- \"Double_score\"\n",
    "colnames(srat@meta.data)[str_starts(colnames(srat@meta.data),\"DF.classifications_\")] <- \"Is_Double\""
   ]
  },
  {
   "cell_type": "code",
   "execution_count": null,
   "id": "58f50b6a-635f-4301-bc68-2059f7ac5764",
   "metadata": {},
   "outputs": [],
   "source": [
    "srat <- FindNeighbors(srat, dims=1:10)\n",
    "srat <- FindClusters(srat, resolution=0.5)"
   ]
  },
  {
   "cell_type": "code",
   "execution_count": null,
   "id": "03a71a62-a07a-4ee5-8f66-5572962b0845",
   "metadata": {},
   "outputs": [],
   "source": [
    "srat@meta.data"
   ]
  },
  {
   "cell_type": "code",
   "execution_count": null,
   "id": "a689cace-d909-43d5-912f-f0753cb206a2",
   "metadata": {},
   "outputs": [],
   "source": [
    "sce <- as.SingleCellExperiment(srat)\n",
    "sce"
   ]
  },
  {
   "cell_type": "code",
   "execution_count": null,
   "id": "c9795a34-1a6d-4706-a3e8-447e9afa6f6c",
   "metadata": {},
   "outputs": [],
   "source": [
    "# BiocManager::install(\"plger/scDblfinder\")\n",
    "# install.packages(\"irlba\",type = \"source\")\n",
    "remotes::install_github(\"Moonerss/scrubletR\")"
   ]
  },
  {
   "cell_type": "code",
   "execution_count": null,
   "id": "fd83ca8c-6834-430a-9b7e-6ba0a462e9a4",
   "metadata": {},
   "outputs": [],
   "source": [
    "scrublet_R <- function(seurat_obj, python_home = Sys.which(\"python3\"),\n",
    "                       return_results_only = FALSE, min_counts=2,\n",
    "                       min_cells=3, expected_doublet_rate=0.06,\n",
    "                       min_gene_variability_pctl=85,\n",
    "                       n_prin_comps=50, sim_doublet_ratio=2, n_neighbors=NULL) {\n",
    "  ## use the python\n",
    "  reticulate::use_python(python_home)\n",
    "\n",
    "  ## test whether have the modules\n",
    "  if (!reticulate::py_module_available(\"scrublet\")) {\n",
    "    stop(\"python module scrublet does not seem to be installed; - try running 'py_config()'\")\n",
    "  }\n",
    "\n",
    "  ## source .py file\n",
    "  reticulate::source_python(paste(system.file(package = \"scrubletR\"), \"scrublet.py\", sep = \"/\"))\n",
    "\n",
    "  ## prepare the data\n",
    "  X <- as(Matrix::t(seurat_obj@assays$RNA@counts), \"TsparseMatrix\")\n",
    "  i <- as.integer(X@i)\n",
    "  j <- as.integer(X@j)\n",
    "  val <- X@x\n",
    "  dim <- as.integer(X@Dim)\n",
    "  if(is.null(n_neighbors)){\n",
    "    n_neighbors<-round(0.5*sqrt(nrow(X)))\n",
    "  }\n",
    "\n",
    "  ## do the scrublet analysis\n",
    "  scrublet_py_args<-c(list(i=i, j=j, val=val, dim=dim,\n",
    "                           expected_doublet_rate=expected_doublet_rate, min_counts=min_counts,\n",
    "                           min_cells=min_cells, min_gene_variability_pctl=min_gene_variability_pctl, n_prin_comps=n_prin_comps,\n",
    "                           sim_doublet_ratio=sim_doublet_ratio, n_neighbors=n_neighbors))\n",
    "  scrublet_res <- do.call(scrublet_py, scrublet_py_args)\n",
    "  names(scrublet_res)<-c(\"doublet_scores\", \"predicted_doublets\")\n",
    "\n",
    "  ## get the result\n",
    "  if (return_results_only) {\n",
    "    return(scrublet_res)\n",
    "  } else {\n",
    "    seurat_obj[[\"doublet_scores\"]] <- scrublet_res$doublet_scores\n",
    "    seurat_obj[[\"predicted_doublets\"]] <- scrublet_res$predicted_doublets\n",
    "    return(seurat_obj)\n",
    "  }\n",
    "}"
   ]
  },
  {
   "cell_type": "code",
   "execution_count": null,
   "id": "20157ead-3bbc-453a-96fc-e1387d7a9832",
   "metadata": {},
   "outputs": [],
   "source": [
    "# library(scrubletR)\n",
    "res <- scrublet_R(srat)\n",
    "res"
   ]
  },
  {
   "cell_type": "code",
   "execution_count": null,
   "id": "5ad171ab-799d-499b-9b69-c0455f45f74c",
   "metadata": {},
   "outputs": [],
   "source": [
    "sce <- runScrublet(sce)\n",
    "sce"
   ]
  },
  {
   "cell_type": "code",
   "execution_count": null,
   "id": "ef9d1f4e-9f4c-4e58-9569-1813c76fbaa8",
   "metadata": {},
   "outputs": [],
   "source": [
    "sce <- scDblFinder(sce, nfeatures=2000, dims=30, iter=5)"
   ]
  },
  {
   "cell_type": "code",
   "execution_count": null,
   "id": "958c324c-d073-4247-9610-f203b4bea1ef",
   "metadata": {},
   "outputs": [],
   "source": [
    "doublet_annnotation <- AnnotateDroplet(srat[[\"RNA\"]]@counts)"
   ]
  },
  {
   "cell_type": "code",
   "execution_count": null,
   "id": "db387b5c-dc62-4240-a230-0fa321b7ed13",
   "metadata": {},
   "outputs": [],
   "source": [
    "doublet_annnotation"
   ]
  },
  {
   "cell_type": "code",
   "execution_count": null,
   "id": "f4340f96-ca1e-488a-81b7-b3426fa41274",
   "metadata": {},
   "outputs": [],
   "source": [
    "adata_path <- Convert('/ps/ai-ready/data/Clustering/Tabula_Muris/droplet_Bladder_seurat_tiss.h5Seurat', dest = \"h5ad\" , overwrite = TRUE)\n",
    "adata_path"
   ]
  },
  {
   "cell_type": "code",
   "execution_count": null,
   "id": "e708a4de-9b45-46bd-a5a2-18f65acf900e",
   "metadata": {},
   "outputs": [],
   "source": [
    "path=\"/ps/ai-ready/data/Clustering/Tabula_Muris/droplet_Bladder_seurat_tiss.Robj\"\n",
    "\n",
    "srat <- LoadSeurat(path)\n",
    "\n",
    "srat\n",
    "srat@version"
   ]
  },
  {
   "cell_type": "code",
   "execution_count": null,
   "id": "80455616-0843-4408-82cc-e5166738d7fe",
   "metadata": {},
   "outputs": [],
   "source": [
    "Project(srat)"
   ]
  },
  {
   "cell_type": "code",
   "execution_count": null,
   "id": "f91a4336-1c7f-488a-b2af-696c35d90e23",
   "metadata": {},
   "outputs": [],
   "source": [
    "obj <- readRDS(\"/ps/ai-ready/data/Clustering/Tabula_Muris/droplet_Bladder_seurat_tiss.Robj\")\n",
    "obj"
   ]
  },
  {
   "cell_type": "code",
   "execution_count": null,
   "id": "b28b2981-cfd9-47d9-9a45-b6a34f67a031",
   "metadata": {},
   "outputs": [],
   "source": [
    "srat_v2 <- get(load(path))\n",
    "srat_v2"
   ]
  },
  {
   "cell_type": "code",
   "execution_count": null,
   "id": "df7dca1c-bcef-43e6-9a90-0c79d8718fea",
   "metadata": {},
   "outputs": [],
   "source": [
    "class(srat_v2) == 'seurat'"
   ]
  },
  {
   "cell_type": "code",
   "execution_count": null,
   "id": "5a18bd28-d8a6-4024-a0cd-c88f36a1ff9e",
   "metadata": {},
   "outputs": [],
   "source": [
    "srat_v2@meta.data"
   ]
  },
  {
   "cell_type": "code",
   "execution_count": null,
   "id": "e837c20c-b38f-4a00-86c7-1f8d95c2ec2c",
   "metadata": {},
   "outputs": [],
   "source": [
    "srat[['RNA']]@counts"
   ]
  },
  {
   "cell_type": "code",
   "execution_count": null,
   "id": "f240cfa0-42d2-4fbf-935c-d2bd3b84646d",
   "metadata": {},
   "outputs": [],
   "source": [
    "v4_obj <- CreateSeuratObject(counts=srat[['RNA']]@counts, meta.data=srat@meta.data)\n",
    "v4_obj"
   ]
  },
  {
   "cell_type": "code",
   "execution_count": null,
   "id": "dd0e9e7d-8dae-4927-89ec-fa18823ae756",
   "metadata": {},
   "outputs": [],
   "source": [
    "SaveH5Seurat(v4_obj, filename='/ps/ai-ready/data/Clustering/Tabula_Muris/droplet_Bladder_seurat_tiss.h5seurat', overwrite=TRUE)"
   ]
  },
  {
   "cell_type": "code",
   "execution_count": null,
   "id": "ef2d65d7-f9c5-4e72-a77e-27666e5f12bf",
   "metadata": {},
   "outputs": [],
   "source": [
    "Cells(v4_obj)"
   ]
  },
  {
   "cell_type": "code",
   "execution_count": null,
   "id": "a48c9c15-7c5a-437e-97a9-ed8c1b92c546",
   "metadata": {},
   "outputs": [],
   "source": [
    "v4_obj@meta.data"
   ]
  },
  {
   "cell_type": "code",
   "execution_count": null,
   "id": "2d34685f-95f9-48a2-8c08-0d9386e24f8d",
   "metadata": {},
   "outputs": [],
   "source": [
    "v4_obj[['RNA']]@var.features"
   ]
  },
  {
   "cell_type": "code",
   "execution_count": null,
   "id": "6189b319-ed8f-42fb-bf14-bb832834ebe0",
   "metadata": {},
   "outputs": [],
   "source": [
    "srat@reductions$pca@misc <- list()\n",
    "srat@reductions$tsne@misc <- list()\n",
    "# srat@reductions$umap@misc <- list()"
   ]
  },
  {
   "cell_type": "code",
   "execution_count": null,
   "id": "4a6de37a-7d34-49c4-a977-25ddd0d42414",
   "metadata": {},
   "outputs": [],
   "source": [
    "SaveH5Seurat(srat, filename='/ps/ai-ready/data/Clustering/Tabula_Muris/droplet_Bladder_seurat_tiss.h5seurat', overwrite=TRUE)"
   ]
  },
  {
   "cell_type": "code",
   "execution_count": null,
   "id": "b8dd2e22-5fef-4595-ae73-c4ca2df62713",
   "metadata": {},
   "outputs": [],
   "source": [
    "saveRDS(srat, \"/ps/ai-ready/data/Clustering/Tabula_Muris/droplet_Bladder_seurat_tiss.rds\")"
   ]
  },
  {
   "cell_type": "code",
   "execution_count": null,
   "id": "a5c6dc7f-bf7a-4e7e-9669-a1244934e707",
   "metadata": {},
   "outputs": [],
   "source": [
    "srat1 <- readRDS(file=\"/ps/ai-ready/data/Clustering/Tabula_Muris/droplet_Bladder_seurat_tiss.rds\")\n",
    "srat1"
   ]
  },
  {
   "cell_type": "code",
   "execution_count": null,
   "id": "64c147c6-a75f-4cd3-88f0-0cb2a3c3ab98",
   "metadata": {},
   "outputs": [],
   "source": [
    "as.h5Seurat(srat1, '/ps/ai-ready/data/Clustering/Tabula_Muris/droplet_Bladder_seurat_tiss.h5seurat', overwrite = TRUE, verbose = TRUE)"
   ]
  },
  {
   "cell_type": "code",
   "execution_count": null,
   "id": "f2bf0c84-55aa-4ac5-8e13-c9d1d548cbae",
   "metadata": {},
   "outputs": [],
   "source": [
    "SaveH5Seurat(srat1, filename='/ps/ai-ready/data/Clustering/Tabula_Muris/droplet_Bladder_seurat_tiss.h5seurat', overwrite=TRUE)"
   ]
  },
  {
   "cell_type": "code",
   "execution_count": null,
   "id": "b36c7cf2-aaed-4d3e-9dc1-d2c0dde5ad93",
   "metadata": {},
   "outputs": [],
   "source": [
    "adata_path <- Convert('/ps/ai-ready/data/Clustering/Tabula_Muris/droplet_Bladder_seurat_tiss.rds', dest = \"h5ad\" , overwrite = TRUE)"
   ]
  },
  {
   "cell_type": "code",
   "execution_count": null,
   "id": "02fc6920-0f98-4859-9411-99e41028e77c",
   "metadata": {
    "scrolled": true
   },
   "outputs": [],
   "source": [
    "class(srat1) == 'Seurat'"
   ]
  },
  {
   "cell_type": "code",
   "execution_count": null,
   "id": "bd595558-8bd9-4545-b207-5fafe4f5fb4d",
   "metadata": {},
   "outputs": [],
   "source": [
    "v4_obj@version"
   ]
  },
  {
   "cell_type": "code",
   "execution_count": null,
   "id": "422b0b46-63e5-458b-b8a2-00390d359de8",
   "metadata": {},
   "outputs": [],
   "source": [
    "srat2 <- readRDS(file=\"/ps/ai-ready/data/tung/tung.rds\")\n",
    "srat2"
   ]
  },
  {
   "cell_type": "code",
   "execution_count": null,
   "id": "00414990-4edc-4b1d-b1a4-95e230b1de0c",
   "metadata": {},
   "outputs": [],
   "source": [
    "class(srat2)"
   ]
  },
  {
   "cell_type": "code",
   "execution_count": null,
   "id": "6c1f7087-5228-4f72-9b03-dd8b01b6708a",
   "metadata": {},
   "outputs": [],
   "source": [
    "# The [[ operator can add columns to object metadata. This is a great place to stash QC stats\n",
    "srat[[\"percent.mt\"]] <- PercentageFeatureSet(srat, pattern = \"^MT-\")"
   ]
  },
  {
   "cell_type": "code",
   "execution_count": null,
   "id": "a086b663-1d6d-49bc-8b6c-a3243ddcb5c1",
   "metadata": {},
   "outputs": [],
   "source": [
    "# Visualize QC metrics as a violin plot\n",
    "VlnPlot(srat, features = c(\"nFeature_RNA\", \"nCount_RNA\", \"percent.mt\"), ncol = 3)"
   ]
  },
  {
   "cell_type": "code",
   "execution_count": null,
   "id": "f5733261-5d46-45f2-ad9c-ca3a3e06507b",
   "metadata": {},
   "outputs": [],
   "source": [
    "plot1 <- FeatureScatter(srat, feature1 = \"nCount_RNA\", feature2 = \"percent.mt\")\n",
    "plot2 <- FeatureScatter(srat, feature1 = \"nCount_RNA\", feature2 = \"nFeature_RNA\")\n",
    "plot1 + plot2"
   ]
  },
  {
   "cell_type": "code",
   "execution_count": null,
   "id": "44ae94bb-63b5-4299-ac71-d0d995eb4cfb",
   "metadata": {},
   "outputs": [],
   "source": [
    "srat <- subset(srat, subset = nFeature_RNA > 200 & nFeature_RNA < 2500 & percent.mt < 5)"
   ]
  },
  {
   "cell_type": "code",
   "execution_count": null,
   "id": "e080cd97-5e68-4999-8baa-a17d804ee4e1",
   "metadata": {},
   "outputs": [],
   "source": [
    "srat <- NormalizeData(srat, normalization.method = \"LogNormalize\", scale.factor = 10000)"
   ]
  },
  {
   "cell_type": "code",
   "execution_count": null,
   "id": "db42d5e2-ce0e-431e-90b1-e76b8ea4234d",
   "metadata": {},
   "outputs": [],
   "source": [
    "srat <- FindVariableFeatures(srat, selection.method = \"vst\")\n",
    "srat <- ScaleData(srat, features = rownames(srat))"
   ]
  },
  {
   "cell_type": "code",
   "execution_count": null,
   "id": "28d05285-941d-449c-8054-a47583962e50",
   "metadata": {},
   "outputs": [],
   "source": [
    "srat <- RunPCA(srat, features = VariableFeatures(srat), ndims.print = 6:10, nfeatures.print = 10)"
   ]
  },
  {
   "cell_type": "code",
   "execution_count": null,
   "id": "0a5edc8c-574e-4a31-b8ca-850863be2d63",
   "metadata": {},
   "outputs": [],
   "source": [
    "DimHeatmap(srat, dims = c(8, 10))"
   ]
  },
  {
   "cell_type": "code",
   "execution_count": null,
   "id": "b2951448-ee5a-42ad-81af-9025ffef465a",
   "metadata": {},
   "outputs": [],
   "source": [
    "srat <- CellCycleScoring(srat, g2m.features = cc.genes$g2m.genes, s.features = cc.genes$s.genes)"
   ]
  },
  {
   "cell_type": "code",
   "execution_count": null,
   "id": "346002cd-278a-4a58-bf75-f6583b5f92cb",
   "metadata": {},
   "outputs": [],
   "source": [
    "# Read in the expression matrix The first row is a header row, the first column is rownames\n",
    "exp.mat <- read.table(file = \"../tools/qc/nestorawa_forcellcycle_expressionMatrix.txt\", header = TRUE,\n",
    "    as.is = TRUE, row.names = 1)\n",
    "\n",
    "# A list of cell cycle markers, from Tirosh et al, 2015, is loaded with Seurat.  We can\n",
    "# segregate this list into markers of G2/M phase and markers of S phase\n",
    "s.genes <- cc.genes$s.genes\n",
    "g2m.genes <- cc.genes$g2m.genes"
   ]
  },
  {
   "cell_type": "code",
   "execution_count": null,
   "id": "4fdaeac3-bb43-42e9-ac2c-ba084f8f6c22",
   "metadata": {},
   "outputs": [],
   "source": [
    "srat <- CellCycleScoring(srat, s.features = s.genes, g2m.features = g2m.genes, set.ident = TRUE)\n",
    "# view cell cycle scores and phase assignments\n",
    "head(srat[[]])"
   ]
  },
  {
   "cell_type": "code",
   "execution_count": null,
   "id": "f5f7b624-e46f-4871-9861-107b67df184b",
   "metadata": {},
   "outputs": [],
   "source": [
    "VlnPlot(srat, features = c(\"S.Score\", \"G2M.Score\"), group.by = \"orig.ident\",\n",
    "    ncol = 4, pt.size = 0.1)"
   ]
  },
  {
   "cell_type": "code",
   "execution_count": null,
   "id": "61062e0d-8e43-4069-a5ab-896ae824f984",
   "metadata": {},
   "outputs": [],
   "source": [
    "srat <- ScaleData(srat, vars.to.regress = c(\"S.Score\", \"G2M.Score\"), features = rownames(srat))\n",
    "srat"
   ]
  },
  {
   "cell_type": "code",
   "execution_count": null,
   "id": "7463bbfc-6e26-44b8-886b-c1d23fb3c9fb",
   "metadata": {},
   "outputs": [],
   "source": [
    "remotes::install_github('chris-mcginnis-ucsf/DoubletFinder')"
   ]
  },
  {
   "cell_type": "code",
   "execution_count": null,
   "id": "3634fd2e-6c60-4780-9533-8092c73506a0",
   "metadata": {},
   "outputs": [],
   "source": [
    "# define the expected number of doublet cellscells.\n",
    "nExp <- round(ncol(srat) * 0.04)  # expect 4% doublets\n",
    "srat <- doubletFinder_v3(srat, pN = 0.25, pK = 0.09, nExp = nExp, PCs = 1:10)"
   ]
  },
  {
   "cell_type": "code",
   "execution_count": null,
   "id": "cb9fb1bb-7a14-4d9b-a7ef-ed96a7466ade",
   "metadata": {},
   "outputs": [],
   "source": [
    "rm(srat)\n",
    "gc()"
   ]
  },
  {
   "cell_type": "code",
   "execution_count": null,
   "id": "29d065bc-3f88-411e-8375-b01b8a47db5b",
   "metadata": {},
   "outputs": [],
   "source": []
  },
  {
   "cell_type": "code",
   "execution_count": null,
   "id": "daf12fc4-ee45-4b9d-839f-7eef706488d4",
   "metadata": {},
   "outputs": [],
   "source": []
  }
 ],
 "metadata": {
  "kernelspec": {
   "display_name": "R",
   "language": "R",
   "name": "ir"
  },
  "language_info": {
   "codemirror_mode": "r",
   "file_extension": ".r",
   "mimetype": "text/x-r-source",
   "name": "R",
   "pygments_lexer": "r",
   "version": "4.2.1"
  }
 },
 "nbformat": 4,
 "nbformat_minor": 5
}
