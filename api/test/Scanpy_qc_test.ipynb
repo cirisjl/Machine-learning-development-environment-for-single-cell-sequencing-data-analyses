{
 "cells": [
  {
   "cell_type": "code",
   "execution_count": null,
   "id": "ec4a223e-ed45-46b5-baca-3beb6d8cc69c",
   "metadata": {},
   "outputs": [],
   "source": [
    "# !pip install louvain\n",
    "# !pip install --upgrade --no-cache psutil gputil"
   ]
  },
  {
   "cell_type": "code",
   "execution_count": 1,
   "id": "822c302a-6d82-418f-b492-441f46c5af29",
   "metadata": {},
   "outputs": [
    {
     "name": "stderr",
     "output_type": "stream",
     "text": [
      "R[write to console]: Loading required package: SingleCellExperiment\n",
      "\n",
      "R[write to console]: Loading required package: SummarizedExperiment\n",
      "\n",
      "R[write to console]: Loading required package: MatrixGenerics\n",
      "\n",
      "R[write to console]: Loading required package: matrixStats\n",
      "\n",
      "R[write to console]: \n",
      "Attaching package: ‘MatrixGenerics’\n",
      "\n",
      "\n",
      "R[write to console]: The following objects are masked from ‘package:matrixStats’:\n",
      "\n",
      "    colAlls, colAnyNAs, colAnys, colAvgsPerRowSet, colCollapse,\n",
      "    colCounts, colCummaxs, colCummins, colCumprods, colCumsums,\n",
      "    colDiffs, colIQRDiffs, colIQRs, colLogSumExps, colMadDiffs,\n",
      "    colMads, colMaxs, colMeans2, colMedians, colMins, colOrderStats,\n",
      "    colProds, colQuantiles, colRanges, colRanks, colSdDiffs, colSds,\n",
      "    colSums2, colTabulates, colVarDiffs, colVars, colWeightedMads,\n",
      "    colWeightedMeans, colWeightedMedians, colWeightedSds,\n",
      "    colWeightedVars, rowAlls, rowAnyNAs, rowAnys, rowAvgsPerColSet,\n",
      "    rowCollapse, rowCounts, rowCummaxs, rowCummins, rowCumprods,\n",
      "    rowCumsums, rowDiffs, rowIQRDiffs, rowIQRs, rowLogSumExps,\n",
      "    rowMadDiffs, rowMads, rowMaxs, rowMeans2, rowMedians, rowMins,\n",
      "    rowOrderStats, rowProds, rowQuantiles, rowRanges, rowRanks,\n",
      "    rowSdDiffs, rowSds, rowSums2, rowTabulates, rowVarDiffs, rowVars,\n",
      "    rowWeightedMads, rowWeightedMeans, rowWeightedMedians,\n",
      "    rowWeightedSds, rowWeightedVars\n",
      "\n",
      "\n",
      "R[write to console]: Loading required package: GenomicRanges\n",
      "\n",
      "R[write to console]: Loading required package: stats4\n",
      "\n",
      "R[write to console]: Loading required package: BiocGenerics\n",
      "\n",
      "R[write to console]: \n",
      "Attaching package: ‘BiocGenerics’\n",
      "\n",
      "\n",
      "R[write to console]: The following objects are masked from ‘package:stats’:\n",
      "\n",
      "    IQR, mad, sd, var, xtabs\n",
      "\n",
      "\n",
      "R[write to console]: The following objects are masked from ‘package:base’:\n",
      "\n",
      "    anyDuplicated, aperm, append, as.data.frame, basename, cbind,\n",
      "    colnames, dirname, do.call, duplicated, eval, evalq, Filter, Find,\n",
      "    get, grep, grepl, intersect, is.unsorted, lapply, Map, mapply,\n",
      "    match, mget, order, paste, pmax, pmax.int, pmin, pmin.int,\n",
      "    Position, rank, rbind, Reduce, rownames, sapply, setdiff, sort,\n",
      "    table, tapply, union, unique, unsplit, which.max, which.min\n",
      "\n",
      "\n",
      "R[write to console]: Loading required package: S4Vectors\n",
      "\n",
      "R[write to console]: \n",
      "Attaching package: ‘S4Vectors’\n",
      "\n",
      "\n",
      "R[write to console]: The following objects are masked from ‘package:base’:\n",
      "\n",
      "    expand.grid, I, unname\n",
      "\n",
      "\n",
      "R[write to console]: Loading required package: IRanges\n",
      "\n",
      "R[write to console]: Loading required package: GenomeInfoDb\n",
      "\n",
      "R[write to console]: Loading required package: Biobase\n",
      "\n",
      "R[write to console]: Welcome to Bioconductor\n",
      "\n",
      "    Vignettes contain introductory material; view with\n",
      "    'browseVignettes()'. To cite Bioconductor, see\n",
      "    'citation(\"Biobase\")', and for packages 'citation(\"pkgname\")'.\n",
      "\n",
      "\n",
      "R[write to console]: \n",
      "Attaching package: ‘Biobase’\n",
      "\n",
      "\n",
      "R[write to console]: The following object is masked from ‘package:MatrixGenerics’:\n",
      "\n",
      "    rowMedians\n",
      "\n",
      "\n",
      "R[write to console]: The following objects are masked from ‘package:matrixStats’:\n",
      "\n",
      "    anyMissing, rowMedians\n",
      "\n",
      "\n",
      "R[write to console]: Loading required package: scuttle\n",
      "\n",
      "R[write to console]: Loading required package: ggplot2\n",
      "\n"
     ]
    },
    {
     "name": "stdout",
     "output_type": "stream",
     "text": [
      "\n",
      "    WARNING: The R package \"reticulate\" only fixed recently\n",
      "    an issue that caused a segfault when used with rpy2:\n",
      "    https://github.com/rstudio/reticulate/pull/1188\n",
      "    Make sure that you use a version of that package that includes\n",
      "    the fix.\n",
      "    "
     ]
    },
    {
     "name": "stderr",
     "output_type": "stream",
     "text": [
      "R[write to console]: Attaching SeuratObject\n",
      "\n",
      "R[write to console]: Seurat v4 was just loaded with SeuratObject v5; disabling v5 assays and\n",
      "validation routines, and ensuring assays work in strict v3/v4\n",
      "compatibility mode\n",
      "\n",
      "R[write to console]: \n",
      "Attaching package: ‘Seurat’\n",
      "\n",
      "\n",
      "R[write to console]: The following object is masked from ‘package:SummarizedExperiment’:\n",
      "\n",
      "    Assays\n",
      "\n",
      "\n",
      "R[write to console]: Registered S3 method overwritten by 'SeuratDisk':\n",
      "  method            from  \n",
      "  as.sparse.H5Group Seurat\n",
      "\n",
      "R[write to console]: Signac built for for SeuratObject v4 was just loaded with SeuratObject\n",
      "v5; disabling v5 assays and validation routines, and ensuring assays\n",
      "work in strict v3/v4 compatibility mode\n",
      "\n"
     ]
    },
    {
     "name": "stdout",
     "output_type": "stream",
     "text": [
      "scanpy==1.9.5 anndata==0.9.2 umap==0.5.4 numpy==1.22.4 scipy==1.9.1 pandas==1.3.5 scikit-learn==1.3.1 statsmodels==0.14.0 igraph==0.10.8 louvain==0.8.1 pynndescent==0.5.10\n"
     ]
    }
   ],
   "source": [
    "import os\n",
    "import subprocess\n",
    "import sys\n",
    "sys.path.append('..')\n",
    "from tools.formating.formating import *\n",
    "from tools.utils.datasplit import *\n",
    "from tools.qc.scanpy_qc import *\n",
    "import numpy as np\n",
    "import scipy"
   ]
  },
  {
   "cell_type": "code",
   "execution_count": 21,
   "id": "9052ac81-a3ad-40a0-ac94-b3c8d147e7b4",
   "metadata": {},
   "outputs": [
    {
     "name": "stdout",
     "output_type": "stream",
     "text": [
      "/ps/ai-ready/data/error/droplet_Bladder_seurat_tiss.h5seurat\n",
      "convert_seurat_sce_to_anndata\n",
      "RNA\n",
      "[1] \"Inside ConvertSeuratSCEtoAnndata R function\"\n",
      "[1] \"Inside LoadSeurat\"\n"
     ]
    },
    {
     "name": "stderr",
     "output_type": "stream",
     "text": [
      "R[write to console]: Validating h5Seurat file\n",
      "\n",
      "R[write to console]: Initializing RNA with data\n",
      "\n",
      "R[write to console]: Adding counts for RNA\n",
      "\n",
      "R[write to console]: Adding miscellaneous information for RNA\n",
      "\n",
      "R[write to console]: Adding command information\n",
      "\n",
      "R[write to console]: Adding cell-level metadata\n",
      "\n",
      "R[write to console]: Adding miscellaneous information\n",
      "\n",
      "R[write to console]: Adding tool-specific results\n",
      "\n"
     ]
    },
    {
     "name": "stdout",
     "output_type": "stream",
     "text": [
      "[1] \"srat object is loaded\"\n",
      "[1] \"AnnData object is saved successfully.\"\n"
     ]
    },
    {
     "data": {
      "text/plain": [
       "AnnData object with n_obs × n_vars = 2500 × 23341\n",
       "    obs: 'orig.ident', 'n_counts', 'n_genes', 'channel', 'tissue', 'subtissue', 'mouse.sex', 'mouse.id', 'percent.ercc', 'percent.ribo', 'free_annotation', 'cell_ontology_class', 'res.0.4', 'previous_free_annotation', 'previous_cell_ontology_class', 'cluster.ids', 'cell_ontology_id'\n",
       "    var: 'name'"
      ]
     },
     "execution_count": 21,
     "metadata": {},
     "output_type": "execute_result"
    }
   ],
   "source": [
    "# input = \"/ps/ai-ready/data/Clustering/Tabula_Sapiens/TS_germ line.h5ad\"\n",
    "# input = \"/ps/ai-ready/data/Clustering/Tabula_Muris/droplet_Bladder_seurat_tiss.h5ad\"\n",
    "# input = \"/ps/ai-ready/data/error/hca_heart_neuronal_raw.h5ad\"\n",
    "# input = \"/ps/ai-ready/data/Clustering/Tabula_Sapiens/TS_Skin.h5ad\"\n",
    "input = \"/ps/ai-ready/data/error/droplet_Bladder_seurat_tiss.h5seurat\"\n",
    "# input = \"/ps/ai-ready/data/error/tung.rds\"\n",
    "adata = load_anndata(input)\n",
    "adata"
   ]
  },
  {
   "cell_type": "code",
   "execution_count": 22,
   "id": "df723e77-7175-44f2-ae3f-9cc00a5abfce",
   "metadata": {},
   "outputs": [
    {
     "data": {
      "text/html": [
       "<div>\n",
       "<style scoped>\n",
       "    .dataframe tbody tr th:only-of-type {\n",
       "        vertical-align: middle;\n",
       "    }\n",
       "\n",
       "    .dataframe tbody tr th {\n",
       "        vertical-align: top;\n",
       "    }\n",
       "\n",
       "    .dataframe thead th {\n",
       "        text-align: right;\n",
       "    }\n",
       "</style>\n",
       "<table border=\"1\" class=\"dataframe\">\n",
       "  <thead>\n",
       "    <tr style=\"text-align: right;\">\n",
       "      <th></th>\n",
       "      <th>orig.ident</th>\n",
       "      <th>n_counts</th>\n",
       "      <th>n_genes</th>\n",
       "      <th>channel</th>\n",
       "      <th>tissue</th>\n",
       "      <th>subtissue</th>\n",
       "      <th>mouse.sex</th>\n",
       "      <th>mouse.id</th>\n",
       "      <th>percent.ercc</th>\n",
       "      <th>percent.ribo</th>\n",
       "      <th>free_annotation</th>\n",
       "      <th>cell_ontology_class</th>\n",
       "      <th>res.0.4</th>\n",
       "      <th>previous_free_annotation</th>\n",
       "      <th>previous_cell_ontology_class</th>\n",
       "      <th>cluster.ids</th>\n",
       "      <th>cell_ontology_id</th>\n",
       "    </tr>\n",
       "  </thead>\n",
       "  <tbody>\n",
       "    <tr>\n",
       "      <th>10X_P4_3_AAAGTAGAGATGCCAG</th>\n",
       "      <td>10X</td>\n",
       "      <td>10291.0</td>\n",
       "      <td>2853</td>\n",
       "      <td>10X_P4_3</td>\n",
       "      <td>Bladder</td>\n",
       "      <td></td>\n",
       "      <td>M</td>\n",
       "      <td>3-M-8</td>\n",
       "      <td>0.0</td>\n",
       "      <td>0.219609</td>\n",
       "      <td>Bladder mesenchymal cell</td>\n",
       "      <td>bladder cell</td>\n",
       "      <td>0</td>\n",
       "      <td>NA</td>\n",
       "      <td>NA</td>\n",
       "      <td>0</td>\n",
       "      <td>CL:1001319</td>\n",
       "    </tr>\n",
       "    <tr>\n",
       "      <th>10X_P4_3_AACCGCGTCCAACCAA</th>\n",
       "      <td>10X</td>\n",
       "      <td>17520.0</td>\n",
       "      <td>4194</td>\n",
       "      <td>10X_P4_3</td>\n",
       "      <td>Bladder</td>\n",
       "      <td></td>\n",
       "      <td>M</td>\n",
       "      <td>3-M-8</td>\n",
       "      <td>0.0</td>\n",
       "      <td>0.176712</td>\n",
       "      <td>Bladder mesenchymal cell</td>\n",
       "      <td>bladder cell</td>\n",
       "      <td>2</td>\n",
       "      <td>NA</td>\n",
       "      <td>NA</td>\n",
       "      <td>2</td>\n",
       "      <td>CL:1001319</td>\n",
       "    </tr>\n",
       "    <tr>\n",
       "      <th>10X_P4_3_AACTCCCGTCGGGTCT</th>\n",
       "      <td>10X</td>\n",
       "      <td>12944.0</td>\n",
       "      <td>3347</td>\n",
       "      <td>10X_P4_3</td>\n",
       "      <td>Bladder</td>\n",
       "      <td></td>\n",
       "      <td>M</td>\n",
       "      <td>3-M-8</td>\n",
       "      <td>0.0</td>\n",
       "      <td>0.192444</td>\n",
       "      <td>Bladder mesenchymal cell</td>\n",
       "      <td>bladder cell</td>\n",
       "      <td>5</td>\n",
       "      <td>NA</td>\n",
       "      <td>NA</td>\n",
       "      <td>5</td>\n",
       "      <td>CL:1001319</td>\n",
       "    </tr>\n",
       "    <tr>\n",
       "      <th>10X_P4_3_AACTCTTAGTTGCAGG</th>\n",
       "      <td>10X</td>\n",
       "      <td>19594.0</td>\n",
       "      <td>3851</td>\n",
       "      <td>10X_P4_3</td>\n",
       "      <td>Bladder</td>\n",
       "      <td></td>\n",
       "      <td>M</td>\n",
       "      <td>3-M-8</td>\n",
       "      <td>0.0</td>\n",
       "      <td>0.356385</td>\n",
       "      <td>Luminal bladder epithelial cell</td>\n",
       "      <td>bladder urothelial cell</td>\n",
       "      <td>3</td>\n",
       "      <td>NA</td>\n",
       "      <td>NA</td>\n",
       "      <td>3</td>\n",
       "      <td>CL:1001428</td>\n",
       "    </tr>\n",
       "    <tr>\n",
       "      <th>10X_P4_3_AACTCTTTCATAACCG</th>\n",
       "      <td>10X</td>\n",
       "      <td>14594.0</td>\n",
       "      <td>3809</td>\n",
       "      <td>10X_P4_3</td>\n",
       "      <td>Bladder</td>\n",
       "      <td></td>\n",
       "      <td>M</td>\n",
       "      <td>3-M-8</td>\n",
       "      <td>0.0</td>\n",
       "      <td>0.157119</td>\n",
       "      <td>Bladder mesenchymal cell</td>\n",
       "      <td>bladder cell</td>\n",
       "      <td>2</td>\n",
       "      <td>NA</td>\n",
       "      <td>NA</td>\n",
       "      <td>2</td>\n",
       "      <td>CL:1001319</td>\n",
       "    </tr>\n",
       "    <tr>\n",
       "      <th>...</th>\n",
       "      <td>...</td>\n",
       "      <td>...</td>\n",
       "      <td>...</td>\n",
       "      <td>...</td>\n",
       "      <td>...</td>\n",
       "      <td>...</td>\n",
       "      <td>...</td>\n",
       "      <td>...</td>\n",
       "      <td>...</td>\n",
       "      <td>...</td>\n",
       "      <td>...</td>\n",
       "      <td>...</td>\n",
       "      <td>...</td>\n",
       "      <td>...</td>\n",
       "      <td>...</td>\n",
       "      <td>...</td>\n",
       "      <td>...</td>\n",
       "    </tr>\n",
       "    <tr>\n",
       "      <th>10X_P7_7_TTGTAGGTCATGTAGC</th>\n",
       "      <td>10X</td>\n",
       "      <td>22993.0</td>\n",
       "      <td>4296</td>\n",
       "      <td>10X_P7_7</td>\n",
       "      <td>Bladder</td>\n",
       "      <td></td>\n",
       "      <td>F</td>\n",
       "      <td>3-F-56</td>\n",
       "      <td>0.0</td>\n",
       "      <td>0.286783</td>\n",
       "      <td>Basal bladder epithelial cell</td>\n",
       "      <td>bladder urothelial cell</td>\n",
       "      <td>1</td>\n",
       "      <td>NA</td>\n",
       "      <td>NA</td>\n",
       "      <td>1</td>\n",
       "      <td>CL:1001428</td>\n",
       "    </tr>\n",
       "    <tr>\n",
       "      <th>10X_P7_7_TTTACTGGTGTTGAGG</th>\n",
       "      <td>10X</td>\n",
       "      <td>8753.0</td>\n",
       "      <td>3005</td>\n",
       "      <td>10X_P7_7</td>\n",
       "      <td>Bladder</td>\n",
       "      <td></td>\n",
       "      <td>F</td>\n",
       "      <td>3-F-56</td>\n",
       "      <td>0.0</td>\n",
       "      <td>0.120873</td>\n",
       "      <td>Bladder mesenchymal cell</td>\n",
       "      <td>bladder cell</td>\n",
       "      <td>5</td>\n",
       "      <td>NA</td>\n",
       "      <td>NA</td>\n",
       "      <td>5</td>\n",
       "      <td>CL:1001319</td>\n",
       "    </tr>\n",
       "    <tr>\n",
       "      <th>10X_P7_7_TTTCCTCCATACCATG</th>\n",
       "      <td>10X</td>\n",
       "      <td>14665.0</td>\n",
       "      <td>3778</td>\n",
       "      <td>10X_P7_7</td>\n",
       "      <td>Bladder</td>\n",
       "      <td></td>\n",
       "      <td>F</td>\n",
       "      <td>3-F-56</td>\n",
       "      <td>0.0</td>\n",
       "      <td>0.118173</td>\n",
       "      <td>Bladder mesenchymal cell</td>\n",
       "      <td>bladder cell</td>\n",
       "      <td>5</td>\n",
       "      <td>NA</td>\n",
       "      <td>NA</td>\n",
       "      <td>5</td>\n",
       "      <td>CL:1001319</td>\n",
       "    </tr>\n",
       "    <tr>\n",
       "      <th>10X_P7_7_TTTGTCAGTTACCGAT</th>\n",
       "      <td>10X</td>\n",
       "      <td>30363.0</td>\n",
       "      <td>4786</td>\n",
       "      <td>10X_P7_7</td>\n",
       "      <td>Bladder</td>\n",
       "      <td></td>\n",
       "      <td>F</td>\n",
       "      <td>3-F-56</td>\n",
       "      <td>0.0</td>\n",
       "      <td>0.307018</td>\n",
       "      <td>Basal bladder epithelial cell</td>\n",
       "      <td>bladder urothelial cell</td>\n",
       "      <td>1</td>\n",
       "      <td>NA</td>\n",
       "      <td>NA</td>\n",
       "      <td>1</td>\n",
       "      <td>CL:1001428</td>\n",
       "    </tr>\n",
       "    <tr>\n",
       "      <th>10X_P7_7_TTTGTCATCTGTGCAA</th>\n",
       "      <td>10X</td>\n",
       "      <td>16524.0</td>\n",
       "      <td>3979</td>\n",
       "      <td>10X_P7_7</td>\n",
       "      <td>Bladder</td>\n",
       "      <td></td>\n",
       "      <td>F</td>\n",
       "      <td>3-F-56</td>\n",
       "      <td>0.0</td>\n",
       "      <td>0.299504</td>\n",
       "      <td>Basal bladder epithelial cell</td>\n",
       "      <td>bladder urothelial cell</td>\n",
       "      <td>1</td>\n",
       "      <td>NA</td>\n",
       "      <td>NA</td>\n",
       "      <td>1</td>\n",
       "      <td>CL:1001428</td>\n",
       "    </tr>\n",
       "  </tbody>\n",
       "</table>\n",
       "<p>2500 rows × 17 columns</p>\n",
       "</div>"
      ],
      "text/plain": [
       "                          orig.ident  n_counts  n_genes   channel   tissue  \\\n",
       "10X_P4_3_AAAGTAGAGATGCCAG        10X   10291.0     2853  10X_P4_3  Bladder   \n",
       "10X_P4_3_AACCGCGTCCAACCAA        10X   17520.0     4194  10X_P4_3  Bladder   \n",
       "10X_P4_3_AACTCCCGTCGGGTCT        10X   12944.0     3347  10X_P4_3  Bladder   \n",
       "10X_P4_3_AACTCTTAGTTGCAGG        10X   19594.0     3851  10X_P4_3  Bladder   \n",
       "10X_P4_3_AACTCTTTCATAACCG        10X   14594.0     3809  10X_P4_3  Bladder   \n",
       "...                              ...       ...      ...       ...      ...   \n",
       "10X_P7_7_TTGTAGGTCATGTAGC        10X   22993.0     4296  10X_P7_7  Bladder   \n",
       "10X_P7_7_TTTACTGGTGTTGAGG        10X    8753.0     3005  10X_P7_7  Bladder   \n",
       "10X_P7_7_TTTCCTCCATACCATG        10X   14665.0     3778  10X_P7_7  Bladder   \n",
       "10X_P7_7_TTTGTCAGTTACCGAT        10X   30363.0     4786  10X_P7_7  Bladder   \n",
       "10X_P7_7_TTTGTCATCTGTGCAA        10X   16524.0     3979  10X_P7_7  Bladder   \n",
       "\n",
       "                          subtissue mouse.sex mouse.id  percent.ercc  \\\n",
       "10X_P4_3_AAAGTAGAGATGCCAG                   M    3-M-8           0.0   \n",
       "10X_P4_3_AACCGCGTCCAACCAA                   M    3-M-8           0.0   \n",
       "10X_P4_3_AACTCCCGTCGGGTCT                   M    3-M-8           0.0   \n",
       "10X_P4_3_AACTCTTAGTTGCAGG                   M    3-M-8           0.0   \n",
       "10X_P4_3_AACTCTTTCATAACCG                   M    3-M-8           0.0   \n",
       "...                             ...       ...      ...           ...   \n",
       "10X_P7_7_TTGTAGGTCATGTAGC                   F   3-F-56           0.0   \n",
       "10X_P7_7_TTTACTGGTGTTGAGG                   F   3-F-56           0.0   \n",
       "10X_P7_7_TTTCCTCCATACCATG                   F   3-F-56           0.0   \n",
       "10X_P7_7_TTTGTCAGTTACCGAT                   F   3-F-56           0.0   \n",
       "10X_P7_7_TTTGTCATCTGTGCAA                   F   3-F-56           0.0   \n",
       "\n",
       "                           percent.ribo                  free_annotation  \\\n",
       "10X_P4_3_AAAGTAGAGATGCCAG      0.219609         Bladder mesenchymal cell   \n",
       "10X_P4_3_AACCGCGTCCAACCAA      0.176712         Bladder mesenchymal cell   \n",
       "10X_P4_3_AACTCCCGTCGGGTCT      0.192444         Bladder mesenchymal cell   \n",
       "10X_P4_3_AACTCTTAGTTGCAGG      0.356385  Luminal bladder epithelial cell   \n",
       "10X_P4_3_AACTCTTTCATAACCG      0.157119         Bladder mesenchymal cell   \n",
       "...                                 ...                              ...   \n",
       "10X_P7_7_TTGTAGGTCATGTAGC      0.286783    Basal bladder epithelial cell   \n",
       "10X_P7_7_TTTACTGGTGTTGAGG      0.120873         Bladder mesenchymal cell   \n",
       "10X_P7_7_TTTCCTCCATACCATG      0.118173         Bladder mesenchymal cell   \n",
       "10X_P7_7_TTTGTCAGTTACCGAT      0.307018    Basal bladder epithelial cell   \n",
       "10X_P7_7_TTTGTCATCTGTGCAA      0.299504    Basal bladder epithelial cell   \n",
       "\n",
       "                               cell_ontology_class res.0.4  \\\n",
       "10X_P4_3_AAAGTAGAGATGCCAG             bladder cell       0   \n",
       "10X_P4_3_AACCGCGTCCAACCAA             bladder cell       2   \n",
       "10X_P4_3_AACTCCCGTCGGGTCT             bladder cell       5   \n",
       "10X_P4_3_AACTCTTAGTTGCAGG  bladder urothelial cell       3   \n",
       "10X_P4_3_AACTCTTTCATAACCG             bladder cell       2   \n",
       "...                                            ...     ...   \n",
       "10X_P7_7_TTGTAGGTCATGTAGC  bladder urothelial cell       1   \n",
       "10X_P7_7_TTTACTGGTGTTGAGG             bladder cell       5   \n",
       "10X_P7_7_TTTCCTCCATACCATG             bladder cell       5   \n",
       "10X_P7_7_TTTGTCAGTTACCGAT  bladder urothelial cell       1   \n",
       "10X_P7_7_TTTGTCATCTGTGCAA  bladder urothelial cell       1   \n",
       "\n",
       "                          previous_free_annotation  \\\n",
       "10X_P4_3_AAAGTAGAGATGCCAG                       NA   \n",
       "10X_P4_3_AACCGCGTCCAACCAA                       NA   \n",
       "10X_P4_3_AACTCCCGTCGGGTCT                       NA   \n",
       "10X_P4_3_AACTCTTAGTTGCAGG                       NA   \n",
       "10X_P4_3_AACTCTTTCATAACCG                       NA   \n",
       "...                                            ...   \n",
       "10X_P7_7_TTGTAGGTCATGTAGC                       NA   \n",
       "10X_P7_7_TTTACTGGTGTTGAGG                       NA   \n",
       "10X_P7_7_TTTCCTCCATACCATG                       NA   \n",
       "10X_P7_7_TTTGTCAGTTACCGAT                       NA   \n",
       "10X_P7_7_TTTGTCATCTGTGCAA                       NA   \n",
       "\n",
       "                          previous_cell_ontology_class cluster.ids  \\\n",
       "10X_P4_3_AAAGTAGAGATGCCAG                           NA           0   \n",
       "10X_P4_3_AACCGCGTCCAACCAA                           NA           2   \n",
       "10X_P4_3_AACTCCCGTCGGGTCT                           NA           5   \n",
       "10X_P4_3_AACTCTTAGTTGCAGG                           NA           3   \n",
       "10X_P4_3_AACTCTTTCATAACCG                           NA           2   \n",
       "...                                                ...         ...   \n",
       "10X_P7_7_TTGTAGGTCATGTAGC                           NA           1   \n",
       "10X_P7_7_TTTACTGGTGTTGAGG                           NA           5   \n",
       "10X_P7_7_TTTCCTCCATACCATG                           NA           5   \n",
       "10X_P7_7_TTTGTCAGTTACCGAT                           NA           1   \n",
       "10X_P7_7_TTTGTCATCTGTGCAA                           NA           1   \n",
       "\n",
       "                          cell_ontology_id  \n",
       "10X_P4_3_AAAGTAGAGATGCCAG       CL:1001319  \n",
       "10X_P4_3_AACCGCGTCCAACCAA       CL:1001319  \n",
       "10X_P4_3_AACTCCCGTCGGGTCT       CL:1001319  \n",
       "10X_P4_3_AACTCTTAGTTGCAGG       CL:1001428  \n",
       "10X_P4_3_AACTCTTTCATAACCG       CL:1001319  \n",
       "...                                    ...  \n",
       "10X_P7_7_TTGTAGGTCATGTAGC       CL:1001428  \n",
       "10X_P7_7_TTTACTGGTGTTGAGG       CL:1001319  \n",
       "10X_P7_7_TTTCCTCCATACCATG       CL:1001319  \n",
       "10X_P7_7_TTTGTCAGTTACCGAT       CL:1001428  \n",
       "10X_P7_7_TTTGTCATCTGTGCAA       CL:1001428  \n",
       "\n",
       "[2500 rows x 17 columns]"
      ]
     },
     "execution_count": 22,
     "metadata": {},
     "output_type": "execute_result"
    }
   ],
   "source": [
    "adata.obs"
   ]
  },
  {
   "cell_type": "code",
   "execution_count": null,
   "id": "d43a3f1d-8298-4a28-b925-e5e2d2312d37",
   "metadata": {},
   "outputs": [],
   "source": [
    "adata.obs.index.get_loc('TCGACGGGTACGAGCA-1-HCAHeart8287128')"
   ]
  },
  {
   "cell_type": "code",
   "execution_count": null,
   "id": "7dac16d6-16fc-476f-a2a1-ca7f94c0a069",
   "metadata": {},
   "outputs": [],
   "source": [
    "type(adata.X)"
   ]
  },
  {
   "cell_type": "code",
   "execution_count": null,
   "id": "89fb38c4-1c32-42d8-8974-b2043a5f0350",
   "metadata": {},
   "outputs": [],
   "source": [
    "adata.X.toarray()"
   ]
  },
  {
   "cell_type": "code",
   "execution_count": null,
   "id": "58734396-60e2-42bd-be9b-0dfee1b439b9",
   "metadata": {},
   "outputs": [],
   "source": [
    "adata.layers['raw_counts'].toarray()"
   ]
  },
  {
   "cell_type": "code",
   "execution_count": null,
   "id": "9265086b-c914-46db-a518-a84d1187668a",
   "metadata": {},
   "outputs": [],
   "source": [
    "adata.raw.X.toarray()"
   ]
  },
  {
   "cell_type": "code",
   "execution_count": null,
   "id": "badb46da-07af-4b95-b04d-103bcd67a887",
   "metadata": {},
   "outputs": [],
   "source": [
    "\"raw_counts\" in adata.layers.keys()"
   ]
  },
  {
   "cell_type": "code",
   "execution_count": null,
   "id": "88ae2fe5-a3a4-43a0-88ec-379c0b19687c",
   "metadata": {},
   "outputs": [],
   "source": [
    "isinstance(adata.X, csr_matrix)"
   ]
  },
  {
   "cell_type": "code",
   "execution_count": null,
   "id": "e4ce5f3b-d169-4767-a2a1-ac1a69fcd00f",
   "metadata": {
    "scrolled": true
   },
   "outputs": [],
   "source": [
    "np.set_printoptions(threshold=np.inf)\n",
    "adata.X.toarray()[5,:]"
   ]
  },
  {
   "cell_type": "code",
   "execution_count": null,
   "id": "c1dd9530-f183-416c-82d9-c90f2c2fa86f",
   "metadata": {},
   "outputs": [],
   "source": [
    "type(adata.X.toarray())"
   ]
  },
  {
   "cell_type": "code",
   "execution_count": null,
   "id": "3ca42445-c849-4cc9-8d17-c97c989d4750",
   "metadata": {},
   "outputs": [],
   "source": [
    "isinstance(adata.X.toarray(), np.ndarray)"
   ]
  },
  {
   "cell_type": "code",
   "execution_count": null,
   "id": "15e4d0f7-3ca6-406d-ade3-4357fef35df2",
   "metadata": {},
   "outputs": [],
   "source": [
    "np.max(adata.X)"
   ]
  },
  {
   "cell_type": "code",
   "execution_count": null,
   "id": "0407e4dc-fc95-4e4a-87b1-04a12aebca94",
   "metadata": {},
   "outputs": [],
   "source": [
    "np.min(adata.X)"
   ]
  },
  {
   "cell_type": "code",
   "execution_count": null,
   "id": "8da38cb4-86fa-40ca-b953-686dc4b5e3d3",
   "metadata": {},
   "outputs": [],
   "source": [
    "from scipy.sparse import csr_matrix, find\n",
    "find(adata.X)"
   ]
  },
  {
   "cell_type": "code",
   "execution_count": null,
   "id": "91ad8ad7-fe12-46be-9721-697db5c9e033",
   "metadata": {},
   "outputs": [],
   "source": [
    "from scipy import stats\n",
    "stats.describe(adata.X.toarray())"
   ]
  },
  {
   "cell_type": "code",
   "execution_count": null,
   "id": "0e0ec0eb-1282-4557-8804-8324b08a56d2",
   "metadata": {},
   "outputs": [],
   "source": [
    "np.median(adata.X.toarray())"
   ]
  },
  {
   "cell_type": "code",
   "execution_count": 14,
   "id": "3897f566-44dd-4055-bb5e-48c960ec6fa6",
   "metadata": {},
   "outputs": [],
   "source": [
    "min_genes=200\n",
    "min_cells=3\n",
    "target_sum=1e4\n",
    "n_neighbors=10\n",
    "n_pcs=40\n",
    "max_genes=0"
   ]
  },
  {
   "cell_type": "code",
   "execution_count": 24,
   "id": "13e2862f-3c23-413f-acf1-b4fc53c267c4",
   "metadata": {},
   "outputs": [
    {
     "name": "stdout",
     "output_type": "stream",
     "text": [
      "filtered out 7956 genes that are detected in less than 3 cells\n"
     ]
    }
   ],
   "source": [
    "sc.pp.filter_cells(adata, min_genes=min_genes)\n",
    "if max_genes is not None and max_genes != 0:\n",
    "    sc.pp.filter_cells(adata, max_genes=max_genes)\n",
    "sc.pp.filter_genes(adata, min_cells=min_cells)"
   ]
  },
  {
   "cell_type": "code",
   "execution_count": 26,
   "id": "dcefb783-8ce3-4c35-8335-c9dd2b43cba7",
   "metadata": {},
   "outputs": [],
   "source": [
    "adata.var['mt']=adata.var_names.str.startswith('MT-')\n",
    "adata.var[\"ribo\"] = adata.var_names.str.startswith((\"RPS\", \"RPL\"))\n",
    "adata.var[\"hb\"] = adata.var_names.str.contains((\"^HB[^(P)]\"))"
   ]
  },
  {
   "cell_type": "code",
   "execution_count": 25,
   "id": "33e5cbd5-e7c6-48df-b8ed-6c8b43de7be5",
   "metadata": {},
   "outputs": [
    {
     "data": {
      "text/html": [
       "<div>\n",
       "<style scoped>\n",
       "    .dataframe tbody tr th:only-of-type {\n",
       "        vertical-align: middle;\n",
       "    }\n",
       "\n",
       "    .dataframe tbody tr th {\n",
       "        vertical-align: top;\n",
       "    }\n",
       "\n",
       "    .dataframe thead th {\n",
       "        text-align: right;\n",
       "    }\n",
       "</style>\n",
       "<table border=\"1\" class=\"dataframe\">\n",
       "  <thead>\n",
       "    <tr style=\"text-align: right;\">\n",
       "      <th></th>\n",
       "      <th>name</th>\n",
       "      <th>n_cells</th>\n",
       "    </tr>\n",
       "  </thead>\n",
       "  <tbody>\n",
       "    <tr>\n",
       "      <th>Xkr4</th>\n",
       "      <td>Xkr4</td>\n",
       "      <td>4</td>\n",
       "    </tr>\n",
       "    <tr>\n",
       "      <th>Sox17</th>\n",
       "      <td>Sox17</td>\n",
       "      <td>38</td>\n",
       "    </tr>\n",
       "    <tr>\n",
       "      <th>Mrpl15</th>\n",
       "      <td>Mrpl15</td>\n",
       "      <td>766</td>\n",
       "    </tr>\n",
       "    <tr>\n",
       "      <th>Lypla1</th>\n",
       "      <td>Lypla1</td>\n",
       "      <td>948</td>\n",
       "    </tr>\n",
       "    <tr>\n",
       "      <th>Tcea1</th>\n",
       "      <td>Tcea1</td>\n",
       "      <td>1452</td>\n",
       "    </tr>\n",
       "    <tr>\n",
       "      <th>...</th>\n",
       "      <td>...</td>\n",
       "      <td>...</td>\n",
       "    </tr>\n",
       "    <tr>\n",
       "      <th>Kdm5d</th>\n",
       "      <td>Kdm5d</td>\n",
       "      <td>148</td>\n",
       "    </tr>\n",
       "    <tr>\n",
       "      <th>Eif2s3y</th>\n",
       "      <td>Eif2s3y</td>\n",
       "      <td>784</td>\n",
       "    </tr>\n",
       "    <tr>\n",
       "      <th>Uty</th>\n",
       "      <td>Uty</td>\n",
       "      <td>136</td>\n",
       "    </tr>\n",
       "    <tr>\n",
       "      <th>Ddx3y</th>\n",
       "      <td>Ddx3y</td>\n",
       "      <td>1316</td>\n",
       "    </tr>\n",
       "    <tr>\n",
       "      <th>Erdr1</th>\n",
       "      <td>Erdr1</td>\n",
       "      <td>1294</td>\n",
       "    </tr>\n",
       "  </tbody>\n",
       "</table>\n",
       "<p>15385 rows × 2 columns</p>\n",
       "</div>"
      ],
      "text/plain": [
       "            name  n_cells\n",
       "Xkr4        Xkr4        4\n",
       "Sox17      Sox17       38\n",
       "Mrpl15    Mrpl15      766\n",
       "Lypla1    Lypla1      948\n",
       "Tcea1      Tcea1     1452\n",
       "...          ...      ...\n",
       "Kdm5d      Kdm5d      148\n",
       "Eif2s3y  Eif2s3y      784\n",
       "Uty          Uty      136\n",
       "Ddx3y      Ddx3y     1316\n",
       "Erdr1      Erdr1     1294\n",
       "\n",
       "[15385 rows x 2 columns]"
      ]
     },
     "execution_count": 25,
     "metadata": {},
     "output_type": "execute_result"
    }
   ],
   "source": [
    "adata.var"
   ]
  },
  {
   "cell_type": "code",
   "execution_count": 20,
   "id": "5666eab4-8ac6-47e0-a785-27e945134563",
   "metadata": {},
   "outputs": [
    {
     "data": {
      "text/html": [
       "<div>\n",
       "<style scoped>\n",
       "    .dataframe tbody tr th:only-of-type {\n",
       "        vertical-align: middle;\n",
       "    }\n",
       "\n",
       "    .dataframe tbody tr th {\n",
       "        vertical-align: top;\n",
       "    }\n",
       "\n",
       "    .dataframe thead th {\n",
       "        text-align: right;\n",
       "    }\n",
       "</style>\n",
       "<table border=\"1\" class=\"dataframe\">\n",
       "  <thead>\n",
       "    <tr style=\"text-align: right;\">\n",
       "      <th></th>\n",
       "      <th>orig.ident</th>\n",
       "      <th>n_counts</th>\n",
       "      <th>n_genes</th>\n",
       "      <th>channel</th>\n",
       "      <th>tissue</th>\n",
       "      <th>subtissue</th>\n",
       "      <th>mouse.sex</th>\n",
       "      <th>mouse.id</th>\n",
       "      <th>percent.ercc</th>\n",
       "      <th>percent.ribo</th>\n",
       "      <th>...</th>\n",
       "      <th>total_counts_ribo</th>\n",
       "      <th>log1p_total_counts_ribo</th>\n",
       "      <th>pct_counts_ribo</th>\n",
       "      <th>total_counts_hb</th>\n",
       "      <th>log1p_total_counts_hb</th>\n",
       "      <th>pct_counts_hb</th>\n",
       "      <th>outlier</th>\n",
       "      <th>mt_outlier</th>\n",
       "      <th>doublet_scores</th>\n",
       "      <th>predicted_doublets</th>\n",
       "    </tr>\n",
       "  </thead>\n",
       "  <tbody>\n",
       "  </tbody>\n",
       "</table>\n",
       "<p>0 rows × 35 columns</p>\n",
       "</div>"
      ],
      "text/plain": [
       "Empty DataFrame\n",
       "Columns: [orig.ident, n_counts, n_genes, channel, tissue, subtissue, mouse.sex, mouse.id, percent.ercc, percent.ribo, free_annotation, cell_ontology_class, res.0.4, previous_free_annotation, previous_cell_ontology_class, cluster.ids, cell_ontology_id, n_genes_by_counts, log1p_n_genes_by_counts, total_counts, log1p_total_counts, pct_counts_in_top_20_genes, total_counts_mt, log1p_total_counts_mt, pct_counts_mt, total_counts_ribo, log1p_total_counts_ribo, pct_counts_ribo, total_counts_hb, log1p_total_counts_hb, pct_counts_hb, outlier, mt_outlier, doublet_scores, predicted_doublets]\n",
       "Index: []\n",
       "\n",
       "[0 rows x 35 columns]"
      ]
     },
     "execution_count": 20,
     "metadata": {},
     "output_type": "execute_result"
    }
   ],
   "source": [
    "adata.obs"
   ]
  },
  {
   "cell_type": "code",
   "execution_count": 27,
   "id": "e7e7ee6b-00dd-4033-82bf-2e55b3e55031",
   "metadata": {},
   "outputs": [],
   "source": [
    "sc.pp.calculate_qc_metrics(adata, qc_vars=[\"mt\", \"ribo\", \"hb\"], inplace=True, percent_top=[20], log1p=True)"
   ]
  },
  {
   "cell_type": "code",
   "execution_count": 4,
   "id": "757ece84-5e10-4e8c-ae69-0584d062aaaf",
   "metadata": {},
   "outputs": [
    {
     "name": "stdout",
     "output_type": "stream",
     "text": [
      "filtered out 7956 genes that are detected in less than 3 cells\n",
      "Total number of cells: 2500\n",
      "Number of cells after filtering of low quality cells: 2441\n"
     ]
    },
    {
     "data": {
      "text/plain": [
       "<2441x15385 sparse matrix of type '<class 'numpy.float32'>'\n",
       "\twith 7513087 stored elements in Compressed Sparse Column format>"
      ]
     },
     "execution_count": 4,
     "metadata": {},
     "output_type": "execute_result"
    }
   ],
   "source": [
    "adata.var_names_make_unique() \n",
    "\n",
    "# Filtering low quality reads\n",
    "sc.pp.filter_cells(adata, min_genes=min_genes)\n",
    "sc.pp.filter_genes(adata, min_cells=min_cells)\n",
    "# mitochondrial genes\n",
    "adata.var['mt']=adata.var_names.str.startswith('MT-')\n",
    "# ribosomal genes\n",
    "adata.var[\"ribo\"] = adata.var_names.str.startswith((\"RPS\", \"RPL\"))\n",
    "# hemoglobin genes.\n",
    "adata.var[\"hb\"] = adata.var_names.str.contains((\"^HB[^(P)]\"))\n",
    "sc.pp.calculate_qc_metrics(adata, qc_vars=[\"mt\", \"ribo\", \"hb\"], inplace=True, percent_top=[20], log1p=True)\n",
    "\n",
    "adata.obs[\"outlier\"] = (\n",
    "    is_outlier(adata, \"log1p_total_counts\", 5)\n",
    "    | is_outlier(adata, \"log1p_n_genes_by_counts\", 5)\n",
    "    | is_outlier(adata, \"pct_counts_in_top_20_genes\", 5)\n",
    ")\n",
    "adata.obs.outlier.value_counts()\n",
    "\n",
    "adata.obs[\"mt_outlier\"] = is_outlier(adata, \"pct_counts_mt\", 3) | (\n",
    "    adata.obs[\"pct_counts_mt\"] > 8\n",
    ")\n",
    "adata.obs.mt_outlier.value_counts()\n",
    "\n",
    "print(f\"Total number of cells: {adata.n_obs}\")\n",
    "adata = adata[(~adata.obs.outlier) & (~adata.obs.mt_outlier)].copy()\n",
    "\n",
    "print(f\"Number of cells after filtering of low quality cells: {adata.n_obs}\")\n",
    "adata.X"
   ]
  },
  {
   "cell_type": "code",
   "execution_count": 6,
   "id": "9e9b490a-470e-40de-8437-d82d1b95e053",
   "metadata": {},
   "outputs": [
    {
     "name": "stdout",
     "output_type": "stream",
     "text": [
      "Preprocessing...\n",
      "Simulating doublets...\n",
      "Embedding transcriptomes using PCA...\n",
      "Calculating doublet scores...\n",
      "Automatically set threshold at doublet score = 0.41\n",
      "Detected doublet rate = 0.7%\n",
      "Estimated detectable doublet fraction = 45.9%\n",
      "Overall doublet rate:\n",
      "\tExpected   = 7.6%\n",
      "\tEstimated  = 1.5%\n",
      "Elapsed time: 4.7 seconds\n",
      "normalizing counts per cell\n",
      "    finished (0:00:00)\n"
     ]
    }
   ],
   "source": [
    "# adata=adata[adata.obs.n_genes_by_counts < 2500, :]\n",
    "# adata=adata[adata.obs.pct_counts_mt < 5, :]\n",
    "import scrublet as scr\n",
    "scrub = scr.Scrublet(adata.X, expected_doublet_rate = 0.076)\n",
    "adata.obs['doublet_scores'], adata.obs['predicted_doublets'] = scrub.scrub_doublets(min_counts=2, min_cells=3, \n",
    "                                                        min_gene_variability_pctl=85, n_prin_comps=30)\n",
    "adata.obs['predicted_doublets'].value_counts()\n",
    "# adata=adata[adata.obs.predicted_doublets==\"False\", :]\n",
    "\n",
    "sc.pp.normalize_total(adata, target_sum=target_sum)\n",
    "\n",
    "sc.pp.log1p(adata)"
   ]
  },
  {
   "cell_type": "code",
   "execution_count": null,
   "id": "b54e2880-b251-49be-b540-331356b7a3be",
   "metadata": {},
   "outputs": [],
   "source": [
    "adata.X"
   ]
  },
  {
   "cell_type": "code",
   "execution_count": null,
   "id": "630d197e-ff22-406b-937c-7d3bb2c9e6a8",
   "metadata": {},
   "outputs": [],
   "source": [
    "sc.pp.highly_variable_genes(adata)"
   ]
  },
  {
   "cell_type": "code",
   "execution_count": 7,
   "id": "97ab1140-e486-4601-a5af-f38bc23cb5f9",
   "metadata": {},
   "outputs": [
    {
     "name": "stdout",
     "output_type": "stream",
     "text": [
      "Preprocessing...\n",
      "Simulating doublets...\n",
      "Embedding transcriptomes using PCA...\n",
      "Calculating doublet scores...\n",
      "Automatically set threshold at doublet score = 0.44\n",
      "Detected doublet rate = 0.5%\n",
      "Estimated detectable doublet fraction = 52.9%\n",
      "Overall doublet rate:\n",
      "\tExpected   = 7.6%\n",
      "\tEstimated  = 0.9%\n",
      "Elapsed time: 2.7 seconds\n"
     ]
    },
    {
     "data": {
      "text/plain": [
       "False    2430\n",
       "True       11\n",
       "Name: predicted_doublets, dtype: int64"
      ]
     },
     "execution_count": 7,
     "metadata": {},
     "output_type": "execute_result"
    }
   ],
   "source": [
    "import scrublet as scr\n",
    "scrub = scr.Scrublet(adata.X, expected_doublet_rate = 0.076)\n",
    "adata.obs['doublet_scores'], adata.obs['predicted_doublets'] = scrub.scrub_doublets(min_counts=2, min_cells=3, \n",
    "                                                        min_gene_variability_pctl=85, n_prin_comps=30)\n",
    "adata.obs['predicted_doublets'].value_counts()"
   ]
  },
  {
   "cell_type": "code",
   "execution_count": null,
   "id": "2ebd4fa4-5e72-4932-9698-b0aec52cbd9e",
   "metadata": {},
   "outputs": [],
   "source": [
    "adata=adata[adata.obs.predicted_doublets==False, :]\n",
    "adata"
   ]
  },
  {
   "cell_type": "code",
   "execution_count": null,
   "id": "66085716-e995-4b6b-a16c-0c4023773e1c",
   "metadata": {},
   "outputs": [],
   "source": [
    "adata = run_scanpy_qc(adata)\n",
    "adata"
   ]
  },
  {
   "cell_type": "code",
   "execution_count": null,
   "id": "199fbc39-8102-44ca-8684-658ef098fa4b",
   "metadata": {},
   "outputs": [],
   "source": [
    "adata.X"
   ]
  },
  {
   "cell_type": "code",
   "execution_count": null,
   "id": "75f4a841-b729-4c9b-9298-c609389a2f02",
   "metadata": {},
   "outputs": [],
   "source": [
    "isinstance(adata.X, np.ndarray)"
   ]
  },
  {
   "cell_type": "code",
   "execution_count": null,
   "id": "84df42a4-ce23-46bf-bbe2-20719617d5ce",
   "metadata": {},
   "outputs": [],
   "source": [
    "adata = run_dimension_reduction(adata, layer=\"log10k\")\n",
    "adata"
   ]
  },
  {
   "cell_type": "code",
   "execution_count": null,
   "id": "38cae84a-42bc-4781-8bf4-755a6f658b4f",
   "metadata": {},
   "outputs": [],
   "source": [
    "adata.layers[\"raw_counts\"].toarray()"
   ]
  },
  {
   "cell_type": "code",
   "execution_count": null,
   "id": "929abb81-17bc-43e5-a525-0520ca76b87d",
   "metadata": {},
   "outputs": [],
   "source": [
    "adata.X.toarray()"
   ]
  },
  {
   "cell_type": "code",
   "execution_count": null,
   "id": "219f740e-3914-43ba-ae6b-afce0ba33347",
   "metadata": {},
   "outputs": [],
   "source": [
    "adata.layers[\"log10k\"] = adata.X"
   ]
  },
  {
   "cell_type": "code",
   "execution_count": null,
   "id": "0dd4bbce-1e55-4bc3-b8b1-96f53918e90b",
   "metadata": {},
   "outputs": [],
   "source": [
    "del adata.layers[\"X\"]\n",
    "adata"
   ]
  },
  {
   "cell_type": "code",
   "execution_count": null,
   "id": "3fc034d5-eb46-4ae5-be4c-73a944bef853",
   "metadata": {},
   "outputs": [],
   "source": [
    "adata.uns"
   ]
  },
  {
   "cell_type": "code",
   "execution_count": null,
   "id": "b3b8a37d-fdf1-4db5-a2e6-415f5855ceb2",
   "metadata": {},
   "outputs": [],
   "source": [
    "adata.obs"
   ]
  },
  {
   "cell_type": "code",
   "execution_count": null,
   "id": "3fc2f442-bef9-4bd7-95a2-598d588d582a",
   "metadata": {},
   "outputs": [],
   "source": [
    "adata.obsm['log10k_umap'].shape"
   ]
  },
  {
   "cell_type": "code",
   "execution_count": null,
   "id": "2198d730-fe7a-418e-928e-efaa099267bb",
   "metadata": {},
   "outputs": [],
   "source": [
    "adata.raw.X.toarray()"
   ]
  },
  {
   "cell_type": "code",
   "execution_count": null,
   "id": "9a993b8d-c1a7-4929-80b0-2b1e288d994d",
   "metadata": {},
   "outputs": [],
   "source": [
    "adata.var.index"
   ]
  },
  {
   "cell_type": "code",
   "execution_count": null,
   "id": "cc929d7e-ab85-4597-998d-a0be78bd7c61",
   "metadata": {},
   "outputs": [],
   "source": [
    "type(adata.obs['total_counts'].tolist())"
   ]
  },
  {
   "cell_type": "code",
   "execution_count": null,
   "id": "d09c9197-1e8b-4369-b946-0b4a027a17ab",
   "metadata": {},
   "outputs": [],
   "source": [
    "adata.obs['n_counts']"
   ]
  },
  {
   "cell_type": "code",
   "execution_count": null,
   "id": "5346082c-b403-4f21-bf56-73d73dae7a0d",
   "metadata": {},
   "outputs": [],
   "source": [
    "'pct_counts_mt' in adata.obs.columns"
   ]
  },
  {
   "cell_type": "code",
   "execution_count": null,
   "id": "5d861d56-de21-4537-9445-c3e462387cae",
   "metadata": {},
   "outputs": [],
   "source": [
    "adata.obs_vector('pct_counts_mt')"
   ]
  },
  {
   "cell_type": "code",
   "execution_count": null,
   "id": "73353f83-f27d-4690-93fb-acf8733c0f98",
   "metadata": {},
   "outputs": [],
   "source": [
    "train, test = sc_train_test_split(adata, train_fraction=0.8)"
   ]
  },
  {
   "cell_type": "code",
   "execution_count": null,
   "id": "bc2b5718-91a6-4e03-a778-10333079882d",
   "metadata": {},
   "outputs": [],
   "source": [
    "train, val, test = sc_train_val_test_split(adata, train_fraction=0.8, validation_fraction=0.1, test_fraction=0.1)"
   ]
  },
  {
   "cell_type": "code",
   "execution_count": null,
   "id": "78f9ab48-0bcd-43be-85cd-9c95c0c0cbc8",
   "metadata": {},
   "outputs": [],
   "source": [
    "train"
   ]
  },
  {
   "cell_type": "code",
   "execution_count": null,
   "id": "b67c1340-36d1-482b-8b1a-a87b50ddd218",
   "metadata": {},
   "outputs": [],
   "source": [
    "val"
   ]
  },
  {
   "cell_type": "code",
   "execution_count": null,
   "id": "ca43458a-9ae2-48b6-b725-6d1636c36d01",
   "metadata": {},
   "outputs": [],
   "source": [
    "test"
   ]
  },
  {
   "cell_type": "code",
   "execution_count": null,
   "id": "ac0ee403-863f-4389-b0a8-3654989355c7",
   "metadata": {},
   "outputs": [],
   "source": [
    "test.X.toarray()"
   ]
  },
  {
   "cell_type": "code",
   "execution_count": null,
   "id": "d12148e4-1e01-4720-ad3b-c5c1fec29fde",
   "metadata": {},
   "outputs": [],
   "source": [
    "test.layers[\"raw_counts\"].toarray()"
   ]
  },
  {
   "cell_type": "code",
   "execution_count": null,
   "id": "5c81f8af-9232-439e-8ee4-876c7e6c82ca",
   "metadata": {},
   "outputs": [],
   "source": [
    "test.write_h5ad(filename=\"/ps/ai-ready/data/Clustering/Tabula_Sapiens/TS_Skin_test.h5ad\", compression='gzip')"
   ]
  },
  {
   "cell_type": "code",
   "execution_count": null,
   "id": "5d0979b2-194f-4cef-8888-df4d7d239503",
   "metadata": {},
   "outputs": [],
   "source": [
    "adata = run_dimension_reduction(adata)"
   ]
  },
  {
   "cell_type": "code",
   "execution_count": null,
   "id": "472336af-b147-458e-967b-58280dc82bc0",
   "metadata": {},
   "outputs": [],
   "source": [
    "# from sklearn.cluster import KMeans\n",
    "from sklearn.metrics import adjusted_rand_score as ARI\n",
    "from sklearn.metrics import normalized_mutual_info_score as NMI\n",
    "from sklearn.metrics import silhouette_score\n",
    "# from sklearn.mixture import GaussianMixture as GMM\n",
    "\n",
    "def clustering_scores(labels, labels_pred, embedding):\n",
    "    asw_score = silhouette_score(embedding, labels)\n",
    "    nmi_score = NMI(labels, labels_pred)\n",
    "    ari_score = ARI(labels, labels_pred)\n",
    "    print(\n",
    "        \"Clustering Scores:\\nSilhouette: %.4f\\nNMI: %.4f\\nARI: %.4f\"\n",
    "        % (asw_score, nmi_score, ari_score)\n",
    "    )\n",
    "    return asw_score, nmi_score, ari_score"
   ]
  },
  {
   "cell_type": "code",
   "execution_count": null,
   "id": "954bf4b6-3ccd-413a-871a-a3e71c92d418",
   "metadata": {},
   "outputs": [],
   "source": [
    "asw_score, nmi_score, ari_score = clustering_scores(adata.obs[\"cell_ontology_class\"], adata.obs[\"leiden\"], adata.obsp['connectivities'])"
   ]
  },
  {
   "cell_type": "code",
   "execution_count": null,
   "id": "1128154f-8200-4e58-b96e-46610e426053",
   "metadata": {},
   "outputs": [],
   "source": [
    "adata.obsp['connectivities'].toarray()"
   ]
  },
  {
   "cell_type": "code",
   "execution_count": null,
   "id": "a9627222-8589-4b45-87b2-d05e4b7593d8",
   "metadata": {},
   "outputs": [],
   "source": [
    "test.layers[\"log10k\"].shape"
   ]
  },
  {
   "cell_type": "code",
   "execution_count": null,
   "id": "d5f05730-8b20-4b1d-9115-a9566b50ac78",
   "metadata": {},
   "outputs": [],
   "source": [
    "from scipy.sparse import csr_matrix\n",
    "test.X = csr_matrix(test.X)\n",
    "test.X"
   ]
  },
  {
   "cell_type": "code",
   "execution_count": null,
   "id": "9fced764-e80a-4c1c-9a5d-c2ffd1aca950",
   "metadata": {},
   "outputs": [],
   "source": [
    "test.layers[\"raw_counts\"].toarray().shape"
   ]
  },
  {
   "cell_type": "code",
   "execution_count": null,
   "id": "f46848e1-b5e1-4fe5-869c-944faa9713a3",
   "metadata": {},
   "outputs": [],
   "source": [
    "adata.var"
   ]
  },
  {
   "cell_type": "code",
   "execution_count": null,
   "id": "5724cf20-e7c7-4b4f-bbb8-f703bb59edc5",
   "metadata": {},
   "outputs": [],
   "source": [
    "list(adata.layers.keys())"
   ]
  },
  {
   "cell_type": "code",
   "execution_count": null,
   "id": "bcc91b4b-2169-400e-bb7d-fb5e6b85dee4",
   "metadata": {},
   "outputs": [],
   "source": [
    "adata.n_vars"
   ]
  },
  {
   "cell_type": "code",
   "execution_count": null,
   "id": "53e55942-038c-4cc5-8b97-2ed220a2e8aa",
   "metadata": {},
   "outputs": [],
   "source": [
    "adata.n_obs"
   ]
  },
  {
   "cell_type": "code",
   "execution_count": null,
   "id": "b113e5a1-7c00-4d1f-8f17-5e7941aab8c1",
   "metadata": {},
   "outputs": [],
   "source": [
    "adata.obs_names.to_list()"
   ]
  },
  {
   "cell_type": "code",
   "execution_count": null,
   "id": "b800a30a-e296-4b74-8488-eba54636eb10",
   "metadata": {},
   "outputs": [],
   "source": [
    "adata.var_names.to_list()"
   ]
  },
  {
   "cell_type": "code",
   "execution_count": null,
   "id": "06c10845-1af8-48d9-b930-cd1bfc4ab5ef",
   "metadata": {},
   "outputs": [],
   "source": [
    "list(adata.obsm.keys())"
   ]
  },
  {
   "cell_type": "code",
   "execution_count": null,
   "id": "790f67e4-cbbd-453c-bf34-3c4f5c0506bd",
   "metadata": {},
   "outputs": [],
   "source": [
    "adata.X"
   ]
  },
  {
   "cell_type": "code",
   "execution_count": null,
   "id": "523841c7-9f33-481d-b70a-16c6e0b95e20",
   "metadata": {},
   "outputs": [],
   "source": [
    "type(adata.obs_keys())"
   ]
  },
  {
   "cell_type": "code",
   "execution_count": null,
   "id": "4aa798b8-0097-487e-a36c-8b745feb76be",
   "metadata": {},
   "outputs": [],
   "source": [
    "adata.var_keys()"
   ]
  },
  {
   "cell_type": "code",
   "execution_count": null,
   "id": "4ccacc06-a5c2-4d7b-b8b1-9396d2b1172b",
   "metadata": {},
   "outputs": [],
   "source": [
    "random_state=0\n",
    "fraction=0.8\n",
    "np.random.seed(random_state)\n",
    "old_n_obs = adata.n_obs\n",
    "old_n_obs\n",
    "new_n_obs = int(fraction * old_n_obs)\n",
    "obs_indices = np.random.choice(old_n_obs, size=new_n_obs, replace=False)\n",
    "obs_indices"
   ]
  },
  {
   "cell_type": "code",
   "execution_count": null,
   "id": "a1bdf159-d753-4ee5-bef9-85a2e2f50026",
   "metadata": {},
   "outputs": [],
   "source": [
    "test=adata[obs_indices].copy()\n",
    "test"
   ]
  },
  {
   "cell_type": "code",
   "execution_count": null,
   "id": "ba579e76-78c1-416f-8879-2597de0d2cc6",
   "metadata": {},
   "outputs": [],
   "source": [
    "test.var"
   ]
  },
  {
   "cell_type": "code",
   "execution_count": null,
   "id": "11d49898-70aa-4f68-9a8a-3aa112cfe867",
   "metadata": {},
   "outputs": [],
   "source": [
    "original_indices=np.arange(old_n_obs)\n",
    "original_indices"
   ]
  },
  {
   "cell_type": "code",
   "execution_count": null,
   "id": "77248e6a-5772-481b-8fd7-da1caa830dd5",
   "metadata": {},
   "outputs": [],
   "source": [
    "diff=np.setdiff1d(original_indices, obs_indices)\n",
    "diff"
   ]
  },
  {
   "cell_type": "code",
   "execution_count": null,
   "id": "7e758372-01d2-478b-b64a-1221617e1fdb",
   "metadata": {},
   "outputs": [],
   "source": [
    "len(diff)"
   ]
  },
  {
   "cell_type": "code",
   "execution_count": null,
   "id": "61345949-29b4-4956-a3b8-8867923311cf",
   "metadata": {},
   "outputs": [],
   "source": [
    "np.random.shuffle(diff)\n",
    "diff"
   ]
  },
  {
   "cell_type": "code",
   "execution_count": null,
   "id": "ddcdc835-7426-4895-bd8e-6a272bcb82b4",
   "metadata": {},
   "outputs": [],
   "source": [
    "train=adata[diff].copy()\n",
    "train"
   ]
  },
  {
   "cell_type": "code",
   "execution_count": null,
   "id": "f872b46e-c271-4bd9-ba9c-3cdec0d46ec2",
   "metadata": {},
   "outputs": [],
   "source": [
    "train.obs"
   ]
  },
  {
   "cell_type": "code",
   "execution_count": null,
   "id": "b05cb5df-5b3c-4ada-b093-8737fae9f397",
   "metadata": {},
   "outputs": [],
   "source": []
  }
 ],
 "metadata": {
  "kernelspec": {
   "display_name": "Python 3 (ipykernel)",
   "language": "python",
   "name": "python3"
  },
  "language_info": {
   "codemirror_mode": {
    "name": "ipython",
    "version": 3
   },
   "file_extension": ".py",
   "mimetype": "text/x-python",
   "name": "python",
   "nbconvert_exporter": "python",
   "pygments_lexer": "ipython3",
   "version": "3.8.10"
  }
 },
 "nbformat": 4,
 "nbformat_minor": 5
}
