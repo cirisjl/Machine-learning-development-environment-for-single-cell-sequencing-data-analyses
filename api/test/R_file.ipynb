{
 "cells": [
  {
   "cell_type": "code",
   "execution_count": 2,
   "id": "028ff2fe-aadd-4fa2-a9bd-9458579392d3",
   "metadata": {},
   "outputs": [],
   "source": [
    "path = \"/ps/ai-ready/data/Clustering/Tabula_Muris/droplet_Bladder_seurat_tiss.h5Seurat\"\n",
    "foler <- dir(path)"
   ]
  },
  {
   "cell_type": "code",
   "execution_count": 3,
   "id": "e0eb4a54-2f67-49b6-87e3-f8926738ea05",
   "metadata": {},
   "outputs": [
    {
     "ename": "ERROR",
     "evalue": "Error in print(folder): object 'folder' not found\n",
     "output_type": "error",
     "traceback": [
      "Error in print(folder): object 'folder' not found\nTraceback:\n",
      "1. print(folder)"
     ]
    }
   ],
   "source": [
    "print(folder)"
   ]
  },
  {
   "cell_type": "code",
   "execution_count": null,
   "id": "35a24195-ac25-4708-9e39-52cd5e98bd9b",
   "metadata": {},
   "outputs": [],
   "source": []
  }
 ],
 "metadata": {
  "kernelspec": {
   "display_name": "R",
   "language": "R",
   "name": "ir"
  },
  "language_info": {
   "codemirror_mode": "r",
   "file_extension": ".r",
   "mimetype": "text/x-r-source",
   "name": "R",
   "pygments_lexer": "r",
   "version": "4.2.1"
  }
 },
 "nbformat": 4,
 "nbformat_minor": 5
}
