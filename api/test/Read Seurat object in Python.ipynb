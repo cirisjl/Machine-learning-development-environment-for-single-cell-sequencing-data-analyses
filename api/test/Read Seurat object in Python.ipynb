{
 "cells": [
  {
   "cell_type": "code",
   "execution_count": 1,
   "id": "747ba6dc",
   "metadata": {},
   "outputs": [
    {
     "name": "stderr",
     "output_type": "stream",
     "text": [
      "/opt/conda/lib/python3.11/site-packages/rpy2/rinterface/__init__.py:1211: UserWarning: Environment variable \"LD_LIBRARY_PATH\" redefined by R and overriding existing variable. Current: \"/usr/local/nvidia/lib:/usr/local/nvidia/lib64\", R: \"/usr/lib/R/lib:/usr/lib/x86_64-linux-gnu:/usr/lib/jvm/default-java/lib/server:/usr/local/nvidia/lib:/usr/local/nvidia/lib64\"\n",
      "  warnings.warn(\n",
      "/opt/conda/lib/python3.11/site-packages/rpy2/rinterface/__init__.py:1211: UserWarning: Environment variable \"PWD\" redefined by R and overriding existing variable. Current: \"/app\", R: \"/app/Machine-learning-development-environment-for-single-cell-sequencing-data-analyses/api/test\"\n",
      "  warnings.warn(\n",
      "/opt/conda/lib/python3.11/site-packages/rpy2/rinterface/__init__.py:1211: UserWarning: Environment variable \"LD_LIBRARY_PATH\" redefined by R and overriding existing variable. Current: \"/usr/lib/R/lib:/usr/lib/x86_64-linux-gnu:/usr/lib/jvm/default-java/lib/server:/usr/local/nvidia/lib:/usr/local/nvidia/lib64\", R: \"/usr/lib/R/lib:/usr/lib/x86_64-linux-gnu:/usr/lib/jvm/default-java/lib/server:/usr/lib/R/lib:/usr/lib/x86_64-linux-gnu:/usr/lib/jvm/default-java/lib/server:/usr/local/nvidia/lib:/usr/local/nvidia/lib64\"\n",
      "  warnings.warn(\n",
      "/opt/conda/lib/python3.11/site-packages/rpy2/rinterface/__init__.py:1211: UserWarning: Environment variable \"R_LIBS_SITE\" redefined by R and overriding existing variable. Current: \"/usr/local/lib/R/site-library/:/usr/local/lib/R/site-library:/usr/lib/R/site-library:/usr/lib/R/library\", R: \"/usr/local/lib/R/site-library/:/usr/local/lib/R/site-library/:/usr/local/lib/R/site-library/:/usr/local/lib/R/site-library:/usr/lib/R/site-library:/usr/lib/R/library:/usr/lib/R/library:/usr/lib/R/library\"\n",
      "  warnings.warn(\n",
      "/opt/conda/lib/python3.11/site-packages/rpy2/rinterface/__init__.py:1211: UserWarning: Environment variable \"R_PAPERSIZE_USER\" redefined by R and overriding existing variable. Current: \"a4\", R: \"letter\"\n",
      "  warnings.warn(\n",
      "/opt/conda/lib/python3.11/site-packages/rpy2/rinterface/__init__.py:1211: UserWarning: Environment variable \"R_SESSION_TMPDIR\" redefined by R and overriding existing variable. Current: \"/tmp/RtmpE2leoD\", R: \"/tmp/RtmpiN3a8M\"\n",
      "  warnings.warn(\n"
     ]
    }
   ],
   "source": [
    "import rpy2.robjects as robjects"
   ]
  },
  {
   "cell_type": "code",
   "execution_count": 1,
   "id": "5cce7c04-64c0-44b6-913d-4172bf00e10d",
   "metadata": {},
   "outputs": [
    {
     "name": "stdout",
     "output_type": "stream",
     "text": [
      "Collecting attrdict\n",
      "  Downloading attrdict-2.0.1-py2.py3-none-any.whl (9.9 kB)\n",
      "Requirement already satisfied: six in /usr/lib/python3/dist-packages (from attrdict) (1.14.0)\n",
      "Installing collected packages: attrdict\n",
      "Successfully installed attrdict-2.0.1\n",
      "Note: you may need to restart the kernel to use updated packages.\n"
     ]
    }
   ],
   "source": [
    "# pip install attrdict"
   ]
  },
  {
   "cell_type": "code",
   "execution_count": 2,
   "id": "0fe7b397",
   "metadata": {},
   "outputs": [
    {
     "name": "stderr",
     "output_type": "stream",
     "text": [
      "R callback write-console: Loading required package: SingleCellExperiment\n",
      "  \n",
      "R callback write-console: Loading required package: SummarizedExperiment\n",
      "  \n",
      "R callback write-console: Loading required package: MatrixGenerics\n",
      "  \n",
      "R callback write-console: Loading required package: matrixStats\n",
      "  \n",
      "R callback write-console: \n",
      "Attaching package: ‘MatrixGenerics’\n",
      "\n",
      "  \n",
      "R callback write-console: The following objects are masked from ‘package:matrixStats’:\n",
      "\n",
      "    colAlls, colAnyNAs, colAnys, colAvgsPerRowSet, colCollapse,\n",
      "    colCounts, colCummaxs, colCummins, colCumprods, colCumsums,\n",
      "    colDiffs, colIQRDiffs, colIQRs, colLogSumExps, colMadDiffs,\n",
      "    colMads, colMaxs, colMeans2, colMedians, colMins, colOrderStats,\n",
      "    colProds, colQuantiles, colRanges, colRanks, colSdDiffs, colSds,\n",
      "    colSums2, colTabulates, colVarDiffs, colVars, colWeightedMads,\n",
      "    colWeightedMeans, colWeightedMedians, colWeightedSds,\n",
      "    colWeightedVars, rowAlls, rowAnyNAs, rowAnys, rowAvgsPerColSet,\n",
      "    rowCollapse, rowCounts, rowCummaxs, rowCummins, rowCumprods,\n",
      "    rowCumsums, rowDiffs, rowIQRDiffs, rowIQRs, rowLogSumExps,\n",
      "    rowMadDiffs, rowMads, rowMaxs, rowMeans2, rowMedians, rowMins,\n",
      "    rowOrderStats, rowProds, rowQuantiles, rowRanges, rowRanks,\n",
      "    rowSdDiffs, rowSds, rowSums2, rowTabulates, rowVarDiffs, rowVars,\n",
      "    rowWeightedMads, rowWeightedMeans, rowWeightedMedians,\n",
      "    rowWeightedSds, rowWeightedVars\n",
      "\n",
      "  \n",
      "R callback write-console: Loading required package: GenomicRanges\n",
      "  \n",
      "R callback write-console: Loading required package: stats4\n",
      "  \n",
      "R callback write-console: Loading required package: BiocGenerics\n",
      "  \n",
      "R callback write-console: Loading required package: generics\n",
      "  \n",
      "R callback write-console: \n",
      "Attaching package: ‘generics’\n",
      "\n",
      "  \n",
      "R callback write-console: The following objects are masked from ‘package:base’:\n",
      "\n",
      "    as.difftime, as.factor, as.ordered, intersect, is.element, setdiff,\n",
      "    setequal, union\n",
      "\n",
      "  \n",
      "R callback write-console: \n",
      "Attaching package: ‘BiocGenerics’\n",
      "\n",
      "  \n",
      "R callback write-console: The following objects are masked from ‘package:stats’:\n",
      "\n",
      "    IQR, mad, sd, var, xtabs\n",
      "\n",
      "  \n",
      "R callback write-console: The following objects are masked from ‘package:base’:\n",
      "\n",
      "    Filter, Find, Map, Position, Reduce, anyDuplicated, aperm, append,\n",
      "    as.data.frame, basename, cbind, colnames, dirname, do.call,\n",
      "    duplicated, eval, evalq, get, grep, grepl, is.unsorted, lapply,\n",
      "    mapply, match, mget, order, paste, pmax, pmax.int, pmin, pmin.int,\n",
      "    rank, rbind, rownames, sapply, saveRDS, table, tapply, unique,\n",
      "    unsplit, which.max, which.min\n",
      "\n",
      "  \n",
      "R callback write-console: Loading required package: S4Vectors\n",
      "  \n",
      "R callback write-console: \n",
      "Attaching package: ‘S4Vectors’\n",
      "\n",
      "  \n",
      "R callback write-console: The following object is masked from ‘package:utils’:\n",
      "\n",
      "    findMatches\n",
      "\n",
      "  \n",
      "R callback write-console: The following objects are masked from ‘package:base’:\n",
      "\n",
      "    I, expand.grid, unname\n",
      "\n",
      "  \n",
      "R callback write-console: Loading required package: IRanges\n",
      "  \n",
      "R callback write-console: Loading required package: GenomeInfoDb\n",
      "  \n",
      "R callback write-console: Loading required package: Biobase\n",
      "  \n",
      "R callback write-console: Welcome to Bioconductor\n",
      "\n",
      "    Vignettes contain introductory material; view with\n",
      "    'browseVignettes()'. To cite Bioconductor, see\n",
      "    'citation(\"Biobase\")', and for packages 'citation(\"pkgname\")'.\n",
      "\n",
      "  \n",
      "R callback write-console: \n",
      "Attaching package: ‘Biobase’\n",
      "\n",
      "  \n",
      "R callback write-console: The following object is masked from ‘package:MatrixGenerics’:\n",
      "\n",
      "    rowMedians\n",
      "\n",
      "  \n",
      "R callback write-console: The following objects are masked from ‘package:matrixStats’:\n",
      "\n",
      "    anyMissing, rowMedians\n",
      "\n",
      "  \n",
      "R callback write-console: Loading required package: scuttle\n",
      "  \n",
      "R callback write-console: Loading required package: ggplot2\n",
      "  \n"
     ]
    },
    {
     "name": "stdout",
     "output_type": "stream",
     "text": [
      "\n",
      "    WARNING: The R package \"reticulate\" only fixed recently\n",
      "    an issue that caused a segfault when used with rpy2:\n",
      "    https://github.com/rstudio/reticulate/pull/1188\n",
      "    Make sure that you use a version of that package that includes\n",
      "    the fix.\n",
      "    "
     ]
    },
    {
     "name": "stderr",
     "output_type": "stream",
     "text": [
      "R callback write-console: Loading required package: SeuratObject\n",
      "  \n",
      "R callback write-console: Loading required package: sp\n",
      "  \n",
      "R callback write-console: \n",
      "Attaching package: ‘sp’\n",
      "\n",
      "  \n",
      "R callback write-console: The following object is masked from ‘package:IRanges’:\n",
      "\n",
      "    %over%\n",
      "\n",
      "  \n",
      "R callback write-console: \n",
      "Attaching package: ‘SeuratObject’\n",
      "\n",
      "  \n",
      "R callback write-console: The following object is masked from ‘package:anndata’:\n",
      "\n",
      "    Layers\n",
      "\n",
      "  \n",
      "R callback write-console: The following object is masked from ‘package:SummarizedExperiment’:\n",
      "\n",
      "    Assays\n",
      "\n",
      "  \n",
      "R callback write-console: The following object is masked from ‘package:GenomicRanges’:\n",
      "\n",
      "    intersect\n",
      "\n",
      "  \n",
      "R callback write-console: The following object is masked from ‘package:GenomeInfoDb’:\n",
      "\n",
      "    intersect\n",
      "\n",
      "  \n",
      "R callback write-console: The following object is masked from ‘package:IRanges’:\n",
      "\n",
      "    intersect\n",
      "\n",
      "  \n",
      "R callback write-console: The following object is masked from ‘package:S4Vectors’:\n",
      "\n",
      "    intersect\n",
      "\n",
      "  \n",
      "R callback write-console: The following object is masked from ‘package:BiocGenerics’:\n",
      "\n",
      "    intersect\n",
      "\n",
      "  \n",
      "R callback write-console: The following objects are masked from ‘package:base’:\n",
      "\n",
      "    intersect, t\n",
      "\n",
      "  \n",
      "R callback write-console: \n",
      "Attaching package: ‘Seurat’\n",
      "\n",
      "  \n",
      "R callback write-console: The following object is masked from ‘package:SummarizedExperiment’:\n",
      "\n",
      "    Assays\n",
      "\n",
      "  \n",
      "R callback write-console: Registered S3 method overwritten by 'SeuratDisk':\n",
      "  method            from  \n",
      "  as.sparse.H5Group Seurat\n",
      "  \n",
      "R callback write-console: \n",
      "Attaching package: ‘Matrix’\n",
      "\n",
      "  \n",
      "R callback write-console: The following object is masked from ‘package:S4Vectors’:\n",
      "\n",
      "    expand\n",
      "\n",
      "  \n"
     ]
    },
    {
     "data": {
      "text/html": [
       "\n",
       "        <span>ListVector with 2 elements.</span>\n",
       "        <table>\n",
       "        <tbody>\n",
       "        \n",
       "          <tr>\n",
       "            <th>\n",
       "            value\n",
       "            </th>\n",
       "            <td>\n",
       "            <rpy2.rinterface.SexpClosure object at 0x7fa0d9610e50> [3]\n",
       "            </td>\n",
       "          </tr>\n",
       "        \n",
       "          <tr>\n",
       "            <th>\n",
       "            visible\n",
       "            </th>\n",
       "            <td>\n",
       "            <rpy2.rinterface.BoolSexpVector object at 0x7fa0d95fc1d0> [10]\n",
       "            </td>\n",
       "          </tr>\n",
       "        \n",
       "        </tbody>\n",
       "        </table>\n",
       "        "
      ],
      "text/plain": [
       "<rpy2.robjects.vectors.ListVector object at 0x7fa0eacf6250> [19]\n",
       "R classes: ('list',)\n",
       "[SexpClosure, BoolSexpVector]\n",
       "  value: <class 'rpy2.rinterface.SexpClosure'>\n",
       "  <rpy2.rinterface.SexpClosure object at 0x7f9f67a661d0> [3]\n",
       "  visible: <class 'rpy2.rinterface.BoolSexpVector'>\n",
       "  <rpy2.rinterface.BoolSexpVector object at 0x7fa0d95feb10> [10]"
      ]
     },
     "execution_count": 2,
     "metadata": {},
     "output_type": "execute_result"
    }
   ],
   "source": [
    "robjects.r.source(\"formating.R\")"
   ]
  },
  {
   "cell_type": "code",
   "execution_count": 3,
   "id": "955b435d",
   "metadata": {},
   "outputs": [
    {
     "name": "stdout",
     "output_type": "stream",
     "text": [
      "[1] \"Inside ConvertSeuratSCEtoAnndata R function\"\n"
     ]
    },
    {
     "name": "stderr",
     "output_type": "stream",
     "text": [
      "R callback write-console: Error in h(simpleError(msg, call)) : \n",
      "  error in evaluating the argument 'x' in selecting a method for function 'get': cannot open the connection\n",
      "  \n",
      "R callback write-console: In addition:   \n",
      "R callback write-console: Warning message:\n",
      "  \n",
      "R callback write-console: In readChar(con, 5L, useBytes = TRUE) :  \n",
      "R callback write-console: \n",
      "   \n",
      "R callback write-console:  cannot open compressed file '/ps/oscb/user_storage/Benchmarks/droplet-Bladder_1752676773774/droplet_Bladder_seurat_tiss.Robj', probable reason 'No such file or directory'\n",
      "  \n"
     ]
    },
    {
     "ename": "RRuntimeError",
     "evalue": "Error in h(simpleError(msg, call)) : \n  error in evaluating the argument 'x' in selecting a method for function 'get': cannot open the connection\n",
     "output_type": "error",
     "traceback": [
      "\u001b[31m---------------------------------------------------------------------------\u001b[39m",
      "\u001b[31mRRuntimeError\u001b[39m                             Traceback (most recent call last)",
      "\u001b[36mCell\u001b[39m\u001b[36m \u001b[39m\u001b[32mIn[3]\u001b[39m\u001b[32m, line 1\u001b[39m\n\u001b[32m----> \u001b[39m\u001b[32m1\u001b[39m assay_names = \u001b[43mrobjects\u001b[49m\u001b[43m.\u001b[49m\u001b[43mr\u001b[49m\u001b[43m.\u001b[49m\u001b[43mConvertSeuratSCEtoAnndata\u001b[49m\u001b[43m(\u001b[49m\u001b[33;43m\"\u001b[39;49m\u001b[33;43m/ps/oscb/user_storage/Benchmarks/droplet-Bladder_1752676773774/droplet_Bladder_seurat_tiss.Robj\u001b[39;49m\u001b[33;43m\"\u001b[39;49m\u001b[43m,\u001b[49m\u001b[43m \u001b[49m\u001b[43massay\u001b[49m\u001b[43m \u001b[49m\u001b[43m=\u001b[49m\u001b[43m \u001b[49m\u001b[33;43m'\u001b[39;49m\u001b[33;43mRNA\u001b[39;49m\u001b[33;43m'\u001b[39;49m\u001b[43m)\u001b[49m\n\u001b[32m      2\u001b[39m \u001b[38;5;28mprint\u001b[39m(assay_names)\n",
      "\u001b[36mFile \u001b[39m\u001b[32m/opt/conda/lib/python3.11/site-packages/rpy2/robjects/functions.py:208\u001b[39m, in \u001b[36mSignatureTranslatedFunction.__call__\u001b[39m\u001b[34m(self, *args, **kwargs)\u001b[39m\n\u001b[32m    206\u001b[39m         v = kwargs.pop(k)\n\u001b[32m    207\u001b[39m         kwargs[r_k] = v\n\u001b[32m--> \u001b[39m\u001b[32m208\u001b[39m \u001b[38;5;28;01mreturn\u001b[39;00m (\u001b[38;5;28;43msuper\u001b[39;49m\u001b[43m(\u001b[49m\u001b[43mSignatureTranslatedFunction\u001b[49m\u001b[43m,\u001b[49m\u001b[43m \u001b[49m\u001b[38;5;28;43mself\u001b[39;49m\u001b[43m)\u001b[49m\n\u001b[32m    209\u001b[39m \u001b[43m        \u001b[49m\u001b[43m.\u001b[49m\u001b[34;43m__call__\u001b[39;49m\u001b[43m(\u001b[49m\u001b[43m*\u001b[49m\u001b[43margs\u001b[49m\u001b[43m,\u001b[49m\u001b[43m \u001b[49m\u001b[43m*\u001b[49m\u001b[43m*\u001b[49m\u001b[43mkwargs\u001b[49m\u001b[43m)\u001b[49m)\n",
      "\u001b[36mFile \u001b[39m\u001b[32m/opt/conda/lib/python3.11/site-packages/rpy2/robjects/functions.py:131\u001b[39m, in \u001b[36mFunction.__call__\u001b[39m\u001b[34m(self, *args, **kwargs)\u001b[39m\n\u001b[32m    129\u001b[39m     \u001b[38;5;28;01melse\u001b[39;00m:\n\u001b[32m    130\u001b[39m         new_kwargs[k] = cv.py2rpy(v)\n\u001b[32m--> \u001b[39m\u001b[32m131\u001b[39m res = \u001b[38;5;28;43msuper\u001b[39;49m\u001b[43m(\u001b[49m\u001b[43mFunction\u001b[49m\u001b[43m,\u001b[49m\u001b[43m \u001b[49m\u001b[38;5;28;43mself\u001b[39;49m\u001b[43m)\u001b[49m\u001b[43m.\u001b[49m\u001b[34;43m__call__\u001b[39;49m\u001b[43m(\u001b[49m\u001b[43m*\u001b[49m\u001b[43mnew_args\u001b[49m\u001b[43m,\u001b[49m\u001b[43m \u001b[49m\u001b[43m*\u001b[49m\u001b[43m*\u001b[49m\u001b[43mnew_kwargs\u001b[49m\u001b[43m)\u001b[49m\n\u001b[32m    132\u001b[39m res = cv.rpy2py(res)\n\u001b[32m    133\u001b[39m \u001b[38;5;28;01mreturn\u001b[39;00m res\n",
      "\u001b[36mFile \u001b[39m\u001b[32m/opt/conda/lib/python3.11/site-packages/rpy2/rinterface_lib/conversion.py:46\u001b[39m, in \u001b[36m_cdata_res_to_rinterface.<locals>._\u001b[39m\u001b[34m(*args, **kwargs)\u001b[39m\n\u001b[32m     45\u001b[39m \u001b[38;5;28;01mdef\u001b[39;00m\u001b[38;5;250m \u001b[39m\u001b[34m_\u001b[39m(*args, **kwargs):\n\u001b[32m---> \u001b[39m\u001b[32m46\u001b[39m     cdata = \u001b[43mfunction\u001b[49m\u001b[43m(\u001b[49m\u001b[43m*\u001b[49m\u001b[43margs\u001b[49m\u001b[43m,\u001b[49m\u001b[43m \u001b[49m\u001b[43m*\u001b[49m\u001b[43m*\u001b[49m\u001b[43mkwargs\u001b[49m\u001b[43m)\u001b[49m\n\u001b[32m     47\u001b[39m     \u001b[38;5;66;03m# TODO: test cdata is of the expected CType\u001b[39;00m\n\u001b[32m     48\u001b[39m     \u001b[38;5;28;01mreturn\u001b[39;00m _cdata_to_rinterface(cdata)\n",
      "\u001b[36mFile \u001b[39m\u001b[32m/opt/conda/lib/python3.11/site-packages/rpy2/rinterface/__init__.py:913\u001b[39m, in \u001b[36mSexpClosure.__call__\u001b[39m\u001b[34m(self, *args, **kwargs)\u001b[39m\n\u001b[32m    906\u001b[39m     res = rmemory.protect(\n\u001b[32m    907\u001b[39m         openrlib.rlib.R_tryEval(\n\u001b[32m    908\u001b[39m             call_r,\n\u001b[32m    909\u001b[39m             call_context.__sexp__._cdata,\n\u001b[32m    910\u001b[39m             error_occured)\n\u001b[32m    911\u001b[39m     )\n\u001b[32m    912\u001b[39m     \u001b[38;5;28;01mif\u001b[39;00m error_occured[\u001b[32m0\u001b[39m]:\n\u001b[32m--> \u001b[39m\u001b[32m913\u001b[39m         \u001b[38;5;28;01mraise\u001b[39;00m embedded.RRuntimeError(_rinterface._geterrmessage())\n\u001b[32m    914\u001b[39m \u001b[38;5;28;01mreturn\u001b[39;00m res\n",
      "\u001b[31mRRuntimeError\u001b[39m: Error in h(simpleError(msg, call)) : \n  error in evaluating the argument 'x' in selecting a method for function 'get': cannot open the connection\n"
     ]
    }
   ],
   "source": [
    "assay_names = robjects.r.ConvertSeuratSCEtoAnndata(\"/ps/oscb/user_storage/Benchmarks/droplet-Bladder_1752676773774/droplet_Bladder_seurat_tiss.Robj\", assay = 'RNA')\n",
    "print(assay_names)"
   ]
  },
  {
   "cell_type": "code",
   "execution_count": 4,
   "id": "d22477b7",
   "metadata": {},
   "outputs": [
    {
     "data": {
      "text/plain": [
       "rpy2.robjects.vectors.ListVector"
      ]
     },
     "execution_count": 4,
     "metadata": {},
     "output_type": "execute_result"
    }
   ],
   "source": [
    "type(assay_names)"
   ]
  },
  {
   "cell_type": "code",
   "execution_count": 5,
   "id": "340215b1",
   "metadata": {},
   "outputs": [
    {
     "data": {
      "text/plain": [
       "'/ps/ai-ready/data/tung/tung.h5ad'"
      ]
     },
     "execution_count": 5,
     "metadata": {},
     "output_type": "execute_result"
    }
   ],
   "source": [
    "list(assay_names[2])[0]"
   ]
  },
  {
   "cell_type": "code",
   "execution_count": null,
   "id": "6ed4876d",
   "metadata": {},
   "outputs": [],
   "source": [
    "list(assay_names)"
   ]
  },
  {
   "cell_type": "code",
   "execution_count": null,
   "id": "c0d03f08",
   "metadata": {},
   "outputs": [],
   "source": [
    "list(assay_names[1])"
   ]
  },
  {
   "cell_type": "code",
   "execution_count": null,
   "id": "c969b4f1",
   "metadata": {},
   "outputs": [],
   "source": [
    "list(assay_names[0])[0]"
   ]
  },
  {
   "cell_type": "code",
   "execution_count": null,
   "id": "4705b7fc",
   "metadata": {},
   "outputs": [],
   "source": [
    "list(assay_names[2])[0]"
   ]
  },
  {
   "cell_type": "code",
   "execution_count": 7,
   "id": "2ae408a2",
   "metadata": {},
   "outputs": [],
   "source": [
    "import os\n",
    "import sys\n",
    "sys.path.append('..')\n",
    "from tools.formating.formating import *"
   ]
  },
  {
   "cell_type": "code",
   "execution_count": null,
   "id": "e242dac7",
   "metadata": {},
   "outputs": [],
   "source": [
    "adata, names=LoadAnndata(list(assay_names[2])[0])"
   ]
  },
  {
   "cell_type": "code",
   "execution_count": null,
   "id": "4d22a25f",
   "metadata": {},
   "outputs": [],
   "source": [
    "adata"
   ]
  },
  {
   "cell_type": "code",
   "execution_count": null,
   "id": "8c0a0825",
   "metadata": {},
   "outputs": [],
   "source": [
    "names"
   ]
  },
  {
   "cell_type": "code",
   "execution_count": null,
   "id": "e3e9f0a6",
   "metadata": {},
   "outputs": [],
   "source": [
    "adata1=LoadAnndata(\"/ps/ai-ready/data/tung/umi.h5Seurat\")"
   ]
  },
  {
   "cell_type": "code",
   "execution_count": null,
   "id": "5713df19",
   "metadata": {},
   "outputs": [],
   "source": [
    "adata1"
   ]
  },
  {
   "cell_type": "code",
   "execution_count": null,
   "id": "745ed92c",
   "metadata": {},
   "outputs": [],
   "source": [
    "adata2=LoadAnndata(\"/ps/ai-ready/data/tung/umi.rds\")\n",
    "adata2"
   ]
  },
  {
   "cell_type": "code",
   "execution_count": 8,
   "id": "5bcc4f05",
   "metadata": {},
   "outputs": [
    {
     "name": "stdout",
     "output_type": "stream",
     "text": [
      "/ps/ai-ready/data/tung/tung.h5ad\n"
     ]
    },
    {
     "data": {
      "text/plain": [
       "AnnData object with n_obs × n_vars = 670 × 13873\n",
       "    obs: 'orig.ident', 'nCount_RNA', 'nFeature_RNA', 'individual', 'replicate', 'well', 'batch', 'sample_id', 'sum', 'detected', 'subsets_Mito_sum', 'subsets_Mito_detected', 'subsets_Mito_percent', 'altexps_ERCC_sum', 'altexps_ERCC_detected', 'altexps_ERCC_percent', 'total', 'discard', 'nCount_logCP10K', 'nFeature_logCP10K', 'nCount_logCPM', 'nFeature_logCPM', 'percent.mt', 'nCount_SCT', 'nFeature_SCT'\n",
       "    var: 'SYMBOL', 'mean', 'detected', 'discard', 'DESeq2_features', 'FPKM_features', 'Pearson_residuals_features', 'RLE_features', 'TMM_features', 'TPM_features', 'logCP10K_features', 'logCPM_features', 'scran_features', 'upperquartile_features'\n",
       "    obsm: 'X_PCA', 'X_TSNE'\n",
       "    layers: 'DESeq2', 'FPKM', 'Pearson_residuals', 'RLE', 'TMM', 'TPM', 'logCP10K', 'logCPM', 'scran', 'upperquartile'"
      ]
     },
     "execution_count": 8,
     "metadata": {},
     "output_type": "execute_result"
    }
   ],
   "source": [
    "adata3=LoadAnndata(\"/ps/ai-ready/data/tung/tung.h5ad\")\n",
    "adata3"
   ]
  },
  {
   "cell_type": "code",
   "execution_count": 10,
   "id": "702e454a",
   "metadata": {},
   "outputs": [],
   "source": [
    "mito_genes = adata3.var_names.str.startswith('MT-')\n",
    "adata3.obs['percent_mito'] = np.sum(adata3[:, mito_genes].X, axis=1).A1 / np.sum(adata3.X, axis=1).A1"
   ]
  },
  {
   "cell_type": "code",
   "execution_count": 25,
   "id": "17b9f2a7",
   "metadata": {},
   "outputs": [
    {
     "data": {
      "image/png": "[encoded data removed]",
      "text/plain": [
       "<Figure size 1500x500 with 3 Axes>"
      ]
     },
     "metadata": {},
     "output_type": "display_data"
    }
   ],
   "source": [
    "sc.pl.violin(adata3, ['nFeature_RNA', 'nCount_RNA', 'percent_mito'], jitter=0.4, multi_panel=True)"
   ]
  },
  {
   "cell_type": "code",
   "execution_count": 14,
   "id": "f0efc7e9",
   "metadata": {},
   "outputs": [
    {
     "data": {
      "text/plain": [
       "NA19098.r1.A01    0.0\n",
       "NA19098.r1.A02    0.0\n",
       "NA19098.r1.A03    0.0\n",
       "NA19098.r1.A04    0.0\n",
       "NA19098.r1.A05    0.0\n",
       "                 ... \n",
       "NA19239.r3.H07    0.0\n",
       "NA19239.r3.H08    0.0\n",
       "NA19239.r3.H09    0.0\n",
       "NA19239.r3.H11    0.0\n",
       "NA19239.r3.H12    0.0\n",
       "Name: percent_mito, Length: 670, dtype: float64"
      ]
     },
     "execution_count": 14,
     "metadata": {},
     "output_type": "execute_result"
    }
   ],
   "source": [
    "adata3.obs['percent_mito']"
   ]
  },
  {
   "cell_type": "code",
   "execution_count": 16,
   "id": "4b3514a4",
   "metadata": {},
   "outputs": [
    {
     "data": {
      "text/plain": [
       "NA19098.r1.A01    8200\n",
       "NA19098.r1.A02    8078\n",
       "NA19098.r1.A03    7153\n",
       "NA19098.r1.A04    7820\n",
       "NA19098.r1.A05    8447\n",
       "                  ... \n",
       "NA19239.r3.H07    8743\n",
       "NA19239.r3.H08    7993\n",
       "NA19239.r3.H09    7759\n",
       "NA19239.r3.H11    7538\n",
       "NA19239.r3.H12    8485\n",
       "Name: nFeature_RNA, Length: 670, dtype: int32"
      ]
     },
     "execution_count": 16,
     "metadata": {},
     "output_type": "execute_result"
    }
   ],
   "source": [
    "adata3.obs['nFeature_RNA']"
   ]
  },
  {
   "cell_type": "code",
   "execution_count": 17,
   "id": "b4127ae9",
   "metadata": {},
   "outputs": [
    {
     "data": {
      "text/plain": [
       "NA19098.r1.A01    61663.0\n",
       "NA19098.r1.A02    62260.0\n",
       "NA19098.r1.A03    42176.0\n",
       "NA19098.r1.A04    52278.0\n",
       "NA19098.r1.A05    69143.0\n",
       "                   ...   \n",
       "NA19239.r3.H07    81183.0\n",
       "NA19239.r3.H08    57496.0\n",
       "NA19239.r3.H09    54582.0\n",
       "NA19239.r3.H11    49693.0\n",
       "NA19239.r3.H12    75941.0\n",
       "Name: nCount_RNA, Length: 670, dtype: float64"
      ]
     },
     "execution_count": 17,
     "metadata": {},
     "output_type": "execute_result"
    }
   ],
   "source": [
    "adata3.obs['nCount_RNA']"
   ]
  },
  {
   "cell_type": "code",
   "execution_count": 18,
   "id": "a5d50f63",
   "metadata": {},
   "outputs": [
    {
     "data": {
      "text/plain": [
       "pandas.core.frame.DataFrame"
      ]
     },
     "execution_count": 18,
     "metadata": {},
     "output_type": "execute_result"
    }
   ],
   "source": [
    "type(adata3.obs)"
   ]
  },
  {
   "cell_type": "code",
   "execution_count": 22,
   "id": "7c78d194",
   "metadata": {},
   "outputs": [],
   "source": [
    "adata3.obs[['nFeature_RNA', 'nCount_RNA', 'percent_mito']].to_csv(\"/ps/ai-ready/data/tung/violin.csv\")"
   ]
  },
  {
   "cell_type": "code",
   "execution_count": 21,
   "id": "d5b010d5",
   "metadata": {},
   "outputs": [
    {
     "data": {
      "text/html": [
       "<div>\n",
       "<style scoped>\n",
       "    .dataframe tbody tr th:only-of-type {\n",
       "        vertical-align: middle;\n",
       "    }\n",
       "\n",
       "    .dataframe tbody tr th {\n",
       "        vertical-align: top;\n",
       "    }\n",
       "\n",
       "    .dataframe thead th {\n",
       "        text-align: right;\n",
       "    }\n",
       "</style>\n",
       "<table border=\"1\" class=\"dataframe\">\n",
       "  <thead>\n",
       "    <tr style=\"text-align: right;\">\n",
       "      <th></th>\n",
       "      <th>orig.ident</th>\n",
       "      <th>nCount_RNA</th>\n",
       "      <th>nFeature_RNA</th>\n",
       "      <th>individual</th>\n",
       "      <th>replicate</th>\n",
       "      <th>well</th>\n",
       "      <th>batch</th>\n",
       "      <th>sample_id</th>\n",
       "      <th>sum</th>\n",
       "      <th>detected</th>\n",
       "      <th>...</th>\n",
       "      <th>total</th>\n",
       "      <th>discard</th>\n",
       "      <th>nCount_logCP10K</th>\n",
       "      <th>nFeature_logCP10K</th>\n",
       "      <th>nCount_logCPM</th>\n",
       "      <th>nFeature_logCPM</th>\n",
       "      <th>percent.mt</th>\n",
       "      <th>nCount_SCT</th>\n",
       "      <th>nFeature_SCT</th>\n",
       "      <th>percent_mito</th>\n",
       "    </tr>\n",
       "  </thead>\n",
       "  <tbody>\n",
       "    <tr>\n",
       "      <th>NA19098.r1.A01</th>\n",
       "      <td>0</td>\n",
       "      <td>61663.0</td>\n",
       "      <td>8200</td>\n",
       "      <td>0</td>\n",
       "      <td>0</td>\n",
       "      <td>0</td>\n",
       "      <td>0</td>\n",
       "      <td>0</td>\n",
       "      <td>61707.0</td>\n",
       "      <td>8242.0</td>\n",
       "      <td>...</td>\n",
       "      <td>62894.0</td>\n",
       "      <td>0</td>\n",
       "      <td>61663.0</td>\n",
       "      <td>8200</td>\n",
       "      <td>61663.0</td>\n",
       "      <td>8200</td>\n",
       "      <td>0.0</td>\n",
       "      <td>66713.0</td>\n",
       "      <td>8200</td>\n",
       "      <td>0.0</td>\n",
       "    </tr>\n",
       "    <tr>\n",
       "      <th>NA19098.r1.A02</th>\n",
       "      <td>0</td>\n",
       "      <td>62260.0</td>\n",
       "      <td>8078</td>\n",
       "      <td>0</td>\n",
       "      <td>0</td>\n",
       "      <td>1</td>\n",
       "      <td>0</td>\n",
       "      <td>1</td>\n",
       "      <td>62300.0</td>\n",
       "      <td>8115.0</td>\n",
       "      <td>...</td>\n",
       "      <td>63577.0</td>\n",
       "      <td>0</td>\n",
       "      <td>62260.0</td>\n",
       "      <td>8078</td>\n",
       "      <td>62260.0</td>\n",
       "      <td>8078</td>\n",
       "      <td>0.0</td>\n",
       "      <td>66744.0</td>\n",
       "      <td>8078</td>\n",
       "      <td>0.0</td>\n",
       "    </tr>\n",
       "    <tr>\n",
       "      <th>NA19098.r1.A03</th>\n",
       "      <td>0</td>\n",
       "      <td>42176.0</td>\n",
       "      <td>7153</td>\n",
       "      <td>0</td>\n",
       "      <td>0</td>\n",
       "      <td>2</td>\n",
       "      <td>0</td>\n",
       "      <td>2</td>\n",
       "      <td>42212.0</td>\n",
       "      <td>7189.0</td>\n",
       "      <td>...</td>\n",
       "      <td>43333.0</td>\n",
       "      <td>0</td>\n",
       "      <td>42176.0</td>\n",
       "      <td>7153</td>\n",
       "      <td>42176.0</td>\n",
       "      <td>7153</td>\n",
       "      <td>0.0</td>\n",
       "      <td>66762.0</td>\n",
       "      <td>7419</td>\n",
       "      <td>0.0</td>\n",
       "    </tr>\n",
       "    <tr>\n",
       "      <th>NA19098.r1.A04</th>\n",
       "      <td>0</td>\n",
       "      <td>52278.0</td>\n",
       "      <td>7820</td>\n",
       "      <td>0</td>\n",
       "      <td>0</td>\n",
       "      <td>3</td>\n",
       "      <td>0</td>\n",
       "      <td>3</td>\n",
       "      <td>52324.0</td>\n",
       "      <td>7863.0</td>\n",
       "      <td>...</td>\n",
       "      <td>53564.0</td>\n",
       "      <td>0</td>\n",
       "      <td>52278.0</td>\n",
       "      <td>7820</td>\n",
       "      <td>52278.0</td>\n",
       "      <td>7820</td>\n",
       "      <td>0.0</td>\n",
       "      <td>66748.0</td>\n",
       "      <td>7835</td>\n",
       "      <td>0.0</td>\n",
       "    </tr>\n",
       "    <tr>\n",
       "      <th>NA19098.r1.A05</th>\n",
       "      <td>0</td>\n",
       "      <td>69143.0</td>\n",
       "      <td>8447</td>\n",
       "      <td>0</td>\n",
       "      <td>0</td>\n",
       "      <td>4</td>\n",
       "      <td>0</td>\n",
       "      <td>4</td>\n",
       "      <td>69192.0</td>\n",
       "      <td>8494.0</td>\n",
       "      <td>...</td>\n",
       "      <td>70454.0</td>\n",
       "      <td>0</td>\n",
       "      <td>69143.0</td>\n",
       "      <td>8447</td>\n",
       "      <td>69143.0</td>\n",
       "      <td>8447</td>\n",
       "      <td>0.0</td>\n",
       "      <td>68459.0</td>\n",
       "      <td>8447</td>\n",
       "      <td>0.0</td>\n",
       "    </tr>\n",
       "    <tr>\n",
       "      <th>...</th>\n",
       "      <td>...</td>\n",
       "      <td>...</td>\n",
       "      <td>...</td>\n",
       "      <td>...</td>\n",
       "      <td>...</td>\n",
       "      <td>...</td>\n",
       "      <td>...</td>\n",
       "      <td>...</td>\n",
       "      <td>...</td>\n",
       "      <td>...</td>\n",
       "      <td>...</td>\n",
       "      <td>...</td>\n",
       "      <td>...</td>\n",
       "      <td>...</td>\n",
       "      <td>...</td>\n",
       "      <td>...</td>\n",
       "      <td>...</td>\n",
       "      <td>...</td>\n",
       "      <td>...</td>\n",
       "      <td>...</td>\n",
       "      <td>...</td>\n",
       "    </tr>\n",
       "    <tr>\n",
       "      <th>NA19239.r3.H07</th>\n",
       "      <td>0</td>\n",
       "      <td>81183.0</td>\n",
       "      <td>8743</td>\n",
       "      <td>2</td>\n",
       "      <td>2</td>\n",
       "      <td>90</td>\n",
       "      <td>8</td>\n",
       "      <td>858</td>\n",
       "      <td>81237.0</td>\n",
       "      <td>8797.0</td>\n",
       "      <td>...</td>\n",
       "      <td>82183.0</td>\n",
       "      <td>0</td>\n",
       "      <td>81183.0</td>\n",
       "      <td>8743</td>\n",
       "      <td>81183.0</td>\n",
       "      <td>8743</td>\n",
       "      <td>0.0</td>\n",
       "      <td>68888.0</td>\n",
       "      <td>8739</td>\n",
       "      <td>0.0</td>\n",
       "    </tr>\n",
       "    <tr>\n",
       "      <th>NA19239.r3.H08</th>\n",
       "      <td>0</td>\n",
       "      <td>57496.0</td>\n",
       "      <td>7993</td>\n",
       "      <td>2</td>\n",
       "      <td>2</td>\n",
       "      <td>91</td>\n",
       "      <td>8</td>\n",
       "      <td>859</td>\n",
       "      <td>57547.0</td>\n",
       "      <td>8044.0</td>\n",
       "      <td>...</td>\n",
       "      <td>58589.0</td>\n",
       "      <td>0</td>\n",
       "      <td>57496.0</td>\n",
       "      <td>7993</td>\n",
       "      <td>57496.0</td>\n",
       "      <td>7993</td>\n",
       "      <td>0.0</td>\n",
       "      <td>66686.0</td>\n",
       "      <td>7995</td>\n",
       "      <td>0.0</td>\n",
       "    </tr>\n",
       "    <tr>\n",
       "      <th>NA19239.r3.H09</th>\n",
       "      <td>0</td>\n",
       "      <td>54582.0</td>\n",
       "      <td>7759</td>\n",
       "      <td>2</td>\n",
       "      <td>2</td>\n",
       "      <td>92</td>\n",
       "      <td>8</td>\n",
       "      <td>860</td>\n",
       "      <td>54633.0</td>\n",
       "      <td>7810.0</td>\n",
       "      <td>...</td>\n",
       "      <td>55501.0</td>\n",
       "      <td>0</td>\n",
       "      <td>54582.0</td>\n",
       "      <td>7759</td>\n",
       "      <td>54582.0</td>\n",
       "      <td>7759</td>\n",
       "      <td>0.0</td>\n",
       "      <td>66650.0</td>\n",
       "      <td>7760</td>\n",
       "      <td>0.0</td>\n",
       "    </tr>\n",
       "    <tr>\n",
       "      <th>NA19239.r3.H11</th>\n",
       "      <td>0</td>\n",
       "      <td>49693.0</td>\n",
       "      <td>7538</td>\n",
       "      <td>2</td>\n",
       "      <td>2</td>\n",
       "      <td>94</td>\n",
       "      <td>8</td>\n",
       "      <td>862</td>\n",
       "      <td>49716.0</td>\n",
       "      <td>7561.0</td>\n",
       "      <td>...</td>\n",
       "      <td>50640.0</td>\n",
       "      <td>0</td>\n",
       "      <td>49693.0</td>\n",
       "      <td>7538</td>\n",
       "      <td>49693.0</td>\n",
       "      <td>7538</td>\n",
       "      <td>0.0</td>\n",
       "      <td>66719.0</td>\n",
       "      <td>7575</td>\n",
       "      <td>0.0</td>\n",
       "    </tr>\n",
       "    <tr>\n",
       "      <th>NA19239.r3.H12</th>\n",
       "      <td>0</td>\n",
       "      <td>75941.0</td>\n",
       "      <td>8485</td>\n",
       "      <td>2</td>\n",
       "      <td>2</td>\n",
       "      <td>95</td>\n",
       "      <td>8</td>\n",
       "      <td>863</td>\n",
       "      <td>75998.0</td>\n",
       "      <td>8541.0</td>\n",
       "      <td>...</td>\n",
       "      <td>76885.0</td>\n",
       "      <td>0</td>\n",
       "      <td>75941.0</td>\n",
       "      <td>8485</td>\n",
       "      <td>75941.0</td>\n",
       "      <td>8485</td>\n",
       "      <td>0.0</td>\n",
       "      <td>68916.0</td>\n",
       "      <td>8485</td>\n",
       "      <td>0.0</td>\n",
       "    </tr>\n",
       "  </tbody>\n",
       "</table>\n",
       "<p>670 rows × 26 columns</p>\n",
       "</div>"
      ],
      "text/plain": [
       "                orig.ident  nCount_RNA  nFeature_RNA  individual  replicate  \\\n",
       "NA19098.r1.A01           0     61663.0          8200           0          0   \n",
       "NA19098.r1.A02           0     62260.0          8078           0          0   \n",
       "NA19098.r1.A03           0     42176.0          7153           0          0   \n",
       "NA19098.r1.A04           0     52278.0          7820           0          0   \n",
       "NA19098.r1.A05           0     69143.0          8447           0          0   \n",
       "...                    ...         ...           ...         ...        ...   \n",
       "NA19239.r3.H07           0     81183.0          8743           2          2   \n",
       "NA19239.r3.H08           0     57496.0          7993           2          2   \n",
       "NA19239.r3.H09           0     54582.0          7759           2          2   \n",
       "NA19239.r3.H11           0     49693.0          7538           2          2   \n",
       "NA19239.r3.H12           0     75941.0          8485           2          2   \n",
       "\n",
       "                well  batch  sample_id      sum  detected  ...    total  \\\n",
       "NA19098.r1.A01     0      0          0  61707.0    8242.0  ...  62894.0   \n",
       "NA19098.r1.A02     1      0          1  62300.0    8115.0  ...  63577.0   \n",
       "NA19098.r1.A03     2      0          2  42212.0    7189.0  ...  43333.0   \n",
       "NA19098.r1.A04     3      0          3  52324.0    7863.0  ...  53564.0   \n",
       "NA19098.r1.A05     4      0          4  69192.0    8494.0  ...  70454.0   \n",
       "...              ...    ...        ...      ...       ...  ...      ...   \n",
       "NA19239.r3.H07    90      8        858  81237.0    8797.0  ...  82183.0   \n",
       "NA19239.r3.H08    91      8        859  57547.0    8044.0  ...  58589.0   \n",
       "NA19239.r3.H09    92      8        860  54633.0    7810.0  ...  55501.0   \n",
       "NA19239.r3.H11    94      8        862  49716.0    7561.0  ...  50640.0   \n",
       "NA19239.r3.H12    95      8        863  75998.0    8541.0  ...  76885.0   \n",
       "\n",
       "                discard  nCount_logCP10K  nFeature_logCP10K  nCount_logCPM  \\\n",
       "NA19098.r1.A01        0          61663.0               8200        61663.0   \n",
       "NA19098.r1.A02        0          62260.0               8078        62260.0   \n",
       "NA19098.r1.A03        0          42176.0               7153        42176.0   \n",
       "NA19098.r1.A04        0          52278.0               7820        52278.0   \n",
       "NA19098.r1.A05        0          69143.0               8447        69143.0   \n",
       "...                 ...              ...                ...            ...   \n",
       "NA19239.r3.H07        0          81183.0               8743        81183.0   \n",
       "NA19239.r3.H08        0          57496.0               7993        57496.0   \n",
       "NA19239.r3.H09        0          54582.0               7759        54582.0   \n",
       "NA19239.r3.H11        0          49693.0               7538        49693.0   \n",
       "NA19239.r3.H12        0          75941.0               8485        75941.0   \n",
       "\n",
       "                nFeature_logCPM  percent.mt  nCount_SCT  nFeature_SCT  \\\n",
       "NA19098.r1.A01             8200         0.0     66713.0          8200   \n",
       "NA19098.r1.A02             8078         0.0     66744.0          8078   \n",
       "NA19098.r1.A03             7153         0.0     66762.0          7419   \n",
       "NA19098.r1.A04             7820         0.0     66748.0          7835   \n",
       "NA19098.r1.A05             8447         0.0     68459.0          8447   \n",
       "...                         ...         ...         ...           ...   \n",
       "NA19239.r3.H07             8743         0.0     68888.0          8739   \n",
       "NA19239.r3.H08             7993         0.0     66686.0          7995   \n",
       "NA19239.r3.H09             7759         0.0     66650.0          7760   \n",
       "NA19239.r3.H11             7538         0.0     66719.0          7575   \n",
       "NA19239.r3.H12             8485         0.0     68916.0          8485   \n",
       "\n",
       "                percent_mito  \n",
       "NA19098.r1.A01           0.0  \n",
       "NA19098.r1.A02           0.0  \n",
       "NA19098.r1.A03           0.0  \n",
       "NA19098.r1.A04           0.0  \n",
       "NA19098.r1.A05           0.0  \n",
       "...                      ...  \n",
       "NA19239.r3.H07           0.0  \n",
       "NA19239.r3.H08           0.0  \n",
       "NA19239.r3.H09           0.0  \n",
       "NA19239.r3.H11           0.0  \n",
       "NA19239.r3.H12           0.0  \n",
       "\n",
       "[670 rows x 26 columns]"
      ]
     },
     "execution_count": 21,
     "metadata": {},
     "output_type": "execute_result"
    }
   ],
   "source": [
    "adata3.obs"
   ]
  },
  {
   "cell_type": "code",
   "execution_count": null,
   "id": "068f3f1b",
   "metadata": {},
   "outputs": [],
   "source": []
  }
 ],
 "metadata": {
  "kernelspec": {
   "display_name": "Python 3 (ipykernel)",
   "language": "python",
   "name": "python3"
  },
  "language_info": {
   "codemirror_mode": {
    "name": "ipython",
    "version": 3
   },
   "file_extension": ".py",
   "mimetype": "text/x-python",
   "name": "python",
   "nbconvert_exporter": "python",
   "pygments_lexer": "ipython3",
   "version": "3.11.13"
  }
 },
 "nbformat": 4,
 "nbformat_minor": 5
}
