{
 "cells": [
  {
   "cell_type": "code",
   "execution_count": 1,
   "id": "f33e408a-b77f-4b35-a7e1-4cb9ff05e53a",
   "metadata": {},
   "outputs": [
    {
     "name": "stderr",
     "output_type": "stream",
     "text": [
      "R[write to console]: Loading required package: SingleCellExperiment\n",
      "\n",
      "R[write to console]: Loading required package: SummarizedExperiment\n",
      "\n",
      "R[write to console]: Loading required package: MatrixGenerics\n",
      "\n",
      "R[write to console]: Loading required package: matrixStats\n",
      "\n",
      "R[write to console]: \n",
      "Attaching package: ‘MatrixGenerics’\n",
      "\n",
      "\n",
      "R[write to console]: The following objects are masked from ‘package:matrixStats’:\n",
      "\n",
      "    colAlls, colAnyNAs, colAnys, colAvgsPerRowSet, colCollapse,\n",
      "    colCounts, colCummaxs, colCummins, colCumprods, colCumsums,\n",
      "    colDiffs, colIQRDiffs, colIQRs, colLogSumExps, colMadDiffs,\n",
      "    colMads, colMaxs, colMeans2, colMedians, colMins, colOrderStats,\n",
      "    colProds, colQuantiles, colRanges, colRanks, colSdDiffs, colSds,\n",
      "    colSums2, colTabulates, colVarDiffs, colVars, colWeightedMads,\n",
      "    colWeightedMeans, colWeightedMedians, colWeightedSds,\n",
      "    colWeightedVars, rowAlls, rowAnyNAs, rowAnys, rowAvgsPerColSet,\n",
      "    rowCollapse, rowCounts, rowCummaxs, rowCummins, rowCumprods,\n",
      "    rowCumsums, rowDiffs, rowIQRDiffs, rowIQRs, rowLogSumExps,\n",
      "    rowMadDiffs, rowMads, rowMaxs, rowMeans2, rowMedians, rowMins,\n",
      "    rowOrderStats, rowProds, rowQuantiles, rowRanges, rowRanks,\n",
      "    rowSdDiffs, rowSds, rowSums2, rowTabulates, rowVarDiffs, rowVars,\n",
      "    rowWeightedMads, rowWeightedMeans, rowWeightedMedians,\n",
      "    rowWeightedSds, rowWeightedVars\n",
      "\n",
      "\n",
      "R[write to console]: Loading required package: GenomicRanges\n",
      "\n",
      "R[write to console]: Loading required package: stats4\n",
      "\n",
      "R[write to console]: Loading required package: BiocGenerics\n",
      "\n",
      "R[write to console]: \n",
      "Attaching package: ‘BiocGenerics’\n",
      "\n",
      "\n",
      "R[write to console]: The following objects are masked from ‘package:stats’:\n",
      "\n",
      "    IQR, mad, sd, var, xtabs\n",
      "\n",
      "\n",
      "R[write to console]: The following objects are masked from ‘package:base’:\n",
      "\n",
      "    anyDuplicated, aperm, append, as.data.frame, basename, cbind,\n",
      "    colnames, dirname, do.call, duplicated, eval, evalq, Filter, Find,\n",
      "    get, grep, grepl, intersect, is.unsorted, lapply, Map, mapply,\n",
      "    match, mget, order, paste, pmax, pmax.int, pmin, pmin.int,\n",
      "    Position, rank, rbind, Reduce, rownames, sapply, setdiff, sort,\n",
      "    table, tapply, union, unique, unsplit, which.max, which.min\n",
      "\n",
      "\n",
      "R[write to console]: Loading required package: S4Vectors\n",
      "\n",
      "R[write to console]: \n",
      "Attaching package: ‘S4Vectors’\n",
      "\n",
      "\n",
      "R[write to console]: The following objects are masked from ‘package:base’:\n",
      "\n",
      "    expand.grid, I, unname\n",
      "\n",
      "\n",
      "R[write to console]: Loading required package: IRanges\n",
      "\n",
      "R[write to console]: Loading required package: GenomeInfoDb\n",
      "\n",
      "R[write to console]: Loading required package: Biobase\n",
      "\n",
      "R[write to console]: Welcome to Bioconductor\n",
      "\n",
      "    Vignettes contain introductory material; view with\n",
      "    'browseVignettes()'. To cite Bioconductor, see\n",
      "    'citation(\"Biobase\")', and for packages 'citation(\"pkgname\")'.\n",
      "\n",
      "\n",
      "R[write to console]: \n",
      "Attaching package: ‘Biobase’\n",
      "\n",
      "\n",
      "R[write to console]: The following object is masked from ‘package:MatrixGenerics’:\n",
      "\n",
      "    rowMedians\n",
      "\n",
      "\n",
      "R[write to console]: The following objects are masked from ‘package:matrixStats’:\n",
      "\n",
      "    anyMissing, rowMedians\n",
      "\n",
      "\n",
      "R[write to console]: Loading required package: scuttle\n",
      "\n",
      "R[write to console]: Loading required package: ggplot2\n",
      "\n"
     ]
    },
    {
     "name": "stdout",
     "output_type": "stream",
     "text": [
      "\n",
      "    WARNING: The R package \"reticulate\" only fixed recently\n",
      "    an issue that caused a segfault when used with rpy2:\n",
      "    https://github.com/rstudio/reticulate/pull/1188\n",
      "    Make sure that you use a version of that package that includes\n",
      "    the fix.\n",
      "    "
     ]
    },
    {
     "name": "stderr",
     "output_type": "stream",
     "text": [
      "R[write to console]: Attaching SeuratObject\n",
      "\n",
      "R[write to console]: Seurat v4 was just loaded with SeuratObject v5; disabling v5 assays and\n",
      "validation routines, and ensuring assays work in strict v3/v4\n",
      "compatibility mode\n",
      "\n",
      "R[write to console]: \n",
      "Attaching package: ‘Seurat’\n",
      "\n",
      "\n",
      "R[write to console]: The following object is masked from ‘package:SummarizedExperiment’:\n",
      "\n",
      "    Assays\n",
      "\n",
      "\n",
      "R[write to console]: Registered S3 method overwritten by 'SeuratDisk':\n",
      "  method            from  \n",
      "  as.sparse.H5Group Seurat\n",
      "\n",
      "R[write to console]: Signac built for for SeuratObject v4 was just loaded with SeuratObject\n",
      "v5; disabling v5 assays and validation routines, and ensuring assays\n",
      "work in strict v3/v4 compatibility mode\n",
      "\n"
     ]
    },
    {
     "ename": "ModuleNotFoundError",
     "evalue": "No module named 'tools.utils.utils'",
     "output_type": "error",
     "traceback": [
      "\u001b[0;31m---------------------------------------------------------------------------\u001b[0m",
      "\u001b[0;31mModuleNotFoundError\u001b[0m                       Traceback (most recent call last)",
      "Cell \u001b[0;32mIn[1], line 6\u001b[0m\n\u001b[1;32m      4\u001b[0m sys\u001b[38;5;241m.\u001b[39mpath\u001b[38;5;241m.\u001b[39mappend(\u001b[38;5;124m'\u001b[39m\u001b[38;5;124m..\u001b[39m\u001b[38;5;124m'\u001b[39m)\n\u001b[1;32m      5\u001b[0m \u001b[38;5;28;01mfrom\u001b[39;00m \u001b[38;5;21;01mtools\u001b[39;00m\u001b[38;5;21;01m.\u001b[39;00m\u001b[38;5;21;01mformating\u001b[39;00m\u001b[38;5;21;01m.\u001b[39;00m\u001b[38;5;21;01mformating\u001b[39;00m \u001b[38;5;28;01mimport\u001b[39;00m \u001b[38;5;241m*\u001b[39m\n\u001b[0;32m----> 6\u001b[0m \u001b[38;5;28;01mfrom\u001b[39;00m \u001b[38;5;21;01mtools\u001b[39;00m\u001b[38;5;21;01m.\u001b[39;00m\u001b[38;5;21;01mutils\u001b[39;00m\u001b[38;5;21;01m.\u001b[39;00m\u001b[38;5;21;01mutils\u001b[39;00m \u001b[38;5;28;01mimport\u001b[39;00m \u001b[38;5;241m*\u001b[39m\n\u001b[1;32m      7\u001b[0m \u001b[38;5;28;01mfrom\u001b[39;00m \u001b[38;5;21;01mtools\u001b[39;00m\u001b[38;5;21;01m.\u001b[39;00m\u001b[38;5;21;01mqc\u001b[39;00m\u001b[38;5;21;01m.\u001b[39;00m\u001b[38;5;21;01mscanpy_qc\u001b[39;00m \u001b[38;5;28;01mimport\u001b[39;00m \u001b[38;5;241m*\u001b[39m\n\u001b[1;32m      8\u001b[0m \u001b[38;5;28;01mimport\u001b[39;00m \u001b[38;5;21;01mnumpy\u001b[39;00m \u001b[38;5;28;01mas\u001b[39;00m \u001b[38;5;21;01mnp\u001b[39;00m\n",
      "\u001b[0;31mModuleNotFoundError\u001b[0m: No module named 'tools.utils.utils'"
     ]
    }
   ],
   "source": [
    "import os\n",
    "import subprocess\n",
    "import sys\n",
    "sys.path.append('..')\n",
    "from tools.formating.formating import *\n",
    "from tools.utils.utils import *\n",
    "from tools.qc.scanpy_qc import *\n",
    "import numpy as np\n",
    "import scipy"
   ]
  },
  {
   "cell_type": "code",
   "execution_count": 5,
   "id": "4d867cb5-fd7b-449b-a6bf-aa87ee94fd58",
   "metadata": {},
   "outputs": [
    {
     "name": "stdout",
     "output_type": "stream",
     "text": [
      "/ps/ai-ready/data/Clustering/Tabula_Muris/droplet_Bladder_seurat_tiss.h5ad\n"
     ]
    },
    {
     "data": {
      "text/plain": [
       "AnnData object with n_obs × n_vars = 2392 × 23341\n",
       "    obs: 'orig.ident', 'n_counts', 'n_genes', 'channel', 'tissue', 'subtissue', 'mouse.sex', 'mouse.id', 'percent.ercc', 'percent.ribo', 'free_annotation', 'cell_ontology_class', 'res.0.4', 'previous_free_annotation', 'previous_cell_ontology_class', 'cluster.ids', 'cell_ontology_id', 'pct_counts_mt', 'pct_counts_rb', 'pct_counts_hb', 'percent.plat', 'RNA_snn_res.0.5', 'seurat_clusters', 'doublet_score', 'doublet_class'\n",
       "    var: 'vst.mean', 'vst.variance', 'vst.variance.expected', 'vst.variance.standardized', 'vst.variable'\n",
       "    obsm: 'X_pca', 'X_tsne', 'X_umap'\n",
       "    layers: 'scale.data'"
      ]
     },
     "execution_count": 5,
     "metadata": {},
     "output_type": "execute_result"
    }
   ],
   "source": [
    "# input = \"/ps/ai-ready/data/Clustering/Tabula_Sapiens/TS_germ line.h5ad\"\n",
    "input = \"/ps/ai-ready/data/Clustering/Tabula_Muris/droplet_Bladder_seurat_tiss.h5ad\"\n",
    "# input = \"/ps/ai-ready/data/error/hca_heart_neuronal_raw.h5ad\"\n",
    "# input = \"/ps/ai-ready/data/Clustering/Tabula_Sapiens/TS_Skin.h5ad\"\n",
    "# input = \"/ps/ai-ready/data/error/droplet_Bladder_seurat_tiss.h5ad\"\n",
    "# input = \"/ps/ai-ready/data/error/droplet_Bladder_seurat_tiss.h5seurat\"\n",
    "# input = \"/ps/ai-ready/data/error/tung.rds\"\n",
    "adata = load_anndata(input)\n",
    "adata"
   ]
  },
  {
   "cell_type": "code",
   "execution_count": 3,
   "id": "b76cbde3-7013-4c61-b86a-7124b46f0671",
   "metadata": {},
   "outputs": [],
   "source": [
    "info=adata.__str__()"
   ]
  },
  {
   "cell_type": "code",
   "execution_count": 4,
   "id": "19b53151-5685-44a4-9725-5ef3ae014824",
   "metadata": {
    "scrolled": true
   },
   "outputs": [
    {
     "name": "stdout",
     "output_type": "stream",
     "text": [
      "AnnData object with n_obs × n_vars = 9424 × 58870\n",
      "    obs: 'organ_tissue', 'method', 'donor', 'anatomical_information', 'n_counts_UMIs', 'n_genes', 'cell_ontology_class', 'free_annotation', 'manually_annotated', 'compartment', 'gender'\n",
      "    var: 'gene_symbol', 'feature_type', 'ensemblid', 'highly_variable', 'means', 'dispersions', 'dispersions_norm', 'mean', 'std'\n",
      "    uns: '_scvi', '_training_mode', 'cell_ontology_class_colors', 'dendrogram_cell_type_tissue', 'dendrogram_computational_compartment_assignment', 'dendrogram_consensus_prediction', 'dendrogram_tissue_cell_type', 'donor_colors', 'donor_method_colors', 'hvg', 'method_colors', 'neighbors', 'organ_tissue_colors', 'sex_colors', 'tissue_colors', 'umap'\n",
      "    obsm: 'X_pca', 'X_scvi', 'X_scvi_umap', 'X_umap'\n",
      "    layers: 'decontXcounts', 'raw_counts'\n",
      "    obsp: 'connectivities', 'distances'\n"
     ]
    }
   ],
   "source": [
    "print(info)"
   ]
  },
  {
   "cell_type": "code",
   "execution_count": 42,
   "id": "d8c93225-bbcb-4f7c-9128-67b1260ef53e",
   "metadata": {},
   "outputs": [
    {
     "data": {
      "text/plain": [
       "['macrophage', 'stromal cells', 'CD8-positive memory T cell', 'classic dendritic cells type 1', 'alpha-beta T cell', ..., 'Memory B cell', 'Langerhans cells', 'Naive B cell', 'smooth muscle cells', 'skeletal muscle cells']\n",
       "Length: 25\n",
       "Categories (25, object): ['CD4-positive helper T cells', 'CD4-positive memory T cell', 'CD8-positive cytotoxic T cells', 'CD8-positive memory T cell', ..., 'muscle cells', 'skeletal muscle cells', 'smooth muscle cells', 'stromal cells']"
      ]
     },
     "execution_count": 42,
     "metadata": {},
     "output_type": "execute_result"
    }
   ],
   "source": [
    "adata.obs.free_annotation.unique()"
   ]
  },
  {
   "cell_type": "code",
   "execution_count": 44,
   "id": "b3920d00-738e-48dc-89a2-71a1270d45c1",
   "metadata": {},
   "outputs": [],
   "source": [
    "def subset_by_obskey(\n",
    "        adata: AnnData,\n",
    "        obskey: str,\n",
    "        values: list):\n",
    "    adata_merge = None\n",
    "    if isinstance(adata, AnnData):\n",
    "        if obskey in adata.obs.keys() and len(values)>0:\n",
    "            adata_list = []\n",
    "            for value in values:\n",
    "                adata_list.append(adata[adata.obs[obskey] == value])\n",
    "            adata_merge = sc.AnnData.concatenate(*adata_list, join='outer')\n",
    "            adata_merge.var_names_make_unique()\n",
    "            adata_merge.obs_names_make_unique()\n",
    "\n",
    "    return adata_merge"
   ]
  },
  {
   "cell_type": "code",
   "execution_count": 45,
   "id": "8998670a-10bc-4c6a-8a97-4374e8227a3f",
   "metadata": {},
   "outputs": [
    {
     "data": {
      "text/plain": [
       "AnnData object with n_obs × n_vars = 4663 × 58870\n",
       "    obs: 'organ_tissue', 'method', 'donor', 'anatomical_information', 'n_counts_UMIs', 'n_genes', 'cell_ontology_class', 'free_annotation', 'manually_annotated', 'compartment', 'gender', 'batch'\n",
       "    var: 'gene_symbol', 'feature_type', 'ensemblid', 'highly_variable', 'means', 'dispersions', 'dispersions_norm', 'mean', 'std'\n",
       "    obsm: 'X_pca', 'X_scvi', 'X_scvi_umap', 'X_umap'\n",
       "    layers: 'decontXcounts', 'raw_counts'"
      ]
     },
     "execution_count": 45,
     "metadata": {},
     "output_type": "execute_result"
    }
   ],
   "source": [
    "adata_sub = subset_by_obskey(adata, \"free_annotation\", ['macrophage', 'stromal cells', 'CD8-positive memory T cell', 'classic dendritic cells type 1'])\n",
    "adata_sub"
   ]
  },
  {
   "cell_type": "code",
   "execution_count": 30,
   "id": "8a870248-d172-4fb2-805f-e95affc52194",
   "metadata": {},
   "outputs": [
    {
     "data": {
      "text/plain": [
       "AnnData object with n_obs × n_vars = 846 × 58870\n",
       "    obs: 'organ_tissue', 'method', 'donor', 'anatomical_information', 'n_counts_UMIs', 'n_genes', 'cell_ontology_class', 'free_annotation', 'manually_annotated', 'compartment', 'gender'\n",
       "    var: 'gene_symbol', 'feature_type', 'ensemblid', 'highly_variable', 'means', 'dispersions', 'dispersions_norm', 'mean', 'std'\n",
       "    uns: '_scvi', '_training_mode', 'cell_ontology_class_colors', 'dendrogram_cell_type_tissue', 'dendrogram_computational_compartment_assignment', 'dendrogram_consensus_prediction', 'dendrogram_tissue_cell_type', 'donor_colors', 'donor_method_colors', 'hvg', 'method_colors', 'neighbors', 'organ_tissue_colors', 'sex_colors', 'tissue_colors', 'umap'\n",
       "    obsm: 'X_pca', 'X_scvi', 'X_scvi_umap', 'X_umap'\n",
       "    layers: 'decontXcounts', 'raw_counts'\n",
       "    obsp: 'connectivities', 'distances'"
      ]
     },
     "execution_count": 30,
     "metadata": {},
     "output_type": "execute_result"
    }
   ],
   "source": [
    "# adata_sub = adata[adata.obs.free_annotation in [\"stromal cell\", \"macrophage\", \"CD8-positive memory T cell\", \"classic dendritic cells type 1\t\"], :].cpoy()\n",
    "# adata_sub = adata[adata.obs['free_annotation']==\"stromal cell\" | adata.obs['free_annotation']==\"macrophage\", :].copy()\n",
    "adata_sub = adata[adata.obs['free_annotation']==\"macrophage\", :].copy()\n",
    "adata_sub"
   ]
  },
  {
   "cell_type": "code",
   "execution_count": 20,
   "id": "086e2b92-43a2-4786-8579-3a4c25325df5",
   "metadata": {},
   "outputs": [],
   "source": [
    "import hashlib\n",
    "\n",
    "def get_file_md5(path: str, split_num=25600, get_byte=8):\n",
    "\n",
    "    if not isinstance(split_num, int) or split_num <= 0:\n",
    "        raise TypeError(\"split_num must be a positive none-zero integer!\")\n",
    "    if not isinstance(get_byte, int) or get_byte <= 0:\n",
    "        raise TypeError(\"get_byte must be a positive none-zero integer!\")\n",
    "    if not os.path.exists(path):\n",
    "        raise TypeError(\"%s does not exist!\" % path)\n",
    "    if os.path.isdir(path):\n",
    "        raise TypeError(\"%s is a folder, while path should be a file!\" % path)\n",
    "    \n",
    "    size = os.path.getsize(path)\n",
    "    # For a small file (equal to or less than 500M), caculate the MD5 values directly.\n",
    "    if size < split_num * get_byte:\n",
    "        # Read the file\n",
    "        with open(path, 'rb') as f1:\n",
    "            f1 = f1.read()\n",
    "        cipher = hashlib.md5()\n",
    "        cipher.update(str(split_num).encode('utf-8'))\n",
    "        cipher.update(f1)\n",
    "        cipher.update(str(get_byte).encode('utf-8'))\n",
    "        return cipher.hexdigest()\n",
    "    # For a large file, split the file in to several segment, and then sum the MD5 value. \n",
    "    mean_size = size // split_num\n",
    "    cipher = hashlib.md5()\n",
    "    # Position\n",
    "    place = 0\n",
    "    with open(path, 'rb') as f1:\n",
    "        for i in range(split_num):\n",
    "            f1.seek(place)\n",
    "            res = f1.read(get_byte)\n",
    "            cipher.update(res)\n",
    "            place = place + mean_size\n",
    "\n",
    "    return cipher.hexdigest()\n",
    "\n",
    "\n",
    "def get_md5(path:str):\n",
    "    md5 = []\n",
    "    if not os.path.exists(path):\n",
    "        raise TypeError(\"%s does not exist!\" % path)\n",
    "    if os.path.isdir(path):\n",
    "        for file in os.listdir(path):\n",
    "            md5.append(get_file_md5(path+file))\n",
    "    else:\n",
    "        md5.append(get_file_md5(path))\n",
    "    return md5"
   ]
  },
  {
   "cell_type": "code",
   "execution_count": 12,
   "id": "13f1c02d-15bf-4486-81e1-3928109c92bb",
   "metadata": {},
   "outputs": [
    {
     "data": {
      "text/plain": [
       "['442217c862bbe96ca6f524773688197d',\n",
       " 'bff56ec0a9c9214d5a25376c3c3e4769',\n",
       " 'a24e191e516f736c86490395a3d2476f',\n",
       " '765a3f8472b32a8e48e5cd17d29e6f2a',\n",
       " '7d7063ee0b6b865e6f4147e3cde21a1c',\n",
       " '9529fb778f3be8160ee0535b1ad05d8c',\n",
       " '83ced3bcf724cd6a69295661fbba570a',\n",
       " 'a3b6a2e86e360676f069876105f81caa',\n",
       " '836672abf651ccac3dc1a731a4a6a6e2',\n",
       " 'd89dd623864922970e989223fbf747ef',\n",
       " '9e80b231464c8374f96f7b7028421940',\n",
       " '14a66c3744a70d220410fc2a67bcbe16',\n",
       " '405d16ce0dcbbdd6f81bb38c2e4fdf5a',\n",
       " 'd6017480f597f082e5d36eaf0c71a076',\n",
       " 'd5a166995b294ba78a654b96a43ec2a4',\n",
       " 'ac9f2d95d876bbc23d2ede3580b46f1e',\n",
       " 'a176808a1074d052fb184f769fa295ad',\n",
       " 'd71bfdff4c63d7504c9c054ffd8ef896',\n",
       " 'ffad55079d0a0b5a0e9a74492d78a5b1',\n",
       " 'a57f84ceabb70fa59e31a8cdfbf9d249',\n",
       " '158b140b43ffeae4c8087169c714a6a9',\n",
       " '0ef573b467c9e98816634534ea4e1e7c',\n",
       " '29d84f4c9bea2cdf36722236bc3b91c7',\n",
       " 'ea4eb0b890f2a1234e36353136d22223',\n",
       " '3d0eff1ead778b9f2ec2f27fb81be51a',\n",
       " '68ae8de8a14afaaa79a49e8d1c9987d3',\n",
       " 'f43db9de4991761a713e77909f9fb539',\n",
       " 'd03b7634224f77855b985136179845cd',\n",
       " '3ee95e6a2b93a251394b5fd37fb2bec9',\n",
       " '39dd76a37984f37348f181d34404dac2',\n",
       " 'c9ba0e518d1c883953fd772b08216677',\n",
       " '489c400a8589be1d332a0315b2175ef5',\n",
       " 'f2b9737e09e8ba5180cf6ad979bd0bbf']"
      ]
     },
     "execution_count": 12,
     "metadata": {},
     "output_type": "execute_result"
    }
   ],
   "source": [
    "md5 = get_md5(\"/ps/ai-ready/data/Clustering/Tabula_Sapiens/\")\n",
    "md5"
   ]
  },
  {
   "cell_type": "code",
   "execution_count": 8,
   "id": "dd596c25-019e-46fd-9eaa-44e2f32848a5",
   "metadata": {},
   "outputs": [
    {
     "data": {
      "text/plain": [
       "['TS_Small_Intestine.h5ad',\n",
       " 'TS_Skin_test.h5ad',\n",
       " 'TS_Heart.h5ad',\n",
       " 'Tabula_Sapiens_metadata.csv',\n",
       " 'TS_endothelial.h5ad',\n",
       " 'TS_Salivary_Gland.h5ad',\n",
       " 'TS_Skin.h5ad',\n",
       " 'TS_Tongue.h5ad',\n",
       " 'TS_Kidney.h5ad',\n",
       " 'TS_Bone_Marrow.h5ad',\n",
       " 'TS_Trachea.h5ad',\n",
       " 'TS_Muscle.h5ad',\n",
       " 'TS_Pancreas.h5ad',\n",
       " 'TS_epithelial.h5ad',\n",
       " 'TS_Eye.h5ad',\n",
       " 'TS_Lymph_Node.h5ad',\n",
       " 'TabulaSapiens.h5ad',\n",
       " 'TS_stromal.h5ad',\n",
       " 'TS_Uterus.h5ad',\n",
       " 'TS_germ line.h5ad',\n",
       " 'TS_Large_Intestine.h5ad',\n",
       " 'TS_Vasculature.h5ad',\n",
       " 'TS_Lung.h5ad',\n",
       " 'TS_Spleen.h5ad',\n",
       " 'TS_Mammary.h5ad',\n",
       " 'TS_Bladder.h5ad',\n",
       " 'TS_Thymus.h5ad',\n",
       " 'TS_Fat.h5ad',\n",
       " 'TS_immune.h5ad',\n",
       " 'TS_Skin_test.h5seurat',\n",
       " 'TS_Prostate.h5ad',\n",
       " 'TS_Liver.h5ad',\n",
       " 'TS_Blood.h5ad']"
      ]
     },
     "execution_count": 8,
     "metadata": {},
     "output_type": "execute_result"
    }
   ],
   "source": [
    "os.listdir(\"/ps/ai-ready/data/Clustering/Tabula_Sapiens/\")"
   ]
  },
  {
   "cell_type": "code",
   "execution_count": null,
   "id": "0a4c7866-6c0d-4a26-8cb8-afd6302348eb",
   "metadata": {},
   "outputs": [],
   "source": [
    "adata.obs.head()"
   ]
  },
  {
   "cell_type": "code",
   "execution_count": null,
   "id": "f9ecec31-76d4-41f0-911e-9c8260094bf5",
   "metadata": {},
   "outputs": [],
   "source": [
    "adata.var.head()"
   ]
  },
  {
   "cell_type": "code",
   "execution_count": null,
   "id": "603c077c-189c-44b9-9198-7a4c1aa0e0f9",
   "metadata": {},
   "outputs": [],
   "source": [
    "df = pd.DataFrame.sparse.from_spmatrix(adata.X, index=None, columns=None)\n",
    "df"
   ]
  },
  {
   "cell_type": "code",
   "execution_count": null,
   "id": "b248c0e2-e14f-4df8-a5e1-203e0c7eec25",
   "metadata": {},
   "outputs": [],
   "source": [
    "# Convert Seurat/Single-Cell Experiment object to Anndata object and return the path of Anndata object\n",
    "def convert_seurat_sce_to_anndata1(path, assay='RNA'):\n",
    "    import rpy2.rinterface_lib.callbacks as rcb\n",
    "    import rpy2.robjects as ro\n",
    "    import anndata2ri\n",
    "    from rpy2.robjects.packages import importr\n",
    "    from rpy2.robjects import pandas2ri\n",
    "    from rpy2.robjects.conversion import localconverter\n",
    "    \n",
    "    rcb.logger.setLevel(logging.ERROR)\n",
    "    ro.pandas2ri.activate()\n",
    "    anndata2ri.activate()\n",
    "\n",
    "    # Defining the R script and loading the instance in Python\n",
    "    ro.r['source'](os.path.abspath(\"../tools/formating/formating.R\"))\n",
    "    # Access the loaded R functions\n",
    "    ConvertSeuratSCEtoAnndata_r = ro.globalenv['ConvertSeuratSCEtoAnndata']\n",
    "\n",
    "    assay_names = None\n",
    "    adata_path = None\n",
    "    results = None\n",
    "\n",
    "    if path.endswith(\".h5Seurat\") or path.endswith(\".h5seurat\") or path.endswith(\".rds\") or path.endswith(\".Robj\"):\n",
    "        results = ConvertSeuratSCEtoAnndata_r(path, assay=assay)\n",
    "        print(results)\n",
    "        adata_path = str(results.rx2('anndata_path'))\n",
    "        # adata_path = list(results[2])[0]\n",
    "        assay_names = list(results[1])\n",
    "    \n",
    "    return results"
   ]
  },
  {
   "cell_type": "code",
   "execution_count": null,
   "id": "37d0b493-7b1f-4dd8-b56e-6101f8efff90",
   "metadata": {},
   "outputs": [],
   "source": [
    "results = convert_seurat_sce_to_anndata1(input)\n",
    "results"
   ]
  },
  {
   "cell_type": "code",
   "execution_count": null,
   "id": "2f7b0ec1-eed2-41b5-8474-e1c7c1b67e7c",
   "metadata": {},
   "outputs": [],
   "source": [
    "type(results)"
   ]
  },
  {
   "cell_type": "code",
   "execution_count": null,
   "id": "656faad2-05c7-4966-b67d-b27c19d9d362",
   "metadata": {},
   "outputs": [],
   "source": [
    "from collections import OrderedDict\n",
    "\n",
    "results = OrderedDict(results)"
   ]
  },
  {
   "cell_type": "code",
   "execution_count": null,
   "id": "ff83b08f-135b-4133-9f37-39509b7d970b",
   "metadata": {},
   "outputs": [],
   "source": [
    "results['anndata_path'][0]"
   ]
  },
  {
   "cell_type": "code",
   "execution_count": null,
   "id": "2fa89361-476b-44df-a6f4-0c24fc660949",
   "metadata": {},
   "outputs": [],
   "source": []
  }
 ],
 "metadata": {
  "kernelspec": {
   "display_name": "Python 3 (ipykernel)",
   "language": "python",
   "name": "python3"
  },
  "language_info": {
   "codemirror_mode": {
    "name": "ipython",
    "version": 3
   },
   "file_extension": ".py",
   "mimetype": "text/x-python",
   "name": "python",
   "nbconvert_exporter": "python",
   "pygments_lexer": "ipython3",
   "version": "3.8.10"
  }
 },
 "nbformat": 4,
 "nbformat_minor": 5
}
