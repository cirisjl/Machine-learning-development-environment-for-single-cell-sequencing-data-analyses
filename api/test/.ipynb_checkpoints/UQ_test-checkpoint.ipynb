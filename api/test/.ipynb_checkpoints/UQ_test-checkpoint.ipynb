{
 "cells": [
  {
   "cell_type": "code",
   "execution_count": 1,
   "id": "e47ae30c-d7db-4c96-9c2b-47ae5aa0f233",
   "metadata": {},
   "outputs": [
    {
     "name": "stderr",
     "output_type": "stream",
     "text": [
      "Loading required package: limma\n",
      "\n",
      "Loading required package: SingleCellExperiment\n",
      "\n",
      "Loading required package: SummarizedExperiment\n",
      "\n",
      "Loading required package: MatrixGenerics\n",
      "\n",
      "Loading required package: matrixStats\n",
      "\n",
      "\n",
      "Attaching package: ‘MatrixGenerics’\n",
      "\n",
      "\n",
      "The following objects are masked from ‘package:matrixStats’:\n",
      "\n",
      "    colAlls, colAnyNAs, colAnys, colAvgsPerRowSet, colCollapse,\n",
      "    colCounts, colCummaxs, colCummins, colCumprods, colCumsums,\n",
      "    colDiffs, colIQRDiffs, colIQRs, colLogSumExps, colMadDiffs,\n",
      "    colMads, colMaxs, colMeans2, colMedians, colMins, colOrderStats,\n",
      "    colProds, colQuantiles, colRanges, colRanks, colSdDiffs, colSds,\n",
      "    colSums2, colTabulates, colVarDiffs, colVars, colWeightedMads,\n",
      "    colWeightedMeans, colWeightedMedians, colWeightedSds,\n",
      "    colWeightedVars, rowAlls, rowAnyNAs, rowAnys, rowAvgsPerColSet,\n",
      "    rowCollapse, rowCounts, rowCummaxs, rowCummins, rowCumprods,\n",
      "    rowCumsums, rowDiffs, rowIQRDiffs, rowIQRs, rowLogSumExps,\n",
      "    rowMadDiffs, rowMads, rowMaxs, rowMeans2, rowMedians, rowMins,\n",
      "    rowOrderStats, rowProds, rowQuantiles, rowRanges, rowRanks,\n",
      "    rowSdDiffs, rowSds, rowSums2, rowTabulates, rowVarDiffs, rowVars,\n",
      "    rowWeightedMads, rowWeightedMeans, rowWeightedMedians,\n",
      "    rowWeightedSds, rowWeightedVars\n",
      "\n",
      "\n",
      "Loading required package: GenomicRanges\n",
      "\n",
      "Loading required package: stats4\n",
      "\n",
      "Loading required package: BiocGenerics\n",
      "\n",
      "\n",
      "Attaching package: ‘BiocGenerics’\n",
      "\n",
      "\n",
      "The following object is masked from ‘package:limma’:\n",
      "\n",
      "    plotMA\n",
      "\n",
      "\n",
      "The following objects are masked from ‘package:stats’:\n",
      "\n",
      "    IQR, mad, sd, var, xtabs\n",
      "\n",
      "\n",
      "The following objects are masked from ‘package:base’:\n",
      "\n",
      "    anyDuplicated, aperm, append, as.data.frame, basename, cbind,\n",
      "    colnames, dirname, do.call, duplicated, eval, evalq, Filter, Find,\n",
      "    get, grep, grepl, intersect, is.unsorted, lapply, Map, mapply,\n",
      "    match, mget, order, paste, pmax, pmax.int, pmin, pmin.int,\n",
      "    Position, rank, rbind, Reduce, rownames, sapply, setdiff, sort,\n",
      "    table, tapply, union, unique, unsplit, which.max, which.min\n",
      "\n",
      "\n",
      "Loading required package: S4Vectors\n",
      "\n",
      "\n",
      "Attaching package: ‘S4Vectors’\n",
      "\n",
      "\n",
      "The following objects are masked from ‘package:base’:\n",
      "\n",
      "    expand.grid, I, unname\n",
      "\n",
      "\n",
      "Loading required package: IRanges\n",
      "\n",
      "Loading required package: GenomeInfoDb\n",
      "\n",
      "Loading required package: Biobase\n",
      "\n",
      "Welcome to Bioconductor\n",
      "\n",
      "    Vignettes contain introductory material; view with\n",
      "    'browseVignettes()'. To cite Bioconductor, see\n",
      "    'citation(\"Biobase\")', and for packages 'citation(\"pkgname\")'.\n",
      "\n",
      "\n",
      "\n",
      "Attaching package: ‘Biobase’\n",
      "\n",
      "\n",
      "The following object is masked from ‘package:MatrixGenerics’:\n",
      "\n",
      "    rowMedians\n",
      "\n",
      "\n",
      "The following objects are masked from ‘package:matrixStats’:\n",
      "\n",
      "    anyMissing, rowMedians\n",
      "\n",
      "\n",
      "\n",
      "Attaching package: ‘SingleCellExperiment’\n",
      "\n",
      "\n",
      "The following object is masked from ‘package:edgeR’:\n",
      "\n",
      "    cpm\n",
      "\n",
      "\n",
      "Loading required package: scuttle\n",
      "\n",
      "Loading required package: ggplot2\n",
      "\n",
      "\n",
      "Attaching package: ‘scater’\n",
      "\n",
      "\n",
      "The following object is masked from ‘package:limma’:\n",
      "\n",
      "    plotMDS\n",
      "\n",
      "\n",
      "Attaching SeuratObject\n",
      "\n",
      "Seurat v4 was just loaded with SeuratObject v5; disabling v5 assays and\n",
      "validation routines, and ensuring assays work in strict v3/v4\n",
      "compatibility mode\n",
      "\n",
      "\n",
      "Attaching package: ‘Seurat’\n",
      "\n",
      "\n",
      "The following object is masked from ‘package:SummarizedExperiment’:\n",
      "\n",
      "    Assays\n",
      "\n",
      "\n",
      "Registered S3 method overwritten by 'SeuratDisk':\n",
      "  method            from  \n",
      "  as.sparse.H5Group Seurat\n",
      "\n",
      "Signac built for for SeuratObject v4 was just loaded with SeuratObject\n",
      "v5; disabling v5 assays and validation routines, and ensuring assays\n",
      "work in strict v3/v4 compatibility mode\n",
      "\n",
      "\n",
      "Attaching package: ‘Matrix’\n",
      "\n",
      "\n",
      "The following object is masked from ‘package:S4Vectors’:\n",
      "\n",
      "    expand\n",
      "\n",
      "\n"
     ]
    }
   ],
   "source": [
    "library(edgeR)\n",
    "source(\"formating.R\")"
   ]
  },
  {
   "cell_type": "code",
   "execution_count": 14,
   "id": "96a07395-197d-4a31-ac6a-fe9ea845c92c",
   "metadata": {},
   "outputs": [
    {
     "name": "stderr",
     "output_type": "stream",
     "text": [
      "X -> counts\n",
      "\n"
     ]
    },
    {
     "data": {
      "text/plain": [
       "An object of class Seurat \n",
       "23341 features across 1378 samples within 1 assay \n",
       "Active assay: RNA (23341 features, 0 variable features)\n",
       " 2 layers present: counts, data"
      ]
     },
     "metadata": {},
     "output_type": "display_data"
    }
   ],
   "source": [
    "srat <- tryCatch(\n",
    "    LoadSeurat('../../..//oscb/user_storage/Benchmarks/facs-Bladder_1750955885784/QC/facs_Bladder_Seurat.h5ad'),\n",
    "    error = function(e) {\n",
    "        stop(\"The file format is not supported.\")\n",
    "    })\n",
    "\n",
    "srat"
   ]
  },
  {
   "cell_type": "code",
   "execution_count": 13,
   "id": "6048b42f-a3bc-4be8-9878-be1f9d408303",
   "metadata": {},
   "outputs": [
    {
     "data": {
      "text/plain": [
       "AnnData object with n_obs × n_vars = 1378 × 23341\n",
       "    obs: 'orig.ident', 'n_counts', 'n_genes', 'nReads', 'plate.barcode', 'mouse.id', 'tissue', 'subtissue', 'FACS.selection', 'mouse.sex', 'percent.ercc', 'free_annotation', 'cell_ontology_class', 'percent.ribo', 'res.0.4', 'cluster.ids', 'cell_ontology_id', 'pct_counts_mt', 'pct_counts_rb', 'pct_counts_hb', 'percent.plat', 'RNA_snn_res.0.5', 'seurat_clusters', 'doublet_score', 'doublet_class', 'leiden', 'louvain'\n",
       "    var: 'vst.mean', 'vst.variance', 'vst.variance.expected', 'vst.variance.standardized', 'highly_variable'\n",
       "    uns: 'leiden', 'louvain', 'neighbors', 'pca'\n",
       "    obsm: 'X_pca', 'X_tsne', 'X_umap', 'X_umap_3D'\n",
       "    varm: 'PCs'\n",
       "    layers: 'raw_counts', 'scale.data'\n",
       "    obsp: 'connectivities', 'distances'"
      ]
     },
     "metadata": {},
     "output_type": "display_data"
    }
   ],
   "source": [
    "adata <- LoadAnndata('../../../oscb/user_storage/Benchmarks/facs-Bladder_1750955885784/QC/facs_Bladder_Seurat.h5ad')\n",
    "\n",
    "adata"
   ]
  },
  {
   "cell_type": "code",
   "execution_count": 16,
   "id": "df51f304-7ee8-444e-9dc0-909a725c9cbd",
   "metadata": {},
   "outputs": [],
   "source": [
    "expression_matrix <- srat[['RNA']]@counts"
   ]
  },
  {
   "cell_type": "code",
   "execution_count": 17,
   "id": "f85111db-624a-4495-bc08-29ace1c155d2",
   "metadata": {},
   "outputs": [],
   "source": [
    "dge <- DGEList(expression_matrix + 1)"
   ]
  },
  {
   "cell_type": "code",
   "execution_count": 21,
   "id": "e26ca64b-35d8-4ecc-8a98-5b9224af2b17",
   "metadata": {},
   "outputs": [
    {
     "ename": "ERROR",
     "evalue": "Error in match.arg(method): 'arg' should be one of “TMM”, “TMMwsp”, “RLE”, “upperquartile”, “none”\n",
     "output_type": "error",
     "traceback": [
      "Error in match.arg(method): 'arg' should be one of “TMM”, “TMMwsp”, “RLE”, “upperquartile”, “none”\nTraceback:\n",
      "1. calcNormFactors(dge, method = \"upper quartile\")",
      "2. calcNormFactors.DGEList(dge, method = \"upper quartile\")",
      "3. calcNormFactors(object = object$counts, lib.size = object$samples$lib.size, \n .     method = method, refColumn = refColumn, logratioTrim = logratioTrim, \n .     sumTrim = sumTrim, doWeighting = doWeighting, Acutoff = Acutoff, \n .     p = p)",
      "4. calcNormFactors.default(object = object$counts, lib.size = object$samples$lib.size, \n .     method = method, refColumn = refColumn, logratioTrim = logratioTrim, \n .     sumTrim = sumTrim, doWeighting = doWeighting, Acutoff = Acutoff, \n .     p = p)",
      "5. match.arg(method)",
      "6. stop(sprintf(ngettext(length(chs <- unique(choices[nzchar(choices)])), \n .     \"'arg' should be %s\", \"'arg' should be one of %s\"), paste(dQuote(chs), \n .     collapse = \", \")), domain = NA)"
     ]
    }
   ],
   "source": [
    "uq <- calcNormFactors(dge, method=\"upper quartile\")\n",
    "uq_assay <- CreateAssayObject(data = edgeR::cpm(uq))\n",
    "srat[['UpperQuartile']] <- uq_assay\n",
    "SaveSeurat(srat, '../../../oscb/user_storage/Benchmarks/facs-Bladder_1750955885784/QC/results/304904e6a9cf27ee8f1d1caa299b10a5/facs_Bladder_UpperQuartile.h5seurat')"
   ]
  },
  {
   "cell_type": "code",
   "execution_count": 20,
   "id": "c08f5a21-3744-4c88-b63a-3f20278bcb30",
   "metadata": {},
   "outputs": [],
   "source": [
    "adata$layers[\"UpperQuartile\"] <- t(as.data.frame(srat[['UpperQuartile']]@data))\n",
    "write_h5ad(adata, '../../../oscb/user_storage/Benchmarks/facs-Bladder_1750955885784/QC/results/304904e6a9cf27ee8f1d1caa299b10a5/facs_Bladder_UpperQuartile.h5ad', compression = \"gzip\")"
   ]
  },
  {
   "cell_type": "code",
   "execution_count": null,
   "id": "e3142e7f-b01b-460b-9a0c-cc8102509fc6",
   "metadata": {},
   "outputs": [],
   "source": []
  }
 ],
 "metadata": {
  "kernelspec": {
   "display_name": "R",
   "language": "R",
   "name": "ir"
  },
  "language_info": {
   "codemirror_mode": "r",
   "file_extension": ".r",
   "mimetype": "text/x-r-source",
   "name": "R",
   "pygments_lexer": "r",
   "version": "4.2.1"
  }
 },
 "nbformat": 4,
 "nbformat_minor": 5
}
