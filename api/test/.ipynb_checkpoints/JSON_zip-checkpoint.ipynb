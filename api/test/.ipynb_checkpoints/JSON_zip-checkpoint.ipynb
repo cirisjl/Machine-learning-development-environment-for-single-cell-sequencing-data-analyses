{
 "cells": [
  {
   "cell_type": "code",
   "execution_count": 1,
   "id": "c4e6322a-1d96-429a-be67-100abcb70a6e",
   "metadata": {},
   "outputs": [],
   "source": [
    "import base64           # 导入 base64 模块\n",
    "import gzip             # 导入 gzip 模块\n",
    "import json             # 导入 json 模块\n",
    "from io import BytesIO  # 从 io 模块导入 BytesIO 类"
   ]
  },
  {
   "cell_type": "code",
   "execution_count": 2,
   "id": "dbcb5aeb-68ba-4a35-b526-76c4921fb56f",
   "metadata": {},
   "outputs": [],
   "source": [
    "# 定义一个函数，将字符串压缩为 gzip 格式，并进行 base64 编码后返回结果\n",
    "def gzip_str(to_gzip: str) -> str:\n",
    "    out = BytesIO()                         # 创建一个 BytesIO 对象\n",
    "    with gzip.GzipFile(fileobj=out, mode='w') as f:   # 使用 gzip 对象进行数据压缩\n",
    "        f.write(to_gzip.encode())            # 将待压缩的字符串写入 gzip 对象中\n",
    "    return base64.b64encode(out.getvalue()).decode()   # 对压缩后的数据使用 base64 编码并返回结果\n",
    "\n",
    "\n",
    "# 定义一个函数，输入参数为经过压缩和 base64 编码后的字符串，输出参数为解压缩并解码后的字符串\n",
    "def ungzip_str(to_ungzip: str) -> str:\n",
    "    compressed = base64.b64decode(to_ungzip)   # 先对输入字符串进行 base64 解码，再将已压缩的数据转换为 bytes 格式\n",
    "    with gzip.GzipFile(fileobj=BytesIO(compressed)) as f:  # 使用 GzipFile 对象读取已编码的二进制对象，并解压缩该对象\n",
    "        return f.read().decode()   # 返回解压缩后的数据，要注意先用 decode 将 bytes 对象转换为字符串格式"
   ]
  },
  {
   "cell_type": "code",
   "execution_count": 22,
   "id": "3499a298-03d1-4189-b856-b9218989d22a",
   "metadata": {},
   "outputs": [],
   "source": [
    "with open('pp_results.json', 'r', encoding='utf-8') as f:\n",
    "        jsonData = json.load(f) "
   ]
  },
  {
   "cell_type": "code",
   "execution_count": 23,
   "id": "0d5e5d13-7ced-42c7-a44b-476664b45c25",
   "metadata": {},
   "outputs": [],
   "source": [
    "# 将字典转换为JSON字符串\n",
    "jsonData = jsonData['umap_plot_3d']\n",
    "\n",
    "jsonStr = json.dumps(jsonData)"
   ]
  },
  {
   "cell_type": "code",
   "execution_count": 24,
   "id": "5000a2ac-3008-43c9-a6e8-8c328a5be361",
   "metadata": {},
   "outputs": [
    {
     "name": "stdout",
     "output_type": "stream",
     "text": [
      "原始json字符串长度： 351225\n",
      "压缩编码后的json字符串长度： 159532\n",
      "解压缩后的json字符串长度： 351225\n",
      "源字符串和解压后的字符串相同\n"
     ]
    }
   ],
   "source": [
    "# 打印JSON字符串\n",
    "# print(\"原始json字符串：\", jsonStr)\n",
    "print(\"原始json字符串长度：\", len(jsonStr))\n",
    "zipStr = gzip_str(jsonStr)\n",
    "# print(\"压缩编码后的json字符串：\", zipStr)\n",
    "print(\"压缩编码后的json字符串长度：\", len(zipStr))\n",
    "unzipStr = ungzip_str(zipStr)\n",
    "# print(\"解压缩后的json字符串：\", unzipStr)\n",
    "print(\"解压缩后的json字符串长度：\", len(unzipStr))\n",
    "if jsonStr == unzipStr:\n",
    "    print(\"源字符串和解压后的字符串相同\")\n",
    "else:\n",
    "    print(\"源字符串和解压后的字符串不同\")"
   ]
  },
  {
   "cell_type": "code",
   "execution_count": null,
   "id": "fe0aa1b1-e1ad-494d-afee-764db85d96e0",
   "metadata": {},
   "outputs": [],
   "source": []
  }
 ],
 "metadata": {
  "kernelspec": {
   "display_name": "Python 3 (ipykernel)",
   "language": "python",
   "name": "python3"
  },
  "language_info": {
   "codemirror_mode": {
    "name": "ipython",
    "version": 3
   },
   "file_extension": ".py",
   "mimetype": "text/x-python",
   "name": "python",
   "nbconvert_exporter": "python",
   "pygments_lexer": "ipython3",
   "version": "3.8.10"
  }
 },
 "nbformat": 4,
 "nbformat_minor": 5
}
