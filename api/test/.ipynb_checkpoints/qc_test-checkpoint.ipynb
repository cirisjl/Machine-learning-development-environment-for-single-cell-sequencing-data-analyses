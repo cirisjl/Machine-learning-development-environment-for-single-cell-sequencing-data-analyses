{
 "cells": [
  {
   "cell_type": "code",
   "execution_count": 1,
   "id": "6d4d585d",
   "metadata": {},
   "outputs": [
    {
     "name": "stdout",
     "output_type": "stream",
     "text": [
      "scanpy==1.9.3 anndata==0.8.0 umap==0.5.3 numpy==1.22.4 scipy==1.9.1 pandas==1.3.5 scikit-learn==1.2.2 statsmodels==0.13.5 python-igraph==0.10.4 pynndescent==0.5.8\n",
      "scanpy==1.9.3 anndata==0.8.0 umap==0.5.3 numpy==1.22.4 scipy==1.9.1 pandas==1.3.5 scikit-learn==1.2.2 statsmodels==0.13.5 python-igraph==0.10.4 pynndescent==0.5.8\n"
     ]
    }
   ],
   "source": [
    "import os\n",
    "import subprocess\n",
    "import sys\n",
    "sys.path.append('..')\n",
    "from tools.qc.scanpy_qc import scanpy_qc\n",
    "from tools.qc.dropkick_qc import dropkick_qc\n",
    "from tools.formating.formating import *\n",
    "# from tools.run_qc import run_qc"
   ]
  },
  {
   "cell_type": "code",
   "execution_count": 2,
   "id": "0dda5546",
   "metadata": {},
   "outputs": [],
   "source": [
    "dataset='hg19'\n",
    "input_path='/ps/ai-ready/data/filtered_gene_bc_matrices/hg19/'\n",
    "# methods=None\n",
    "methods='Scanpy'\n",
    "path_of_scrublet_calls=os.path.abspath('../tools/qc/scrublet_calls.tsv')\n",
    "print(path_of_scrublet_calls)"
   ]
  },
  {
   "cell_type": "code",
   "execution_count": null,
   "id": "45cc373f",
   "metadata": {},
   "outputs": [],
   "source": [
    "# run_qc(dataset, input, output, methods, path_of_scrublet_calls='./scrublet_calls.tsv', show_error=True)"
   ]
  },
  {
   "cell_type": "markdown",
   "id": "d4c48f7f",
   "metadata": {},
   "source": [
    "## Scanpy"
   ]
  },
  {
   "cell_type": "code",
   "execution_count": null,
   "id": "c9ecfab2",
   "metadata": {},
   "outputs": [],
   "source": [
    "adata = load_anndata(input_path)\n",
    "adata"
   ]
  },
  {
   "cell_type": "code",
   "execution_count": null,
   "id": "2ef5399f",
   "metadata": {},
   "outputs": [],
   "source": [
    "output = get_output_path(dataset, input_path, method='scanpy', format = \"AnnData\")"
   ]
  },
  {
   "cell_type": "code",
   "execution_count": null,
   "id": "c0b3f87c",
   "metadata": {},
   "outputs": [],
   "source": [
    "adata = scanpy_qc(adata)\n",
    " # Save AnnData object\n",
    "adata.write_h5ad(output, compression='gzip')\n",
    "print(\"AnnData object for Scanpy QC is saved successfully\")"
   ]
  },
  {
   "cell_type": "code",
   "execution_count": null,
   "id": "78b09ba1",
   "metadata": {},
   "outputs": [],
   "source": [
    "adata"
   ]
  },
  {
   "cell_type": "markdown",
   "id": "038634ea",
   "metadata": {},
   "source": [
    "## Dropkick"
   ]
  },
  {
   "cell_type": "code",
   "execution_count": null,
   "id": "9ac4fb51",
   "metadata": {},
   "outputs": [],
   "source": [
    "adata = load_anndata(input_path)\n",
    "adata"
   ]
  },
  {
   "cell_type": "code",
   "execution_count": null,
   "id": "053bef78",
   "metadata": {},
   "outputs": [],
   "source": [
    "adata = dropkick_qc(adata)\n",
    "output_path = get_output_path(dataset, input_path, method='dropkick')\n",
    "# Save AnnData object\n",
    "adata.write_h5ad(output_path, compression='gzip')\n",
    "print(\"AnnData object for Dropkick QC is saved successfully\")"
   ]
  },
  {
   "cell_type": "markdown",
   "id": "0530f381",
   "metadata": {},
   "source": [
    "## BIOCONDUCTOR"
   ]
  },
  {
   "cell_type": "code",
   "execution_count": null,
   "id": "2027c842",
   "metadata": {},
   "outputs": [],
   "source": [
    "output_path = get_output_path(dataset, input_path, method='Bioconductor', format='SingleCellExperiment')"
   ]
  },
  {
   "cell_type": "code",
   "execution_count": null,
   "id": "e61e4f61",
   "metadata": {},
   "outputs": [],
   "source": [
    "report_path = get_report_path(dataset, output_path, \"Bioconductor\")\n",
    "print(report_path)"
   ]
  },
  {
   "cell_type": "code",
   "execution_count": null,
   "id": "5c749e7a",
   "metadata": {},
   "outputs": [],
   "source": [
    "bioconductor_path = os.path.abspath(\"../tools/qc/bioconductor_qc.Rmd\")\n",
    "print(bioconductor_path)"
   ]
  },
  {
   "cell_type": "code",
   "execution_count": null,
   "id": "035805f4",
   "metadata": {},
   "outputs": [],
   "source": [
    "s = subprocess.call([\"R -e \\\"rmarkdown::render('\" + bioconductor_path + \"', params=list(dataset='\" + str(dataset) + \"', input_path='\" + input_path + \"', output='\" + output_path + \"', idtype='SYMBOL', colour_by=NULL, shape_by_1='NULL', shape_by_2='NULL',output_format='SingleCellExperiment'), output_file='\" + report_path + \"')\\\"\"], shell = True)\n",
    "print(s)"
   ]
  },
  {
   "cell_type": "markdown",
   "id": "5ecd8b79",
   "metadata": {},
   "source": [
    "## SEURAT"
   ]
  },
  {
   "cell_type": "code",
   "execution_count": 3,
   "id": "1b3384b8",
   "metadata": {},
   "outputs": [
    {
     "name": "stdout",
     "output_type": "stream",
     "text": [
      "/ps/ai-ready/data/filtered_gene_bc_matrices/results/hg19_Seurat.h5Seurat\n",
      "/ps/ai-ready/data/filtered_gene_bc_matrices/results/hg19_Seurat_Seurat_report.html\n"
     ]
    }
   ],
   "source": [
    "output_path = get_output_path(dataset, input_path, method='Seurat', format='Seurat')\n",
    "report_path = get_report_path(dataset, output_path, \"Seurat\")\n",
    "print(report_path)"
   ]
  },
  {
   "cell_type": "code",
   "execution_count": 5,
   "id": "b23e88cd",
   "metadata": {},
   "outputs": [
    {
     "name": "stdout",
     "output_type": "stream",
     "text": [
      "\n",
      "R version 4.2.1 (2022-06-23) -- \"Funny-Looking Kid\"\n",
      "Copyright (C) 2022 The R Foundation for Statistical Computing\n",
      "Platform: x86_64-pc-linux-gnu (64-bit)\n",
      "\n",
      "R is free software and comes with ABSOLUTELY NO WARRANTY.\n",
      "You are welcome to redistribute it under certain conditions.\n",
      "Type 'license()' or 'licence()' for distribution details.\n",
      "\n",
      "  Natural language support but running in an English locale\n",
      "\n",
      "R is a collaborative project with many contributors.\n",
      "Type 'contributors()' for more information and\n",
      "'citation()' on how to cite R or R packages in publications.\n",
      "\n",
      "Type 'demo()' for some demos, 'help()' for on-line help, or\n",
      "'help.start()' for an HTML browser interface to help.\n",
      "Type 'q()' to quit R.\n",
      "\n",
      "> rmarkdown::render('/ps/ai-ready/backend/api/tools/qc/seurat_qc.Rmd', params=list(dataset='hg19', input='/ps/ai-ready/data/filtered_gene_bc_matrices/hg19/', output='/ps/ai-ready/data/filtered_gene_bc_matrices/results/hg19_Seurat.h5Seurat', output_format='SingleCellExperiment', path_of_scrublet_calls='./scrublet_calls.tsv'), output_file='/ps/ai-ready/data/filtered_gene_bc_matrices/results/hg19_Seurat_Seurat_report.html')\n"
     ]
    },
    {
     "name": "stderr",
     "output_type": "stream",
     "text": [
      "\n",
      "\n",
      "processing file: seurat_qc.Rmd\n"
     ]
    },
    {
     "name": "stdout",
     "output_type": "stream",
     "text": [
      "                                                                                                                         \n",
      "1\n"
     ]
    },
    {
     "name": "stderr",
     "output_type": "stream",
     "text": [
      "Quitting from lines 22-62 (seurat_qc.Rmd) \n",
      "Error in if (!params$default_assay %in% names(x = srat)) stop(paste(params$default_assay,  : \n",
      "  argument is of length zero\n",
      "Calls: <Anonymous> ... withVisible -> eval_with_user_handlers -> eval -> eval\n",
      "Execution halted\n"
     ]
    }
   ],
   "source": [
    "seurat_path = os.path.abspath(\"../tools/qc/seurat_qc.Rmd\")\n",
    "s = subprocess.call([\"R -e \\\"rmarkdown::render('\" + seurat_path + \"', params=list(dataset='\" + str(dataset) + \"', input='\" + input_path + \"', output='\" + output_path + \"', output_format='Seurat', path_of_scrublet_calls='\" + path_of_scrublet_calls + \"'), output_file='\" + report_path + \"')\\\"\"], shell = True)\n",
    "print(s)"
   ]
  },
  {
   "cell_type": "code",
   "execution_count": null,
   "id": "f3df3ba6",
   "metadata": {},
   "outputs": [],
   "source": []
  }
 ],
 "metadata": {
  "kernelspec": {
   "display_name": "Python 3 (ipykernel)",
   "language": "python",
   "name": "python3"
  },
  "language_info": {
   "codemirror_mode": {
    "name": "ipython",
    "version": 3
   },
   "file_extension": ".py",
   "mimetype": "text/x-python",
   "name": "python",
   "nbconvert_exporter": "python",
   "pygments_lexer": "ipython3",
   "version": "3.8.10"
  }
 },
 "nbformat": 4,
 "nbformat_minor": 5
}
