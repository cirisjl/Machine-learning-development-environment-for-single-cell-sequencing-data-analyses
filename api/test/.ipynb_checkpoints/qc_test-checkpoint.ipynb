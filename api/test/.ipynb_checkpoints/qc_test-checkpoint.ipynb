{
 "cells": [
  {
   "cell_type": "code",
   "execution_count": 6,
   "id": "6d4d585d",
   "metadata": {},
   "outputs": [],
   "source": [
    "import os\n",
    "import subprocess\n",
    "import sys\n",
    "sys.path.append('..')\n",
    "from tools.qc.scanpy_qc import scanpy_qc\n",
    "from tools.qc.dropkick_qc import dropkick_qc\n",
    "from tools.formating.formating import *\n",
    "# from tools.run_qc import run_qc"
   ]
  },
  {
   "cell_type": "code",
   "execution_count": 7,
   "id": "0dda5546",
   "metadata": {},
   "outputs": [
    {
     "name": "stdout",
     "output_type": "stream",
     "text": [
      "/ps/Machine-learning-development-environment-for-single-cell-sequencing-data-analyses/api/tools/qc/scrublet_calls.tsv\n"
     ]
    }
   ],
   "source": [
    "dataset='loom'\n",
    "# input_path='/ps/ai-ready/data/filtered_gene_bc_matrices/hg19/'\n",
    "# methods=None\n",
    "input_path='/ps/ai-ready/data/kbcfh/loomDataset/867236c9-e8c8-46a4-971a-3c046b1d4328.loom'\n",
    "methods='Scanpy'\n",
    "path_of_scrublet_calls=os.path.abspath('../tools/qc/scrublet_calls.tsv')\n",
    "print(path_of_scrublet_calls)"
   ]
  },
  {
   "cell_type": "code",
   "execution_count": 3,
   "id": "45cc373f",
   "metadata": {},
   "outputs": [],
   "source": [
    "# run_qc(dataset, input, output, methods, path_of_scrublet_calls='./scrublet_calls.tsv', show_error=True)"
   ]
  },
  {
   "cell_type": "code",
   "execution_count": 8,
   "id": "8299e40c",
   "metadata": {},
   "outputs": [
    {
     "data": {
      "text/plain": [
       "AnnData object with n_obs × n_vars = 200 × 20\n",
       "    obs: 'Cell'"
      ]
     },
     "execution_count": 8,
     "metadata": {},
     "output_type": "execute_result"
    }
   ],
   "source": [
    "adata = sc.read_loom(input_path)\n",
    "adata"
   ]
  },
  {
   "cell_type": "markdown",
   "id": "d4c48f7f",
   "metadata": {},
   "source": [
    "## Scanpy"
   ]
  },
  {
   "cell_type": "code",
   "execution_count": null,
   "id": "c9ecfab2",
   "metadata": {},
   "outputs": [],
   "source": [
    "adata = load_anndata(input_path)\n",
    "adata"
   ]
  },
  {
   "cell_type": "code",
   "execution_count": 9,
   "id": "e6c1bdd0",
   "metadata": {},
   "outputs": [],
   "source": [
    "import numpy as np\n",
    "import pandas as pd\n",
    "import scanpy as sc\n",
    "import scrublet as scr"
   ]
  },
  {
   "cell_type": "code",
   "execution_count": 10,
   "id": "2ef5399f",
   "metadata": {},
   "outputs": [
    {
     "name": "stdout",
     "output_type": "stream",
     "text": [
      "/ps/ai-ready/data/kbcfh/loomDataset/test.loom/loom_scanpy.h5ad\n",
      "The output path is a directory, adding output file loom_scanpy.h5ad to the path.\n"
     ]
    }
   ],
   "source": [
    "output = get_output_path(dataset, input_path, method='scanpy', format = \"AnnData\")"
   ]
  },
  {
   "cell_type": "code",
   "execution_count": 11,
   "id": "c0b3f87c",
   "metadata": {},
   "outputs": [
    {
     "name": "stdout",
     "output_type": "stream",
     "text": [
      "filtered out 200 cells that have less than 200 counts\n",
      "filtered out 20 genes that are detected in less than 3 counts\n",
      "normalizing counts per cell\n",
      "    finished (0:00:00)\n"
     ]
    },
    {
     "ename": "ValueError",
     "evalue": "Found array with 0 sample(s) (shape=(0, 0)) while a minimum of 1 is required.",
     "output_type": "error",
     "traceback": [
      "\u001b[0;31m---------------------------------------------------------------------------\u001b[0m",
      "\u001b[0;31mValueError\u001b[0m                                Traceback (most recent call last)",
      "Cell \u001b[0;32mIn[11], line 1\u001b[0m\n\u001b[0;32m----> 1\u001b[0m adata \u001b[38;5;241m=\u001b[39m \u001b[43mscanpy_qc\u001b[49m\u001b[43m(\u001b[49m\u001b[43madata\u001b[49m\u001b[43m)\u001b[49m\n\u001b[1;32m      2\u001b[0m  \u001b[38;5;66;03m# Save AnnData object\u001b[39;00m\n\u001b[1;32m      3\u001b[0m adata\u001b[38;5;241m.\u001b[39mwrite_h5ad(output, compression\u001b[38;5;241m=\u001b[39m\u001b[38;5;124m'\u001b[39m\u001b[38;5;124mgzip\u001b[39m\u001b[38;5;124m'\u001b[39m)\n",
      "File \u001b[0;32m/ps/Machine-learning-development-environment-for-single-cell-sequencing-data-analyses/api/test/../tools/qc/scanpy_qc.py:27\u001b[0m, in \u001b[0;36mscanpy_qc\u001b[0;34m(adata, min_genes, min_cells)\u001b[0m\n\u001b[1;32m     24\u001b[0m adata\u001b[38;5;241m=\u001b[39madata[adata\u001b[38;5;241m.\u001b[39mobs\u001b[38;5;241m.\u001b[39mpct_counts_mt \u001b[38;5;241m<\u001b[39m \u001b[38;5;241m5\u001b[39m, :]\n\u001b[1;32m     25\u001b[0m sc\u001b[38;5;241m.\u001b[39mpp\u001b[38;5;241m.\u001b[39mnormalize_total(adata, target_sum\u001b[38;5;241m=\u001b[39m\u001b[38;5;241m1e4\u001b[39m)\n\u001b[0;32m---> 27\u001b[0m \u001b[43msc\u001b[49m\u001b[38;5;241;43m.\u001b[39;49m\u001b[43mpp\u001b[49m\u001b[38;5;241;43m.\u001b[39;49m\u001b[43mlog1p\u001b[49m\u001b[43m(\u001b[49m\u001b[43madata\u001b[49m\u001b[43m)\u001b[49m\n\u001b[1;32m     29\u001b[0m sc\u001b[38;5;241m.\u001b[39mpp\u001b[38;5;241m.\u001b[39mhighly_variable_genes(adata, min_mean\u001b[38;5;241m=\u001b[39m\u001b[38;5;241m0.0125\u001b[39m, max_mean\u001b[38;5;241m=\u001b[39m\u001b[38;5;241m3\u001b[39m, min_disp\u001b[38;5;241m=\u001b[39m\u001b[38;5;241m0.5\u001b[39m)\n\u001b[1;32m     32\u001b[0m adata\u001b[38;5;241m=\u001b[39madata[:, adata\u001b[38;5;241m.\u001b[39mvar\u001b[38;5;241m.\u001b[39mhighly_variable] \u001b[38;5;66;03m# Do the filtering\u001b[39;00m\n",
      "File \u001b[0;32m/usr/lib/python3.8/functools.py:875\u001b[0m, in \u001b[0;36msingledispatch.<locals>.wrapper\u001b[0;34m(*args, **kw)\u001b[0m\n\u001b[1;32m    871\u001b[0m \u001b[38;5;28;01mif\u001b[39;00m \u001b[38;5;129;01mnot\u001b[39;00m args:\n\u001b[1;32m    872\u001b[0m     \u001b[38;5;28;01mraise\u001b[39;00m \u001b[38;5;167;01mTypeError\u001b[39;00m(\u001b[38;5;124mf\u001b[39m\u001b[38;5;124m'\u001b[39m\u001b[38;5;132;01m{\u001b[39;00mfuncname\u001b[38;5;132;01m}\u001b[39;00m\u001b[38;5;124m requires at least \u001b[39m\u001b[38;5;124m'\u001b[39m\n\u001b[1;32m    873\u001b[0m                     \u001b[38;5;124m'\u001b[39m\u001b[38;5;124m1 positional argument\u001b[39m\u001b[38;5;124m'\u001b[39m)\n\u001b[0;32m--> 875\u001b[0m \u001b[38;5;28;01mreturn\u001b[39;00m \u001b[43mdispatch\u001b[49m\u001b[43m(\u001b[49m\u001b[43margs\u001b[49m\u001b[43m[\u001b[49m\u001b[38;5;241;43m0\u001b[39;49m\u001b[43m]\u001b[49m\u001b[38;5;241;43m.\u001b[39;49m\u001b[38;5;18;43m__class__\u001b[39;49m\u001b[43m)\u001b[49m\u001b[43m(\u001b[49m\u001b[38;5;241;43m*\u001b[39;49m\u001b[43margs\u001b[49m\u001b[43m,\u001b[49m\u001b[43m \u001b[49m\u001b[38;5;241;43m*\u001b[39;49m\u001b[38;5;241;43m*\u001b[39;49m\u001b[43mkw\u001b[49m\u001b[43m)\u001b[49m\n",
      "File \u001b[0;32m/usr/local/lib/python3.8/dist-packages/scanpy/preprocessing/_simple.py:384\u001b[0m, in \u001b[0;36mlog1p_anndata\u001b[0;34m(adata, base, copy, chunked, chunk_size, layer, obsm)\u001b[0m\n\u001b[1;32m    382\u001b[0m \u001b[38;5;28;01melse\u001b[39;00m:\n\u001b[1;32m    383\u001b[0m     X \u001b[38;5;241m=\u001b[39m _get_obs_rep(adata, layer\u001b[38;5;241m=\u001b[39mlayer, obsm\u001b[38;5;241m=\u001b[39mobsm)\n\u001b[0;32m--> 384\u001b[0m     X \u001b[38;5;241m=\u001b[39m \u001b[43mlog1p\u001b[49m\u001b[43m(\u001b[49m\u001b[43mX\u001b[49m\u001b[43m,\u001b[49m\u001b[43m \u001b[49m\u001b[43mcopy\u001b[49m\u001b[38;5;241;43m=\u001b[39;49m\u001b[38;5;28;43;01mFalse\u001b[39;49;00m\u001b[43m,\u001b[49m\u001b[43m \u001b[49m\u001b[43mbase\u001b[49m\u001b[38;5;241;43m=\u001b[39;49m\u001b[43mbase\u001b[49m\u001b[43m)\u001b[49m\n\u001b[1;32m    385\u001b[0m     _set_obs_rep(adata, X, layer\u001b[38;5;241m=\u001b[39mlayer, obsm\u001b[38;5;241m=\u001b[39mobsm)\n\u001b[1;32m    387\u001b[0m adata\u001b[38;5;241m.\u001b[39muns[\u001b[38;5;124m\"\u001b[39m\u001b[38;5;124mlog1p\u001b[39m\u001b[38;5;124m\"\u001b[39m] \u001b[38;5;241m=\u001b[39m {\u001b[38;5;124m\"\u001b[39m\u001b[38;5;124mbase\u001b[39m\u001b[38;5;124m\"\u001b[39m: base}\n",
      "File \u001b[0;32m/usr/lib/python3.8/functools.py:875\u001b[0m, in \u001b[0;36msingledispatch.<locals>.wrapper\u001b[0;34m(*args, **kw)\u001b[0m\n\u001b[1;32m    871\u001b[0m \u001b[38;5;28;01mif\u001b[39;00m \u001b[38;5;129;01mnot\u001b[39;00m args:\n\u001b[1;32m    872\u001b[0m     \u001b[38;5;28;01mraise\u001b[39;00m \u001b[38;5;167;01mTypeError\u001b[39;00m(\u001b[38;5;124mf\u001b[39m\u001b[38;5;124m'\u001b[39m\u001b[38;5;132;01m{\u001b[39;00mfuncname\u001b[38;5;132;01m}\u001b[39;00m\u001b[38;5;124m requires at least \u001b[39m\u001b[38;5;124m'\u001b[39m\n\u001b[1;32m    873\u001b[0m                     \u001b[38;5;124m'\u001b[39m\u001b[38;5;124m1 positional argument\u001b[39m\u001b[38;5;124m'\u001b[39m)\n\u001b[0;32m--> 875\u001b[0m \u001b[38;5;28;01mreturn\u001b[39;00m \u001b[43mdispatch\u001b[49m\u001b[43m(\u001b[49m\u001b[43margs\u001b[49m\u001b[43m[\u001b[49m\u001b[38;5;241;43m0\u001b[39;49m\u001b[43m]\u001b[49m\u001b[38;5;241;43m.\u001b[39;49m\u001b[38;5;18;43m__class__\u001b[39;49m\u001b[43m)\u001b[49m\u001b[43m(\u001b[49m\u001b[38;5;241;43m*\u001b[39;49m\u001b[43margs\u001b[49m\u001b[43m,\u001b[49m\u001b[43m \u001b[49m\u001b[38;5;241;43m*\u001b[39;49m\u001b[38;5;241;43m*\u001b[39;49m\u001b[43mkw\u001b[49m\u001b[43m)\u001b[49m\n",
      "File \u001b[0;32m/usr/local/lib/python3.8/dist-packages/scanpy/preprocessing/_simple.py:334\u001b[0m, in \u001b[0;36mlog1p_sparse\u001b[0;34m(X, base, copy)\u001b[0m\n\u001b[1;32m    332\u001b[0m \u001b[38;5;129m@log1p\u001b[39m\u001b[38;5;241m.\u001b[39mregister(spmatrix)\n\u001b[1;32m    333\u001b[0m \u001b[38;5;28;01mdef\u001b[39;00m \u001b[38;5;21mlog1p_sparse\u001b[39m(X, \u001b[38;5;241m*\u001b[39m, base: Optional[Number] \u001b[38;5;241m=\u001b[39m \u001b[38;5;28;01mNone\u001b[39;00m, copy: \u001b[38;5;28mbool\u001b[39m \u001b[38;5;241m=\u001b[39m \u001b[38;5;28;01mFalse\u001b[39;00m):\n\u001b[0;32m--> 334\u001b[0m     X \u001b[38;5;241m=\u001b[39m \u001b[43mcheck_array\u001b[49m\u001b[43m(\u001b[49m\n\u001b[1;32m    335\u001b[0m \u001b[43m        \u001b[49m\u001b[43mX\u001b[49m\u001b[43m,\u001b[49m\u001b[43m \u001b[49m\u001b[43maccept_sparse\u001b[49m\u001b[38;5;241;43m=\u001b[39;49m\u001b[43m(\u001b[49m\u001b[38;5;124;43m\"\u001b[39;49m\u001b[38;5;124;43mcsr\u001b[39;49m\u001b[38;5;124;43m\"\u001b[39;49m\u001b[43m,\u001b[49m\u001b[43m \u001b[49m\u001b[38;5;124;43m\"\u001b[39;49m\u001b[38;5;124;43mcsc\u001b[39;49m\u001b[38;5;124;43m\"\u001b[39;49m\u001b[43m)\u001b[49m\u001b[43m,\u001b[49m\u001b[43m \u001b[49m\u001b[43mdtype\u001b[49m\u001b[38;5;241;43m=\u001b[39;49m\u001b[43m(\u001b[49m\u001b[43mnp\u001b[49m\u001b[38;5;241;43m.\u001b[39;49m\u001b[43mfloat64\u001b[49m\u001b[43m,\u001b[49m\u001b[43m \u001b[49m\u001b[43mnp\u001b[49m\u001b[38;5;241;43m.\u001b[39;49m\u001b[43mfloat32\u001b[49m\u001b[43m)\u001b[49m\u001b[43m,\u001b[49m\u001b[43m \u001b[49m\u001b[43mcopy\u001b[49m\u001b[38;5;241;43m=\u001b[39;49m\u001b[43mcopy\u001b[49m\n\u001b[1;32m    336\u001b[0m \u001b[43m    \u001b[49m\u001b[43m)\u001b[49m\n\u001b[1;32m    337\u001b[0m     X\u001b[38;5;241m.\u001b[39mdata \u001b[38;5;241m=\u001b[39m log1p(X\u001b[38;5;241m.\u001b[39mdata, copy\u001b[38;5;241m=\u001b[39m\u001b[38;5;28;01mFalse\u001b[39;00m, base\u001b[38;5;241m=\u001b[39mbase)\n\u001b[1;32m    338\u001b[0m     \u001b[38;5;28;01mreturn\u001b[39;00m X\n",
      "File \u001b[0;32m/usr/local/lib/python3.8/dist-packages/sklearn/utils/validation.py:931\u001b[0m, in \u001b[0;36mcheck_array\u001b[0;34m(array, accept_sparse, accept_large_sparse, dtype, order, copy, force_all_finite, ensure_2d, allow_nd, ensure_min_samples, ensure_min_features, estimator, input_name)\u001b[0m\n\u001b[1;32m    929\u001b[0m     n_samples \u001b[38;5;241m=\u001b[39m _num_samples(array)\n\u001b[1;32m    930\u001b[0m     \u001b[38;5;28;01mif\u001b[39;00m n_samples \u001b[38;5;241m<\u001b[39m ensure_min_samples:\n\u001b[0;32m--> 931\u001b[0m         \u001b[38;5;28;01mraise\u001b[39;00m \u001b[38;5;167;01mValueError\u001b[39;00m(\n\u001b[1;32m    932\u001b[0m             \u001b[38;5;124m\"\u001b[39m\u001b[38;5;124mFound array with \u001b[39m\u001b[38;5;132;01m%d\u001b[39;00m\u001b[38;5;124m sample(s) (shape=\u001b[39m\u001b[38;5;132;01m%s\u001b[39;00m\u001b[38;5;124m) while a\u001b[39m\u001b[38;5;124m\"\u001b[39m\n\u001b[1;32m    933\u001b[0m             \u001b[38;5;124m\"\u001b[39m\u001b[38;5;124m minimum of \u001b[39m\u001b[38;5;132;01m%d\u001b[39;00m\u001b[38;5;124m is required\u001b[39m\u001b[38;5;132;01m%s\u001b[39;00m\u001b[38;5;124m.\u001b[39m\u001b[38;5;124m\"\u001b[39m\n\u001b[1;32m    934\u001b[0m             \u001b[38;5;241m%\u001b[39m (n_samples, array\u001b[38;5;241m.\u001b[39mshape, ensure_min_samples, context)\n\u001b[1;32m    935\u001b[0m         )\n\u001b[1;32m    937\u001b[0m \u001b[38;5;28;01mif\u001b[39;00m ensure_min_features \u001b[38;5;241m>\u001b[39m \u001b[38;5;241m0\u001b[39m \u001b[38;5;129;01mand\u001b[39;00m array\u001b[38;5;241m.\u001b[39mndim \u001b[38;5;241m==\u001b[39m \u001b[38;5;241m2\u001b[39m:\n\u001b[1;32m    938\u001b[0m     n_features \u001b[38;5;241m=\u001b[39m array\u001b[38;5;241m.\u001b[39mshape[\u001b[38;5;241m1\u001b[39m]\n",
      "\u001b[0;31mValueError\u001b[0m: Found array with 0 sample(s) (shape=(0, 0)) while a minimum of 1 is required."
     ]
    }
   ],
   "source": [
    "adata = scanpy_qc(adata)\n",
    " # Save AnnData object\n",
    "adata.write_h5ad(output, compression='gzip')\n",
    "print(\"AnnData object for Scanpy QC is saved successfully\")"
   ]
  },
  {
   "cell_type": "code",
   "execution_count": null,
   "id": "78b09ba1",
   "metadata": {},
   "outputs": [],
   "source": [
    "adata.var_names_make_unique()\n",
    "adata"
   ]
  },
  {
   "cell_type": "code",
   "execution_count": null,
   "id": "8db9f62d",
   "metadata": {},
   "outputs": [],
   "source": [
    "scrub = scr.Scrublet(adata.X, expected_doublet_rate = 0.076)\n",
    "adata.obs['doublet_scores'], adata.obs['predicted_doublets'] = scrub.scrub_doublets(min_counts=2, min_cells=3, \n",
    "                                                          min_gene_variability_pctl=85, n_prin_comps=30)"
   ]
  },
  {
   "cell_type": "code",
   "execution_count": null,
   "id": "cbcbac51",
   "metadata": {},
   "outputs": [],
   "source": [
    "scrub.plot_histogram()"
   ]
  },
  {
   "cell_type": "code",
   "execution_count": null,
   "id": "ca7c1ecd",
   "metadata": {},
   "outputs": [],
   "source": [
    "scrub.set_embedding('UMAP', scr.get_umap(scrub.manifold_obs_, 10, min_dist=0.3))\n",
    "scrub.plot_embedding('UMAP', order_points=True);"
   ]
  },
  {
   "cell_type": "code",
   "execution_count": null,
   "id": "06c411d9",
   "metadata": {},
   "outputs": [],
   "source": [
    "adata.obs"
   ]
  },
  {
   "cell_type": "code",
   "execution_count": null,
   "id": "bc98cf9d",
   "metadata": {},
   "outputs": [],
   "source": [
    "adata.obs['predicted_doublets'].value_counts()"
   ]
  },
  {
   "cell_type": "code",
   "execution_count": null,
   "id": "e43ca639",
   "metadata": {},
   "outputs": [],
   "source": [
    "scrublet_path = os.path.join(os.path.dirname(input_path), \"scrublet_calls.tsv\")\n",
    "scrublet_path"
   ]
  },
  {
   "cell_type": "code",
   "execution_count": null,
   "id": "c9b6687e",
   "metadata": {},
   "outputs": [],
   "source": [
    "df_predicted_doublets = adata.obs.iloc[:, -2:]\n",
    "df_predicted_doublets "
   ]
  },
  {
   "cell_type": "code",
   "execution_count": null,
   "id": "bb4d4716",
   "metadata": {},
   "outputs": [],
   "source": [
    "df_"
   ]
  },
  {
   "cell_type": "code",
   "execution_count": null,
   "id": "43862ecc",
   "metadata": {},
   "outputs": [],
   "source": [
    "pd.DataFrame(adata.obs.iloc[:, -2:]).to_csv(scrublet_path,sep = '\\t',header = False)"
   ]
  },
  {
   "cell_type": "markdown",
   "id": "038634ea",
   "metadata": {},
   "source": [
    "## Dropkick"
   ]
  },
  {
   "cell_type": "code",
   "execution_count": null,
   "id": "9ac4fb51",
   "metadata": {},
   "outputs": [],
   "source": [
    "adata = load_anndata(input_path)\n",
    "adata"
   ]
  },
  {
   "cell_type": "code",
   "execution_count": null,
   "id": "053bef78",
   "metadata": {},
   "outputs": [],
   "source": [
    "adata = dropkick_qc(adata)\n",
    "output_path = get_output_path(dataset, input_path, method='dropkick')\n",
    "# Save AnnData object\n",
    "adata.write_h5ad(output_path, compression='gzip')\n",
    "print(\"AnnData object for Dropkick QC is saved successfully\")"
   ]
  },
  {
   "cell_type": "markdown",
   "id": "0530f381",
   "metadata": {},
   "source": [
    "## BIOCONDUCTOR"
   ]
  },
  {
   "cell_type": "code",
   "execution_count": null,
   "id": "2027c842",
   "metadata": {},
   "outputs": [],
   "source": [
    "output_path = get_output_path(dataset, input_path, method='Bioconductor', format='SingleCellExperiment')"
   ]
  },
  {
   "cell_type": "code",
   "execution_count": null,
   "id": "e61e4f61",
   "metadata": {},
   "outputs": [],
   "source": [
    "report_path = get_report_path(dataset, output_path, \"Bioconductor\")\n",
    "print(report_path)"
   ]
  },
  {
   "cell_type": "code",
   "execution_count": null,
   "id": "5c749e7a",
   "metadata": {},
   "outputs": [],
   "source": [
    "bioconductor_path = os.path.abspath(\"../tools/qc/bioconductor_qc.Rmd\")\n",
    "print(bioconductor_path)"
   ]
  },
  {
   "cell_type": "code",
   "execution_count": null,
   "id": "035805f4",
   "metadata": {},
   "outputs": [],
   "source": [
    "s = subprocess.call([\"R -e \\\"rmarkdown::render('\" + bioconductor_path + \"', params=list(dataset='\" + str(dataset) + \"', input_path='\" + input_path + \"', output='\" + output_path + \"', idtype='SYMBOL', colour_by=NULL, shape_by_1='NULL', shape_by_2='NULL',output_format='SingleCellExperiment'), output_file='\" + report_path + \"')\\\"\"], shell = True)\n",
    "print(s)"
   ]
  },
  {
   "cell_type": "markdown",
   "id": "5ecd8b79",
   "metadata": {},
   "source": [
    "## SEURAT"
   ]
  },
  {
   "cell_type": "code",
   "execution_count": null,
   "id": "1b3384b8",
   "metadata": {},
   "outputs": [],
   "source": [
    "output_path = get_output_path(dataset, input_path, method='Seurat', format='Seurat')\n",
    "report_path = get_report_path(dataset, output_path, \"Seurat\")\n",
    "print(report_path)"
   ]
  },
  {
   "cell_type": "code",
   "execution_count": null,
   "id": "4f2bbc37",
   "metadata": {},
   "outputs": [],
   "source": [
    "seurat_path = os.path.abspath(\"../tools/qc/seurat_qc.Rmd\")\n",
    "s = subprocess.call([\"R -e \\\"rmarkdown::render('\" + seurat_path + \"', params=list(dataset='\" + str(dataset) + \"', input='\" + input_path + \"', output='\" + output_path + \"', output_format='Seurat', path_of_scrublet_calls='\" + path_of_scrublet_calls + \"'), output_file='\" + report_path + \"')\\\"\"], shell = True)\n",
    "print(s)"
   ]
  },
  {
   "cell_type": "code",
   "execution_count": null,
   "id": "8f096a89",
   "metadata": {},
   "outputs": [],
   "source": []
  }
 ],
 "metadata": {
  "kernelspec": {
   "display_name": "Python 3 (ipykernel)",
   "language": "python",
   "name": "python3"
  },
  "language_info": {
   "codemirror_mode": {
    "name": "ipython",
    "version": 3
   },
   "file_extension": ".py",
   "mimetype": "text/x-python",
   "name": "python",
   "nbconvert_exporter": "python",
   "pygments_lexer": "ipython3",
   "version": "3.8.10"
  }
 },
 "nbformat": 4,
 "nbformat_minor": 5
}
