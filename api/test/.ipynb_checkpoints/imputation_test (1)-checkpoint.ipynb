{
 "cells": [
  {
   "cell_type": "code",
   "execution_count": 1,
   "id": "b52c5f90",
   "metadata": {},
   "outputs": [
    {
     "name": "stderr",
     "output_type": "stream",
     "text": [
      "Loading required package: SingleCellExperiment\n",
      "\n",
      "Loading required package: SummarizedExperiment\n",
      "\n",
      "Loading required package: MatrixGenerics\n",
      "\n",
      "Loading required package: matrixStats\n",
      "\n",
      "\n",
      "Attaching package: ‘MatrixGenerics’\n",
      "\n",
      "\n",
      "The following objects are masked from ‘package:matrixStats’:\n",
      "\n",
      "    colAlls, colAnyNAs, colAnys, colAvgsPerRowSet, colCollapse,\n",
      "    colCounts, colCummaxs, colCummins, colCumprods, colCumsums,\n",
      "    colDiffs, colIQRDiffs, colIQRs, colLogSumExps, colMadDiffs,\n",
      "    colMads, colMaxs, colMeans2, colMedians, colMins, colOrderStats,\n",
      "    colProds, colQuantiles, colRanges, colRanks, colSdDiffs, colSds,\n",
      "    colSums2, colTabulates, colVarDiffs, colVars, colWeightedMads,\n",
      "    colWeightedMeans, colWeightedMedians, colWeightedSds,\n",
      "    colWeightedVars, rowAlls, rowAnyNAs, rowAnys, rowAvgsPerColSet,\n",
      "    rowCollapse, rowCounts, rowCummaxs, rowCummins, rowCumprods,\n",
      "    rowCumsums, rowDiffs, rowIQRDiffs, rowIQRs, rowLogSumExps,\n",
      "    rowMadDiffs, rowMads, rowMaxs, rowMeans2, rowMedians, rowMins,\n",
      "    rowOrderStats, rowProds, rowQuantiles, rowRanges, rowRanks,\n",
      "    rowSdDiffs, rowSds, rowSums2, rowTabulates, rowVarDiffs, rowVars,\n",
      "    rowWeightedMads, rowWeightedMeans, rowWeightedMedians,\n",
      "    rowWeightedSds, rowWeightedVars\n",
      "\n",
      "\n",
      "Loading required package: GenomicRanges\n",
      "\n",
      "Loading required package: stats4\n",
      "\n",
      "Loading required package: BiocGenerics\n",
      "\n",
      "\n",
      "Attaching package: ‘BiocGenerics’\n",
      "\n",
      "\n",
      "The following objects are masked from ‘package:stats’:\n",
      "\n",
      "    IQR, mad, sd, var, xtabs\n",
      "\n",
      "\n",
      "The following objects are masked from ‘package:base’:\n",
      "\n",
      "    anyDuplicated, aperm, append, as.data.frame, basename, cbind,\n",
      "    colnames, dirname, do.call, duplicated, eval, evalq, Filter, Find,\n",
      "    get, grep, grepl, intersect, is.unsorted, lapply, Map, mapply,\n",
      "    match, mget, order, paste, pmax, pmax.int, pmin, pmin.int,\n",
      "    Position, rank, rbind, Reduce, rownames, sapply, setdiff, sort,\n",
      "    table, tapply, union, unique, unsplit, which.max, which.min\n",
      "\n",
      "\n",
      "Loading required package: S4Vectors\n",
      "\n",
      "\n",
      "Attaching package: ‘S4Vectors’\n",
      "\n",
      "\n",
      "The following objects are masked from ‘package:base’:\n",
      "\n",
      "    expand.grid, I, unname\n",
      "\n",
      "\n",
      "Loading required package: IRanges\n",
      "\n",
      "Loading required package: GenomeInfoDb\n",
      "\n",
      "Loading required package: Biobase\n",
      "\n",
      "Welcome to Bioconductor\n",
      "\n",
      "    Vignettes contain introductory material; view with\n",
      "    'browseVignettes()'. To cite Bioconductor, see\n",
      "    'citation(\"Biobase\")', and for packages 'citation(\"pkgname\")'.\n",
      "\n",
      "\n",
      "\n",
      "Attaching package: ‘Biobase’\n",
      "\n",
      "\n",
      "The following object is masked from ‘package:MatrixGenerics’:\n",
      "\n",
      "    rowMedians\n",
      "\n",
      "\n",
      "The following objects are masked from ‘package:matrixStats’:\n",
      "\n",
      "    anyMissing, rowMedians\n",
      "\n",
      "\n",
      "Loading required package: scuttle\n",
      "\n",
      "Loading required package: ggplot2\n",
      "\n",
      "Attaching SeuratObject\n",
      "\n",
      "\n",
      "Attaching package: ‘Seurat’\n",
      "\n",
      "\n",
      "The following object is masked from ‘package:SummarizedExperiment’:\n",
      "\n",
      "    Assays\n",
      "\n",
      "\n",
      "Registered S3 method overwritten by 'SeuratDisk':\n",
      "  method            from  \n",
      "  as.sparse.H5Group Seurat\n",
      "\n"
     ]
    },
    {
     "ename": "ERROR",
     "evalue": "Error in eval(expr, envir, enclos): OSError: Can't read data (can't open directory: /usr/local/hdf5/lib/plugin)\n\n",
     "output_type": "error",
     "traceback": [
      "Error in eval(expr, envir, enclos): OSError: Can't read data (can't open directory: /usr/local/hdf5/lib/plugin)\n\nTraceback:\n",
      "1. LoadAnndata(input)",
      "2. read_h5ad(path)",
      "3. py_to_r_ifneedbe(python_anndata$read_h5ad(filename = filename, \n .     backed = backed))",
      "4. python_anndata$read_h5ad(filename = filename, backed = backed)",
      "5. py_call_impl(callable, dots$args, dots$keywords)"
     ]
    }
   ],
   "source": [
    "source(\"/ps/ai-ready/code_review_1/tools/formating/formating.R\")\n",
    "output=\"/ps/ai-ready/data/tung/tung.h5ad\"\n",
    "input=\"/ps/ai-ready/data/tung/tung.h5ad\"\n",
    "adata <- LoadAnndata(input)\n",
    "adata"
   ]
  },
  {
   "cell_type": "code",
   "execution_count": null,
   "id": "33c89bcf",
   "metadata": {},
   "outputs": [],
   "source": [
    "library(SAVER)\n",
    "packageVersion(\"SAVER\")\n",
    "\n",
    "counts.saver <- saver(t(as.matrix(adata$X)), ncores = 20, estimates.only = TRUE)"
   ]
  },
  {
   "cell_type": "code",
   "execution_count": null,
   "id": "d8061ff6",
   "metadata": {},
   "outputs": [],
   "source": [
    "counts.saver"
   ]
  },
  {
   "cell_type": "code",
   "execution_count": null,
   "id": "7f23377f",
   "metadata": {},
   "outputs": [],
   "source": [
    "adata$layers[\"SAVER\"] <- t(counts.saver)"
   ]
  },
  {
   "cell_type": "code",
   "execution_count": null,
   "id": "57889591",
   "metadata": {},
   "outputs": [],
   "source": [
    "head(adata$layers[\"SAVER\"])"
   ]
  },
  {
   "cell_type": "code",
   "execution_count": null,
   "id": "4c7315cd",
   "metadata": {},
   "outputs": [],
   "source": [
    "sparsematrix <- as(adata$layers['Pearson_residuals'], \"sparseMatrix\")\n",
    "sparsematrix"
   ]
  },
  {
   "cell_type": "code",
   "execution_count": null,
   "id": "26a0d42b",
   "metadata": {},
   "outputs": [],
   "source": [
    "adata$X"
   ]
  },
  {
   "cell_type": "code",
   "execution_count": null,
   "id": "08c92927",
   "metadata": {},
   "outputs": [],
   "source": [
    "'DESeq3' %in% names(adata$layers)"
   ]
  },
  {
   "cell_type": "code",
   "execution_count": null,
   "id": "72b39f3d",
   "metadata": {},
   "outputs": [],
   "source": [
    "csv_path <- SeuratToCSV(srat, input, assay = default_assay)\n",
    "csv_path"
   ]
  },
  {
   "cell_type": "code",
   "execution_count": null,
   "id": "763fb553",
   "metadata": {},
   "outputs": [],
   "source": [
    "library(reticulate)\n",
    "magic <- import(\"magic\")\n",
    "pd <- import(\"pandas\")"
   ]
  },
  {
   "cell_type": "code",
   "execution_count": null,
   "id": "c762ad0d",
   "metadata": {},
   "outputs": [],
   "source": [
    "py$counts = pd$read_csv(csv_path)\n",
    "py$counts"
   ]
  },
  {
   "cell_type": "code",
   "execution_count": null,
   "id": "00de0591",
   "metadata": {},
   "outputs": [],
   "source": [
    "magic_operator = magic$MAGIC()\n",
    "data_magic = magic_operator$fit_transform(py$counts)"
   ]
  },
  {
   "cell_type": "code",
   "execution_count": null,
   "id": "f537c115",
   "metadata": {},
   "outputs": [],
   "source": [
    "data_magic"
   ]
  },
  {
   "cell_type": "code",
   "execution_count": null,
   "id": "1dbec23f",
   "metadata": {},
   "outputs": [],
   "source": [
    "```{python}\n",
    "import magic\n",
    "import pandas as pd\n",
    "import sys\n",
    "\n",
    "csv_path = '/ps/ai-ready/data/tung/tung_RNA.csv'\n",
    "\n",
    "counts = pd.read_csv(csv_path)\n",
    "magic_operator = magic.MAGIC()\n",
    "data_magic = None\n",
    "data_magic = magic_operator.fit_transform(counts.T)\n",
    "data_magic\n",
    "```"
   ]
  },
  {
   "cell_type": "code",
   "execution_count": null,
   "id": "28a7c6d8",
   "metadata": {},
   "outputs": [],
   "source": []
  },
  {
   "cell_type": "code",
   "execution_count": null,
   "id": "6a786732",
   "metadata": {},
   "outputs": [],
   "source": [
    "library(reticulate)\n",
    "source_python(\"/ps/ai-ready/code_review_1/tools/imputation/MAGIC.py\")\n",
    "data_magic <- py_to_r_ifneedbe(magic_impute(csv_path))"
   ]
  },
  {
   "cell_type": "code",
   "execution_count": null,
   "id": "2a324d35",
   "metadata": {},
   "outputs": [],
   "source": [
    "data_magic"
   ]
  },
  {
   "cell_type": "code",
   "execution_count": null,
   "id": "906cf2f1",
   "metadata": {},
   "outputs": [],
   "source": [
    "as.matrix(expression_matrix)"
   ]
  },
  {
   "cell_type": "code",
   "execution_count": null,
   "id": "dcf38ea9",
   "metadata": {},
   "outputs": [],
   "source": [
    "library(Rmagic)"
   ]
  },
  {
   "cell_type": "code",
   "execution_count": null,
   "id": "50bff1f9",
   "metadata": {},
   "outputs": [],
   "source": [
    "data_MAGIC <- magic(expression_matrix)"
   ]
  },
  {
   "cell_type": "code",
   "execution_count": null,
   "id": "7c7c2ca1",
   "metadata": {},
   "outputs": [],
   "source": [
    "data_MAGIC"
   ]
  },
  {
   "cell_type": "code",
   "execution_count": null,
   "id": "9cb9b5e8",
   "metadata": {},
   "outputs": [],
   "source": [
    "library(SAVER)\n",
    "library(anndata)\n",
    "packageVersion(\"SAVER\")"
   ]
  },
  {
   "cell_type": "code",
   "execution_count": null,
   "id": "29079d06",
   "metadata": {},
   "outputs": [],
   "source": [
    "csv_path <- '/ps/ai-ready/data/tung/tung.csv'"
   ]
  },
  {
   "cell_type": "code",
   "execution_count": null,
   "id": "98693221",
   "metadata": {},
   "outputs": [],
   "source": [
    "adata <- read_csv(csv_path)\n",
    "adata"
   ]
  },
  {
   "cell_type": "code",
   "execution_count": null,
   "id": "db38a031",
   "metadata": {},
   "outputs": [],
   "source": [
    "head(adata$X)"
   ]
  },
  {
   "cell_type": "code",
   "execution_count": null,
   "id": "f7593930",
   "metadata": {},
   "outputs": [],
   "source": [
    "counts.saver <- saver(t(adata$X), ncores = 20)"
   ]
  },
  {
   "cell_type": "code",
   "execution_count": null,
   "id": "ee627204",
   "metadata": {},
   "outputs": [],
   "source": [
    "counts.saver"
   ]
  }
 ],
 "metadata": {
  "kernelspec": {
   "display_name": "R",
   "language": "R",
   "name": "ir"
  },
  "language_info": {
   "codemirror_mode": "r",
   "file_extension": ".r",
   "mimetype": "text/x-r-source",
   "name": "R",
   "pygments_lexer": "r",
   "version": "4.2.1"
  }
 },
 "nbformat": 4,
 "nbformat_minor": 5
}
