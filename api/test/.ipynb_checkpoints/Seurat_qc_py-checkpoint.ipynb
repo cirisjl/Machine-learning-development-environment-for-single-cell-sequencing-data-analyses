{
 "cells": [
  {
   "cell_type": "code",
   "execution_count": 5,
   "id": "b6120aea-a550-40ec-93f0-64888aa90448",
   "metadata": {},
   "outputs": [],
   "source": [
    "import os\n",
    "import scanpy as sc\n",
    "import numpy as np\n",
    "import pandas as pd\n",
    "import rpy2.robjects as ro\n",
    "from rpy2.robjects.packages import importr\n",
    "from rpy2.robjects import pandas2ri\n",
    "from rpy2.robjects.conversion import localconverter\n",
    "# from tools.formating.formating import change_file_extension, load_anndata, convert_from_r, convert_to_r\n",
    "pandas2ri.activate()"
   ]
  },
  {
   "cell_type": "code",
   "execution_count": 6,
   "id": "c27056a4-7ff1-4178-98bf-7422146e022e",
   "metadata": {},
   "outputs": [
    {
     "name": "stderr",
     "output_type": "stream",
     "text": [
      "R[write to console]: X -> counts\n",
      "\n"
     ]
    },
    {
     "name": "stdout",
     "output_type": "stream",
     "text": [
      "Formal class 'Seurat' [package \"SeuratObject\"] with 13 slots\n",
      "  ..@ assays      :List of 1\n",
      "  .. ..$ RNA:Formal class 'Assay' [package \"SeuratObject\"] with 8 slots\n",
      "  .. .. .. ..@ counts       :Formal class 'dgCMatrix' [package \"Matrix\"] with 6 slots\n",
      "  .. .. .. .. .. ..@ i       : int [1:3771090] 26 39 52 53 54 78 122 152 168 178 ...\n",
      "  .. .. .. .. .. ..@ p       : int [1:3962] 0 3033 4729 5296 5737 6460 6888 7338 7991 8534 ...\n",
      "  .. .. .. .. .. ..@ Dim     : int [1:2] 33538 3961\n",
      "  .. .. .. .. .. ..@ Dimnames:List of 2\n",
      "  .. .. .. .. .. .. ..$ : chr [1:33538] \"MIR1302-2HG\" \"FAM138A\" \"OR4F5\" \"AL627309.1\" ...\n",
      "  .. .. .. .. .. .. ..$ : chr [1:3961] \"AACCCAAAGTACGAGC-1-H0015_apex\" \"AACCTGATCAGCTTCC-1-H0015_apex\" \"AACGAAACACGACTAT-1-H0015_apex\" \"AAGTGAATCGAGAGCA-1-H0015_apex\" ...\n",
      "  .. .. .. .. .. ..@ x       : num [1:3771090] 1 1 1 1 1 1 1 1 1 1 ...\n",
      "  .. .. .. .. .. ..@ factors : list()\n",
      "  .. .. .. ..@ data         :Formal class 'dgCMatrix' [package \"Matrix\"] with 6 slots\n",
      "  .. .. .. .. .. ..@ i       : int [1:3771090] 26 39 52 53 54 78 122 152 168 178 ...\n",
      "  .. .. .. .. .. ..@ p       : int [1:3962] 0 3033 4729 5296 5737 6460 6888 7338 7991 8534 ...\n",
      "  .. .. .. .. .. ..@ Dim     : int [1:2] 33538 3961\n",
      "  .. .. .. .. .. ..@ Dimnames:List of 2\n",
      "  .. .. .. .. .. .. ..$ : chr [1:33538] \"MIR1302-2HG\" \"FAM138A\" \"OR4F5\" \"AL627309.1\" ...\n",
      "  .. .. .. .. .. .. ..$ : chr [1:3961] \"AACCCAAAGTACGAGC-1-H0015_apex\" \"AACCTGATCAGCTTCC-1-H0015_apex\" \"AACGAAACACGACTAT-1-H0015_apex\" \"AAGTGAATCGAGAGCA-1-H0015_apex\" ...\n",
      "  .. .. .. .. .. ..@ x       : num [1:3771090] 1 1 1 1 1 1 1 1 1 1 ...\n",
      "  .. .. .. .. .. ..@ factors : list()\n",
      "  .. .. .. ..@ scale.data   : num[0 , 0 ] \n",
      "  .. .. .. ..@ assay.orig   : NULL\n",
      "  .. .. .. ..@ var.features : logi(0) \n",
      "  .. .. .. ..@ meta.features:'data.frame':\t33538 obs. of  0 variables\n",
      "  .. .. .. ..@ misc         : list()\n",
      "  .. .. .. ..@ key          : chr \"rna_\"\n",
      "  ..@ meta.data   :'data.frame':\t3961 obs. of  21 variables:\n",
      "  .. ..$ orig.ident    : Factor w/ 1 level \"hca_heart_neuronal_raw\": 1 1 1 1 1 1 1 1 1 1 ...\n",
      "  .. ..$ nCount_RNA    : num [1:3961] 5796 3295 743 562 984 ...\n",
      "  .. ..$ nFeature_RNA  : int [1:3961] 3033 1696 567 441 723 428 450 653 543 1260 ...\n",
      "  .. ..$ NRP           : Factor w/ 2 levels \"No\",\"Yes\": 1 1 1 1 1 1 1 1 1 1 ...\n",
      "  .. ..$ age_group     : Factor w/ 7 levels \"40-45\",\"45-50\",..: 3 3 3 3 3 3 3 3 3 3 ...\n",
      "  .. ..$ cell_source   : Factor w/ 4 levels \"Harvard-Nuclei\",..: 1 1 1 1 1 1 1 1 1 1 ...\n",
      "  .. ..$ cell_type     : Factor w/ 1 level \"Neuronal\": 1 1 1 1 1 1 1 1 1 1 ...\n",
      "  .. ..$ donor         : Factor w/ 14 levels \"D1\",\"D2\",\"D3\",..: 12 12 12 12 12 12 12 12 12 12 ...\n",
      "  .. ..$ gender        : Factor w/ 2 levels \"Female\",\"Male\": 1 1 1 1 1 1 1 1 1 1 ...\n",
      "  .. ..$ nCounts_RNA   : num [1:3961] 5796 3295 743 562 984 ...\n",
      "  .. ..$ nFeatures_RNA : num [1:3961] 3033 1696 567 441 723 ...\n",
      "  .. ..$ percent_mito  : num [1:3961] 0.004141 0.000607 0.008075 0.005338 0.004065 ...\n",
      "  .. ..$ percent_ribo  : num [1:3961] 0.0019 0.00152 0.00135 0.00534 0 ...\n",
      "  .. ..$ region        : Factor w/ 6 levels \"AX\",\"LA\",\"LV\",..: 1 1 1 1 1 1 1 1 1 1 ...\n",
      "  .. ..$ sample        : Factor w/ 133 levels \"H0015_LA_new\",..: 5 5 5 5 5 5 5 5 5 5 ...\n",
      "  .. ..$ scrublet_score: num [1:3961] 0.1393 0.0273 0.0152 0.0143 0.0152 ...\n",
      "  .. ..$ source        : Factor w/ 3 levels \"CD45+\",\"Cells\",..: 3 3 3 3 3 3 3 3 3 3 ...\n",
      "  .. ..$ type          : Factor w/ 2 levels \"DBD\",\"DCD\": 1 1 1 1 1 1 1 1 1 1 ...\n",
      "  .. ..$ version       : Factor w/ 2 levels \"V2\",\"V3\": 2 2 2 2 2 2 2 2 2 2 ...\n",
      "  .. ..$ cell_states   : Factor w/ 6 levels \"NC1\",\"NC2\",\"NC3\",..: 3 4 1 1 1 1 1 1 1 1 ...\n",
      "  .. ..$ Used          : Factor w/ 1 level \"Yes\": 1 1 1 1 1 1 1 1 1 1 ...\n",
      "  ..@ active.assay: chr \"RNA\"\n",
      "  ..@ active.ident: Factor w/ 1 level \"hca_heart_neuronal_raw\": 1 1 1 1 1 1 1 1 1 1 ...\n",
      "  .. ..- attr(*, \"names\")= chr [1:3961] \"AACCCAAAGTACGAGC-1-H0015_apex\" \"AACCTGATCAGCTTCC-1-H0015_apex\" \"AACGAAACACGACTAT-1-H0015_apex\" \"AAGTGAATCGAGAGCA-1-H0015_apex\" ...\n",
      "  ..@ graphs      : list()\n",
      "  ..@ neighbors   : list()\n",
      "  ..@ reductions  : list()\n",
      "  ..@ images      : list()\n",
      "  ..@ project.name: chr \"hca_heart_neuronal_raw\"\n",
      "  ..@ misc        : list()\n",
      "  ..@ version     :Classes 'package_version', 'numeric_version'  hidden list of 1\n",
      "  .. ..$ : int [1:3] 5 0 1\n",
      "  ..@ commands    : list()\n",
      "  ..@ tools       : list()\n",
      "NULL\n",
      "[1] \"RNA\"\n",
      "[1] \"Setting default_assay to RNA\"\n",
      "[1] \"Calculating the percentage of mitocondrial per cell and add to the metadata.\"\n",
      "[1] \"Calculating the proportion gene expression that comes from ribosomal proteins.\"\n"
     ]
    },
    {
     "name": "stderr",
     "output_type": "stream",
     "text": [
      "R[write to console]: Error in RedisInfo(unique_id, \"Calculating the percentage hemoglobin genes - includes all genes starting with HB except HBP.\") : \n",
      "  could not find function \"RedisInfo\"\n",
      "\n"
     ]
    },
    {
     "ename": "RRuntimeError",
     "evalue": "Error in RedisInfo(unique_id, \"Calculating the percentage hemoglobin genes - includes all genes starting with HB except HBP.\") : \n  could not find function \"RedisInfo\"\n",
     "output_type": "error",
     "traceback": [
      "\u001b[0;31m---------------------------------------------------------------------------\u001b[0m",
      "\u001b[0;31mRRuntimeError\u001b[0m                             Traceback (most recent call last)",
      "Cell \u001b[0;32mIn[6], line 5\u001b[0m\n\u001b[1;32m      3\u001b[0m path\u001b[38;5;241m=\u001b[39m\u001b[38;5;124m\"\u001b[39m\u001b[38;5;124mhca_heart_neuronal_raw.h5ad\u001b[39m\u001b[38;5;124m\"\u001b[39m\n\u001b[1;32m      4\u001b[0m adata_path \u001b[38;5;241m=\u001b[39m \u001b[38;5;124m'\u001b[39m\u001b[38;5;124mhca_heart_neuronal_raw.h5ad\u001b[39m\u001b[38;5;124m'\u001b[39m\n\u001b[0;32m----> 5\u001b[0m results \u001b[38;5;241m=\u001b[39m \u001b[38;5;28mlist\u001b[39m(\u001b[43mRunSeuratQC_r\u001b[49m\u001b[43m(\u001b[49m\u001b[43mpath\u001b[49m\u001b[43m,\u001b[49m\u001b[43m \u001b[49m\u001b[38;5;124;43m'\u001b[39;49m\u001b[38;5;124;43mhca_heart_neuronal_raw.h5seurat\u001b[39;49m\u001b[38;5;124;43m'\u001b[39;49m\u001b[43m,\u001b[49m\u001b[43m \u001b[49m\u001b[43madata_path\u001b[49m\u001b[38;5;241;43m=\u001b[39;49m\u001b[43madata_path\u001b[49m\u001b[43m)\u001b[49m)\n",
      "File \u001b[0;32m/usr/local/lib/python3.8/dist-packages/rpy2/robjects/functions.py:208\u001b[0m, in \u001b[0;36mSignatureTranslatedFunction.__call__\u001b[0;34m(self, *args, **kwargs)\u001b[0m\n\u001b[1;32m    206\u001b[0m         v \u001b[38;5;241m=\u001b[39m kwargs\u001b[38;5;241m.\u001b[39mpop(k)\n\u001b[1;32m    207\u001b[0m         kwargs[r_k] \u001b[38;5;241m=\u001b[39m v\n\u001b[0;32m--> 208\u001b[0m \u001b[38;5;28;01mreturn\u001b[39;00m (\u001b[38;5;28;43msuper\u001b[39;49m\u001b[43m(\u001b[49m\u001b[43mSignatureTranslatedFunction\u001b[49m\u001b[43m,\u001b[49m\u001b[43m \u001b[49m\u001b[38;5;28;43mself\u001b[39;49m\u001b[43m)\u001b[49m\n\u001b[1;32m    209\u001b[0m \u001b[43m        \u001b[49m\u001b[38;5;241;43m.\u001b[39;49m\u001b[38;5;21;43m__call__\u001b[39;49m\u001b[43m(\u001b[49m\u001b[38;5;241;43m*\u001b[39;49m\u001b[43margs\u001b[49m\u001b[43m,\u001b[49m\u001b[43m \u001b[49m\u001b[38;5;241;43m*\u001b[39;49m\u001b[38;5;241;43m*\u001b[39;49m\u001b[43mkwargs\u001b[49m\u001b[43m)\u001b[49m)\n",
      "File \u001b[0;32m/usr/local/lib/python3.8/dist-packages/rpy2/robjects/functions.py:131\u001b[0m, in \u001b[0;36mFunction.__call__\u001b[0;34m(self, *args, **kwargs)\u001b[0m\n\u001b[1;32m    129\u001b[0m     \u001b[38;5;28;01melse\u001b[39;00m:\n\u001b[1;32m    130\u001b[0m         new_kwargs[k] \u001b[38;5;241m=\u001b[39m cv\u001b[38;5;241m.\u001b[39mpy2rpy(v)\n\u001b[0;32m--> 131\u001b[0m res \u001b[38;5;241m=\u001b[39m \u001b[38;5;28;43msuper\u001b[39;49m\u001b[43m(\u001b[49m\u001b[43mFunction\u001b[49m\u001b[43m,\u001b[49m\u001b[43m \u001b[49m\u001b[38;5;28;43mself\u001b[39;49m\u001b[43m)\u001b[49m\u001b[38;5;241;43m.\u001b[39;49m\u001b[38;5;21;43m__call__\u001b[39;49m\u001b[43m(\u001b[49m\u001b[38;5;241;43m*\u001b[39;49m\u001b[43mnew_args\u001b[49m\u001b[43m,\u001b[49m\u001b[43m \u001b[49m\u001b[38;5;241;43m*\u001b[39;49m\u001b[38;5;241;43m*\u001b[39;49m\u001b[43mnew_kwargs\u001b[49m\u001b[43m)\u001b[49m\n\u001b[1;32m    132\u001b[0m res \u001b[38;5;241m=\u001b[39m cv\u001b[38;5;241m.\u001b[39mrpy2py(res)\n\u001b[1;32m    133\u001b[0m \u001b[38;5;28;01mreturn\u001b[39;00m res\n",
      "File \u001b[0;32m/usr/local/lib/python3.8/dist-packages/rpy2/rinterface_lib/conversion.py:45\u001b[0m, in \u001b[0;36m_cdata_res_to_rinterface.<locals>._\u001b[0;34m(*args, **kwargs)\u001b[0m\n\u001b[1;32m     44\u001b[0m \u001b[38;5;28;01mdef\u001b[39;00m \u001b[38;5;21m_\u001b[39m(\u001b[38;5;241m*\u001b[39margs, \u001b[38;5;241m*\u001b[39m\u001b[38;5;241m*\u001b[39mkwargs):\n\u001b[0;32m---> 45\u001b[0m     cdata \u001b[38;5;241m=\u001b[39m \u001b[43mfunction\u001b[49m\u001b[43m(\u001b[49m\u001b[38;5;241;43m*\u001b[39;49m\u001b[43margs\u001b[49m\u001b[43m,\u001b[49m\u001b[43m \u001b[49m\u001b[38;5;241;43m*\u001b[39;49m\u001b[38;5;241;43m*\u001b[39;49m\u001b[43mkwargs\u001b[49m\u001b[43m)\u001b[49m\n\u001b[1;32m     46\u001b[0m     \u001b[38;5;66;03m# TODO: test cdata is of the expected CType\u001b[39;00m\n\u001b[1;32m     47\u001b[0m     \u001b[38;5;28;01mreturn\u001b[39;00m _cdata_to_rinterface(cdata)\n",
      "File \u001b[0;32m/usr/local/lib/python3.8/dist-packages/rpy2/rinterface.py:873\u001b[0m, in \u001b[0;36mSexpClosure.__call__\u001b[0;34m(self, *args, **kwargs)\u001b[0m\n\u001b[1;32m    866\u001b[0m     res \u001b[38;5;241m=\u001b[39m rmemory\u001b[38;5;241m.\u001b[39mprotect(\n\u001b[1;32m    867\u001b[0m         openrlib\u001b[38;5;241m.\u001b[39mrlib\u001b[38;5;241m.\u001b[39mR_tryEval(\n\u001b[1;32m    868\u001b[0m             call_r,\n\u001b[1;32m    869\u001b[0m             call_context\u001b[38;5;241m.\u001b[39m__sexp__\u001b[38;5;241m.\u001b[39m_cdata,\n\u001b[1;32m    870\u001b[0m             error_occured)\n\u001b[1;32m    871\u001b[0m     )\n\u001b[1;32m    872\u001b[0m     \u001b[38;5;28;01mif\u001b[39;00m error_occured[\u001b[38;5;241m0\u001b[39m]:\n\u001b[0;32m--> 873\u001b[0m         \u001b[38;5;28;01mraise\u001b[39;00m embedded\u001b[38;5;241m.\u001b[39mRRuntimeError(_rinterface\u001b[38;5;241m.\u001b[39m_geterrmessage())\n\u001b[1;32m    874\u001b[0m \u001b[38;5;28;01mreturn\u001b[39;00m res\n",
      "\u001b[0;31mRRuntimeError\u001b[0m: Error in RedisInfo(unique_id, \"Calculating the percentage hemoglobin genes - includes all genes starting with HB except HBP.\") : \n  could not find function \"RedisInfo\"\n"
     ]
    }
   ],
   "source": [
    "ro.r['source']('seurat_qc.R')\n",
    "RunSeuratQC_r = ro.globalenv['RunSeuratQC']\n",
    "path=\"hca_heart_neuronal_raw.h5ad\"\n",
    "adata_path = 'hca_heart_neuronal_raw.h5ad'\n",
    "results = list(RunSeuratQC_r(path, 'hca_heart_neuronal_raw.h5seurat', adata_path=adata_path))"
   ]
  },
  {
   "cell_type": "code",
   "execution_count": null,
   "id": "bf9cb63e-9bb4-4ad8-a1fd-0ebe4036a296",
   "metadata": {},
   "outputs": [],
   "source": []
  }
 ],
 "metadata": {
  "kernelspec": {
   "display_name": "Python 3 (ipykernel)",
   "language": "python",
   "name": "python3"
  },
  "language_info": {
   "codemirror_mode": {
    "name": "ipython",
    "version": 3
   },
   "file_extension": ".py",
   "mimetype": "text/x-python",
   "name": "python",
   "nbconvert_exporter": "python",
   "pygments_lexer": "ipython3",
   "version": "3.8.10"
  }
 },
 "nbformat": 4,
 "nbformat_minor": 5
}
