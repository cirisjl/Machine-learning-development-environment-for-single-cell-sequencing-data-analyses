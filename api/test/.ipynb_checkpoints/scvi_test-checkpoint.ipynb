{
 "cells": [
  {
   "cell_type": "code",
   "execution_count": 1,
   "id": "4a2b92e0-0b65-4958-8ef4-7ce8f83c29dc",
   "metadata": {},
   "outputs": [
    {
     "ename": "ModuleNotFoundError",
     "evalue": "No module named 'tools'",
     "output_type": "error",
     "traceback": [
      "\u001b[0;31m---------------------------------------------------------------------------\u001b[0m",
      "\u001b[0;31mModuleNotFoundError\u001b[0m                       Traceback (most recent call last)",
      "Cell \u001b[0;32mIn[1], line 7\u001b[0m\n\u001b[1;32m      5\u001b[0m \u001b[38;5;28;01mimport\u001b[39;00m \u001b[38;5;21;01mscanpy\u001b[39;00m \u001b[38;5;28;01mas\u001b[39;00m \u001b[38;5;21;01msc\u001b[39;00m\n\u001b[1;32m      6\u001b[0m \u001b[38;5;28;01mfrom\u001b[39;00m \u001b[38;5;21;01mtyping\u001b[39;00m \u001b[38;5;28;01mimport\u001b[39;00m Tuple\n\u001b[0;32m----> 7\u001b[0m \u001b[38;5;28;01mfrom\u001b[39;00m \u001b[38;5;21;01mtools\u001b[39;00m\u001b[38;5;21;01m.\u001b[39;00m\u001b[38;5;21;01mformating\u001b[39;00m\u001b[38;5;21;01m.\u001b[39;00m\u001b[38;5;21;01mformating\u001b[39;00m \u001b[38;5;28;01mimport\u001b[39;00m \u001b[38;5;241m*\u001b[39m\n\u001b[1;32m      8\u001b[0m \u001b[38;5;28;01mfrom\u001b[39;00m \u001b[38;5;21;01mtools\u001b[39;00m\u001b[38;5;21;01m.\u001b[39;00m\u001b[38;5;21;01mutils\u001b[39;00m\u001b[38;5;21;01m.\u001b[39;00m\u001b[38;5;21;01mutils\u001b[39;00m \u001b[38;5;28;01mimport\u001b[39;00m run_dimension_reduction\n\u001b[1;32m      9\u001b[0m \u001b[38;5;28;01mfrom\u001b[39;00m \u001b[38;5;21;01mtools\u001b[39;00m\u001b[38;5;21;01m.\u001b[39;00m\u001b[38;5;21;01mevaluation\u001b[39;00m\u001b[38;5;21;01m.\u001b[39;00m\u001b[38;5;21;01mmonitor\u001b[39;00m \u001b[38;5;28;01mimport\u001b[39;00m \u001b[38;5;241m*\u001b[39m\n",
      "\u001b[0;31mModuleNotFoundError\u001b[0m: No module named 'tools'"
     ]
    }
   ],
   "source": [
    "# Seed for reproducibility\n",
    "import torch\n",
    "import numpy as np\n",
    "import pandas as pd\n",
    "import scanpy as sc\n",
    "from typing import Tuple\n",
    "\n",
    "import sys\n",
    "sys.path.append('..')\n",
    "from tools.formating.formating import *\n",
    "from tools.utils.utils import run_dimension_reduction\n",
    "from tools.evaluation.monitor import *\n",
    "\n",
    "# scVI imports\n",
    "import scvi\n",
    "print(scvi.__version__)\n",
    "from scvi.model.utils import mde\n",
    "import pymde\n",
    "\n",
    "torch.manual_seed(0)\n",
    "np.random.seed(0)\n",
    "sc.settings.verbosity = 0  # verbosity: errors (0), warnings (1), info (2), hints (3)"
   ]
  },
  {
   "cell_type": "code",
   "execution_count": null,
   "id": "a9d570f5-fd2c-45b9-b48e-504b52b815cb",
   "metadata": {},
   "outputs": [],
   "source": [
    "input = \"/ps/ai-ready/data/Clustering/Tabula_Sapiens/TS_Skin_test.h5ad\"\n",
    "adata = load_anndata(input)\n",
    "adata"
   ]
  },
  {
   "cell_type": "code",
   "execution_count": null,
   "id": "561ecf96-76e4-45cd-87b2-07f715d8af11",
   "metadata": {},
   "outputs": [],
   "source": [
    "monitor = Monitor(1)"
   ]
  },
  {
   "cell_type": "code",
   "execution_count": null,
   "id": "93c29bbb-5db9-445d-8bf0-7f10bf8a08fb",
   "metadata": {},
   "outputs": [],
   "source": [
    "# scVI uses non normalized data so we keep the original data in a separate AnnData object, then the normalization steps are performed\n",
    "scvi.model.SCVI.setup_anndata(\n",
    "    adata,\n",
    "    layer=\"raw_counts\"\n",
    ")"
   ]
  },
  {
   "cell_type": "code",
   "execution_count": null,
   "id": "89daf27f-3109-4fef-be84-b29ff5d63821",
   "metadata": {},
   "outputs": [],
   "source": [
    "model = scvi.model.SCVI(adata)\n",
    "model"
   ]
  },
  {
   "cell_type": "code",
   "execution_count": null,
   "id": "887645cd-5432-48e1-b321-d785b0f93578",
   "metadata": {},
   "outputs": [],
   "source": [
    "model.train()"
   ]
  },
  {
   "cell_type": "code",
   "execution_count": null,
   "id": "8b8effc0-c103-4185-9b44-f5a931453800",
   "metadata": {},
   "outputs": [],
   "source": [
    "latent = model.get_latent_representation()\n",
    "adata.obsm[\"X_scVI\"] = latent"
   ]
  },
  {
   "cell_type": "code",
   "execution_count": null,
   "id": "8ac1c51a-d548-481f-a998-53f3bef6ee09",
   "metadata": {},
   "outputs": [],
   "source": [
    "denoised = model.get_normalized_expression(adata, library_size=1e4)\n",
    "adata.layers[\"scvi_normalized\"] = model.get_normalized_expression(\n",
    "    library_size=10e4\n",
    ")"
   ]
  },
  {
   "cell_type": "code",
   "execution_count": null,
   "id": "ffcd60a2-ce2f-4a6b-9b35-61990b97149d",
   "metadata": {},
   "outputs": [],
   "source": [
    "adata = run_dimension_reduction(adata, layer='X_scVI', n_pcs=30, n_neighbors=15)"
   ]
  },
  {
   "cell_type": "code",
   "execution_count": null,
   "id": "5f6854b1-c019-4e60-9a34-f96a7dc5f717",
   "metadata": {},
   "outputs": [],
   "source": []
  }
 ],
 "metadata": {
  "kernelspec": {
   "display_name": "Python 3 (ipykernel)",
   "language": "python",
   "name": "python3"
  },
  "language_info": {
   "codemirror_mode": {
    "name": "ipython",
    "version": 3
   },
   "file_extension": ".py",
   "mimetype": "text/x-python",
   "name": "python",
   "nbconvert_exporter": "python",
   "pygments_lexer": "ipython3",
   "version": "3.8.10"
  }
 },
 "nbformat": 4,
 "nbformat_minor": 5
}
