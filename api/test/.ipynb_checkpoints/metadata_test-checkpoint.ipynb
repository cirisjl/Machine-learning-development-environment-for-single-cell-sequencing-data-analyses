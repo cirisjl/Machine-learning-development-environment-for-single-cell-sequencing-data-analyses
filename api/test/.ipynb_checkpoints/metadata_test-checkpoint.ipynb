{
 "cells": [
  {
   "cell_type": "code",
   "execution_count": 1,
   "id": "48c7c36e-668d-43ad-9ca0-97bfba3275f8",
   "metadata": {},
   "outputs": [
    {
     "name": "stderr",
     "output_type": "stream",
     "text": [
      "R[write to console]: Loading required package: SingleCellExperiment\n",
      "\n",
      "R[write to console]: Loading required package: SummarizedExperiment\n",
      "\n",
      "R[write to console]: Loading required package: MatrixGenerics\n",
      "\n",
      "R[write to console]: Loading required package: matrixStats\n",
      "\n",
      "R[write to console]: \n",
      "Attaching package: ‘MatrixGenerics’\n",
      "\n",
      "\n",
      "R[write to console]: The following objects are masked from ‘package:matrixStats’:\n",
      "\n",
      "    colAlls, colAnyNAs, colAnys, colAvgsPerRowSet, colCollapse,\n",
      "    colCounts, colCummaxs, colCummins, colCumprods, colCumsums,\n",
      "    colDiffs, colIQRDiffs, colIQRs, colLogSumExps, colMadDiffs,\n",
      "    colMads, colMaxs, colMeans2, colMedians, colMins, colOrderStats,\n",
      "    colProds, colQuantiles, colRanges, colRanks, colSdDiffs, colSds,\n",
      "    colSums2, colTabulates, colVarDiffs, colVars, colWeightedMads,\n",
      "    colWeightedMeans, colWeightedMedians, colWeightedSds,\n",
      "    colWeightedVars, rowAlls, rowAnyNAs, rowAnys, rowAvgsPerColSet,\n",
      "    rowCollapse, rowCounts, rowCummaxs, rowCummins, rowCumprods,\n",
      "    rowCumsums, rowDiffs, rowIQRDiffs, rowIQRs, rowLogSumExps,\n",
      "    rowMadDiffs, rowMads, rowMaxs, rowMeans2, rowMedians, rowMins,\n",
      "    rowOrderStats, rowProds, rowQuantiles, rowRanges, rowRanks,\n",
      "    rowSdDiffs, rowSds, rowSums2, rowTabulates, rowVarDiffs, rowVars,\n",
      "    rowWeightedMads, rowWeightedMeans, rowWeightedMedians,\n",
      "    rowWeightedSds, rowWeightedVars\n",
      "\n",
      "\n",
      "R[write to console]: Loading required package: GenomicRanges\n",
      "\n",
      "R[write to console]: Loading required package: stats4\n",
      "\n",
      "R[write to console]: Loading required package: BiocGenerics\n",
      "\n",
      "R[write to console]: \n",
      "Attaching package: ‘BiocGenerics’\n",
      "\n",
      "\n",
      "R[write to console]: The following objects are masked from ‘package:stats’:\n",
      "\n",
      "    IQR, mad, sd, var, xtabs\n",
      "\n",
      "\n",
      "R[write to console]: The following objects are masked from ‘package:base’:\n",
      "\n",
      "    anyDuplicated, aperm, append, as.data.frame, basename, cbind,\n",
      "    colnames, dirname, do.call, duplicated, eval, evalq, Filter, Find,\n",
      "    get, grep, grepl, intersect, is.unsorted, lapply, Map, mapply,\n",
      "    match, mget, order, paste, pmax, pmax.int, pmin, pmin.int,\n",
      "    Position, rank, rbind, Reduce, rownames, sapply, setdiff, sort,\n",
      "    table, tapply, union, unique, unsplit, which.max, which.min\n",
      "\n",
      "\n",
      "R[write to console]: Loading required package: S4Vectors\n",
      "\n",
      "R[write to console]: \n",
      "Attaching package: ‘S4Vectors’\n",
      "\n",
      "\n",
      "R[write to console]: The following objects are masked from ‘package:base’:\n",
      "\n",
      "    expand.grid, I, unname\n",
      "\n",
      "\n",
      "R[write to console]: Loading required package: IRanges\n",
      "\n",
      "R[write to console]: Loading required package: GenomeInfoDb\n",
      "\n",
      "R[write to console]: Loading required package: Biobase\n",
      "\n",
      "R[write to console]: Welcome to Bioconductor\n",
      "\n",
      "    Vignettes contain introductory material; view with\n",
      "    'browseVignettes()'. To cite Bioconductor, see\n",
      "    'citation(\"Biobase\")', and for packages 'citation(\"pkgname\")'.\n",
      "\n",
      "\n",
      "R[write to console]: \n",
      "Attaching package: ‘Biobase’\n",
      "\n",
      "\n",
      "R[write to console]: The following object is masked from ‘package:MatrixGenerics’:\n",
      "\n",
      "    rowMedians\n",
      "\n",
      "\n",
      "R[write to console]: The following objects are masked from ‘package:matrixStats’:\n",
      "\n",
      "    anyMissing, rowMedians\n",
      "\n",
      "\n",
      "R[write to console]: Loading required package: scuttle\n",
      "\n",
      "R[write to console]: Loading required package: ggplot2\n",
      "\n"
     ]
    },
    {
     "name": "stdout",
     "output_type": "stream",
     "text": [
      "\n",
      "    WARNING: The R package \"reticulate\" only fixed recently\n",
      "    an issue that caused a segfault when used with rpy2:\n",
      "    https://github.com/rstudio/reticulate/pull/1188\n",
      "    Make sure that you use a version of that package that includes\n",
      "    the fix.\n",
      "    "
     ]
    },
    {
     "name": "stderr",
     "output_type": "stream",
     "text": [
      "R[write to console]: The legacy packages maptools, rgdal, and rgeos, underpinning the sp package,\n",
      "which was just loaded, will retire in October 2023.\n",
      "Please refer to R-spatial evolution reports for details, especially\n",
      "https://r-spatial.org/r/2023/05/15/evolution4.html.\n",
      "It may be desirable to make the sf package available;\n",
      "package maintainers should consider adding sf to Suggests:.\n",
      "The sp package is now running under evolution status 2\n",
      "     (status 2 uses the sf package in place of rgdal)\n",
      "\n",
      "R[write to console]: Attaching SeuratObject\n",
      "\n",
      "R[write to console]: \n",
      "Attaching package: ‘Seurat’\n",
      "\n",
      "\n",
      "R[write to console]: The following object is masked from ‘package:SummarizedExperiment’:\n",
      "\n",
      "    Assays\n",
      "\n",
      "\n",
      "R[write to console]: Registered S3 method overwritten by 'SeuratDisk':\n",
      "  method            from  \n",
      "  as.sparse.H5Group Seurat\n",
      "\n"
     ]
    }
   ],
   "source": [
    "import os\n",
    "import subprocess\n",
    "import sys\n",
    "sys.path.append('..')\n",
    "from tools.formating.formating import *"
   ]
  },
  {
   "cell_type": "code",
   "execution_count": null,
   "id": "aa098528-6554-4d4e-872a-1b5493f301d7",
   "metadata": {},
   "outputs": [],
   "source": [
    "# Get the absolute path of the desired file\n",
    "r_path = os.path.abspath(\"../tools/formating/formating.R\")\n",
    "\n",
    "with open(r_path, 'r') as r_source_file:\n",
    "    r_source = r_source_file.read()\n",
    "\n",
    "# Evaluate the R script in the R environment\n",
    "ro.r(r_source)"
   ]
  },
  {
   "cell_type": "code",
   "execution_count": null,
   "id": "7f55472f-2449-4420-81b3-9ffc4c532a82",
   "metadata": {},
   "outputs": [],
   "source": [
    "import os\n",
    "os.getcwd()"
   ]
  },
  {
   "cell_type": "code",
   "execution_count": 2,
   "id": "3f418058-cd75-4108-9049-179fb28c2dde",
   "metadata": {},
   "outputs": [
    {
     "name": "stderr",
     "output_type": "stream",
     "text": [
      "R[write to console]: Updating from v2.X to v3.X\n",
      "\n",
      "R[write to console]: Validating object structure\n",
      "\n",
      "R[write to console]: Updating object slots\n",
      "\n",
      "R[write to console]: Ensuring keys are in the proper structure\n",
      "\n",
      "R[write to console]: Ensuring feature names don't have underscores or pipes\n",
      "\n",
      "R[write to console]: Object representation is consistent with the most current Seurat version\n",
      "\n"
     ]
    },
    {
     "data": {
      "text/plain": [
       "<rpy2.robjects.methods.RS4 object at 0x7f59083d0bc0> [RTYPES.S4SXP]\n",
       "R classes: ('Seurat',)"
      ]
     },
     "execution_count": 2,
     "metadata": {},
     "output_type": "execute_result"
    }
   ],
   "source": [
    "path = \"/ps/ai-ready/data/Clustering/Tabula_Muris/droplet_Bladder_seurat_tiss.Robj\"\n",
    "LoadSeurat_r = ro.globalenv['LoadSeurat']\n",
    "srat = LoadSeurat_r(path)\n",
    "srat"
   ]
  },
  {
   "cell_type": "code",
   "execution_count": null,
   "id": "bc0a1276-630d-481b-a4c1-036bdc7e6a7a",
   "metadata": {},
   "outputs": [],
   "source": [
    "# Get the absolute path of the desired file\n",
    "r_path = os.path.abspath(\"../tools/qc/seurat_qc.R\")\n",
    "\n",
    "with open(r_path, 'r') as r_source_file:\n",
    "    r_source = r_source_file.read()\n",
    "\n",
    "# Evaluate the R script in the R environment\n",
    "ro.r(r_source)"
   ]
  },
  {
   "cell_type": "code",
   "execution_count": null,
   "id": "ce7c63b5-da2d-4511-944a-89bf36ca1383",
   "metadata": {},
   "outputs": [],
   "source": [
    "LoadSeuratMetaData_r = ro.globalenv['LoadSeuratMetaData']\n",
    "results = LoadSeuratMetaDataC_r(path, '/ps/ai-ready/data/Clustering/Tabula_Muris/droplet_Bladder_seurat_tiss.h5Seurat')\n",
    "srat <- list(results)[0]\n",
    "srat"
   ]
  },
  {
   "cell_type": "code",
   "execution_count": null,
   "id": "b2c0c783-bf62-4821-a655-61b7db88ce67",
   "metadata": {},
   "outputs": [],
   "source": [
    "RunSeuratQC_r = ro.globalenv['RunSeuratQC']\n",
    "results = RunSeuratQC_r(srat, '/ps/ai-ready/data/Clustering/Tabula_Muris/droplet_Bladder_seurat_tiss.h5Seurat')\n",
    "results"
   ]
  },
  {
   "cell_type": "code",
   "execution_count": null,
   "id": "ba22a3b9-caf9-4241-8d43-669e488bb2e4",
   "metadata": {},
   "outputs": [],
   "source": [
    "path = \"/ps/ai-ready/data/Clustering/Tabula_Muris/droplet_Bladder_seurat_tiss.Robj\"\n",
    "# default_assay, assay_names, metadata, nCells, nGenes, genes, cells, HVGsID, pca, tsne, umap = GetMetadataFromSeurat(path)"
   ]
  },
  {
   "cell_type": "code",
   "execution_count": 3,
   "id": "e919f06e-c8a4-438c-9c82-0217891a9c7e",
   "metadata": {},
   "outputs": [
    {
     "ename": "KeyError",
     "evalue": "\"'RunSeuratQC' not found\"",
     "output_type": "error",
     "traceback": [
      "\u001b[0;31m---------------------------------------------------------------------------\u001b[0m",
      "\u001b[0;31mKeyError\u001b[0m                                  Traceback (most recent call last)",
      "Cell \u001b[0;32mIn[3], line 2\u001b[0m\n\u001b[1;32m      1\u001b[0m path \u001b[38;5;241m=\u001b[39m \u001b[38;5;124m\"\u001b[39m\u001b[38;5;124m/ps/ai-ready/data/Clustering/Tabula_Muris/droplet_Bladder_seurat_tiss.Robj\u001b[39m\u001b[38;5;124m\"\u001b[39m\n\u001b[0;32m----> 2\u001b[0m RunSeuratQC_r \u001b[38;5;241m=\u001b[39m \u001b[43mro\u001b[49m\u001b[38;5;241;43m.\u001b[39;49m\u001b[43mglobalenv\u001b[49m\u001b[43m[\u001b[49m\u001b[38;5;124;43m'\u001b[39;49m\u001b[38;5;124;43mRunSeuratQC\u001b[39;49m\u001b[38;5;124;43m'\u001b[39;49m\u001b[43m]\u001b[49m\n\u001b[1;32m      3\u001b[0m results \u001b[38;5;241m=\u001b[39m RunSeuratQC_r(path, \u001b[38;5;124m'\u001b[39m\u001b[38;5;124m/ps/ai-ready/data/Clustering/Tabula_Muris/droplet_Bladder_seurat_tiss.h5Seurat\u001b[39m\u001b[38;5;124m'\u001b[39m)\n\u001b[1;32m      4\u001b[0m results\n",
      "File \u001b[0;32m/usr/local/lib/python3.8/dist-packages/rpy2/robjects/environments.py:21\u001b[0m, in \u001b[0;36mEnvironment.__getitem__\u001b[0;34m(self, item)\u001b[0m\n\u001b[1;32m     20\u001b[0m \u001b[38;5;28;01mdef\u001b[39;00m \u001b[38;5;21m__getitem__\u001b[39m(\u001b[38;5;28mself\u001b[39m, item: \u001b[38;5;28mstr\u001b[39m):\n\u001b[0;32m---> 21\u001b[0m     res \u001b[38;5;241m=\u001b[39m \u001b[38;5;28;43msuper\u001b[39;49m\u001b[43m(\u001b[49m\u001b[43mEnvironment\u001b[49m\u001b[43m,\u001b[49m\u001b[43m \u001b[49m\u001b[38;5;28;43mself\u001b[39;49m\u001b[43m)\u001b[49m\u001b[38;5;241;43m.\u001b[39;49m\u001b[38;5;21;43m__getitem__\u001b[39;49m\u001b[43m(\u001b[49m\u001b[43mitem\u001b[49m\u001b[43m)\u001b[49m\n\u001b[1;32m     22\u001b[0m     res \u001b[38;5;241m=\u001b[39m conversion\u001b[38;5;241m.\u001b[39mget_conversion()\u001b[38;5;241m.\u001b[39mrpy2py(res)\n\u001b[1;32m     23\u001b[0m     \u001b[38;5;66;03m# objects in a R environment have an associated name / symbol\u001b[39;00m\n",
      "File \u001b[0;32m/usr/local/lib/python3.8/dist-packages/rpy2/rinterface_lib/conversion.py:45\u001b[0m, in \u001b[0;36m_cdata_res_to_rinterface.<locals>._\u001b[0;34m(*args, **kwargs)\u001b[0m\n\u001b[1;32m     44\u001b[0m \u001b[38;5;28;01mdef\u001b[39;00m \u001b[38;5;21m_\u001b[39m(\u001b[38;5;241m*\u001b[39margs, \u001b[38;5;241m*\u001b[39m\u001b[38;5;241m*\u001b[39mkwargs):\n\u001b[0;32m---> 45\u001b[0m     cdata \u001b[38;5;241m=\u001b[39m \u001b[43mfunction\u001b[49m\u001b[43m(\u001b[49m\u001b[38;5;241;43m*\u001b[39;49m\u001b[43margs\u001b[49m\u001b[43m,\u001b[49m\u001b[43m \u001b[49m\u001b[38;5;241;43m*\u001b[39;49m\u001b[38;5;241;43m*\u001b[39;49m\u001b[43mkwargs\u001b[49m\u001b[43m)\u001b[49m\n\u001b[1;32m     46\u001b[0m     \u001b[38;5;66;03m# TODO: test cdata is of the expected CType\u001b[39;00m\n\u001b[1;32m     47\u001b[0m     \u001b[38;5;28;01mreturn\u001b[39;00m _cdata_to_rinterface(cdata)\n",
      "File \u001b[0;32m/usr/local/lib/python3.8/dist-packages/rpy2/rinterface_lib/_rinterface_capi.py:334\u001b[0m, in \u001b[0;36m_evaluated_promise.<locals>._\u001b[0;34m(*args, **kwargs)\u001b[0m\n\u001b[1;32m    333\u001b[0m \u001b[38;5;28;01mdef\u001b[39;00m \u001b[38;5;21m_\u001b[39m(\u001b[38;5;241m*\u001b[39margs, \u001b[38;5;241m*\u001b[39m\u001b[38;5;241m*\u001b[39mkwargs):\n\u001b[0;32m--> 334\u001b[0m     robj \u001b[38;5;241m=\u001b[39m \u001b[43mfunction\u001b[49m\u001b[43m(\u001b[49m\u001b[38;5;241;43m*\u001b[39;49m\u001b[43margs\u001b[49m\u001b[43m,\u001b[49m\u001b[43m \u001b[49m\u001b[38;5;241;43m*\u001b[39;49m\u001b[38;5;241;43m*\u001b[39;49m\u001b[43mkwargs\u001b[49m\u001b[43m)\u001b[49m\n\u001b[1;32m    335\u001b[0m     \u001b[38;5;28;01mif\u001b[39;00m _TYPEOF(robj) \u001b[38;5;241m==\u001b[39m openrlib\u001b[38;5;241m.\u001b[39mrlib\u001b[38;5;241m.\u001b[39mPROMSXP:\n\u001b[1;32m    336\u001b[0m         robj \u001b[38;5;241m=\u001b[39m openrlib\u001b[38;5;241m.\u001b[39mrlib\u001b[38;5;241m.\u001b[39mRf_eval(\n\u001b[1;32m    337\u001b[0m             robj,\n\u001b[1;32m    338\u001b[0m             openrlib\u001b[38;5;241m.\u001b[39mrlib\u001b[38;5;241m.\u001b[39mR_GlobalEnv)\n",
      "File \u001b[0;32m/usr/local/lib/python3.8/dist-packages/rpy2/rinterface_lib/sexp.py:385\u001b[0m, in \u001b[0;36mSexpEnvironment.__getitem__\u001b[0;34m(self, key)\u001b[0m\n\u001b[1;32m    383\u001b[0m \u001b[38;5;66;03m# TODO: move check of R_UnboundValue to _rinterface\u001b[39;00m\n\u001b[1;32m    384\u001b[0m \u001b[38;5;28;01mif\u001b[39;00m res \u001b[38;5;241m==\u001b[39m openrlib\u001b[38;5;241m.\u001b[39mrlib\u001b[38;5;241m.\u001b[39mR_UnboundValue:\n\u001b[0;32m--> 385\u001b[0m     \u001b[38;5;28;01mraise\u001b[39;00m \u001b[38;5;167;01mKeyError\u001b[39;00m(\u001b[38;5;124m\"\u001b[39m\u001b[38;5;124m'\u001b[39m\u001b[38;5;132;01m%s\u001b[39;00m\u001b[38;5;124m'\u001b[39m\u001b[38;5;124m not found\u001b[39m\u001b[38;5;124m\"\u001b[39m \u001b[38;5;241m%\u001b[39m key)\n\u001b[1;32m    386\u001b[0m \u001b[38;5;28;01mreturn\u001b[39;00m res\n",
      "\u001b[0;31mKeyError\u001b[0m: \"'RunSeuratQC' not found\""
     ]
    }
   ],
   "source": [
    "path = \"/ps/ai-ready/data/Clustering/Tabula_Muris/droplet_Bladder_seurat_tiss.Robj\"\n",
    "RunSeuratQC_r = ro.globalenv['RunSeuratQC']\n",
    "results = RunSeuratQC_r(path, '/ps/ai-ready/data/Clustering/Tabula_Muris/droplet_Bladder_seurat_tiss.h5Seurat')\n",
    "results\n",
    "# default_assay = list(results[0])[0]\n",
    "# assay_names = list(results[1])\n",
    "# nCells = list(results[3])[0]\n",
    "# nGenes = list(results[4])[0]\n",
    "# genes  = list(results[5])\n",
    "# cells = list(results[6])\n",
    "# if results[7] != ro.rinterface.NULL:\n",
    "#     HVGsID = list(results[7])\n",
    "    \n",
    "#     with localconverter(ro.default_converter + pandas2ri.converter):\n",
    "#         if results[2] != ro.rinterface.NULL: \n",
    "#             metadata = ro.conversion.rpy2py(results[2])\n",
    "#         if results[8] != ro.rinterface.NULL:\n",
    "#             pca = ro.conversion.rpy2py(results[8])\n",
    "#         if results[9] != ro.rinterface.NULL:\n",
    "#             tsne = ro.conversion.rpy2py(results[9])\n",
    "#         if results[10] != ro.rinterface.NULL:\n",
    "#             umap = ro.conversion.rpy2py(results[10])"
   ]
  },
  {
   "cell_type": "code",
   "execution_count": null,
   "id": "89690228-6663-4466-bb33-5866429d1cd8",
   "metadata": {},
   "outputs": [],
   "source": [
    "metadata"
   ]
  },
  {
   "cell_type": "code",
   "execution_count": null,
   "id": "41711801-eeb8-40e2-9a83-89363b9cbe07",
   "metadata": {},
   "outputs": [],
   "source": [
    "default_assay"
   ]
  },
  {
   "cell_type": "code",
   "execution_count": null,
   "id": "31e6380b-8fb5-4645-9b4d-35c4f63a062c",
   "metadata": {},
   "outputs": [],
   "source": [
    "assay_names"
   ]
  },
  {
   "cell_type": "code",
   "execution_count": null,
   "id": "02ebaa59-f059-4ad7-b37f-def4165d0a5e",
   "metadata": {
    "scrolled": true
   },
   "outputs": [],
   "source": [
    "nCells"
   ]
  },
  {
   "cell_type": "code",
   "execution_count": null,
   "id": "acc0f0ac-6819-4105-b658-48e3c9e3aa22",
   "metadata": {},
   "outputs": [],
   "source": [
    "nGenes"
   ]
  },
  {
   "cell_type": "code",
   "execution_count": null,
   "id": "9e9eac1a-3547-4938-bc22-5e378d9bdfc1",
   "metadata": {},
   "outputs": [],
   "source": [
    "genes"
   ]
  },
  {
   "cell_type": "code",
   "execution_count": null,
   "id": "c038af06-1f4d-4e45-85c1-deb1dcec8142",
   "metadata": {},
   "outputs": [],
   "source": [
    "cells"
   ]
  },
  {
   "cell_type": "code",
   "execution_count": null,
   "id": "bb1652ea-7c03-480a-8756-1179307e41c4",
   "metadata": {},
   "outputs": [],
   "source": [
    "HVGsID"
   ]
  },
  {
   "cell_type": "code",
   "execution_count": null,
   "id": "3ba33f19-1339-4a0c-9dda-d9c9c43f670c",
   "metadata": {},
   "outputs": [],
   "source": [
    "pca.shape"
   ]
  },
  {
   "cell_type": "code",
   "execution_count": null,
   "id": "571d6c19-9a0f-4b4b-b0be-0fdcb4e34510",
   "metadata": {},
   "outputs": [],
   "source": [
    "tsne"
   ]
  },
  {
   "cell_type": "code",
   "execution_count": null,
   "id": "3eb97f40-45a4-43b6-8a8a-22c4ec8375bb",
   "metadata": {},
   "outputs": [],
   "source": [
    "type(umap)"
   ]
  },
  {
   "cell_type": "code",
   "execution_count": null,
   "id": "8cfcb73e-e8bb-42cb-8e89-1502ac304ba5",
   "metadata": {},
   "outputs": [],
   "source": [
    "from rpy2 import robjects as robj\n",
    "umap == robj.rinterface.NULL"
   ]
  },
  {
   "cell_type": "code",
   "execution_count": null,
   "id": "3a1b300d-9c50-4a12-871a-b449acb5ba41",
   "metadata": {},
   "outputs": [],
   "source": [
    "GetMetadataFromSeurat_r = ro.globalenv['GetMetadataFromSeurat']\n",
    "results = GetMetadataFromSeurat_r(path)\n",
    "results = list(results)\n",
    "results"
   ]
  },
  {
   "cell_type": "code",
   "execution_count": null,
   "id": "6957289a-eadf-446e-b0cd-1afdbbe72cce",
   "metadata": {},
   "outputs": [],
   "source": [
    "results[2]"
   ]
  },
  {
   "cell_type": "code",
   "execution_count": null,
   "id": "67efd901-40c6-4896-ae93-045cb9369f6a",
   "metadata": {},
   "outputs": [],
   "source": [
    "with localconverter(ro.default_converter + pandas2ri.converter):\n",
    "    metadata = ro.conversion.rpy2py(results[2])\n",
    "metadata"
   ]
  },
  {
   "cell_type": "code",
   "execution_count": null,
   "id": "a6b3cd80-197e-4371-ba8d-b2e9659891b7",
   "metadata": {},
   "outputs": [],
   "source": [
    "results[0]"
   ]
  },
  {
   "cell_type": "code",
   "execution_count": 4,
   "id": "b4a4d629-ad4c-493a-925c-2834504f04ff",
   "metadata": {},
   "outputs": [
    {
     "name": "stdout",
     "output_type": "stream",
     "text": [
      "<rpy2.robjects.vectors.VectorOperationsDelegator object at 0x7f59084d5d00>\n"
     ]
    }
   ],
   "source": [
    "x = ro.r.seq(1, 10)\n",
    "print(x.ro)"
   ]
  },
  {
   "cell_type": "code",
   "execution_count": 5,
   "id": "0801c23d-5676-4528-8dd1-178e16a34665",
   "metadata": {},
   "outputs": [
    {
     "data": {
      "text/html": [
       "\n",
       "        <span>IntVector with 10 elements.</span>\n",
       "        <table>\n",
       "        <tbody>\n",
       "          <tr>\n",
       "          \n",
       "            <td>\n",
       "            1\n",
       "            </td>\n",
       "          \n",
       "            <td>\n",
       "            2\n",
       "            </td>\n",
       "          \n",
       "            <td>\n",
       "            3\n",
       "            </td>\n",
       "          \n",
       "            <td>\n",
       "            ...\n",
       "            </td>\n",
       "          \n",
       "            <td>\n",
       "            8\n",
       "            </td>\n",
       "          \n",
       "            <td>\n",
       "            9\n",
       "            </td>\n",
       "          \n",
       "            <td>\n",
       "            10\n",
       "            </td>\n",
       "          \n",
       "          </tr>\n",
       "        </tbody>\n",
       "        </table>\n",
       "        "
      ],
      "text/plain": [
       "<rpy2.robjects.vectors.IntVector object at 0x7f573c101e00> [RTYPES.INTSXP]\n",
       "R classes: ('integer',)\n",
       "[1, 2, 3, 4, ..., 7, 8, 9, 10]"
      ]
     },
     "execution_count": 5,
     "metadata": {},
     "output_type": "execute_result"
    }
   ],
   "source": [
    "x"
   ]
  },
  {
   "cell_type": "code",
   "execution_count": null,
   "id": "c04e0682-3f86-49ae-829a-2a45a853fc06",
   "metadata": {},
   "outputs": [],
   "source": [
    "import os\n",
    "import subprocess\n",
    "import sys\n",
    "sys.path.append('..')\n",
    "from tools.qc.seurat_qc import *"
   ]
  },
  {
   "cell_type": "code",
   "execution_count": null,
   "id": "9d2e088a-682e-4ecf-a1fc-9eebc2f0d966",
   "metadata": {},
   "outputs": [],
   "source": [
    "path = \"/ps/ai-ready/data/Clustering/Tabula_Muris/droplet_Bladder_seurat_tiss.Robj\"\n",
    "output_path = '/ps/ai-ready/data/Clustering/Tabula_Muris/droplet_Bladder_seurat_tiss.h5Seurat'\n",
    "default_assay, assay_names, metadata, nCells, nGenes, genes, cells, HVGsID, pca, tsne, umap, adata_path=run_seurat_qc(path, output_path)"
   ]
  }
 ],
 "metadata": {
  "kernelspec": {
   "display_name": "Python 3 (ipykernel)",
   "language": "python",
   "name": "python3"
  },
  "language_info": {
   "codemirror_mode": {
    "name": "ipython",
    "version": 3
   },
   "file_extension": ".py",
   "mimetype": "text/x-python",
   "name": "python",
   "nbconvert_exporter": "python",
   "pygments_lexer": "ipython3",
   "version": "3.8.10"
  }
 },
 "nbformat": 4,
 "nbformat_minor": 5
}
