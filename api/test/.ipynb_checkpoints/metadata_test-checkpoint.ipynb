{
 "cells": [
  {
   "cell_type": "code",
   "execution_count": 2,
   "id": "48c7c36e-668d-43ad-9ca0-97bfba3275f8",
   "metadata": {},
   "outputs": [
    {
     "name": "stderr",
     "output_type": "stream",
     "text": [
      "R[write to console]: Loading required package: SingleCellExperiment\n",
      "\n",
      "R[write to console]: Loading required package: scuttle\n",
      "\n"
     ]
    },
    {
     "name": "stdout",
     "output_type": "stream",
     "text": [
      "\n",
      "    WARNING: The R package \"reticulate\" only fixed recently\n",
      "    an issue that caused a segfault when used with rpy2:\n",
      "    https://github.com/rstudio/reticulate/pull/1188\n",
      "    Make sure that you use a version of that package that includes\n",
      "    the fix.\n",
      "    "
     ]
    },
    {
     "name": "stderr",
     "output_type": "stream",
     "text": [
      "R[write to console]: The legacy packages maptools, rgdal, and rgeos, underpinning the sp package,\n",
      "which was just loaded, will retire in October 2023.\n",
      "Please refer to R-spatial evolution reports for details, especially\n",
      "https://r-spatial.org/r/2023/05/15/evolution4.html.\n",
      "It may be desirable to make the sf package available;\n",
      "package maintainers should consider adding sf to Suggests:.\n",
      "The sp package is now running under evolution status 2\n",
      "     (status 2 uses the sf package in place of rgdal)\n",
      "\n",
      "R[write to console]: Attaching SeuratObject\n",
      "\n",
      "R[write to console]: \n",
      "Attaching package: ‘Seurat’\n",
      "\n",
      "\n",
      "R[write to console]: The following object is masked from ‘package:SummarizedExperiment’:\n",
      "\n",
      "    Assays\n",
      "\n",
      "\n",
      "R[write to console]: Registered S3 method overwritten by 'SeuratDisk':\n",
      "  method            from  \n",
      "  as.sparse.H5Group Seurat\n",
      "\n"
     ]
    }
   ],
   "source": [
    "import os\n",
    "import subprocess\n",
    "import sys\n",
    "sys.path.append('..')\n",
    "from tools.formating.formating import *"
   ]
  },
  {
   "cell_type": "code",
   "execution_count": 5,
   "id": "bc0a1276-630d-481b-a4c1-036bdc7e6a7a",
   "metadata": {},
   "outputs": [],
   "source": [
    "# Get the absolute path of the desired file\n",
    "r_path = os.path.abspath(\"../tools/qc/seurat_qc.R\")\n",
    "\n",
    "with open(r_path, 'r') as r_source_file:\n",
    "    r_source = r_source_file.read()\n",
    "\n",
    "# Evaluate the R script in the R environment\n",
    "ro.r(r_source)"
   ]
  },
  {
   "cell_type": "code",
   "execution_count": 6,
   "id": "ba22a3b9-caf9-4241-8d43-669e488bb2e4",
   "metadata": {},
   "outputs": [],
   "source": [
    "path = \"/ps/ai-ready/data/Clustering/Tabula_Muris/droplet_Bladder_seurat_tiss.Robj\"\n",
    "# default_assay, assay_names, metadata, nCells, nGenes, genes, cells, HVGsID, pca, tsne, umap = GetMetadataFromSeurat(path)"
   ]
  },
  {
   "cell_type": "code",
   "execution_count": 8,
   "id": "e919f06e-c8a4-438c-9c82-0217891a9c7e",
   "metadata": {},
   "outputs": [
    {
     "name": "stderr",
     "output_type": "stream",
     "text": [
      "R[write to console]: Error in value[[3L]](cond) : The file format is not supported.\n",
      "\n"
     ]
    },
    {
     "ename": "RRuntimeError",
     "evalue": "Error in value[[3L]](cond) : The file format is not supported.\n",
     "output_type": "error",
     "traceback": [
      "\u001b[0;31m---------------------------------------------------------------------------\u001b[0m",
      "\u001b[0;31mRRuntimeError\u001b[0m                             Traceback (most recent call last)",
      "Cell \u001b[0;32mIn[8], line 2\u001b[0m\n\u001b[1;32m      1\u001b[0m RunSeuratQC_r \u001b[38;5;241m=\u001b[39m ro\u001b[38;5;241m.\u001b[39mglobalenv[\u001b[38;5;124m'\u001b[39m\u001b[38;5;124mRunSeuratQC\u001b[39m\u001b[38;5;124m'\u001b[39m]\n\u001b[0;32m----> 2\u001b[0m results \u001b[38;5;241m=\u001b[39m \u001b[43mRunSeuratQC_r\u001b[49m\u001b[43m(\u001b[49m\u001b[43mpath\u001b[49m\u001b[43m)\u001b[49m\n\u001b[1;32m      3\u001b[0m results\n\u001b[1;32m      4\u001b[0m \u001b[38;5;66;03m# default_assay = list(results[0])[0]\u001b[39;00m\n\u001b[1;32m      5\u001b[0m \u001b[38;5;66;03m# assay_names = list(results[1])\u001b[39;00m\n\u001b[1;32m      6\u001b[0m \u001b[38;5;66;03m# nCells = list(results[3])[0]\u001b[39;00m\n\u001b[0;32m   (...)\u001b[0m\n\u001b[1;32m     20\u001b[0m \u001b[38;5;66;03m#         if results[10] != ro.rinterface.NULL:\u001b[39;00m\n\u001b[1;32m     21\u001b[0m \u001b[38;5;66;03m#             umap = ro.conversion.rpy2py(results[10])\u001b[39;00m\n",
      "File \u001b[0;32m/usr/local/lib/python3.8/dist-packages/rpy2/robjects/functions.py:208\u001b[0m, in \u001b[0;36mSignatureTranslatedFunction.__call__\u001b[0;34m(self, *args, **kwargs)\u001b[0m\n\u001b[1;32m    206\u001b[0m         v \u001b[38;5;241m=\u001b[39m kwargs\u001b[38;5;241m.\u001b[39mpop(k)\n\u001b[1;32m    207\u001b[0m         kwargs[r_k] \u001b[38;5;241m=\u001b[39m v\n\u001b[0;32m--> 208\u001b[0m \u001b[38;5;28;01mreturn\u001b[39;00m (\u001b[38;5;28;43msuper\u001b[39;49m\u001b[43m(\u001b[49m\u001b[43mSignatureTranslatedFunction\u001b[49m\u001b[43m,\u001b[49m\u001b[43m \u001b[49m\u001b[38;5;28;43mself\u001b[39;49m\u001b[43m)\u001b[49m\n\u001b[1;32m    209\u001b[0m \u001b[43m        \u001b[49m\u001b[38;5;241;43m.\u001b[39;49m\u001b[38;5;21;43m__call__\u001b[39;49m\u001b[43m(\u001b[49m\u001b[38;5;241;43m*\u001b[39;49m\u001b[43margs\u001b[49m\u001b[43m,\u001b[49m\u001b[43m \u001b[49m\u001b[38;5;241;43m*\u001b[39;49m\u001b[38;5;241;43m*\u001b[39;49m\u001b[43mkwargs\u001b[49m\u001b[43m)\u001b[49m)\n",
      "File \u001b[0;32m/usr/local/lib/python3.8/dist-packages/rpy2/robjects/functions.py:131\u001b[0m, in \u001b[0;36mFunction.__call__\u001b[0;34m(self, *args, **kwargs)\u001b[0m\n\u001b[1;32m    129\u001b[0m     \u001b[38;5;28;01melse\u001b[39;00m:\n\u001b[1;32m    130\u001b[0m         new_kwargs[k] \u001b[38;5;241m=\u001b[39m cv\u001b[38;5;241m.\u001b[39mpy2rpy(v)\n\u001b[0;32m--> 131\u001b[0m res \u001b[38;5;241m=\u001b[39m \u001b[38;5;28;43msuper\u001b[39;49m\u001b[43m(\u001b[49m\u001b[43mFunction\u001b[49m\u001b[43m,\u001b[49m\u001b[43m \u001b[49m\u001b[38;5;28;43mself\u001b[39;49m\u001b[43m)\u001b[49m\u001b[38;5;241;43m.\u001b[39;49m\u001b[38;5;21;43m__call__\u001b[39;49m\u001b[43m(\u001b[49m\u001b[38;5;241;43m*\u001b[39;49m\u001b[43mnew_args\u001b[49m\u001b[43m,\u001b[49m\u001b[43m \u001b[49m\u001b[38;5;241;43m*\u001b[39;49m\u001b[38;5;241;43m*\u001b[39;49m\u001b[43mnew_kwargs\u001b[49m\u001b[43m)\u001b[49m\n\u001b[1;32m    132\u001b[0m res \u001b[38;5;241m=\u001b[39m cv\u001b[38;5;241m.\u001b[39mrpy2py(res)\n\u001b[1;32m    133\u001b[0m \u001b[38;5;28;01mreturn\u001b[39;00m res\n",
      "File \u001b[0;32m/usr/local/lib/python3.8/dist-packages/rpy2/rinterface_lib/conversion.py:45\u001b[0m, in \u001b[0;36m_cdata_res_to_rinterface.<locals>._\u001b[0;34m(*args, **kwargs)\u001b[0m\n\u001b[1;32m     44\u001b[0m \u001b[38;5;28;01mdef\u001b[39;00m \u001b[38;5;21m_\u001b[39m(\u001b[38;5;241m*\u001b[39margs, \u001b[38;5;241m*\u001b[39m\u001b[38;5;241m*\u001b[39mkwargs):\n\u001b[0;32m---> 45\u001b[0m     cdata \u001b[38;5;241m=\u001b[39m \u001b[43mfunction\u001b[49m\u001b[43m(\u001b[49m\u001b[38;5;241;43m*\u001b[39;49m\u001b[43margs\u001b[49m\u001b[43m,\u001b[49m\u001b[43m \u001b[49m\u001b[38;5;241;43m*\u001b[39;49m\u001b[38;5;241;43m*\u001b[39;49m\u001b[43mkwargs\u001b[49m\u001b[43m)\u001b[49m\n\u001b[1;32m     46\u001b[0m     \u001b[38;5;66;03m# TODO: test cdata is of the expected CType\u001b[39;00m\n\u001b[1;32m     47\u001b[0m     \u001b[38;5;28;01mreturn\u001b[39;00m _cdata_to_rinterface(cdata)\n",
      "File \u001b[0;32m/usr/local/lib/python3.8/dist-packages/rpy2/rinterface.py:873\u001b[0m, in \u001b[0;36mSexpClosure.__call__\u001b[0;34m(self, *args, **kwargs)\u001b[0m\n\u001b[1;32m    866\u001b[0m     res \u001b[38;5;241m=\u001b[39m rmemory\u001b[38;5;241m.\u001b[39mprotect(\n\u001b[1;32m    867\u001b[0m         openrlib\u001b[38;5;241m.\u001b[39mrlib\u001b[38;5;241m.\u001b[39mR_tryEval(\n\u001b[1;32m    868\u001b[0m             call_r,\n\u001b[1;32m    869\u001b[0m             call_context\u001b[38;5;241m.\u001b[39m__sexp__\u001b[38;5;241m.\u001b[39m_cdata,\n\u001b[1;32m    870\u001b[0m             error_occured)\n\u001b[1;32m    871\u001b[0m     )\n\u001b[1;32m    872\u001b[0m     \u001b[38;5;28;01mif\u001b[39;00m error_occured[\u001b[38;5;241m0\u001b[39m]:\n\u001b[0;32m--> 873\u001b[0m         \u001b[38;5;28;01mraise\u001b[39;00m embedded\u001b[38;5;241m.\u001b[39mRRuntimeError(_rinterface\u001b[38;5;241m.\u001b[39m_geterrmessage())\n\u001b[1;32m    874\u001b[0m \u001b[38;5;28;01mreturn\u001b[39;00m res\n",
      "\u001b[0;31mRRuntimeError\u001b[0m: Error in value[[3L]](cond) : The file format is not supported.\n"
     ]
    }
   ],
   "source": [
    "RunSeuratQC_r = ro.globalenv['RunSeuratQC']\n",
    "results = RunSeuratQC_r(path)\n",
    "results\n",
    "# default_assay = list(results[0])[0]\n",
    "# assay_names = list(results[1])\n",
    "# nCells = list(results[3])[0]\n",
    "# nGenes = list(results[4])[0]\n",
    "# genes  = list(results[5])\n",
    "# cells = list(results[6])\n",
    "# if results[7] != ro.rinterface.NULL:\n",
    "#     HVGsID = list(results[7])\n",
    "    \n",
    "#     with localconverter(ro.default_converter + pandas2ri.converter):\n",
    "#         if results[2] != ro.rinterface.NULL: \n",
    "#             metadata = ro.conversion.rpy2py(results[2])\n",
    "#         if results[8] != ro.rinterface.NULL:\n",
    "#             pca = ro.conversion.rpy2py(results[8])\n",
    "#         if results[9] != ro.rinterface.NULL:\n",
    "#             tsne = ro.conversion.rpy2py(results[9])\n",
    "#         if results[10] != ro.rinterface.NULL:\n",
    "#             umap = ro.conversion.rpy2py(results[10])"
   ]
  },
  {
   "cell_type": "code",
   "execution_count": null,
   "id": "89690228-6663-4466-bb33-5866429d1cd8",
   "metadata": {},
   "outputs": [],
   "source": [
    "metadata"
   ]
  },
  {
   "cell_type": "code",
   "execution_count": null,
   "id": "41711801-eeb8-40e2-9a83-89363b9cbe07",
   "metadata": {},
   "outputs": [],
   "source": [
    "default_assay"
   ]
  },
  {
   "cell_type": "code",
   "execution_count": null,
   "id": "31e6380b-8fb5-4645-9b4d-35c4f63a062c",
   "metadata": {},
   "outputs": [],
   "source": [
    "assay_names"
   ]
  },
  {
   "cell_type": "code",
   "execution_count": null,
   "id": "02ebaa59-f059-4ad7-b37f-def4165d0a5e",
   "metadata": {
    "scrolled": true
   },
   "outputs": [],
   "source": [
    "nCells"
   ]
  },
  {
   "cell_type": "code",
   "execution_count": null,
   "id": "acc0f0ac-6819-4105-b658-48e3c9e3aa22",
   "metadata": {},
   "outputs": [],
   "source": [
    "nGenes"
   ]
  },
  {
   "cell_type": "code",
   "execution_count": null,
   "id": "9e9eac1a-3547-4938-bc22-5e378d9bdfc1",
   "metadata": {},
   "outputs": [],
   "source": [
    "genes"
   ]
  },
  {
   "cell_type": "code",
   "execution_count": null,
   "id": "c038af06-1f4d-4e45-85c1-deb1dcec8142",
   "metadata": {},
   "outputs": [],
   "source": [
    "cells"
   ]
  },
  {
   "cell_type": "code",
   "execution_count": null,
   "id": "bb1652ea-7c03-480a-8756-1179307e41c4",
   "metadata": {},
   "outputs": [],
   "source": [
    "HVGsID"
   ]
  },
  {
   "cell_type": "code",
   "execution_count": null,
   "id": "3ba33f19-1339-4a0c-9dda-d9c9c43f670c",
   "metadata": {},
   "outputs": [],
   "source": [
    "pca.shape"
   ]
  },
  {
   "cell_type": "code",
   "execution_count": null,
   "id": "571d6c19-9a0f-4b4b-b0be-0fdcb4e34510",
   "metadata": {},
   "outputs": [],
   "source": [
    "tsne"
   ]
  },
  {
   "cell_type": "code",
   "execution_count": null,
   "id": "3eb97f40-45a4-43b6-8a8a-22c4ec8375bb",
   "metadata": {},
   "outputs": [],
   "source": [
    "type(umap)"
   ]
  },
  {
   "cell_type": "code",
   "execution_count": null,
   "id": "8cfcb73e-e8bb-42cb-8e89-1502ac304ba5",
   "metadata": {},
   "outputs": [],
   "source": [
    "from rpy2 import robjects as robj\n",
    "umap == robj.rinterface.NULL"
   ]
  },
  {
   "cell_type": "code",
   "execution_count": null,
   "id": "3a1b300d-9c50-4a12-871a-b449acb5ba41",
   "metadata": {},
   "outputs": [],
   "source": [
    "GetMetadataFromSeurat_r = ro.globalenv['GetMetadataFromSeurat']\n",
    "results = GetMetadataFromSeurat_r(path)\n",
    "results = list(results)\n",
    "results"
   ]
  },
  {
   "cell_type": "code",
   "execution_count": null,
   "id": "6957289a-eadf-446e-b0cd-1afdbbe72cce",
   "metadata": {},
   "outputs": [],
   "source": [
    "results[2]"
   ]
  },
  {
   "cell_type": "code",
   "execution_count": null,
   "id": "67efd901-40c6-4896-ae93-045cb9369f6a",
   "metadata": {},
   "outputs": [],
   "source": [
    "with localconverter(ro.default_converter + pandas2ri.converter):\n",
    "    metadata = ro.conversion.rpy2py(results[2])\n",
    "metadata"
   ]
  },
  {
   "cell_type": "code",
   "execution_count": null,
   "id": "a6b3cd80-197e-4371-ba8d-b2e9659891b7",
   "metadata": {},
   "outputs": [],
   "source": [
    "results[0]"
   ]
  },
  {
   "cell_type": "code",
   "execution_count": null,
   "id": "b4a4d629-ad4c-493a-925c-2834504f04ff",
   "metadata": {},
   "outputs": [],
   "source": []
  }
 ],
 "metadata": {
  "kernelspec": {
   "display_name": "Python 3 (ipykernel)",
   "language": "python",
   "name": "python3"
  },
  "language_info": {
   "codemirror_mode": {
    "name": "ipython",
    "version": 3
   },
   "file_extension": ".py",
   "mimetype": "text/x-python",
   "name": "python",
   "nbconvert_exporter": "python",
   "pygments_lexer": "ipython3",
   "version": "3.8.10"
  }
 },
 "nbformat": 4,
 "nbformat_minor": 5
}
