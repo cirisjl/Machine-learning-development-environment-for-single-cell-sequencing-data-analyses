{
 "cells": [
  {
   "cell_type": "code",
   "execution_count": null,
   "id": "66d95e99-c891-4f27-a773-e4e7689c99d1",
   "metadata": {},
   "outputs": [],
   "source": [
    "# !pip install plotly\n",
    "# !pip install dash"
   ]
  },
  {
   "cell_type": "code",
   "execution_count": 1,
   "id": "db5f36ab-8b3e-4cfe-988a-1f2326790229",
   "metadata": {},
   "outputs": [
    {
     "name": "stderr",
     "output_type": "stream",
     "text": [
      "R[write to console]: Loading required package: SingleCellExperiment\n",
      "\n",
      "R[write to console]: Loading required package: SummarizedExperiment\n",
      "\n",
      "R[write to console]: Loading required package: MatrixGenerics\n",
      "\n",
      "R[write to console]: Loading required package: matrixStats\n",
      "\n",
      "R[write to console]: \n",
      "Attaching package: ‘MatrixGenerics’\n",
      "\n",
      "\n",
      "R[write to console]: The following objects are masked from ‘package:matrixStats’:\n",
      "\n",
      "    colAlls, colAnyNAs, colAnys, colAvgsPerRowSet, colCollapse,\n",
      "    colCounts, colCummaxs, colCummins, colCumprods, colCumsums,\n",
      "    colDiffs, colIQRDiffs, colIQRs, colLogSumExps, colMadDiffs,\n",
      "    colMads, colMaxs, colMeans2, colMedians, colMins, colOrderStats,\n",
      "    colProds, colQuantiles, colRanges, colRanks, colSdDiffs, colSds,\n",
      "    colSums2, colTabulates, colVarDiffs, colVars, colWeightedMads,\n",
      "    colWeightedMeans, colWeightedMedians, colWeightedSds,\n",
      "    colWeightedVars, rowAlls, rowAnyNAs, rowAnys, rowAvgsPerColSet,\n",
      "    rowCollapse, rowCounts, rowCummaxs, rowCummins, rowCumprods,\n",
      "    rowCumsums, rowDiffs, rowIQRDiffs, rowIQRs, rowLogSumExps,\n",
      "    rowMadDiffs, rowMads, rowMaxs, rowMeans2, rowMedians, rowMins,\n",
      "    rowOrderStats, rowProds, rowQuantiles, rowRanges, rowRanks,\n",
      "    rowSdDiffs, rowSds, rowSums2, rowTabulates, rowVarDiffs, rowVars,\n",
      "    rowWeightedMads, rowWeightedMeans, rowWeightedMedians,\n",
      "    rowWeightedSds, rowWeightedVars\n",
      "\n",
      "\n",
      "R[write to console]: Loading required package: GenomicRanges\n",
      "\n",
      "R[write to console]: Loading required package: stats4\n",
      "\n",
      "R[write to console]: Loading required package: BiocGenerics\n",
      "\n",
      "R[write to console]: \n",
      "Attaching package: ‘BiocGenerics’\n",
      "\n",
      "\n",
      "R[write to console]: The following objects are masked from ‘package:stats’:\n",
      "\n",
      "    IQR, mad, sd, var, xtabs\n",
      "\n",
      "\n",
      "R[write to console]: The following objects are masked from ‘package:base’:\n",
      "\n",
      "    anyDuplicated, aperm, append, as.data.frame, basename, cbind,\n",
      "    colnames, dirname, do.call, duplicated, eval, evalq, Filter, Find,\n",
      "    get, grep, grepl, intersect, is.unsorted, lapply, Map, mapply,\n",
      "    match, mget, order, paste, pmax, pmax.int, pmin, pmin.int,\n",
      "    Position, rank, rbind, Reduce, rownames, sapply, setdiff, sort,\n",
      "    table, tapply, union, unique, unsplit, which.max, which.min\n",
      "\n",
      "\n",
      "R[write to console]: Loading required package: S4Vectors\n",
      "\n",
      "R[write to console]: \n",
      "Attaching package: ‘S4Vectors’\n",
      "\n",
      "\n",
      "R[write to console]: The following objects are masked from ‘package:base’:\n",
      "\n",
      "    expand.grid, I, unname\n",
      "\n",
      "\n",
      "R[write to console]: Loading required package: IRanges\n",
      "\n",
      "R[write to console]: Loading required package: GenomeInfoDb\n",
      "\n",
      "R[write to console]: Loading required package: Biobase\n",
      "\n",
      "R[write to console]: Welcome to Bioconductor\n",
      "\n",
      "    Vignettes contain introductory material; view with\n",
      "    'browseVignettes()'. To cite Bioconductor, see\n",
      "    'citation(\"Biobase\")', and for packages 'citation(\"pkgname\")'.\n",
      "\n",
      "\n",
      "R[write to console]: \n",
      "Attaching package: ‘Biobase’\n",
      "\n",
      "\n",
      "R[write to console]: The following object is masked from ‘package:MatrixGenerics’:\n",
      "\n",
      "    rowMedians\n",
      "\n",
      "\n",
      "R[write to console]: The following objects are masked from ‘package:matrixStats’:\n",
      "\n",
      "    anyMissing, rowMedians\n",
      "\n",
      "\n",
      "R[write to console]: Loading required package: scuttle\n",
      "\n",
      "R[write to console]: Loading required package: ggplot2\n",
      "\n"
     ]
    },
    {
     "name": "stdout",
     "output_type": "stream",
     "text": [
      "\n",
      "    WARNING: The R package \"reticulate\" only fixed recently\n",
      "    an issue that caused a segfault when used with rpy2:\n",
      "    https://github.com/rstudio/reticulate/pull/1188\n",
      "    Make sure that you use a version of that package that includes\n",
      "    the fix.\n",
      "    "
     ]
    },
    {
     "name": "stderr",
     "output_type": "stream",
     "text": [
      "R[write to console]: Attaching SeuratObject\n",
      "\n",
      "R[write to console]: Seurat v4 was just loaded with SeuratObject v5; disabling v5 assays and\n",
      "validation routines, and ensuring assays work in strict v3/v4\n",
      "compatibility mode\n",
      "\n",
      "R[write to console]: \n",
      "Attaching package: ‘Seurat’\n",
      "\n",
      "\n",
      "R[write to console]: The following object is masked from ‘package:SummarizedExperiment’:\n",
      "\n",
      "    Assays\n",
      "\n",
      "\n",
      "R[write to console]: Registered S3 method overwritten by 'SeuratDisk':\n",
      "  method            from  \n",
      "  as.sparse.H5Group Seurat\n",
      "\n",
      "R[write to console]: Signac built for for SeuratObject v4 was just loaded with SeuratObject\n",
      "v5; disabling v5 assays and validation routines, and ensuring assays\n",
      "work in strict v3/v4 compatibility mode\n",
      "\n"
     ]
    }
   ],
   "source": [
    "import os\n",
    "import subprocess\n",
    "import sys\n",
    "sys.path.append('..')\n",
    "from tools.formating.formating import *\n",
    "from tools.visualization.plot import *"
   ]
  },
  {
   "cell_type": "code",
   "execution_count": 2,
   "id": "c92af382-b569-447f-b2f6-cb514977c547",
   "metadata": {},
   "outputs": [
    {
     "name": "stdout",
     "output_type": "stream",
     "text": [
      "/ps/ai-ready/data/error/droplet_Bladder_seurat_tiss_qc_result.h5ad\n"
     ]
    },
    {
     "data": {
      "text/plain": [
       "AnnData object with n_obs × n_vars = 2500 × 23341\n",
       "    obs: 'orig.ident', 'n_counts', 'n_genes', 'channel', 'tissue', 'subtissue', 'mouse.sex', 'mouse.id', 'percent.ercc', 'percent.ribo', 'free_annotation', 'cell_ontology_class', 'res.0.4', 'previous_free_annotation', 'previous_cell_ontology_class', 'cluster.ids', 'cell_ontology_id', 'pct_counts_mt', 'pct_counts_rb', 'pct_counts_hb', 'percent.plat', 'RNA_snn_res.1', 'seurat_clusters', 'doublet_score', 'doublet_class'\n",
       "    var: 'vst.mean', 'vst.variance', 'vst.variance.expected', 'vst.variance.standardized', 'vst.variable'\n",
       "    uns: 'neighbors'\n",
       "    obsm: 'X_pca', 'X_tsne', 'X_umap', 'X_umap_3D'\n",
       "    layers: 'scale.data'\n",
       "    obsp: 'connectivities', 'distances'"
      ]
     },
     "execution_count": 2,
     "metadata": {},
     "output_type": "execute_result"
    }
   ],
   "source": [
    "# input = \"/ps/ai-ready/data/Clustering/Tabula_Muris/droplet_Bladder_seurat_tiss.h5ad\"\n",
    "input = \"/ps/ai-ready/data/error/droplet_Bladder_seurat_tiss_qc_result.h5ad\"\n",
    "adata = load_anndata(input)\n",
    "adata"
   ]
  },
  {
   "cell_type": "code",
   "execution_count": null,
   "id": "873e4b4f-f18b-46fe-ae71-1e7e29b020ed",
   "metadata": {},
   "outputs": [],
   "source": [
    "adata.obs['nCount_RNA']"
   ]
  },
  {
   "cell_type": "code",
   "execution_count": null,
   "id": "ea77d16a-8ed0-4278-b2f4-c9cb8a229783",
   "metadata": {},
   "outputs": [],
   "source": [
    "max(adata.obs.index)"
   ]
  },
  {
   "cell_type": "code",
   "execution_count": null,
   "id": "9b55b783-b193-410e-9e8e-0d5d02e1c27b",
   "metadata": {},
   "outputs": [],
   "source": [
    "adata.obs['orig.ident']# .tolist()"
   ]
  },
  {
   "cell_type": "code",
   "execution_count": null,
   "id": "5906223c-d4cd-4be9-8f3f-4c2fbe46a8f8",
   "metadata": {},
   "outputs": [],
   "source": [
    "len(adata.obs)"
   ]
  },
  {
   "cell_type": "code",
   "execution_count": null,
   "id": "eac6d391-d4f9-443d-9fbc-eb320868630c",
   "metadata": {},
   "outputs": [],
   "source": [
    "adata.obs.shape[0]"
   ]
  },
  {
   "cell_type": "code",
   "execution_count": null,
   "id": "e6e14e40-aadf-4b8b-86c9-432eab738c4d",
   "metadata": {},
   "outputs": [],
   "source": [
    "adata.obs[:5]"
   ]
  },
  {
   "cell_type": "code",
   "execution_count": null,
   "id": "9343baba-cf03-4953-98c5-7bb8edbf8dd8",
   "metadata": {},
   "outputs": [],
   "source": [
    "test = [5]\n",
    "test[0] = \"aaa\""
   ]
  },
  {
   "cell_type": "code",
   "execution_count": null,
   "id": "0cd19f42-638a-4a49-b7a5-4ed935193f7c",
   "metadata": {},
   "outputs": [],
   "source": [
    "test[2] = \"bbb\"\n",
    "test"
   ]
  },
  {
   "cell_type": "code",
   "execution_count": null,
   "id": "e62706ee-ccab-4e13-9cb2-ae8e6998295d",
   "metadata": {},
   "outputs": [],
   "source": [
    "adata.obs.iloc[:, 1].tolist()"
   ]
  },
  {
   "cell_type": "code",
   "execution_count": null,
   "id": "6fad0b9c-d573-441d-a9f5-505d3a4f7ae9",
   "metadata": {},
   "outputs": [],
   "source": [
    "isinstance(adata.obs, pd.DataFrame)"
   ]
  },
  {
   "cell_type": "code",
   "execution_count": null,
   "id": "a0b815a0-e2fd-4710-a8f8-3fee5c1de67d",
   "metadata": {},
   "outputs": [],
   "source": [
    "adata.obs_vector('nCount_RNA')"
   ]
  },
  {
   "cell_type": "code",
   "execution_count": null,
   "id": "d3a9a6c5-a7bb-4385-827c-e582f6515114",
   "metadata": {},
   "outputs": [],
   "source": [
    "adata.var"
   ]
  },
  {
   "cell_type": "code",
   "execution_count": null,
   "id": "d68ab73d-d0f9-44dd-a12a-96a66893e6e2",
   "metadata": {},
   "outputs": [],
   "source": [
    "results = plot_violin(adata, [\"nCount_RNA\", \"nFeature_RNA\", \"percent.mt\", \"percent.rb\"])"
   ]
  },
  {
   "cell_type": "code",
   "execution_count": null,
   "id": "f112f946-f5d1-4222-8c26-8c24dd7cd148",
   "metadata": {},
   "outputs": [],
   "source": [
    "results"
   ]
  },
  {
   "cell_type": "code",
   "execution_count": null,
   "id": "61b3a796-f000-4a83-a939-6d50598f75e4",
   "metadata": {},
   "outputs": [],
   "source": [
    "with open('test.txt','w') as f:\n",
    "   f.write(str(results))"
   ]
  },
  {
   "cell_type": "code",
   "execution_count": null,
   "id": "bef40b05-31d9-4368-982c-2e0aa9d4615a",
   "metadata": {},
   "outputs": [],
   "source": [
    "print(results)"
   ]
  },
  {
   "cell_type": "code",
   "execution_count": null,
   "id": "eedf9a48-f029-405e-b92d-218aa0e046ee",
   "metadata": {},
   "outputs": [],
   "source": [
    "np.random.standard_normal(len(adata.obs_vector(\"nCount_RNA\")))"
   ]
  },
  {
   "cell_type": "code",
   "execution_count": 3,
   "id": "37d05e08-ce87-463c-b85c-f5f98cdff9af",
   "metadata": {},
   "outputs": [
    {
     "ename": "TypeError",
     "evalue": "plot_UMAP() got an unexpected keyword argument 'ndim'",
     "output_type": "error",
     "traceback": [
      "\u001b[0;31m---------------------------------------------------------------------------\u001b[0m",
      "\u001b[0;31mTypeError\u001b[0m                                 Traceback (most recent call last)",
      "Cell \u001b[0;32mIn[3], line 1\u001b[0m\n\u001b[0;32m----> 1\u001b[0m umap \u001b[38;5;241m=\u001b[39m \u001b[43mplot_UMAP\u001b[49m\u001b[43m(\u001b[49m\u001b[43madata\u001b[49m\u001b[43m,\u001b[49m\u001b[43m \u001b[49m\u001b[43mclustering_plot_type\u001b[49m\u001b[38;5;241;43m=\u001b[39;49m\u001b[38;5;124;43m'\u001b[39;49m\u001b[38;5;124;43mseurat_clusters\u001b[39;49m\u001b[38;5;124;43m'\u001b[39;49m\u001b[43m,\u001b[49m\u001b[43m \u001b[49m\u001b[43mndim\u001b[49m\u001b[38;5;241;43m=\u001b[39;49m\u001b[38;5;241;43m3\u001b[39;49m\u001b[43m)\u001b[49m\n\u001b[1;32m      2\u001b[0m umap\n",
      "\u001b[0;31mTypeError\u001b[0m: plot_UMAP() got an unexpected keyword argument 'ndim'"
     ]
    }
   ],
   "source": [
    "umap = plot_UMAP(adata, clustering_plot_type='seurat_clusters', n_dim=3)\n",
    "umap"
   ]
  },
  {
   "cell_type": "code",
   "execution_count": null,
   "id": "af1ffddd-771c-4dd8-8391-24a0a516c90e",
   "metadata": {},
   "outputs": [],
   "source": [
    "with open('umap.txt','w') as f:\n",
    "   f.write(str(umap))"
   ]
  },
  {
   "cell_type": "code",
   "execution_count": null,
   "id": "3fc41021-b52b-41e7-a4b2-33a9e19042de",
   "metadata": {},
   "outputs": [],
   "source": [
    "scatter = plot_scatter(adata, 'nCount_RNA', 'nFeature_RNA')\n",
    "with open('scatter.txt','w') as f:\n",
    "   f.write(str(scatter))\n",
    "scatter"
   ]
  },
  {
   "cell_type": "code",
   "execution_count": null,
   "id": "53e73cb9-b1d4-4b7d-a053-9539c172b89d",
   "metadata": {},
   "outputs": [],
   "source": [
    "from scipy.sparse import issparse\n",
    "import scanpy as sc\n",
    "\n",
    "n_top=30\n",
    "\n",
    "# compute the percentage of each gene per cell\n",
    "norm_dict = sc.pp.normalize_total(adata, target_sum=100, inplace=False)\n",
    "\n",
    "# identify the genes with the highest mean\n",
    "if issparse(norm_dict[\"X\"]):\n",
    "    mean_percent = norm_dict[\"X\"].mean(axis=0).A1\n",
    "    top_idx = np.argsort(mean_percent)[::-1][:n_top]\n",
    "    counts_top_genes = norm_dict[\"X\"][:, top_idx].A\n",
    "else:\n",
    "    mean_percent = norm_dict[\"X\"].mean(axis=0)\n",
    "    top_idx = np.argsort(mean_percent)[::-1][:n_top]\n",
    "    counts_top_genes = norm_dict[\"X\"][:, top_idx]\n",
    "columns = (\n",
    "    adata.var_names[top_idx]\n",
    ")\n",
    "counts_top_genes"
   ]
  },
  {
   "cell_type": "code",
   "execution_count": null,
   "id": "0572b42a-3876-4ca2-9f3d-f02c0139ca78",
   "metadata": {},
   "outputs": [],
   "source": [
    "counts_top_genes = pd.DataFrame(\n",
    "    counts_top_genes, index=adata.obs_names, columns=columns\n",
    ")\n",
    "\n",
    "counts_top_genes"
   ]
  },
  {
   "cell_type": "code",
   "execution_count": null,
   "id": "6411a388-3af4-4599-99f7-b1074d979b17",
   "metadata": {},
   "outputs": [],
   "source": [
    "counts_top_genes.columns.tolist()"
   ]
  },
  {
   "cell_type": "code",
   "execution_count": null,
   "id": "3a1650e5-0655-43a6-99ec-5d2a68eff5d4",
   "metadata": {},
   "outputs": [],
   "source": [
    "counts_top_genes['Sec61g'].tolist()"
   ]
  },
  {
   "cell_type": "code",
   "execution_count": null,
   "id": "529340e2-539a-4e0a-b659-73a3f6b6c0f7",
   "metadata": {},
   "outputs": [],
   "source": [
    "box = plot_highest_expr_genes(adata)\n",
    "with open('box.txt','w') as f:\n",
    "   f.write(str(box))\n",
    "box"
   ]
  },
  {
   "cell_type": "code",
   "execution_count": null,
   "id": "50b0cb13-fe0d-48b3-a513-e6117c71c4f4",
   "metadata": {},
   "outputs": [],
   "source": [
    "sc.pl.highest_expr_genes(adata, n_top=30)"
   ]
  },
  {
   "cell_type": "code",
   "execution_count": 3,
   "id": "595c26ff-ed98-41a9-b4e6-32950b6f5614",
   "metadata": {},
   "outputs": [
    {
     "name": "stdout",
     "output_type": "stream",
     "text": [
      "['center', 'right', 'right', 'right', 'right', 'right', 'right', 'right', 'right', 'right', 'right', 'right', 'right', 'right', 'right', 'right', 'right', 'right', 'right', 'right', 'right', 'right', 'right', 'right']\n",
      "[['#e3eaf8', 'white', '#e3eaf8', 'white', '#e3eaf8']]\n",
      "[256, 102, 102, 114, 84, 78, 96, 96, 90, 114, 114, 132, 156, 84, 186, 210, 108, 138, 102, 102, 102, 114, 132, 132]\n"
     ]
    },
    {
     "data": {
      "text/plain": [
       "'{\"data\": [{\"type\": \"table\", \"columnwidth\": [256, 102, 102, 114, 84, 78, 96, 96, 90, 114, 114, 132, 156, 84, 186, 210, 108, 138, 102, 102, 102, 114, 132, 132], \"header\": {\"values\": [\"\", \"<b>orig.ident</b>\", \"<b>nCount_RNA</b>\", \"<b>nFeature_RNA</b>\", \"<b>channel</b>\", \"<b>tissue</b>\", \"<b>subtissue</b>\", \"<b>mouse.sex</b>\", \"<b>mouse.id</b>\", \"<b>percent.ercc</b>\", \"<b>percent.ribo</b>\", \"<b>free_annotation</b>\", \"<b>cell_ontology_class</b>\", \"<b>res.0.4</b>\", \"<b>previous_free_annotation</b>\", \"<b>previous_cell_ontology_class</b>\", \"<b>cluster.ids</b>\", \"<b>cell_ontology_id</b>\", \"<b>percent.mt</b>\", \"<b>percent.rb</b>\", \"<b>percent.hb</b>\", \"<b>percent.plat</b>\", \"<b>RNA_snn_res.0.5</b>\", \"<b>seurat_clusters</b>\"], \"align\": \"center\", \"line\": {\"width\": 0}, \"fill\": {\"color\": [\"#2b2d41\"]}, \"font\": {\"color\": \"white\"}}, \"cells\": {\"values\": [[\"<b>10X_P4_3_AAAGTAGAGATGCCAG</b>\", \"<b>10X_P4_3_AACCGCGTCCAACCAA</b>\", \"<b>10X_P4_3_AACTCCCGTCGGGTCT</b>\", \"<b>10X_P4_3_AACTCTTAGTTGCAGG</b>\", \"<b>10X_P4_3_AACTCTTTCATAACCG</b>\"], [0, 0, 0, 0, 0], [10291.0, 17520.0, 12944.0, 19594.0, 14594.0], [2853, 4194, 3347, 3851, 3809], [3, 3, 3, 3, 3], [0, 0, 0, 0, 0], [0, 0, 0, 0, 0], [1, 1, 1, 1, 1], [4, 4, 4, 4, 4], [0.0, 0.0, 0.0, 0.0, 0.0], [0.2196093674084151, 0.17671232876712328, 0.1924443757725587, 0.35638460753291823, 0.157119364122242], [\"Bladder mesenchymal cell\", \"Bladder mesenchymal cell\", \"Bladder mesenchymal cell\", \"Luminal bladder epithelial cell\", \"Bladder mesenchymal cell\"], [\"bladder cell\", \"bladder cell\", \"bladder cell\", \"bladder urothelial cell\", \"bladder cell\"], [\"0\", \"2\", \"5\", \"3\", \"2\"], [\"NA\", \"NA\", \"NA\", \"NA\", \"NA\"], [\"NA\", \"NA\", \"NA\", \"NA\", \"NA\"], [\"0\", \"2\", \"5\", \"3\", \"2\"], [\"CL:1001319\", \"CL:1001319\", \"CL:1001319\", \"CL:1001428\", \"CL:1001319\"], [0.0, 0.0, 0.0, 0.0, 0.0], [0.0, 0.0, 0.0, 0.0, 0.0], [0.0, 0.0, 0.0, 0.0, 0.0], [0.0, 0.0, 0.0, 0.0, 0.0], [6, 5, 5, 3, 5], [6, 5, 5, 3, 5]], \"align\": [\"center\", \"right\", \"right\", \"right\", \"right\", \"right\", \"right\", \"right\", \"right\", \"right\", \"right\", \"right\", \"right\", \"right\", \"right\", \"right\", \"right\", \"right\", \"right\", \"right\", \"right\", \"right\", \"right\", \"right\"], \"line\": {\"width\": 0}, \"fill\": {\"color\": [[\"#e3eaf8\", \"white\", \"#e3eaf8\", \"white\", \"#e3eaf8\"]]}}}], \"layout\": {\"margin\": {\"r\": 50, \"l\": 50, \"t\": 50, \"b\": 50}, \"hovermode\": \"closest\", \"transition\": {\"duration\": 100}, \"autosize\": true, \"showlegend\": false, \"width\": 2944}}'"
      ]
     },
     "execution_count": 3,
     "metadata": {},
     "output_type": "execute_result"
    }
   ],
   "source": [
    "table = plot_table(adata.obs)\n",
    "with open('table.txt','w') as f:\n",
    "   f.write(str(table))\n",
    "table"
   ]
  },
  {
   "cell_type": "code",
   "execution_count": null,
   "id": "6ac30ffa-b3b9-43b6-85ea-80908b7f0d85",
   "metadata": {},
   "outputs": [],
   "source": [
    "df = adata.obs.columns.tolist().insert(0,'')\n",
    "df"
   ]
  },
  {
   "cell_type": "code",
   "execution_count": null,
   "id": "5d26abf5-bbb2-4eaf-b963-5b131d41c82a",
   "metadata": {},
   "outputs": [],
   "source": [
    "adata.obs.columns.tolist()"
   ]
  },
  {
   "cell_type": "code",
   "execution_count": null,
   "id": "ef91b8e5-4eec-46a4-8833-632b6ce7d946",
   "metadata": {},
   "outputs": [],
   "source": [
    "df=adata.obs.columns.tolist()\n",
    "df"
   ]
  },
  {
   "cell_type": "code",
   "execution_count": null,
   "id": "86451f90-3322-4e06-b65b-c959a9f47908",
   "metadata": {},
   "outputs": [],
   "source": [
    "df.insert(0,'')\n",
    "df"
   ]
  },
  {
   "cell_type": "code",
   "execution_count": null,
   "id": "46c33d89-12e5-46b8-8e2d-2dd9ca023dc5",
   "metadata": {},
   "outputs": [],
   "source": [
    "key = 'GPU'\n",
    "print('solid' if 'CPU' in key elif else 'dot')"
   ]
  }
 ],
 "metadata": {
  "kernelspec": {
   "display_name": "Python 3 (ipykernel)",
   "language": "python",
   "name": "python3"
  },
  "language_info": {
   "codemirror_mode": {
    "name": "ipython",
    "version": 3
   },
   "file_extension": ".py",
   "mimetype": "text/x-python",
   "name": "python",
   "nbconvert_exporter": "python",
   "pygments_lexer": "ipython3",
   "version": "3.8.10"
  }
 },
 "nbformat": 4,
 "nbformat_minor": 5
}
