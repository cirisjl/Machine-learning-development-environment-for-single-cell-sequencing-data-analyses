{
 "cells": [
  {
   "cell_type": "code",
   "execution_count": 1,
   "id": "2435e01e-c133-478a-bbe4-3aaf7a5a80ed",
   "metadata": {},
   "outputs": [],
   "source": [
    "import os\n",
    "import time\n",
    "import psutil\n",
    "import GPUtil\n",
    "from functools import wraps"
   ]
  },
  {
   "cell_type": "code",
   "execution_count": 58,
   "id": "33b787a7-a060-4ab1-9ca5-40fc3db2b513",
   "metadata": {},
   "outputs": [],
   "source": [
    "import time\n",
    "import psutil\n",
    "import GPUtil\n",
    "from threading import Thread\n",
    "\n",
    "\n",
    "\n",
    "class Monitor(Thread):\n",
    "    def __init__(self, delay=1):\n",
    "        super(Monitor, self).__init__()\n",
    "        self.stopped = False\n",
    "        self.delay = delay # Time between calls to GPUtil\n",
    "        # self.start_time \n",
    "        # self.end_time\n",
    "        self.total_time\n",
    "        self.cpu_usage = []\n",
    "        self.mem_usage = []\n",
    "        self.start()\n",
    "\n",
    "    def run(self):\n",
    "        start_time = time.time()\n",
    "        print(start_time)\n",
    "        while not self.stopped:\n",
    "            GPUtil.showUtilization()\n",
    "            # Obtaining all the essential details\n",
    "            self.cpu_usage.append(psutil.cpu_percent())\n",
    "            self.mem_usage.append(psutil.virtual_memory().percent)\n",
    "            time.sleep(self.delay)\n",
    "        end_time = time.time()\n",
    "        print(end_time)\n",
    "        self.total_time = end_time - start_time\n",
    "        print(self.total_time)\n",
    "        \n",
    "\n",
    "    def stop(self):\n",
    "        self.stopped = True\n",
    "        return self.total_time, self.cpu_usage, self.mem_usage"
   ]
  },
  {
   "cell_type": "code",
   "execution_count": 37,
   "id": "4cd55c43-39ca-44e1-8e09-48fc690aacb8",
   "metadata": {},
   "outputs": [],
   "source": [
    "def res_util(function):\n",
    "    @wraps(function)\n",
    "    def function_util(*args, **kwargs):\n",
    "        start_time = time.time()\n",
    "        cpu_usage = []\n",
    "        mem_usage = []\n",
    "        # cpu_usage.append(psutil.cpu_percent())\n",
    "        # mem_usage.append(psutil.virtual_memory().percent)\n",
    "        while not function.stopped:\n",
    "            # Obtaining all the essential details\n",
    "            cpu_usage.append(psutil.cpu_percent())\n",
    "            mem_usage.append(psutil.virtual_memory().percent)\n",
    "            print(cpu_usage)\n",
    "            print(mem_usage)\n",
    "    \n",
    "            # Obtaining the GPU details\n",
    "            GPUtil.showUtilization()\n",
    "            time.sleep(1)\n",
    "            \n",
    "        end_time = time.time()\n",
    "        total_time = end_time-start_time\n",
    "        \n",
    "        return function(*args, **kwargs), total_time, cpu_usage, mem_usage\n",
    "    return function_util"
   ]
  },
  {
   "cell_type": "code",
   "execution_count": 29,
   "id": "24051c22-b28c-4e53-b444-76585d3ca5ee",
   "metadata": {},
   "outputs": [],
   "source": [
    "import random\n",
    "\n",
    "# @res_util\n",
    "def random_sort(n):\n",
    "    results = sorted([random.random() for i in range(n)])\n",
    "    # random_sort.stopped = True\n",
    "    return results"
   ]
  },
  {
   "cell_type": "code",
   "execution_count": 20,
   "id": "f934b390-da88-4965-8968-9913819ce584",
   "metadata": {},
   "outputs": [
    {
     "ename": "AttributeError",
     "evalue": "'function' object has no attribute 'stopped'",
     "output_type": "error",
     "traceback": [
      "\u001b[0;31m---------------------------------------------------------------------------\u001b[0m",
      "\u001b[0;31mAttributeError\u001b[0m                            Traceback (most recent call last)",
      "Cell \u001b[0;32mIn[20], line 1\u001b[0m\n\u001b[0;32m----> 1\u001b[0m results, total_time, cpu_usage, mem_usage \u001b[38;5;241m=\u001b[39m \u001b[43mrandom_sort\u001b[49m\u001b[43m(\u001b[49m\u001b[38;5;241;43m20000000\u001b[39;49m\u001b[43m)\u001b[49m\n",
      "Cell \u001b[0;32mIn[12], line 9\u001b[0m, in \u001b[0;36mres_util.<locals>.function_util\u001b[0;34m(*args, **kwargs)\u001b[0m\n\u001b[1;32m      6\u001b[0m mem_usage \u001b[38;5;241m=\u001b[39m []\n\u001b[1;32m      7\u001b[0m \u001b[38;5;66;03m# cpu_usage.append(psutil.cpu_percent())\u001b[39;00m\n\u001b[1;32m      8\u001b[0m \u001b[38;5;66;03m# mem_usage.append(psutil.virtual_memory().percent)\u001b[39;00m\n\u001b[0;32m----> 9\u001b[0m \u001b[38;5;28;01mwhile\u001b[39;00m \u001b[38;5;129;01mnot\u001b[39;00m \u001b[43mfunction\u001b[49m\u001b[38;5;241;43m.\u001b[39;49m\u001b[43mstopped\u001b[49m:\n\u001b[1;32m     10\u001b[0m     \u001b[38;5;66;03m# Obtaining all the essential details\u001b[39;00m\n\u001b[1;32m     11\u001b[0m     cpu_usage\u001b[38;5;241m.\u001b[39mappend(psutil\u001b[38;5;241m.\u001b[39mcpu_percent())\n\u001b[1;32m     12\u001b[0m     mem_usage\u001b[38;5;241m.\u001b[39mappend(psutil\u001b[38;5;241m.\u001b[39mvirtual_memory()\u001b[38;5;241m.\u001b[39mpercent)\n",
      "\u001b[0;31mAttributeError\u001b[0m: 'function' object has no attribute 'stopped'"
     ]
    }
   ],
   "source": [
    "results, total_time, cpu_usage, mem_usage = random_sort(20000000)"
   ]
  },
  {
   "cell_type": "code",
   "execution_count": 59,
   "id": "6c8b66bf-586f-444e-b1a5-0b65f3280608",
   "metadata": {},
   "outputs": [
    {
     "name": "stdout",
     "output_type": "stream",
     "text": [
      "1700457186.5787604\n",
      "| ID | GPU | MEM |\n",
      "------------------\n",
      "| ID | GPU | MEM |\n",
      "------------------\n",
      "| ID | GPU | MEM |\n",
      "------------------\n",
      "| ID | GPU | MEM |\n",
      "------------------\n"
     ]
    },
    {
     "ename": "AttributeError",
     "evalue": "'Monitor' object has no attribute 'total_time'",
     "output_type": "error",
     "traceback": [
      "\u001b[0;31m---------------------------------------------------------------------------\u001b[0m",
      "\u001b[0;31mAttributeError\u001b[0m                            Traceback (most recent call last)",
      "Cell \u001b[0;32mIn[59], line 3\u001b[0m\n\u001b[1;32m      1\u001b[0m monitor \u001b[38;5;241m=\u001b[39m Monitor(\u001b[38;5;241m1\u001b[39m)\n\u001b[1;32m      2\u001b[0m random_sort(\u001b[38;5;241m20000000\u001b[39m)\n\u001b[0;32m----> 3\u001b[0m total_time, cpu_usage, mem_usage \u001b[38;5;241m=\u001b[39m \u001b[43mmonitor\u001b[49m\u001b[38;5;241;43m.\u001b[39;49m\u001b[43mstop\u001b[49m\u001b[43m(\u001b[49m\u001b[43m)\u001b[49m\n",
      "Cell \u001b[0;32mIn[58], line 36\u001b[0m, in \u001b[0;36mMonitor.stop\u001b[0;34m(self)\u001b[0m\n\u001b[1;32m     34\u001b[0m \u001b[38;5;28;01mdef\u001b[39;00m \u001b[38;5;21mstop\u001b[39m(\u001b[38;5;28mself\u001b[39m):\n\u001b[1;32m     35\u001b[0m     \u001b[38;5;28mself\u001b[39m\u001b[38;5;241m.\u001b[39mstopped \u001b[38;5;241m=\u001b[39m \u001b[38;5;28;01mTrue\u001b[39;00m\n\u001b[0;32m---> 36\u001b[0m     \u001b[38;5;28;01mreturn\u001b[39;00m \u001b[38;5;28;43mself\u001b[39;49m\u001b[38;5;241;43m.\u001b[39;49m\u001b[43mtotal_time\u001b[49m, \u001b[38;5;28mself\u001b[39m\u001b[38;5;241m.\u001b[39mcpu_usage, \u001b[38;5;28mself\u001b[39m\u001b[38;5;241m.\u001b[39mmem_usage\n",
      "\u001b[0;31mAttributeError\u001b[0m: 'Monitor' object has no attribute 'total_time'"
     ]
    },
    {
     "name": "stdout",
     "output_type": "stream",
     "text": [
      "1700457199.7836375\n",
      "13.204877138137817\n"
     ]
    }
   ],
   "source": [
    "monitor = Monitor(1)\n",
    "random_sort(20000000)\n",
    "total_time, cpu_usage, mem_usage = monitor.stop()"
   ]
  },
  {
   "cell_type": "code",
   "execution_count": 57,
   "id": "c5e1b38f-a18a-44ec-a25c-918f9b71da61",
   "metadata": {},
   "outputs": [
    {
     "data": {
      "text/plain": [
       "0"
      ]
     },
     "execution_count": 57,
     "metadata": {},
     "output_type": "execute_result"
    }
   ],
   "source": [
    "total_time"
   ]
  },
  {
   "cell_type": "code",
   "execution_count": 53,
   "id": "bd26e346-727d-4a1f-aead-36234bea317b",
   "metadata": {},
   "outputs": [
    {
     "data": {
      "text/plain": [
       "[0.0, 1.9, 2.0, 1.8]"
      ]
     },
     "execution_count": 53,
     "metadata": {},
     "output_type": "execute_result"
    }
   ],
   "source": [
    "cpu_usage"
   ]
  },
  {
   "cell_type": "code",
   "execution_count": 54,
   "id": "1961d215-52b6-4d75-ba47-3cd6ba9b7037",
   "metadata": {},
   "outputs": [
    {
     "data": {
      "text/plain": [
       "[3.0, 3.1, 3.3, 3.0]"
      ]
     },
     "execution_count": 54,
     "metadata": {},
     "output_type": "execute_result"
    }
   ],
   "source": [
    "mem_usage"
   ]
  },
  {
   "cell_type": "code",
   "execution_count": 22,
   "id": "c851c5c0-1c46-4fd6-9ebb-7f4a23c48425",
   "metadata": {},
   "outputs": [],
   "source": [
    "def funX(x):\n",
    "    m_x = x\n",
    "    funX.m_x = m_x"
   ]
  },
  {
   "cell_type": "code",
   "execution_count": 26,
   "id": "f030b3d5-ca96-4bb2-8201-ca8297ea8719",
   "metadata": {},
   "outputs": [
    {
     "name": "stdout",
     "output_type": "stream",
     "text": [
      "<function funX at 0x7f868c2e0430>\n"
     ]
    }
   ],
   "source": [
    "print(funX)"
   ]
  },
  {
   "cell_type": "code",
   "execution_count": 24,
   "id": "ffa93fa6-527f-4ff3-9452-e671c8f196d0",
   "metadata": {},
   "outputs": [],
   "source": [
    "funX(3)"
   ]
  },
  {
   "cell_type": "code",
   "execution_count": 25,
   "id": "72c3422e-e640-442e-91fa-4f93c0898647",
   "metadata": {},
   "outputs": [
    {
     "name": "stdout",
     "output_type": "stream",
     "text": [
      "funX.m_x =  3\n"
     ]
    }
   ],
   "source": [
    "print(\"funX.m_x = \", funX.m_x) "
   ]
  },
  {
   "cell_type": "code",
   "execution_count": null,
   "id": "9be4e4ff-a1a4-4b8a-ab6b-554954b9ac97",
   "metadata": {},
   "outputs": [],
   "source": []
  }
 ],
 "metadata": {
  "kernelspec": {
   "display_name": "Python 3 (ipykernel)",
   "language": "python",
   "name": "python3"
  },
  "language_info": {
   "codemirror_mode": {
    "name": "ipython",
    "version": 3
   },
   "file_extension": ".py",
   "mimetype": "text/x-python",
   "name": "python",
   "nbconvert_exporter": "python",
   "pygments_lexer": "ipython3",
   "version": "3.8.10"
  }
 },
 "nbformat": 4,
 "nbformat_minor": 5
}
