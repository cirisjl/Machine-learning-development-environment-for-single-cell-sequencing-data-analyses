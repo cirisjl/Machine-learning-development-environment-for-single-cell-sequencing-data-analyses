{
 "cells": [
  {
   "cell_type": "code",
   "execution_count": null,
   "id": "ec4a223e-ed45-46b5-baca-3beb6d8cc69c",
   "metadata": {},
   "outputs": [],
   "source": [
    "# !pip install louvain\n",
    "# !pip install --upgrade --no-cache psutil gputil"
   ]
  },
  {
   "cell_type": "code",
   "execution_count": null,
   "id": "822c302a-6d82-418f-b492-441f46c5af29",
   "metadata": {},
   "outputs": [],
   "source": [
    "import os\n",
    "import subprocess\n",
    "import sys\n",
    "sys.path.append('..')\n",
    "from tools.formating.formating import *\n",
    "from tools.utils.datasplit import *\n",
    "from tools.qc.scanpy_qc import *\n",
    "import numpy as np\n",
    "import scipy"
   ]
  },
  {
   "cell_type": "code",
   "execution_count": null,
   "id": "9052ac81-a3ad-40a0-ac94-b3c8d147e7b4",
   "metadata": {},
   "outputs": [],
   "source": [
    "# input = \"/ps/ai-ready/data/Clustering/Tabula_Sapiens/TS_germ line.h5ad\"\n",
    "# input = \"/ps/ai-ready/data/Clustering/Tabula_Muris/droplet_Bladder_seurat_tiss.h5ad\"\n",
    "# input = \"/ps/ai-ready/data/error/hca_heart_neuronal_raw.h5ad\"\n",
    "# input = \"/ps/ai-ready/data/Clustering/Tabula_Sapiens/TS_Skin.h5ad\"\n",
    "# input = \"/ps/ai-ready/data/error/droplet_Bladder_seurat_tiss.h5seurat\"\n",
    "input = \"/ps/ai-ready/data/error/tung.rds\"\n",
    "# adata = load_anndata(input)\n",
    "# adata"
   ]
  },
  {
   "cell_type": "code",
   "execution_count": null,
   "id": "df723e77-7175-44f2-ae3f-9cc00a5abfce",
   "metadata": {},
   "outputs": [],
   "source": [
    "adata.obs"
   ]
  },
  {
   "cell_type": "code",
   "execution_count": null,
   "id": "d43a3f1d-8298-4a28-b925-e5e2d2312d37",
   "metadata": {},
   "outputs": [],
   "source": [
    "adata.obs.index.get_loc('TCGACGGGTACGAGCA-1-HCAHeart8287128')"
   ]
  },
  {
   "cell_type": "code",
   "execution_count": null,
   "id": "7dac16d6-16fc-476f-a2a1-ca7f94c0a069",
   "metadata": {},
   "outputs": [],
   "source": [
    "type(adata.X)"
   ]
  },
  {
   "cell_type": "code",
   "execution_count": null,
   "id": "89fb38c4-1c32-42d8-8974-b2043a5f0350",
   "metadata": {},
   "outputs": [],
   "source": [
    "adata.X.toarray()"
   ]
  },
  {
   "cell_type": "code",
   "execution_count": null,
   "id": "58734396-60e2-42bd-be9b-0dfee1b439b9",
   "metadata": {},
   "outputs": [],
   "source": [
    "adata.layers['raw_counts'].toarray()"
   ]
  },
  {
   "cell_type": "code",
   "execution_count": null,
   "id": "9265086b-c914-46db-a518-a84d1187668a",
   "metadata": {},
   "outputs": [],
   "source": [
    "adata.raw.X.toarray()"
   ]
  },
  {
   "cell_type": "code",
   "execution_count": null,
   "id": "badb46da-07af-4b95-b04d-103bcd67a887",
   "metadata": {},
   "outputs": [],
   "source": [
    "\"raw_counts\" in adata.layers.keys()"
   ]
  },
  {
   "cell_type": "code",
   "execution_count": null,
   "id": "88ae2fe5-a3a4-43a0-88ec-379c0b19687c",
   "metadata": {},
   "outputs": [],
   "source": [
    "isinstance(adata.X, csr_matrix)"
   ]
  },
  {
   "cell_type": "code",
   "execution_count": null,
   "id": "e4ce5f3b-d169-4767-a2a1-ac1a69fcd00f",
   "metadata": {
    "scrolled": true
   },
   "outputs": [],
   "source": [
    "np.set_printoptions(threshold=np.inf)\n",
    "adata.X.toarray()[5,:]"
   ]
  },
  {
   "cell_type": "code",
   "execution_count": null,
   "id": "c1dd9530-f183-416c-82d9-c90f2c2fa86f",
   "metadata": {},
   "outputs": [],
   "source": [
    "type(adata.X.toarray())"
   ]
  },
  {
   "cell_type": "code",
   "execution_count": null,
   "id": "3ca42445-c849-4cc9-8d17-c97c989d4750",
   "metadata": {},
   "outputs": [],
   "source": [
    "isinstance(adata.X.toarray(), np.ndarray)"
   ]
  },
  {
   "cell_type": "code",
   "execution_count": null,
   "id": "15e4d0f7-3ca6-406d-ade3-4357fef35df2",
   "metadata": {},
   "outputs": [],
   "source": [
    "np.max(adata.X)"
   ]
  },
  {
   "cell_type": "code",
   "execution_count": null,
   "id": "0407e4dc-fc95-4e4a-87b1-04a12aebca94",
   "metadata": {},
   "outputs": [],
   "source": [
    "np.min(adata.X)"
   ]
  },
  {
   "cell_type": "code",
   "execution_count": null,
   "id": "8da38cb4-86fa-40ca-b953-686dc4b5e3d3",
   "metadata": {},
   "outputs": [],
   "source": [
    "from scipy.sparse import csr_matrix, find\n",
    "find(adata.X)"
   ]
  },
  {
   "cell_type": "code",
   "execution_count": null,
   "id": "91ad8ad7-fe12-46be-9721-697db5c9e033",
   "metadata": {},
   "outputs": [],
   "source": [
    "from scipy import stats\n",
    "stats.describe(adata.X.toarray())"
   ]
  },
  {
   "cell_type": "code",
   "execution_count": null,
   "id": "0e0ec0eb-1282-4557-8804-8324b08a56d2",
   "metadata": {},
   "outputs": [],
   "source": [
    "np.median(adata.X.toarray())"
   ]
  },
  {
   "cell_type": "code",
   "execution_count": null,
   "id": "3897f566-44dd-4055-bb5e-48c960ec6fa6",
   "metadata": {},
   "outputs": [],
   "source": [
    "min_genes=200\n",
    "min_cells=3\n",
    "target_sum=1e4\n",
    "n_neighbors=10\n",
    "n_pcs=40"
   ]
  },
  {
   "cell_type": "code",
   "execution_count": null,
   "id": "757ece84-5e10-4e8c-ae69-0584d062aaaf",
   "metadata": {},
   "outputs": [],
   "source": [
    "adata.var_names_make_unique() \n",
    "\n",
    "# Filtering low quality reads\n",
    "sc.pp.filter_cells(adata, min_genes=min_genes)\n",
    "sc.pp.filter_genes(adata, min_cells=min_cells)\n",
    "# mitochondrial genes\n",
    "adata.var['mt']=adata.var_names.str.startswith('MT-')\n",
    "# ribosomal genes\n",
    "adata.var[\"ribo\"] = adata.var_names.str.startswith((\"RPS\", \"RPL\"))\n",
    "# hemoglobin genes.\n",
    "adata.var[\"hb\"] = adata.var_names.str.contains((\"^HB[^(P)]\"))\n",
    "sc.pp.calculate_qc_metrics(adata, qc_vars=[\"mt\", \"ribo\", \"hb\"], inplace=True, percent_top=[20], log1p=True)\n",
    "\n",
    "adata.obs[\"outlier\"] = (\n",
    "    is_outlier(adata, \"log1p_total_counts\", 5)\n",
    "    | is_outlier(adata, \"log1p_n_genes_by_counts\", 5)\n",
    "    | is_outlier(adata, \"pct_counts_in_top_20_genes\", 5)\n",
    ")\n",
    "adata.obs.outlier.value_counts()\n",
    "\n",
    "adata.obs[\"mt_outlier\"] = is_outlier(adata, \"pct_counts_mt\", 3) | (\n",
    "    adata.obs[\"pct_counts_mt\"] > 8\n",
    ")\n",
    "adata.obs.mt_outlier.value_counts()\n",
    "\n",
    "print(f\"Total number of cells: {adata.n_obs}\")\n",
    "adata = adata[(~adata.obs.outlier) & (~adata.obs.mt_outlier)].copy()\n",
    "\n",
    "print(f\"Number of cells after filtering of low quality cells: {adata.n_obs}\")\n",
    "adata.X"
   ]
  },
  {
   "cell_type": "code",
   "execution_count": null,
   "id": "9e9b490a-470e-40de-8437-d82d1b95e053",
   "metadata": {},
   "outputs": [],
   "source": [
    "# adata=adata[adata.obs.n_genes_by_counts < 2500, :]\n",
    "# adata=adata[adata.obs.pct_counts_mt < 5, :]\n",
    "\n",
    "scrub = scr.Scrublet(adata.X, expected_doublet_rate = 0.076)\n",
    "adata.obs['doublet_scores'], adata.obs['predicted_doublets'] = scrub.scrub_doublets(min_counts=2, min_cells=3, \n",
    "                                                        min_gene_variability_pctl=85, n_prin_comps=30)\n",
    "adata.obs['predicted_doublets'].value_counts()\n",
    "# adata=adata[adata.obs.predicted_doublets==\"False\", :]\n",
    "\n",
    "sc.pp.normalize_total(adata, target_sum=target_sum)\n",
    "\n",
    "sc.pp.log1p(adata)"
   ]
  },
  {
   "cell_type": "code",
   "execution_count": null,
   "id": "b54e2880-b251-49be-b540-331356b7a3be",
   "metadata": {},
   "outputs": [],
   "source": [
    "adata.X"
   ]
  },
  {
   "cell_type": "code",
   "execution_count": null,
   "id": "630d197e-ff22-406b-937c-7d3bb2c9e6a8",
   "metadata": {},
   "outputs": [],
   "source": [
    "sc.pp.highly_variable_genes(adata)"
   ]
  },
  {
   "cell_type": "code",
   "execution_count": null,
   "id": "97ab1140-e486-4601-a5af-f38bc23cb5f9",
   "metadata": {},
   "outputs": [],
   "source": [
    "import scrublet as scr\n",
    "scrub = scr.Scrublet(adata.X, expected_doublet_rate = 0.076)\n",
    "adata.obs['doublet_scores'], adata.obs['predicted_doublets'] = scrub.scrub_doublets(min_counts=2, min_cells=3, \n",
    "                                                        min_gene_variability_pctl=85, n_prin_comps=30)\n",
    "adata.obs['predicted_doublets'].value_counts()"
   ]
  },
  {
   "cell_type": "code",
   "execution_count": null,
   "id": "2ebd4fa4-5e72-4932-9698-b0aec52cbd9e",
   "metadata": {},
   "outputs": [],
   "source": [
    "adata=adata[adata.obs.predicted_doublets==False, :]\n",
    "adata"
   ]
  },
  {
   "cell_type": "code",
   "execution_count": null,
   "id": "66085716-e995-4b6b-a16c-0c4023773e1c",
   "metadata": {},
   "outputs": [],
   "source": [
    "adata = run_scanpy_qc(adata)\n",
    "adata"
   ]
  },
  {
   "cell_type": "code",
   "execution_count": null,
   "id": "199fbc39-8102-44ca-8684-658ef098fa4b",
   "metadata": {},
   "outputs": [],
   "source": [
    "adata.X"
   ]
  },
  {
   "cell_type": "code",
   "execution_count": null,
   "id": "75f4a841-b729-4c9b-9298-c609389a2f02",
   "metadata": {},
   "outputs": [],
   "source": [
    "isinstance(adata.X, np.ndarray)"
   ]
  },
  {
   "cell_type": "code",
   "execution_count": null,
   "id": "84df42a4-ce23-46bf-bbe2-20719617d5ce",
   "metadata": {},
   "outputs": [],
   "source": [
    "adata, msg = run_dimension_reduction(adata, layer=\"log10k\")\n",
    "adata"
   ]
  },
  {
   "cell_type": "code",
   "execution_count": null,
   "id": "38cae84a-42bc-4781-8bf4-755a6f658b4f",
   "metadata": {},
   "outputs": [],
   "source": [
    "adata.layers[\"raw_counts\"].toarray()"
   ]
  },
  {
   "cell_type": "code",
   "execution_count": null,
   "id": "929abb81-17bc-43e5-a525-0520ca76b87d",
   "metadata": {},
   "outputs": [],
   "source": [
    "adata.X.toarray()"
   ]
  },
  {
   "cell_type": "code",
   "execution_count": null,
   "id": "219f740e-3914-43ba-ae6b-afce0ba33347",
   "metadata": {},
   "outputs": [],
   "source": [
    "adata.layers[\"log10k\"] = adata.X"
   ]
  },
  {
   "cell_type": "code",
   "execution_count": null,
   "id": "0dd4bbce-1e55-4bc3-b8b1-96f53918e90b",
   "metadata": {},
   "outputs": [],
   "source": [
    "del adata.layers[\"X\"]\n",
    "adata"
   ]
  },
  {
   "cell_type": "code",
   "execution_count": null,
   "id": "3fc034d5-eb46-4ae5-be4c-73a944bef853",
   "metadata": {},
   "outputs": [],
   "source": [
    "adata.uns"
   ]
  },
  {
   "cell_type": "code",
   "execution_count": null,
   "id": "b3b8a37d-fdf1-4db5-a2e6-415f5855ceb2",
   "metadata": {},
   "outputs": [],
   "source": [
    "adata.obs"
   ]
  },
  {
   "cell_type": "code",
   "execution_count": null,
   "id": "3fc2f442-bef9-4bd7-95a2-598d588d582a",
   "metadata": {},
   "outputs": [],
   "source": [
    "adata.obsm['log10k_umap'].shape"
   ]
  },
  {
   "cell_type": "code",
   "execution_count": null,
   "id": "2198d730-fe7a-418e-928e-efaa099267bb",
   "metadata": {},
   "outputs": [],
   "source": [
    "adata.raw.X.toarray()"
   ]
  },
  {
   "cell_type": "code",
   "execution_count": null,
   "id": "9a993b8d-c1a7-4929-80b0-2b1e288d994d",
   "metadata": {},
   "outputs": [],
   "source": [
    "adata.var.index"
   ]
  },
  {
   "cell_type": "code",
   "execution_count": null,
   "id": "cc929d7e-ab85-4597-998d-a0be78bd7c61",
   "metadata": {},
   "outputs": [],
   "source": [
    "type(adata.obs['total_counts'].tolist())"
   ]
  },
  {
   "cell_type": "code",
   "execution_count": null,
   "id": "d09c9197-1e8b-4369-b946-0b4a027a17ab",
   "metadata": {},
   "outputs": [],
   "source": [
    "adata.obs['n_counts']"
   ]
  },
  {
   "cell_type": "code",
   "execution_count": null,
   "id": "5346082c-b403-4f21-bf56-73d73dae7a0d",
   "metadata": {},
   "outputs": [],
   "source": [
    "'pct_counts_mt' in adata.obs.columns"
   ]
  },
  {
   "cell_type": "code",
   "execution_count": null,
   "id": "5d861d56-de21-4537-9445-c3e462387cae",
   "metadata": {},
   "outputs": [],
   "source": [
    "adata.obs_vector('pct_counts_mt')"
   ]
  },
  {
   "cell_type": "code",
   "execution_count": null,
   "id": "73353f83-f27d-4690-93fb-acf8733c0f98",
   "metadata": {},
   "outputs": [],
   "source": [
    "train, test = sc_train_test_split(adata, train_fraction=0.8)"
   ]
  },
  {
   "cell_type": "code",
   "execution_count": null,
   "id": "bc2b5718-91a6-4e03-a778-10333079882d",
   "metadata": {},
   "outputs": [],
   "source": [
    "train, val, test = sc_train_val_test_split(adata, train_fraction=0.8, validation_fraction=0.1, test_fraction=0.1)"
   ]
  },
  {
   "cell_type": "code",
   "execution_count": null,
   "id": "78f9ab48-0bcd-43be-85cd-9c95c0c0cbc8",
   "metadata": {},
   "outputs": [],
   "source": [
    "train"
   ]
  },
  {
   "cell_type": "code",
   "execution_count": null,
   "id": "b67c1340-36d1-482b-8b1a-a87b50ddd218",
   "metadata": {},
   "outputs": [],
   "source": [
    "val"
   ]
  },
  {
   "cell_type": "code",
   "execution_count": null,
   "id": "ca43458a-9ae2-48b6-b725-6d1636c36d01",
   "metadata": {},
   "outputs": [],
   "source": [
    "test"
   ]
  },
  {
   "cell_type": "code",
   "execution_count": null,
   "id": "ac0ee403-863f-4389-b0a8-3654989355c7",
   "metadata": {},
   "outputs": [],
   "source": [
    "test.X.toarray()"
   ]
  },
  {
   "cell_type": "code",
   "execution_count": null,
   "id": "d12148e4-1e01-4720-ad3b-c5c1fec29fde",
   "metadata": {},
   "outputs": [],
   "source": [
    "test.layers[\"raw_counts\"].toarray()"
   ]
  },
  {
   "cell_type": "code",
   "execution_count": null,
   "id": "5c81f8af-9232-439e-8ee4-876c7e6c82ca",
   "metadata": {},
   "outputs": [],
   "source": [
    "test.write_h5ad(filename=\"/ps/ai-ready/data/Clustering/Tabula_Sapiens/TS_Skin_test.h5ad\", compression='gzip')"
   ]
  },
  {
   "cell_type": "code",
   "execution_count": null,
   "id": "5d0979b2-194f-4cef-8888-df4d7d239503",
   "metadata": {},
   "outputs": [],
   "source": [
    "adata, msg = run_dimension_reduction(adata)"
   ]
  },
  {
   "cell_type": "code",
   "execution_count": null,
   "id": "472336af-b147-458e-967b-58280dc82bc0",
   "metadata": {},
   "outputs": [],
   "source": [
    "# from sklearn.cluster import KMeans\n",
    "from sklearn.metrics import adjusted_rand_score as ARI\n",
    "from sklearn.metrics import normalized_mutual_info_score as NMI\n",
    "from sklearn.metrics import silhouette_score\n",
    "# from sklearn.mixture import GaussianMixture as GMM\n",
    "\n",
    "def clustering_scores(labels, labels_pred, embedding):\n",
    "    asw_score = silhouette_score(embedding, labels)\n",
    "    nmi_score = NMI(labels, labels_pred)\n",
    "    ari_score = ARI(labels, labels_pred)\n",
    "    print(\n",
    "        \"Clustering Scores:\\nSilhouette: %.4f\\nNMI: %.4f\\nARI: %.4f\"\n",
    "        % (asw_score, nmi_score, ari_score)\n",
    "    )\n",
    "    return asw_score, nmi_score, ari_score"
   ]
  },
  {
   "cell_type": "code",
   "execution_count": null,
   "id": "954bf4b6-3ccd-413a-871a-a3e71c92d418",
   "metadata": {},
   "outputs": [],
   "source": [
    "asw_score, nmi_score, ari_score = clustering_scores(adata.obs[\"cell_ontology_class\"], adata.obs[\"leiden\"], adata.obsp['connectivities'])"
   ]
  },
  {
   "cell_type": "code",
   "execution_count": null,
   "id": "1128154f-8200-4e58-b96e-46610e426053",
   "metadata": {},
   "outputs": [],
   "source": [
    "adata.obsp['connectivities'].toarray()"
   ]
  },
  {
   "cell_type": "code",
   "execution_count": null,
   "id": "a9627222-8589-4b45-87b2-d05e4b7593d8",
   "metadata": {},
   "outputs": [],
   "source": [
    "test.layers[\"log10k\"].shape"
   ]
  },
  {
   "cell_type": "code",
   "execution_count": null,
   "id": "d5f05730-8b20-4b1d-9115-a9566b50ac78",
   "metadata": {},
   "outputs": [],
   "source": [
    "from scipy.sparse import csr_matrix\n",
    "test.X = csr_matrix(test.X)\n",
    "test.X"
   ]
  },
  {
   "cell_type": "code",
   "execution_count": null,
   "id": "9fced764-e80a-4c1c-9a5d-c2ffd1aca950",
   "metadata": {},
   "outputs": [],
   "source": [
    "test.layers[\"raw_counts\"].toarray().shape"
   ]
  },
  {
   "cell_type": "code",
   "execution_count": null,
   "id": "f46848e1-b5e1-4fe5-869c-944faa9713a3",
   "metadata": {},
   "outputs": [],
   "source": [
    "adata.var"
   ]
  },
  {
   "cell_type": "code",
   "execution_count": null,
   "id": "5724cf20-e7c7-4b4f-bbb8-f703bb59edc5",
   "metadata": {},
   "outputs": [],
   "source": [
    "list(adata.layers.keys())"
   ]
  },
  {
   "cell_type": "code",
   "execution_count": null,
   "id": "bcc91b4b-2169-400e-bb7d-fb5e6b85dee4",
   "metadata": {},
   "outputs": [],
   "source": [
    "adata.n_vars"
   ]
  },
  {
   "cell_type": "code",
   "execution_count": null,
   "id": "53e55942-038c-4cc5-8b97-2ed220a2e8aa",
   "metadata": {},
   "outputs": [],
   "source": [
    "adata.n_obs"
   ]
  },
  {
   "cell_type": "code",
   "execution_count": null,
   "id": "b113e5a1-7c00-4d1f-8f17-5e7941aab8c1",
   "metadata": {},
   "outputs": [],
   "source": [
    "adata.obs_names.to_list()"
   ]
  },
  {
   "cell_type": "code",
   "execution_count": null,
   "id": "b800a30a-e296-4b74-8488-eba54636eb10",
   "metadata": {},
   "outputs": [],
   "source": [
    "adata.var_names.to_list()"
   ]
  },
  {
   "cell_type": "code",
   "execution_count": null,
   "id": "06c10845-1af8-48d9-b930-cd1bfc4ab5ef",
   "metadata": {},
   "outputs": [],
   "source": [
    "list(adata.obsm.keys())"
   ]
  },
  {
   "cell_type": "code",
   "execution_count": null,
   "id": "790f67e4-cbbd-453c-bf34-3c4f5c0506bd",
   "metadata": {},
   "outputs": [],
   "source": [
    "adata.X"
   ]
  },
  {
   "cell_type": "code",
   "execution_count": null,
   "id": "523841c7-9f33-481d-b70a-16c6e0b95e20",
   "metadata": {},
   "outputs": [],
   "source": [
    "type(adata.obs_keys())"
   ]
  },
  {
   "cell_type": "code",
   "execution_count": null,
   "id": "4aa798b8-0097-487e-a36c-8b745feb76be",
   "metadata": {},
   "outputs": [],
   "source": [
    "adata.var_keys()"
   ]
  },
  {
   "cell_type": "code",
   "execution_count": null,
   "id": "4ccacc06-a5c2-4d7b-b8b1-9396d2b1172b",
   "metadata": {},
   "outputs": [],
   "source": [
    "random_state=0\n",
    "fraction=0.8\n",
    "np.random.seed(random_state)\n",
    "old_n_obs = adata.n_obs\n",
    "old_n_obs\n",
    "new_n_obs = int(fraction * old_n_obs)\n",
    "obs_indices = np.random.choice(old_n_obs, size=new_n_obs, replace=False)\n",
    "obs_indices"
   ]
  },
  {
   "cell_type": "code",
   "execution_count": null,
   "id": "a1bdf159-d753-4ee5-bef9-85a2e2f50026",
   "metadata": {},
   "outputs": [],
   "source": [
    "test=adata[obs_indices].copy()\n",
    "test"
   ]
  },
  {
   "cell_type": "code",
   "execution_count": null,
   "id": "ba579e76-78c1-416f-8879-2597de0d2cc6",
   "metadata": {},
   "outputs": [],
   "source": [
    "test.var"
   ]
  },
  {
   "cell_type": "code",
   "execution_count": null,
   "id": "11d49898-70aa-4f68-9a8a-3aa112cfe867",
   "metadata": {},
   "outputs": [],
   "source": [
    "original_indices=np.arange(old_n_obs)\n",
    "original_indices"
   ]
  },
  {
   "cell_type": "code",
   "execution_count": null,
   "id": "77248e6a-5772-481b-8fd7-da1caa830dd5",
   "metadata": {},
   "outputs": [],
   "source": [
    "diff=np.setdiff1d(original_indices, obs_indices)\n",
    "diff"
   ]
  },
  {
   "cell_type": "code",
   "execution_count": null,
   "id": "7e758372-01d2-478b-b64a-1221617e1fdb",
   "metadata": {},
   "outputs": [],
   "source": [
    "len(diff)"
   ]
  },
  {
   "cell_type": "code",
   "execution_count": null,
   "id": "61345949-29b4-4956-a3b8-8867923311cf",
   "metadata": {},
   "outputs": [],
   "source": [
    "np.random.shuffle(diff)\n",
    "diff"
   ]
  },
  {
   "cell_type": "code",
   "execution_count": null,
   "id": "ddcdc835-7426-4895-bd8e-6a272bcb82b4",
   "metadata": {},
   "outputs": [],
   "source": [
    "train=adata[diff].copy()\n",
    "train"
   ]
  },
  {
   "cell_type": "code",
   "execution_count": null,
   "id": "f872b46e-c271-4bd9-ba9c-3cdec0d46ec2",
   "metadata": {},
   "outputs": [],
   "source": [
    "train.obs"
   ]
  },
  {
   "cell_type": "code",
   "execution_count": null,
   "id": "b05cb5df-5b3c-4ada-b093-8737fae9f397",
   "metadata": {},
   "outputs": [],
   "source": []
  }
 ],
 "metadata": {
  "kernelspec": {
   "display_name": "Python 3 (ipykernel)",
   "language": "python",
   "name": "python3"
  },
  "language_info": {
   "codemirror_mode": {
    "name": "ipython",
    "version": 3
   },
   "file_extension": ".py",
   "mimetype": "text/x-python",
   "name": "python",
   "nbconvert_exporter": "python",
   "pygments_lexer": "ipython3",
   "version": "3.8.10"
  }
 },
 "nbformat": 4,
 "nbformat_minor": 5
}
