{
 "cells": [
  {
   "cell_type": "code",
   "execution_count": 1,
   "id": "822c302a-6d82-418f-b492-441f46c5af29",
   "metadata": {},
   "outputs": [
    {
     "name": "stdout",
     "output_type": "stream",
     "text": [
      "scanpy==1.9.5 anndata==0.9.2 umap==0.5.4 numpy==1.22.4 scipy==1.9.1 pandas==1.3.5 scikit-learn==1.3.1 statsmodels==0.14.0 igraph==0.10.8 pynndescent==0.5.10\n"
     ]
    }
   ],
   "source": [
    "import os\n",
    "import subprocess\n",
    "import sys\n",
    "sys.path.append('..')\n",
    "from tools.formating.formating import *\n",
    "from tools.utils.utils import *\n",
    "from tools.qc.scanpy_qc import *"
   ]
  },
  {
   "cell_type": "code",
   "execution_count": 2,
   "id": "9052ac81-a3ad-40a0-ac94-b3c8d147e7b4",
   "metadata": {},
   "outputs": [
    {
     "name": "stdout",
     "output_type": "stream",
     "text": [
      "/ps/ai-ready/data/Clustering/Tabula_Muris/droplet_Bladder_seurat_tiss.h5ad\n"
     ]
    },
    {
     "data": {
      "text/plain": [
       "AnnData object with n_obs × n_vars = 2500 × 23341\n",
       "    obs: 'orig.ident', 'nCount_RNA', 'nFeature_RNA', 'channel', 'tissue', 'subtissue', 'mouse.sex', 'mouse.id', 'percent.ercc', 'percent.ribo', 'free_annotation', 'cell_ontology_class', 'res.0.4', 'previous_free_annotation', 'previous_cell_ontology_class', 'cluster.ids', 'cell_ontology_id', 'percent.mt', 'percent.rb', 'percent.hb', 'percent.plat', 'RNA_snn_res.0.5', 'seurat_clusters'\n",
       "    var: 'vst.mean', 'vst.variance', 'vst.variance.expected', 'vst.variance.standardized', 'vst.variable'\n",
       "    uns: 'neighbors'\n",
       "    obsm: 'X_pca', 'X_tsne', 'X_umap'\n",
       "    varm: 'PCs'\n",
       "    obsp: 'distances'"
      ]
     },
     "execution_count": 2,
     "metadata": {},
     "output_type": "execute_result"
    }
   ],
   "source": [
    "# input = \"/ps/ai-ready/data/Clustering/Tabula_Sapiens/TS_germ line.h5ad\"\n",
    "input = \"/ps/ai-ready/data/Clustering/Tabula_Muris/droplet_Bladder_seurat_tiss.h5ad\"\n",
    "# input = \"/ps/ai-ready/data/error/hca_heart_neuronal_raw.h5ad\"\n",
    "adata = load_anndata(input)\n",
    "adata"
   ]
  },
  {
   "cell_type": "code",
   "execution_count": 3,
   "id": "66085716-e995-4b6b-a16c-0c4023773e1c",
   "metadata": {},
   "outputs": [
    {
     "data": {
      "text/plain": [
       "AnnData object with n_obs × n_vars = 2500 × 23341\n",
       "    obs: 'orig.ident', 'nCount_RNA', 'nFeature_RNA', 'channel', 'tissue', 'subtissue', 'mouse.sex', 'mouse.id', 'percent.ercc', 'percent.ribo', 'free_annotation', 'cell_ontology_class', 'res.0.4', 'previous_free_annotation', 'previous_cell_ontology_class', 'cluster.ids', 'cell_ontology_id', 'percent.mt', 'percent.rb', 'percent.hb', 'percent.plat', 'RNA_snn_res.0.5', 'seurat_clusters'\n",
       "    var: 'vst.mean', 'vst.variance', 'vst.variance.expected', 'vst.variance.standardized', 'vst.variable'\n",
       "    uns: 'neighbors'\n",
       "    obsm: 'X_pca', 'X_tsne', 'X_umap'\n",
       "    varm: 'PCs'\n",
       "    obsp: 'distances'"
      ]
     },
     "execution_count": 3,
     "metadata": {},
     "output_type": "execute_result"
    }
   ],
   "source": [
    "# adata = run_scanpy_qc(adata)\n",
    "adata"
   ]
  },
  {
   "cell_type": "code",
   "execution_count": null,
   "id": "b3b8a37d-fdf1-4db5-a2e6-415f5855ceb2",
   "metadata": {},
   "outputs": [],
   "source": [
    "adata.obs"
   ]
  },
  {
   "cell_type": "code",
   "execution_count": 4,
   "id": "73353f83-f27d-4690-93fb-acf8733c0f98",
   "metadata": {},
   "outputs": [],
   "source": [
    "train, test = sc_train_test_split(adata, train_fraction=0.8)"
   ]
  },
  {
   "cell_type": "code",
   "execution_count": null,
   "id": "bc2b5718-91a6-4e03-a778-10333079882d",
   "metadata": {},
   "outputs": [],
   "source": [
    "train, val, test = sc_train_test_split(adata, train_fraction=0.8, validation_fraction=0.1, test_fraction=0.1)"
   ]
  },
  {
   "cell_type": "code",
   "execution_count": 5,
   "id": "78f9ab48-0bcd-43be-85cd-9c95c0c0cbc8",
   "metadata": {},
   "outputs": [
    {
     "data": {
      "text/plain": [
       "AnnData object with n_obs × n_vars = 2000 × 23341\n",
       "    obs: 'orig.ident', 'nCount_RNA', 'nFeature_RNA', 'channel', 'tissue', 'subtissue', 'mouse.sex', 'mouse.id', 'percent.ercc', 'percent.ribo', 'free_annotation', 'cell_ontology_class', 'res.0.4', 'previous_free_annotation', 'previous_cell_ontology_class', 'cluster.ids', 'cell_ontology_id', 'percent.mt', 'percent.rb', 'percent.hb', 'percent.plat', 'RNA_snn_res.0.5', 'seurat_clusters'\n",
       "    var: 'vst.mean', 'vst.variance', 'vst.variance.expected', 'vst.variance.standardized', 'vst.variable'\n",
       "    uns: 'neighbors'\n",
       "    obsm: 'X_pca', 'X_tsne', 'X_umap'\n",
       "    varm: 'PCs'\n",
       "    obsp: 'distances'"
      ]
     },
     "execution_count": 5,
     "metadata": {},
     "output_type": "execute_result"
    }
   ],
   "source": [
    "train"
   ]
  },
  {
   "cell_type": "code",
   "execution_count": null,
   "id": "b67c1340-36d1-482b-8b1a-a87b50ddd218",
   "metadata": {},
   "outputs": [],
   "source": [
    "val"
   ]
  },
  {
   "cell_type": "code",
   "execution_count": 6,
   "id": "ca43458a-9ae2-48b6-b725-6d1636c36d01",
   "metadata": {},
   "outputs": [
    {
     "data": {
      "text/plain": [
       "AnnData object with n_obs × n_vars = 500 × 23341\n",
       "    obs: 'orig.ident', 'nCount_RNA', 'nFeature_RNA', 'channel', 'tissue', 'subtissue', 'mouse.sex', 'mouse.id', 'percent.ercc', 'percent.ribo', 'free_annotation', 'cell_ontology_class', 'res.0.4', 'previous_free_annotation', 'previous_cell_ontology_class', 'cluster.ids', 'cell_ontology_id', 'percent.mt', 'percent.rb', 'percent.hb', 'percent.plat', 'RNA_snn_res.0.5', 'seurat_clusters'\n",
       "    var: 'vst.mean', 'vst.variance', 'vst.variance.expected', 'vst.variance.standardized', 'vst.variable'\n",
       "    uns: 'neighbors'\n",
       "    obsm: 'X_pca', 'X_tsne', 'X_umap'\n",
       "    varm: 'PCs'\n",
       "    obsp: 'distances'"
      ]
     },
     "execution_count": 6,
     "metadata": {},
     "output_type": "execute_result"
    }
   ],
   "source": [
    "test"
   ]
  },
  {
   "cell_type": "code",
   "execution_count": null,
   "id": "f46848e1-b5e1-4fe5-869c-944faa9713a3",
   "metadata": {},
   "outputs": [],
   "source": [
    "adata.var"
   ]
  },
  {
   "cell_type": "code",
   "execution_count": null,
   "id": "5724cf20-e7c7-4b4f-bbb8-f703bb59edc5",
   "metadata": {},
   "outputs": [],
   "source": [
    "list(adata.layers.keys())"
   ]
  },
  {
   "cell_type": "code",
   "execution_count": null,
   "id": "bcc91b4b-2169-400e-bb7d-fb5e6b85dee4",
   "metadata": {},
   "outputs": [],
   "source": [
    "adata.n_vars"
   ]
  },
  {
   "cell_type": "code",
   "execution_count": null,
   "id": "53e55942-038c-4cc5-8b97-2ed220a2e8aa",
   "metadata": {},
   "outputs": [],
   "source": [
    "adata.n_obs"
   ]
  },
  {
   "cell_type": "code",
   "execution_count": null,
   "id": "b113e5a1-7c00-4d1f-8f17-5e7941aab8c1",
   "metadata": {},
   "outputs": [],
   "source": [
    "adata.obs_names.to_list()"
   ]
  },
  {
   "cell_type": "code",
   "execution_count": null,
   "id": "b800a30a-e296-4b74-8488-eba54636eb10",
   "metadata": {},
   "outputs": [],
   "source": [
    "adata.var_names.to_list()"
   ]
  },
  {
   "cell_type": "code",
   "execution_count": null,
   "id": "06c10845-1af8-48d9-b930-cd1bfc4ab5ef",
   "metadata": {},
   "outputs": [],
   "source": [
    "list(adata.obsm.keys())"
   ]
  },
  {
   "cell_type": "code",
   "execution_count": null,
   "id": "790f67e4-cbbd-453c-bf34-3c4f5c0506bd",
   "metadata": {},
   "outputs": [],
   "source": [
    "adata.X"
   ]
  },
  {
   "cell_type": "code",
   "execution_count": null,
   "id": "523841c7-9f33-481d-b70a-16c6e0b95e20",
   "metadata": {},
   "outputs": [],
   "source": [
    "type(adata.obs_keys())"
   ]
  },
  {
   "cell_type": "code",
   "execution_count": null,
   "id": "4aa798b8-0097-487e-a36c-8b745feb76be",
   "metadata": {},
   "outputs": [],
   "source": [
    "adata.var_keys()"
   ]
  },
  {
   "cell_type": "code",
   "execution_count": null,
   "id": "4ccacc06-a5c2-4d7b-b8b1-9396d2b1172b",
   "metadata": {},
   "outputs": [],
   "source": [
    "random_state=0\n",
    "fraction=0.8\n",
    "np.random.seed(random_state)\n",
    "old_n_obs = adata.n_obs\n",
    "old_n_obs\n",
    "new_n_obs = int(fraction * old_n_obs)\n",
    "obs_indices = np.random.choice(old_n_obs, size=new_n_obs, replace=False)\n",
    "obs_indices"
   ]
  },
  {
   "cell_type": "code",
   "execution_count": null,
   "id": "a1bdf159-d753-4ee5-bef9-85a2e2f50026",
   "metadata": {},
   "outputs": [],
   "source": [
    "test=adata[obs_indices].copy()\n",
    "test"
   ]
  },
  {
   "cell_type": "code",
   "execution_count": null,
   "id": "ba579e76-78c1-416f-8879-2597de0d2cc6",
   "metadata": {},
   "outputs": [],
   "source": [
    "test.var"
   ]
  },
  {
   "cell_type": "code",
   "execution_count": null,
   "id": "11d49898-70aa-4f68-9a8a-3aa112cfe867",
   "metadata": {},
   "outputs": [],
   "source": [
    "original_indices=np.arange(old_n_obs)\n",
    "original_indices"
   ]
  },
  {
   "cell_type": "code",
   "execution_count": null,
   "id": "77248e6a-5772-481b-8fd7-da1caa830dd5",
   "metadata": {},
   "outputs": [],
   "source": [
    "diff=np.setdiff1d(original_indices, obs_indices)\n",
    "diff"
   ]
  },
  {
   "cell_type": "code",
   "execution_count": null,
   "id": "7e758372-01d2-478b-b64a-1221617e1fdb",
   "metadata": {},
   "outputs": [],
   "source": [
    "len(diff)"
   ]
  },
  {
   "cell_type": "code",
   "execution_count": null,
   "id": "61345949-29b4-4956-a3b8-8867923311cf",
   "metadata": {},
   "outputs": [],
   "source": [
    "np.random.shuffle(diff)\n",
    "diff"
   ]
  },
  {
   "cell_type": "code",
   "execution_count": null,
   "id": "ddcdc835-7426-4895-bd8e-6a272bcb82b4",
   "metadata": {},
   "outputs": [],
   "source": [
    "train=adata[diff].copy()\n",
    "train"
   ]
  },
  {
   "cell_type": "code",
   "execution_count": null,
   "id": "f872b46e-c271-4bd9-ba9c-3cdec0d46ec2",
   "metadata": {},
   "outputs": [],
   "source": [
    "train.obs"
   ]
  },
  {
   "cell_type": "code",
   "execution_count": null,
   "id": "b05cb5df-5b3c-4ada-b093-8737fae9f397",
   "metadata": {},
   "outputs": [],
   "source": []
  }
 ],
 "metadata": {
  "kernelspec": {
   "display_name": "Python 3 (ipykernel)",
   "language": "python",
   "name": "python3"
  },
  "language_info": {
   "codemirror_mode": {
    "name": "ipython",
    "version": 3
   },
   "file_extension": ".py",
   "mimetype": "text/x-python",
   "name": "python",
   "nbconvert_exporter": "python",
   "pygments_lexer": "ipython3",
   "version": "3.8.10"
  }
 },
 "nbformat": 4,
 "nbformat_minor": 5
}
