{
 "cells": [
  {
   "cell_type": "code",
   "execution_count": 1,
   "id": "4b523d6a-aec6-47a9-a20a-b8b025cb1f7b",
   "metadata": {},
   "outputs": [
    {
     "name": "stderr",
     "output_type": "stream",
     "text": [
      "Loading required package: SummarizedExperiment\n",
      "\n",
      "Loading required package: MatrixGenerics\n",
      "\n",
      "Loading required package: matrixStats\n",
      "\n",
      "\n",
      "Attaching package: ‘MatrixGenerics’\n",
      "\n",
      "\n",
      "The following objects are masked from ‘package:matrixStats’:\n",
      "\n",
      "    colAlls, colAnyNAs, colAnys, colAvgsPerRowSet, colCollapse,\n",
      "    colCounts, colCummaxs, colCummins, colCumprods, colCumsums,\n",
      "    colDiffs, colIQRDiffs, colIQRs, colLogSumExps, colMadDiffs,\n",
      "    colMads, colMaxs, colMeans2, colMedians, colMins, colOrderStats,\n",
      "    colProds, colQuantiles, colRanges, colRanks, colSdDiffs, colSds,\n",
      "    colSums2, colTabulates, colVarDiffs, colVars, colWeightedMads,\n",
      "    colWeightedMeans, colWeightedMedians, colWeightedSds,\n",
      "    colWeightedVars, rowAlls, rowAnyNAs, rowAnys, rowAvgsPerColSet,\n",
      "    rowCollapse, rowCounts, rowCummaxs, rowCummins, rowCumprods,\n",
      "    rowCumsums, rowDiffs, rowIQRDiffs, rowIQRs, rowLogSumExps,\n",
      "    rowMadDiffs, rowMads, rowMaxs, rowMeans2, rowMedians, rowMins,\n",
      "    rowOrderStats, rowProds, rowQuantiles, rowRanges, rowRanks,\n",
      "    rowSdDiffs, rowSds, rowSums2, rowTabulates, rowVarDiffs, rowVars,\n",
      "    rowWeightedMads, rowWeightedMeans, rowWeightedMedians,\n",
      "    rowWeightedSds, rowWeightedVars\n",
      "\n",
      "\n",
      "Loading required package: GenomicRanges\n",
      "\n",
      "Loading required package: stats4\n",
      "\n",
      "Loading required package: BiocGenerics\n",
      "\n",
      "\n",
      "Attaching package: ‘BiocGenerics’\n",
      "\n",
      "\n",
      "The following objects are masked from ‘package:stats’:\n",
      "\n",
      "    IQR, mad, sd, var, xtabs\n",
      "\n",
      "\n",
      "The following objects are masked from ‘package:base’:\n",
      "\n",
      "    anyDuplicated, aperm, append, as.data.frame, basename, cbind,\n",
      "    colnames, dirname, do.call, duplicated, eval, evalq, Filter, Find,\n",
      "    get, grep, grepl, intersect, is.unsorted, lapply, Map, mapply,\n",
      "    match, mget, order, paste, pmax, pmax.int, pmin, pmin.int,\n",
      "    Position, rank, rbind, Reduce, rownames, sapply, setdiff, sort,\n",
      "    table, tapply, union, unique, unsplit, which.max, which.min\n",
      "\n",
      "\n",
      "Loading required package: S4Vectors\n",
      "\n",
      "\n",
      "Attaching package: ‘S4Vectors’\n",
      "\n",
      "\n",
      "The following objects are masked from ‘package:base’:\n",
      "\n",
      "    expand.grid, I, unname\n",
      "\n",
      "\n",
      "Loading required package: IRanges\n",
      "\n",
      "Loading required package: GenomeInfoDb\n",
      "\n",
      "Loading required package: Biobase\n",
      "\n",
      "Welcome to Bioconductor\n",
      "\n",
      "    Vignettes contain introductory material; view with\n",
      "    'browseVignettes()'. To cite Bioconductor, see\n",
      "    'citation(\"Biobase\")', and for packages 'citation(\"pkgname\")'.\n",
      "\n",
      "\n",
      "\n",
      "Attaching package: ‘Biobase’\n",
      "\n",
      "\n",
      "The following object is masked from ‘package:MatrixGenerics’:\n",
      "\n",
      "    rowMedians\n",
      "\n",
      "\n",
      "The following objects are masked from ‘package:matrixStats’:\n",
      "\n",
      "    anyMissing, rowMedians\n",
      "\n",
      "\n",
      "\n",
      "Attaching package: ‘dplyr’\n",
      "\n",
      "\n",
      "The following object is masked from ‘package:Biobase’:\n",
      "\n",
      "    combine\n",
      "\n",
      "\n",
      "The following objects are masked from ‘package:GenomicRanges’:\n",
      "\n",
      "    intersect, setdiff, union\n",
      "\n",
      "\n",
      "The following object is masked from ‘package:GenomeInfoDb’:\n",
      "\n",
      "    intersect\n",
      "\n",
      "\n",
      "The following objects are masked from ‘package:IRanges’:\n",
      "\n",
      "    collapse, desc, intersect, setdiff, slice, union\n",
      "\n",
      "\n",
      "The following objects are masked from ‘package:S4Vectors’:\n",
      "\n",
      "    first, intersect, rename, setdiff, setequal, union\n",
      "\n",
      "\n",
      "The following objects are masked from ‘package:BiocGenerics’:\n",
      "\n",
      "    combine, intersect, setdiff, union\n",
      "\n",
      "\n",
      "The following object is masked from ‘package:matrixStats’:\n",
      "\n",
      "    count\n",
      "\n",
      "\n",
      "The following objects are masked from ‘package:stats’:\n",
      "\n",
      "    filter, lag\n",
      "\n",
      "\n",
      "The following objects are masked from ‘package:base’:\n",
      "\n",
      "    intersect, setdiff, setequal, union\n",
      "\n",
      "\n",
      "\n",
      "Attaching package: ‘celldex’\n",
      "\n",
      "\n",
      "The following objects are masked from ‘package:SingleR’:\n",
      "\n",
      "    BlueprintEncodeData, DatabaseImmuneCellExpressionData,\n",
      "    HumanPrimaryCellAtlasData, ImmGenData, MonacoImmuneData,\n",
      "    MouseRNAseqData, NovershternHematopoieticData\n",
      "\n",
      "\n",
      "Loading required package: SingleCellExperiment\n",
      "\n",
      "Loading required package: scuttle\n",
      "\n",
      "The legacy packages maptools, rgdal, and rgeos, underpinning the sp package,\n",
      "which was just loaded, will retire in October 2023.\n",
      "Please refer to R-spatial evolution reports for details, especially\n",
      "https://r-spatial.org/r/2023/05/15/evolution4.html.\n",
      "It may be desirable to make the sf package available;\n",
      "package maintainers should consider adding sf to Suggests:.\n",
      "The sp package is now running under evolution status 2\n",
      "     (status 2 uses the sf package in place of rgdal)\n",
      "\n",
      "Attaching SeuratObject\n",
      "\n",
      "\n",
      "Attaching package: ‘Seurat’\n",
      "\n",
      "\n",
      "The following object is masked from ‘package:SummarizedExperiment’:\n",
      "\n",
      "    Assays\n",
      "\n",
      "\n",
      "Registered S3 method overwritten by 'SeuratDisk':\n",
      "  method            from  \n",
      "  as.sparse.H5Group Seurat\n",
      "\n"
     ]
    }
   ],
   "source": [
    "library(ggplot2)\n",
    "library(SingleR)\n",
    "library(dplyr)\n",
    "library(celldex)\n",
    "library(RColorBrewer)\n",
    "source(\"../tools/formating/formating.R\")"
   ]
  },
  {
   "cell_type": "code",
   "execution_count": 2,
   "id": "4df4de01-3b25-49ca-9296-84ba4e06bd3e",
   "metadata": {},
   "outputs": [
    {
     "name": "stderr",
     "output_type": "stream",
     "text": [
      "here() starts at /ps/Machine-learning-development-environment-for-single-cell-sequencing-data-analyses\n",
      "\n",
      "Updating from v2.X to v3.X\n",
      "\n",
      "Validating object structure\n",
      "\n",
      "Updating object slots\n",
      "\n",
      "Ensuring keys are in the proper structure\n",
      "\n",
      "Ensuring feature names don't have underscores or pipes\n",
      "\n",
      "Object representation is consistent with the most current Seurat version\n",
      "\n"
     ]
    },
    {
     "data": {
      "text/plain": [
       "$srat\n",
       "An object of class Seurat \n",
       "23341 features across 2500 samples within 1 assay \n",
       "Active assay: RNA (23341 features, 0 variable features)\n"
      ]
     },
     "metadata": {},
     "output_type": "display_data"
    }
   ],
   "source": [
    "source(\"../tools/qc/seurat_qc.R\")\n",
    "path=\"/ps/ai-ready/data/Clustering/Tabula_Muris/droplet_Bladder_seurat_tiss.Robj\"\n",
    "results <- LoadSeuratMetaData(path)\n",
    "\n",
    "qc_results <- RunSeuratQC(results['srat'], '/ps/ai-ready/data/Clustering/Tabula_Muris/droplet_Bladder_seurat_tiss.h5Seurat')\n",
    "qc_results"
   ]
  },
  {
   "cell_type": "code",
   "execution_count": null,
   "id": "c520e237-1c70-4361-bd3c-19275f6e5e89",
   "metadata": {},
   "outputs": [],
   "source": [
    "# library(\"here\")\n",
    "here()"
   ]
  },
  {
   "cell_type": "code",
   "execution_count": null,
   "id": "f9a961d3-7756-4892-a9a0-5d3b2c618010",
   "metadata": {},
   "outputs": [],
   "source": [
    "getwd()"
   ]
  },
  {
   "cell_type": "code",
   "execution_count": null,
   "id": "1f422608-5c1e-4978-9d38-96bf8b7dbebc",
   "metadata": {},
   "outputs": [],
   "source": [
    "packageVersion(\"Seurat\")"
   ]
  },
  {
   "cell_type": "code",
   "execution_count": null,
   "id": "d08495c9-de2a-4075-85a1-cfcc4271a8bf",
   "metadata": {},
   "outputs": [],
   "source": [
    "current_path <- getwd()\n",
    "print(current_path)"
   ]
  },
  {
   "cell_type": "code",
   "execution_count": null,
   "id": "ccad8dd4-9948-4dc7-9b6d-7a7cb181be1b",
   "metadata": {},
   "outputs": [],
   "source": [
    "here::here('api/tools/qc/scrublet_calls.tsv')"
   ]
  },
  {
   "cell_type": "code",
   "execution_count": null,
   "id": "1267879f-38ad-4756-8a7f-b9931ca19a3d",
   "metadata": {},
   "outputs": [],
   "source": [
    "source(\"../tools/qc/seurat_qc.R\")\n",
    "path=\"/ps/ai-ready/data/Clustering/Tabula_Muris/droplet_Bladder_seurat_tiss.Robj\"\n",
    "\n",
    "results <- RunSeuratQC(path, '/ps/ai-ready/data/Clustering/Tabula_Muris/droplet_Bladder_seurat_tiss.h5Seurat')\n",
    "results"
   ]
  },
  {
   "cell_type": "code",
   "execution_count": null,
   "id": "f4340f96-ca1e-488a-81b7-b3426fa41274",
   "metadata": {},
   "outputs": [],
   "source": [
    "adata_path <- Convert('/ps/ai-ready/data/Clustering/Tabula_Muris/droplet_Bladder_seurat_tiss.h5Seurat', dest = \"h5ad\" , overwrite = TRUE)\n",
    "adata_path"
   ]
  },
  {
   "cell_type": "code",
   "execution_count": null,
   "id": "e708a4de-9b45-46bd-a5a2-18f65acf900e",
   "metadata": {},
   "outputs": [],
   "source": [
    "path=\"/ps/ai-ready/data/Clustering/Tabula_Muris/droplet_Bladder_seurat_tiss.Robj\"\n",
    "\n",
    "srat <- LoadSeurat(path)\n",
    "\n",
    "srat\n",
    "srat@version"
   ]
  },
  {
   "cell_type": "code",
   "execution_count": null,
   "id": "80455616-0843-4408-82cc-e5166738d7fe",
   "metadata": {},
   "outputs": [],
   "source": [
    "Project(srat)"
   ]
  },
  {
   "cell_type": "code",
   "execution_count": null,
   "id": "f91a4336-1c7f-488a-b2af-696c35d90e23",
   "metadata": {},
   "outputs": [],
   "source": [
    "obj <- readRDS(\"/ps/ai-ready/data/Clustering/Tabula_Muris/droplet_Bladder_seurat_tiss.Robj\")\n",
    "obj"
   ]
  },
  {
   "cell_type": "code",
   "execution_count": null,
   "id": "b28b2981-cfd9-47d9-9a45-b6a34f67a031",
   "metadata": {},
   "outputs": [],
   "source": [
    "srat_v2 <- get(load(path))\n",
    "srat_v2"
   ]
  },
  {
   "cell_type": "code",
   "execution_count": null,
   "id": "df7dca1c-bcef-43e6-9a90-0c79d8718fea",
   "metadata": {},
   "outputs": [],
   "source": [
    "class(srat_v2) == 'seurat'"
   ]
  },
  {
   "cell_type": "code",
   "execution_count": null,
   "id": "5a18bd28-d8a6-4024-a0cd-c88f36a1ff9e",
   "metadata": {},
   "outputs": [],
   "source": [
    "srat_v2@meta.data"
   ]
  },
  {
   "cell_type": "code",
   "execution_count": null,
   "id": "e837c20c-b38f-4a00-86c7-1f8d95c2ec2c",
   "metadata": {},
   "outputs": [],
   "source": [
    "srat[['RNA']]@counts"
   ]
  },
  {
   "cell_type": "code",
   "execution_count": null,
   "id": "f240cfa0-42d2-4fbf-935c-d2bd3b84646d",
   "metadata": {},
   "outputs": [],
   "source": [
    "v4_obj <- CreateSeuratObject(counts=srat[['RNA']]@counts, meta.data=srat@meta.data)\n",
    "v4_obj"
   ]
  },
  {
   "cell_type": "code",
   "execution_count": null,
   "id": "dd0e9e7d-8dae-4927-89ec-fa18823ae756",
   "metadata": {},
   "outputs": [],
   "source": [
    "SaveH5Seurat(v4_obj, filename='/ps/ai-ready/data/Clustering/Tabula_Muris/droplet_Bladder_seurat_tiss.h5seurat', overwrite=TRUE)"
   ]
  },
  {
   "cell_type": "code",
   "execution_count": null,
   "id": "ef2d65d7-f9c5-4e72-a77e-27666e5f12bf",
   "metadata": {},
   "outputs": [],
   "source": [
    "Cells(v4_obj)"
   ]
  },
  {
   "cell_type": "code",
   "execution_count": null,
   "id": "a48c9c15-7c5a-437e-97a9-ed8c1b92c546",
   "metadata": {},
   "outputs": [],
   "source": [
    "v4_obj@meta.data"
   ]
  },
  {
   "cell_type": "code",
   "execution_count": null,
   "id": "2d34685f-95f9-48a2-8c08-0d9386e24f8d",
   "metadata": {},
   "outputs": [],
   "source": [
    "v4_obj[['RNA']]@var.features"
   ]
  },
  {
   "cell_type": "code",
   "execution_count": null,
   "id": "6189b319-ed8f-42fb-bf14-bb832834ebe0",
   "metadata": {},
   "outputs": [],
   "source": [
    "srat@reductions$pca@misc <- list()\n",
    "srat@reductions$tsne@misc <- list()\n",
    "# srat@reductions$umap@misc <- list()"
   ]
  },
  {
   "cell_type": "code",
   "execution_count": null,
   "id": "4a6de37a-7d34-49c4-a977-25ddd0d42414",
   "metadata": {},
   "outputs": [],
   "source": [
    "SaveH5Seurat(srat, filename='/ps/ai-ready/data/Clustering/Tabula_Muris/droplet_Bladder_seurat_tiss.h5seurat', overwrite=TRUE)"
   ]
  },
  {
   "cell_type": "code",
   "execution_count": null,
   "id": "b8dd2e22-5fef-4595-ae73-c4ca2df62713",
   "metadata": {},
   "outputs": [],
   "source": [
    "saveRDS(srat, \"/ps/ai-ready/data/Clustering/Tabula_Muris/droplet_Bladder_seurat_tiss.rds\")"
   ]
  },
  {
   "cell_type": "code",
   "execution_count": null,
   "id": "a5c6dc7f-bf7a-4e7e-9669-a1244934e707",
   "metadata": {},
   "outputs": [],
   "source": [
    "srat1 <- readRDS(file=\"/ps/ai-ready/data/Clustering/Tabula_Muris/droplet_Bladder_seurat_tiss.rds\")\n",
    "srat1"
   ]
  },
  {
   "cell_type": "code",
   "execution_count": null,
   "id": "64c147c6-a75f-4cd3-88f0-0cb2a3c3ab98",
   "metadata": {},
   "outputs": [],
   "source": [
    "as.h5Seurat(srat1, '/ps/ai-ready/data/Clustering/Tabula_Muris/droplet_Bladder_seurat_tiss.h5seurat', overwrite = TRUE, verbose = TRUE)"
   ]
  },
  {
   "cell_type": "code",
   "execution_count": null,
   "id": "f2bf0c84-55aa-4ac5-8e13-c9d1d548cbae",
   "metadata": {},
   "outputs": [],
   "source": [
    "SaveH5Seurat(srat1, filename='/ps/ai-ready/data/Clustering/Tabula_Muris/droplet_Bladder_seurat_tiss.h5seurat', overwrite=TRUE)"
   ]
  },
  {
   "cell_type": "code",
   "execution_count": null,
   "id": "b36c7cf2-aaed-4d3e-9dc1-d2c0dde5ad93",
   "metadata": {},
   "outputs": [],
   "source": [
    "adata_path <- Convert('/ps/ai-ready/data/Clustering/Tabula_Muris/droplet_Bladder_seurat_tiss.rds', dest = \"h5ad\" , overwrite = TRUE)"
   ]
  },
  {
   "cell_type": "code",
   "execution_count": null,
   "id": "02fc6920-0f98-4859-9411-99e41028e77c",
   "metadata": {
    "scrolled": true
   },
   "outputs": [],
   "source": [
    "class(srat1) == 'Seurat'"
   ]
  },
  {
   "cell_type": "code",
   "execution_count": null,
   "id": "bd595558-8bd9-4545-b207-5fafe4f5fb4d",
   "metadata": {},
   "outputs": [],
   "source": [
    "v4_obj@version"
   ]
  },
  {
   "cell_type": "code",
   "execution_count": null,
   "id": "422b0b46-63e5-458b-b8a2-00390d359de8",
   "metadata": {},
   "outputs": [],
   "source": [
    "srat2 <- readRDS(file=\"/ps/ai-ready/data/tung/tung.rds\")\n",
    "srat2"
   ]
  },
  {
   "cell_type": "code",
   "execution_count": null,
   "id": "00414990-4edc-4b1d-b1a4-95e230b1de0c",
   "metadata": {},
   "outputs": [],
   "source": [
    "class(srat2)"
   ]
  },
  {
   "cell_type": "code",
   "execution_count": null,
   "id": "6c1f7087-5228-4f72-9b03-dd8b01b6708a",
   "metadata": {},
   "outputs": [],
   "source": [
    "# The [[ operator can add columns to object metadata. This is a great place to stash QC stats\n",
    "srat[[\"percent.mt\"]] <- PercentageFeatureSet(srat, pattern = \"^MT-\")"
   ]
  },
  {
   "cell_type": "code",
   "execution_count": null,
   "id": "a086b663-1d6d-49bc-8b6c-a3243ddcb5c1",
   "metadata": {},
   "outputs": [],
   "source": [
    "# Visualize QC metrics as a violin plot\n",
    "VlnPlot(srat, features = c(\"nFeature_RNA\", \"nCount_RNA\", \"percent.mt\"), ncol = 3)"
   ]
  },
  {
   "cell_type": "code",
   "execution_count": null,
   "id": "f5733261-5d46-45f2-ad9c-ca3a3e06507b",
   "metadata": {},
   "outputs": [],
   "source": [
    "plot1 <- FeatureScatter(srat, feature1 = \"nCount_RNA\", feature2 = \"percent.mt\")\n",
    "plot2 <- FeatureScatter(srat, feature1 = \"nCount_RNA\", feature2 = \"nFeature_RNA\")\n",
    "plot1 + plot2"
   ]
  },
  {
   "cell_type": "code",
   "execution_count": null,
   "id": "44ae94bb-63b5-4299-ac71-d0d995eb4cfb",
   "metadata": {},
   "outputs": [],
   "source": [
    "srat <- subset(srat, subset = nFeature_RNA > 200 & nFeature_RNA < 2500 & percent.mt < 5)"
   ]
  },
  {
   "cell_type": "code",
   "execution_count": null,
   "id": "e080cd97-5e68-4999-8baa-a17d804ee4e1",
   "metadata": {},
   "outputs": [],
   "source": [
    "srat <- NormalizeData(srat, normalization.method = \"LogNormalize\", scale.factor = 10000)"
   ]
  },
  {
   "cell_type": "code",
   "execution_count": null,
   "id": "db42d5e2-ce0e-431e-90b1-e76b8ea4234d",
   "metadata": {},
   "outputs": [],
   "source": [
    "srat <- FindVariableFeatures(srat, selection.method = \"vst\")\n",
    "srat <- ScaleData(srat, features = rownames(srat))"
   ]
  },
  {
   "cell_type": "code",
   "execution_count": null,
   "id": "28d05285-941d-449c-8054-a47583962e50",
   "metadata": {},
   "outputs": [],
   "source": [
    "srat <- RunPCA(srat, features = VariableFeatures(srat), ndims.print = 6:10, nfeatures.print = 10)"
   ]
  },
  {
   "cell_type": "code",
   "execution_count": null,
   "id": "0a5edc8c-574e-4a31-b8ca-850863be2d63",
   "metadata": {},
   "outputs": [],
   "source": [
    "DimHeatmap(srat, dims = c(8, 10))"
   ]
  },
  {
   "cell_type": "code",
   "execution_count": null,
   "id": "b2951448-ee5a-42ad-81af-9025ffef465a",
   "metadata": {},
   "outputs": [],
   "source": [
    "srat <- CellCycleScoring(srat, g2m.features = cc.genes$g2m.genes, s.features = cc.genes$s.genes)"
   ]
  },
  {
   "cell_type": "code",
   "execution_count": null,
   "id": "346002cd-278a-4a58-bf75-f6583b5f92cb",
   "metadata": {},
   "outputs": [],
   "source": [
    "# Read in the expression matrix The first row is a header row, the first column is rownames\n",
    "exp.mat <- read.table(file = \"../tools/qc/nestorawa_forcellcycle_expressionMatrix.txt\", header = TRUE,\n",
    "    as.is = TRUE, row.names = 1)\n",
    "\n",
    "# A list of cell cycle markers, from Tirosh et al, 2015, is loaded with Seurat.  We can\n",
    "# segregate this list into markers of G2/M phase and markers of S phase\n",
    "s.genes <- cc.genes$s.genes\n",
    "g2m.genes <- cc.genes$g2m.genes"
   ]
  },
  {
   "cell_type": "code",
   "execution_count": null,
   "id": "4fdaeac3-bb43-42e9-ac2c-ba084f8f6c22",
   "metadata": {},
   "outputs": [],
   "source": [
    "srat <- CellCycleScoring(srat, s.features = s.genes, g2m.features = g2m.genes, set.ident = TRUE)\n",
    "# view cell cycle scores and phase assignments\n",
    "head(srat[[]])"
   ]
  },
  {
   "cell_type": "code",
   "execution_count": null,
   "id": "f5f7b624-e46f-4871-9861-107b67df184b",
   "metadata": {},
   "outputs": [],
   "source": [
    "VlnPlot(srat, features = c(\"S.Score\", \"G2M.Score\"), group.by = \"orig.ident\",\n",
    "    ncol = 4, pt.size = 0.1)"
   ]
  },
  {
   "cell_type": "code",
   "execution_count": null,
   "id": "61062e0d-8e43-4069-a5ab-896ae824f984",
   "metadata": {},
   "outputs": [],
   "source": [
    "srat <- ScaleData(srat, vars.to.regress = c(\"S.Score\", \"G2M.Score\"), features = rownames(srat))\n",
    "srat"
   ]
  },
  {
   "cell_type": "code",
   "execution_count": null,
   "id": "7463bbfc-6e26-44b8-886b-c1d23fb3c9fb",
   "metadata": {},
   "outputs": [],
   "source": [
    "remotes::install_github('chris-mcginnis-ucsf/DoubletFinder')"
   ]
  },
  {
   "cell_type": "code",
   "execution_count": null,
   "id": "3634fd2e-6c60-4780-9533-8092c73506a0",
   "metadata": {},
   "outputs": [],
   "source": [
    "# define the expected number of doublet cellscells.\n",
    "nExp <- round(ncol(srat) * 0.04)  # expect 4% doublets\n",
    "srat <- doubletFinder_v3(srat, pN = 0.25, pK = 0.09, nExp = nExp, PCs = 1:10)"
   ]
  },
  {
   "cell_type": "code",
   "execution_count": null,
   "id": "cb9fb1bb-7a14-4d9b-a7ef-ed96a7466ade",
   "metadata": {},
   "outputs": [],
   "source": [
    "rm(srat)\n",
    "gc()"
   ]
  },
  {
   "cell_type": "code",
   "execution_count": null,
   "id": "29d065bc-3f88-411e-8375-b01b8a47db5b",
   "metadata": {},
   "outputs": [],
   "source": []
  },
  {
   "cell_type": "code",
   "execution_count": null,
   "id": "daf12fc4-ee45-4b9d-839f-7eef706488d4",
   "metadata": {},
   "outputs": [],
   "source": []
  }
 ],
 "metadata": {
  "kernelspec": {
   "display_name": "R",
   "language": "R",
   "name": "ir"
  },
  "language_info": {
   "codemirror_mode": "r",
   "file_extension": ".r",
   "mimetype": "text/x-r-source",
   "name": "R",
   "pygments_lexer": "r",
   "version": "4.2.1"
  }
 },
 "nbformat": 4,
 "nbformat_minor": 5
}
