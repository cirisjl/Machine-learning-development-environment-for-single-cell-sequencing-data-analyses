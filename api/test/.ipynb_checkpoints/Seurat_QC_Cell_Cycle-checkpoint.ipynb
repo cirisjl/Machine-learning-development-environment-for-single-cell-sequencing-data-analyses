{
 "cells": [
  {
   "cell_type": "code",
   "execution_count": null,
   "id": "4b523d6a-aec6-47a9-a20a-b8b025cb1f7b",
   "metadata": {},
   "outputs": [],
   "source": [
    "library(ggplot2)\n",
    "library(SingleR)\n",
    "library(dplyr)\n",
    "library(celldex)\n",
    "library(RColorBrewer)\n",
    "source(\"../tools/formating/formating.R\")"
   ]
  },
  {
   "cell_type": "code",
   "execution_count": null,
   "id": "4df4de01-3b25-49ca-9296-84ba4e06bd3e",
   "metadata": {},
   "outputs": [],
   "source": [
    "source(\"../tools/qc/seurat_qc.R\")\n",
    "path=\"/ps/ai-ready/data/Clustering/Tabula_Muris/droplet_Bladder_seurat_tiss.Robj\"\n",
    "results <- LoadSeuratMetaData(path)\n",
    "results$srat"
   ]
  },
  {
   "cell_type": "code",
   "execution_count": null,
   "id": "1c9aa399-01fe-4a39-b44c-d6c0366e9c62",
   "metadata": {},
   "outputs": [],
   "source": [
    "qc_results <- RunSeuratQC(results$srat, '/ps/ai-ready/data/Clustering/Tabula_Muris/droplet_Bladder_seurat_tiss.h5Seurat')\n",
    "qc_results"
   ]
  },
  {
   "cell_type": "code",
   "execution_count": null,
   "id": "c520e237-1c70-4361-bd3c-19275f6e5e89",
   "metadata": {},
   "outputs": [],
   "source": [
    "# library(\"here\")\n",
    "here()"
   ]
  },
  {
   "cell_type": "code",
   "execution_count": null,
   "id": "f9a961d3-7756-4892-a9a0-5d3b2c618010",
   "metadata": {},
   "outputs": [],
   "source": [
    "getwd()"
   ]
  },
  {
   "cell_type": "code",
   "execution_count": null,
   "id": "1f422608-5c1e-4978-9d38-96bf8b7dbebc",
   "metadata": {},
   "outputs": [],
   "source": [
    "packageVersion(\"Seurat\")"
   ]
  },
  {
   "cell_type": "code",
   "execution_count": null,
   "id": "d08495c9-de2a-4075-85a1-cfcc4271a8bf",
   "metadata": {},
   "outputs": [],
   "source": [
    "current_path <- getwd()\n",
    "print(current_path)"
   ]
  },
  {
   "cell_type": "code",
   "execution_count": null,
   "id": "ccad8dd4-9948-4dc7-9b6d-7a7cb181be1b",
   "metadata": {},
   "outputs": [],
   "source": [
    "here::here('api/tools/qc/scrublet_calls.tsv')"
   ]
  },
  {
   "cell_type": "code",
   "execution_count": null,
   "id": "1267879f-38ad-4756-8a7f-b9931ca19a3d",
   "metadata": {},
   "outputs": [],
   "source": [
    "source(\"../tools/qc/seurat_qc.R\")\n",
    "path=\"/ps/ai-ready/data/error/droplet_Bladder_seurat_tiss.h5seurat\"\n",
    "adata_path = '/ps/ai-ready/data/error/droplet_Bladder_seurat_tiss.h5ad'\n",
    "# path=\"/ps/ai-ready/data/tung/umi.h5Seurat\"\n",
    "# adata_path = '/ps/ai-ready/data/tung/umi.h5ad'\n",
    "\n",
    "results <- RunSeuratQC(path, '/ps/ai-ready/data/Clustering/Tabula_Muris/droplet_Bladder_seurat_tiss.h5Seurat', adata_path=adata_path)\n",
    "results"
   ]
  },
  {
   "cell_type": "code",
   "execution_count": null,
   "id": "b82fb602-65a5-4511-8f6d-7d15d49594a6",
   "metadata": {},
   "outputs": [],
   "source": [
    "source(\"../tools/qc/seurat_qc.R\")\n",
    "# path=\"/ps/ai-ready/data/Clustering/Tabula_Muris/droplet_Bladder_seurat_tiss.h5Seurat\"\n",
    "# adata_path = '/ps/ai-ready/data/Clustering/Tabula_Muris/droplet_Bladder_seurat_tiss.h5ad'\n",
    "path=\"/ps/ai-ready/data/error/droplet_Bladder_seurat_tiss.Robj\"\n",
    "adata_path = '/ps/ai-ready/data/error/droplet_Bladder_seurat_tiss.h5ad'\n",
    "\n",
    "results <- RunSeuratQC(path, '/ps/ai-ready/data/Clustering/Tabula_Muris/droplet_Bladder_seurat_tiss.h5Seurat', adata_path=adata_path)\n",
    "results"
   ]
  },
  {
   "cell_type": "code",
   "execution_count": 17,
   "id": "571ba18e-06e7-4bdd-8a3a-b180c2a26049",
   "metadata": {},
   "outputs": [
    {
     "name": "stdout",
     "output_type": "stream",
     "text": [
      "[1] \"Inside LoadSeurat\"\n"
     ]
    },
    {
     "name": "stderr",
     "output_type": "stream",
     "text": [
      "Validating h5Seurat file\n",
      "\n",
      "Initializing RNA with data\n",
      "\n",
      "Adding counts for RNA\n",
      "\n",
      "Adding miscellaneous information for RNA\n",
      "\n",
      "Adding command information\n",
      "\n",
      "Adding cell-level metadata\n",
      "\n",
      "Adding miscellaneous information\n",
      "\n",
      "Adding tool-specific results\n",
      "\n"
     ]
    },
    {
     "data": {
      "text/plain": [
       "An object of class Seurat \n",
       "23341 features across 2500 samples within 1 assay \n",
       "Active assay: RNA (23341 features, 0 variable features)\n",
       " 2 layers present: counts, data"
      ]
     },
     "metadata": {},
     "output_type": "display_data"
    }
   ],
   "source": [
    "# srat <- LoadSeurat('/ps/ai-ready/data/error/droplet_Bladder_seurat_tiss.Robj')\n",
    "srat <- LoadSeurat(\"/ps/ai-ready/data/error/droplet_Bladder_seurat_tiss.h5seurat\")\n",
    "# srat@reductions <- NULL\n",
    "srat"
   ]
  },
  {
   "cell_type": "code",
   "execution_count": 4,
   "id": "72928c47-cddf-4156-b292-2aa959c0fbd6",
   "metadata": {},
   "outputs": [
    {
     "name": "stderr",
     "output_type": "stream",
     "text": [
      "Downloading GitHub repo chris-mcginnis-ucsf/DoubletFinder@HEAD\n",
      "\n"
     ]
    },
    {
     "name": "stdout",
     "output_type": "stream",
     "text": [
      "\n",
      "\u001b[36m──\u001b[39m \u001b[36mR CMD build\u001b[39m \u001b[36m─────────────────────────────────────────────────────────────────────────────────────────────────────────────────────────────────────────────────────────\u001b[39m\n",
      "\u001b[32m✔\u001b[39m  \u001b[90mchecking for file ‘/tmp/RtmpLne3bx/remotesd3e1f70d04f/chris-mcginnis-ucsf-DoubletFinder-853e2de/DESCRIPTION’\u001b[39m\u001b[36m\u001b[36m (375ms)\u001b[36m\u001b[39m\n",
      "\u001b[90m─\u001b[39m\u001b[90m  \u001b[39m\u001b[90mpreparing ‘DoubletFinder’:\u001b[39m\u001b[36m\u001b[39m\n",
      "\u001b[32m✔\u001b[39m  \u001b[90mchecking DESCRIPTION meta-information\u001b[39m\u001b[36m\u001b[39m\n",
      "\u001b[90m─\u001b[39m\u001b[90m  \u001b[39m\u001b[90mchecking for LF line-endings in source and make files and shell scripts\u001b[39m\u001b[36m\u001b[39m\n",
      "\u001b[90m─\u001b[39m\u001b[90m  \u001b[39m\u001b[90mchecking for empty or unneeded directories\u001b[39m\u001b[36m\u001b[39m\n",
      "   Omitted ‘LazyData’ from DESCRIPTION\n",
      "\u001b[90m─\u001b[39m\u001b[90m  \u001b[39m\u001b[90mbuilding ‘DoubletFinder_2.0.4.tar.gz’\u001b[39m\u001b[36m\u001b[39m\n",
      "   \n",
      "\r"
     ]
    },
    {
     "name": "stderr",
     "output_type": "stream",
     "text": [
      "Installing package into ‘/usr/local/lib/R/site-library’\n",
      "(as ‘lib’ is unspecified)\n",
      "\n"
     ]
    }
   ],
   "source": [
    "remotes::install_github('chris-mcginnis-ucsf/DoubletFinder')"
   ]
  },
  {
   "cell_type": "code",
   "execution_count": 18,
   "id": "2c81e6fb-16f0-4c22-972c-82431c8c36bb",
   "metadata": {},
   "outputs": [
    {
     "name": "stderr",
     "output_type": "stream",
     "text": [
      "Centering and scaling data matrix\n",
      "\n",
      "PC_ 1 \n",
      "Positive:  Foxq1, Mal, Ly6d, Wfdc2, Fxyd3, Krt18, Aqp3, Gsta4, 2200002D01Rik, Spint2 \n",
      "\t   Krt7, Sfn, Perp, Krt19, Krt8, 1110032A04Rik, Gsto1, Cldn4, Sprr1a, Ezr \n",
      "\t   Upk1a, Gstm1, Igfbp2, Lmo1, Sdc1, Cldn7, Cdh1, Ivl, Mgst3, Ctse \n",
      "Negative:  Lgals1, Vim, Serpinh1, Sparc, Serping1, Col1a2, Bgn, Col3a1, Col1a1, Dcn \n",
      "\t   Plac9, Mgp, Rarres2, Col6a1, Htra1, Rcn3, Nbl1, Tuba1a, Plac8, Pcolce \n",
      "\t   Col6a2, Id3, Gadd45g, Fstl1, Mxra8, Cd302, Lsp1, Cebpd, Ppic, Cst3 \n",
      "PC_ 2 \n",
      "Positive:  Tyrobp, Ctss, H2-Eb1, H2-Aa, Cd52, Laptm5, Fcer1g, Cd74, Ly86, Cd83 \n",
      "\t   H2-DMa, Sfpi1, Cd53, H2-Ab1, Pld4, Plek, Lyz2, Coro1a, Plbd1, Srgn \n",
      "\t   Lyz1, Alox5ap, H2-DMb1, Bcl2a1b, Bcl2a1d, Rac2, Ms4a6c, Il1b, Clec12a, Gmfg \n",
      "Negative:  S100a6, Serpinh1, Col3a1, Dcn, Col6a1, Col1a1, Ppap2b, Htra1, Mgp, Col1a2 \n",
      "\t   Serping1, Rcn3, Pcolce, Dkk3, Gsn, Ecm1, Mxra8, Bgn, Fbln5, Sparc \n",
      "\t   Rarres2, Nbl1, Col6a2, Col5a2, Ppic, Mmp2, Fstl1, Aebp1, Prelp, Col6a3 \n",
      "PC_ 3 \n",
      "Positive:  Tgfbi, Car3, Rbp4, Tnc, Basp1, Spon1, Col6a3, Gpx3, Gm2a, Hhip \n",
      "\t   Thbs2, Col12a1, Cxcl14, Mmp2, Cpz, A130040M12Rik, 3632451O06Rik, Aldh1a2, Hk2, Fn1 \n",
      "\t   H2-DMb1, Itga11, Kcnk2, Fam105a, Col11a1, Creb3l1, Dkk2, Bmp2, Cpxm1, H2-Ab1 \n",
      "Negative:  Pecam1, Esam, Egfl7, Cdh5, Emcn, Podxl, Eltd1, Pcp4l1, S1pr1, Cd93 \n",
      "\t   Gimap6, Mmrn2, Flt1, C130074G19Rik, Gpr116, Jam2, Sox17, Rasip1, Robo4, Kdr \n",
      "\t   Ecscr, Abcb1a, Plvap, Ldb2, Ushbp1, Apold1, Grrp1, Myct1, Epas1, Scarb1 \n",
      "PC_ 4 \n",
      "Positive:  Car3, Tnc, Rbp4, Hhip, Tspan13, Cxcl14, Cpz, Myl9, Dkk2, 3632451O06Rik \n",
      "\t   Pde4b, Gpx3, Itga11, Aldh1a2, Spon1, Gas6, Tgfbi, Col11a1, Col4a2, Plk2 \n",
      "\t   Kcnk2, Tagln, Acta2, Col6a3, Wfdc1, Cd200, Thy1, Notum, Procr, Palld \n",
      "Negative:  Scara5, Clec3b, Mfap5, Pi16, Krtdap, Cd34, Gsn, Sparcl1, Abi3bp, Col14a1 \n",
      "\t   Npy1r, Tnxb, Lum, Lbp, Ccdc80, Timp3, Sfrp1, Inmt, Fbln1, Atp1a2 \n",
      "\t   Dmkn, Chodl, Htra3, Col8a1, Sbsn, Osr1, Gfpt2, Fxyd5, Gpr133, Igfbp4 \n",
      "PC_ 5 \n",
      "Positive:  Bcam, Gsdmc2, Has3, Slc7a11, Col17a1, Itga3, Kcnn4, Nrn1, Srxn1, 2310043J07Rik \n",
      "\t   Trf, Aldh3a1, Ank, Cebpb, Gsdmc3, Vegfa, A130040M12Rik, Tns4, Serpinb5, Dusp6 \n",
      "\t   Tinagl1, Trp63, Wdr92, Krt15, Phospho1, Dppa5a, Gclc, Gsr, Gsta3, Rgs10 \n",
      "Negative:  Psca, Fam25c, Pdzk1ip1, Upk2, Acer2, Snhg11, Upk3a, Galntl1, AA986860, Sprr2b \n",
      "\t   Cyp4f15, Defb1, Snx31, Tspan13, Mmp15, Fmo5, Sgpl1, Cldn23, Pttg1ip, Tmem64 \n",
      "\t   Gjb6, Myh14, Hebp2, Fut9, Tmem123, Vamp5, Wfdc15b, Capn5, Arg2, Ppfibp2 \n",
      "\n",
      "20:46:26 UMAP embedding parameters a = 0.9922 b = 1.112\n",
      "\n",
      "Found more than one class \"dist\" in cache; using the first, from namespace 'BiocGenerics'\n",
      "\n",
      "Also defined by ‘spam’\n",
      "\n",
      "20:46:26 Read 2500 rows and found 10 numeric columns\n",
      "\n",
      "20:46:26 Using Annoy for neighbor search, n_neighbors = 30\n",
      "\n",
      "Found more than one class \"dist\" in cache; using the first, from namespace 'BiocGenerics'\n",
      "\n",
      "Also defined by ‘spam’\n",
      "\n",
      "20:46:26 Building Annoy index with metric = cosine, n_trees = 50\n",
      "\n",
      "0%   10   20   30   40   50   60   70   80   90   100%\n",
      "\n",
      "[----|----|----|----|----|----|----|----|----|----|\n",
      "\n",
      "*\n",
      "*\n",
      "*\n",
      "*\n",
      "*\n",
      "*\n",
      "*\n",
      "*\n",
      "*\n",
      "*\n",
      "*\n",
      "*\n",
      "*\n",
      "*\n",
      "*\n",
      "*\n",
      "*\n",
      "*\n",
      "*\n",
      "*\n",
      "*\n",
      "*\n",
      "*\n",
      "*\n",
      "*\n",
      "*\n",
      "*\n",
      "*\n",
      "*\n",
      "*\n",
      "*\n",
      "*\n",
      "*\n",
      "*\n",
      "*\n",
      "*\n",
      "*\n",
      "*\n",
      "*\n",
      "*\n",
      "*\n",
      "*\n",
      "*\n",
      "*\n",
      "*\n",
      "*\n",
      "*\n",
      "*\n",
      "*\n",
      "*\n",
      "|\n",
      "\n",
      "20:46:27 Writing NN index file to temp file /tmp/RtmpLne3bx/filed3e18466ae4\n",
      "\n",
      "20:46:27 Searching Annoy index using 1 thread, search_k = 3000\n",
      "\n",
      "20:46:27 Annoy recall = 100%\n",
      "\n",
      "20:46:29 Commencing smooth kNN distance calibration using 1 thread\n",
      " with target n_neighbors = 30\n",
      "\n",
      "20:46:31 Initializing from normalized Laplacian + noise (using RSpectra)\n",
      "\n",
      "20:46:31 Commencing optimization for 500 epochs, with 93296 positive edges\n",
      "\n",
      "20:46:36 Optimization finished\n",
      "\n"
     ]
    }
   ],
   "source": [
    "srat <- NormalizeData(srat)\n",
    "srat <- FindVariableFeatures(srat, selection.method=\"vst\", nfeatures=2000)\n",
    "srat <- ScaleData(srat)\n",
    "srat <- RunPCA(srat)\n",
    "srat <- RunUMAP(srat, dims=1:10)"
   ]
  },
  {
   "cell_type": "code",
   "execution_count": 21,
   "id": "a1b56ec5-b859-4be6-a5d5-2cdcfaf41e67",
   "metadata": {},
   "outputs": [
    {
     "data": {
      "text/plain": [
       "An object of class Seurat \n",
       "23341 features across 2500 samples within 1 assay \n",
       "Active assay: RNA (23341 features, 2000 variable features)\n",
       " 3 layers present: counts, data, scale.data\n",
       " 2 dimensional reductions calculated: pca, umap"
      ]
     },
     "metadata": {},
     "output_type": "display_data"
    }
   ],
   "source": [
    "srat"
   ]
  },
  {
   "cell_type": "code",
   "execution_count": 20,
   "id": "a6b6b149-3ecf-4e98-8238-19574281a12b",
   "metadata": {},
   "outputs": [
    {
     "name": "stdout",
     "output_type": "stream",
     "text": [
      "[1] \"Creating artificial doublets for pN = 5%\"\n",
      "[1] \"Creating Seurat object...\"\n",
      "[1] \"Normalizing Seurat object...\"\n"
     ]
    },
    {
     "name": "stderr",
     "output_type": "stream",
     "text": [
      "Normalizing layer: counts\n",
      "\n"
     ]
    },
    {
     "name": "stdout",
     "output_type": "stream",
     "text": [
      "[1] \"Finding variable genes...\"\n"
     ]
    },
    {
     "name": "stderr",
     "output_type": "stream",
     "text": [
      "Finding variable features for layer counts\n",
      "\n"
     ]
    },
    {
     "name": "stdout",
     "output_type": "stream",
     "text": [
      "[1] \"Scaling data...\"\n"
     ]
    },
    {
     "name": "stderr",
     "output_type": "stream",
     "text": [
      "Centering and scaling data matrix\n",
      "\n"
     ]
    },
    {
     "name": "stdout",
     "output_type": "stream",
     "text": [
      "[1] \"Running PCA...\"\n",
      "[1] \"Calculating PC distance matrix...\"\n",
      "[1] \"Defining neighborhoods...\"\n",
      "[1] \"Computing pANN across all pK...\"\n",
      "[1] \"pK = 0.005...\"\n",
      "[1] \"pK = 0.01...\"\n",
      "[1] \"pK = 0.02...\"\n",
      "[1] \"pK = 0.03...\"\n",
      "[1] \"pK = 0.04...\"\n",
      "[1] \"pK = 0.05...\"\n",
      "[1] \"pK = 0.06...\"\n",
      "[1] \"pK = 0.07...\"\n",
      "[1] \"pK = 0.08...\"\n",
      "[1] \"pK = 0.09...\"\n",
      "[1] \"pK = 0.1...\"\n",
      "[1] \"pK = 0.11...\"\n",
      "[1] \"pK = 0.12...\"\n",
      "[1] \"pK = 0.13...\"\n",
      "[1] \"pK = 0.14...\"\n",
      "[1] \"pK = 0.15...\"\n",
      "[1] \"pK = 0.16...\"\n",
      "[1] \"pK = 0.17...\"\n",
      "[1] \"pK = 0.18...\"\n",
      "[1] \"pK = 0.19...\"\n",
      "[1] \"pK = 0.2...\"\n",
      "[1] \"pK = 0.21...\"\n",
      "[1] \"pK = 0.22...\"\n",
      "[1] \"pK = 0.23...\"\n",
      "[1] \"pK = 0.24...\"\n",
      "[1] \"pK = 0.25...\"\n",
      "[1] \"pK = 0.26...\"\n",
      "[1] \"pK = 0.27...\"\n",
      "[1] \"pK = 0.28...\"\n",
      "[1] \"pK = 0.29...\"\n",
      "[1] \"pK = 0.3...\"\n",
      "[1] \"Creating artificial doublets for pN = 10%\"\n",
      "[1] \"Creating Seurat object...\"\n",
      "[1] \"Normalizing Seurat object...\"\n"
     ]
    },
    {
     "name": "stderr",
     "output_type": "stream",
     "text": [
      "Normalizing layer: counts\n",
      "\n"
     ]
    },
    {
     "name": "stdout",
     "output_type": "stream",
     "text": [
      "[1] \"Finding variable genes...\"\n"
     ]
    },
    {
     "name": "stderr",
     "output_type": "stream",
     "text": [
      "Finding variable features for layer counts\n",
      "\n"
     ]
    },
    {
     "name": "stdout",
     "output_type": "stream",
     "text": [
      "[1] \"Scaling data...\"\n"
     ]
    },
    {
     "name": "stderr",
     "output_type": "stream",
     "text": [
      "Centering and scaling data matrix\n",
      "\n"
     ]
    },
    {
     "name": "stdout",
     "output_type": "stream",
     "text": [
      "[1] \"Running PCA...\"\n",
      "[1] \"Calculating PC distance matrix...\"\n",
      "[1] \"Defining neighborhoods...\"\n",
      "[1] \"Computing pANN across all pK...\"\n",
      "[1] \"pK = 0.005...\"\n",
      "[1] \"pK = 0.01...\"\n",
      "[1] \"pK = 0.02...\"\n",
      "[1] \"pK = 0.03...\"\n",
      "[1] \"pK = 0.04...\"\n",
      "[1] \"pK = 0.05...\"\n",
      "[1] \"pK = 0.06...\"\n",
      "[1] \"pK = 0.07...\"\n",
      "[1] \"pK = 0.08...\"\n",
      "[1] \"pK = 0.09...\"\n",
      "[1] \"pK = 0.1...\"\n",
      "[1] \"pK = 0.11...\"\n",
      "[1] \"pK = 0.12...\"\n",
      "[1] \"pK = 0.13...\"\n",
      "[1] \"pK = 0.14...\"\n",
      "[1] \"pK = 0.15...\"\n",
      "[1] \"pK = 0.16...\"\n",
      "[1] \"pK = 0.17...\"\n",
      "[1] \"pK = 0.18...\"\n",
      "[1] \"pK = 0.19...\"\n",
      "[1] \"pK = 0.2...\"\n",
      "[1] \"pK = 0.21...\"\n",
      "[1] \"pK = 0.22...\"\n",
      "[1] \"pK = 0.23...\"\n",
      "[1] \"pK = 0.24...\"\n",
      "[1] \"pK = 0.25...\"\n",
      "[1] \"pK = 0.26...\"\n",
      "[1] \"pK = 0.27...\"\n",
      "[1] \"pK = 0.28...\"\n",
      "[1] \"pK = 0.29...\"\n",
      "[1] \"pK = 0.3...\"\n",
      "[1] \"Creating artificial doublets for pN = 15%\"\n",
      "[1] \"Creating Seurat object...\"\n",
      "[1] \"Normalizing Seurat object...\"\n"
     ]
    },
    {
     "name": "stderr",
     "output_type": "stream",
     "text": [
      "Normalizing layer: counts\n",
      "\n"
     ]
    },
    {
     "name": "stdout",
     "output_type": "stream",
     "text": [
      "[1] \"Finding variable genes...\"\n"
     ]
    },
    {
     "name": "stderr",
     "output_type": "stream",
     "text": [
      "Finding variable features for layer counts\n",
      "\n"
     ]
    },
    {
     "name": "stdout",
     "output_type": "stream",
     "text": [
      "[1] \"Scaling data...\"\n"
     ]
    },
    {
     "name": "stderr",
     "output_type": "stream",
     "text": [
      "Centering and scaling data matrix\n",
      "\n"
     ]
    },
    {
     "name": "stdout",
     "output_type": "stream",
     "text": [
      "[1] \"Running PCA...\"\n",
      "[1] \"Calculating PC distance matrix...\"\n",
      "[1] \"Defining neighborhoods...\"\n",
      "[1] \"Computing pANN across all pK...\"\n",
      "[1] \"pK = 0.005...\"\n",
      "[1] \"pK = 0.01...\"\n",
      "[1] \"pK = 0.02...\"\n",
      "[1] \"pK = 0.03...\"\n",
      "[1] \"pK = 0.04...\"\n",
      "[1] \"pK = 0.05...\"\n",
      "[1] \"pK = 0.06...\"\n",
      "[1] \"pK = 0.07...\"\n",
      "[1] \"pK = 0.08...\"\n",
      "[1] \"pK = 0.09...\"\n",
      "[1] \"pK = 0.1...\"\n",
      "[1] \"pK = 0.11...\"\n",
      "[1] \"pK = 0.12...\"\n",
      "[1] \"pK = 0.13...\"\n",
      "[1] \"pK = 0.14...\"\n",
      "[1] \"pK = 0.15...\"\n",
      "[1] \"pK = 0.16...\"\n",
      "[1] \"pK = 0.17...\"\n",
      "[1] \"pK = 0.18...\"\n",
      "[1] \"pK = 0.19...\"\n",
      "[1] \"pK = 0.2...\"\n",
      "[1] \"pK = 0.21...\"\n",
      "[1] \"pK = 0.22...\"\n",
      "[1] \"pK = 0.23...\"\n",
      "[1] \"pK = 0.24...\"\n",
      "[1] \"pK = 0.25...\"\n",
      "[1] \"pK = 0.26...\"\n",
      "[1] \"pK = 0.27...\"\n",
      "[1] \"pK = 0.28...\"\n",
      "[1] \"pK = 0.29...\"\n",
      "[1] \"pK = 0.3...\"\n",
      "[1] \"Creating artificial doublets for pN = 20%\"\n",
      "[1] \"Creating Seurat object...\"\n",
      "[1] \"Normalizing Seurat object...\"\n"
     ]
    },
    {
     "name": "stderr",
     "output_type": "stream",
     "text": [
      "Normalizing layer: counts\n",
      "\n"
     ]
    },
    {
     "name": "stdout",
     "output_type": "stream",
     "text": [
      "[1] \"Finding variable genes...\"\n"
     ]
    },
    {
     "name": "stderr",
     "output_type": "stream",
     "text": [
      "Finding variable features for layer counts\n",
      "\n"
     ]
    },
    {
     "name": "stdout",
     "output_type": "stream",
     "text": [
      "[1] \"Scaling data...\"\n"
     ]
    },
    {
     "name": "stderr",
     "output_type": "stream",
     "text": [
      "Centering and scaling data matrix\n",
      "\n"
     ]
    },
    {
     "name": "stdout",
     "output_type": "stream",
     "text": [
      "[1] \"Running PCA...\"\n",
      "[1] \"Calculating PC distance matrix...\"\n",
      "[1] \"Defining neighborhoods...\"\n",
      "[1] \"Computing pANN across all pK...\"\n",
      "[1] \"pK = 0.005...\"\n",
      "[1] \"pK = 0.01...\"\n",
      "[1] \"pK = 0.02...\"\n",
      "[1] \"pK = 0.03...\"\n",
      "[1] \"pK = 0.04...\"\n",
      "[1] \"pK = 0.05...\"\n",
      "[1] \"pK = 0.06...\"\n",
      "[1] \"pK = 0.07...\"\n",
      "[1] \"pK = 0.08...\"\n",
      "[1] \"pK = 0.09...\"\n",
      "[1] \"pK = 0.1...\"\n",
      "[1] \"pK = 0.11...\"\n",
      "[1] \"pK = 0.12...\"\n",
      "[1] \"pK = 0.13...\"\n",
      "[1] \"pK = 0.14...\"\n",
      "[1] \"pK = 0.15...\"\n",
      "[1] \"pK = 0.16...\"\n",
      "[1] \"pK = 0.17...\"\n",
      "[1] \"pK = 0.18...\"\n",
      "[1] \"pK = 0.19...\"\n",
      "[1] \"pK = 0.2...\"\n",
      "[1] \"pK = 0.21...\"\n",
      "[1] \"pK = 0.22...\"\n",
      "[1] \"pK = 0.23...\"\n",
      "[1] \"pK = 0.24...\"\n",
      "[1] \"pK = 0.25...\"\n",
      "[1] \"pK = 0.26...\"\n",
      "[1] \"pK = 0.27...\"\n",
      "[1] \"pK = 0.28...\"\n",
      "[1] \"pK = 0.29...\"\n",
      "[1] \"pK = 0.3...\"\n",
      "[1] \"Creating artificial doublets for pN = 25%\"\n",
      "[1] \"Creating Seurat object...\"\n",
      "[1] \"Normalizing Seurat object...\"\n"
     ]
    },
    {
     "name": "stderr",
     "output_type": "stream",
     "text": [
      "Normalizing layer: counts\n",
      "\n"
     ]
    },
    {
     "name": "stdout",
     "output_type": "stream",
     "text": [
      "[1] \"Finding variable genes...\"\n"
     ]
    },
    {
     "name": "stderr",
     "output_type": "stream",
     "text": [
      "Finding variable features for layer counts\n",
      "\n"
     ]
    },
    {
     "name": "stdout",
     "output_type": "stream",
     "text": [
      "[1] \"Scaling data...\"\n"
     ]
    },
    {
     "name": "stderr",
     "output_type": "stream",
     "text": [
      "Centering and scaling data matrix\n",
      "\n"
     ]
    },
    {
     "name": "stdout",
     "output_type": "stream",
     "text": [
      "[1] \"Running PCA...\"\n",
      "[1] \"Calculating PC distance matrix...\"\n",
      "[1] \"Defining neighborhoods...\"\n",
      "[1] \"Computing pANN across all pK...\"\n",
      "[1] \"pK = 0.005...\"\n",
      "[1] \"pK = 0.01...\"\n",
      "[1] \"pK = 0.02...\"\n",
      "[1] \"pK = 0.03...\"\n",
      "[1] \"pK = 0.04...\"\n",
      "[1] \"pK = 0.05...\"\n",
      "[1] \"pK = 0.06...\"\n",
      "[1] \"pK = 0.07...\"\n",
      "[1] \"pK = 0.08...\"\n",
      "[1] \"pK = 0.09...\"\n",
      "[1] \"pK = 0.1...\"\n",
      "[1] \"pK = 0.11...\"\n",
      "[1] \"pK = 0.12...\"\n",
      "[1] \"pK = 0.13...\"\n",
      "[1] \"pK = 0.14...\"\n",
      "[1] \"pK = 0.15...\"\n",
      "[1] \"pK = 0.16...\"\n",
      "[1] \"pK = 0.17...\"\n",
      "[1] \"pK = 0.18...\"\n",
      "[1] \"pK = 0.19...\"\n",
      "[1] \"pK = 0.2...\"\n",
      "[1] \"pK = 0.21...\"\n",
      "[1] \"pK = 0.22...\"\n",
      "[1] \"pK = 0.23...\"\n",
      "[1] \"pK = 0.24...\"\n",
      "[1] \"pK = 0.25...\"\n",
      "[1] \"pK = 0.26...\"\n",
      "[1] \"pK = 0.27...\"\n",
      "[1] \"pK = 0.28...\"\n",
      "[1] \"pK = 0.29...\"\n",
      "[1] \"pK = 0.3...\"\n",
      "[1] \"Creating artificial doublets for pN = 30%\"\n",
      "[1] \"Creating Seurat object...\"\n",
      "[1] \"Normalizing Seurat object...\"\n"
     ]
    },
    {
     "name": "stderr",
     "output_type": "stream",
     "text": [
      "Normalizing layer: counts\n",
      "\n"
     ]
    },
    {
     "name": "stdout",
     "output_type": "stream",
     "text": [
      "[1] \"Finding variable genes...\"\n"
     ]
    },
    {
     "name": "stderr",
     "output_type": "stream",
     "text": [
      "Finding variable features for layer counts\n",
      "\n"
     ]
    },
    {
     "name": "stdout",
     "output_type": "stream",
     "text": [
      "[1] \"Scaling data...\"\n"
     ]
    },
    {
     "name": "stderr",
     "output_type": "stream",
     "text": [
      "Centering and scaling data matrix\n",
      "\n"
     ]
    },
    {
     "name": "stdout",
     "output_type": "stream",
     "text": [
      "[1] \"Running PCA...\"\n",
      "[1] \"Calculating PC distance matrix...\"\n",
      "[1] \"Defining neighborhoods...\"\n",
      "[1] \"Computing pANN across all pK...\"\n",
      "[1] \"pK = 0.005...\"\n",
      "[1] \"pK = 0.01...\"\n",
      "[1] \"pK = 0.02...\"\n",
      "[1] \"pK = 0.03...\"\n",
      "[1] \"pK = 0.04...\"\n",
      "[1] \"pK = 0.05...\"\n",
      "[1] \"pK = 0.06...\"\n",
      "[1] \"pK = 0.07...\"\n",
      "[1] \"pK = 0.08...\"\n",
      "[1] \"pK = 0.09...\"\n",
      "[1] \"pK = 0.1...\"\n",
      "[1] \"pK = 0.11...\"\n",
      "[1] \"pK = 0.12...\"\n",
      "[1] \"pK = 0.13...\"\n",
      "[1] \"pK = 0.14...\"\n",
      "[1] \"pK = 0.15...\"\n",
      "[1] \"pK = 0.16...\"\n",
      "[1] \"pK = 0.17...\"\n",
      "[1] \"pK = 0.18...\"\n",
      "[1] \"pK = 0.19...\"\n",
      "[1] \"pK = 0.2...\"\n",
      "[1] \"pK = 0.21...\"\n",
      "[1] \"pK = 0.22...\"\n",
      "[1] \"pK = 0.23...\"\n",
      "[1] \"pK = 0.24...\"\n",
      "[1] \"pK = 0.25...\"\n",
      "[1] \"pK = 0.26...\"\n",
      "[1] \"pK = 0.27...\"\n",
      "[1] \"pK = 0.28...\"\n",
      "[1] \"pK = 0.29...\"\n",
      "[1] \"pK = 0.3...\"\n"
     ]
    },
    {
     "name": "stderr",
     "output_type": "stream",
     "text": [
      "Loading required package: ROCR\n",
      "\n"
     ]
    },
    {
     "name": "stdout",
     "output_type": "stream",
     "text": [
      "NULL\n"
     ]
    },
    {
     "data": {
      "image/png": "[encoded data removed]",
      "text/plain": [
       "plot without title"
      ]
     },
     "metadata": {
      "image/png": {
       "height": 420,
       "width": 420
      }
     },
     "output_type": "display_data"
    }
   ],
   "source": [
    "library(DoubletFinder)\n",
    "set.seed(123)\n",
    "sweep.res.list <- paramSweep(srat, PCs=1:10, sct=FALSE)\n",
    "sweep.stats <- summarizeSweep(sweep.res.list, GT=FALSE)\n",
    "bcmvn <- find.pK(sweep.stats)"
   ]
  },
  {
   "cell_type": "code",
   "execution_count": 13,
   "id": "e479ac6d-d496-470c-9a16-100b42ed3230",
   "metadata": {},
   "outputs": [
    {
     "data": {
      "text/plain": [
       "[1] ‘2.0.4’"
      ]
     },
     "metadata": {},
     "output_type": "display_data"
    }
   ],
   "source": [
    "packageVersion(\"DoubletFinder\")"
   ]
  },
  {
   "cell_type": "code",
   "execution_count": 22,
   "id": "b491b148-37ef-42d3-bdd2-06a23649ed5a",
   "metadata": {},
   "outputs": [],
   "source": [
    "nExp_poi <- round(0.075*nrow(srat@meta.data)) "
   ]
  },
  {
   "cell_type": "code",
   "execution_count": 27,
   "id": "9c34ee13-cb5d-40cc-aa74-94640116fb8f",
   "metadata": {},
   "outputs": [
    {
     "name": "stdout",
     "output_type": "stream",
     "text": [
      "[1] \"Creating 833 artificial doublets...\"\n",
      "[1] \"Creating Seurat object...\"\n",
      "[1] \"Normalizing Seurat object...\"\n"
     ]
    },
    {
     "name": "stderr",
     "output_type": "stream",
     "text": [
      "Normalizing layer: counts\n",
      "\n"
     ]
    },
    {
     "name": "stdout",
     "output_type": "stream",
     "text": [
      "[1] \"Finding variable genes...\"\n"
     ]
    },
    {
     "name": "stderr",
     "output_type": "stream",
     "text": [
      "Finding variable features for layer counts\n",
      "\n"
     ]
    },
    {
     "name": "stdout",
     "output_type": "stream",
     "text": [
      "[1] \"Scaling data...\"\n"
     ]
    },
    {
     "name": "stderr",
     "output_type": "stream",
     "text": [
      "Centering and scaling data matrix\n",
      "\n"
     ]
    },
    {
     "name": "stdout",
     "output_type": "stream",
     "text": [
      "[1] \"Running PCA...\"\n",
      "[1] \"Calculating PC distance matrix...\"\n",
      "[1] \"Computing pANN...\"\n",
      "[1] \"Classifying doublets..\"\n"
     ]
    }
   ],
   "source": [
    "srat <- doubletFinder(srat, PCs = 1:10, pN = 0.25, pK = 0.09, nExp = nExp_poi, reuse.pANN = FALSE, sct = FALSE)"
   ]
  },
  {
   "cell_type": "code",
   "execution_count": 35,
   "id": "03a71a62-a07a-4ee5-8f66-5572962b0845",
   "metadata": {},
   "outputs": [
    {
     "data": {
      "text/html": [
       "<table class=\"dataframe\">\n",
       "<caption>A data.frame: 2500 × 21</caption>\n",
       "<thead>\n",
       "\t<tr><th></th><th scope=col>orig.ident</th><th scope=col>nCount_RNA</th><th scope=col>nFeature_RNA</th><th scope=col>channel</th><th scope=col>tissue</th><th scope=col>subtissue</th><th scope=col>mouse.sex</th><th scope=col>mouse.id</th><th scope=col>percent.ercc</th><th scope=col>percent.ribo</th><th scope=col>⋯</th><th scope=col>cell_ontology_class</th><th scope=col>res.0.4</th><th scope=col>previous_free_annotation</th><th scope=col>previous_cell_ontology_class</th><th scope=col>cluster.ids</th><th scope=col>cell_ontology_id</th><th scope=col>Double_score</th><th scope=col>Is_Double</th><th scope=col>Double_score1</th><th scope=col>Is_Double1</th></tr>\n",
       "\t<tr><th></th><th scope=col>&lt;fct&gt;</th><th scope=col>&lt;dbl&gt;</th><th scope=col>&lt;int&gt;</th><th scope=col>&lt;fct&gt;</th><th scope=col>&lt;fct&gt;</th><th scope=col>&lt;fct&gt;</th><th scope=col>&lt;fct&gt;</th><th scope=col>&lt;fct&gt;</th><th scope=col>&lt;dbl&gt;</th><th scope=col>&lt;dbl&gt;</th><th scope=col>⋯</th><th scope=col>&lt;chr&gt;</th><th scope=col>&lt;chr&gt;</th><th scope=col>&lt;chr&gt;</th><th scope=col>&lt;chr&gt;</th><th scope=col>&lt;chr&gt;</th><th scope=col>&lt;chr&gt;</th><th scope=col>&lt;dbl&gt;</th><th scope=col>&lt;chr&gt;</th><th scope=col>&lt;dbl&gt;</th><th scope=col>&lt;chr&gt;</th></tr>\n",
       "</thead>\n",
       "<tbody>\n",
       "\t<tr><th scope=row>10X_P4_3_AAAGTAGAGATGCCAG</th><td>10X</td><td>10291</td><td>2853</td><td>10X_P4_3</td><td>Bladder</td><td></td><td>M</td><td>3-M-8</td><td>0</td><td>0.21960937</td><td>⋯</td><td>bladder cell           </td><td>0</td><td>NA</td><td>NA</td><td>0</td><td>CL:1001319</td><td>0.05666667</td><td>Singlet</td><td>0.05666667</td><td>Singlet</td></tr>\n",
       "\t<tr><th scope=row>10X_P4_3_AACCGCGTCCAACCAA</th><td>10X</td><td>17520</td><td>4194</td><td>10X_P4_3</td><td>Bladder</td><td></td><td>M</td><td>3-M-8</td><td>0</td><td>0.17671233</td><td>⋯</td><td>bladder cell           </td><td>2</td><td>NA</td><td>NA</td><td>2</td><td>CL:1001319</td><td>0.23000000</td><td>Singlet</td><td>0.23000000</td><td>Singlet</td></tr>\n",
       "\t<tr><th scope=row>10X_P4_3_AACTCCCGTCGGGTCT</th><td>10X</td><td>12944</td><td>3347</td><td>10X_P4_3</td><td>Bladder</td><td></td><td>M</td><td>3-M-8</td><td>0</td><td>0.19244438</td><td>⋯</td><td>bladder cell           </td><td>5</td><td>NA</td><td>NA</td><td>5</td><td>CL:1001319</td><td>0.15000000</td><td>Singlet</td><td>0.15000000</td><td>Singlet</td></tr>\n",
       "\t<tr><th scope=row>10X_P4_3_AACTCTTAGTTGCAGG</th><td>10X</td><td>19594</td><td>3851</td><td>10X_P4_3</td><td>Bladder</td><td></td><td>M</td><td>3-M-8</td><td>0</td><td>0.35638461</td><td>⋯</td><td>bladder urothelial cell</td><td>3</td><td>NA</td><td>NA</td><td>3</td><td>CL:1001428</td><td>0.26000000</td><td>Singlet</td><td>0.26000000</td><td>Singlet</td></tr>\n",
       "\t<tr><th scope=row>10X_P4_3_AACTCTTTCATAACCG</th><td>10X</td><td>14594</td><td>3809</td><td>10X_P4_3</td><td>Bladder</td><td></td><td>M</td><td>3-M-8</td><td>0</td><td>0.15711936</td><td>⋯</td><td>bladder cell           </td><td>2</td><td>NA</td><td>NA</td><td>2</td><td>CL:1001319</td><td>0.16000000</td><td>Singlet</td><td>0.16000000</td><td>Singlet</td></tr>\n",
       "\t<tr><th scope=row>10X_P4_3_AAGACCTAGATCCGAG</th><td>10X</td><td>19190</td><td>3608</td><td>10X_P4_3</td><td>Bladder</td><td></td><td>M</td><td>3-M-8</td><td>0</td><td>0.23778009</td><td>⋯</td><td>leukocyte              </td><td>6</td><td>NA</td><td>NA</td><td>6</td><td>CL:0000738</td><td>0.43333333</td><td>Doublet</td><td>0.43333333</td><td>Doublet</td></tr>\n",
       "\t<tr><th scope=row>10X_P4_3_AAGACCTAGGTGGGTT</th><td>10X</td><td>24484</td><td>4347</td><td>10X_P4_3</td><td>Bladder</td><td></td><td>M</td><td>3-M-8</td><td>0</td><td>0.32809182</td><td>⋯</td><td>bladder urothelial cell</td><td>1</td><td>NA</td><td>NA</td><td>1</td><td>CL:1001428</td><td>0.25333333</td><td>Singlet</td><td>0.25333333</td><td>Singlet</td></tr>\n",
       "\t<tr><th scope=row>10X_P4_3_AAGGAGCGTGCAACTT</th><td>10X</td><td> 5005</td><td>1960</td><td>10X_P4_3</td><td>Bladder</td><td></td><td>M</td><td>3-M-8</td><td>0</td><td>0.19020979</td><td>⋯</td><td>bladder cell           </td><td>0</td><td>NA</td><td>NA</td><td>0</td><td>CL:1001319</td><td>0.06000000</td><td>Singlet</td><td>0.06000000</td><td>Singlet</td></tr>\n",
       "\t<tr><th scope=row>10X_P4_3_AAGTCTGAGATAGTCA</th><td>10X</td><td> 6253</td><td>2236</td><td>10X_P4_3</td><td>Bladder</td><td></td><td>M</td><td>3-M-8</td><td>0</td><td>0.22597153</td><td>⋯</td><td>bladder urothelial cell</td><td>4</td><td>NA</td><td>NA</td><td>4</td><td>CL:1001428</td><td>0.25666667</td><td>Singlet</td><td>0.25666667</td><td>Singlet</td></tr>\n",
       "\t<tr><th scope=row>10X_P4_3_ACAGCTATCATACGGT</th><td>10X</td><td>15910</td><td>3374</td><td>10X_P4_3</td><td>Bladder</td><td></td><td>M</td><td>3-M-8</td><td>0</td><td>0.33777498</td><td>⋯</td><td>bladder urothelial cell</td><td>1</td><td>NA</td><td>NA</td><td>1</td><td>CL:1001428</td><td>0.14666667</td><td>Singlet</td><td>0.14666667</td><td>Singlet</td></tr>\n",
       "\t<tr><th scope=row>10X_P4_3_ACATACGCAGCTCCGA</th><td>10X</td><td> 2881</td><td>1558</td><td>10X_P4_3</td><td>Bladder</td><td></td><td>M</td><td>3-M-8</td><td>0</td><td>0.13259285</td><td>⋯</td><td>bladder urothelial cell</td><td>4</td><td>NA</td><td>NA</td><td>4</td><td>CL:1001428</td><td>0.22666667</td><td>Singlet</td><td>0.22666667</td><td>Singlet</td></tr>\n",
       "\t<tr><th scope=row>10X_P4_3_ACCAGTACACGTCTCT</th><td>10X</td><td> 6894</td><td>2348</td><td>10X_P4_3</td><td>Bladder</td><td></td><td>M</td><td>3-M-8</td><td>0</td><td>0.20075428</td><td>⋯</td><td>bladder cell           </td><td>0</td><td>NA</td><td>NA</td><td>0</td><td>CL:1001319</td><td>0.06000000</td><td>Singlet</td><td>0.06000000</td><td>Singlet</td></tr>\n",
       "\t<tr><th scope=row>10X_P4_3_ACGAGCCAGATAGCAT</th><td>10X</td><td> 9658</td><td>3141</td><td>10X_P4_3</td><td>Bladder</td><td></td><td>M</td><td>3-M-8</td><td>0</td><td>0.16328432</td><td>⋯</td><td>bladder cell           </td><td>0</td><td>NA</td><td>NA</td><td>0</td><td>CL:1001319</td><td>0.09333333</td><td>Singlet</td><td>0.09333333</td><td>Singlet</td></tr>\n",
       "\t<tr><th scope=row>10X_P4_3_ACGGAGATCGGAATCT</th><td>10X</td><td>11623</td><td>3357</td><td>10X_P4_3</td><td>Bladder</td><td></td><td>M</td><td>3-M-8</td><td>0</td><td>0.15701626</td><td>⋯</td><td>bladder cell           </td><td>2</td><td>NA</td><td>NA</td><td>2</td><td>CL:1001319</td><td>0.12333333</td><td>Singlet</td><td>0.12333333</td><td>Singlet</td></tr>\n",
       "\t<tr><th scope=row>10X_P4_3_ACGGGCTGTCTGATCA</th><td>10X</td><td> 6878</td><td>2285</td><td>10X_P4_3</td><td>Bladder</td><td></td><td>M</td><td>3-M-8</td><td>0</td><td>0.17214306</td><td>⋯</td><td>bladder cell           </td><td>0</td><td>NA</td><td>NA</td><td>0</td><td>CL:1001319</td><td>0.06000000</td><td>Singlet</td><td>0.06000000</td><td>Singlet</td></tr>\n",
       "\t<tr><th scope=row>10X_P4_3_ACTGAACCATCCGGGT</th><td>10X</td><td> 7428</td><td>2319</td><td>10X_P4_3</td><td>Bladder</td><td></td><td>M</td><td>3-M-8</td><td>0</td><td>0.17514809</td><td>⋯</td><td>bladder cell           </td><td>0</td><td>NA</td><td>NA</td><td>0</td><td>CL:1001319</td><td>0.24000000</td><td>Singlet</td><td>0.24000000</td><td>Singlet</td></tr>\n",
       "\t<tr><th scope=row>10X_P4_3_ACTTTCAAGATGGGTC</th><td>10X</td><td>10302</td><td>2875</td><td>10X_P4_3</td><td>Bladder</td><td></td><td>M</td><td>3-M-8</td><td>0</td><td>0.31819064</td><td>⋯</td><td>bladder urothelial cell</td><td>1</td><td>NA</td><td>NA</td><td>1</td><td>CL:1001428</td><td>0.14333333</td><td>Singlet</td><td>0.14333333</td><td>Singlet</td></tr>\n",
       "\t<tr><th scope=row>10X_P4_3_AGACGTTTCTTACCGC</th><td>10X</td><td>10187</td><td>3197</td><td>10X_P4_3</td><td>Bladder</td><td></td><td>M</td><td>3-M-8</td><td>0</td><td>0.09207814</td><td>⋯</td><td>bladder cell           </td><td>5</td><td>NA</td><td>NA</td><td>5</td><td>CL:1001319</td><td>0.19666667</td><td>Singlet</td><td>0.19666667</td><td>Singlet</td></tr>\n",
       "\t<tr><th scope=row>10X_P4_3_AGAGCTTTCTGTTGAG</th><td>10X</td><td>25039</td><td>4812</td><td>10X_P4_3</td><td>Bladder</td><td></td><td>M</td><td>3-M-8</td><td>0</td><td>0.18882543</td><td>⋯</td><td>bladder cell           </td><td>2</td><td>NA</td><td>NA</td><td>2</td><td>CL:1001319</td><td>0.18666667</td><td>Singlet</td><td>0.18666667</td><td>Singlet</td></tr>\n",
       "\t<tr><th scope=row>10X_P4_3_AGCGGTCTCTGAGTGT</th><td>10X</td><td>23497</td><td>4152</td><td>10X_P4_3</td><td>Bladder</td><td></td><td>M</td><td>3-M-8</td><td>0</td><td>0.36498276</td><td>⋯</td><td>bladder urothelial cell</td><td>1</td><td>NA</td><td>NA</td><td>1</td><td>CL:1001428</td><td>0.25000000</td><td>Singlet</td><td>0.25000000</td><td>Singlet</td></tr>\n",
       "\t<tr><th scope=row>10X_P4_3_AGCTTGAAGACTAAGT</th><td>10X</td><td> 3102</td><td>1431</td><td>10X_P4_3</td><td>Bladder</td><td></td><td>M</td><td>3-M-8</td><td>0</td><td>0.12250161</td><td>⋯</td><td>bladder cell           </td><td>0</td><td>NA</td><td>NA</td><td>0</td><td>CL:1001319</td><td>0.03000000</td><td>Singlet</td><td>0.03000000</td><td>Singlet</td></tr>\n",
       "\t<tr><th scope=row>10X_P4_3_AGGGAGTCAATCGGTT</th><td>10X</td><td> 6981</td><td>2323</td><td>10X_P4_3</td><td>Bladder</td><td></td><td>M</td><td>3-M-8</td><td>0</td><td>0.20369575</td><td>⋯</td><td>bladder cell           </td><td>0</td><td>NA</td><td>NA</td><td>0</td><td>CL:1001319</td><td>0.15000000</td><td>Singlet</td><td>0.15000000</td><td>Singlet</td></tr>\n",
       "\t<tr><th scope=row>10X_P4_3_AGGGATGAGTCGCCGT</th><td>10X</td><td> 5259</td><td>1975</td><td>10X_P4_3</td><td>Bladder</td><td></td><td>M</td><td>3-M-8</td><td>0</td><td>0.16600114</td><td>⋯</td><td>bladder cell           </td><td>0</td><td>NA</td><td>NA</td><td>0</td><td>CL:1001319</td><td>0.18000000</td><td>Singlet</td><td>0.18000000</td><td>Singlet</td></tr>\n",
       "\t<tr><th scope=row>10X_P4_3_AGGGTGACAGTCGTGC</th><td>10X</td><td>11231</td><td>3314</td><td>10X_P4_3</td><td>Bladder</td><td></td><td>M</td><td>3-M-8</td><td>0</td><td>0.16222954</td><td>⋯</td><td>bladder cell           </td><td>0</td><td>NA</td><td>NA</td><td>0</td><td>CL:1001319</td><td>0.20333333</td><td>Singlet</td><td>0.20333333</td><td>Singlet</td></tr>\n",
       "\t<tr><th scope=row>10X_P4_3_AGGTCCGAGGACACCA</th><td>10X</td><td>26565</td><td>5040</td><td>10X_P4_3</td><td>Bladder</td><td></td><td>M</td><td>3-M-8</td><td>0</td><td>0.27174854</td><td>⋯</td><td>bladder urothelial cell</td><td>1</td><td>NA</td><td>NA</td><td>1</td><td>CL:1001428</td><td>0.31666667</td><td>Doublet</td><td>0.31666667</td><td>Doublet</td></tr>\n",
       "\t<tr><th scope=row>10X_P4_3_AGTCTTTAGCTAGTGG</th><td>10X</td><td> 2277</td><td>1098</td><td>10X_P4_3</td><td>Bladder</td><td></td><td>M</td><td>3-M-8</td><td>0</td><td>0.16161616</td><td>⋯</td><td>bladder cell           </td><td>0</td><td>NA</td><td>NA</td><td>0</td><td>CL:1001319</td><td>0.07333333</td><td>Singlet</td><td>0.07333333</td><td>Singlet</td></tr>\n",
       "\t<tr><th scope=row>10X_P4_3_AGTGAGGAGTGTACTC</th><td>10X</td><td> 4800</td><td>1888</td><td>10X_P4_3</td><td>Bladder</td><td></td><td>M</td><td>3-M-8</td><td>0</td><td>0.13708333</td><td>⋯</td><td>bladder cell           </td><td>0</td><td>NA</td><td>NA</td><td>0</td><td>CL:1001319</td><td>0.11333333</td><td>Singlet</td><td>0.11333333</td><td>Singlet</td></tr>\n",
       "\t<tr><th scope=row>10X_P4_3_AGTGAGGTCAGCATGT</th><td>10X</td><td>19882</td><td>3884</td><td>10X_P4_3</td><td>Bladder</td><td></td><td>M</td><td>3-M-8</td><td>0</td><td>0.31520974</td><td>⋯</td><td>bladder urothelial cell</td><td>1</td><td>NA</td><td>NA</td><td>1</td><td>CL:1001428</td><td>0.26666667</td><td>Singlet</td><td>0.26666667</td><td>Singlet</td></tr>\n",
       "\t<tr><th scope=row>10X_P4_3_AGTGTCACAGTATCTG</th><td>10X</td><td> 6171</td><td>2299</td><td>10X_P4_3</td><td>Bladder</td><td></td><td>M</td><td>3-M-8</td><td>0</td><td>0.11181332</td><td>⋯</td><td>bladder cell           </td><td>5</td><td>NA</td><td>NA</td><td>5</td><td>CL:1001319</td><td>0.09666667</td><td>Singlet</td><td>0.09666667</td><td>Singlet</td></tr>\n",
       "\t<tr><th scope=row>10X_P4_3_ATCACGACAACAACCT</th><td>10X</td><td>14113</td><td>3699</td><td>10X_P4_3</td><td>Bladder</td><td></td><td>M</td><td>3-M-8</td><td>0</td><td>0.14065046</td><td>⋯</td><td>bladder cell           </td><td>2</td><td>NA</td><td>NA</td><td>2</td><td>CL:1001319</td><td>0.30000000</td><td>Doublet</td><td>0.30000000</td><td>Doublet</td></tr>\n",
       "\t<tr><th scope=row>⋮</th><td>⋮</td><td>⋮</td><td>⋮</td><td>⋮</td><td>⋮</td><td>⋮</td><td>⋮</td><td>⋮</td><td>⋮</td><td>⋮</td><td>⋱</td><td>⋮</td><td>⋮</td><td>⋮</td><td>⋮</td><td>⋮</td><td>⋮</td><td>⋮</td><td>⋮</td><td>⋮</td><td>⋮</td></tr>\n",
       "\t<tr><th scope=row>10X_P7_7_TGTTCCGAGCTAACTC</th><td>10X</td><td>23228</td><td>4255</td><td>10X_P7_7</td><td>Bladder</td><td></td><td>F</td><td>3-F-56</td><td>0</td><td>0.34092475</td><td>⋯</td><td>bladder urothelial cell</td><td>1</td><td>NA</td><td>NA</td><td>1</td><td>CL:1001428</td><td>0.24000000</td><td>Singlet</td><td>0.24000000</td><td>Singlet</td></tr>\n",
       "\t<tr><th scope=row>10X_P7_7_TGTTCCGAGCTCCCAG</th><td>10X</td><td>42860</td><td>5745</td><td>10X_P7_7</td><td>Bladder</td><td></td><td>F</td><td>3-F-56</td><td>0</td><td>0.37134858</td><td>⋯</td><td>bladder urothelial cell</td><td>1</td><td>NA</td><td>NA</td><td>1</td><td>CL:1001428</td><td>0.26666667</td><td>Singlet</td><td>0.26666667</td><td>Singlet</td></tr>\n",
       "\t<tr><th scope=row>10X_P7_7_TTAACTCGTCTCTTTA</th><td>10X</td><td>35751</td><td>5422</td><td>10X_P7_7</td><td>Bladder</td><td></td><td>F</td><td>3-F-56</td><td>0</td><td>0.24913988</td><td>⋯</td><td>bladder urothelial cell</td><td>1</td><td>NA</td><td>NA</td><td>1</td><td>CL:1001428</td><td>0.20666667</td><td>Singlet</td><td>0.20666667</td><td>Singlet</td></tr>\n",
       "\t<tr><th scope=row>10X_P7_7_TTAACTCTCAGAGACG</th><td>10X</td><td>31618</td><td>4440</td><td>10X_P7_7</td><td>Bladder</td><td></td><td>F</td><td>3-F-56</td><td>0</td><td>0.34100829</td><td>⋯</td><td>bladder urothelial cell</td><td>4</td><td>NA</td><td>NA</td><td>4</td><td>CL:1001428</td><td>0.27666667</td><td>Doublet</td><td>0.27666667</td><td>Doublet</td></tr>\n",
       "\t<tr><th scope=row>10X_P7_7_TTAGGACAGACAAAGG</th><td>10X</td><td> 9988</td><td>3201</td><td>10X_P7_7</td><td>Bladder</td><td></td><td>F</td><td>3-F-56</td><td>0</td><td>0.14717661</td><td>⋯</td><td>bladder cell           </td><td>5</td><td>NA</td><td>NA</td><td>5</td><td>CL:1001319</td><td>0.20666667</td><td>Singlet</td><td>0.20666667</td><td>Singlet</td></tr>\n",
       "\t<tr><th scope=row>10X_P7_7_TTAGGACCAGGGTACA</th><td>10X</td><td>11756</td><td>2880</td><td>10X_P7_7</td><td>Bladder</td><td></td><td>F</td><td>3-F-56</td><td>0</td><td>0.31405240</td><td>⋯</td><td>bladder urothelial cell</td><td>1</td><td>NA</td><td>NA</td><td>1</td><td>CL:1001428</td><td>0.24666667</td><td>Singlet</td><td>0.24666667</td><td>Singlet</td></tr>\n",
       "\t<tr><th scope=row>10X_P7_7_TTAGGACGTCTCCCTA</th><td>10X</td><td> 8516</td><td>2732</td><td>10X_P7_7</td><td>Bladder</td><td></td><td>F</td><td>3-F-56</td><td>0</td><td>0.14560827</td><td>⋯</td><td>bladder cell           </td><td>5</td><td>NA</td><td>NA</td><td>5</td><td>CL:1001319</td><td>0.17666667</td><td>Singlet</td><td>0.17666667</td><td>Singlet</td></tr>\n",
       "\t<tr><th scope=row>10X_P7_7_TTATGCTAGCCATCGC</th><td>10X</td><td>14870</td><td>3657</td><td>10X_P7_7</td><td>Bladder</td><td></td><td>F</td><td>3-F-56</td><td>0</td><td>0.32313383</td><td>⋯</td><td>bladder urothelial cell</td><td>1</td><td>NA</td><td>NA</td><td>1</td><td>CL:1001428</td><td>0.19000000</td><td>Singlet</td><td>0.19000000</td><td>Singlet</td></tr>\n",
       "\t<tr><th scope=row>10X_P7_7_TTATGCTCAGATGAGC</th><td>10X</td><td>16126</td><td>3372</td><td>10X_P7_7</td><td>Bladder</td><td></td><td>F</td><td>3-F-56</td><td>0</td><td>0.26851048</td><td>⋯</td><td>bladder urothelial cell</td><td>4</td><td>NA</td><td>NA</td><td>4</td><td>CL:1001428</td><td>0.28000000</td><td>Doublet</td><td>0.28000000</td><td>Doublet</td></tr>\n",
       "\t<tr><th scope=row>10X_P7_7_TTATGCTCAGCGTTCG</th><td>10X</td><td> 4938</td><td>1528</td><td>10X_P7_7</td><td>Bladder</td><td></td><td>F</td><td>3-F-56</td><td>0</td><td>0.04597003</td><td>⋯</td><td>leukocyte              </td><td>6</td><td>NA</td><td>NA</td><td>6</td><td>CL:0000738</td><td>0.22000000</td><td>Singlet</td><td>0.22000000</td><td>Singlet</td></tr>\n",
       "\t<tr><th scope=row>10X_P7_7_TTATGCTTCCGAACGC</th><td>10X</td><td>11558</td><td>2319</td><td>10X_P7_7</td><td>Bladder</td><td></td><td>F</td><td>3-F-56</td><td>0</td><td>0.11792698</td><td>⋯</td><td>leukocyte              </td><td>6</td><td>NA</td><td>NA</td><td>6</td><td>CL:0000738</td><td>0.37000000</td><td>Doublet</td><td>0.37000000</td><td>Doublet</td></tr>\n",
       "\t<tr><th scope=row>10X_P7_7_TTATGCTTCCGCGGTA</th><td>10X</td><td> 6376</td><td>2580</td><td>10X_P7_7</td><td>Bladder</td><td></td><td>F</td><td>3-F-56</td><td>0</td><td>0.12531368</td><td>⋯</td><td>bladder cell           </td><td>0</td><td>NA</td><td>NA</td><td>0</td><td>CL:1001319</td><td>0.12000000</td><td>Singlet</td><td>0.12000000</td><td>Singlet</td></tr>\n",
       "\t<tr><th scope=row>10X_P7_7_TTCCCAGTCATGTGGT</th><td>10X</td><td>34918</td><td>5002</td><td>10X_P7_7</td><td>Bladder</td><td></td><td>F</td><td>3-F-56</td><td>0</td><td>0.29950169</td><td>⋯</td><td>bladder urothelial cell</td><td>1</td><td>NA</td><td>NA</td><td>1</td><td>CL:1001428</td><td>0.19666667</td><td>Singlet</td><td>0.19666667</td><td>Singlet</td></tr>\n",
       "\t<tr><th scope=row>10X_P7_7_TTCGGTCAGTGCGTGA</th><td>10X</td><td>14304</td><td>3511</td><td>10X_P7_7</td><td>Bladder</td><td></td><td>F</td><td>3-F-56</td><td>0</td><td>0.16072427</td><td>⋯</td><td>bladder cell           </td><td>5</td><td>NA</td><td>NA</td><td>5</td><td>CL:1001319</td><td>0.17000000</td><td>Singlet</td><td>0.17000000</td><td>Singlet</td></tr>\n",
       "\t<tr><th scope=row>10X_P7_7_TTCGGTCCAGCGTAAG</th><td>10X</td><td>22793</td><td>4562</td><td>10X_P7_7</td><td>Bladder</td><td></td><td>F</td><td>3-F-56</td><td>0</td><td>0.24985741</td><td>⋯</td><td>bladder urothelial cell</td><td>1</td><td>NA</td><td>NA</td><td>1</td><td>CL:1001428</td><td>0.31000000</td><td>Doublet</td><td>0.31000000</td><td>Doublet</td></tr>\n",
       "\t<tr><th scope=row>10X_P7_7_TTCGGTCTCCGGGTGT</th><td>10X</td><td> 8380</td><td>2764</td><td>10X_P7_7</td><td>Bladder</td><td></td><td>F</td><td>3-F-56</td><td>0</td><td>0.14439141</td><td>⋯</td><td>bladder cell           </td><td>5</td><td>NA</td><td>NA</td><td>5</td><td>CL:1001319</td><td>0.16000000</td><td>Singlet</td><td>0.16000000</td><td>Singlet</td></tr>\n",
       "\t<tr><th scope=row>10X_P7_7_TTCTCAAAGAGCCCAA</th><td>10X</td><td>37286</td><td>5356</td><td>10X_P7_7</td><td>Bladder</td><td></td><td>F</td><td>3-F-56</td><td>0</td><td>0.36834201</td><td>⋯</td><td>bladder urothelial cell</td><td>1</td><td>NA</td><td>NA</td><td>1</td><td>CL:1001428</td><td>0.27000000</td><td>Singlet</td><td>0.27000000</td><td>Singlet</td></tr>\n",
       "\t<tr><th scope=row>10X_P7_7_TTCTCAACAAACGTGG</th><td>10X</td><td>14565</td><td>3769</td><td>10X_P7_7</td><td>Bladder</td><td></td><td>F</td><td>3-F-56</td><td>0</td><td>0.11342259</td><td>⋯</td><td>bladder cell           </td><td>5</td><td>NA</td><td>NA</td><td>5</td><td>CL:1001319</td><td>0.17333333</td><td>Singlet</td><td>0.17333333</td><td>Singlet</td></tr>\n",
       "\t<tr><th scope=row>10X_P7_7_TTGAACGAGATGTCGG</th><td>10X</td><td> 9558</td><td>2972</td><td>10X_P7_7</td><td>Bladder</td><td></td><td>F</td><td>3-F-56</td><td>0</td><td>0.16970077</td><td>⋯</td><td>bladder cell           </td><td>5</td><td>NA</td><td>NA</td><td>5</td><td>CL:1001319</td><td>0.15000000</td><td>Singlet</td><td>0.15000000</td><td>Singlet</td></tr>\n",
       "\t<tr><th scope=row>10X_P7_7_TTGCGTCCAAAGTGCG</th><td>10X</td><td>11456</td><td>3241</td><td>10X_P7_7</td><td>Bladder</td><td></td><td>F</td><td>3-F-56</td><td>0</td><td>0.16096369</td><td>⋯</td><td>bladder cell           </td><td>5</td><td>NA</td><td>NA</td><td>5</td><td>CL:1001319</td><td>0.16333333</td><td>Singlet</td><td>0.16333333</td><td>Singlet</td></tr>\n",
       "\t<tr><th scope=row>10X_P7_7_TTGCGTCGTAGGACAC</th><td>10X</td><td>21269</td><td>3633</td><td>10X_P7_7</td><td>Bladder</td><td></td><td>F</td><td>3-F-56</td><td>0</td><td>0.34331656</td><td>⋯</td><td>bladder urothelial cell</td><td>1</td><td>NA</td><td>NA</td><td>1</td><td>CL:1001428</td><td>0.28666667</td><td>Doublet</td><td>0.28666667</td><td>Doublet</td></tr>\n",
       "\t<tr><th scope=row>10X_P7_7_TTGGAACAGTAGATGT</th><td>10X</td><td> 8974</td><td>2831</td><td>10X_P7_7</td><td>Bladder</td><td></td><td>F</td><td>3-F-56</td><td>0</td><td>0.13527970</td><td>⋯</td><td>bladder cell           </td><td>5</td><td>NA</td><td>NA</td><td>5</td><td>CL:1001319</td><td>0.18333333</td><td>Singlet</td><td>0.18333333</td><td>Singlet</td></tr>\n",
       "\t<tr><th scope=row>10X_P7_7_TTGGAACGTCTAGTCA</th><td>10X</td><td> 6607</td><td>2546</td><td>10X_P7_7</td><td>Bladder</td><td></td><td>F</td><td>3-F-56</td><td>0</td><td>0.13319207</td><td>⋯</td><td>bladder cell           </td><td>0</td><td>NA</td><td>NA</td><td>0</td><td>CL:1001319</td><td>0.07333333</td><td>Singlet</td><td>0.07333333</td><td>Singlet</td></tr>\n",
       "\t<tr><th scope=row>10X_P7_7_TTGGAACGTGTCGCTG</th><td>10X</td><td>50069</td><td>5641</td><td>10X_P7_7</td><td>Bladder</td><td></td><td>F</td><td>3-F-56</td><td>0</td><td>0.40040744</td><td>⋯</td><td>bladder urothelial cell</td><td>4</td><td>NA</td><td>NA</td><td>4</td><td>CL:1001428</td><td>0.24333333</td><td>Singlet</td><td>0.24333333</td><td>Singlet</td></tr>\n",
       "\t<tr><th scope=row>10X_P7_7_TTGTAGGCACTTGGAT</th><td>10X</td><td> 9666</td><td>3087</td><td>10X_P7_7</td><td>Bladder</td><td></td><td>F</td><td>3-F-56</td><td>0</td><td>0.10862818</td><td>⋯</td><td>endothelial cell       </td><td>7</td><td>NA</td><td>NA</td><td>7</td><td>CL:0000115</td><td>0.14666667</td><td>Singlet</td><td>0.14666667</td><td>Singlet</td></tr>\n",
       "\t<tr><th scope=row>10X_P7_7_TTGTAGGTCATGTAGC</th><td>10X</td><td>22993</td><td>4296</td><td>10X_P7_7</td><td>Bladder</td><td></td><td>F</td><td>3-F-56</td><td>0</td><td>0.28678293</td><td>⋯</td><td>bladder urothelial cell</td><td>1</td><td>NA</td><td>NA</td><td>1</td><td>CL:1001428</td><td>0.20666667</td><td>Singlet</td><td>0.20666667</td><td>Singlet</td></tr>\n",
       "\t<tr><th scope=row>10X_P7_7_TTTACTGGTGTTGAGG</th><td>10X</td><td> 8753</td><td>3005</td><td>10X_P7_7</td><td>Bladder</td><td></td><td>F</td><td>3-F-56</td><td>0</td><td>0.12087284</td><td>⋯</td><td>bladder cell           </td><td>5</td><td>NA</td><td>NA</td><td>5</td><td>CL:1001319</td><td>0.14000000</td><td>Singlet</td><td>0.14000000</td><td>Singlet</td></tr>\n",
       "\t<tr><th scope=row>10X_P7_7_TTTCCTCCATACCATG</th><td>10X</td><td>14665</td><td>3778</td><td>10X_P7_7</td><td>Bladder</td><td></td><td>F</td><td>3-F-56</td><td>0</td><td>0.11817252</td><td>⋯</td><td>bladder cell           </td><td>5</td><td>NA</td><td>NA</td><td>5</td><td>CL:1001319</td><td>0.14333333</td><td>Singlet</td><td>0.14333333</td><td>Singlet</td></tr>\n",
       "\t<tr><th scope=row>10X_P7_7_TTTGTCAGTTACCGAT</th><td>10X</td><td>30363</td><td>4786</td><td>10X_P7_7</td><td>Bladder</td><td></td><td>F</td><td>3-F-56</td><td>0</td><td>0.30701841</td><td>⋯</td><td>bladder urothelial cell</td><td>1</td><td>NA</td><td>NA</td><td>1</td><td>CL:1001428</td><td>0.29000000</td><td>Doublet</td><td>0.29000000</td><td>Doublet</td></tr>\n",
       "\t<tr><th scope=row>10X_P7_7_TTTGTCATCTGTGCAA</th><td>10X</td><td>16524</td><td>3979</td><td>10X_P7_7</td><td>Bladder</td><td></td><td>F</td><td>3-F-56</td><td>0</td><td>0.29950375</td><td>⋯</td><td>bladder urothelial cell</td><td>1</td><td>NA</td><td>NA</td><td>1</td><td>CL:1001428</td><td>0.16000000</td><td>Singlet</td><td>0.16000000</td><td>Singlet</td></tr>\n",
       "</tbody>\n",
       "</table>\n"
      ],
      "text/latex": [
       "A data.frame: 2500 × 21\n",
       "\\begin{tabular}{r|lllllllllllllllllllll}\n",
       "  & orig.ident & nCount\\_RNA & nFeature\\_RNA & channel & tissue & subtissue & mouse.sex & mouse.id & percent.ercc & percent.ribo & ⋯ & cell\\_ontology\\_class & res.0.4 & previous\\_free\\_annotation & previous\\_cell\\_ontology\\_class & cluster.ids & cell\\_ontology\\_id & Double\\_score & Is\\_Double & Double\\_score1 & Is\\_Double1\\\\\n",
       "  & <fct> & <dbl> & <int> & <fct> & <fct> & <fct> & <fct> & <fct> & <dbl> & <dbl> & ⋯ & <chr> & <chr> & <chr> & <chr> & <chr> & <chr> & <dbl> & <chr> & <dbl> & <chr>\\\\\n",
       "\\hline\n",
       "\t10X\\_P4\\_3\\_AAAGTAGAGATGCCAG & 10X & 10291 & 2853 & 10X\\_P4\\_3 & Bladder &  & M & 3-M-8 & 0 & 0.21960937 & ⋯ & bladder cell            & 0 & NA & NA & 0 & CL:1001319 & 0.05666667 & Singlet & 0.05666667 & Singlet\\\\\n",
       "\t10X\\_P4\\_3\\_AACCGCGTCCAACCAA & 10X & 17520 & 4194 & 10X\\_P4\\_3 & Bladder &  & M & 3-M-8 & 0 & 0.17671233 & ⋯ & bladder cell            & 2 & NA & NA & 2 & CL:1001319 & 0.23000000 & Singlet & 0.23000000 & Singlet\\\\\n",
       "\t10X\\_P4\\_3\\_AACTCCCGTCGGGTCT & 10X & 12944 & 3347 & 10X\\_P4\\_3 & Bladder &  & M & 3-M-8 & 0 & 0.19244438 & ⋯ & bladder cell            & 5 & NA & NA & 5 & CL:1001319 & 0.15000000 & Singlet & 0.15000000 & Singlet\\\\\n",
       "\t10X\\_P4\\_3\\_AACTCTTAGTTGCAGG & 10X & 19594 & 3851 & 10X\\_P4\\_3 & Bladder &  & M & 3-M-8 & 0 & 0.35638461 & ⋯ & bladder urothelial cell & 3 & NA & NA & 3 & CL:1001428 & 0.26000000 & Singlet & 0.26000000 & Singlet\\\\\n",
       "\t10X\\_P4\\_3\\_AACTCTTTCATAACCG & 10X & 14594 & 3809 & 10X\\_P4\\_3 & Bladder &  & M & 3-M-8 & 0 & 0.15711936 & ⋯ & bladder cell            & 2 & NA & NA & 2 & CL:1001319 & 0.16000000 & Singlet & 0.16000000 & Singlet\\\\\n",
       "\t10X\\_P4\\_3\\_AAGACCTAGATCCGAG & 10X & 19190 & 3608 & 10X\\_P4\\_3 & Bladder &  & M & 3-M-8 & 0 & 0.23778009 & ⋯ & leukocyte               & 6 & NA & NA & 6 & CL:0000738 & 0.43333333 & Doublet & 0.43333333 & Doublet\\\\\n",
       "\t10X\\_P4\\_3\\_AAGACCTAGGTGGGTT & 10X & 24484 & 4347 & 10X\\_P4\\_3 & Bladder &  & M & 3-M-8 & 0 & 0.32809182 & ⋯ & bladder urothelial cell & 1 & NA & NA & 1 & CL:1001428 & 0.25333333 & Singlet & 0.25333333 & Singlet\\\\\n",
       "\t10X\\_P4\\_3\\_AAGGAGCGTGCAACTT & 10X &  5005 & 1960 & 10X\\_P4\\_3 & Bladder &  & M & 3-M-8 & 0 & 0.19020979 & ⋯ & bladder cell            & 0 & NA & NA & 0 & CL:1001319 & 0.06000000 & Singlet & 0.06000000 & Singlet\\\\\n",
       "\t10X\\_P4\\_3\\_AAGTCTGAGATAGTCA & 10X &  6253 & 2236 & 10X\\_P4\\_3 & Bladder &  & M & 3-M-8 & 0 & 0.22597153 & ⋯ & bladder urothelial cell & 4 & NA & NA & 4 & CL:1001428 & 0.25666667 & Singlet & 0.25666667 & Singlet\\\\\n",
       "\t10X\\_P4\\_3\\_ACAGCTATCATACGGT & 10X & 15910 & 3374 & 10X\\_P4\\_3 & Bladder &  & M & 3-M-8 & 0 & 0.33777498 & ⋯ & bladder urothelial cell & 1 & NA & NA & 1 & CL:1001428 & 0.14666667 & Singlet & 0.14666667 & Singlet\\\\\n",
       "\t10X\\_P4\\_3\\_ACATACGCAGCTCCGA & 10X &  2881 & 1558 & 10X\\_P4\\_3 & Bladder &  & M & 3-M-8 & 0 & 0.13259285 & ⋯ & bladder urothelial cell & 4 & NA & NA & 4 & CL:1001428 & 0.22666667 & Singlet & 0.22666667 & Singlet\\\\\n",
       "\t10X\\_P4\\_3\\_ACCAGTACACGTCTCT & 10X &  6894 & 2348 & 10X\\_P4\\_3 & Bladder &  & M & 3-M-8 & 0 & 0.20075428 & ⋯ & bladder cell            & 0 & NA & NA & 0 & CL:1001319 & 0.06000000 & Singlet & 0.06000000 & Singlet\\\\\n",
       "\t10X\\_P4\\_3\\_ACGAGCCAGATAGCAT & 10X &  9658 & 3141 & 10X\\_P4\\_3 & Bladder &  & M & 3-M-8 & 0 & 0.16328432 & ⋯ & bladder cell            & 0 & NA & NA & 0 & CL:1001319 & 0.09333333 & Singlet & 0.09333333 & Singlet\\\\\n",
       "\t10X\\_P4\\_3\\_ACGGAGATCGGAATCT & 10X & 11623 & 3357 & 10X\\_P4\\_3 & Bladder &  & M & 3-M-8 & 0 & 0.15701626 & ⋯ & bladder cell            & 2 & NA & NA & 2 & CL:1001319 & 0.12333333 & Singlet & 0.12333333 & Singlet\\\\\n",
       "\t10X\\_P4\\_3\\_ACGGGCTGTCTGATCA & 10X &  6878 & 2285 & 10X\\_P4\\_3 & Bladder &  & M & 3-M-8 & 0 & 0.17214306 & ⋯ & bladder cell            & 0 & NA & NA & 0 & CL:1001319 & 0.06000000 & Singlet & 0.06000000 & Singlet\\\\\n",
       "\t10X\\_P4\\_3\\_ACTGAACCATCCGGGT & 10X &  7428 & 2319 & 10X\\_P4\\_3 & Bladder &  & M & 3-M-8 & 0 & 0.17514809 & ⋯ & bladder cell            & 0 & NA & NA & 0 & CL:1001319 & 0.24000000 & Singlet & 0.24000000 & Singlet\\\\\n",
       "\t10X\\_P4\\_3\\_ACTTTCAAGATGGGTC & 10X & 10302 & 2875 & 10X\\_P4\\_3 & Bladder &  & M & 3-M-8 & 0 & 0.31819064 & ⋯ & bladder urothelial cell & 1 & NA & NA & 1 & CL:1001428 & 0.14333333 & Singlet & 0.14333333 & Singlet\\\\\n",
       "\t10X\\_P4\\_3\\_AGACGTTTCTTACCGC & 10X & 10187 & 3197 & 10X\\_P4\\_3 & Bladder &  & M & 3-M-8 & 0 & 0.09207814 & ⋯ & bladder cell            & 5 & NA & NA & 5 & CL:1001319 & 0.19666667 & Singlet & 0.19666667 & Singlet\\\\\n",
       "\t10X\\_P4\\_3\\_AGAGCTTTCTGTTGAG & 10X & 25039 & 4812 & 10X\\_P4\\_3 & Bladder &  & M & 3-M-8 & 0 & 0.18882543 & ⋯ & bladder cell            & 2 & NA & NA & 2 & CL:1001319 & 0.18666667 & Singlet & 0.18666667 & Singlet\\\\\n",
       "\t10X\\_P4\\_3\\_AGCGGTCTCTGAGTGT & 10X & 23497 & 4152 & 10X\\_P4\\_3 & Bladder &  & M & 3-M-8 & 0 & 0.36498276 & ⋯ & bladder urothelial cell & 1 & NA & NA & 1 & CL:1001428 & 0.25000000 & Singlet & 0.25000000 & Singlet\\\\\n",
       "\t10X\\_P4\\_3\\_AGCTTGAAGACTAAGT & 10X &  3102 & 1431 & 10X\\_P4\\_3 & Bladder &  & M & 3-M-8 & 0 & 0.12250161 & ⋯ & bladder cell            & 0 & NA & NA & 0 & CL:1001319 & 0.03000000 & Singlet & 0.03000000 & Singlet\\\\\n",
       "\t10X\\_P4\\_3\\_AGGGAGTCAATCGGTT & 10X &  6981 & 2323 & 10X\\_P4\\_3 & Bladder &  & M & 3-M-8 & 0 & 0.20369575 & ⋯ & bladder cell            & 0 & NA & NA & 0 & CL:1001319 & 0.15000000 & Singlet & 0.15000000 & Singlet\\\\\n",
       "\t10X\\_P4\\_3\\_AGGGATGAGTCGCCGT & 10X &  5259 & 1975 & 10X\\_P4\\_3 & Bladder &  & M & 3-M-8 & 0 & 0.16600114 & ⋯ & bladder cell            & 0 & NA & NA & 0 & CL:1001319 & 0.18000000 & Singlet & 0.18000000 & Singlet\\\\\n",
       "\t10X\\_P4\\_3\\_AGGGTGACAGTCGTGC & 10X & 11231 & 3314 & 10X\\_P4\\_3 & Bladder &  & M & 3-M-8 & 0 & 0.16222954 & ⋯ & bladder cell            & 0 & NA & NA & 0 & CL:1001319 & 0.20333333 & Singlet & 0.20333333 & Singlet\\\\\n",
       "\t10X\\_P4\\_3\\_AGGTCCGAGGACACCA & 10X & 26565 & 5040 & 10X\\_P4\\_3 & Bladder &  & M & 3-M-8 & 0 & 0.27174854 & ⋯ & bladder urothelial cell & 1 & NA & NA & 1 & CL:1001428 & 0.31666667 & Doublet & 0.31666667 & Doublet\\\\\n",
       "\t10X\\_P4\\_3\\_AGTCTTTAGCTAGTGG & 10X &  2277 & 1098 & 10X\\_P4\\_3 & Bladder &  & M & 3-M-8 & 0 & 0.16161616 & ⋯ & bladder cell            & 0 & NA & NA & 0 & CL:1001319 & 0.07333333 & Singlet & 0.07333333 & Singlet\\\\\n",
       "\t10X\\_P4\\_3\\_AGTGAGGAGTGTACTC & 10X &  4800 & 1888 & 10X\\_P4\\_3 & Bladder &  & M & 3-M-8 & 0 & 0.13708333 & ⋯ & bladder cell            & 0 & NA & NA & 0 & CL:1001319 & 0.11333333 & Singlet & 0.11333333 & Singlet\\\\\n",
       "\t10X\\_P4\\_3\\_AGTGAGGTCAGCATGT & 10X & 19882 & 3884 & 10X\\_P4\\_3 & Bladder &  & M & 3-M-8 & 0 & 0.31520974 & ⋯ & bladder urothelial cell & 1 & NA & NA & 1 & CL:1001428 & 0.26666667 & Singlet & 0.26666667 & Singlet\\\\\n",
       "\t10X\\_P4\\_3\\_AGTGTCACAGTATCTG & 10X &  6171 & 2299 & 10X\\_P4\\_3 & Bladder &  & M & 3-M-8 & 0 & 0.11181332 & ⋯ & bladder cell            & 5 & NA & NA & 5 & CL:1001319 & 0.09666667 & Singlet & 0.09666667 & Singlet\\\\\n",
       "\t10X\\_P4\\_3\\_ATCACGACAACAACCT & 10X & 14113 & 3699 & 10X\\_P4\\_3 & Bladder &  & M & 3-M-8 & 0 & 0.14065046 & ⋯ & bladder cell            & 2 & NA & NA & 2 & CL:1001319 & 0.30000000 & Doublet & 0.30000000 & Doublet\\\\\n",
       "\t⋮ & ⋮ & ⋮ & ⋮ & ⋮ & ⋮ & ⋮ & ⋮ & ⋮ & ⋮ & ⋮ & ⋱ & ⋮ & ⋮ & ⋮ & ⋮ & ⋮ & ⋮ & ⋮ & ⋮ & ⋮ & ⋮\\\\\n",
       "\t10X\\_P7\\_7\\_TGTTCCGAGCTAACTC & 10X & 23228 & 4255 & 10X\\_P7\\_7 & Bladder &  & F & 3-F-56 & 0 & 0.34092475 & ⋯ & bladder urothelial cell & 1 & NA & NA & 1 & CL:1001428 & 0.24000000 & Singlet & 0.24000000 & Singlet\\\\\n",
       "\t10X\\_P7\\_7\\_TGTTCCGAGCTCCCAG & 10X & 42860 & 5745 & 10X\\_P7\\_7 & Bladder &  & F & 3-F-56 & 0 & 0.37134858 & ⋯ & bladder urothelial cell & 1 & NA & NA & 1 & CL:1001428 & 0.26666667 & Singlet & 0.26666667 & Singlet\\\\\n",
       "\t10X\\_P7\\_7\\_TTAACTCGTCTCTTTA & 10X & 35751 & 5422 & 10X\\_P7\\_7 & Bladder &  & F & 3-F-56 & 0 & 0.24913988 & ⋯ & bladder urothelial cell & 1 & NA & NA & 1 & CL:1001428 & 0.20666667 & Singlet & 0.20666667 & Singlet\\\\\n",
       "\t10X\\_P7\\_7\\_TTAACTCTCAGAGACG & 10X & 31618 & 4440 & 10X\\_P7\\_7 & Bladder &  & F & 3-F-56 & 0 & 0.34100829 & ⋯ & bladder urothelial cell & 4 & NA & NA & 4 & CL:1001428 & 0.27666667 & Doublet & 0.27666667 & Doublet\\\\\n",
       "\t10X\\_P7\\_7\\_TTAGGACAGACAAAGG & 10X &  9988 & 3201 & 10X\\_P7\\_7 & Bladder &  & F & 3-F-56 & 0 & 0.14717661 & ⋯ & bladder cell            & 5 & NA & NA & 5 & CL:1001319 & 0.20666667 & Singlet & 0.20666667 & Singlet\\\\\n",
       "\t10X\\_P7\\_7\\_TTAGGACCAGGGTACA & 10X & 11756 & 2880 & 10X\\_P7\\_7 & Bladder &  & F & 3-F-56 & 0 & 0.31405240 & ⋯ & bladder urothelial cell & 1 & NA & NA & 1 & CL:1001428 & 0.24666667 & Singlet & 0.24666667 & Singlet\\\\\n",
       "\t10X\\_P7\\_7\\_TTAGGACGTCTCCCTA & 10X &  8516 & 2732 & 10X\\_P7\\_7 & Bladder &  & F & 3-F-56 & 0 & 0.14560827 & ⋯ & bladder cell            & 5 & NA & NA & 5 & CL:1001319 & 0.17666667 & Singlet & 0.17666667 & Singlet\\\\\n",
       "\t10X\\_P7\\_7\\_TTATGCTAGCCATCGC & 10X & 14870 & 3657 & 10X\\_P7\\_7 & Bladder &  & F & 3-F-56 & 0 & 0.32313383 & ⋯ & bladder urothelial cell & 1 & NA & NA & 1 & CL:1001428 & 0.19000000 & Singlet & 0.19000000 & Singlet\\\\\n",
       "\t10X\\_P7\\_7\\_TTATGCTCAGATGAGC & 10X & 16126 & 3372 & 10X\\_P7\\_7 & Bladder &  & F & 3-F-56 & 0 & 0.26851048 & ⋯ & bladder urothelial cell & 4 & NA & NA & 4 & CL:1001428 & 0.28000000 & Doublet & 0.28000000 & Doublet\\\\\n",
       "\t10X\\_P7\\_7\\_TTATGCTCAGCGTTCG & 10X &  4938 & 1528 & 10X\\_P7\\_7 & Bladder &  & F & 3-F-56 & 0 & 0.04597003 & ⋯ & leukocyte               & 6 & NA & NA & 6 & CL:0000738 & 0.22000000 & Singlet & 0.22000000 & Singlet\\\\\n",
       "\t10X\\_P7\\_7\\_TTATGCTTCCGAACGC & 10X & 11558 & 2319 & 10X\\_P7\\_7 & Bladder &  & F & 3-F-56 & 0 & 0.11792698 & ⋯ & leukocyte               & 6 & NA & NA & 6 & CL:0000738 & 0.37000000 & Doublet & 0.37000000 & Doublet\\\\\n",
       "\t10X\\_P7\\_7\\_TTATGCTTCCGCGGTA & 10X &  6376 & 2580 & 10X\\_P7\\_7 & Bladder &  & F & 3-F-56 & 0 & 0.12531368 & ⋯ & bladder cell            & 0 & NA & NA & 0 & CL:1001319 & 0.12000000 & Singlet & 0.12000000 & Singlet\\\\\n",
       "\t10X\\_P7\\_7\\_TTCCCAGTCATGTGGT & 10X & 34918 & 5002 & 10X\\_P7\\_7 & Bladder &  & F & 3-F-56 & 0 & 0.29950169 & ⋯ & bladder urothelial cell & 1 & NA & NA & 1 & CL:1001428 & 0.19666667 & Singlet & 0.19666667 & Singlet\\\\\n",
       "\t10X\\_P7\\_7\\_TTCGGTCAGTGCGTGA & 10X & 14304 & 3511 & 10X\\_P7\\_7 & Bladder &  & F & 3-F-56 & 0 & 0.16072427 & ⋯ & bladder cell            & 5 & NA & NA & 5 & CL:1001319 & 0.17000000 & Singlet & 0.17000000 & Singlet\\\\\n",
       "\t10X\\_P7\\_7\\_TTCGGTCCAGCGTAAG & 10X & 22793 & 4562 & 10X\\_P7\\_7 & Bladder &  & F & 3-F-56 & 0 & 0.24985741 & ⋯ & bladder urothelial cell & 1 & NA & NA & 1 & CL:1001428 & 0.31000000 & Doublet & 0.31000000 & Doublet\\\\\n",
       "\t10X\\_P7\\_7\\_TTCGGTCTCCGGGTGT & 10X &  8380 & 2764 & 10X\\_P7\\_7 & Bladder &  & F & 3-F-56 & 0 & 0.14439141 & ⋯ & bladder cell            & 5 & NA & NA & 5 & CL:1001319 & 0.16000000 & Singlet & 0.16000000 & Singlet\\\\\n",
       "\t10X\\_P7\\_7\\_TTCTCAAAGAGCCCAA & 10X & 37286 & 5356 & 10X\\_P7\\_7 & Bladder &  & F & 3-F-56 & 0 & 0.36834201 & ⋯ & bladder urothelial cell & 1 & NA & NA & 1 & CL:1001428 & 0.27000000 & Singlet & 0.27000000 & Singlet\\\\\n",
       "\t10X\\_P7\\_7\\_TTCTCAACAAACGTGG & 10X & 14565 & 3769 & 10X\\_P7\\_7 & Bladder &  & F & 3-F-56 & 0 & 0.11342259 & ⋯ & bladder cell            & 5 & NA & NA & 5 & CL:1001319 & 0.17333333 & Singlet & 0.17333333 & Singlet\\\\\n",
       "\t10X\\_P7\\_7\\_TTGAACGAGATGTCGG & 10X &  9558 & 2972 & 10X\\_P7\\_7 & Bladder &  & F & 3-F-56 & 0 & 0.16970077 & ⋯ & bladder cell            & 5 & NA & NA & 5 & CL:1001319 & 0.15000000 & Singlet & 0.15000000 & Singlet\\\\\n",
       "\t10X\\_P7\\_7\\_TTGCGTCCAAAGTGCG & 10X & 11456 & 3241 & 10X\\_P7\\_7 & Bladder &  & F & 3-F-56 & 0 & 0.16096369 & ⋯ & bladder cell            & 5 & NA & NA & 5 & CL:1001319 & 0.16333333 & Singlet & 0.16333333 & Singlet\\\\\n",
       "\t10X\\_P7\\_7\\_TTGCGTCGTAGGACAC & 10X & 21269 & 3633 & 10X\\_P7\\_7 & Bladder &  & F & 3-F-56 & 0 & 0.34331656 & ⋯ & bladder urothelial cell & 1 & NA & NA & 1 & CL:1001428 & 0.28666667 & Doublet & 0.28666667 & Doublet\\\\\n",
       "\t10X\\_P7\\_7\\_TTGGAACAGTAGATGT & 10X &  8974 & 2831 & 10X\\_P7\\_7 & Bladder &  & F & 3-F-56 & 0 & 0.13527970 & ⋯ & bladder cell            & 5 & NA & NA & 5 & CL:1001319 & 0.18333333 & Singlet & 0.18333333 & Singlet\\\\\n",
       "\t10X\\_P7\\_7\\_TTGGAACGTCTAGTCA & 10X &  6607 & 2546 & 10X\\_P7\\_7 & Bladder &  & F & 3-F-56 & 0 & 0.13319207 & ⋯ & bladder cell            & 0 & NA & NA & 0 & CL:1001319 & 0.07333333 & Singlet & 0.07333333 & Singlet\\\\\n",
       "\t10X\\_P7\\_7\\_TTGGAACGTGTCGCTG & 10X & 50069 & 5641 & 10X\\_P7\\_7 & Bladder &  & F & 3-F-56 & 0 & 0.40040744 & ⋯ & bladder urothelial cell & 4 & NA & NA & 4 & CL:1001428 & 0.24333333 & Singlet & 0.24333333 & Singlet\\\\\n",
       "\t10X\\_P7\\_7\\_TTGTAGGCACTTGGAT & 10X &  9666 & 3087 & 10X\\_P7\\_7 & Bladder &  & F & 3-F-56 & 0 & 0.10862818 & ⋯ & endothelial cell        & 7 & NA & NA & 7 & CL:0000115 & 0.14666667 & Singlet & 0.14666667 & Singlet\\\\\n",
       "\t10X\\_P7\\_7\\_TTGTAGGTCATGTAGC & 10X & 22993 & 4296 & 10X\\_P7\\_7 & Bladder &  & F & 3-F-56 & 0 & 0.28678293 & ⋯ & bladder urothelial cell & 1 & NA & NA & 1 & CL:1001428 & 0.20666667 & Singlet & 0.20666667 & Singlet\\\\\n",
       "\t10X\\_P7\\_7\\_TTTACTGGTGTTGAGG & 10X &  8753 & 3005 & 10X\\_P7\\_7 & Bladder &  & F & 3-F-56 & 0 & 0.12087284 & ⋯ & bladder cell            & 5 & NA & NA & 5 & CL:1001319 & 0.14000000 & Singlet & 0.14000000 & Singlet\\\\\n",
       "\t10X\\_P7\\_7\\_TTTCCTCCATACCATG & 10X & 14665 & 3778 & 10X\\_P7\\_7 & Bladder &  & F & 3-F-56 & 0 & 0.11817252 & ⋯ & bladder cell            & 5 & NA & NA & 5 & CL:1001319 & 0.14333333 & Singlet & 0.14333333 & Singlet\\\\\n",
       "\t10X\\_P7\\_7\\_TTTGTCAGTTACCGAT & 10X & 30363 & 4786 & 10X\\_P7\\_7 & Bladder &  & F & 3-F-56 & 0 & 0.30701841 & ⋯ & bladder urothelial cell & 1 & NA & NA & 1 & CL:1001428 & 0.29000000 & Doublet & 0.29000000 & Doublet\\\\\n",
       "\t10X\\_P7\\_7\\_TTTGTCATCTGTGCAA & 10X & 16524 & 3979 & 10X\\_P7\\_7 & Bladder &  & F & 3-F-56 & 0 & 0.29950375 & ⋯ & bladder urothelial cell & 1 & NA & NA & 1 & CL:1001428 & 0.16000000 & Singlet & 0.16000000 & Singlet\\\\\n",
       "\\end{tabular}\n"
      ],
      "text/markdown": [
       "\n",
       "A data.frame: 2500 × 21\n",
       "\n",
       "| <!--/--> | orig.ident &lt;fct&gt; | nCount_RNA &lt;dbl&gt; | nFeature_RNA &lt;int&gt; | channel &lt;fct&gt; | tissue &lt;fct&gt; | subtissue &lt;fct&gt; | mouse.sex &lt;fct&gt; | mouse.id &lt;fct&gt; | percent.ercc &lt;dbl&gt; | percent.ribo &lt;dbl&gt; | ⋯ ⋯ | cell_ontology_class &lt;chr&gt; | res.0.4 &lt;chr&gt; | previous_free_annotation &lt;chr&gt; | previous_cell_ontology_class &lt;chr&gt; | cluster.ids &lt;chr&gt; | cell_ontology_id &lt;chr&gt; | Double_score &lt;dbl&gt; | Is_Double &lt;chr&gt; | Double_score1 &lt;dbl&gt; | Is_Double1 &lt;chr&gt; |\n",
       "|---|---|---|---|---|---|---|---|---|---|---|---|---|---|---|---|---|---|---|---|---|---|\n",
       "| 10X_P4_3_AAAGTAGAGATGCCAG | 10X | 10291 | 2853 | 10X_P4_3 | Bladder | <!----> | M | 3-M-8 | 0 | 0.21960937 | ⋯ | bladder cell            | 0 | NA | NA | 0 | CL:1001319 | 0.05666667 | Singlet | 0.05666667 | Singlet |\n",
       "| 10X_P4_3_AACCGCGTCCAACCAA | 10X | 17520 | 4194 | 10X_P4_3 | Bladder | <!----> | M | 3-M-8 | 0 | 0.17671233 | ⋯ | bladder cell            | 2 | NA | NA | 2 | CL:1001319 | 0.23000000 | Singlet | 0.23000000 | Singlet |\n",
       "| 10X_P4_3_AACTCCCGTCGGGTCT | 10X | 12944 | 3347 | 10X_P4_3 | Bladder | <!----> | M | 3-M-8 | 0 | 0.19244438 | ⋯ | bladder cell            | 5 | NA | NA | 5 | CL:1001319 | 0.15000000 | Singlet | 0.15000000 | Singlet |\n",
       "| 10X_P4_3_AACTCTTAGTTGCAGG | 10X | 19594 | 3851 | 10X_P4_3 | Bladder | <!----> | M | 3-M-8 | 0 | 0.35638461 | ⋯ | bladder urothelial cell | 3 | NA | NA | 3 | CL:1001428 | 0.26000000 | Singlet | 0.26000000 | Singlet |\n",
       "| 10X_P4_3_AACTCTTTCATAACCG | 10X | 14594 | 3809 | 10X_P4_3 | Bladder | <!----> | M | 3-M-8 | 0 | 0.15711936 | ⋯ | bladder cell            | 2 | NA | NA | 2 | CL:1001319 | 0.16000000 | Singlet | 0.16000000 | Singlet |\n",
       "| 10X_P4_3_AAGACCTAGATCCGAG | 10X | 19190 | 3608 | 10X_P4_3 | Bladder | <!----> | M | 3-M-8 | 0 | 0.23778009 | ⋯ | leukocyte               | 6 | NA | NA | 6 | CL:0000738 | 0.43333333 | Doublet | 0.43333333 | Doublet |\n",
       "| 10X_P4_3_AAGACCTAGGTGGGTT | 10X | 24484 | 4347 | 10X_P4_3 | Bladder | <!----> | M | 3-M-8 | 0 | 0.32809182 | ⋯ | bladder urothelial cell | 1 | NA | NA | 1 | CL:1001428 | 0.25333333 | Singlet | 0.25333333 | Singlet |\n",
       "| 10X_P4_3_AAGGAGCGTGCAACTT | 10X |  5005 | 1960 | 10X_P4_3 | Bladder | <!----> | M | 3-M-8 | 0 | 0.19020979 | ⋯ | bladder cell            | 0 | NA | NA | 0 | CL:1001319 | 0.06000000 | Singlet | 0.06000000 | Singlet |\n",
       "| 10X_P4_3_AAGTCTGAGATAGTCA | 10X |  6253 | 2236 | 10X_P4_3 | Bladder | <!----> | M | 3-M-8 | 0 | 0.22597153 | ⋯ | bladder urothelial cell | 4 | NA | NA | 4 | CL:1001428 | 0.25666667 | Singlet | 0.25666667 | Singlet |\n",
       "| 10X_P4_3_ACAGCTATCATACGGT | 10X | 15910 | 3374 | 10X_P4_3 | Bladder | <!----> | M | 3-M-8 | 0 | 0.33777498 | ⋯ | bladder urothelial cell | 1 | NA | NA | 1 | CL:1001428 | 0.14666667 | Singlet | 0.14666667 | Singlet |\n",
       "| 10X_P4_3_ACATACGCAGCTCCGA | 10X |  2881 | 1558 | 10X_P4_3 | Bladder | <!----> | M | 3-M-8 | 0 | 0.13259285 | ⋯ | bladder urothelial cell | 4 | NA | NA | 4 | CL:1001428 | 0.22666667 | Singlet | 0.22666667 | Singlet |\n",
       "| 10X_P4_3_ACCAGTACACGTCTCT | 10X |  6894 | 2348 | 10X_P4_3 | Bladder | <!----> | M | 3-M-8 | 0 | 0.20075428 | ⋯ | bladder cell            | 0 | NA | NA | 0 | CL:1001319 | 0.06000000 | Singlet | 0.06000000 | Singlet |\n",
       "| 10X_P4_3_ACGAGCCAGATAGCAT | 10X |  9658 | 3141 | 10X_P4_3 | Bladder | <!----> | M | 3-M-8 | 0 | 0.16328432 | ⋯ | bladder cell            | 0 | NA | NA | 0 | CL:1001319 | 0.09333333 | Singlet | 0.09333333 | Singlet |\n",
       "| 10X_P4_3_ACGGAGATCGGAATCT | 10X | 11623 | 3357 | 10X_P4_3 | Bladder | <!----> | M | 3-M-8 | 0 | 0.15701626 | ⋯ | bladder cell            | 2 | NA | NA | 2 | CL:1001319 | 0.12333333 | Singlet | 0.12333333 | Singlet |\n",
       "| 10X_P4_3_ACGGGCTGTCTGATCA | 10X |  6878 | 2285 | 10X_P4_3 | Bladder | <!----> | M | 3-M-8 | 0 | 0.17214306 | ⋯ | bladder cell            | 0 | NA | NA | 0 | CL:1001319 | 0.06000000 | Singlet | 0.06000000 | Singlet |\n",
       "| 10X_P4_3_ACTGAACCATCCGGGT | 10X |  7428 | 2319 | 10X_P4_3 | Bladder | <!----> | M | 3-M-8 | 0 | 0.17514809 | ⋯ | bladder cell            | 0 | NA | NA | 0 | CL:1001319 | 0.24000000 | Singlet | 0.24000000 | Singlet |\n",
       "| 10X_P4_3_ACTTTCAAGATGGGTC | 10X | 10302 | 2875 | 10X_P4_3 | Bladder | <!----> | M | 3-M-8 | 0 | 0.31819064 | ⋯ | bladder urothelial cell | 1 | NA | NA | 1 | CL:1001428 | 0.14333333 | Singlet | 0.14333333 | Singlet |\n",
       "| 10X_P4_3_AGACGTTTCTTACCGC | 10X | 10187 | 3197 | 10X_P4_3 | Bladder | <!----> | M | 3-M-8 | 0 | 0.09207814 | ⋯ | bladder cell            | 5 | NA | NA | 5 | CL:1001319 | 0.19666667 | Singlet | 0.19666667 | Singlet |\n",
       "| 10X_P4_3_AGAGCTTTCTGTTGAG | 10X | 25039 | 4812 | 10X_P4_3 | Bladder | <!----> | M | 3-M-8 | 0 | 0.18882543 | ⋯ | bladder cell            | 2 | NA | NA | 2 | CL:1001319 | 0.18666667 | Singlet | 0.18666667 | Singlet |\n",
       "| 10X_P4_3_AGCGGTCTCTGAGTGT | 10X | 23497 | 4152 | 10X_P4_3 | Bladder | <!----> | M | 3-M-8 | 0 | 0.36498276 | ⋯ | bladder urothelial cell | 1 | NA | NA | 1 | CL:1001428 | 0.25000000 | Singlet | 0.25000000 | Singlet |\n",
       "| 10X_P4_3_AGCTTGAAGACTAAGT | 10X |  3102 | 1431 | 10X_P4_3 | Bladder | <!----> | M | 3-M-8 | 0 | 0.12250161 | ⋯ | bladder cell            | 0 | NA | NA | 0 | CL:1001319 | 0.03000000 | Singlet | 0.03000000 | Singlet |\n",
       "| 10X_P4_3_AGGGAGTCAATCGGTT | 10X |  6981 | 2323 | 10X_P4_3 | Bladder | <!----> | M | 3-M-8 | 0 | 0.20369575 | ⋯ | bladder cell            | 0 | NA | NA | 0 | CL:1001319 | 0.15000000 | Singlet | 0.15000000 | Singlet |\n",
       "| 10X_P4_3_AGGGATGAGTCGCCGT | 10X |  5259 | 1975 | 10X_P4_3 | Bladder | <!----> | M | 3-M-8 | 0 | 0.16600114 | ⋯ | bladder cell            | 0 | NA | NA | 0 | CL:1001319 | 0.18000000 | Singlet | 0.18000000 | Singlet |\n",
       "| 10X_P4_3_AGGGTGACAGTCGTGC | 10X | 11231 | 3314 | 10X_P4_3 | Bladder | <!----> | M | 3-M-8 | 0 | 0.16222954 | ⋯ | bladder cell            | 0 | NA | NA | 0 | CL:1001319 | 0.20333333 | Singlet | 0.20333333 | Singlet |\n",
       "| 10X_P4_3_AGGTCCGAGGACACCA | 10X | 26565 | 5040 | 10X_P4_3 | Bladder | <!----> | M | 3-M-8 | 0 | 0.27174854 | ⋯ | bladder urothelial cell | 1 | NA | NA | 1 | CL:1001428 | 0.31666667 | Doublet | 0.31666667 | Doublet |\n",
       "| 10X_P4_3_AGTCTTTAGCTAGTGG | 10X |  2277 | 1098 | 10X_P4_3 | Bladder | <!----> | M | 3-M-8 | 0 | 0.16161616 | ⋯ | bladder cell            | 0 | NA | NA | 0 | CL:1001319 | 0.07333333 | Singlet | 0.07333333 | Singlet |\n",
       "| 10X_P4_3_AGTGAGGAGTGTACTC | 10X |  4800 | 1888 | 10X_P4_3 | Bladder | <!----> | M | 3-M-8 | 0 | 0.13708333 | ⋯ | bladder cell            | 0 | NA | NA | 0 | CL:1001319 | 0.11333333 | Singlet | 0.11333333 | Singlet |\n",
       "| 10X_P4_3_AGTGAGGTCAGCATGT | 10X | 19882 | 3884 | 10X_P4_3 | Bladder | <!----> | M | 3-M-8 | 0 | 0.31520974 | ⋯ | bladder urothelial cell | 1 | NA | NA | 1 | CL:1001428 | 0.26666667 | Singlet | 0.26666667 | Singlet |\n",
       "| 10X_P4_3_AGTGTCACAGTATCTG | 10X |  6171 | 2299 | 10X_P4_3 | Bladder | <!----> | M | 3-M-8 | 0 | 0.11181332 | ⋯ | bladder cell            | 5 | NA | NA | 5 | CL:1001319 | 0.09666667 | Singlet | 0.09666667 | Singlet |\n",
       "| 10X_P4_3_ATCACGACAACAACCT | 10X | 14113 | 3699 | 10X_P4_3 | Bladder | <!----> | M | 3-M-8 | 0 | 0.14065046 | ⋯ | bladder cell            | 2 | NA | NA | 2 | CL:1001319 | 0.30000000 | Doublet | 0.30000000 | Doublet |\n",
       "| ⋮ | ⋮ | ⋮ | ⋮ | ⋮ | ⋮ | ⋮ | ⋮ | ⋮ | ⋮ | ⋮ | ⋱ | ⋮ | ⋮ | ⋮ | ⋮ | ⋮ | ⋮ | ⋮ | ⋮ | ⋮ | ⋮ |\n",
       "| 10X_P7_7_TGTTCCGAGCTAACTC | 10X | 23228 | 4255 | 10X_P7_7 | Bladder | <!----> | F | 3-F-56 | 0 | 0.34092475 | ⋯ | bladder urothelial cell | 1 | NA | NA | 1 | CL:1001428 | 0.24000000 | Singlet | 0.24000000 | Singlet |\n",
       "| 10X_P7_7_TGTTCCGAGCTCCCAG | 10X | 42860 | 5745 | 10X_P7_7 | Bladder | <!----> | F | 3-F-56 | 0 | 0.37134858 | ⋯ | bladder urothelial cell | 1 | NA | NA | 1 | CL:1001428 | 0.26666667 | Singlet | 0.26666667 | Singlet |\n",
       "| 10X_P7_7_TTAACTCGTCTCTTTA | 10X | 35751 | 5422 | 10X_P7_7 | Bladder | <!----> | F | 3-F-56 | 0 | 0.24913988 | ⋯ | bladder urothelial cell | 1 | NA | NA | 1 | CL:1001428 | 0.20666667 | Singlet | 0.20666667 | Singlet |\n",
       "| 10X_P7_7_TTAACTCTCAGAGACG | 10X | 31618 | 4440 | 10X_P7_7 | Bladder | <!----> | F | 3-F-56 | 0 | 0.34100829 | ⋯ | bladder urothelial cell | 4 | NA | NA | 4 | CL:1001428 | 0.27666667 | Doublet | 0.27666667 | Doublet |\n",
       "| 10X_P7_7_TTAGGACAGACAAAGG | 10X |  9988 | 3201 | 10X_P7_7 | Bladder | <!----> | F | 3-F-56 | 0 | 0.14717661 | ⋯ | bladder cell            | 5 | NA | NA | 5 | CL:1001319 | 0.20666667 | Singlet | 0.20666667 | Singlet |\n",
       "| 10X_P7_7_TTAGGACCAGGGTACA | 10X | 11756 | 2880 | 10X_P7_7 | Bladder | <!----> | F | 3-F-56 | 0 | 0.31405240 | ⋯ | bladder urothelial cell | 1 | NA | NA | 1 | CL:1001428 | 0.24666667 | Singlet | 0.24666667 | Singlet |\n",
       "| 10X_P7_7_TTAGGACGTCTCCCTA | 10X |  8516 | 2732 | 10X_P7_7 | Bladder | <!----> | F | 3-F-56 | 0 | 0.14560827 | ⋯ | bladder cell            | 5 | NA | NA | 5 | CL:1001319 | 0.17666667 | Singlet | 0.17666667 | Singlet |\n",
       "| 10X_P7_7_TTATGCTAGCCATCGC | 10X | 14870 | 3657 | 10X_P7_7 | Bladder | <!----> | F | 3-F-56 | 0 | 0.32313383 | ⋯ | bladder urothelial cell | 1 | NA | NA | 1 | CL:1001428 | 0.19000000 | Singlet | 0.19000000 | Singlet |\n",
       "| 10X_P7_7_TTATGCTCAGATGAGC | 10X | 16126 | 3372 | 10X_P7_7 | Bladder | <!----> | F | 3-F-56 | 0 | 0.26851048 | ⋯ | bladder urothelial cell | 4 | NA | NA | 4 | CL:1001428 | 0.28000000 | Doublet | 0.28000000 | Doublet |\n",
       "| 10X_P7_7_TTATGCTCAGCGTTCG | 10X |  4938 | 1528 | 10X_P7_7 | Bladder | <!----> | F | 3-F-56 | 0 | 0.04597003 | ⋯ | leukocyte               | 6 | NA | NA | 6 | CL:0000738 | 0.22000000 | Singlet | 0.22000000 | Singlet |\n",
       "| 10X_P7_7_TTATGCTTCCGAACGC | 10X | 11558 | 2319 | 10X_P7_7 | Bladder | <!----> | F | 3-F-56 | 0 | 0.11792698 | ⋯ | leukocyte               | 6 | NA | NA | 6 | CL:0000738 | 0.37000000 | Doublet | 0.37000000 | Doublet |\n",
       "| 10X_P7_7_TTATGCTTCCGCGGTA | 10X |  6376 | 2580 | 10X_P7_7 | Bladder | <!----> | F | 3-F-56 | 0 | 0.12531368 | ⋯ | bladder cell            | 0 | NA | NA | 0 | CL:1001319 | 0.12000000 | Singlet | 0.12000000 | Singlet |\n",
       "| 10X_P7_7_TTCCCAGTCATGTGGT | 10X | 34918 | 5002 | 10X_P7_7 | Bladder | <!----> | F | 3-F-56 | 0 | 0.29950169 | ⋯ | bladder urothelial cell | 1 | NA | NA | 1 | CL:1001428 | 0.19666667 | Singlet | 0.19666667 | Singlet |\n",
       "| 10X_P7_7_TTCGGTCAGTGCGTGA | 10X | 14304 | 3511 | 10X_P7_7 | Bladder | <!----> | F | 3-F-56 | 0 | 0.16072427 | ⋯ | bladder cell            | 5 | NA | NA | 5 | CL:1001319 | 0.17000000 | Singlet | 0.17000000 | Singlet |\n",
       "| 10X_P7_7_TTCGGTCCAGCGTAAG | 10X | 22793 | 4562 | 10X_P7_7 | Bladder | <!----> | F | 3-F-56 | 0 | 0.24985741 | ⋯ | bladder urothelial cell | 1 | NA | NA | 1 | CL:1001428 | 0.31000000 | Doublet | 0.31000000 | Doublet |\n",
       "| 10X_P7_7_TTCGGTCTCCGGGTGT | 10X |  8380 | 2764 | 10X_P7_7 | Bladder | <!----> | F | 3-F-56 | 0 | 0.14439141 | ⋯ | bladder cell            | 5 | NA | NA | 5 | CL:1001319 | 0.16000000 | Singlet | 0.16000000 | Singlet |\n",
       "| 10X_P7_7_TTCTCAAAGAGCCCAA | 10X | 37286 | 5356 | 10X_P7_7 | Bladder | <!----> | F | 3-F-56 | 0 | 0.36834201 | ⋯ | bladder urothelial cell | 1 | NA | NA | 1 | CL:1001428 | 0.27000000 | Singlet | 0.27000000 | Singlet |\n",
       "| 10X_P7_7_TTCTCAACAAACGTGG | 10X | 14565 | 3769 | 10X_P7_7 | Bladder | <!----> | F | 3-F-56 | 0 | 0.11342259 | ⋯ | bladder cell            | 5 | NA | NA | 5 | CL:1001319 | 0.17333333 | Singlet | 0.17333333 | Singlet |\n",
       "| 10X_P7_7_TTGAACGAGATGTCGG | 10X |  9558 | 2972 | 10X_P7_7 | Bladder | <!----> | F | 3-F-56 | 0 | 0.16970077 | ⋯ | bladder cell            | 5 | NA | NA | 5 | CL:1001319 | 0.15000000 | Singlet | 0.15000000 | Singlet |\n",
       "| 10X_P7_7_TTGCGTCCAAAGTGCG | 10X | 11456 | 3241 | 10X_P7_7 | Bladder | <!----> | F | 3-F-56 | 0 | 0.16096369 | ⋯ | bladder cell            | 5 | NA | NA | 5 | CL:1001319 | 0.16333333 | Singlet | 0.16333333 | Singlet |\n",
       "| 10X_P7_7_TTGCGTCGTAGGACAC | 10X | 21269 | 3633 | 10X_P7_7 | Bladder | <!----> | F | 3-F-56 | 0 | 0.34331656 | ⋯ | bladder urothelial cell | 1 | NA | NA | 1 | CL:1001428 | 0.28666667 | Doublet | 0.28666667 | Doublet |\n",
       "| 10X_P7_7_TTGGAACAGTAGATGT | 10X |  8974 | 2831 | 10X_P7_7 | Bladder | <!----> | F | 3-F-56 | 0 | 0.13527970 | ⋯ | bladder cell            | 5 | NA | NA | 5 | CL:1001319 | 0.18333333 | Singlet | 0.18333333 | Singlet |\n",
       "| 10X_P7_7_TTGGAACGTCTAGTCA | 10X |  6607 | 2546 | 10X_P7_7 | Bladder | <!----> | F | 3-F-56 | 0 | 0.13319207 | ⋯ | bladder cell            | 0 | NA | NA | 0 | CL:1001319 | 0.07333333 | Singlet | 0.07333333 | Singlet |\n",
       "| 10X_P7_7_TTGGAACGTGTCGCTG | 10X | 50069 | 5641 | 10X_P7_7 | Bladder | <!----> | F | 3-F-56 | 0 | 0.40040744 | ⋯ | bladder urothelial cell | 4 | NA | NA | 4 | CL:1001428 | 0.24333333 | Singlet | 0.24333333 | Singlet |\n",
       "| 10X_P7_7_TTGTAGGCACTTGGAT | 10X |  9666 | 3087 | 10X_P7_7 | Bladder | <!----> | F | 3-F-56 | 0 | 0.10862818 | ⋯ | endothelial cell        | 7 | NA | NA | 7 | CL:0000115 | 0.14666667 | Singlet | 0.14666667 | Singlet |\n",
       "| 10X_P7_7_TTGTAGGTCATGTAGC | 10X | 22993 | 4296 | 10X_P7_7 | Bladder | <!----> | F | 3-F-56 | 0 | 0.28678293 | ⋯ | bladder urothelial cell | 1 | NA | NA | 1 | CL:1001428 | 0.20666667 | Singlet | 0.20666667 | Singlet |\n",
       "| 10X_P7_7_TTTACTGGTGTTGAGG | 10X |  8753 | 3005 | 10X_P7_7 | Bladder | <!----> | F | 3-F-56 | 0 | 0.12087284 | ⋯ | bladder cell            | 5 | NA | NA | 5 | CL:1001319 | 0.14000000 | Singlet | 0.14000000 | Singlet |\n",
       "| 10X_P7_7_TTTCCTCCATACCATG | 10X | 14665 | 3778 | 10X_P7_7 | Bladder | <!----> | F | 3-F-56 | 0 | 0.11817252 | ⋯ | bladder cell            | 5 | NA | NA | 5 | CL:1001319 | 0.14333333 | Singlet | 0.14333333 | Singlet |\n",
       "| 10X_P7_7_TTTGTCAGTTACCGAT | 10X | 30363 | 4786 | 10X_P7_7 | Bladder | <!----> | F | 3-F-56 | 0 | 0.30701841 | ⋯ | bladder urothelial cell | 1 | NA | NA | 1 | CL:1001428 | 0.29000000 | Doublet | 0.29000000 | Doublet |\n",
       "| 10X_P7_7_TTTGTCATCTGTGCAA | 10X | 16524 | 3979 | 10X_P7_7 | Bladder | <!----> | F | 3-F-56 | 0 | 0.29950375 | ⋯ | bladder urothelial cell | 1 | NA | NA | 1 | CL:1001428 | 0.16000000 | Singlet | 0.16000000 | Singlet |\n",
       "\n"
      ],
      "text/plain": [
       "                          orig.ident nCount_RNA nFeature_RNA channel  tissue \n",
       "10X_P4_3_AAAGTAGAGATGCCAG 10X        10291      2853         10X_P4_3 Bladder\n",
       "10X_P4_3_AACCGCGTCCAACCAA 10X        17520      4194         10X_P4_3 Bladder\n",
       "10X_P4_3_AACTCCCGTCGGGTCT 10X        12944      3347         10X_P4_3 Bladder\n",
       "10X_P4_3_AACTCTTAGTTGCAGG 10X        19594      3851         10X_P4_3 Bladder\n",
       "10X_P4_3_AACTCTTTCATAACCG 10X        14594      3809         10X_P4_3 Bladder\n",
       "10X_P4_3_AAGACCTAGATCCGAG 10X        19190      3608         10X_P4_3 Bladder\n",
       "10X_P4_3_AAGACCTAGGTGGGTT 10X        24484      4347         10X_P4_3 Bladder\n",
       "10X_P4_3_AAGGAGCGTGCAACTT 10X         5005      1960         10X_P4_3 Bladder\n",
       "10X_P4_3_AAGTCTGAGATAGTCA 10X         6253      2236         10X_P4_3 Bladder\n",
       "10X_P4_3_ACAGCTATCATACGGT 10X        15910      3374         10X_P4_3 Bladder\n",
       "10X_P4_3_ACATACGCAGCTCCGA 10X         2881      1558         10X_P4_3 Bladder\n",
       "10X_P4_3_ACCAGTACACGTCTCT 10X         6894      2348         10X_P4_3 Bladder\n",
       "10X_P4_3_ACGAGCCAGATAGCAT 10X         9658      3141         10X_P4_3 Bladder\n",
       "10X_P4_3_ACGGAGATCGGAATCT 10X        11623      3357         10X_P4_3 Bladder\n",
       "10X_P4_3_ACGGGCTGTCTGATCA 10X         6878      2285         10X_P4_3 Bladder\n",
       "10X_P4_3_ACTGAACCATCCGGGT 10X         7428      2319         10X_P4_3 Bladder\n",
       "10X_P4_3_ACTTTCAAGATGGGTC 10X        10302      2875         10X_P4_3 Bladder\n",
       "10X_P4_3_AGACGTTTCTTACCGC 10X        10187      3197         10X_P4_3 Bladder\n",
       "10X_P4_3_AGAGCTTTCTGTTGAG 10X        25039      4812         10X_P4_3 Bladder\n",
       "10X_P4_3_AGCGGTCTCTGAGTGT 10X        23497      4152         10X_P4_3 Bladder\n",
       "10X_P4_3_AGCTTGAAGACTAAGT 10X         3102      1431         10X_P4_3 Bladder\n",
       "10X_P4_3_AGGGAGTCAATCGGTT 10X         6981      2323         10X_P4_3 Bladder\n",
       "10X_P4_3_AGGGATGAGTCGCCGT 10X         5259      1975         10X_P4_3 Bladder\n",
       "10X_P4_3_AGGGTGACAGTCGTGC 10X        11231      3314         10X_P4_3 Bladder\n",
       "10X_P4_3_AGGTCCGAGGACACCA 10X        26565      5040         10X_P4_3 Bladder\n",
       "10X_P4_3_AGTCTTTAGCTAGTGG 10X         2277      1098         10X_P4_3 Bladder\n",
       "10X_P4_3_AGTGAGGAGTGTACTC 10X         4800      1888         10X_P4_3 Bladder\n",
       "10X_P4_3_AGTGAGGTCAGCATGT 10X        19882      3884         10X_P4_3 Bladder\n",
       "10X_P4_3_AGTGTCACAGTATCTG 10X         6171      2299         10X_P4_3 Bladder\n",
       "10X_P4_3_ATCACGACAACAACCT 10X        14113      3699         10X_P4_3 Bladder\n",
       "⋮                         ⋮          ⋮          ⋮            ⋮        ⋮      \n",
       "10X_P7_7_TGTTCCGAGCTAACTC 10X        23228      4255         10X_P7_7 Bladder\n",
       "10X_P7_7_TGTTCCGAGCTCCCAG 10X        42860      5745         10X_P7_7 Bladder\n",
       "10X_P7_7_TTAACTCGTCTCTTTA 10X        35751      5422         10X_P7_7 Bladder\n",
       "10X_P7_7_TTAACTCTCAGAGACG 10X        31618      4440         10X_P7_7 Bladder\n",
       "10X_P7_7_TTAGGACAGACAAAGG 10X         9988      3201         10X_P7_7 Bladder\n",
       "10X_P7_7_TTAGGACCAGGGTACA 10X        11756      2880         10X_P7_7 Bladder\n",
       "10X_P7_7_TTAGGACGTCTCCCTA 10X         8516      2732         10X_P7_7 Bladder\n",
       "10X_P7_7_TTATGCTAGCCATCGC 10X        14870      3657         10X_P7_7 Bladder\n",
       "10X_P7_7_TTATGCTCAGATGAGC 10X        16126      3372         10X_P7_7 Bladder\n",
       "10X_P7_7_TTATGCTCAGCGTTCG 10X         4938      1528         10X_P7_7 Bladder\n",
       "10X_P7_7_TTATGCTTCCGAACGC 10X        11558      2319         10X_P7_7 Bladder\n",
       "10X_P7_7_TTATGCTTCCGCGGTA 10X         6376      2580         10X_P7_7 Bladder\n",
       "10X_P7_7_TTCCCAGTCATGTGGT 10X        34918      5002         10X_P7_7 Bladder\n",
       "10X_P7_7_TTCGGTCAGTGCGTGA 10X        14304      3511         10X_P7_7 Bladder\n",
       "10X_P7_7_TTCGGTCCAGCGTAAG 10X        22793      4562         10X_P7_7 Bladder\n",
       "10X_P7_7_TTCGGTCTCCGGGTGT 10X         8380      2764         10X_P7_7 Bladder\n",
       "10X_P7_7_TTCTCAAAGAGCCCAA 10X        37286      5356         10X_P7_7 Bladder\n",
       "10X_P7_7_TTCTCAACAAACGTGG 10X        14565      3769         10X_P7_7 Bladder\n",
       "10X_P7_7_TTGAACGAGATGTCGG 10X         9558      2972         10X_P7_7 Bladder\n",
       "10X_P7_7_TTGCGTCCAAAGTGCG 10X        11456      3241         10X_P7_7 Bladder\n",
       "10X_P7_7_TTGCGTCGTAGGACAC 10X        21269      3633         10X_P7_7 Bladder\n",
       "10X_P7_7_TTGGAACAGTAGATGT 10X         8974      2831         10X_P7_7 Bladder\n",
       "10X_P7_7_TTGGAACGTCTAGTCA 10X         6607      2546         10X_P7_7 Bladder\n",
       "10X_P7_7_TTGGAACGTGTCGCTG 10X        50069      5641         10X_P7_7 Bladder\n",
       "10X_P7_7_TTGTAGGCACTTGGAT 10X         9666      3087         10X_P7_7 Bladder\n",
       "10X_P7_7_TTGTAGGTCATGTAGC 10X        22993      4296         10X_P7_7 Bladder\n",
       "10X_P7_7_TTTACTGGTGTTGAGG 10X         8753      3005         10X_P7_7 Bladder\n",
       "10X_P7_7_TTTCCTCCATACCATG 10X        14665      3778         10X_P7_7 Bladder\n",
       "10X_P7_7_TTTGTCAGTTACCGAT 10X        30363      4786         10X_P7_7 Bladder\n",
       "10X_P7_7_TTTGTCATCTGTGCAA 10X        16524      3979         10X_P7_7 Bladder\n",
       "                          subtissue mouse.sex mouse.id percent.ercc\n",
       "10X_P4_3_AAAGTAGAGATGCCAG           M         3-M-8    0           \n",
       "10X_P4_3_AACCGCGTCCAACCAA           M         3-M-8    0           \n",
       "10X_P4_3_AACTCCCGTCGGGTCT           M         3-M-8    0           \n",
       "10X_P4_3_AACTCTTAGTTGCAGG           M         3-M-8    0           \n",
       "10X_P4_3_AACTCTTTCATAACCG           M         3-M-8    0           \n",
       "10X_P4_3_AAGACCTAGATCCGAG           M         3-M-8    0           \n",
       "10X_P4_3_AAGACCTAGGTGGGTT           M         3-M-8    0           \n",
       "10X_P4_3_AAGGAGCGTGCAACTT           M         3-M-8    0           \n",
       "10X_P4_3_AAGTCTGAGATAGTCA           M         3-M-8    0           \n",
       "10X_P4_3_ACAGCTATCATACGGT           M         3-M-8    0           \n",
       "10X_P4_3_ACATACGCAGCTCCGA           M         3-M-8    0           \n",
       "10X_P4_3_ACCAGTACACGTCTCT           M         3-M-8    0           \n",
       "10X_P4_3_ACGAGCCAGATAGCAT           M         3-M-8    0           \n",
       "10X_P4_3_ACGGAGATCGGAATCT           M         3-M-8    0           \n",
       "10X_P4_3_ACGGGCTGTCTGATCA           M         3-M-8    0           \n",
       "10X_P4_3_ACTGAACCATCCGGGT           M         3-M-8    0           \n",
       "10X_P4_3_ACTTTCAAGATGGGTC           M         3-M-8    0           \n",
       "10X_P4_3_AGACGTTTCTTACCGC           M         3-M-8    0           \n",
       "10X_P4_3_AGAGCTTTCTGTTGAG           M         3-M-8    0           \n",
       "10X_P4_3_AGCGGTCTCTGAGTGT           M         3-M-8    0           \n",
       "10X_P4_3_AGCTTGAAGACTAAGT           M         3-M-8    0           \n",
       "10X_P4_3_AGGGAGTCAATCGGTT           M         3-M-8    0           \n",
       "10X_P4_3_AGGGATGAGTCGCCGT           M         3-M-8    0           \n",
       "10X_P4_3_AGGGTGACAGTCGTGC           M         3-M-8    0           \n",
       "10X_P4_3_AGGTCCGAGGACACCA           M         3-M-8    0           \n",
       "10X_P4_3_AGTCTTTAGCTAGTGG           M         3-M-8    0           \n",
       "10X_P4_3_AGTGAGGAGTGTACTC           M         3-M-8    0           \n",
       "10X_P4_3_AGTGAGGTCAGCATGT           M         3-M-8    0           \n",
       "10X_P4_3_AGTGTCACAGTATCTG           M         3-M-8    0           \n",
       "10X_P4_3_ATCACGACAACAACCT           M         3-M-8    0           \n",
       "⋮                         ⋮         ⋮         ⋮        ⋮           \n",
       "10X_P7_7_TGTTCCGAGCTAACTC           F         3-F-56   0           \n",
       "10X_P7_7_TGTTCCGAGCTCCCAG           F         3-F-56   0           \n",
       "10X_P7_7_TTAACTCGTCTCTTTA           F         3-F-56   0           \n",
       "10X_P7_7_TTAACTCTCAGAGACG           F         3-F-56   0           \n",
       "10X_P7_7_TTAGGACAGACAAAGG           F         3-F-56   0           \n",
       "10X_P7_7_TTAGGACCAGGGTACA           F         3-F-56   0           \n",
       "10X_P7_7_TTAGGACGTCTCCCTA           F         3-F-56   0           \n",
       "10X_P7_7_TTATGCTAGCCATCGC           F         3-F-56   0           \n",
       "10X_P7_7_TTATGCTCAGATGAGC           F         3-F-56   0           \n",
       "10X_P7_7_TTATGCTCAGCGTTCG           F         3-F-56   0           \n",
       "10X_P7_7_TTATGCTTCCGAACGC           F         3-F-56   0           \n",
       "10X_P7_7_TTATGCTTCCGCGGTA           F         3-F-56   0           \n",
       "10X_P7_7_TTCCCAGTCATGTGGT           F         3-F-56   0           \n",
       "10X_P7_7_TTCGGTCAGTGCGTGA           F         3-F-56   0           \n",
       "10X_P7_7_TTCGGTCCAGCGTAAG           F         3-F-56   0           \n",
       "10X_P7_7_TTCGGTCTCCGGGTGT           F         3-F-56   0           \n",
       "10X_P7_7_TTCTCAAAGAGCCCAA           F         3-F-56   0           \n",
       "10X_P7_7_TTCTCAACAAACGTGG           F         3-F-56   0           \n",
       "10X_P7_7_TTGAACGAGATGTCGG           F         3-F-56   0           \n",
       "10X_P7_7_TTGCGTCCAAAGTGCG           F         3-F-56   0           \n",
       "10X_P7_7_TTGCGTCGTAGGACAC           F         3-F-56   0           \n",
       "10X_P7_7_TTGGAACAGTAGATGT           F         3-F-56   0           \n",
       "10X_P7_7_TTGGAACGTCTAGTCA           F         3-F-56   0           \n",
       "10X_P7_7_TTGGAACGTGTCGCTG           F         3-F-56   0           \n",
       "10X_P7_7_TTGTAGGCACTTGGAT           F         3-F-56   0           \n",
       "10X_P7_7_TTGTAGGTCATGTAGC           F         3-F-56   0           \n",
       "10X_P7_7_TTTACTGGTGTTGAGG           F         3-F-56   0           \n",
       "10X_P7_7_TTTCCTCCATACCATG           F         3-F-56   0           \n",
       "10X_P7_7_TTTGTCAGTTACCGAT           F         3-F-56   0           \n",
       "10X_P7_7_TTTGTCATCTGTGCAA           F         3-F-56   0           \n",
       "                          percent.ribo ⋯ cell_ontology_class     res.0.4\n",
       "10X_P4_3_AAAGTAGAGATGCCAG 0.21960937   ⋯ bladder cell            0      \n",
       "10X_P4_3_AACCGCGTCCAACCAA 0.17671233   ⋯ bladder cell            2      \n",
       "10X_P4_3_AACTCCCGTCGGGTCT 0.19244438   ⋯ bladder cell            5      \n",
       "10X_P4_3_AACTCTTAGTTGCAGG 0.35638461   ⋯ bladder urothelial cell 3      \n",
       "10X_P4_3_AACTCTTTCATAACCG 0.15711936   ⋯ bladder cell            2      \n",
       "10X_P4_3_AAGACCTAGATCCGAG 0.23778009   ⋯ leukocyte               6      \n",
       "10X_P4_3_AAGACCTAGGTGGGTT 0.32809182   ⋯ bladder urothelial cell 1      \n",
       "10X_P4_3_AAGGAGCGTGCAACTT 0.19020979   ⋯ bladder cell            0      \n",
       "10X_P4_3_AAGTCTGAGATAGTCA 0.22597153   ⋯ bladder urothelial cell 4      \n",
       "10X_P4_3_ACAGCTATCATACGGT 0.33777498   ⋯ bladder urothelial cell 1      \n",
       "10X_P4_3_ACATACGCAGCTCCGA 0.13259285   ⋯ bladder urothelial cell 4      \n",
       "10X_P4_3_ACCAGTACACGTCTCT 0.20075428   ⋯ bladder cell            0      \n",
       "10X_P4_3_ACGAGCCAGATAGCAT 0.16328432   ⋯ bladder cell            0      \n",
       "10X_P4_3_ACGGAGATCGGAATCT 0.15701626   ⋯ bladder cell            2      \n",
       "10X_P4_3_ACGGGCTGTCTGATCA 0.17214306   ⋯ bladder cell            0      \n",
       "10X_P4_3_ACTGAACCATCCGGGT 0.17514809   ⋯ bladder cell            0      \n",
       "10X_P4_3_ACTTTCAAGATGGGTC 0.31819064   ⋯ bladder urothelial cell 1      \n",
       "10X_P4_3_AGACGTTTCTTACCGC 0.09207814   ⋯ bladder cell            5      \n",
       "10X_P4_3_AGAGCTTTCTGTTGAG 0.18882543   ⋯ bladder cell            2      \n",
       "10X_P4_3_AGCGGTCTCTGAGTGT 0.36498276   ⋯ bladder urothelial cell 1      \n",
       "10X_P4_3_AGCTTGAAGACTAAGT 0.12250161   ⋯ bladder cell            0      \n",
       "10X_P4_3_AGGGAGTCAATCGGTT 0.20369575   ⋯ bladder cell            0      \n",
       "10X_P4_3_AGGGATGAGTCGCCGT 0.16600114   ⋯ bladder cell            0      \n",
       "10X_P4_3_AGGGTGACAGTCGTGC 0.16222954   ⋯ bladder cell            0      \n",
       "10X_P4_3_AGGTCCGAGGACACCA 0.27174854   ⋯ bladder urothelial cell 1      \n",
       "10X_P4_3_AGTCTTTAGCTAGTGG 0.16161616   ⋯ bladder cell            0      \n",
       "10X_P4_3_AGTGAGGAGTGTACTC 0.13708333   ⋯ bladder cell            0      \n",
       "10X_P4_3_AGTGAGGTCAGCATGT 0.31520974   ⋯ bladder urothelial cell 1      \n",
       "10X_P4_3_AGTGTCACAGTATCTG 0.11181332   ⋯ bladder cell            5      \n",
       "10X_P4_3_ATCACGACAACAACCT 0.14065046   ⋯ bladder cell            2      \n",
       "⋮                         ⋮            ⋱ ⋮                       ⋮      \n",
       "10X_P7_7_TGTTCCGAGCTAACTC 0.34092475   ⋯ bladder urothelial cell 1      \n",
       "10X_P7_7_TGTTCCGAGCTCCCAG 0.37134858   ⋯ bladder urothelial cell 1      \n",
       "10X_P7_7_TTAACTCGTCTCTTTA 0.24913988   ⋯ bladder urothelial cell 1      \n",
       "10X_P7_7_TTAACTCTCAGAGACG 0.34100829   ⋯ bladder urothelial cell 4      \n",
       "10X_P7_7_TTAGGACAGACAAAGG 0.14717661   ⋯ bladder cell            5      \n",
       "10X_P7_7_TTAGGACCAGGGTACA 0.31405240   ⋯ bladder urothelial cell 1      \n",
       "10X_P7_7_TTAGGACGTCTCCCTA 0.14560827   ⋯ bladder cell            5      \n",
       "10X_P7_7_TTATGCTAGCCATCGC 0.32313383   ⋯ bladder urothelial cell 1      \n",
       "10X_P7_7_TTATGCTCAGATGAGC 0.26851048   ⋯ bladder urothelial cell 4      \n",
       "10X_P7_7_TTATGCTCAGCGTTCG 0.04597003   ⋯ leukocyte               6      \n",
       "10X_P7_7_TTATGCTTCCGAACGC 0.11792698   ⋯ leukocyte               6      \n",
       "10X_P7_7_TTATGCTTCCGCGGTA 0.12531368   ⋯ bladder cell            0      \n",
       "10X_P7_7_TTCCCAGTCATGTGGT 0.29950169   ⋯ bladder urothelial cell 1      \n",
       "10X_P7_7_TTCGGTCAGTGCGTGA 0.16072427   ⋯ bladder cell            5      \n",
       "10X_P7_7_TTCGGTCCAGCGTAAG 0.24985741   ⋯ bladder urothelial cell 1      \n",
       "10X_P7_7_TTCGGTCTCCGGGTGT 0.14439141   ⋯ bladder cell            5      \n",
       "10X_P7_7_TTCTCAAAGAGCCCAA 0.36834201   ⋯ bladder urothelial cell 1      \n",
       "10X_P7_7_TTCTCAACAAACGTGG 0.11342259   ⋯ bladder cell            5      \n",
       "10X_P7_7_TTGAACGAGATGTCGG 0.16970077   ⋯ bladder cell            5      \n",
       "10X_P7_7_TTGCGTCCAAAGTGCG 0.16096369   ⋯ bladder cell            5      \n",
       "10X_P7_7_TTGCGTCGTAGGACAC 0.34331656   ⋯ bladder urothelial cell 1      \n",
       "10X_P7_7_TTGGAACAGTAGATGT 0.13527970   ⋯ bladder cell            5      \n",
       "10X_P7_7_TTGGAACGTCTAGTCA 0.13319207   ⋯ bladder cell            0      \n",
       "10X_P7_7_TTGGAACGTGTCGCTG 0.40040744   ⋯ bladder urothelial cell 4      \n",
       "10X_P7_7_TTGTAGGCACTTGGAT 0.10862818   ⋯ endothelial cell        7      \n",
       "10X_P7_7_TTGTAGGTCATGTAGC 0.28678293   ⋯ bladder urothelial cell 1      \n",
       "10X_P7_7_TTTACTGGTGTTGAGG 0.12087284   ⋯ bladder cell            5      \n",
       "10X_P7_7_TTTCCTCCATACCATG 0.11817252   ⋯ bladder cell            5      \n",
       "10X_P7_7_TTTGTCAGTTACCGAT 0.30701841   ⋯ bladder urothelial cell 1      \n",
       "10X_P7_7_TTTGTCATCTGTGCAA 0.29950375   ⋯ bladder urothelial cell 1      \n",
       "                          previous_free_annotation previous_cell_ontology_class\n",
       "10X_P4_3_AAAGTAGAGATGCCAG NA                       NA                          \n",
       "10X_P4_3_AACCGCGTCCAACCAA NA                       NA                          \n",
       "10X_P4_3_AACTCCCGTCGGGTCT NA                       NA                          \n",
       "10X_P4_3_AACTCTTAGTTGCAGG NA                       NA                          \n",
       "10X_P4_3_AACTCTTTCATAACCG NA                       NA                          \n",
       "10X_P4_3_AAGACCTAGATCCGAG NA                       NA                          \n",
       "10X_P4_3_AAGACCTAGGTGGGTT NA                       NA                          \n",
       "10X_P4_3_AAGGAGCGTGCAACTT NA                       NA                          \n",
       "10X_P4_3_AAGTCTGAGATAGTCA NA                       NA                          \n",
       "10X_P4_3_ACAGCTATCATACGGT NA                       NA                          \n",
       "10X_P4_3_ACATACGCAGCTCCGA NA                       NA                          \n",
       "10X_P4_3_ACCAGTACACGTCTCT NA                       NA                          \n",
       "10X_P4_3_ACGAGCCAGATAGCAT NA                       NA                          \n",
       "10X_P4_3_ACGGAGATCGGAATCT NA                       NA                          \n",
       "10X_P4_3_ACGGGCTGTCTGATCA NA                       NA                          \n",
       "10X_P4_3_ACTGAACCATCCGGGT NA                       NA                          \n",
       "10X_P4_3_ACTTTCAAGATGGGTC NA                       NA                          \n",
       "10X_P4_3_AGACGTTTCTTACCGC NA                       NA                          \n",
       "10X_P4_3_AGAGCTTTCTGTTGAG NA                       NA                          \n",
       "10X_P4_3_AGCGGTCTCTGAGTGT NA                       NA                          \n",
       "10X_P4_3_AGCTTGAAGACTAAGT NA                       NA                          \n",
       "10X_P4_3_AGGGAGTCAATCGGTT NA                       NA                          \n",
       "10X_P4_3_AGGGATGAGTCGCCGT NA                       NA                          \n",
       "10X_P4_3_AGGGTGACAGTCGTGC NA                       NA                          \n",
       "10X_P4_3_AGGTCCGAGGACACCA NA                       NA                          \n",
       "10X_P4_3_AGTCTTTAGCTAGTGG NA                       NA                          \n",
       "10X_P4_3_AGTGAGGAGTGTACTC NA                       NA                          \n",
       "10X_P4_3_AGTGAGGTCAGCATGT NA                       NA                          \n",
       "10X_P4_3_AGTGTCACAGTATCTG NA                       NA                          \n",
       "10X_P4_3_ATCACGACAACAACCT NA                       NA                          \n",
       "⋮                         ⋮                        ⋮                           \n",
       "10X_P7_7_TGTTCCGAGCTAACTC NA                       NA                          \n",
       "10X_P7_7_TGTTCCGAGCTCCCAG NA                       NA                          \n",
       "10X_P7_7_TTAACTCGTCTCTTTA NA                       NA                          \n",
       "10X_P7_7_TTAACTCTCAGAGACG NA                       NA                          \n",
       "10X_P7_7_TTAGGACAGACAAAGG NA                       NA                          \n",
       "10X_P7_7_TTAGGACCAGGGTACA NA                       NA                          \n",
       "10X_P7_7_TTAGGACGTCTCCCTA NA                       NA                          \n",
       "10X_P7_7_TTATGCTAGCCATCGC NA                       NA                          \n",
       "10X_P7_7_TTATGCTCAGATGAGC NA                       NA                          \n",
       "10X_P7_7_TTATGCTCAGCGTTCG NA                       NA                          \n",
       "10X_P7_7_TTATGCTTCCGAACGC NA                       NA                          \n",
       "10X_P7_7_TTATGCTTCCGCGGTA NA                       NA                          \n",
       "10X_P7_7_TTCCCAGTCATGTGGT NA                       NA                          \n",
       "10X_P7_7_TTCGGTCAGTGCGTGA NA                       NA                          \n",
       "10X_P7_7_TTCGGTCCAGCGTAAG NA                       NA                          \n",
       "10X_P7_7_TTCGGTCTCCGGGTGT NA                       NA                          \n",
       "10X_P7_7_TTCTCAAAGAGCCCAA NA                       NA                          \n",
       "10X_P7_7_TTCTCAACAAACGTGG NA                       NA                          \n",
       "10X_P7_7_TTGAACGAGATGTCGG NA                       NA                          \n",
       "10X_P7_7_TTGCGTCCAAAGTGCG NA                       NA                          \n",
       "10X_P7_7_TTGCGTCGTAGGACAC NA                       NA                          \n",
       "10X_P7_7_TTGGAACAGTAGATGT NA                       NA                          \n",
       "10X_P7_7_TTGGAACGTCTAGTCA NA                       NA                          \n",
       "10X_P7_7_TTGGAACGTGTCGCTG NA                       NA                          \n",
       "10X_P7_7_TTGTAGGCACTTGGAT NA                       NA                          \n",
       "10X_P7_7_TTGTAGGTCATGTAGC NA                       NA                          \n",
       "10X_P7_7_TTTACTGGTGTTGAGG NA                       NA                          \n",
       "10X_P7_7_TTTCCTCCATACCATG NA                       NA                          \n",
       "10X_P7_7_TTTGTCAGTTACCGAT NA                       NA                          \n",
       "10X_P7_7_TTTGTCATCTGTGCAA NA                       NA                          \n",
       "                          cluster.ids cell_ontology_id Double_score Is_Double\n",
       "10X_P4_3_AAAGTAGAGATGCCAG 0           CL:1001319       0.05666667   Singlet  \n",
       "10X_P4_3_AACCGCGTCCAACCAA 2           CL:1001319       0.23000000   Singlet  \n",
       "10X_P4_3_AACTCCCGTCGGGTCT 5           CL:1001319       0.15000000   Singlet  \n",
       "10X_P4_3_AACTCTTAGTTGCAGG 3           CL:1001428       0.26000000   Singlet  \n",
       "10X_P4_3_AACTCTTTCATAACCG 2           CL:1001319       0.16000000   Singlet  \n",
       "10X_P4_3_AAGACCTAGATCCGAG 6           CL:0000738       0.43333333   Doublet  \n",
       "10X_P4_3_AAGACCTAGGTGGGTT 1           CL:1001428       0.25333333   Singlet  \n",
       "10X_P4_3_AAGGAGCGTGCAACTT 0           CL:1001319       0.06000000   Singlet  \n",
       "10X_P4_3_AAGTCTGAGATAGTCA 4           CL:1001428       0.25666667   Singlet  \n",
       "10X_P4_3_ACAGCTATCATACGGT 1           CL:1001428       0.14666667   Singlet  \n",
       "10X_P4_3_ACATACGCAGCTCCGA 4           CL:1001428       0.22666667   Singlet  \n",
       "10X_P4_3_ACCAGTACACGTCTCT 0           CL:1001319       0.06000000   Singlet  \n",
       "10X_P4_3_ACGAGCCAGATAGCAT 0           CL:1001319       0.09333333   Singlet  \n",
       "10X_P4_3_ACGGAGATCGGAATCT 2           CL:1001319       0.12333333   Singlet  \n",
       "10X_P4_3_ACGGGCTGTCTGATCA 0           CL:1001319       0.06000000   Singlet  \n",
       "10X_P4_3_ACTGAACCATCCGGGT 0           CL:1001319       0.24000000   Singlet  \n",
       "10X_P4_3_ACTTTCAAGATGGGTC 1           CL:1001428       0.14333333   Singlet  \n",
       "10X_P4_3_AGACGTTTCTTACCGC 5           CL:1001319       0.19666667   Singlet  \n",
       "10X_P4_3_AGAGCTTTCTGTTGAG 2           CL:1001319       0.18666667   Singlet  \n",
       "10X_P4_3_AGCGGTCTCTGAGTGT 1           CL:1001428       0.25000000   Singlet  \n",
       "10X_P4_3_AGCTTGAAGACTAAGT 0           CL:1001319       0.03000000   Singlet  \n",
       "10X_P4_3_AGGGAGTCAATCGGTT 0           CL:1001319       0.15000000   Singlet  \n",
       "10X_P4_3_AGGGATGAGTCGCCGT 0           CL:1001319       0.18000000   Singlet  \n",
       "10X_P4_3_AGGGTGACAGTCGTGC 0           CL:1001319       0.20333333   Singlet  \n",
       "10X_P4_3_AGGTCCGAGGACACCA 1           CL:1001428       0.31666667   Doublet  \n",
       "10X_P4_3_AGTCTTTAGCTAGTGG 0           CL:1001319       0.07333333   Singlet  \n",
       "10X_P4_3_AGTGAGGAGTGTACTC 0           CL:1001319       0.11333333   Singlet  \n",
       "10X_P4_3_AGTGAGGTCAGCATGT 1           CL:1001428       0.26666667   Singlet  \n",
       "10X_P4_3_AGTGTCACAGTATCTG 5           CL:1001319       0.09666667   Singlet  \n",
       "10X_P4_3_ATCACGACAACAACCT 2           CL:1001319       0.30000000   Doublet  \n",
       "⋮                         ⋮           ⋮                ⋮            ⋮        \n",
       "10X_P7_7_TGTTCCGAGCTAACTC 1           CL:1001428       0.24000000   Singlet  \n",
       "10X_P7_7_TGTTCCGAGCTCCCAG 1           CL:1001428       0.26666667   Singlet  \n",
       "10X_P7_7_TTAACTCGTCTCTTTA 1           CL:1001428       0.20666667   Singlet  \n",
       "10X_P7_7_TTAACTCTCAGAGACG 4           CL:1001428       0.27666667   Doublet  \n",
       "10X_P7_7_TTAGGACAGACAAAGG 5           CL:1001319       0.20666667   Singlet  \n",
       "10X_P7_7_TTAGGACCAGGGTACA 1           CL:1001428       0.24666667   Singlet  \n",
       "10X_P7_7_TTAGGACGTCTCCCTA 5           CL:1001319       0.17666667   Singlet  \n",
       "10X_P7_7_TTATGCTAGCCATCGC 1           CL:1001428       0.19000000   Singlet  \n",
       "10X_P7_7_TTATGCTCAGATGAGC 4           CL:1001428       0.28000000   Doublet  \n",
       "10X_P7_7_TTATGCTCAGCGTTCG 6           CL:0000738       0.22000000   Singlet  \n",
       "10X_P7_7_TTATGCTTCCGAACGC 6           CL:0000738       0.37000000   Doublet  \n",
       "10X_P7_7_TTATGCTTCCGCGGTA 0           CL:1001319       0.12000000   Singlet  \n",
       "10X_P7_7_TTCCCAGTCATGTGGT 1           CL:1001428       0.19666667   Singlet  \n",
       "10X_P7_7_TTCGGTCAGTGCGTGA 5           CL:1001319       0.17000000   Singlet  \n",
       "10X_P7_7_TTCGGTCCAGCGTAAG 1           CL:1001428       0.31000000   Doublet  \n",
       "10X_P7_7_TTCGGTCTCCGGGTGT 5           CL:1001319       0.16000000   Singlet  \n",
       "10X_P7_7_TTCTCAAAGAGCCCAA 1           CL:1001428       0.27000000   Singlet  \n",
       "10X_P7_7_TTCTCAACAAACGTGG 5           CL:1001319       0.17333333   Singlet  \n",
       "10X_P7_7_TTGAACGAGATGTCGG 5           CL:1001319       0.15000000   Singlet  \n",
       "10X_P7_7_TTGCGTCCAAAGTGCG 5           CL:1001319       0.16333333   Singlet  \n",
       "10X_P7_7_TTGCGTCGTAGGACAC 1           CL:1001428       0.28666667   Doublet  \n",
       "10X_P7_7_TTGGAACAGTAGATGT 5           CL:1001319       0.18333333   Singlet  \n",
       "10X_P7_7_TTGGAACGTCTAGTCA 0           CL:1001319       0.07333333   Singlet  \n",
       "10X_P7_7_TTGGAACGTGTCGCTG 4           CL:1001428       0.24333333   Singlet  \n",
       "10X_P7_7_TTGTAGGCACTTGGAT 7           CL:0000115       0.14666667   Singlet  \n",
       "10X_P7_7_TTGTAGGTCATGTAGC 1           CL:1001428       0.20666667   Singlet  \n",
       "10X_P7_7_TTTACTGGTGTTGAGG 5           CL:1001319       0.14000000   Singlet  \n",
       "10X_P7_7_TTTCCTCCATACCATG 5           CL:1001319       0.14333333   Singlet  \n",
       "10X_P7_7_TTTGTCAGTTACCGAT 1           CL:1001428       0.29000000   Doublet  \n",
       "10X_P7_7_TTTGTCATCTGTGCAA 1           CL:1001428       0.16000000   Singlet  \n",
       "                          Double_score1 Is_Double1\n",
       "10X_P4_3_AAAGTAGAGATGCCAG 0.05666667    Singlet   \n",
       "10X_P4_3_AACCGCGTCCAACCAA 0.23000000    Singlet   \n",
       "10X_P4_3_AACTCCCGTCGGGTCT 0.15000000    Singlet   \n",
       "10X_P4_3_AACTCTTAGTTGCAGG 0.26000000    Singlet   \n",
       "10X_P4_3_AACTCTTTCATAACCG 0.16000000    Singlet   \n",
       "10X_P4_3_AAGACCTAGATCCGAG 0.43333333    Doublet   \n",
       "10X_P4_3_AAGACCTAGGTGGGTT 0.25333333    Singlet   \n",
       "10X_P4_3_AAGGAGCGTGCAACTT 0.06000000    Singlet   \n",
       "10X_P4_3_AAGTCTGAGATAGTCA 0.25666667    Singlet   \n",
       "10X_P4_3_ACAGCTATCATACGGT 0.14666667    Singlet   \n",
       "10X_P4_3_ACATACGCAGCTCCGA 0.22666667    Singlet   \n",
       "10X_P4_3_ACCAGTACACGTCTCT 0.06000000    Singlet   \n",
       "10X_P4_3_ACGAGCCAGATAGCAT 0.09333333    Singlet   \n",
       "10X_P4_3_ACGGAGATCGGAATCT 0.12333333    Singlet   \n",
       "10X_P4_3_ACGGGCTGTCTGATCA 0.06000000    Singlet   \n",
       "10X_P4_3_ACTGAACCATCCGGGT 0.24000000    Singlet   \n",
       "10X_P4_3_ACTTTCAAGATGGGTC 0.14333333    Singlet   \n",
       "10X_P4_3_AGACGTTTCTTACCGC 0.19666667    Singlet   \n",
       "10X_P4_3_AGAGCTTTCTGTTGAG 0.18666667    Singlet   \n",
       "10X_P4_3_AGCGGTCTCTGAGTGT 0.25000000    Singlet   \n",
       "10X_P4_3_AGCTTGAAGACTAAGT 0.03000000    Singlet   \n",
       "10X_P4_3_AGGGAGTCAATCGGTT 0.15000000    Singlet   \n",
       "10X_P4_3_AGGGATGAGTCGCCGT 0.18000000    Singlet   \n",
       "10X_P4_3_AGGGTGACAGTCGTGC 0.20333333    Singlet   \n",
       "10X_P4_3_AGGTCCGAGGACACCA 0.31666667    Doublet   \n",
       "10X_P4_3_AGTCTTTAGCTAGTGG 0.07333333    Singlet   \n",
       "10X_P4_3_AGTGAGGAGTGTACTC 0.11333333    Singlet   \n",
       "10X_P4_3_AGTGAGGTCAGCATGT 0.26666667    Singlet   \n",
       "10X_P4_3_AGTGTCACAGTATCTG 0.09666667    Singlet   \n",
       "10X_P4_3_ATCACGACAACAACCT 0.30000000    Doublet   \n",
       "⋮                         ⋮             ⋮         \n",
       "10X_P7_7_TGTTCCGAGCTAACTC 0.24000000    Singlet   \n",
       "10X_P7_7_TGTTCCGAGCTCCCAG 0.26666667    Singlet   \n",
       "10X_P7_7_TTAACTCGTCTCTTTA 0.20666667    Singlet   \n",
       "10X_P7_7_TTAACTCTCAGAGACG 0.27666667    Doublet   \n",
       "10X_P7_7_TTAGGACAGACAAAGG 0.20666667    Singlet   \n",
       "10X_P7_7_TTAGGACCAGGGTACA 0.24666667    Singlet   \n",
       "10X_P7_7_TTAGGACGTCTCCCTA 0.17666667    Singlet   \n",
       "10X_P7_7_TTATGCTAGCCATCGC 0.19000000    Singlet   \n",
       "10X_P7_7_TTATGCTCAGATGAGC 0.28000000    Doublet   \n",
       "10X_P7_7_TTATGCTCAGCGTTCG 0.22000000    Singlet   \n",
       "10X_P7_7_TTATGCTTCCGAACGC 0.37000000    Doublet   \n",
       "10X_P7_7_TTATGCTTCCGCGGTA 0.12000000    Singlet   \n",
       "10X_P7_7_TTCCCAGTCATGTGGT 0.19666667    Singlet   \n",
       "10X_P7_7_TTCGGTCAGTGCGTGA 0.17000000    Singlet   \n",
       "10X_P7_7_TTCGGTCCAGCGTAAG 0.31000000    Doublet   \n",
       "10X_P7_7_TTCGGTCTCCGGGTGT 0.16000000    Singlet   \n",
       "10X_P7_7_TTCTCAAAGAGCCCAA 0.27000000    Singlet   \n",
       "10X_P7_7_TTCTCAACAAACGTGG 0.17333333    Singlet   \n",
       "10X_P7_7_TTGAACGAGATGTCGG 0.15000000    Singlet   \n",
       "10X_P7_7_TTGCGTCCAAAGTGCG 0.16333333    Singlet   \n",
       "10X_P7_7_TTGCGTCGTAGGACAC 0.28666667    Doublet   \n",
       "10X_P7_7_TTGGAACAGTAGATGT 0.18333333    Singlet   \n",
       "10X_P7_7_TTGGAACGTCTAGTCA 0.07333333    Singlet   \n",
       "10X_P7_7_TTGGAACGTGTCGCTG 0.24333333    Singlet   \n",
       "10X_P7_7_TTGTAGGCACTTGGAT 0.14666667    Singlet   \n",
       "10X_P7_7_TTGTAGGTCATGTAGC 0.20666667    Singlet   \n",
       "10X_P7_7_TTTACTGGTGTTGAGG 0.14000000    Singlet   \n",
       "10X_P7_7_TTTCCTCCATACCATG 0.14333333    Singlet   \n",
       "10X_P7_7_TTTGTCAGTTACCGAT 0.29000000    Doublet   \n",
       "10X_P7_7_TTTGTCATCTGTGCAA 0.16000000    Singlet   "
      ]
     },
     "metadata": {},
     "output_type": "display_data"
    }
   ],
   "source": [
    "srat@meta.data"
   ]
  },
  {
   "cell_type": "code",
   "execution_count": 34,
   "id": "2ea8ca0e-184d-491a-87b9-fad2a853b9e8",
   "metadata": {},
   "outputs": [],
   "source": [
    "library(stringr)\n",
    "colnames(srat@meta.data)[str_starts(colnames(srat@meta.data),\"pANN_\")] <- \"Double_score\"\n",
    "colnames(srat@meta.data)[str_starts(colnames(srat@meta.data),\"DF.classifications_\")] <- \"Is_Double\""
   ]
  },
  {
   "cell_type": "code",
   "execution_count": null,
   "id": "a689cace-d909-43d5-912f-f0753cb206a2",
   "metadata": {},
   "outputs": [],
   "source": [
    "sce <- as.SingleCellExperiment(srat)\n",
    "sce"
   ]
  },
  {
   "cell_type": "code",
   "execution_count": null,
   "id": "c9795a34-1a6d-4706-a3e8-447e9afa6f6c",
   "metadata": {},
   "outputs": [],
   "source": [
    "# BiocManager::install(\"plger/scDblfinder\")\n",
    "# install.packages(\"irlba\",type = \"source\")\n",
    "remotes::install_github(\"Moonerss/scrubletR\")"
   ]
  },
  {
   "cell_type": "code",
   "execution_count": null,
   "id": "fd83ca8c-6834-430a-9b7e-6ba0a462e9a4",
   "metadata": {},
   "outputs": [],
   "source": [
    "scrublet_R <- function(seurat_obj, python_home = Sys.which(\"python3\"),\n",
    "                       return_results_only = FALSE, min_counts=2,\n",
    "                       min_cells=3, expected_doublet_rate=0.06,\n",
    "                       min_gene_variability_pctl=85,\n",
    "                       n_prin_comps=50, sim_doublet_ratio=2, n_neighbors=NULL) {\n",
    "  ## use the python\n",
    "  reticulate::use_python(python_home)\n",
    "\n",
    "  ## test whether have the modules\n",
    "  if (!reticulate::py_module_available(\"scrublet\")) {\n",
    "    stop(\"python module scrublet does not seem to be installed; - try running 'py_config()'\")\n",
    "  }\n",
    "\n",
    "  ## source .py file\n",
    "  reticulate::source_python(paste(system.file(package = \"scrubletR\"), \"scrublet.py\", sep = \"/\"))\n",
    "\n",
    "  ## prepare the data\n",
    "  X <- as(Matrix::t(seurat_obj@assays$RNA@counts), \"TsparseMatrix\")\n",
    "  i <- as.integer(X@i)\n",
    "  j <- as.integer(X@j)\n",
    "  val <- X@x\n",
    "  dim <- as.integer(X@Dim)\n",
    "  if(is.null(n_neighbors)){\n",
    "    n_neighbors<-round(0.5*sqrt(nrow(X)))\n",
    "  }\n",
    "\n",
    "  ## do the scrublet analysis\n",
    "  scrublet_py_args<-c(list(i=i, j=j, val=val, dim=dim,\n",
    "                           expected_doublet_rate=expected_doublet_rate, min_counts=min_counts,\n",
    "                           min_cells=min_cells, min_gene_variability_pctl=min_gene_variability_pctl, n_prin_comps=n_prin_comps,\n",
    "                           sim_doublet_ratio=sim_doublet_ratio, n_neighbors=n_neighbors))\n",
    "  scrublet_res <- do.call(scrublet_py, scrublet_py_args)\n",
    "  names(scrublet_res)<-c(\"doublet_scores\", \"predicted_doublets\")\n",
    "\n",
    "  ## get the result\n",
    "  if (return_results_only) {\n",
    "    return(scrublet_res)\n",
    "  } else {\n",
    "    seurat_obj[[\"doublet_scores\"]] <- scrublet_res$doublet_scores\n",
    "    seurat_obj[[\"predicted_doublets\"]] <- scrublet_res$predicted_doublets\n",
    "    return(seurat_obj)\n",
    "  }\n",
    "}"
   ]
  },
  {
   "cell_type": "code",
   "execution_count": null,
   "id": "20157ead-3bbc-453a-96fc-e1387d7a9832",
   "metadata": {},
   "outputs": [],
   "source": [
    "# library(scrubletR)\n",
    "res <- scrublet_R(srat)\n",
    "res"
   ]
  },
  {
   "cell_type": "code",
   "execution_count": null,
   "id": "5ad171ab-799d-499b-9b69-c0455f45f74c",
   "metadata": {},
   "outputs": [],
   "source": [
    "sce <- runScrublet(sce)\n",
    "sce"
   ]
  },
  {
   "cell_type": "code",
   "execution_count": null,
   "id": "ef9d1f4e-9f4c-4e58-9569-1813c76fbaa8",
   "metadata": {},
   "outputs": [],
   "source": [
    "sce <- scDblFinder(sce, nfeatures=2000, dims=30, iter=5)"
   ]
  },
  {
   "cell_type": "code",
   "execution_count": null,
   "id": "958c324c-d073-4247-9610-f203b4bea1ef",
   "metadata": {},
   "outputs": [],
   "source": [
    "doublet_annnotation <- AnnotateDroplet(srat[[\"RNA\"]]@counts)"
   ]
  },
  {
   "cell_type": "code",
   "execution_count": null,
   "id": "db387b5c-dc62-4240-a230-0fa321b7ed13",
   "metadata": {},
   "outputs": [],
   "source": [
    "doublet_annnotation"
   ]
  },
  {
   "cell_type": "code",
   "execution_count": null,
   "id": "f4340f96-ca1e-488a-81b7-b3426fa41274",
   "metadata": {},
   "outputs": [],
   "source": [
    "adata_path <- Convert('/ps/ai-ready/data/Clustering/Tabula_Muris/droplet_Bladder_seurat_tiss.h5Seurat', dest = \"h5ad\" , overwrite = TRUE)\n",
    "adata_path"
   ]
  },
  {
   "cell_type": "code",
   "execution_count": null,
   "id": "e708a4de-9b45-46bd-a5a2-18f65acf900e",
   "metadata": {},
   "outputs": [],
   "source": [
    "path=\"/ps/ai-ready/data/Clustering/Tabula_Muris/droplet_Bladder_seurat_tiss.Robj\"\n",
    "\n",
    "srat <- LoadSeurat(path)\n",
    "\n",
    "srat\n",
    "srat@version"
   ]
  },
  {
   "cell_type": "code",
   "execution_count": null,
   "id": "80455616-0843-4408-82cc-e5166738d7fe",
   "metadata": {},
   "outputs": [],
   "source": [
    "Project(srat)"
   ]
  },
  {
   "cell_type": "code",
   "execution_count": null,
   "id": "f91a4336-1c7f-488a-b2af-696c35d90e23",
   "metadata": {},
   "outputs": [],
   "source": [
    "obj <- readRDS(\"/ps/ai-ready/data/Clustering/Tabula_Muris/droplet_Bladder_seurat_tiss.Robj\")\n",
    "obj"
   ]
  },
  {
   "cell_type": "code",
   "execution_count": null,
   "id": "b28b2981-cfd9-47d9-9a45-b6a34f67a031",
   "metadata": {},
   "outputs": [],
   "source": [
    "srat_v2 <- get(load(path))\n",
    "srat_v2"
   ]
  },
  {
   "cell_type": "code",
   "execution_count": null,
   "id": "df7dca1c-bcef-43e6-9a90-0c79d8718fea",
   "metadata": {},
   "outputs": [],
   "source": [
    "class(srat_v2) == 'seurat'"
   ]
  },
  {
   "cell_type": "code",
   "execution_count": null,
   "id": "5a18bd28-d8a6-4024-a0cd-c88f36a1ff9e",
   "metadata": {},
   "outputs": [],
   "source": [
    "srat_v2@meta.data"
   ]
  },
  {
   "cell_type": "code",
   "execution_count": null,
   "id": "e837c20c-b38f-4a00-86c7-1f8d95c2ec2c",
   "metadata": {},
   "outputs": [],
   "source": [
    "srat[['RNA']]@counts"
   ]
  },
  {
   "cell_type": "code",
   "execution_count": null,
   "id": "f240cfa0-42d2-4fbf-935c-d2bd3b84646d",
   "metadata": {},
   "outputs": [],
   "source": [
    "v4_obj <- CreateSeuratObject(counts=srat[['RNA']]@counts, meta.data=srat@meta.data)\n",
    "v4_obj"
   ]
  },
  {
   "cell_type": "code",
   "execution_count": null,
   "id": "dd0e9e7d-8dae-4927-89ec-fa18823ae756",
   "metadata": {},
   "outputs": [],
   "source": [
    "SaveH5Seurat(v4_obj, filename='/ps/ai-ready/data/Clustering/Tabula_Muris/droplet_Bladder_seurat_tiss.h5seurat', overwrite=TRUE)"
   ]
  },
  {
   "cell_type": "code",
   "execution_count": null,
   "id": "ef2d65d7-f9c5-4e72-a77e-27666e5f12bf",
   "metadata": {},
   "outputs": [],
   "source": [
    "Cells(v4_obj)"
   ]
  },
  {
   "cell_type": "code",
   "execution_count": null,
   "id": "a48c9c15-7c5a-437e-97a9-ed8c1b92c546",
   "metadata": {},
   "outputs": [],
   "source": [
    "v4_obj@meta.data"
   ]
  },
  {
   "cell_type": "code",
   "execution_count": null,
   "id": "2d34685f-95f9-48a2-8c08-0d9386e24f8d",
   "metadata": {},
   "outputs": [],
   "source": [
    "v4_obj[['RNA']]@var.features"
   ]
  },
  {
   "cell_type": "code",
   "execution_count": null,
   "id": "6189b319-ed8f-42fb-bf14-bb832834ebe0",
   "metadata": {},
   "outputs": [],
   "source": [
    "srat@reductions$pca@misc <- list()\n",
    "srat@reductions$tsne@misc <- list()\n",
    "# srat@reductions$umap@misc <- list()"
   ]
  },
  {
   "cell_type": "code",
   "execution_count": null,
   "id": "4a6de37a-7d34-49c4-a977-25ddd0d42414",
   "metadata": {},
   "outputs": [],
   "source": [
    "SaveH5Seurat(srat, filename='/ps/ai-ready/data/Clustering/Tabula_Muris/droplet_Bladder_seurat_tiss.h5seurat', overwrite=TRUE)"
   ]
  },
  {
   "cell_type": "code",
   "execution_count": null,
   "id": "b8dd2e22-5fef-4595-ae73-c4ca2df62713",
   "metadata": {},
   "outputs": [],
   "source": [
    "saveRDS(srat, \"/ps/ai-ready/data/Clustering/Tabula_Muris/droplet_Bladder_seurat_tiss.rds\")"
   ]
  },
  {
   "cell_type": "code",
   "execution_count": null,
   "id": "a5c6dc7f-bf7a-4e7e-9669-a1244934e707",
   "metadata": {},
   "outputs": [],
   "source": [
    "srat1 <- readRDS(file=\"/ps/ai-ready/data/Clustering/Tabula_Muris/droplet_Bladder_seurat_tiss.rds\")\n",
    "srat1"
   ]
  },
  {
   "cell_type": "code",
   "execution_count": null,
   "id": "64c147c6-a75f-4cd3-88f0-0cb2a3c3ab98",
   "metadata": {},
   "outputs": [],
   "source": [
    "as.h5Seurat(srat1, '/ps/ai-ready/data/Clustering/Tabula_Muris/droplet_Bladder_seurat_tiss.h5seurat', overwrite = TRUE, verbose = TRUE)"
   ]
  },
  {
   "cell_type": "code",
   "execution_count": null,
   "id": "f2bf0c84-55aa-4ac5-8e13-c9d1d548cbae",
   "metadata": {},
   "outputs": [],
   "source": [
    "SaveH5Seurat(srat1, filename='/ps/ai-ready/data/Clustering/Tabula_Muris/droplet_Bladder_seurat_tiss.h5seurat', overwrite=TRUE)"
   ]
  },
  {
   "cell_type": "code",
   "execution_count": null,
   "id": "b36c7cf2-aaed-4d3e-9dc1-d2c0dde5ad93",
   "metadata": {},
   "outputs": [],
   "source": [
    "adata_path <- Convert('/ps/ai-ready/data/Clustering/Tabula_Muris/droplet_Bladder_seurat_tiss.rds', dest = \"h5ad\" , overwrite = TRUE)"
   ]
  },
  {
   "cell_type": "code",
   "execution_count": null,
   "id": "02fc6920-0f98-4859-9411-99e41028e77c",
   "metadata": {
    "scrolled": true
   },
   "outputs": [],
   "source": [
    "class(srat1) == 'Seurat'"
   ]
  },
  {
   "cell_type": "code",
   "execution_count": null,
   "id": "bd595558-8bd9-4545-b207-5fafe4f5fb4d",
   "metadata": {},
   "outputs": [],
   "source": [
    "v4_obj@version"
   ]
  },
  {
   "cell_type": "code",
   "execution_count": null,
   "id": "422b0b46-63e5-458b-b8a2-00390d359de8",
   "metadata": {},
   "outputs": [],
   "source": [
    "srat2 <- readRDS(file=\"/ps/ai-ready/data/tung/tung.rds\")\n",
    "srat2"
   ]
  },
  {
   "cell_type": "code",
   "execution_count": null,
   "id": "00414990-4edc-4b1d-b1a4-95e230b1de0c",
   "metadata": {},
   "outputs": [],
   "source": [
    "class(srat2)"
   ]
  },
  {
   "cell_type": "code",
   "execution_count": null,
   "id": "6c1f7087-5228-4f72-9b03-dd8b01b6708a",
   "metadata": {},
   "outputs": [],
   "source": [
    "# The [[ operator can add columns to object metadata. This is a great place to stash QC stats\n",
    "srat[[\"percent.mt\"]] <- PercentageFeatureSet(srat, pattern = \"^MT-\")"
   ]
  },
  {
   "cell_type": "code",
   "execution_count": null,
   "id": "a086b663-1d6d-49bc-8b6c-a3243ddcb5c1",
   "metadata": {},
   "outputs": [],
   "source": [
    "# Visualize QC metrics as a violin plot\n",
    "VlnPlot(srat, features = c(\"nFeature_RNA\", \"nCount_RNA\", \"percent.mt\"), ncol = 3)"
   ]
  },
  {
   "cell_type": "code",
   "execution_count": null,
   "id": "f5733261-5d46-45f2-ad9c-ca3a3e06507b",
   "metadata": {},
   "outputs": [],
   "source": [
    "plot1 <- FeatureScatter(srat, feature1 = \"nCount_RNA\", feature2 = \"percent.mt\")\n",
    "plot2 <- FeatureScatter(srat, feature1 = \"nCount_RNA\", feature2 = \"nFeature_RNA\")\n",
    "plot1 + plot2"
   ]
  },
  {
   "cell_type": "code",
   "execution_count": null,
   "id": "44ae94bb-63b5-4299-ac71-d0d995eb4cfb",
   "metadata": {},
   "outputs": [],
   "source": [
    "srat <- subset(srat, subset = nFeature_RNA > 200 & nFeature_RNA < 2500 & percent.mt < 5)"
   ]
  },
  {
   "cell_type": "code",
   "execution_count": null,
   "id": "e080cd97-5e68-4999-8baa-a17d804ee4e1",
   "metadata": {},
   "outputs": [],
   "source": [
    "srat <- NormalizeData(srat, normalization.method = \"LogNormalize\", scale.factor = 10000)"
   ]
  },
  {
   "cell_type": "code",
   "execution_count": null,
   "id": "db42d5e2-ce0e-431e-90b1-e76b8ea4234d",
   "metadata": {},
   "outputs": [],
   "source": [
    "srat <- FindVariableFeatures(srat, selection.method = \"vst\")\n",
    "srat <- ScaleData(srat, features = rownames(srat))"
   ]
  },
  {
   "cell_type": "code",
   "execution_count": null,
   "id": "28d05285-941d-449c-8054-a47583962e50",
   "metadata": {},
   "outputs": [],
   "source": [
    "srat <- RunPCA(srat, features = VariableFeatures(srat), ndims.print = 6:10, nfeatures.print = 10)"
   ]
  },
  {
   "cell_type": "code",
   "execution_count": null,
   "id": "0a5edc8c-574e-4a31-b8ca-850863be2d63",
   "metadata": {},
   "outputs": [],
   "source": [
    "DimHeatmap(srat, dims = c(8, 10))"
   ]
  },
  {
   "cell_type": "code",
   "execution_count": null,
   "id": "b2951448-ee5a-42ad-81af-9025ffef465a",
   "metadata": {},
   "outputs": [],
   "source": [
    "srat <- CellCycleScoring(srat, g2m.features = cc.genes$g2m.genes, s.features = cc.genes$s.genes)"
   ]
  },
  {
   "cell_type": "code",
   "execution_count": null,
   "id": "346002cd-278a-4a58-bf75-f6583b5f92cb",
   "metadata": {},
   "outputs": [],
   "source": [
    "# Read in the expression matrix The first row is a header row, the first column is rownames\n",
    "exp.mat <- read.table(file = \"../tools/qc/nestorawa_forcellcycle_expressionMatrix.txt\", header = TRUE,\n",
    "    as.is = TRUE, row.names = 1)\n",
    "\n",
    "# A list of cell cycle markers, from Tirosh et al, 2015, is loaded with Seurat.  We can\n",
    "# segregate this list into markers of G2/M phase and markers of S phase\n",
    "s.genes <- cc.genes$s.genes\n",
    "g2m.genes <- cc.genes$g2m.genes"
   ]
  },
  {
   "cell_type": "code",
   "execution_count": null,
   "id": "4fdaeac3-bb43-42e9-ac2c-ba084f8f6c22",
   "metadata": {},
   "outputs": [],
   "source": [
    "srat <- CellCycleScoring(srat, s.features = s.genes, g2m.features = g2m.genes, set.ident = TRUE)\n",
    "# view cell cycle scores and phase assignments\n",
    "head(srat[[]])"
   ]
  },
  {
   "cell_type": "code",
   "execution_count": null,
   "id": "f5f7b624-e46f-4871-9861-107b67df184b",
   "metadata": {},
   "outputs": [],
   "source": [
    "VlnPlot(srat, features = c(\"S.Score\", \"G2M.Score\"), group.by = \"orig.ident\",\n",
    "    ncol = 4, pt.size = 0.1)"
   ]
  },
  {
   "cell_type": "code",
   "execution_count": null,
   "id": "61062e0d-8e43-4069-a5ab-896ae824f984",
   "metadata": {},
   "outputs": [],
   "source": [
    "srat <- ScaleData(srat, vars.to.regress = c(\"S.Score\", \"G2M.Score\"), features = rownames(srat))\n",
    "srat"
   ]
  },
  {
   "cell_type": "code",
   "execution_count": null,
   "id": "7463bbfc-6e26-44b8-886b-c1d23fb3c9fb",
   "metadata": {},
   "outputs": [],
   "source": [
    "remotes::install_github('chris-mcginnis-ucsf/DoubletFinder')"
   ]
  },
  {
   "cell_type": "code",
   "execution_count": null,
   "id": "3634fd2e-6c60-4780-9533-8092c73506a0",
   "metadata": {},
   "outputs": [],
   "source": [
    "# define the expected number of doublet cellscells.\n",
    "nExp <- round(ncol(srat) * 0.04)  # expect 4% doublets\n",
    "srat <- doubletFinder_v3(srat, pN = 0.25, pK = 0.09, nExp = nExp, PCs = 1:10)"
   ]
  },
  {
   "cell_type": "code",
   "execution_count": null,
   "id": "cb9fb1bb-7a14-4d9b-a7ef-ed96a7466ade",
   "metadata": {},
   "outputs": [],
   "source": [
    "rm(srat)\n",
    "gc()"
   ]
  },
  {
   "cell_type": "code",
   "execution_count": null,
   "id": "29d065bc-3f88-411e-8375-b01b8a47db5b",
   "metadata": {},
   "outputs": [],
   "source": []
  },
  {
   "cell_type": "code",
   "execution_count": null,
   "id": "daf12fc4-ee45-4b9d-839f-7eef706488d4",
   "metadata": {},
   "outputs": [],
   "source": []
  }
 ],
 "metadata": {
  "kernelspec": {
   "display_name": "R",
   "language": "R",
   "name": "ir"
  },
  "language_info": {
   "codemirror_mode": "r",
   "file_extension": ".r",
   "mimetype": "text/x-r-source",
   "name": "R",
   "pygments_lexer": "r",
   "version": "4.2.1"
  }
 },
 "nbformat": 4,
 "nbformat_minor": 5
}
