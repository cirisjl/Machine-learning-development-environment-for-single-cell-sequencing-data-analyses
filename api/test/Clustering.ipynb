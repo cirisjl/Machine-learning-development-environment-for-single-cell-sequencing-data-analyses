{
 "cells": [
  {
   "cell_type": "code",
   "execution_count": 3,
   "id": "27d1cf16-65db-4661-b9b7-e0901c282702",
   "metadata": {},
   "outputs": [
    {
     "name": "stdout",
     "output_type": "stream",
     "text": [
      "Requirement already satisfied: boltons in /usr/local/lib/python3.8/dist-packages (24.0.0)\n",
      "Note: you may need to restart the kernel to use updated packages.\n"
     ]
    }
   ],
   "source": [
    "# pip install boltons"
   ]
  },
  {
   "cell_type": "code",
   "execution_count": 4,
   "id": "70b38d35-c7ac-4a76-9f4a-114cb49b9f7e",
   "metadata": {},
   "outputs": [],
   "source": [
    "import os\n",
    "import subprocess\n",
    "import sys\n",
    "sys.path.append('..')\n",
    "from tools.formating.formating import *\n",
    "from tools.run_qc import run_qc\n",
    "from tools.run_normalization import run_normalization\n",
    "from tools.run_imputation import run_imputation\n",
    "from utils.unzip import unzip_file_if_compressed"
   ]
  },
  {
   "cell_type": "code",
   "execution_count": null,
   "id": "a5366e8a-65a8-47f7-bc3d-0214b9fa53a2",
   "metadata": {},
   "outputs": [],
   "source": [
    "# adata_path='/ps/data/storage/leijiang/projects/Heart_1716927636095/Results/0977705e-7f8c-474a-b7a9-4046560b1ea8/7054e702cb1909916ee296c803aec187/650b659576b0b3c0e0d8b1dd5fcc2a34/Heart_scanpy_test.h5ad'\n",
    "# label='leiden'\n",
    "adata_path='/ps/data/storage/leijiang/projects/Bladder_1717462919380/Results/0a3042e6-e993-4f1e-9120-5e3d146c39eb/73d9e9244c8fc6a111cdc916b9d05dbb/8fdf9896754c0a0f04ddc9f642cd65cf/Bladder_Seurat_test.h5ad'\n",
    "# adata_path='/ps/data/storage/leijiang/projects/Bladder_1717462919380/Results/0a3042e6-e993-4f1e-9120-5e3d146c39eb/Bladder_Seurat.h5ad'\n",
    "label='cluster.ids'"
   ]
  },
  {
   "cell_type": "code",
   "execution_count": null,
   "id": "1ec6b164-fe98-4955-916b-b3a3507c9f7a",
   "metadata": {},
   "outputs": [],
   "source": []
  }
 ],
 "metadata": {
  "kernelspec": {
   "display_name": "Python 3 (ipykernel)",
   "language": "python",
   "name": "python3"
  },
  "language_info": {
   "codemirror_mode": {
    "name": "ipython",
    "version": 3
   },
   "file_extension": ".py",
   "mimetype": "text/x-python",
   "name": "python",
   "nbconvert_exporter": "python",
   "pygments_lexer": "ipython3",
   "version": "3.8.10"
  }
 },
 "nbformat": 4,
 "nbformat_minor": 5
}
