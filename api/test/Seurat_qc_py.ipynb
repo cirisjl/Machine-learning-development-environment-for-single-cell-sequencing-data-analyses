{
 "cells": [
  {
   "cell_type": "code",
   "execution_count": null,
   "id": "b6120aea-a550-40ec-93f0-64888aa90448",
   "metadata": {},
   "outputs": [],
   "source": [
    "import os\n",
    "import scanpy as sc\n",
    "import numpy as np\n",
    "import pandas as pd\n",
    "import rpy2.robjects as ro\n",
    "from rpy2.robjects.packages import importr\n",
    "from rpy2.robjects import pandas2ri\n",
    "from rpy2.robjects.conversion import localconverter\n",
    "# from tools.formating.formating import change_file_extension, load_anndata, convert_from_r, convert_to_r\n",
    "pandas2ri.activate()"
   ]
  },
  {
   "cell_type": "code",
   "execution_count": null,
   "id": "c27056a4-7ff1-4178-98bf-7422146e022e",
   "metadata": {},
   "outputs": [],
   "source": [
    "ro.r['source']('../tools/qc/seurat_qc.R')\n",
    "RunSeuratQC_r = ro.globalenv['RunSeuratQC']\n",
    "path=\"/ps/ai-ready/data/error/droplet_Bladder_seurat_tiss.h5seurat\"\n",
    "adata_path = '/ps/ai-ready/data/error/droplet_Bladder_seurat_tiss.h5ad'\n",
    "results = list(RunSeuratQC_r(path, '/ps/ai-ready/data/Clustering/Tabula_Muris/droplet_Bladder_seurat_tiss.h5Seurat', unique_id='Seurat test', adata_path=adata_path))"
   ]
  },
  {
   "cell_type": "code",
   "execution_count": null,
   "id": "bf9cb63e-9bb4-4ad8-a1fd-0ebe4036a296",
   "metadata": {},
   "outputs": [],
   "source": []
  }
 ],
 "metadata": {
  "kernelspec": {
   "display_name": "Python 3 (ipykernel)",
   "language": "python",
   "name": "python3"
  },
  "language_info": {
   "codemirror_mode": {
    "name": "ipython",
    "version": 3
   },
   "file_extension": ".py",
   "mimetype": "text/x-python",
   "name": "python",
   "nbconvert_exporter": "python",
   "pygments_lexer": "ipython3",
   "version": "3.8.10"
  }
 },
 "nbformat": 4,
 "nbformat_minor": 5
}
