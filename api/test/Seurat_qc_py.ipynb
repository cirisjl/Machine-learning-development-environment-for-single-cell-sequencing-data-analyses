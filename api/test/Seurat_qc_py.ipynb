{
 "cells": [
  {
   "cell_type": "code",
   "execution_count": 1,
   "id": "b6120aea-a550-40ec-93f0-64888aa90448",
   "metadata": {},
   "outputs": [
    {
     "name": "stderr",
     "output_type": "stream",
     "text": [
      "/opt/conda/lib/python3.11/site-packages/rpy2/rinterface/__init__.py:1211: UserWarning: Environment variable \"LD_LIBRARY_PATH\" redefined by R and overriding existing variable. Current: \"/usr/local/nvidia/lib:/usr/local/nvidia/lib64\", R: \"/usr/lib/R/lib:/usr/lib/x86_64-linux-gnu:/usr/lib/jvm/default-java/lib/server:/usr/local/nvidia/lib:/usr/local/nvidia/lib64\"\n",
      "  warnings.warn(\n",
      "/opt/conda/lib/python3.11/site-packages/rpy2/rinterface/__init__.py:1211: UserWarning: Environment variable \"PWD\" redefined by R and overriding existing variable. Current: \"/app\", R: \"/app/Machine-learning-development-environment-for-single-cell-sequencing-data-analyses/api/test\"\n",
      "  warnings.warn(\n",
      "/opt/conda/lib/python3.11/site-packages/rpy2/rinterface/__init__.py:1211: UserWarning: Environment variable \"LD_LIBRARY_PATH\" redefined by R and overriding existing variable. Current: \"/usr/lib/R/lib:/usr/lib/x86_64-linux-gnu:/usr/lib/jvm/default-java/lib/server:/usr/local/nvidia/lib:/usr/local/nvidia/lib64\", R: \"/usr/lib/R/lib:/usr/lib/x86_64-linux-gnu:/usr/lib/jvm/default-java/lib/server:/usr/lib/R/lib:/usr/lib/x86_64-linux-gnu:/usr/lib/jvm/default-java/lib/server:/usr/local/nvidia/lib:/usr/local/nvidia/lib64\"\n",
      "  warnings.warn(\n",
      "/opt/conda/lib/python3.11/site-packages/rpy2/rinterface/__init__.py:1211: UserWarning: Environment variable \"R_LIBS_SITE\" redefined by R and overriding existing variable. Current: \"/usr/local/lib/R/site-library/:/usr/local/lib/R/site-library:/usr/lib/R/site-library:/usr/lib/R/library\", R: \"/usr/local/lib/R/site-library/:/usr/local/lib/R/site-library/:/usr/local/lib/R/site-library/:/usr/local/lib/R/site-library:/usr/lib/R/site-library:/usr/lib/R/library:/usr/lib/R/library:/usr/lib/R/library\"\n",
      "  warnings.warn(\n",
      "/opt/conda/lib/python3.11/site-packages/rpy2/rinterface/__init__.py:1211: UserWarning: Environment variable \"R_PAPERSIZE_USER\" redefined by R and overriding existing variable. Current: \"a4\", R: \"letter\"\n",
      "  warnings.warn(\n",
      "/opt/conda/lib/python3.11/site-packages/rpy2/rinterface/__init__.py:1211: UserWarning: Environment variable \"R_SESSION_TMPDIR\" redefined by R and overriding existing variable. Current: \"/tmp/RtmpyjiKWG\", R: \"/tmp/RtmpZGIq40\"\n",
      "  warnings.warn(\n"
     ]
    }
   ],
   "source": [
    "import os\n",
    "import scanpy as sc\n",
    "import numpy as np\n",
    "import pandas as pd\n",
    "import rpy2.robjects as ro\n",
    "from rpy2.robjects.packages import importr\n",
    "from rpy2.robjects import pandas2ri\n",
    "from rpy2.robjects.conversion import localconverter\n",
    "# from tools.formating.formating import change_file_extension, load_anndata, convert_from_r, convert_to_r\n",
    "# pandas2ri.activate()"
   ]
  },
  {
   "cell_type": "code",
   "execution_count": 8,
   "id": "4e0836ad-e28b-4c32-a0fe-41eb86d6ae93",
   "metadata": {},
   "outputs": [
    {
     "name": "stdout",
     "output_type": "stream",
     "text": [
      "1.26.4\n"
     ]
    }
   ],
   "source": [
    "print(np.__version__)"
   ]
  },
  {
   "cell_type": "code",
   "execution_count": 2,
   "id": "c27056a4-7ff1-4178-98bf-7422146e022e",
   "metadata": {},
   "outputs": [
    {
     "name": "stderr",
     "output_type": "stream",
     "text": [
      "R callback write-console: Loading required package: SummarizedExperiment\n",
      "  \n",
      "R callback write-console: Loading required package: MatrixGenerics\n",
      "  \n",
      "R callback write-console: Loading required package: matrixStats\n",
      "  \n",
      "R callback write-console: \n",
      "Attaching package: ‘MatrixGenerics’\n",
      "\n",
      "  \n",
      "R callback write-console: The following objects are masked from ‘package:matrixStats’:\n",
      "\n",
      "    colAlls, colAnyNAs, colAnys, colAvgsPerRowSet, colCollapse,\n",
      "    colCounts, colCummaxs, colCummins, colCumprods, colCumsums,\n",
      "    colDiffs, colIQRDiffs, colIQRs, colLogSumExps, colMadDiffs,\n",
      "    colMads, colMaxs, colMeans2, colMedians, colMins, colOrderStats,\n",
      "    colProds, colQuantiles, colRanges, colRanks, colSdDiffs, colSds,\n",
      "    colSums2, colTabulates, colVarDiffs, colVars, colWeightedMads,\n",
      "    colWeightedMeans, colWeightedMedians, colWeightedSds,\n",
      "    colWeightedVars, rowAlls, rowAnyNAs, rowAnys, rowAvgsPerColSet,\n",
      "    rowCollapse, rowCounts, rowCummaxs, rowCummins, rowCumprods,\n",
      "    rowCumsums, rowDiffs, rowIQRDiffs, rowIQRs, rowLogSumExps,\n",
      "    rowMadDiffs, rowMads, rowMaxs, rowMeans2, rowMedians, rowMins,\n",
      "    rowOrderStats, rowProds, rowQuantiles, rowRanges, rowRanks,\n",
      "    rowSdDiffs, rowSds, rowSums2, rowTabulates, rowVarDiffs, rowVars,\n",
      "    rowWeightedMads, rowWeightedMeans, rowWeightedMedians,\n",
      "    rowWeightedSds, rowWeightedVars\n",
      "\n",
      "  \n",
      "R callback write-console: Loading required package: GenomicRanges\n",
      "  \n",
      "R callback write-console: Loading required package: stats4\n",
      "  \n",
      "R callback write-console: Loading required package: BiocGenerics\n",
      "  \n",
      "R callback write-console: Loading required package: generics\n",
      "  \n",
      "R callback write-console: \n",
      "Attaching package: ‘generics’\n",
      "\n",
      "  \n",
      "R callback write-console: The following objects are masked from ‘package:base’:\n",
      "\n",
      "    as.difftime, as.factor, as.ordered, intersect, is.element, setdiff,\n",
      "    setequal, union\n",
      "\n",
      "  \n",
      "R callback write-console: \n",
      "Attaching package: ‘BiocGenerics’\n",
      "\n",
      "  \n",
      "R callback write-console: The following objects are masked from ‘package:stats’:\n",
      "\n",
      "    IQR, mad, sd, var, xtabs\n",
      "\n",
      "  \n",
      "R callback write-console: The following objects are masked from ‘package:base’:\n",
      "\n",
      "    Filter, Find, Map, Position, Reduce, anyDuplicated, aperm, append,\n",
      "    as.data.frame, basename, cbind, colnames, dirname, do.call,\n",
      "    duplicated, eval, evalq, get, grep, grepl, is.unsorted, lapply,\n",
      "    mapply, match, mget, order, paste, pmax, pmax.int, pmin, pmin.int,\n",
      "    rank, rbind, rownames, sapply, saveRDS, table, tapply, unique,\n",
      "    unsplit, which.max, which.min\n",
      "\n",
      "  \n",
      "R callback write-console: Loading required package: S4Vectors\n",
      "  \n",
      "R callback write-console: \n",
      "Attaching package: ‘S4Vectors’\n",
      "\n",
      "  \n",
      "R callback write-console: The following object is masked from ‘package:utils’:\n",
      "\n",
      "    findMatches\n",
      "\n",
      "  \n",
      "R callback write-console: The following objects are masked from ‘package:base’:\n",
      "\n",
      "    I, expand.grid, unname\n",
      "\n",
      "  \n",
      "R callback write-console: Loading required package: IRanges\n",
      "  \n",
      "R callback write-console: Loading required package: GenomeInfoDb\n",
      "  \n",
      "R callback write-console: Loading required package: Biobase\n",
      "  \n",
      "R callback write-console: Welcome to Bioconductor\n",
      "\n",
      "    Vignettes contain introductory material; view with\n",
      "    'browseVignettes()'. To cite Bioconductor, see\n",
      "    'citation(\"Biobase\")', and for packages 'citation(\"pkgname\")'.\n",
      "\n",
      "  \n",
      "R callback write-console: \n",
      "Attaching package: ‘Biobase’\n",
      "\n",
      "  \n",
      "R callback write-console: The following object is masked from ‘package:MatrixGenerics’:\n",
      "\n",
      "    rowMedians\n",
      "\n",
      "  \n",
      "R callback write-console: The following objects are masked from ‘package:matrixStats’:\n",
      "\n",
      "    anyMissing, rowMedians\n",
      "\n",
      "  \n",
      "R callback write-console: \n",
      "Attaching package: ‘dplyr’\n",
      "\n",
      "  \n",
      "R callback write-console: The following object is masked from ‘package:Biobase’:\n",
      "\n",
      "    combine\n",
      "\n",
      "  \n",
      "R callback write-console: The following objects are masked from ‘package:GenomicRanges’:\n",
      "\n",
      "    intersect, setdiff, union\n",
      "\n",
      "  \n",
      "R callback write-console: The following object is masked from ‘package:GenomeInfoDb’:\n",
      "\n",
      "    intersect\n",
      "\n",
      "  \n",
      "R callback write-console: The following objects are masked from ‘package:IRanges’:\n",
      "\n",
      "    collapse, desc, intersect, setdiff, slice, union\n",
      "\n",
      "  \n",
      "R callback write-console: The following objects are masked from ‘package:S4Vectors’:\n",
      "\n",
      "    first, intersect, rename, setdiff, setequal, union\n",
      "\n",
      "  \n",
      "R callback write-console: The following objects are masked from ‘package:BiocGenerics’:\n",
      "\n",
      "    combine, intersect, setdiff, setequal, union\n",
      "\n",
      "  \n",
      "R callback write-console: The following object is masked from ‘package:generics’:\n",
      "\n",
      "    explain\n",
      "\n",
      "  \n",
      "R callback write-console: The following object is masked from ‘package:matrixStats’:\n",
      "\n",
      "    count\n",
      "\n",
      "  \n",
      "R callback write-console: The following objects are masked from ‘package:stats’:\n",
      "\n",
      "    filter, lag\n",
      "\n",
      "  \n",
      "R callback write-console: The following objects are masked from ‘package:base’:\n",
      "\n",
      "    intersect, setdiff, setequal, union\n",
      "\n",
      "  \n",
      "R callback write-console: \n",
      "Attaching package: ‘celldex’\n",
      "\n",
      "  \n",
      "R callback write-console: The following objects are masked from ‘package:SingleR’:\n",
      "\n",
      "    BlueprintEncodeData, DatabaseImmuneCellExpressionData,\n",
      "    HumanPrimaryCellAtlasData, ImmGenData, MonacoImmuneData,\n",
      "    MouseRNAseqData, NovershternHematopoieticData\n",
      "\n",
      "  \n"
     ]
    },
    {
     "name": "stdout",
     "output_type": "stream",
     "text": [
      "\n",
      "    WARNING: The R package \"reticulate\" only fixed recently\n",
      "    an issue that caused a segfault when used with rpy2:\n",
      "    https://github.com/rstudio/reticulate/pull/1188\n",
      "    Make sure that you use a version of that package that includes\n",
      "    the fix.\n",
      "    "
     ]
    },
    {
     "name": "stderr",
     "output_type": "stream",
     "text": [
      "R callback write-console: Loading required package: SingleCellExperiment\n",
      "  \n",
      "R callback write-console: Loading required package: scuttle\n",
      "  \n",
      "R callback write-console: Attaching SeuratObject\n",
      "  \n",
      "R callback write-console: Seurat v4 was just loaded with SeuratObject v5; disabling v5 assays and\n",
      "validation routines, and ensuring assays work in strict v3/v4\n",
      "compatibility mode\n",
      "  \n",
      "R callback write-console: \n",
      "Attaching package: ‘Seurat’\n",
      "\n",
      "  \n",
      "R callback write-console: The following object is masked from ‘package:SummarizedExperiment’:\n",
      "\n",
      "    Assays\n",
      "\n",
      "  \n",
      "R callback write-console: Registered S3 method overwritten by 'SeuratDisk':\n",
      "  method            from  \n",
      "  as.sparse.H5Group Seurat\n",
      "  \n",
      "R callback write-console: Signac built for for SeuratObject v4 was just loaded with SeuratObject\n",
      "v5; disabling v5 assays and validation routines, and ensuring assays\n",
      "work in strict v3/v4 compatibility mode\n",
      "  \n",
      "R callback write-console: \n",
      "Attaching package: ‘Matrix’\n",
      "\n",
      "  \n",
      "R callback write-console: The following object is masked from ‘package:S4Vectors’:\n",
      "\n",
      "    expand\n",
      "\n",
      "  \n",
      "R callback write-console: Updating from v2.X to v3.X\n",
      "  \n",
      "R callback write-console: Validating object structure\n",
      "  \n",
      "R callback write-console: Updating object slots\n",
      "  \n",
      "R callback write-console: Ensuring keys are in the proper structure\n",
      "  \n",
      "R callback write-console: Updating matrix keys for DimReduc ‘pca’\n",
      "  \n",
      "R callback write-console: Updating matrix keys for DimReduc ‘tsne’\n",
      "  \n",
      "R callback write-console: Ensuring keys are in the proper structure\n",
      "  \n",
      "R callback write-console: Ensuring feature names don't have underscores or pipes\n",
      "  \n",
      "R callback write-console: Updating slots in RNA\n",
      "  \n",
      "R callback write-console: Updating slots in pca\n",
      "  \n",
      "R callback write-console: Updating slots in tsne\n",
      "  \n",
      "R callback write-console: Setting tsne DimReduc to global\n",
      "  \n",
      "R callback write-console: Found more than one class \"package_version\" in cache; using the first, from namespace 'alabaster.base'\n",
      "  \n",
      "R callback write-console: Also defined by ‘SeuratObject’\n",
      "  \n",
      "R callback write-console: Validating object structure for Assay ‘RNA’\n",
      "  \n",
      "R callback write-console: Validating object structure for DimReduc ‘pca’\n",
      "  \n",
      "R callback write-console: Validating object structure for DimReduc ‘tsne’\n",
      "  \n",
      "R callback write-console: Object representation is consistent with the most current Seurat version\n",
      "  \n"
     ]
    },
    {
     "name": "stdout",
     "output_type": "stream",
     "text": [
      "[1] \"Setting default_assay to RNA\"\n",
      "[1] \"Calculating the percentage of mitocondrial per cell and add to the metadata.\"\n",
      "[1] \"Calculating the proportion gene expression that comes from ribosomal proteins.\"\n",
      "[1] \"Calculating the percentage hemoglobin genes - includes all genes starting with HB except HBP.\"\n",
      "[1] \"Filtering low quality genes/cells.\"\n",
      "[1] \"Normalizing dataset using logCP10k.\"\n"
     ]
    },
    {
     "name": "stderr",
     "output_type": "stream",
     "text": [
      "R callback write-console: Performing log-normalization\n",
      "  \n",
      "R callback write-console: 0%   10   20   30   40   50   60   70   80   90   100%\n",
      "  \n",
      "R callback write-console: [----|----|----|----|----|----|----|----|----|----|\n",
      "  \n",
      "R callback write-console: *  \n",
      "R callback write-console: *  \n",
      "R callback write-console: *  \n",
      "R callback write-console: *  \n",
      "R callback write-console: *  \n",
      "R callback write-console: *  \n",
      "R callback write-console: *  \n",
      "R callback write-console: *  \n",
      "R callback write-console: *  \n",
      "R callback write-console: *  \n",
      "R callback write-console: *  \n",
      "R callback write-console: *  \n",
      "R callback write-console: *  \n",
      "R callback write-console: *  \n",
      "R callback write-console: *  \n",
      "R callback write-console: *  \n",
      "R callback write-console: *  \n",
      "R callback write-console: *  \n",
      "R callback write-console: *  \n",
      "R callback write-console: *  \n",
      "R callback write-console: *  \n",
      "R callback write-console: *  \n",
      "R callback write-console: *  \n",
      "R callback write-console: *  \n",
      "R callback write-console: *  \n",
      "R callback write-console: *  \n",
      "R callback write-console: *  \n",
      "R callback write-console: *  \n",
      "R callback write-console: *  \n",
      "R callback write-console: *  \n",
      "R callback write-console: *  \n",
      "R callback write-console: *  \n",
      "R callback write-console: *  \n",
      "R callback write-console: *  \n",
      "R callback write-console: *  \n",
      "R callback write-console: *  \n",
      "R callback write-console: *  \n",
      "R callback write-console: *  \n",
      "R callback write-console: *  \n",
      "R callback write-console: *  \n",
      "R callback write-console: *  \n",
      "R callback write-console: *  \n",
      "R callback write-console: *  \n",
      "R callback write-console: *  \n",
      "R callback write-console: *  \n",
      "R callback write-console: *  \n",
      "R callback write-console: *  \n",
      "R callback write-console: *  \n",
      "R callback write-console: *  \n",
      "R callback write-console: *  \n",
      "R callback write-console: |\n",
      "  \n"
     ]
    },
    {
     "name": "stdout",
     "output_type": "stream",
     "text": [
      "[1] \"Finding variable features.\"\n"
     ]
    },
    {
     "name": "stderr",
     "output_type": "stream",
     "text": [
      "R callback write-console: Calculating gene variances  \n",
      "R callback write-console: \n",
      "  \n",
      "R callback write-console: 0%   10   20   30   40   50   60   70   80   90   100%\n",
      "  \n",
      "R callback write-console: [----|----|----|----|----|----|----|----|----|----|\n",
      "  \n",
      "R callback write-console: *  \n",
      "R callback write-console: *  \n",
      "R callback write-console: *  \n",
      "R callback write-console: *  \n",
      "R callback write-console: *  \n",
      "R callback write-console: *  \n",
      "R callback write-console: *  \n",
      "R callback write-console: *  \n",
      "R callback write-console: *  \n",
      "R callback write-console: *  \n",
      "R callback write-console: *  \n",
      "R callback write-console: *  \n",
      "R callback write-console: *  \n",
      "R callback write-console: *  \n",
      "R callback write-console: *  \n",
      "R callback write-console: *  \n",
      "R callback write-console: *  \n",
      "R callback write-console: *  \n",
      "R callback write-console: *  \n",
      "R callback write-console: *  \n",
      "R callback write-console: *  \n",
      "R callback write-console: *  \n",
      "R callback write-console: *  \n",
      "R callback write-console: *  \n",
      "R callback write-console: *  \n",
      "R callback write-console: *  \n",
      "R callback write-console: *  \n",
      "R callback write-console: *  \n",
      "R callback write-console: *  \n",
      "R callback write-console: *  \n",
      "R callback write-console: *  \n",
      "R callback write-console: *  \n",
      "R callback write-console: *  \n",
      "R callback write-console: *  \n",
      "R callback write-console: *  \n",
      "R callback write-console: *  \n",
      "R callback write-console: *  \n",
      "R callback write-console: *  \n",
      "R callback write-console: *  \n",
      "R callback write-console: *  \n",
      "R callback write-console: *  \n",
      "R callback write-console: *  \n",
      "R callback write-console: *  \n",
      "R callback write-console: *  \n",
      "R callback write-console: *  \n",
      "R callback write-console: *  \n",
      "R callback write-console: *  \n",
      "R callback write-console: *  \n",
      "R callback write-console: *  \n",
      "R callback write-console: *  \n",
      "R callback write-console: |\n",
      "  \n",
      "R callback write-console: Calculating feature variances of standardized and clipped values  \n",
      "R callback write-console: \n",
      "  \n",
      "R callback write-console: 0%   10   20   30   40   50   60   70   80   90   100%\n",
      "  \n",
      "R callback write-console: [----|----|----|----|----|----|----|----|----|----|\n",
      "  \n",
      "R callback write-console: *  \n",
      "R callback write-console: *  \n",
      "R callback write-console: *  \n",
      "R callback write-console: *  \n",
      "R callback write-console: *  \n",
      "R callback write-console: *  \n",
      "R callback write-console: *  \n",
      "R callback write-console: *  \n",
      "R callback write-console: *  \n",
      "R callback write-console: *  \n",
      "R callback write-console: *  \n",
      "R callback write-console: *  \n",
      "R callback write-console: *  \n",
      "R callback write-console: *  \n",
      "R callback write-console: *  \n",
      "R callback write-console: *  \n",
      "R callback write-console: *  \n",
      "R callback write-console: *  \n",
      "R callback write-console: *  \n",
      "R callback write-console: *  \n",
      "R callback write-console: *  \n",
      "R callback write-console: *  \n",
      "R callback write-console: *  \n",
      "R callback write-console: *  \n",
      "R callback write-console: *  \n",
      "R callback write-console: *  \n",
      "R callback write-console: *  \n",
      "R callback write-console: *  \n",
      "R callback write-console: *  \n",
      "R callback write-console: *  \n",
      "R callback write-console: *  \n",
      "R callback write-console: *  \n",
      "R callback write-console: *  \n",
      "R callback write-console: *  \n",
      "R callback write-console: *  \n",
      "R callback write-console: *  \n",
      "R callback write-console: *  \n",
      "R callback write-console: *  \n",
      "R callback write-console: *  \n",
      "R callback write-console: *  \n",
      "R callback write-console: *  \n",
      "R callback write-console: *  \n",
      "R callback write-console: *  \n",
      "R callback write-console: *  \n",
      "R callback write-console: *  \n",
      "R callback write-console: *  \n",
      "R callback write-console: *  \n",
      "R callback write-console: *  \n",
      "R callback write-console: *  \n",
      "R callback write-console: *  \n",
      "R callback write-console: |\n",
      "  \n"
     ]
    },
    {
     "name": "stdout",
     "output_type": "stream",
     "text": [
      "[1] \"Scaling dataset.\"\n"
     ]
    },
    {
     "name": "stderr",
     "output_type": "stream",
     "text": [
      "R callback write-console: Centering and scaling data matrix\n",
      "  \n",
      "  |                                                                              \n",
      "  |                                                                      |   0%  \n",
      "  |                                                                              \n",
      "  |===                                                                   |   4%  \n",
      "  |                                                                              \n",
      "  |======                                                                |   8%  \n",
      "  |                                                                              \n",
      "  |=========                                                             |  12%  \n",
      "  |                                                                              \n",
      "  |============                                                          |  17%  \n",
      "  |                                                                              \n",
      "  |===============                                                       |  21%  \n",
      "  |                                                                              \n",
      "  |==================                                                    |  25%  \n",
      "  |                                                                              \n",
      "  |====================                                                  |  29%  \n",
      "  |                                                                              \n",
      "  |=======================                                               |  33%  \n",
      "  |                                                                              \n",
      "  |==========================                                            |  38%  \n",
      "  |                                                                              \n",
      "  |=============================                                         |  42%  \n",
      "  |                                                                              \n",
      "  |================================                                      |  46%  \n",
      "  |                                                                              \n",
      "  |===================================                                   |  50%  \n",
      "  |                                                                              \n",
      "  |======================================                                |  54%  \n",
      "  |                                                                              \n",
      "  |=========================================                             |  58%  \n",
      "  |                                                                              \n",
      "  |============================================                          |  62%  \n",
      "  |                                                                              \n",
      "  |===============================================                       |  67%  \n",
      "  |                                                                              \n",
      "  |==================================================                    |  71%  \n",
      "  |                                                                              \n",
      "  |====================================================                  |  75%  \n",
      "  |                                                                              \n",
      "  |=======================================================               |  79%  \n",
      "  |                                                                              \n",
      "  |==========================================================            |  83%  \n",
      "  |                                                                              \n",
      "  |=============================================================         |  88%  \n",
      "  |                                                                              \n",
      "  |================================================================      |  92%  \n",
      "  |                                                                              \n",
      "  |===================================================================   |  96%  \n",
      "  |                                                                              \n",
      "  |======================================================================| 100%  \n",
      "R callback write-console: \n",
      "  \n"
     ]
    },
    {
     "name": "stdout",
     "output_type": "stream",
     "text": [
      "[1] \"An error occurred when running t-SNE/UMAP, please try a different parameter n_pcs later, skipped: invalid 'useSource' argument\"\n",
      "[1] \"Finding neighbors.\"\n",
      "[1] \"An error occurred when running t-SNE/UMAP, please try a different parameter n_neighbors later, skipped: ‘pca’ not found in this Seurat object\\n \"\n",
      "[1] \"Creating artificial doublets for pN = 5%\"\n",
      "[1] \"Creating Seurat object...\"\n",
      "[1] \"Normalizing Seurat object...\"\n"
     ]
    },
    {
     "name": "stderr",
     "output_type": "stream",
     "text": [
      "R callback write-console: Performing log-normalization\n",
      "  \n",
      "R callback write-console: 0%   10   20   30   40   50   60   70   80   90   100%\n",
      "  \n",
      "R callback write-console: [----|----|----|----|----|----|----|----|----|----|\n",
      "  \n",
      "R callback write-console: *  \n",
      "R callback write-console: *  \n",
      "R callback write-console: *  \n",
      "R callback write-console: *  \n",
      "R callback write-console: *  \n",
      "R callback write-console: *  \n",
      "R callback write-console: *  \n",
      "R callback write-console: *  \n",
      "R callback write-console: *  \n",
      "R callback write-console: *  \n",
      "R callback write-console: *  \n",
      "R callback write-console: *  \n",
      "R callback write-console: *  \n",
      "R callback write-console: *  \n",
      "R callback write-console: *  \n",
      "R callback write-console: *  \n",
      "R callback write-console: *  \n",
      "R callback write-console: *  \n",
      "R callback write-console: *  \n",
      "R callback write-console: *  \n",
      "R callback write-console: *  \n",
      "R callback write-console: *  \n",
      "R callback write-console: *  \n",
      "R callback write-console: *  \n",
      "R callback write-console: *  \n",
      "R callback write-console: *  \n",
      "R callback write-console: *  \n",
      "R callback write-console: *  \n",
      "R callback write-console: *  \n",
      "R callback write-console: *  \n",
      "R callback write-console: *  \n",
      "R callback write-console: *  \n",
      "R callback write-console: *  \n",
      "R callback write-console: *  \n",
      "R callback write-console: *  \n",
      "R callback write-console: *  \n",
      "R callback write-console: *  \n",
      "R callback write-console: *  \n",
      "R callback write-console: *  \n",
      "R callback write-console: *  \n",
      "R callback write-console: *  \n",
      "R callback write-console: *  \n",
      "R callback write-console: *  \n",
      "R callback write-console: *  \n",
      "R callback write-console: *  \n",
      "R callback write-console: *  \n",
      "R callback write-console: *  \n",
      "R callback write-console: *  \n",
      "R callback write-console: *  \n",
      "R callback write-console: *  \n",
      "R callback write-console: |\n",
      "  \n"
     ]
    },
    {
     "name": "stdout",
     "output_type": "stream",
     "text": [
      "[1] \"Finding variable genes...\"\n"
     ]
    },
    {
     "name": "stderr",
     "output_type": "stream",
     "text": [
      "R callback write-console: Calculating gene variances  \n",
      "R callback write-console: \n",
      "  \n",
      "R callback write-console: 0%   10   20   30   40   50   60   70   80   90   100%\n",
      "  \n",
      "R callback write-console: [----|----|----|----|----|----|----|----|----|----|\n",
      "  \n",
      "R callback write-console: *  \n",
      "R callback write-console: *  \n",
      "R callback write-console: *  \n",
      "R callback write-console: *  \n",
      "R callback write-console: *  \n",
      "R callback write-console: *  \n",
      "R callback write-console: *  \n",
      "R callback write-console: *  \n",
      "R callback write-console: *  \n",
      "R callback write-console: *  \n",
      "R callback write-console: *  \n",
      "R callback write-console: *  \n",
      "R callback write-console: *  \n",
      "R callback write-console: *  \n",
      "R callback write-console: *  \n",
      "R callback write-console: *  \n",
      "R callback write-console: *  \n",
      "R callback write-console: *  \n",
      "R callback write-console: *  \n",
      "R callback write-console: *  \n",
      "R callback write-console: *  \n",
      "R callback write-console: *  \n",
      "R callback write-console: *  \n",
      "R callback write-console: *  \n",
      "R callback write-console: *  \n",
      "R callback write-console: *  \n",
      "R callback write-console: *  \n",
      "R callback write-console: *  \n",
      "R callback write-console: *  \n",
      "R callback write-console: *  \n",
      "R callback write-console: *  \n",
      "R callback write-console: *  \n",
      "R callback write-console: *  \n",
      "R callback write-console: *  \n",
      "R callback write-console: *  \n",
      "R callback write-console: *  \n",
      "R callback write-console: *  \n",
      "R callback write-console: *  \n",
      "R callback write-console: *  \n",
      "R callback write-console: *  \n",
      "R callback write-console: *  \n",
      "R callback write-console: *  \n",
      "R callback write-console: *  \n",
      "R callback write-console: *  \n",
      "R callback write-console: *  \n",
      "R callback write-console: *  \n",
      "R callback write-console: *  \n",
      "R callback write-console: *  \n",
      "R callback write-console: *  \n",
      "R callback write-console: *  \n",
      "R callback write-console: |\n",
      "  \n",
      "R callback write-console: Calculating feature variances of standardized and clipped values  \n",
      "R callback write-console: \n",
      "  \n",
      "R callback write-console: 0%   10   20   30   40   50   60   70   80   90   100%\n",
      "  \n",
      "R callback write-console: [----|----|----|----|----|----|----|----|----|----|\n",
      "  \n",
      "R callback write-console: *  \n",
      "R callback write-console: *  \n",
      "R callback write-console: *  \n",
      "R callback write-console: *  \n",
      "R callback write-console: *  \n",
      "R callback write-console: *  \n",
      "R callback write-console: *  \n",
      "R callback write-console: *  \n",
      "R callback write-console: *  \n",
      "R callback write-console: *  \n",
      "R callback write-console: *  \n",
      "R callback write-console: *  \n",
      "R callback write-console: *  \n",
      "R callback write-console: *  \n",
      "R callback write-console: *  \n",
      "R callback write-console: *  \n",
      "R callback write-console: *  \n",
      "R callback write-console: *  \n",
      "R callback write-console: *  \n",
      "R callback write-console: *  \n",
      "R callback write-console: *  \n",
      "R callback write-console: *  \n",
      "R callback write-console: *  \n",
      "R callback write-console: *  \n",
      "R callback write-console: *  \n",
      "R callback write-console: *  \n",
      "R callback write-console: *  \n",
      "R callback write-console: *  \n",
      "R callback write-console: *  \n",
      "R callback write-console: *  \n",
      "R callback write-console: *  \n",
      "R callback write-console: *  \n",
      "R callback write-console: *  \n",
      "R callback write-console: *  \n",
      "R callback write-console: *  \n",
      "R callback write-console: *  \n",
      "R callback write-console: *  \n",
      "R callback write-console: *  \n",
      "R callback write-console: *  \n",
      "R callback write-console: *  \n",
      "R callback write-console: *  \n",
      "R callback write-console: *  \n",
      "R callback write-console: *  \n",
      "R callback write-console: *  \n",
      "R callback write-console: *  \n",
      "R callback write-console: *  \n",
      "R callback write-console: *  \n",
      "R callback write-console: *  \n",
      "R callback write-console: *  \n",
      "R callback write-console: *  \n",
      "R callback write-console: |\n",
      "  \n"
     ]
    },
    {
     "name": "stdout",
     "output_type": "stream",
     "text": [
      "[1] \"Scaling data...\"\n"
     ]
    },
    {
     "name": "stderr",
     "output_type": "stream",
     "text": [
      "R callback write-console: Centering and scaling data matrix\n",
      "  \n",
      "  |                                                                              \n",
      "  |                                                                      |   0%  \n",
      "  |                                                                              \n",
      "  |===                                                                   |   4%  \n",
      "  |                                                                              \n",
      "  |======                                                                |   8%  \n",
      "  |                                                                              \n",
      "  |=========                                                             |  12%  \n",
      "  |                                                                              \n",
      "  |============                                                          |  17%  \n",
      "  |                                                                              \n",
      "  |===============                                                       |  21%  \n",
      "  |                                                                              \n",
      "  |==================                                                    |  25%  \n",
      "  |                                                                              \n",
      "  |====================                                                  |  29%  \n",
      "  |                                                                              \n",
      "  |=======================                                               |  33%  \n",
      "  |                                                                              \n",
      "  |==========================                                            |  38%  \n",
      "  |                                                                              \n",
      "  |=============================                                         |  42%  \n",
      "  |                                                                              \n",
      "  |================================                                      |  46%  \n",
      "  |                                                                              \n",
      "  |===================================                                   |  50%  \n",
      "  |                                                                              \n",
      "  |======================================                                |  54%  \n",
      "  |                                                                              \n",
      "  |=========================================                             |  58%  \n",
      "  |                                                                              \n",
      "  |============================================                          |  62%  \n",
      "  |                                                                              \n",
      "  |===============================================                       |  67%  \n",
      "  |                                                                              \n",
      "  |==================================================                    |  71%  \n",
      "  |                                                                              \n",
      "  |====================================================                  |  75%  \n",
      "  |                                                                              \n",
      "  |=======================================================               |  79%  \n",
      "  |                                                                              \n",
      "  |==========================================================            |  83%  \n",
      "  |                                                                              \n",
      "  |=============================================================         |  88%  \n",
      "  |                                                                              \n",
      "  |================================================================      |  92%  \n",
      "  |                                                                              \n",
      "  |===================================================================   |  96%  \n",
      "  |                                                                              \n",
      "  |======================================================================| 100%  \n",
      "R callback write-console: \n",
      "  \n"
     ]
    },
    {
     "name": "stdout",
     "output_type": "stream",
     "text": [
      "[1] \"Running PCA...\"\n",
      "<simpleError in if (rev.pca) {    npcs <- min(npcs, ncol(x = object) - 1)    pca.results <- irlba(A = object, nv = npcs, ...)    total.variance <- sum(RowVar(x = t(x = object)))    sdev <- pca.results$d/sqrt(max(1, nrow(x = object) - 1))    if (weight.by.var) {        feature.loadings <- pca.results$u %*% diag(pca.results$d)    }    else {        feature.loadings <- pca.results$u    }    cell.embeddings <- pca.results$v} else {    total.variance <- sum(RowVar(x = object))    if (approx) {        npcs <- min(npcs, nrow(x = object) - 1)        pca.results <- irlba(A = t(x = object), nv = npcs, ...)        feature.loadings <- pca.results$v        sdev <- pca.results$d/sqrt(max(1, ncol(object) - 1))        if (weight.by.var) {            cell.embeddings <- pca.results$u %*% diag(pca.results$d)        }        else {            cell.embeddings <- pca.results$u        }    }    else {        npcs <- min(npcs, nrow(x = object))        pca.results <- prcomp(x = t(object), rank. = npcs, ...)        feature.loadings <- pca.results$rotation        sdev <- pca.results$sdev        if (weight.by.var) {            cell.embeddings <- pca.results$x        }        else {            cell.embeddings <- pca.results$x/(pca.results$sdev[1:npcs] *                 sqrt(x = ncol(x = object) - 1))        }    }}: argument is of length zero>\n",
      "An object of class Seurat \n",
      "23341 features across 2500 samples within 1 assay \n",
      "Active assay: RNA (23341 features, 2000 variable features)\n",
      " 3 layers present: counts, data, scale.data\n"
     ]
    },
    {
     "name": "stderr",
     "output_type": "stream",
     "text": [
      "R callback write-console: Warning:  \n",
      "R callback write-console:  Overwriting previous file ../../../oscb/user_storage/Benchmarks/droplet-Bladder_1752676773774/droplet_Bladder_seurat_tiss.h5seurat\n",
      "  \n",
      "R callback write-console: Creating h5Seurat file for version 3.1.5.9900\n",
      "  \n"
     ]
    },
    {
     "name": "stdout",
     "output_type": "stream",
     "text": [
      "[1] \"Seurat object is saved successfully.\"\n",
      "[1] \"Converting Seurat object to AnnData object.\"\n"
     ]
    },
    {
     "name": "stderr",
     "output_type": "stream",
     "text": [
      "/opt/conda/lib/python3.11/site-packages/anndata/_core/anndata.py:381: FutureWarning: The dtype argument is deprecated and will be removed in late 2024.\n",
      "  warnings.warn(\n"
     ]
    }
   ],
   "source": [
    "ro.r['source']('seurat_qc.R')\n",
    "RunSeuratQC_r = ro.globalenv['RunSeuratQC']\n",
    "path=\"../../../oscb/user_storage/Benchmarks/droplet-Bladder_1752676773774/droplet_Bladder_seurat_tiss.Robj\"\n",
    "adata_path = \"../../../oscb/user_storage/Benchmarks/droplet-Bladder_1752676773774/droplet_Bladder_seurat_tiss.h5ad\"\n",
    "results = list(RunSeuratQC_r(path, \"../../../oscb/user_storage/Benchmarks/droplet-Bladder_1752676773774/droplet_Bladder_seurat_tiss.h5seurat\", adata_path=adata_path, n_pcs=30))"
   ]
  },
  {
   "cell_type": "code",
   "execution_count": 3,
   "id": "bf9cb63e-9bb4-4ad8-a1fd-0ebe4036a296",
   "metadata": {},
   "outputs": [
    {
     "name": "stdout",
     "output_type": "stream",
     "text": [
      "[<rpy2.robjects.vectors.StrVector object at 0x7fb025a5bd90> [16]\n",
      "R classes: ('character',)\n",
      "['RNA'], <rpy2.robjects.vectors.StrVector object at 0x7fb025a5bb10> [16]\n",
      "R classes: ('character',)\n",
      "['RNA'], <rpy2.robjects.vectors.StrVector object at 0x7fb025a5b9d0> [16]\n",
      "R classes: ('character',)\n",
      "['../../../oscb/user_storage/Benchmarks/droplet-Bl...], <rpy2.robjects.vectors.StrVector object at 0x7fb025a5b890> [16]\n",
      "R classes: ('character',)\n",
      "['../../../oscb/user_storage/Benchmarks/droplet-Bl...], <rpy2.robjects.vectors.BoolVector object at 0x7fb17eaa7d10> [10]\n",
      "R classes: ('logical',)\n",
      "[       0]]\n"
     ]
    }
   ],
   "source": [
    "print(results)"
   ]
  },
  {
   "cell_type": "code",
   "execution_count": 4,
   "id": "11fd8c39-1a90-4936-8a86-4ebaf409ba09",
   "metadata": {},
   "outputs": [],
   "source": [
    "from rpy2.robjects import r, StrVector, NULL\n",
    "from typing import Any, List, Optional\n",
    "\n",
    "def convert_from_r(item: Any, date_cols: Optional[List[str]] = None, name: str = '', reserve_plots: bool = True) -> Any:\n",
    "    \"\"\"convert rpy object into python native object\n",
    "    Args:\n",
    "        item (Any): rpy2 object to convert\n",
    "        date_cols (list[str], optional): define the date colums in R dataframe , in order to conevrt them into pandas datetime. Defaults to None.\n",
    "        name (str, optional): name of the object to convert, (not required for external use). Defaults to ''.\n",
    "        reserve_plots (bool, optional): if True prserve rpy2 ListVector as rpy2 ListVector if name conatains plot,\n",
    "                                        in order to be able to ouput ggplot plots. Defaults to True.\n",
    "    Returns:\n",
    "        Any: the converted item\n",
    "    \"\"\"\n",
    "    result = item\n",
    "    remove_list: bool = True\n",
    "    if item == ro.vectors.NULL:\n",
    "        return None\n",
    "    elif 'plot' in name and isinstance(item, ro.vectors.ListVector) and reserve_plots:\n",
    "        return item\n",
    "    elif isinstance(item, (ro.environments.Environment,\n",
    "                           ro.Formula)):\n",
    "        return None\n",
    "    elif isinstance(item, ro.vectors.DataFrame):\n",
    "        with localconverter(ro.default_converter + pandas2ri.converter):\n",
    "            result = ro.conversion.rpy2py(item)\n",
    "        result = convert_df_dates_from_r(result, date_cols)\n",
    "        remove_list = False\n",
    "    elif isinstance(item, (ro.vectors.StrVector,\n",
    "                           ro.vectors.FloatVector,\n",
    "                           ro.vectors.BoolVector,\n",
    "                           ro.vectors.IntVector)):\n",
    "        result = tuple(item)\n",
    "    elif isinstance(item, ro.vectors.ListVector):\n",
    "        if item.names == ro.vectors.NULL:\n",
    "            return None\n",
    "        result = {}\n",
    "        remove_list = False\n",
    "        if len(item) > 0:\n",
    "            result = dict(zip(item.names, list(item)))\n",
    "            for k, v in result.items():\n",
    "                result[k] = convert_from_r(v, date_cols, name=k)\n",
    "    if '__len__' in result.__dir__() and len(result) == 1 and remove_list:\n",
    "        result = result[0]\n",
    "    return result"
   ]
  },
  {
   "cell_type": "code",
   "execution_count": 5,
   "id": "5622a99f-cbcf-46d7-853f-b042177d6adc",
   "metadata": {},
   "outputs": [
    {
     "name": "stdout",
     "output_type": "stream",
     "text": [
      "Type of ddl_assay_names: <class 'bool'>\n",
      "Value of ddl_assay_names: False\n"
     ]
    }
   ],
   "source": [
    "if results[0] != ro.rinterface.NULL:\n",
    "    default_assay = list(results[0])[0]\n",
    "    assay_names = list(results[1])\n",
    "    output = list(results[2])[0]\n",
    "    adata_path = list(results[3])[0]\n",
    "    ddl_assay_names = convert_from_r(list(results[4])[0])\n",
    "    print(\"Type of ddl_assay_names:\", type(ddl_assay_names))\n",
    "    print(\"Value of ddl_assay_names:\", ddl_assay_names)\n",
    "else:\n",
    "    raise RuntimeError(f\"Seurat QC failed.\")"
   ]
  },
  {
   "cell_type": "code",
   "execution_count": 6,
   "id": "67133f9d-92ff-42e8-9083-48989e8bcd3a",
   "metadata": {},
   "outputs": [
    {
     "data": {
      "text/plain": [
       "'../../../oscb/user_storage/Benchmarks/droplet-Bladder_1752676773774/droplet_Bladder_seurat_tiss.h5seurat'"
      ]
     },
     "execution_count": 6,
     "metadata": {},
     "output_type": "execute_result"
    }
   ],
   "source": [
    "output"
   ]
  },
  {
   "cell_type": "code",
   "execution_count": 7,
   "id": "e9b56550-ac39-4932-9202-8c23baf6cf4e",
   "metadata": {},
   "outputs": [
    {
     "data": {
      "text/plain": [
       "'../../../oscb/user_storage/Benchmarks/droplet-Bladder_1752676773774/droplet_Bladder_seurat_tiss.h5ad'"
      ]
     },
     "execution_count": 7,
     "metadata": {},
     "output_type": "execute_result"
    }
   ],
   "source": [
    "adata_path"
   ]
  },
  {
   "cell_type": "code",
   "execution_count": 9,
   "id": "359ab467-39c8-4a26-9539-4f69b36925d2",
   "metadata": {},
   "outputs": [
    {
     "data": {
      "text/plain": [
       "AnnData object with n_obs × n_vars = 2500 × 23341\n",
       "    obs: 'orig.ident', 'n_counts', 'n_genes', 'channel', 'tissue', 'subtissue', 'mouse.sex', 'mouse.id', 'percent.ercc', 'percent.ribo', 'free_annotation', 'cell_ontology_class', 'res.0.4', 'previous_free_annotation', 'previous_cell_ontology_class', 'cluster.ids', 'cell_ontology_id'\n",
       "    var: 'name'"
      ]
     },
     "execution_count": 9,
     "metadata": {},
     "output_type": "execute_result"
    }
   ],
   "source": [
    "adata = sc.read_h5ad(adata_path)\n",
    "adata"
   ]
  },
  {
   "cell_type": "code",
   "execution_count": 10,
   "id": "1c010e6a-5437-4357-9d36-108c9a6acb54",
   "metadata": {},
   "outputs": [
    {
     "data": {
      "text/plain": [
       "scipy.sparse._csc.csc_matrix"
      ]
     },
     "execution_count": 10,
     "metadata": {},
     "output_type": "execute_result"
    }
   ],
   "source": [
    "type(adata.X)"
   ]
  },
  {
   "cell_type": "code",
   "execution_count": 15,
   "id": "ffd8ab62-da4a-43ac-837d-0b0c7b37ba22",
   "metadata": {},
   "outputs": [
    {
     "name": "stderr",
     "output_type": "stream",
     "text": [
      "/opt/conda/lib/python3.11/site-packages/anndata/_core/storage.py:39: ImplicitModificationWarning: X should not be a np.matrix, use np.ndarray instead.\n",
      "  warnings.warn(msg, ImplicitModificationWarning)\n"
     ]
    }
   ],
   "source": [
    "adata.X = adata.X.todense()"
   ]
  },
  {
   "cell_type": "code",
   "execution_count": 17,
   "id": "45816fef-ece6-469e-a442-9ee3901fde36",
   "metadata": {},
   "outputs": [
    {
     "data": {
      "text/plain": [
       "numpy.ndarray"
      ]
     },
     "execution_count": 17,
     "metadata": {},
     "output_type": "execute_result"
    }
   ],
   "source": [
    "type(adata.X)"
   ]
  },
  {
   "cell_type": "code",
   "execution_count": 18,
   "id": "effa463d-8bf1-4324-ba38-6f11d9edbbc5",
   "metadata": {},
   "outputs": [
    {
     "data": {
      "text/plain": [
       "False"
      ]
     },
     "execution_count": 18,
     "metadata": {},
     "output_type": "execute_result"
    }
   ],
   "source": [
    "type(adata.X) != np.ndarray"
   ]
  },
  {
   "cell_type": "code",
   "execution_count": 19,
   "id": "16c50cff-aef6-4e7e-962a-a8580923b5f6",
   "metadata": {},
   "outputs": [],
   "source": [
    "norm_dict = sc.pp.normalize_total(adata, target_sum=100, inplace=False)"
   ]
  },
  {
   "cell_type": "code",
   "execution_count": 22,
   "id": "7abf3a64-07a4-42f6-87af-1e667fac3341",
   "metadata": {},
   "outputs": [],
   "source": [
    "from scipy.sparse import issparse\n",
    "\n",
    "n_top=2000\n",
    "\n",
    "if issparse(norm_dict[\"X\"]):\n",
    "    mean_percent = norm_dict[\"X\"].mean(axis=0).A1\n",
    "    top_idx = np.argsort(mean_percent)[::-1][:n_top]\n",
    "    counts_top_genes = norm_dict[\"X\"][:, top_idx].A\n",
    "else:\n",
    "    mean_percent = norm_dict[\"X\"].mean(axis=0)\n",
    "    top_idx = np.argsort(mean_percent)[::-1][:n_top]\n",
    "    counts_top_genes = norm_dict[\"X\"][:, top_idx]\n",
    "columns = adata.var_names[top_idx].to_list()"
   ]
  },
  {
   "cell_type": "code",
   "execution_count": 15,
   "id": "13c93014-a438-4a6e-a716-a381228a51d9",
   "metadata": {},
   "outputs": [
    {
     "data": {
      "text/plain": [
       "matrix([[0., 0., 0., ..., 0., 0., 0.],\n",
       "        [0., 0., 0., ..., 0., 0., 0.],\n",
       "        [0., 0., 0., ..., 0., 0., 0.],\n",
       "        ...,\n",
       "        [0., 0., 0., ..., 0., 0., 0.],\n",
       "        [0., 0., 0., ..., 0., 0., 0.],\n",
       "        [0., 0., 0., ..., 0., 0., 0.]], dtype=float32)"
      ]
     },
     "execution_count": 15,
     "metadata": {},
     "output_type": "execute_result"
    }
   ],
   "source": [
    "adata.X.todense()"
   ]
  },
  {
   "cell_type": "code",
   "execution_count": 17,
   "id": "ed33b2b0-25b7-4aa7-bf16-b6431f775142",
   "metadata": {},
   "outputs": [
    {
     "data": {
      "text/plain": [
       "array([[ 0.        ,  0.        , -0.0281569 , ..., -0.06304653,\n",
       "         0.        ,  0.        ],\n",
       "       [ 0.        ,  0.        , -0.0281569 , ..., -0.06304653,\n",
       "         0.        ,  0.        ],\n",
       "       [ 0.        ,  0.        , -0.0281569 , ..., -0.06304653,\n",
       "         0.        ,  0.        ],\n",
       "       ...,\n",
       "       [ 0.        ,  0.        , -0.0281569 , ..., -0.06304653,\n",
       "         0.        ,  0.        ],\n",
       "       [ 0.        ,  0.        , -0.0281569 , ..., -0.06304653,\n",
       "         0.        ,  0.        ],\n",
       "       [ 0.        ,  0.        , -0.0281569 , ..., -0.06304653,\n",
       "         0.        ,  0.        ]])"
      ]
     },
     "execution_count": 17,
     "metadata": {},
     "output_type": "execute_result"
    }
   ],
   "source": [
    "adata.layers['scale.data']"
   ]
  },
  {
   "cell_type": "code",
   "execution_count": 24,
   "id": "a5593dbd-e0ad-4078-8d1e-a824ea555d81",
   "metadata": {},
   "outputs": [
    {
     "name": "stdout",
     "output_type": "stream",
     "text": [
      "Adding 3D UMAP to AnnData object.\n"
     ]
    },
    {
     "name": "stderr",
     "output_type": "stream",
     "text": [
      "/usr/local/lib/python3.8/dist-packages/umap/umap_.py:1943: UserWarning: n_jobs value -1 overridden to 1 by setting random_state. Use no seed for parallelism.\n",
      "  warn(f\"n_jobs value {self.n_jobs} overridden to 1 by setting random_state. Use no seed for parallelism.\")\n"
     ]
    }
   ],
   "source": [
    "from umap import UMAP\n",
    "\n",
    "if not ddl_assay_names:\n",
    "    if os.path.exists(adata_path):\n",
    "        print(\"Adding 3D UMAP to AnnData object.\")\n",
    "        sc.pp.neighbors(adata, n_neighbors=10, n_pcs=3, random_state=0)\n",
    "        umap_3d = UMAP(n_components=3, init='random', random_state=0)\n",
    "        adata.obsm[\"X_umap_3D\"] = umap_3d.fit_transform(adata.obsm['X_pca'])\n",
    "        # adata.obsm[\"X_umap_3D\"] = adata_3D.obsm[\"X_umap\"]\n",
    "        adata.write_h5ad(adata_path, compression='gzip')\n",
    "        adata_3D = None\n",
    "    else:\n",
    "        raise ValueError(\"AnnData file does not exist.\")"
   ]
  },
  {
   "cell_type": "code",
   "execution_count": 25,
   "id": "14bc9d49-338b-40b5-bbfa-b63e3f8cf16c",
   "metadata": {},
   "outputs": [
    {
     "data": {
      "text/plain": [
       "AnnData object with n_obs × n_vars = 3436 × 33538\n",
       "    obs: 'orig.ident', 'n_counts', 'n_genes', 'NRP', 'age_group', 'cell_source', 'cell_type', 'donor', 'gender', 'nCounts_RNA', 'nFeatures_RNA', 'percent_mito', 'percent_ribo', 'region', 'sample', 'scrublet_score', 'source', 'type', 'version', 'cell_states', 'Used', 'pct_counts_mt', 'pct_counts_rb', 'pct_counts_hb', 'percent.plat', 'RNA_snn_res.0.5', 'seurat_clusters', 'doublet_score', 'doublet_class'\n",
       "    var: 'vst.mean', 'vst.variance', 'vst.variance.expected', 'vst.variance.standardized', 'highly_variable'\n",
       "    uns: 'neighbors'\n",
       "    obsm: 'X_pca', 'X_tsne', 'X_umap', 'X_umap_3D'\n",
       "    layers: 'scale.data'\n",
       "    obsp: 'distances', 'connectivities'"
      ]
     },
     "execution_count": 25,
     "metadata": {},
     "output_type": "execute_result"
    }
   ],
   "source": [
    "adata"
   ]
  },
  {
   "cell_type": "code",
   "execution_count": 26,
   "id": "84c48aaa-db2a-4a0b-8e81-b62491009693",
   "metadata": {},
   "outputs": [
    {
     "data": {
      "text/plain": [
       "array([[ 4.73994233, 10.88068801],\n",
       "       [ 0.05498769, -6.39408511],\n",
       "       [-0.81740091, -5.91939848],\n",
       "       ...,\n",
       "       [-8.59770701,  5.80163509],\n",
       "       [-9.05568335,  5.64351732],\n",
       "       [-8.73765872,  5.65475685]])"
      ]
     },
     "execution_count": 26,
     "metadata": {},
     "output_type": "execute_result"
    }
   ],
   "source": [
    "adata.obsm['X_umap']"
   ]
  },
  {
   "cell_type": "code",
   "execution_count": 27,
   "id": "2ed29d4d-6546-47c4-a868-d595952e4d1b",
   "metadata": {},
   "outputs": [
    {
     "data": {
      "text/plain": [
       "array([[ 1.2389023 ,  0.17247425,  3.5108423 ],\n",
       "       [-1.5085722 ,  1.0367727 ,  4.0758543 ],\n",
       "       [-1.4218253 ,  0.23663785,  3.2739491 ],\n",
       "       ...,\n",
       "       [14.681225  , -0.38077277,  8.828661  ],\n",
       "       [14.738458  , -0.43038186,  8.868302  ],\n",
       "       [14.769193  , -0.45038512,  8.847239  ]], dtype=float32)"
      ]
     },
     "execution_count": 27,
     "metadata": {},
     "output_type": "execute_result"
    }
   ],
   "source": [
    "adata.obsm['X_umap_3D']"
   ]
  },
  {
   "cell_type": "code",
   "execution_count": null,
   "id": "05c5ad00-7067-4da1-b51e-799939d78e1e",
   "metadata": {},
   "outputs": [],
   "source": []
  }
 ],
 "metadata": {
  "kernelspec": {
   "display_name": "Python 3 (ipykernel)",
   "language": "python",
   "name": "python3"
  },
  "language_info": {
   "codemirror_mode": {
    "name": "ipython",
    "version": 3
   },
   "file_extension": ".py",
   "mimetype": "text/x-python",
   "name": "python",
   "nbconvert_exporter": "python",
   "pygments_lexer": "ipython3",
   "version": "3.11.13"
  }
 },
 "nbformat": 4,
 "nbformat_minor": 5
}
