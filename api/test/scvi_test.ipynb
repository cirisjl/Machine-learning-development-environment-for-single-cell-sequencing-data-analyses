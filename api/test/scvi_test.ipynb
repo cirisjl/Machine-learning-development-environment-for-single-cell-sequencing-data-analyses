{
 "cells": [
  {
   "cell_type": "code",
   "execution_count": 1,
   "id": "4a2b92e0-0b65-4958-8ef4-7ce8f83c29dc",
   "metadata": {},
   "outputs": [
    {
     "name": "stderr",
     "output_type": "stream",
     "text": [
      "/usr/local/lib/python3.8/dist-packages/torchvision/io/image.py:13: UserWarning: Failed to load image Python extension: '/usr/local/lib/python3.8/dist-packages/torchvision/image.so: undefined symbol: _ZN3c104cuda9SetDeviceEi'If you don't plan on using image functionality from `torchvision.io`, you can ignore this warning. Otherwise, there might be something wrong with your environment. Did you have `libjpeg` or `libpng` installed before building `torchvision` from source?\n",
      "  warn(\n",
      "Global seed set to 0\n"
     ]
    },
    {
     "name": "stdout",
     "output_type": "stream",
     "text": [
      "0.20.3\n"
     ]
    }
   ],
   "source": [
    "# Seed for reproducibility\n",
    "import torch\n",
    "import numpy as np\n",
    "import pandas as pd\n",
    "import scanpy as sc\n",
    "from typing import Tuple\n",
    "\n",
    "import sys\n",
    "sys.path.append('..')\n",
    "from tools.formating.formating import *\n",
    "from tools.utils.utils import run_dimension_reduction\n",
    "from tools.evaluation.monitor import *\n",
    "\n",
    "# scVI imports\n",
    "import scvi\n",
    "print(scvi.__version__)\n",
    "from scvi.model.utils import mde\n",
    "import pymde\n",
    "\n",
    "torch.manual_seed(0)\n",
    "np.random.seed(0)\n",
    "sc.settings.verbosity = 0  # verbosity: errors (0), warnings (1), info (2), hints (3)"
   ]
  },
  {
   "cell_type": "code",
   "execution_count": 2,
   "id": "a9d570f5-fd2c-45b9-b48e-504b52b815cb",
   "metadata": {},
   "outputs": [
    {
     "name": "stdout",
     "output_type": "stream",
     "text": [
      "/ps/ai-ready/data/Clustering/Tabula_Sapiens/TS_Skin_test.h5ad\n"
     ]
    },
    {
     "data": {
      "text/plain": [
       "AnnData object with n_obs × n_vars = 725 × 3853\n",
       "    obs: 'organ_tissue', 'method', 'donor', 'anatomical_information', 'n_counts_UMIs', 'n_genes', 'cell_ontology_class', 'free_annotation', 'manually_annotated', 'compartment', 'gender', 'n_genes_by_counts', 'log1p_n_genes_by_counts', 'total_counts', 'log1p_total_counts', 'pct_counts_in_top_20_genes', 'total_counts_mt', 'log1p_total_counts_mt', 'pct_counts_mt', 'total_counts_ribo', 'log1p_total_counts_ribo', 'pct_counts_ribo', 'total_counts_hb', 'log1p_total_counts_hb', 'pct_counts_hb', 'outlier', 'mt_outlier', 'doublet_scores', 'predicted_doublets'\n",
       "    var: 'gene_symbol', 'feature_type', 'ensemblid', 'highly_variable', 'means', 'dispersions', 'dispersions_norm', 'mean', 'std', 'n_cells', 'mt', 'ribo', 'hb', 'n_cells_by_counts', 'mean_counts', 'log1p_mean_counts', 'pct_dropout_by_counts', 'total_counts', 'log1p_total_counts'\n",
       "    uns: '_scvi', '_training_mode', 'cell_ontology_class_colors', 'dendrogram_cell_type_tissue', 'dendrogram_computational_compartment_assignment', 'dendrogram_consensus_prediction', 'dendrogram_tissue_cell_type', 'donor_colors', 'donor_method_colors', 'hvg', 'log10k_leiden', 'log10k_louvain', 'log1p', 'method_colors', 'neighbors', 'organ_tissue_colors', 'pca', 'sex_colors', 'tissue_colors', 'tsne', 'umap'\n",
       "    obsm: 'X_pca', 'X_scvi', 'X_scvi_umap', 'X_umap', 'log10k_pca', 'log10k_tsne', 'log10k_umap'\n",
       "    layers: 'decontXcounts', 'log10k', 'normalized_X', 'raw_counts'\n",
       "    obsp: 'connectivities', 'distances'"
      ]
     },
     "execution_count": 2,
     "metadata": {},
     "output_type": "execute_result"
    }
   ],
   "source": [
    "input = \"/ps/ai-ready/data/Clustering/Tabula_Sapiens/TS_Skin_test.h5ad\"\n",
    "adata = load_anndata(input)\n",
    "adata"
   ]
  },
  {
   "cell_type": "code",
   "execution_count": 3,
   "id": "561ecf96-76e4-45cd-87b2-07f715d8af11",
   "metadata": {},
   "outputs": [],
   "source": [
    "monitor = Monitor(1)"
   ]
  },
  {
   "cell_type": "code",
   "execution_count": 4,
   "id": "93c29bbb-5db9-445d-8bf0-7f10bf8a08fb",
   "metadata": {},
   "outputs": [
    {
     "name": "stderr",
     "output_type": "stream",
     "text": [
      "No GPU/TPU found, falling back to CPU. (Set TF_CPP_MIN_LOG_LEVEL=0 and rerun for more info.)\n"
     ]
    }
   ],
   "source": [
    "# scVI uses non normalized data so we keep the original data in a separate AnnData object, then the normalization steps are performed\n",
    "scvi.model.SCVI.setup_anndata(\n",
    "    adata,\n",
    "    layer=\"raw_counts\"\n",
    ")"
   ]
  },
  {
   "cell_type": "code",
   "execution_count": 5,
   "id": "89daf27f-3109-4fef-be84-b29ff5d63821",
   "metadata": {},
   "outputs": [
    {
     "data": {
      "text/html": [
       "<pre style=\"white-space:pre;overflow-x:auto;line-height:normal;font-family:Menlo,'DejaVu Sans Mono',consolas,'Courier New',monospace\">SCVI Model with the following params: \n",
       "n_hidden: <span style=\"color: #008080; text-decoration-color: #008080; font-weight: bold\">128</span>, n_latent: <span style=\"color: #008080; text-decoration-color: #008080; font-weight: bold\">10</span>, n_layers: <span style=\"color: #008080; text-decoration-color: #008080; font-weight: bold\">1</span>, dropout_rate: <span style=\"color: #008080; text-decoration-color: #008080; font-weight: bold\">0.1</span>, dispersion: gene, gene_likelihood: zinb, \n",
       "latent_distribution: normal\n",
       "Training status: Not Trained\n",
       "Model's adata is minified?: <span style=\"color: #ff0000; text-decoration-color: #ff0000; font-style: italic\">False</span>\n",
       "</pre>\n"
      ],
      "text/plain": [
       "SCVI Model with the following params: \n",
       "n_hidden: \u001b[1;36m128\u001b[0m, n_latent: \u001b[1;36m10\u001b[0m, n_layers: \u001b[1;36m1\u001b[0m, dropout_rate: \u001b[1;36m0.1\u001b[0m, dispersion: gene, gene_likelihood: zinb, \n",
       "latent_distribution: normal\n",
       "Training status: Not Trained\n",
       "Model's adata is minified?: \u001b[3;91mFalse\u001b[0m\n"
      ]
     },
     "metadata": {},
     "output_type": "display_data"
    },
    {
     "data": {
      "text/plain": []
     },
     "execution_count": 5,
     "metadata": {},
     "output_type": "execute_result"
    }
   ],
   "source": [
    "model = scvi.model.SCVI(adata)\n",
    "model"
   ]
  },
  {
   "cell_type": "code",
   "execution_count": 6,
   "id": "887645cd-5432-48e1-b321-d785b0f93578",
   "metadata": {},
   "outputs": [
    {
     "name": "stderr",
     "output_type": "stream",
     "text": [
      "GPU available: False, used: False\n",
      "TPU available: False, using: 0 TPU cores\n",
      "IPU available: False, using: 0 IPUs\n",
      "HPU available: False, using: 0 HPUs\n",
      "/usr/local/lib/python3.8/dist-packages/pytorch_lightning/trainer/trainer.py:1609: PossibleUserWarning: The number of training batches (6) is smaller than the logging interval Trainer(log_every_n_steps=10). Set a lower value for log_every_n_steps if you want to see logs for the training epoch.\n",
      "  rank_zero_warn(\n"
     ]
    },
    {
     "name": "stdout",
     "output_type": "stream",
     "text": [
      "Epoch 400/400: 100%|█████████████████████████████████████████████████████████| 400/400 [01:03<00:00,  6.35it/s, loss=1.28e+03, v_num=1]"
     ]
    },
    {
     "name": "stderr",
     "output_type": "stream",
     "text": [
      "`Trainer.fit` stopped: `max_epochs=400` reached.\n"
     ]
    },
    {
     "name": "stdout",
     "output_type": "stream",
     "text": [
      "Epoch 400/400: 100%|█████████████████████████████████████████████████████████| 400/400 [01:03<00:00,  6.31it/s, loss=1.28e+03, v_num=1]\n"
     ]
    }
   ],
   "source": [
    "model.train()"
   ]
  },
  {
   "cell_type": "code",
   "execution_count": 7,
   "id": "8b8effc0-c103-4185-9b44-f5a931453800",
   "metadata": {},
   "outputs": [],
   "source": [
    "latent = model.get_latent_representation()\n",
    "adata.obsm[\"X_scVI\"] = latent"
   ]
  },
  {
   "cell_type": "code",
   "execution_count": 8,
   "id": "8ac1c51a-d548-481f-a998-53f3bef6ee09",
   "metadata": {},
   "outputs": [],
   "source": [
    "denoised = model.get_normalized_expression(adata, library_size=1e4)\n",
    "adata.layers[\"scvi_normalized\"] = model.get_normalized_expression(\n",
    "    library_size=10e4\n",
    ")"
   ]
  },
  {
   "cell_type": "code",
   "execution_count": 9,
   "id": "5a474a4c-a1ae-44c3-9b9c-b886e3d603d3",
   "metadata": {},
   "outputs": [
    {
     "data": {
      "text/plain": [
       "array([[0., 0., 0., ..., 0., 0., 0.],\n",
       "       [0., 0., 0., ..., 0., 0., 1.],\n",
       "       [0., 0., 1., ..., 0., 0., 0.],\n",
       "       ...,\n",
       "       [0., 0., 0., ..., 0., 0., 0.],\n",
       "       [0., 0., 0., ..., 0., 0., 0.],\n",
       "       [0., 0., 0., ..., 0., 1., 0.]], dtype=float32)"
      ]
     },
     "execution_count": 9,
     "metadata": {},
     "output_type": "execute_result"
    }
   ],
   "source": [
    "adata.layers[\"raw_counts\"].toarray()"
   ]
  },
  {
   "cell_type": "code",
   "execution_count": 10,
   "id": "60135103-9314-4488-8bdf-822ac9291df9",
   "metadata": {},
   "outputs": [
    {
     "data": {
      "text/plain": [
       "10"
      ]
     },
     "execution_count": 10,
     "metadata": {},
     "output_type": "execute_result"
    }
   ],
   "source": [
    "adata.obsm[\"X_scVI\"].shape[1]"
   ]
  },
  {
   "cell_type": "code",
   "execution_count": 12,
   "id": "ffcd60a2-ce2f-4a6b-9b35-61990b97149d",
   "metadata": {},
   "outputs": [],
   "source": [
    "adata = run_dimension_reduction(adata, use_rep='X_scVI', n_pcs=10, n_neighbors=15)"
   ]
  },
  {
   "cell_type": "code",
   "execution_count": null,
   "id": "898faacf-5717-4f71-a55d-485b94fb10d5",
   "metadata": {},
   "outputs": [],
   "source": [
    "adata.obsm[\"X_mde\"] = mde(adata.obsm[\"X_scVI\"])"
   ]
  },
  {
   "cell_type": "code",
   "execution_count": null,
   "id": "5f6854b1-c019-4e60-9a34-f96a7dc5f717",
   "metadata": {},
   "outputs": [],
   "source": [
    "time_points, cpu_usage, mem_usage = monitor.stop()"
   ]
  },
  {
   "cell_type": "code",
   "execution_count": null,
   "id": "babd2c25-f212-41d6-b72c-0a53cd3a8f6a",
   "metadata": {},
   "outputs": [],
   "source": [
    "time_points"
   ]
  },
  {
   "cell_type": "code",
   "execution_count": null,
   "id": "d23c6f52-4696-4e3f-900a-1e12aa484dae",
   "metadata": {},
   "outputs": [],
   "source": [
    "cpu_usage"
   ]
  },
  {
   "cell_type": "code",
   "execution_count": null,
   "id": "328cac70-8062-4fba-ab24-83ccc509b92f",
   "metadata": {},
   "outputs": [],
   "source": [
    "mem_usage"
   ]
  },
  {
   "cell_type": "code",
   "execution_count": null,
   "id": "994aa4d8-fd68-4c90-a79a-e801055235e5",
   "metadata": {},
   "outputs": [],
   "source": []
  }
 ],
 "metadata": {
  "kernelspec": {
   "display_name": "Python 3 (ipykernel)",
   "language": "python",
   "name": "python3"
  },
  "language_info": {
   "codemirror_mode": {
    "name": "ipython",
    "version": 3
   },
   "file_extension": ".py",
   "mimetype": "text/x-python",
   "name": "python",
   "nbconvert_exporter": "python",
   "pygments_lexer": "ipython3",
   "version": "3.8.10"
  }
 },
 "nbformat": 4,
 "nbformat_minor": 5
}
