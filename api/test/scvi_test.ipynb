{
 "cells": [
  {
   "cell_type": "code",
   "execution_count": 1,
   "id": "4a2b92e0-0b65-4958-8ef4-7ce8f83c29dc",
   "metadata": {},
   "outputs": [
    {
     "name": "stderr",
     "output_type": "stream",
     "text": [
      "/usr/local/lib/python3.8/dist-packages/torchvision/io/image.py:13: UserWarning: Failed to load image Python extension: '/usr/local/lib/python3.8/dist-packages/torchvision/image.so: undefined symbol: _ZN3c104cuda9SetDeviceEi'If you don't plan on using image functionality from `torchvision.io`, you can ignore this warning. Otherwise, there might be something wrong with your environment. Did you have `libjpeg` or `libpng` installed before building `torchvision` from source?\n",
      "  warn(\n",
      "Global seed set to 0\n"
     ]
    },
    {
     "name": "stdout",
     "output_type": "stream",
     "text": [
      "0.20.3\n"
     ]
    }
   ],
   "source": [
    "# Seed for reproducibility\n",
    "import torch\n",
    "import numpy as np\n",
    "import pandas as pd\n",
    "import scanpy as sc\n",
    "from typing import Tuple\n",
    "\n",
    "import sys\n",
    "sys.path.append('..')\n",
    "from tools.formating.formating import *\n",
    "from tools.utils.utils import run_dimension_reduction\n",
    "from tools.evaluation.monitor import *\n",
    "\n",
    "# scVI imports\n",
    "import scvi\n",
    "print(scvi.__version__)\n",
    "from scvi.model.utils import mde\n",
    "import pymde\n",
    "\n",
    "torch.manual_seed(0)\n",
    "np.random.seed(0)\n",
    "sc.settings.verbosity = 0  # verbosity: errors (0), warnings (1), info (2), hints (3)"
   ]
  },
  {
   "cell_type": "code",
   "execution_count": 2,
   "id": "a9d570f5-fd2c-45b9-b48e-504b52b815cb",
   "metadata": {},
   "outputs": [
    {
     "name": "stdout",
     "output_type": "stream",
     "text": [
      "/ps/ai-ready/data/Clustering/Tabula_Sapiens/TS_Skin_test.h5ad\n"
     ]
    },
    {
     "data": {
      "text/plain": [
       "AnnData object with n_obs × n_vars = 725 × 3853\n",
       "    obs: 'organ_tissue', 'method', 'donor', 'anatomical_information', 'n_counts_UMIs', 'n_genes', 'cell_ontology_class', 'free_annotation', 'manually_annotated', 'compartment', 'gender', 'n_genes_by_counts', 'log1p_n_genes_by_counts', 'total_counts', 'log1p_total_counts', 'pct_counts_in_top_20_genes', 'total_counts_mt', 'log1p_total_counts_mt', 'pct_counts_mt', 'total_counts_ribo', 'log1p_total_counts_ribo', 'pct_counts_ribo', 'total_counts_hb', 'log1p_total_counts_hb', 'pct_counts_hb', 'outlier', 'mt_outlier', 'doublet_scores', 'predicted_doublets'\n",
       "    var: 'gene_symbol', 'feature_type', 'ensemblid', 'highly_variable', 'means', 'dispersions', 'dispersions_norm', 'mean', 'std', 'n_cells', 'mt', 'ribo', 'hb', 'n_cells_by_counts', 'mean_counts', 'log1p_mean_counts', 'pct_dropout_by_counts', 'total_counts', 'log1p_total_counts'\n",
       "    uns: '_scvi', '_training_mode', 'cell_ontology_class_colors', 'dendrogram_cell_type_tissue', 'dendrogram_computational_compartment_assignment', 'dendrogram_consensus_prediction', 'dendrogram_tissue_cell_type', 'donor_colors', 'donor_method_colors', 'hvg', 'log10k_leiden', 'log10k_louvain', 'log1p', 'method_colors', 'neighbors', 'organ_tissue_colors', 'pca', 'sex_colors', 'tissue_colors', 'tsne', 'umap'\n",
       "    obsm: 'X_pca', 'X_scvi', 'X_scvi_umap', 'X_umap', 'log10k_pca', 'log10k_tsne', 'log10k_umap'\n",
       "    layers: 'decontXcounts', 'log10k', 'normalized_X', 'raw_counts'\n",
       "    obsp: 'connectivities', 'distances'"
      ]
     },
     "execution_count": 2,
     "metadata": {},
     "output_type": "execute_result"
    }
   ],
   "source": [
    "input = \"/ps/ai-ready/data/Clustering/Tabula_Sapiens/TS_Skin_test.h5ad\"\n",
    "adata = load_anndata(input)\n",
    "adata"
   ]
  },
  {
   "cell_type": "code",
   "execution_count": 3,
   "id": "561ecf96-76e4-45cd-87b2-07f715d8af11",
   "metadata": {},
   "outputs": [],
   "source": [
    "monitor = Monitor(1)"
   ]
  },
  {
   "cell_type": "code",
   "execution_count": 4,
   "id": "93c29bbb-5db9-445d-8bf0-7f10bf8a08fb",
   "metadata": {},
   "outputs": [
    {
     "name": "stderr",
     "output_type": "stream",
     "text": [
      "No GPU/TPU found, falling back to CPU. (Set TF_CPP_MIN_LOG_LEVEL=0 and rerun for more info.)\n"
     ]
    }
   ],
   "source": [
    "# scVI uses non normalized data so we keep the original data in a separate AnnData object, then the normalization steps are performed\n",
    "scvi.model.SCVI.setup_anndata(\n",
    "    adata,\n",
    "    layer=\"raw_counts\"\n",
    ")"
   ]
  },
  {
   "cell_type": "code",
   "execution_count": 5,
   "id": "89daf27f-3109-4fef-be84-b29ff5d63821",
   "metadata": {},
   "outputs": [
    {
     "data": {
      "text/html": [
       "<pre style=\"white-space:pre;overflow-x:auto;line-height:normal;font-family:Menlo,'DejaVu Sans Mono',consolas,'Courier New',monospace\">SCVI Model with the following params: \n",
       "n_hidden: <span style=\"color: #008080; text-decoration-color: #008080; font-weight: bold\">128</span>, n_latent: <span style=\"color: #008080; text-decoration-color: #008080; font-weight: bold\">10</span>, n_layers: <span style=\"color: #008080; text-decoration-color: #008080; font-weight: bold\">1</span>, dropout_rate: <span style=\"color: #008080; text-decoration-color: #008080; font-weight: bold\">0.1</span>, dispersion: gene, gene_likelihood: zinb, \n",
       "latent_distribution: normal\n",
       "Training status: Not Trained\n",
       "Model's adata is minified?: <span style=\"color: #ff0000; text-decoration-color: #ff0000; font-style: italic\">False</span>\n",
       "</pre>\n"
      ],
      "text/plain": [
       "SCVI Model with the following params: \n",
       "n_hidden: \u001b[1;36m128\u001b[0m, n_latent: \u001b[1;36m10\u001b[0m, n_layers: \u001b[1;36m1\u001b[0m, dropout_rate: \u001b[1;36m0.1\u001b[0m, dispersion: gene, gene_likelihood: zinb, \n",
       "latent_distribution: normal\n",
       "Training status: Not Trained\n",
       "Model's adata is minified?: \u001b[3;91mFalse\u001b[0m\n"
      ]
     },
     "metadata": {},
     "output_type": "display_data"
    },
    {
     "data": {
      "text/plain": []
     },
     "execution_count": 5,
     "metadata": {},
     "output_type": "execute_result"
    }
   ],
   "source": [
    "model = scvi.model.SCVI(adata)\n",
    "model"
   ]
  },
  {
   "cell_type": "code",
   "execution_count": 6,
   "id": "887645cd-5432-48e1-b321-d785b0f93578",
   "metadata": {},
   "outputs": [
    {
     "name": "stderr",
     "output_type": "stream",
     "text": [
      "GPU available: False, used: False\n",
      "TPU available: False, using: 0 TPU cores\n",
      "IPU available: False, using: 0 IPUs\n",
      "HPU available: False, using: 0 HPUs\n",
      "/usr/local/lib/python3.8/dist-packages/pytorch_lightning/trainer/trainer.py:1609: PossibleUserWarning: The number of training batches (6) is smaller than the logging interval Trainer(log_every_n_steps=10). Set a lower value for log_every_n_steps if you want to see logs for the training epoch.\n",
      "  rank_zero_warn(\n"
     ]
    },
    {
     "name": "stdout",
     "output_type": "stream",
     "text": [
      "Epoch 400/400: 100%|█████████████████████████████████████████████████████████████████| 400/400 [01:03<00:00,  6.53it/s, loss=1.28e+03, v_num=1]"
     ]
    },
    {
     "name": "stderr",
     "output_type": "stream",
     "text": [
      "`Trainer.fit` stopped: `max_epochs=400` reached.\n"
     ]
    },
    {
     "name": "stdout",
     "output_type": "stream",
     "text": [
      "Epoch 400/400: 100%|█████████████████████████████████████████████████████████████████| 400/400 [01:03<00:00,  6.30it/s, loss=1.28e+03, v_num=1]\n"
     ]
    }
   ],
   "source": [
    "model.train()"
   ]
  },
  {
   "cell_type": "code",
   "execution_count": 7,
   "id": "8b8effc0-c103-4185-9b44-f5a931453800",
   "metadata": {},
   "outputs": [],
   "source": [
    "latent = model.get_latent_representation()\n",
    "adata.obsm[\"X_scVI\"] = latent"
   ]
  },
  {
   "cell_type": "code",
   "execution_count": 8,
   "id": "8ac1c51a-d548-481f-a998-53f3bef6ee09",
   "metadata": {},
   "outputs": [],
   "source": [
    "denoised = model.get_normalized_expression(adata, library_size=1e4)\n",
    "adata.layers[\"scvi_normalized\"] = model.get_normalized_expression(\n",
    "    library_size=10e4\n",
    ")"
   ]
  },
  {
   "cell_type": "code",
   "execution_count": 9,
   "id": "5a474a4c-a1ae-44c3-9b9c-b886e3d603d3",
   "metadata": {},
   "outputs": [
    {
     "data": {
      "text/plain": [
       "array([[0., 0., 0., ..., 0., 0., 0.],\n",
       "       [0., 0., 0., ..., 0., 0., 1.],\n",
       "       [0., 0., 1., ..., 0., 0., 0.],\n",
       "       ...,\n",
       "       [0., 0., 0., ..., 0., 0., 0.],\n",
       "       [0., 0., 0., ..., 0., 0., 0.],\n",
       "       [0., 0., 0., ..., 0., 1., 0.]], dtype=float32)"
      ]
     },
     "execution_count": 9,
     "metadata": {},
     "output_type": "execute_result"
    }
   ],
   "source": [
    "adata.layers[\"raw_counts\"].toarray()"
   ]
  },
  {
   "cell_type": "code",
   "execution_count": 10,
   "id": "60135103-9314-4488-8bdf-822ac9291df9",
   "metadata": {},
   "outputs": [
    {
     "data": {
      "text/plain": [
       "10"
      ]
     },
     "execution_count": 10,
     "metadata": {},
     "output_type": "execute_result"
    }
   ],
   "source": [
    "adata.obsm[\"X_scVI\"].shape[1]"
   ]
  },
  {
   "cell_type": "code",
   "execution_count": 11,
   "id": "ffcd60a2-ce2f-4a6b-9b35-61990b97149d",
   "metadata": {},
   "outputs": [],
   "source": [
    "adata = run_dimension_reduction(adata, use_rep='X_scVI', n_pcs=10, n_neighbors=15)"
   ]
  },
  {
   "cell_type": "code",
   "execution_count": 12,
   "id": "898faacf-5717-4f71-a55d-485b94fb10d5",
   "metadata": {},
   "outputs": [],
   "source": [
    "adata.obsm[\"X_mde\"] = mde(adata.obsm[\"X_scVI\"])"
   ]
  },
  {
   "cell_type": "code",
   "execution_count": 13,
   "id": "5f6854b1-c019-4e60-9a34-f96a7dc5f717",
   "metadata": {},
   "outputs": [],
   "source": [
    "time_points, cpu_usage, mem_usage, gpu_mem_usage = monitor.stop()"
   ]
  },
  {
   "cell_type": "code",
   "execution_count": 14,
   "id": "babd2c25-f212-41d6-b72c-0a53cd3a8f6a",
   "metadata": {},
   "outputs": [
    {
     "data": {
      "text/plain": [
       "[1701177583.4549053,\n",
       " 1701177584.4593751,\n",
       " 1701177585.4616423,\n",
       " 1701177586.4636798,\n",
       " 1701177587.46596,\n",
       " 1701177588.4720194,\n",
       " 1701177589.474258,\n",
       " 1701177590.4765682,\n",
       " 1701177591.4788644,\n",
       " 1701177592.4813144,\n",
       " 1701177593.4845297,\n",
       " 1701177594.487297,\n",
       " 1701177595.4899368,\n",
       " 1701177596.4929013,\n",
       " 1701177597.4973128,\n",
       " 1701177598.5002606,\n",
       " 1701177599.5025635,\n",
       " 1701177600.5058699,\n",
       " 1701177601.5079699,\n",
       " 1701177602.5110228,\n",
       " 1701177603.5132551,\n",
       " 1701177604.515334,\n",
       " 1701177605.517458,\n",
       " 1701177606.5205548,\n",
       " 1701177607.522703,\n",
       " 1701177608.5248132,\n",
       " 1701177609.527099,\n",
       " 1701177610.5291414,\n",
       " 1701177611.5323246,\n",
       " 1701177612.5347111,\n",
       " 1701177613.5375285,\n",
       " 1701177614.5396166,\n",
       " 1701177615.5417125,\n",
       " 1701177616.5448263,\n",
       " 1701177617.546865,\n",
       " 1701177618.5492244,\n",
       " 1701177619.5531325,\n",
       " 1701177620.5552733,\n",
       " 1701177621.5574887,\n",
       " 1701177622.5595796,\n",
       " 1701177623.5615797,\n",
       " 1701177624.563613,\n",
       " 1701177625.5657089,\n",
       " 1701177626.5687134,\n",
       " 1701177627.5708015,\n",
       " 1701177628.572834,\n",
       " 1701177629.5755126,\n",
       " 1701177630.577932,\n",
       " 1701177631.5800009,\n",
       " 1701177632.5819805,\n",
       " 1701177633.5841043,\n",
       " 1701177634.5862987,\n",
       " 1701177635.589474,\n",
       " 1701177636.5916953,\n",
       " 1701177637.5942736,\n",
       " 1701177638.5966299,\n",
       " 1701177639.5990064,\n",
       " 1701177640.6015713,\n",
       " 1701177641.6040492,\n",
       " 1701177642.6069465,\n",
       " 1701177643.6095219,\n",
       " 1701177644.6116443,\n",
       " 1701177645.6137495,\n",
       " 1701177646.616192,\n",
       " 1701177647.6185892,\n",
       " 1701177648.6209934,\n",
       " 1701177649.6236935,\n",
       " 1701177650.625974,\n",
       " 1701177651.6299343,\n",
       " 1701177652.955869,\n",
       " 1701177653.9598312,\n",
       " 1701177654.961622,\n",
       " 1701177655.963363,\n",
       " 1701177656.9678383,\n",
       " 1701177657.9757674,\n",
       " 1701177658.9954865,\n",
       " 1701177660.0045967,\n",
       " 1701177661.052849,\n",
       " 1701177662.0538952,\n",
       " 1701177663.0561543,\n",
       " 1701177664.0591507,\n",
       " 1701177665.0661495,\n",
       " 1701177666.1074839,\n",
       " 1701177667.1896732,\n",
       " 1701177668.1914957,\n",
       " 1701177669.1930468,\n",
       " 1701177670.193873]"
      ]
     },
     "execution_count": 14,
     "metadata": {},
     "output_type": "execute_result"
    }
   ],
   "source": [
    "time_points"
   ]
  },
  {
   "cell_type": "code",
   "execution_count": 15,
   "id": "a3f4ec45-1dc0-4029-82c1-f9993438413b",
   "metadata": {},
   "outputs": [
    {
     "data": {
      "text/plain": [
       "[0,\n",
       " 1,\n",
       " 2,\n",
       " 3,\n",
       " 4,\n",
       " 5,\n",
       " 6,\n",
       " 7,\n",
       " 8,\n",
       " 9,\n",
       " 10,\n",
       " 11,\n",
       " 12,\n",
       " 13,\n",
       " 14,\n",
       " 15,\n",
       " 16,\n",
       " 17,\n",
       " 18,\n",
       " 19,\n",
       " 20,\n",
       " 21,\n",
       " 22,\n",
       " 23,\n",
       " 24,\n",
       " 25,\n",
       " 26,\n",
       " 27,\n",
       " 28,\n",
       " 29,\n",
       " 30,\n",
       " 31,\n",
       " 32,\n",
       " 33,\n",
       " 34,\n",
       " 35,\n",
       " 36,\n",
       " 37,\n",
       " 38,\n",
       " 39,\n",
       " 40,\n",
       " 41,\n",
       " 42,\n",
       " 43,\n",
       " 44,\n",
       " 45,\n",
       " 46,\n",
       " 47,\n",
       " 48,\n",
       " 49,\n",
       " 50,\n",
       " 51,\n",
       " 52,\n",
       " 53,\n",
       " 54,\n",
       " 55,\n",
       " 56,\n",
       " 57,\n",
       " 58,\n",
       " 59,\n",
       " 60,\n",
       " 61,\n",
       " 62,\n",
       " 63,\n",
       " 64,\n",
       " 65,\n",
       " 66,\n",
       " 67,\n",
       " 68,\n",
       " 69,\n",
       " 70,\n",
       " 71,\n",
       " 72,\n",
       " 73,\n",
       " 74,\n",
       " 75,\n",
       " 76,\n",
       " 77,\n",
       " 78,\n",
       " 79,\n",
       " 80,\n",
       " 81,\n",
       " 82,\n",
       " 83,\n",
       " 84,\n",
       " 85,\n",
       " 86]"
      ]
     },
     "execution_count": 15,
     "metadata": {},
     "output_type": "execute_result"
    }
   ],
   "source": [
    "x = [n for n in range(len(time_points))]\n",
    "x"
   ]
  },
  {
   "cell_type": "code",
   "execution_count": 16,
   "id": "d23c6f52-4696-4e3f-900a-1e12aa484dae",
   "metadata": {},
   "outputs": [
    {
     "data": {
      "text/plain": [
       "[0.0,\n",
       " 30.5,\n",
       " 43.8,\n",
       " 44.1,\n",
       " 42.6,\n",
       " 43.1,\n",
       " 43.1,\n",
       " 42.0,\n",
       " 41.5,\n",
       " 41.2,\n",
       " 42.2,\n",
       " 41.9,\n",
       " 41.6,\n",
       " 41.0,\n",
       " 42.6,\n",
       " 42.1,\n",
       " 41.6,\n",
       " 42.3,\n",
       " 41.1,\n",
       " 42.0,\n",
       " 42.2,\n",
       " 43.0,\n",
       " 41.6,\n",
       " 41.8,\n",
       " 42.1,\n",
       " 42.4,\n",
       " 41.7,\n",
       " 41.2,\n",
       " 41.8,\n",
       " 40.9,\n",
       " 41.7,\n",
       " 41.2,\n",
       " 42.6,\n",
       " 42.4,\n",
       " 43.2,\n",
       " 42.5,\n",
       " 42.7,\n",
       " 42.1,\n",
       " 41.3,\n",
       " 41.9,\n",
       " 42.2,\n",
       " 42.3,\n",
       " 41.5,\n",
       " 40.2,\n",
       " 42.3,\n",
       " 41.4,\n",
       " 41.0,\n",
       " 41.4,\n",
       " 42.1,\n",
       " 42.6,\n",
       " 42.3,\n",
       " 42.2,\n",
       " 41.8,\n",
       " 41.4,\n",
       " 42.5,\n",
       " 41.5,\n",
       " 42.5,\n",
       " 42.5,\n",
       " 42.7,\n",
       " 41.1,\n",
       " 41.8,\n",
       " 42.0,\n",
       " 42.8,\n",
       " 40.9,\n",
       " 27.1,\n",
       " 57.0,\n",
       " 82.0,\n",
       " 95.2,\n",
       " 100.0,\n",
       " 41.8,\n",
       " 2.4,\n",
       " 1.8,\n",
       " 1.9,\n",
       " 1.8,\n",
       " 1.8,\n",
       " 1.9,\n",
       " 1.8,\n",
       " 1.8,\n",
       " 10.9,\n",
       " 58.5,\n",
       " 50.1,\n",
       " 21.6,\n",
       " 1.8,\n",
       " 27.6,\n",
       " 76.8,\n",
       " 87.0,\n",
       " 89.8]"
      ]
     },
     "execution_count": 16,
     "metadata": {},
     "output_type": "execute_result"
    }
   ],
   "source": [
    "cpu_usage"
   ]
  },
  {
   "cell_type": "code",
   "execution_count": 17,
   "id": "328cac70-8062-4fba-ab24-83ccc509b92f",
   "metadata": {},
   "outputs": [
    {
     "data": {
      "text/plain": [
       "[1.6,\n",
       " 1.6,\n",
       " 1.6,\n",
       " 1.6,\n",
       " 1.6,\n",
       " 1.6,\n",
       " 1.6,\n",
       " 1.6,\n",
       " 1.6,\n",
       " 1.6,\n",
       " 1.6,\n",
       " 1.6,\n",
       " 1.6,\n",
       " 1.6,\n",
       " 1.6,\n",
       " 1.6,\n",
       " 1.6,\n",
       " 1.6,\n",
       " 1.6,\n",
       " 1.6,\n",
       " 1.6,\n",
       " 1.6,\n",
       " 1.6,\n",
       " 1.6,\n",
       " 1.6,\n",
       " 1.6,\n",
       " 1.6,\n",
       " 1.6,\n",
       " 1.6,\n",
       " 1.6,\n",
       " 1.6,\n",
       " 1.6,\n",
       " 1.6,\n",
       " 1.6,\n",
       " 1.6,\n",
       " 1.6,\n",
       " 1.6,\n",
       " 1.6,\n",
       " 1.6,\n",
       " 1.6,\n",
       " 1.6,\n",
       " 1.6,\n",
       " 1.6,\n",
       " 1.6,\n",
       " 1.6,\n",
       " 1.6,\n",
       " 1.6,\n",
       " 1.6,\n",
       " 1.6,\n",
       " 1.6,\n",
       " 1.6,\n",
       " 1.6,\n",
       " 1.6,\n",
       " 1.6,\n",
       " 1.6,\n",
       " 1.6,\n",
       " 1.6,\n",
       " 1.6,\n",
       " 1.6,\n",
       " 1.6,\n",
       " 1.6,\n",
       " 1.6,\n",
       " 1.6,\n",
       " 1.6,\n",
       " 1.6,\n",
       " 1.6,\n",
       " 1.6,\n",
       " 1.6,\n",
       " 1.6,\n",
       " 1.6,\n",
       " 1.6,\n",
       " 1.6,\n",
       " 1.6,\n",
       " 1.6,\n",
       " 1.6,\n",
       " 1.6,\n",
       " 1.6,\n",
       " 1.6,\n",
       " 1.6,\n",
       " 1.6,\n",
       " 1.6,\n",
       " 1.6,\n",
       " 1.6,\n",
       " 1.6,\n",
       " 1.6,\n",
       " 1.6,\n",
       " 1.6]"
      ]
     },
     "execution_count": 17,
     "metadata": {},
     "output_type": "execute_result"
    }
   ],
   "source": [
    "mem_usage"
   ]
  },
  {
   "cell_type": "code",
   "execution_count": 18,
   "id": "d9d8ed41-2d53-4eac-a454-1e3014e78331",
   "metadata": {},
   "outputs": [],
   "source": [
    "# gpu_mem_usage"
   ]
  },
  {
   "cell_type": "code",
   "execution_count": 19,
   "id": "5bf111e2-f47f-4f6c-8ced-046d3817bf68",
   "metadata": {},
   "outputs": [
    {
     "data": {
      "text/plain": [
       "True"
      ]
     },
     "execution_count": 19,
     "metadata": {},
     "output_type": "execute_result"
    }
   ],
   "source": [
    "sum(gpu_mem_usage) == 0"
   ]
  },
  {
   "cell_type": "code",
   "execution_count": 20,
   "id": "c2e9a65e-53a7-472d-a453-9923b29e6679",
   "metadata": {},
   "outputs": [
    {
     "data": {
      "text/html": [
       "<div>\n",
       "<style scoped>\n",
       "    .dataframe tbody tr th:only-of-type {\n",
       "        vertical-align: middle;\n",
       "    }\n",
       "\n",
       "    .dataframe tbody tr th {\n",
       "        vertical-align: top;\n",
       "    }\n",
       "\n",
       "    .dataframe thead th {\n",
       "        text-align: right;\n",
       "    }\n",
       "</style>\n",
       "<table border=\"1\" class=\"dataframe\">\n",
       "  <thead>\n",
       "    <tr style=\"text-align: right;\">\n",
       "      <th></th>\n",
       "      <th>organ_tissue</th>\n",
       "      <th>method</th>\n",
       "      <th>donor</th>\n",
       "      <th>anatomical_information</th>\n",
       "      <th>n_counts_UMIs</th>\n",
       "      <th>n_genes</th>\n",
       "      <th>cell_ontology_class</th>\n",
       "      <th>free_annotation</th>\n",
       "      <th>manually_annotated</th>\n",
       "      <th>compartment</th>\n",
       "      <th>...</th>\n",
       "      <th>log1p_total_counts_hb</th>\n",
       "      <th>pct_counts_hb</th>\n",
       "      <th>outlier</th>\n",
       "      <th>mt_outlier</th>\n",
       "      <th>doublet_scores</th>\n",
       "      <th>predicted_doublets</th>\n",
       "      <th>_scvi_batch</th>\n",
       "      <th>_scvi_labels</th>\n",
       "      <th>leiden_X_scVI</th>\n",
       "      <th>louvain_X_scVI</th>\n",
       "    </tr>\n",
       "    <tr>\n",
       "      <th>cell_id</th>\n",
       "      <th></th>\n",
       "      <th></th>\n",
       "      <th></th>\n",
       "      <th></th>\n",
       "      <th></th>\n",
       "      <th></th>\n",
       "      <th></th>\n",
       "      <th></th>\n",
       "      <th></th>\n",
       "      <th></th>\n",
       "      <th></th>\n",
       "      <th></th>\n",
       "      <th></th>\n",
       "      <th></th>\n",
       "      <th></th>\n",
       "      <th></th>\n",
       "      <th></th>\n",
       "      <th></th>\n",
       "      <th></th>\n",
       "      <th></th>\n",
       "      <th></th>\n",
       "    </tr>\n",
       "  </thead>\n",
       "  <tbody>\n",
       "    <tr>\n",
       "      <th>AAACCCAAGTTATGGA_TSP10_Skin_NA_10X_1_1</th>\n",
       "      <td>Skin</td>\n",
       "      <td>10X</td>\n",
       "      <td>TSP10</td>\n",
       "      <td>nan</td>\n",
       "      <td>2695.0</td>\n",
       "      <td>890</td>\n",
       "      <td>cd8-positive, alpha-beta memory t cell</td>\n",
       "      <td>CD8-positive memory T cell</td>\n",
       "      <td>True</td>\n",
       "      <td>immune</td>\n",
       "      <td>...</td>\n",
       "      <td>0.693147</td>\n",
       "      <td>0.036900</td>\n",
       "      <td>False</td>\n",
       "      <td>False</td>\n",
       "      <td>0.050685</td>\n",
       "      <td>False</td>\n",
       "      <td>0</td>\n",
       "      <td>0</td>\n",
       "      <td>2</td>\n",
       "      <td>1</td>\n",
       "    </tr>\n",
       "    <tr>\n",
       "      <th>AACAAGACAGCAGGAT_TSP10_Skin_NA_10X_1_1</th>\n",
       "      <td>Skin</td>\n",
       "      <td>10X</td>\n",
       "      <td>TSP10</td>\n",
       "      <td>nan</td>\n",
       "      <td>3207.0</td>\n",
       "      <td>1033</td>\n",
       "      <td>cd4-positive, alpha-beta memory t cell</td>\n",
       "      <td>CD4-positive memory T cell</td>\n",
       "      <td>True</td>\n",
       "      <td>immune</td>\n",
       "      <td>...</td>\n",
       "      <td>0.693147</td>\n",
       "      <td>0.030998</td>\n",
       "      <td>False</td>\n",
       "      <td>False</td>\n",
       "      <td>0.070626</td>\n",
       "      <td>False</td>\n",
       "      <td>0</td>\n",
       "      <td>0</td>\n",
       "      <td>2</td>\n",
       "      <td>1</td>\n",
       "    </tr>\n",
       "    <tr>\n",
       "      <th>AAGATAGAGCCATATC_TSP10_Skin_NA_10X_1_1</th>\n",
       "      <td>Skin</td>\n",
       "      <td>10X</td>\n",
       "      <td>TSP10</td>\n",
       "      <td>nan</td>\n",
       "      <td>3564.0</td>\n",
       "      <td>1148</td>\n",
       "      <td>naive thymus-derived cd8-positive, alpha-beta ...</td>\n",
       "      <td>Naive CD8-positive T cell</td>\n",
       "      <td>True</td>\n",
       "      <td>immune</td>\n",
       "      <td>...</td>\n",
       "      <td>0.000000</td>\n",
       "      <td>0.000000</td>\n",
       "      <td>False</td>\n",
       "      <td>False</td>\n",
       "      <td>0.060601</td>\n",
       "      <td>False</td>\n",
       "      <td>0</td>\n",
       "      <td>0</td>\n",
       "      <td>4</td>\n",
       "      <td>2</td>\n",
       "    </tr>\n",
       "    <tr>\n",
       "      <th>AAGGTAACAATCCTAG_TSP10_Skin_NA_10X_1_1</th>\n",
       "      <td>Skin</td>\n",
       "      <td>10X</td>\n",
       "      <td>TSP10</td>\n",
       "      <td>nan</td>\n",
       "      <td>4133.0</td>\n",
       "      <td>1187</td>\n",
       "      <td>t cell</td>\n",
       "      <td>alpha-beta T cell</td>\n",
       "      <td>True</td>\n",
       "      <td>immune</td>\n",
       "      <td>...</td>\n",
       "      <td>0.693147</td>\n",
       "      <td>0.024027</td>\n",
       "      <td>False</td>\n",
       "      <td>False</td>\n",
       "      <td>0.024758</td>\n",
       "      <td>False</td>\n",
       "      <td>0</td>\n",
       "      <td>0</td>\n",
       "      <td>2</td>\n",
       "      <td>1</td>\n",
       "    </tr>\n",
       "    <tr>\n",
       "      <th>AAGTCGTAGCAGTAAT_TSP10_Skin_NA_10X_1_1</th>\n",
       "      <td>Skin</td>\n",
       "      <td>10X</td>\n",
       "      <td>TSP10</td>\n",
       "      <td>nan</td>\n",
       "      <td>3731.0</td>\n",
       "      <td>1737</td>\n",
       "      <td>stromal cell</td>\n",
       "      <td>stromal cells</td>\n",
       "      <td>True</td>\n",
       "      <td>stromal</td>\n",
       "      <td>...</td>\n",
       "      <td>0.000000</td>\n",
       "      <td>0.000000</td>\n",
       "      <td>False</td>\n",
       "      <td>False</td>\n",
       "      <td>0.357937</td>\n",
       "      <td>True</td>\n",
       "      <td>0</td>\n",
       "      <td>0</td>\n",
       "      <td>7</td>\n",
       "      <td>7</td>\n",
       "    </tr>\n",
       "    <tr>\n",
       "      <th>...</th>\n",
       "      <td>...</td>\n",
       "      <td>...</td>\n",
       "      <td>...</td>\n",
       "      <td>...</td>\n",
       "      <td>...</td>\n",
       "      <td>...</td>\n",
       "      <td>...</td>\n",
       "      <td>...</td>\n",
       "      <td>...</td>\n",
       "      <td>...</td>\n",
       "      <td>...</td>\n",
       "      <td>...</td>\n",
       "      <td>...</td>\n",
       "      <td>...</td>\n",
       "      <td>...</td>\n",
       "      <td>...</td>\n",
       "      <td>...</td>\n",
       "      <td>...</td>\n",
       "      <td>...</td>\n",
       "      <td>...</td>\n",
       "      <td>...</td>\n",
       "    </tr>\n",
       "    <tr>\n",
       "      <th>TTGATGGAGTGGCGAT_TSP14_Skin_Chest_10X_1_1</th>\n",
       "      <td>Skin</td>\n",
       "      <td>10X</td>\n",
       "      <td>TSP14</td>\n",
       "      <td>Chest</td>\n",
       "      <td>4114.0</td>\n",
       "      <td>1490</td>\n",
       "      <td>t cell</td>\n",
       "      <td>alpha-beta T cell</td>\n",
       "      <td>True</td>\n",
       "      <td>immune</td>\n",
       "      <td>...</td>\n",
       "      <td>0.000000</td>\n",
       "      <td>0.000000</td>\n",
       "      <td>False</td>\n",
       "      <td>False</td>\n",
       "      <td>0.058805</td>\n",
       "      <td>False</td>\n",
       "      <td>0</td>\n",
       "      <td>0</td>\n",
       "      <td>9</td>\n",
       "      <td>8</td>\n",
       "    </tr>\n",
       "    <tr>\n",
       "      <th>TTGCCTGGTTACCCTC_TSP14_Skin_Chest_10X_1_1</th>\n",
       "      <td>Skin</td>\n",
       "      <td>10X</td>\n",
       "      <td>TSP14</td>\n",
       "      <td>Chest</td>\n",
       "      <td>16208.0</td>\n",
       "      <td>3578</td>\n",
       "      <td>stromal cell</td>\n",
       "      <td>stromal cells</td>\n",
       "      <td>True</td>\n",
       "      <td>stromal</td>\n",
       "      <td>...</td>\n",
       "      <td>0.000000</td>\n",
       "      <td>0.000000</td>\n",
       "      <td>False</td>\n",
       "      <td>False</td>\n",
       "      <td>0.027185</td>\n",
       "      <td>False</td>\n",
       "      <td>0</td>\n",
       "      <td>0</td>\n",
       "      <td>3</td>\n",
       "      <td>0</td>\n",
       "    </tr>\n",
       "    <tr>\n",
       "      <th>TTGTGGACACAGTGTT_TSP14_Skin_Chest_10X_1_1</th>\n",
       "      <td>Skin</td>\n",
       "      <td>10X</td>\n",
       "      <td>TSP14</td>\n",
       "      <td>Chest</td>\n",
       "      <td>25516.0</td>\n",
       "      <td>4128</td>\n",
       "      <td>endothelial cell</td>\n",
       "      <td>endothelial cells</td>\n",
       "      <td>True</td>\n",
       "      <td>endothelial</td>\n",
       "      <td>...</td>\n",
       "      <td>1.791759</td>\n",
       "      <td>0.019158</td>\n",
       "      <td>False</td>\n",
       "      <td>False</td>\n",
       "      <td>0.043766</td>\n",
       "      <td>False</td>\n",
       "      <td>0</td>\n",
       "      <td>0</td>\n",
       "      <td>1</td>\n",
       "      <td>3</td>\n",
       "    </tr>\n",
       "    <tr>\n",
       "      <th>TTGTTGTAGTATAGAC_TSP14_Skin_Chest_10X_1_1</th>\n",
       "      <td>Skin</td>\n",
       "      <td>10X</td>\n",
       "      <td>TSP14</td>\n",
       "      <td>Chest</td>\n",
       "      <td>10031.0</td>\n",
       "      <td>2639</td>\n",
       "      <td>stromal cell</td>\n",
       "      <td>stromal cells</td>\n",
       "      <td>True</td>\n",
       "      <td>stromal</td>\n",
       "      <td>...</td>\n",
       "      <td>0.693147</td>\n",
       "      <td>0.009888</td>\n",
       "      <td>False</td>\n",
       "      <td>False</td>\n",
       "      <td>0.040084</td>\n",
       "      <td>False</td>\n",
       "      <td>0</td>\n",
       "      <td>0</td>\n",
       "      <td>3</td>\n",
       "      <td>0</td>\n",
       "    </tr>\n",
       "    <tr>\n",
       "      <th>TTTCAGTCAAGATGTA_TSP14_Skin_Chest_10X_1_1</th>\n",
       "      <td>Skin</td>\n",
       "      <td>10X</td>\n",
       "      <td>TSP14</td>\n",
       "      <td>Chest</td>\n",
       "      <td>6092.0</td>\n",
       "      <td>1781</td>\n",
       "      <td>t cell</td>\n",
       "      <td>alpha-beta T cell</td>\n",
       "      <td>True</td>\n",
       "      <td>immune</td>\n",
       "      <td>...</td>\n",
       "      <td>0.693147</td>\n",
       "      <td>0.016377</td>\n",
       "      <td>False</td>\n",
       "      <td>False</td>\n",
       "      <td>0.062462</td>\n",
       "      <td>False</td>\n",
       "      <td>0</td>\n",
       "      <td>0</td>\n",
       "      <td>6</td>\n",
       "      <td>1</td>\n",
       "    </tr>\n",
       "  </tbody>\n",
       "</table>\n",
       "<p>725 rows × 33 columns</p>\n",
       "</div>"
      ],
      "text/plain": [
       "                                          organ_tissue method  donor  \\\n",
       "cell_id                                                                \n",
       "AAACCCAAGTTATGGA_TSP10_Skin_NA_10X_1_1            Skin    10X  TSP10   \n",
       "AACAAGACAGCAGGAT_TSP10_Skin_NA_10X_1_1            Skin    10X  TSP10   \n",
       "AAGATAGAGCCATATC_TSP10_Skin_NA_10X_1_1            Skin    10X  TSP10   \n",
       "AAGGTAACAATCCTAG_TSP10_Skin_NA_10X_1_1            Skin    10X  TSP10   \n",
       "AAGTCGTAGCAGTAAT_TSP10_Skin_NA_10X_1_1            Skin    10X  TSP10   \n",
       "...                                                ...    ...    ...   \n",
       "TTGATGGAGTGGCGAT_TSP14_Skin_Chest_10X_1_1         Skin    10X  TSP14   \n",
       "TTGCCTGGTTACCCTC_TSP14_Skin_Chest_10X_1_1         Skin    10X  TSP14   \n",
       "TTGTGGACACAGTGTT_TSP14_Skin_Chest_10X_1_1         Skin    10X  TSP14   \n",
       "TTGTTGTAGTATAGAC_TSP14_Skin_Chest_10X_1_1         Skin    10X  TSP14   \n",
       "TTTCAGTCAAGATGTA_TSP14_Skin_Chest_10X_1_1         Skin    10X  TSP14   \n",
       "\n",
       "                                          anatomical_information  \\\n",
       "cell_id                                                            \n",
       "AAACCCAAGTTATGGA_TSP10_Skin_NA_10X_1_1                       nan   \n",
       "AACAAGACAGCAGGAT_TSP10_Skin_NA_10X_1_1                       nan   \n",
       "AAGATAGAGCCATATC_TSP10_Skin_NA_10X_1_1                       nan   \n",
       "AAGGTAACAATCCTAG_TSP10_Skin_NA_10X_1_1                       nan   \n",
       "AAGTCGTAGCAGTAAT_TSP10_Skin_NA_10X_1_1                       nan   \n",
       "...                                                          ...   \n",
       "TTGATGGAGTGGCGAT_TSP14_Skin_Chest_10X_1_1                  Chest   \n",
       "TTGCCTGGTTACCCTC_TSP14_Skin_Chest_10X_1_1                  Chest   \n",
       "TTGTGGACACAGTGTT_TSP14_Skin_Chest_10X_1_1                  Chest   \n",
       "TTGTTGTAGTATAGAC_TSP14_Skin_Chest_10X_1_1                  Chest   \n",
       "TTTCAGTCAAGATGTA_TSP14_Skin_Chest_10X_1_1                  Chest   \n",
       "\n",
       "                                           n_counts_UMIs  n_genes  \\\n",
       "cell_id                                                             \n",
       "AAACCCAAGTTATGGA_TSP10_Skin_NA_10X_1_1            2695.0      890   \n",
       "AACAAGACAGCAGGAT_TSP10_Skin_NA_10X_1_1            3207.0     1033   \n",
       "AAGATAGAGCCATATC_TSP10_Skin_NA_10X_1_1            3564.0     1148   \n",
       "AAGGTAACAATCCTAG_TSP10_Skin_NA_10X_1_1            4133.0     1187   \n",
       "AAGTCGTAGCAGTAAT_TSP10_Skin_NA_10X_1_1            3731.0     1737   \n",
       "...                                                  ...      ...   \n",
       "TTGATGGAGTGGCGAT_TSP14_Skin_Chest_10X_1_1         4114.0     1490   \n",
       "TTGCCTGGTTACCCTC_TSP14_Skin_Chest_10X_1_1        16208.0     3578   \n",
       "TTGTGGACACAGTGTT_TSP14_Skin_Chest_10X_1_1        25516.0     4128   \n",
       "TTGTTGTAGTATAGAC_TSP14_Skin_Chest_10X_1_1        10031.0     2639   \n",
       "TTTCAGTCAAGATGTA_TSP14_Skin_Chest_10X_1_1         6092.0     1781   \n",
       "\n",
       "                                                                         cell_ontology_class  \\\n",
       "cell_id                                                                                        \n",
       "AAACCCAAGTTATGGA_TSP10_Skin_NA_10X_1_1                cd8-positive, alpha-beta memory t cell   \n",
       "AACAAGACAGCAGGAT_TSP10_Skin_NA_10X_1_1                cd4-positive, alpha-beta memory t cell   \n",
       "AAGATAGAGCCATATC_TSP10_Skin_NA_10X_1_1     naive thymus-derived cd8-positive, alpha-beta ...   \n",
       "AAGGTAACAATCCTAG_TSP10_Skin_NA_10X_1_1                                                t cell   \n",
       "AAGTCGTAGCAGTAAT_TSP10_Skin_NA_10X_1_1                                          stromal cell   \n",
       "...                                                                                      ...   \n",
       "TTGATGGAGTGGCGAT_TSP14_Skin_Chest_10X_1_1                                             t cell   \n",
       "TTGCCTGGTTACCCTC_TSP14_Skin_Chest_10X_1_1                                       stromal cell   \n",
       "TTGTGGACACAGTGTT_TSP14_Skin_Chest_10X_1_1                                   endothelial cell   \n",
       "TTGTTGTAGTATAGAC_TSP14_Skin_Chest_10X_1_1                                       stromal cell   \n",
       "TTTCAGTCAAGATGTA_TSP14_Skin_Chest_10X_1_1                                             t cell   \n",
       "\n",
       "                                                      free_annotation  \\\n",
       "cell_id                                                                 \n",
       "AAACCCAAGTTATGGA_TSP10_Skin_NA_10X_1_1     CD8-positive memory T cell   \n",
       "AACAAGACAGCAGGAT_TSP10_Skin_NA_10X_1_1     CD4-positive memory T cell   \n",
       "AAGATAGAGCCATATC_TSP10_Skin_NA_10X_1_1      Naive CD8-positive T cell   \n",
       "AAGGTAACAATCCTAG_TSP10_Skin_NA_10X_1_1              alpha-beta T cell   \n",
       "AAGTCGTAGCAGTAAT_TSP10_Skin_NA_10X_1_1                  stromal cells   \n",
       "...                                                               ...   \n",
       "TTGATGGAGTGGCGAT_TSP14_Skin_Chest_10X_1_1           alpha-beta T cell   \n",
       "TTGCCTGGTTACCCTC_TSP14_Skin_Chest_10X_1_1               stromal cells   \n",
       "TTGTGGACACAGTGTT_TSP14_Skin_Chest_10X_1_1           endothelial cells   \n",
       "TTGTTGTAGTATAGAC_TSP14_Skin_Chest_10X_1_1               stromal cells   \n",
       "TTTCAGTCAAGATGTA_TSP14_Skin_Chest_10X_1_1           alpha-beta T cell   \n",
       "\n",
       "                                           manually_annotated  compartment  \\\n",
       "cell_id                                                                      \n",
       "AAACCCAAGTTATGGA_TSP10_Skin_NA_10X_1_1                   True       immune   \n",
       "AACAAGACAGCAGGAT_TSP10_Skin_NA_10X_1_1                   True       immune   \n",
       "AAGATAGAGCCATATC_TSP10_Skin_NA_10X_1_1                   True       immune   \n",
       "AAGGTAACAATCCTAG_TSP10_Skin_NA_10X_1_1                   True       immune   \n",
       "AAGTCGTAGCAGTAAT_TSP10_Skin_NA_10X_1_1                   True      stromal   \n",
       "...                                                       ...          ...   \n",
       "TTGATGGAGTGGCGAT_TSP14_Skin_Chest_10X_1_1                True       immune   \n",
       "TTGCCTGGTTACCCTC_TSP14_Skin_Chest_10X_1_1                True      stromal   \n",
       "TTGTGGACACAGTGTT_TSP14_Skin_Chest_10X_1_1                True  endothelial   \n",
       "TTGTTGTAGTATAGAC_TSP14_Skin_Chest_10X_1_1                True      stromal   \n",
       "TTTCAGTCAAGATGTA_TSP14_Skin_Chest_10X_1_1                True       immune   \n",
       "\n",
       "                                           ... log1p_total_counts_hb  \\\n",
       "cell_id                                    ...                         \n",
       "AAACCCAAGTTATGGA_TSP10_Skin_NA_10X_1_1     ...              0.693147   \n",
       "AACAAGACAGCAGGAT_TSP10_Skin_NA_10X_1_1     ...              0.693147   \n",
       "AAGATAGAGCCATATC_TSP10_Skin_NA_10X_1_1     ...              0.000000   \n",
       "AAGGTAACAATCCTAG_TSP10_Skin_NA_10X_1_1     ...              0.693147   \n",
       "AAGTCGTAGCAGTAAT_TSP10_Skin_NA_10X_1_1     ...              0.000000   \n",
       "...                                        ...                   ...   \n",
       "TTGATGGAGTGGCGAT_TSP14_Skin_Chest_10X_1_1  ...              0.000000   \n",
       "TTGCCTGGTTACCCTC_TSP14_Skin_Chest_10X_1_1  ...              0.000000   \n",
       "TTGTGGACACAGTGTT_TSP14_Skin_Chest_10X_1_1  ...              1.791759   \n",
       "TTGTTGTAGTATAGAC_TSP14_Skin_Chest_10X_1_1  ...              0.693147   \n",
       "TTTCAGTCAAGATGTA_TSP14_Skin_Chest_10X_1_1  ...              0.693147   \n",
       "\n",
       "                                           pct_counts_hb  outlier  mt_outlier  \\\n",
       "cell_id                                                                         \n",
       "AAACCCAAGTTATGGA_TSP10_Skin_NA_10X_1_1          0.036900    False       False   \n",
       "AACAAGACAGCAGGAT_TSP10_Skin_NA_10X_1_1          0.030998    False       False   \n",
       "AAGATAGAGCCATATC_TSP10_Skin_NA_10X_1_1          0.000000    False       False   \n",
       "AAGGTAACAATCCTAG_TSP10_Skin_NA_10X_1_1          0.024027    False       False   \n",
       "AAGTCGTAGCAGTAAT_TSP10_Skin_NA_10X_1_1          0.000000    False       False   \n",
       "...                                                  ...      ...         ...   \n",
       "TTGATGGAGTGGCGAT_TSP14_Skin_Chest_10X_1_1       0.000000    False       False   \n",
       "TTGCCTGGTTACCCTC_TSP14_Skin_Chest_10X_1_1       0.000000    False       False   \n",
       "TTGTGGACACAGTGTT_TSP14_Skin_Chest_10X_1_1       0.019158    False       False   \n",
       "TTGTTGTAGTATAGAC_TSP14_Skin_Chest_10X_1_1       0.009888    False       False   \n",
       "TTTCAGTCAAGATGTA_TSP14_Skin_Chest_10X_1_1       0.016377    False       False   \n",
       "\n",
       "                                           doublet_scores  predicted_doublets  \\\n",
       "cell_id                                                                         \n",
       "AAACCCAAGTTATGGA_TSP10_Skin_NA_10X_1_1           0.050685               False   \n",
       "AACAAGACAGCAGGAT_TSP10_Skin_NA_10X_1_1           0.070626               False   \n",
       "AAGATAGAGCCATATC_TSP10_Skin_NA_10X_1_1           0.060601               False   \n",
       "AAGGTAACAATCCTAG_TSP10_Skin_NA_10X_1_1           0.024758               False   \n",
       "AAGTCGTAGCAGTAAT_TSP10_Skin_NA_10X_1_1           0.357937                True   \n",
       "...                                                   ...                 ...   \n",
       "TTGATGGAGTGGCGAT_TSP14_Skin_Chest_10X_1_1        0.058805               False   \n",
       "TTGCCTGGTTACCCTC_TSP14_Skin_Chest_10X_1_1        0.027185               False   \n",
       "TTGTGGACACAGTGTT_TSP14_Skin_Chest_10X_1_1        0.043766               False   \n",
       "TTGTTGTAGTATAGAC_TSP14_Skin_Chest_10X_1_1        0.040084               False   \n",
       "TTTCAGTCAAGATGTA_TSP14_Skin_Chest_10X_1_1        0.062462               False   \n",
       "\n",
       "                                           _scvi_batch  _scvi_labels  \\\n",
       "cell_id                                                                \n",
       "AAACCCAAGTTATGGA_TSP10_Skin_NA_10X_1_1               0             0   \n",
       "AACAAGACAGCAGGAT_TSP10_Skin_NA_10X_1_1               0             0   \n",
       "AAGATAGAGCCATATC_TSP10_Skin_NA_10X_1_1               0             0   \n",
       "AAGGTAACAATCCTAG_TSP10_Skin_NA_10X_1_1               0             0   \n",
       "AAGTCGTAGCAGTAAT_TSP10_Skin_NA_10X_1_1               0             0   \n",
       "...                                                ...           ...   \n",
       "TTGATGGAGTGGCGAT_TSP14_Skin_Chest_10X_1_1            0             0   \n",
       "TTGCCTGGTTACCCTC_TSP14_Skin_Chest_10X_1_1            0             0   \n",
       "TTGTGGACACAGTGTT_TSP14_Skin_Chest_10X_1_1            0             0   \n",
       "TTGTTGTAGTATAGAC_TSP14_Skin_Chest_10X_1_1            0             0   \n",
       "TTTCAGTCAAGATGTA_TSP14_Skin_Chest_10X_1_1            0             0   \n",
       "\n",
       "                                           leiden_X_scVI  louvain_X_scVI  \n",
       "cell_id                                                                   \n",
       "AAACCCAAGTTATGGA_TSP10_Skin_NA_10X_1_1                 2               1  \n",
       "AACAAGACAGCAGGAT_TSP10_Skin_NA_10X_1_1                 2               1  \n",
       "AAGATAGAGCCATATC_TSP10_Skin_NA_10X_1_1                 4               2  \n",
       "AAGGTAACAATCCTAG_TSP10_Skin_NA_10X_1_1                 2               1  \n",
       "AAGTCGTAGCAGTAAT_TSP10_Skin_NA_10X_1_1                 7               7  \n",
       "...                                                  ...             ...  \n",
       "TTGATGGAGTGGCGAT_TSP14_Skin_Chest_10X_1_1              9               8  \n",
       "TTGCCTGGTTACCCTC_TSP14_Skin_Chest_10X_1_1              3               0  \n",
       "TTGTGGACACAGTGTT_TSP14_Skin_Chest_10X_1_1              1               3  \n",
       "TTGTTGTAGTATAGAC_TSP14_Skin_Chest_10X_1_1              3               0  \n",
       "TTTCAGTCAAGATGTA_TSP14_Skin_Chest_10X_1_1              6               1  \n",
       "\n",
       "[725 rows x 33 columns]"
      ]
     },
     "execution_count": 20,
     "metadata": {},
     "output_type": "execute_result"
    }
   ],
   "source": [
    "adata.obs"
   ]
  },
  {
   "cell_type": "code",
   "execution_count": 21,
   "id": "994aa4d8-fd68-4c90-a79a-e801055235e5",
   "metadata": {},
   "outputs": [
    {
     "data": {
      "text/plain": [
       "0.43429292819059256"
      ]
     },
     "execution_count": 21,
     "metadata": {},
     "output_type": "execute_result"
    }
   ],
   "source": [
    "from sklearn.metrics.cluster import adjusted_rand_score\n",
    "ari=adjusted_rand_score(adata.obs[\"cell_ontology_class\"], adata.obs[\"leiden_X_scVI\"])\n",
    "ari"
   ]
  },
  {
   "cell_type": "code",
   "execution_count": 22,
   "id": "939bec79-a8ff-42fa-bbd4-70eeb1444646",
   "metadata": {},
   "outputs": [
    {
     "data": {
      "text/plain": [
       "22"
      ]
     },
     "execution_count": 22,
     "metadata": {},
     "output_type": "execute_result"
    }
   ],
   "source": [
    "adata.obs[\"cell_ontology_class\"].nunique()"
   ]
  },
  {
   "cell_type": "code",
   "execution_count": 23,
   "id": "5da9d79b-55be-49cb-a9da-2cdaa558a387",
   "metadata": {},
   "outputs": [],
   "source": [
    "# from sklearn.cluster import KMeans\n",
    "from sklearn.metrics import adjusted_rand_score as ARI\n",
    "from sklearn.metrics import normalized_mutual_info_score as NMI\n",
    "from sklearn.metrics import silhouette_score\n",
    "# from sklearn.mixture import GaussianMixture as GMM\n",
    "\n",
    "def clustering_scores(labels, labels_pred, embedding):\n",
    "    asw_score = silhouette_score(embedding, labels)\n",
    "    nmi_score = NMI(labels, labels_pred)\n",
    "    ari_score = ARI(labels, labels_pred)\n",
    "    print(\n",
    "        \"Clustering Scores:\\nSilhouette: %.4f\\nNMI: %.4f\\nARI: %.4f\"\n",
    "        % (asw_score, nmi_score, ari_score)\n",
    "    )\n",
    "    return asw_score, nmi_score, ari_score"
   ]
  },
  {
   "cell_type": "code",
   "execution_count": 24,
   "id": "390ef299-25e0-46af-95f1-fba3da376145",
   "metadata": {},
   "outputs": [
    {
     "name": "stdout",
     "output_type": "stream",
     "text": [
      "Clustering Scores:\n",
      "Silhouette: 0.2348\n",
      "NMI: 0.6572\n",
      "ARI: 0.4343\n"
     ]
    }
   ],
   "source": [
    "asw_score, nmi_score, ari_score = clustering_scores(adata.obs[\"cell_ontology_class\"], adata.obs[\"leiden_X_scVI\"], adata.obsm[\"X_mde\"])"
   ]
  },
  {
   "cell_type": "code",
   "execution_count": 25,
   "id": "983e724d-9dcf-4a60-aff7-2e62160c12bb",
   "metadata": {},
   "outputs": [
    {
     "data": {
      "text/plain": [
       "datetime.datetime(2023, 11, 27, 16, 34, 15, 585065)"
      ]
     },
     "execution_count": 25,
     "metadata": {},
     "output_type": "execute_result"
    }
   ],
   "source": [
    "from datetime import datetime\n",
    "\n",
    "datetime.fromtimestamp(1701102855.5850654)"
   ]
  },
  {
   "cell_type": "code",
   "execution_count": 26,
   "id": "2e5e6555-fbe0-45d3-a27c-5a2298c1552b",
   "metadata": {},
   "outputs": [],
   "source": [
    "y = dict(CPU=cpu_usage, Memory=mem_usage, GPU=gpu_mem_usage)"
   ]
  },
  {
   "cell_type": "code",
   "execution_count": 27,
   "id": "001cb837-890c-4c5a-b2db-fd86228a13b5",
   "metadata": {},
   "outputs": [
    {
     "data": {
      "text/plain": [
       "dict"
      ]
     },
     "execution_count": 27,
     "metadata": {},
     "output_type": "execute_result"
    }
   ],
   "source": [
    "type(y)"
   ]
  },
  {
   "cell_type": "code",
   "execution_count": 28,
   "id": "7c5775bd-6f4d-4e3c-b3f2-5bdc6c7bdd9d",
   "metadata": {},
   "outputs": [
    {
     "data": {
      "text/plain": [
       "'{\"data\": [{\"type\": \"scatter\", \"x\": [0, 1, 2, 3, 4, 5, 6, 7, 8, 9, 10, 11, 12, 13, 14, 15, 16, 17, 18, 19, 20, 21, 22, 23, 24, 25, 26, 27, 28, 29, 30, 31, 32, 33, 34, 35, 36, 37, 38, 39, 40, 41, 42, 43, 44, 45, 46, 47, 48, 49, 50, 51, 52, 53, 54, 55, 56, 57, 58, 59, 60, 61, 62, 63, 64, 65, 66, 67, 68, 69, 70, 71, 72, 73, 74, 75, 76, 77, 78, 79, 80, 81, 82, 83, 84, 85, 86], \"y\": [0.0, 30.5, 43.8, 44.1, 42.6, 43.1, 43.1, 42.0, 41.5, 41.2, 42.2, 41.9, 41.6, 41.0, 42.6, 42.1, 41.6, 42.3, 41.1, 42.0, 42.2, 43.0, 41.6, 41.8, 42.1, 42.4, 41.7, 41.2, 41.8, 40.9, 41.7, 41.2, 42.6, 42.4, 43.2, 42.5, 42.7, 42.1, 41.3, 41.9, 42.2, 42.3, 41.5, 40.2, 42.3, 41.4, 41.0, 41.4, 42.1, 42.6, 42.3, 42.2, 41.8, 41.4, 42.5, 41.5, 42.5, 42.5, 42.7, 41.1, 41.8, 42.0, 42.8, 40.9, 27.1, 57.0, 82.0, 95.2, 100.0, 41.8, 2.4, 1.8, 1.9, 1.8, 1.8, 1.9, 1.8, 1.8, 10.9, 58.5, 50.1, 21.6, 1.8, 27.6, 76.8, 87.0, 89.8], \"name\": \"CPU\", \"mode\": \"lines+markers\", \"line\": {\"dash\": \"solid\"}, \"marker\": {\"size\": 7}, \"connectgaps\": true}, {\"type\": \"scatter\", \"x\": [0, 1, 2, 3, 4, 5, 6, 7, 8, 9, 10, 11, 12, 13, 14, 15, 16, 17, 18, 19, 20, 21, 22, 23, 24, 25, 26, 27, 28, 29, 30, 31, 32, 33, 34, 35, 36, 37, 38, 39, 40, 41, 42, 43, 44, 45, 46, 47, 48, 49, 50, 51, 52, 53, 54, 55, 56, 57, 58, 59, 60, 61, 62, 63, 64, 65, 66, 67, 68, 69, 70, 71, 72, 73, 74, 75, 76, 77, 78, 79, 80, 81, 82, 83, 84, 85, 86], \"y\": [1.6, 1.6, 1.6, 1.6, 1.6, 1.6, 1.6, 1.6, 1.6, 1.6, 1.6, 1.6, 1.6, 1.6, 1.6, 1.6, 1.6, 1.6, 1.6, 1.6, 1.6, 1.6, 1.6, 1.6, 1.6, 1.6, 1.6, 1.6, 1.6, 1.6, 1.6, 1.6, 1.6, 1.6, 1.6, 1.6, 1.6, 1.6, 1.6, 1.6, 1.6, 1.6, 1.6, 1.6, 1.6, 1.6, 1.6, 1.6, 1.6, 1.6, 1.6, 1.6, 1.6, 1.6, 1.6, 1.6, 1.6, 1.6, 1.6, 1.6, 1.6, 1.6, 1.6, 1.6, 1.6, 1.6, 1.6, 1.6, 1.6, 1.6, 1.6, 1.6, 1.6, 1.6, 1.6, 1.6, 1.6, 1.6, 1.6, 1.6, 1.6, 1.6, 1.6, 1.6, 1.6, 1.6, 1.6], \"name\": \"Memory\", \"mode\": \"lines+markers\", \"line\": {\"dash\": \"dot\"}, \"marker\": {\"size\": 7}, \"connectgaps\": true}], \"layout\": {\"title\": \"Computing assessments\", \"xaxis\": {\"title\": \"Time points\"}, \"yaxis\": {\"title\": \"Utilization %\"}, \"margin\": {\"r\": 50, \"l\": 50, \"t\": 50, \"b\": 50}, \"hovermode\": \"closest\", \"transition\": {\"duration\": 100}, \"autosize\": true, \"width\": 1000, \"height\": 750}}'"
      ]
     },
     "execution_count": 28,
     "metadata": {},
     "output_type": "execute_result"
    }
   ],
   "source": [
    "from tools.visualization.plot import *\n",
    "\n",
    "line = plot_line(time_points, y)\n",
    "\n",
    "with open('line.txt','w') as f:\n",
    "   f.write(str(line))\n",
    "\n",
    "line"
   ]
  },
  {
   "cell_type": "code",
   "execution_count": 29,
   "id": "a8a7733c-0e3f-40f5-9469-0eaf0e908b5e",
   "metadata": {},
   "outputs": [],
   "source": [
    "x= ['ARI', 'Silhouette', 'NMI']\n",
    "y1 = dict(scVI=[ari_score, asw_score, nmi_score])"
   ]
  },
  {
   "cell_type": "code",
   "execution_count": 30,
   "id": "8cfa7564-a5fe-41df-85c2-fe0ef4c71c2f",
   "metadata": {},
   "outputs": [
    {
     "data": {
      "text/plain": [
       "'{\"data\": [{\"type\": \"bar\", \"x\": [\"ARI\", \"Silhouette\", \"NMI\"], \"y\": [0.4343, 0.2348, 0.6572], \"text\": [0.4343, 0.2348, 0.6572], \"textposition\": \"auto\", \"name\": \"scVI\", \"marker\": {\"opacity\": 0.5}}], \"layout\": {\"title\": \"Benchmarks\", \"xaxis\": {\"tickangle\": 0}, \"margin\": {\"r\": 50, \"l\": 50, \"t\": 50, \"b\": 50}, \"barmode\": \"group\", \"hovermode\": \"closest\", \"transition\": {\"duration\": 100}, \"autosize\": true, \"width\": 1000, \"height\": 750}}'"
      ]
     },
     "execution_count": 30,
     "metadata": {},
     "output_type": "execute_result"
    }
   ],
   "source": [
    "from tools.visualization.plot import *\n",
    "\n",
    "bar = plot_bar(x, y1)\n",
    "\n",
    "with open('bar.txt','w') as f:\n",
    "   f.write(str(bar))\n",
    "\n",
    "bar"
   ]
  },
  {
   "cell_type": "code",
   "execution_count": null,
   "id": "6b39f88a-9555-4e41-947c-ec63a9e6b1ea",
   "metadata": {},
   "outputs": [],
   "source": []
  }
 ],
 "metadata": {
  "kernelspec": {
   "display_name": "Python 3 (ipykernel)",
   "language": "python",
   "name": "python3"
  },
  "language_info": {
   "codemirror_mode": {
    "name": "ipython",
    "version": 3
   },
   "file_extension": ".py",
   "mimetype": "text/x-python",
   "name": "python",
   "nbconvert_exporter": "python",
   "pygments_lexer": "ipython3",
   "version": "3.8.10"
  }
 },
 "nbformat": 4,
 "nbformat_minor": 5
}
