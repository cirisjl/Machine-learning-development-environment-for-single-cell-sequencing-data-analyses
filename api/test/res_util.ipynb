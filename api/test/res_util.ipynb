{
 "cells": [
  {
   "cell_type": "code",
   "execution_count": 1,
   "id": "2435e01e-c133-478a-bbe4-3aaf7a5a80ed",
   "metadata": {},
   "outputs": [],
   "source": [
    "import os\n",
    "import time\n",
    "import psutil\n",
    "import GPUtil\n",
    "from functools import wraps"
   ]
  },
  {
   "cell_type": "code",
   "execution_count": 72,
   "id": "aa339bca-1317-4c35-9cb3-c00febe8cb29",
   "metadata": {},
   "outputs": [],
   "source": [
    "# !pip install nvidia-ml-py\n",
    "from pynvml import *"
   ]
  },
  {
   "cell_type": "code",
   "execution_count": 73,
   "id": "5a072e29-1855-4ed7-91dc-0821f2e43d4b",
   "metadata": {},
   "outputs": [],
   "source": [
    "def nvidia_info():\n",
    "    # pip install nvidia-ml-py\n",
    "    nvidia_dict = {\n",
    "        \"state\": True,\n",
    "        \"nvidia_version\": \"\",\n",
    "        \"nvidia_count\": 0,\n",
    "        \"gpus\": []\n",
    "    }\n",
    "    try:\n",
    "        nvmlInit()\n",
    "        nvidia_dict[\"nvidia_version\"] = nvmlSystemGetDriverVersion()\n",
    "        nvidia_dict[\"nvidia_count\"] = nvmlDeviceGetCount()\n",
    "        for i in range(nvidia_dict[\"nvidia_count\"]):\n",
    "            handle = nvmlDeviceGetHandleByIndex(i)\n",
    "            memory_info = nvmlDeviceGetMemoryInfo(handle)\n",
    "            gpu = {\n",
    "                \"gpu_name\": nvmlDeviceGetName(handle),\n",
    "                \"total\": memory_info.total,\n",
    "                \"free\": memory_info.free,\n",
    "                \"used\": memory_info.used,\n",
    "                \"temperature\": f\"{nvmlDeviceGetTemperature(handle, 0)}℃\",\n",
    "                \"powerStatus\": nvmlDeviceGetPowerState(handle)\n",
    "            }\n",
    "            nvidia_dict['gpus'].append(gpu)\n",
    "    except NVMLError as _:\n",
    "        nvidia_dict[\"state\"] = False\n",
    "    except Exception as _:\n",
    "        nvidia_dict[\"state\"] = False\n",
    "    finally:\n",
    "        try:\n",
    "            nvmlShutdown()\n",
    "        except:\n",
    "            pass\n",
    "    return nvidia_dict\n",
    "\n",
    "\n",
    "def check_gpu_mem_usedRate():\n",
    "    max_rate = 0.0\n",
    "    while True:\n",
    "        info = nvidia_info()\n",
    "        # print(info)\n",
    "        used = info['gpus'][0]['used']\n",
    "        tot = info['gpus'][0]['total']\n",
    "        print(f\"GPU0 used: {used}, tot: {tot}, 使用率：{used/tot}\")\n",
    "        if used/tot > max_rate:\n",
    "            max_rate = used/tot\n",
    "        print(\"GPU0 最大使用率：\", max_rate)\n"
   ]
  },
  {
   "cell_type": "code",
   "execution_count": 76,
   "id": "a5e4a8d9-cfc7-4752-9dbc-a5a3083e08a3",
   "metadata": {},
   "outputs": [
    {
     "data": {
      "text/plain": [
       "0"
      ]
     },
     "execution_count": 76,
     "metadata": {},
     "output_type": "execute_result"
    }
   ],
   "source": [
    "info = nvidia_info()\n",
    "len(info['gpus'])"
   ]
  },
  {
   "cell_type": "code",
   "execution_count": 64,
   "id": "33b787a7-a060-4ab1-9ca5-40fc3db2b513",
   "metadata": {},
   "outputs": [],
   "source": [
    "import time\n",
    "import psutil\n",
    "import GPUtil\n",
    "from threading import Thread\n",
    "\n",
    "\n",
    "\n",
    "class Monitor(Thread):\n",
    "    def __init__(self, delay=1):\n",
    "        super(Monitor, self).__init__()\n",
    "        self.stopped = False\n",
    "        self.delay = delay # Time between calls to GPUtil\n",
    "        # self.start_time \n",
    "        # self.end_time\n",
    "        self.time_points = []\n",
    "        self.cpu_usage = []\n",
    "        self.mem_usage = []\n",
    "        self.start()\n",
    "\n",
    "    def run(self):\n",
    "        while not self.stopped:\n",
    "            GPUtil.showUtilization()\n",
    "            # Obtaining all the essential details\n",
    "            self.time_points.append(time.time())\n",
    "            self.cpu_usage.append(psutil.cpu_percent())\n",
    "            self.mem_usage.append(psutil.virtual_memory().percent)\n",
    "            time.sleep(self.delay)\n",
    "        \n",
    "\n",
    "    def stop(self):\n",
    "        self.stopped = True\n",
    "        return self.time_points, self.cpu_usage, self.mem_usage"
   ]
  },
  {
   "cell_type": "code",
   "execution_count": 37,
   "id": "4cd55c43-39ca-44e1-8e09-48fc690aacb8",
   "metadata": {},
   "outputs": [],
   "source": [
    "def res_util(function):\n",
    "    @wraps(function)\n",
    "    def function_util(*args, **kwargs):\n",
    "        start_time = time.time()\n",
    "        cpu_usage = []\n",
    "        mem_usage = []\n",
    "        # cpu_usage.append(psutil.cpu_percent())\n",
    "        # mem_usage.append(psutil.virtual_memory().percent)\n",
    "        while not function.stopped:\n",
    "            # Obtaining all the essential details\n",
    "            cpu_usage.append(psutil.cpu_percent())\n",
    "            mem_usage.append(psutil.virtual_memory().percent)\n",
    "            print(cpu_usage)\n",
    "            print(mem_usage)\n",
    "    \n",
    "            # Obtaining the GPU details\n",
    "            GPUtil.showUtilization()\n",
    "            time.sleep(1)\n",
    "            \n",
    "        end_time = time.time()\n",
    "        total_time = end_time-start_time\n",
    "        \n",
    "        return function(*args, **kwargs), total_time, cpu_usage, mem_usage\n",
    "    return function_util"
   ]
  },
  {
   "cell_type": "code",
   "execution_count": 29,
   "id": "24051c22-b28c-4e53-b444-76585d3ca5ee",
   "metadata": {},
   "outputs": [],
   "source": [
    "import random\n",
    "\n",
    "# @res_util\n",
    "def random_sort(n):\n",
    "    results = sorted([random.random() for i in range(n)])\n",
    "    # random_sort.stopped = True\n",
    "    return results"
   ]
  },
  {
   "cell_type": "code",
   "execution_count": 61,
   "id": "f934b390-da88-4965-8968-9913819ce584",
   "metadata": {},
   "outputs": [
    {
     "ename": "KeyboardInterrupt",
     "evalue": "",
     "output_type": "error",
     "traceback": [
      "\u001b[0;31m---------------------------------------------------------------------------\u001b[0m",
      "\u001b[0;31mValueError\u001b[0m                                Traceback (most recent call last)",
      "    \u001b[0;31m[... skipping hidden 1 frame]\u001b[0m\n",
      "Cell \u001b[0;32mIn[61], line 1\u001b[0m\n\u001b[0;32m----> 1\u001b[0m results, total_time, cpu_usage, mem_usage \u001b[38;5;241m=\u001b[39m random_sort(\u001b[38;5;241m20000000\u001b[39m)\n",
      "\u001b[0;31mValueError\u001b[0m: too many values to unpack (expected 4)",
      "\nDuring handling of the above exception, another exception occurred:\n",
      "\u001b[0;31mKeyboardInterrupt\u001b[0m                         Traceback (most recent call last)",
      "\u001b[0;31mKeyboardInterrupt\u001b[0m: "
     ]
    }
   ],
   "source": [
    "results, total_time, cpu_usage, mem_usage = random_sort(20000000)"
   ]
  },
  {
   "cell_type": "code",
   "execution_count": 65,
   "id": "6c8b66bf-586f-444e-b1a5-0b65f3280608",
   "metadata": {},
   "outputs": [
    {
     "name": "stdout",
     "output_type": "stream",
     "text": [
      "| ID | GPU | MEM |\n",
      "------------------\n",
      "| ID | GPU | MEM |\n",
      "------------------\n",
      "| ID | GPU | MEM |\n",
      "------------------\n",
      "| ID | GPU | MEM |\n",
      "------------------\n"
     ]
    }
   ],
   "source": [
    "monitor = Monitor(1)\n",
    "random_sort(20000000)\n",
    "time_points, cpu_usage, mem_usage = monitor.stop()"
   ]
  },
  {
   "cell_type": "code",
   "execution_count": 66,
   "id": "c5e1b38f-a18a-44ec-a25c-918f9b71da61",
   "metadata": {},
   "outputs": [
    {
     "data": {
      "text/plain": [
       "[1700457428.6743805, 1700457429.804826, 1700457431.0107586, 1700457440.7123737]"
      ]
     },
     "execution_count": 66,
     "metadata": {},
     "output_type": "execute_result"
    }
   ],
   "source": [
    "time_points"
   ]
  },
  {
   "cell_type": "code",
   "execution_count": 67,
   "id": "bd26e346-727d-4a1f-aead-36234bea317b",
   "metadata": {},
   "outputs": [
    {
     "data": {
      "text/plain": [
       "[0.1, 1.9, 1.9, 1.8]"
      ]
     },
     "execution_count": 67,
     "metadata": {},
     "output_type": "execute_result"
    }
   ],
   "source": [
    "cpu_usage"
   ]
  },
  {
   "cell_type": "code",
   "execution_count": 68,
   "id": "1961d215-52b6-4d75-ba47-3cd6ba9b7037",
   "metadata": {},
   "outputs": [
    {
     "data": {
      "text/plain": [
       "[3.0, 3.1, 3.3, 3.0]"
      ]
     },
     "execution_count": 68,
     "metadata": {},
     "output_type": "execute_result"
    }
   ],
   "source": [
    "mem_usage"
   ]
  },
  {
   "cell_type": "code",
   "execution_count": 22,
   "id": "c851c5c0-1c46-4fd6-9ebb-7f4a23c48425",
   "metadata": {},
   "outputs": [],
   "source": [
    "def funX(x):\n",
    "    m_x = x\n",
    "    funX.m_x = m_x"
   ]
  },
  {
   "cell_type": "code",
   "execution_count": 26,
   "id": "f030b3d5-ca96-4bb2-8201-ca8297ea8719",
   "metadata": {},
   "outputs": [
    {
     "name": "stdout",
     "output_type": "stream",
     "text": [
      "<function funX at 0x7f868c2e0430>\n"
     ]
    }
   ],
   "source": [
    "print(funX)"
   ]
  },
  {
   "cell_type": "code",
   "execution_count": 24,
   "id": "ffa93fa6-527f-4ff3-9452-e671c8f196d0",
   "metadata": {},
   "outputs": [],
   "source": [
    "funX(3)"
   ]
  },
  {
   "cell_type": "code",
   "execution_count": 25,
   "id": "72c3422e-e640-442e-91fa-4f93c0898647",
   "metadata": {},
   "outputs": [
    {
     "name": "stdout",
     "output_type": "stream",
     "text": [
      "funX.m_x =  3\n"
     ]
    }
   ],
   "source": [
    "print(\"funX.m_x = \", funX.m_x) "
   ]
  },
  {
   "cell_type": "code",
   "execution_count": null,
   "id": "9be4e4ff-a1a4-4b8a-ab6b-554954b9ac97",
   "metadata": {},
   "outputs": [],
   "source": []
  }
 ],
 "metadata": {
  "kernelspec": {
   "display_name": "Python 3 (ipykernel)",
   "language": "python",
   "name": "python3"
  },
  "language_info": {
   "codemirror_mode": {
    "name": "ipython",
    "version": 3
   },
   "file_extension": ".py",
   "mimetype": "text/x-python",
   "name": "python",
   "nbconvert_exporter": "python",
   "pygments_lexer": "ipython3",
   "version": "3.8.10"
  }
 },
 "nbformat": 4,
 "nbformat_minor": 5
}
