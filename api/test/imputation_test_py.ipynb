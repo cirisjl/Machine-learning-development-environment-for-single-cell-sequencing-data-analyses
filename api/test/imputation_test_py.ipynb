{
 "cells": [
  {
   "cell_type": "code",
   "execution_count": 1,
   "id": "d1966256",
   "metadata": {},
   "outputs": [],
   "source": [
    "import magic\n",
    "import pandas as pd\n",
    "import sys\n",
    "sys.path.append('..')\n",
    "from tools.formating.formating import *"
   ]
  },
  {
   "cell_type": "code",
   "execution_count": 2,
   "id": "d915d667",
   "metadata": {},
   "outputs": [],
   "source": [
    "# csv_path = '/ps/ai-ready/data/tung/tung_RNA.csv'\n",
    "\n",
    "# txt_path = '/ps/ai-ready/data/kbcfh/TextDataset/GSE52529_truseq_fpkm_matrix.txt'\n",
    "input_path = '/ps/ai-ready/data/kbcfh/gzDataset'"
   ]
  },
  {
   "cell_type": "code",
   "execution_count": 9,
   "id": "4b05f6d9",
   "metadata": {},
   "outputs": [
    {
     "data": {
      "text/plain": [
       "['genes.tsv', 'barcodes.tsv', 'Results', 'matrix.mtx']"
      ]
     },
     "execution_count": 9,
     "metadata": {},
     "output_type": "execute_result"
    }
   ],
   "source": [
    "filelist=os.listdir(input_path)\n",
    "filelist"
   ]
  },
  {
   "cell_type": "code",
   "execution_count": 3,
   "id": "7592fa6e",
   "metadata": {},
   "outputs": [
    {
     "name": "stdout",
     "output_type": "stream",
     "text": [
      "/ps/ai-ready/data/kbcfh/10XDataset\n"
     ]
    }
   ],
   "source": [
    "adata = LoadAnndata(input_path)"
   ]
  },
  {
   "cell_type": "code",
   "execution_count": null,
   "id": "0282237b",
   "metadata": {},
   "outputs": [],
   "source": [
    "adata = sc.read_10x_mtx(input_path,\n",
    "                             var_names='gene_symbols')  "
   ]
  },
  {
   "cell_type": "code",
   "execution_count": 4,
   "id": "3a80205c",
   "metadata": {},
   "outputs": [
    {
     "data": {
      "text/plain": [
       "<3101x23433 sparse matrix of type '<class 'numpy.float32'>'\n",
       "\twith 9062263 stored elements in Compressed Sparse Row format>"
      ]
     },
     "execution_count": 4,
     "metadata": {},
     "output_type": "execute_result"
    }
   ],
   "source": [
    "adata.X"
   ]
  },
  {
   "cell_type": "code",
   "execution_count": 5,
   "id": "7d91fc72",
   "metadata": {},
   "outputs": [
    {
     "data": {
      "text/plain": [
       "scipy.sparse._csr.csr_matrix"
      ]
     },
     "execution_count": 5,
     "metadata": {},
     "output_type": "execute_result"
    }
   ],
   "source": [
    "type(adata.X)"
   ]
  },
  {
   "cell_type": "code",
   "execution_count": 6,
   "id": "39340496",
   "metadata": {},
   "outputs": [
    {
     "name": "stdout",
     "output_type": "stream",
     "text": [
      "Calculating MAGIC...\n",
      "  Running MAGIC on 23433 cells and 3101 genes.\n",
      "  Calculating graph and diffusion operator...\n",
      "    Calculating PCA...\n",
      "    Calculated PCA in 6.10 seconds.\n",
      "    Calculating KNN search...\n",
      "    Calculated KNN search in 47.12 seconds.\n",
      "    Calculating affinities...\n"
     ]
    },
    {
     "name": "stderr",
     "output_type": "stream",
     "text": [
      "/usr/local/lib/python3.8/dist-packages/graphtools/graphs.py:290: RuntimeWarning: Detected zero distance between 58127 pairs of samples. Consider removing duplicates to avoid errors in downstream processing.\n",
      "  warnings.warn(\n"
     ]
    },
    {
     "name": "stdout",
     "output_type": "stream",
     "text": [
      "    Calculated affinities in 46.21 seconds.\n",
      "  Calculated graph and diffusion operator in 99.46 seconds.\n"
     ]
    },
    {
     "name": "stderr",
     "output_type": "stream",
     "text": [
      "/usr/local/lib/python3.8/dist-packages/graphtools/base.py:554: RuntimeWarning: K should have a non-zero diagonal\n",
      "  warnings.warn(\"K should have a non-zero diagonal\", RuntimeWarning)\n"
     ]
    },
    {
     "name": "stdout",
     "output_type": "stream",
     "text": [
      "  Calculating imputation...\n",
      "  Calculated imputation in 8.05 seconds.\n",
      "Calculated MAGIC in 107.80 seconds.\n"
     ]
    },
    {
     "data": {
      "text/plain": [
       "array([[2.84006822e-03, 1.76381286e-03, 5.10433728e-03, ...,\n",
       "        9.03873099e-04, 9.12330212e-04, 2.16493743e-03],\n",
       "       [1.36477394e-06, 4.39159370e-06, 8.93250848e-06, ...,\n",
       "        2.39515635e-06, 1.91907369e-06, 5.76444914e-06],\n",
       "       [1.36477394e-06, 4.39159370e-06, 8.93250848e-06, ...,\n",
       "        2.39515635e-06, 1.91907369e-06, 5.76444914e-06],\n",
       "       ...,\n",
       "       [0.00000000e+00, 4.46394771e-06, 8.34929279e-07, ...,\n",
       "        0.00000000e+00, 0.00000000e+00, 1.35891891e-05],\n",
       "       [0.00000000e+00, 4.46394771e-06, 8.34929279e-07, ...,\n",
       "        0.00000000e+00, 0.00000000e+00, 1.35891891e-05],\n",
       "       [0.00000000e+00, 4.46394771e-06, 8.34929279e-07, ...,\n",
       "        0.00000000e+00, 0.00000000e+00, 1.35891891e-05]])"
      ]
     },
     "execution_count": 6,
     "metadata": {},
     "output_type": "execute_result"
    }
   ],
   "source": [
    "# counts = pd.read_csv(txt_path)\n",
    "counts = adata.X\n",
    "magic_operator = magic.MAGIC()\n",
    "data_magic = None\n",
    "data_magic = magic_operator.fit_transform(counts.T)\n",
    "data_magic"
   ]
  },
  {
   "cell_type": "code",
   "execution_count": 7,
   "id": "8188602a",
   "metadata": {},
   "outputs": [
    {
     "data": {
      "text/plain": [
       "array([[0., 0., 0., ..., 0., 0., 0.],\n",
       "       [0., 0., 0., ..., 0., 0., 0.],\n",
       "       [0., 0., 0., ..., 0., 0., 0.],\n",
       "       ...,\n",
       "       [0., 0., 0., ..., 0., 0., 0.],\n",
       "       [0., 0., 0., ..., 0., 0., 0.],\n",
       "       [0., 0., 0., ..., 0., 0., 0.]], dtype=float32)"
      ]
     },
     "execution_count": 7,
     "metadata": {},
     "output_type": "execute_result"
    }
   ],
   "source": [
    "adata.X.toarray()"
   ]
  },
  {
   "cell_type": "code",
   "execution_count": null,
   "id": "e49a1087",
   "metadata": {},
   "outputs": [],
   "source": [
    "magic_operator = magic.MAGIC()\n",
    "data_magic = magic_operator.fit_transform(adata.X)"
   ]
  },
  {
   "cell_type": "code",
   "execution_count": null,
   "id": "d248c654",
   "metadata": {},
   "outputs": [],
   "source": []
  },
  {
   "cell_type": "code",
   "execution_count": null,
   "id": "8048610c",
   "metadata": {},
   "outputs": [],
   "source": [
    "data_magic"
   ]
  },
  {
   "cell_type": "code",
   "execution_count": null,
   "id": "db92d178",
   "metadata": {},
   "outputs": [],
   "source": [
    "adata.layers[\"MAGIC_imputed\"] = data_magic"
   ]
  },
  {
   "cell_type": "code",
   "execution_count": null,
   "id": "a537101b",
   "metadata": {},
   "outputs": [],
   "source": [
    "adata.layers[\"MAGIC_imputed\"].shape"
   ]
  },
  {
   "cell_type": "code",
   "execution_count": null,
   "id": "fd230a51",
   "metadata": {},
   "outputs": [],
   "source": [
    "data_magic = None"
   ]
  },
  {
   "cell_type": "code",
   "execution_count": null,
   "id": "12585ad4",
   "metadata": {},
   "outputs": [],
   "source": [
    "magic_operator = magic.MAGIC()\n",
    "data_magic = magic_operator.fit_transform(adata.layers[\"Pearson_residuals\"])"
   ]
  },
  {
   "cell_type": "code",
   "execution_count": null,
   "id": "865f9171",
   "metadata": {},
   "outputs": [],
   "source": [
    "data_magic"
   ]
  },
  {
   "cell_type": "code",
   "execution_count": null,
   "id": "11d2365d",
   "metadata": {},
   "outputs": [],
   "source": []
  }
 ],
 "metadata": {
  "kernelspec": {
   "display_name": "Python 3 (ipykernel)",
   "language": "python",
   "name": "python3"
  },
  "language_info": {
   "codemirror_mode": {
    "name": "ipython",
    "version": 3
   },
   "file_extension": ".py",
   "mimetype": "text/x-python",
   "name": "python",
   "nbconvert_exporter": "python",
   "pygments_lexer": "ipython3",
   "version": "3.8.10"
  }
 },
 "nbformat": 4,
 "nbformat_minor": 5
}
