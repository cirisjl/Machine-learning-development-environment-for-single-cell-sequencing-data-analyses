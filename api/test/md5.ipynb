{
 "cells": [
  {
   "cell_type": "code",
   "execution_count": 1,
   "id": "65764294-0250-4a24-b6a6-e44b669cedc4",
   "metadata": {},
   "outputs": [
    {
     "name": "stdout",
     "output_type": "stream",
     "text": [
      "e5dadf6524624f79c3127e247f04b548\n",
      "e5dadf6524624f79c3127e247f04b548\n",
      "md5\n",
      "16\n",
      "b'\\xe5\\xda\\xdfe$bOy\\xc3\\x12~$\\x7f\\x04\\xb5H'\n",
      "e5dadf6524624f79c3127e247f04b548\n"
     ]
    }
   ],
   "source": [
    "import hashlib\n",
    "\n",
    "result = hashlib.md5(b\"Hello MD5\").hexdigest()\n",
    "print(result)\n",
    "\n",
    "result = hashlib.md5(\"Hello MD5\".encode(\"utf-8\")).hexdigest()\n",
    "print(result)\n",
    "\n",
    "m = hashlib.md5(b\"Hello MD5\")\n",
    "print(m.name)\n",
    "print(m.digest_size) # 16 bytes (128 bits)\n",
    "print(m.digest())    # bytes\n",
    "print(m.hexdigest()) # bytes in hex representation"
   ]
  },
  {
   "cell_type": "code",
   "execution_count": 2,
   "id": "7f50cf35-c711-479b-b4b4-b3ca67d43812",
   "metadata": {},
   "outputs": [
    {
     "name": "stdout",
     "output_type": "stream",
     "text": [
      "e5dadf6524624f79c3127e247f04b548\n"
     ]
    }
   ],
   "source": [
    "result = hashlib.md5(\"Hello MD5\".encode(\"utf-8\")).hexdigest()\n",
    "print(result)"
   ]
  },
  {
   "cell_type": "code",
   "execution_count": 3,
   "id": "47c212fe-c20c-45d5-92d1-7393edf718ee",
   "metadata": {},
   "outputs": [],
   "source": [
    "result = hashlib.md5(b\"Hello MD5\").hexdigest()"
   ]
  },
  {
   "cell_type": "code",
   "execution_count": 4,
   "id": "b56cc075-2c0b-465e-b4f8-cd0694f2ca7f",
   "metadata": {},
   "outputs": [
    {
     "name": "stdout",
     "output_type": "stream",
     "text": [
      "aaa is None\n"
     ]
    }
   ],
   "source": [
    "print(f'aaa is {None}')"
   ]
  },
  {
   "cell_type": "code",
   "execution_count": 5,
   "id": "48905138-dc30-4e81-86a0-78ad634cd9e3",
   "metadata": {},
   "outputs": [
    {
     "name": "stdout",
     "output_type": "stream",
     "text": [
      "bbb is ['1223331', '11232323', 'aaaaaa']\n"
     ]
    }
   ],
   "source": [
    "print(f\"bbb is {['1223331', '11232323', 'aaaaaa']}\")"
   ]
  },
  {
   "cell_type": "code",
   "execution_count": 9,
   "id": "082ba55a-5864-48d4-963c-ac1bf444bf95",
   "metadata": {},
   "outputs": [],
   "source": [
    "import os\n",
    "def change_file_extension(file_path, new_extension):\n",
    "    # Split the file path into directory and filename\n",
    "    directory, base_filename = os.path.split(file_path)\n",
    "\n",
    "    # Split the base filename into name and current extension\n",
    "    name, current_extension = os.path.splitext(base_filename)\n",
    "\n",
    "    # Create the new file path with the desired extension\n",
    "    new_file_path = os.path.join(directory, f\"{name}.{new_extension}\")\n",
    "\n",
    "    return new_file_path"
   ]
  },
  {
   "cell_type": "code",
   "execution_count": 12,
   "id": "d8a04e8b-a98c-4666-9cb2-4ee8506904e4",
   "metadata": {},
   "outputs": [
    {
     "data": {
      "text/plain": [
       "'/ps/ai-ready/data/error.h5ad'"
      ]
     },
     "execution_count": 12,
     "metadata": {},
     "output_type": "execute_result"
    }
   ],
   "source": [
    "input = \"/ps/ai-ready/data/error/tung.rds\"\n",
    "f1 = change_file_extension(input, 'h5ad')\n",
    "f1"
   ]
  },
  {
   "cell_type": "code",
   "execution_count": 18,
   "id": "dec0b511-d5f0-4439-a12e-92f8aa3443f0",
   "metadata": {},
   "outputs": [
    {
     "data": {
      "text/plain": [
       "'/ps/ai-ready/data'"
      ]
     },
     "execution_count": 18,
     "metadata": {},
     "output_type": "execute_result"
    }
   ],
   "source": [
    "directory, base_filename = os.path.split(\"/ps/ai-ready/data/error\")\n",
    "directory\n",
    "# base_filename"
   ]
  },
  {
   "cell_type": "code",
   "execution_count": 19,
   "id": "99978064-41be-41d1-a503-090d8d2fff98",
   "metadata": {},
   "outputs": [
    {
     "data": {
      "text/plain": [
       "'error'"
      ]
     },
     "execution_count": 19,
     "metadata": {},
     "output_type": "execute_result"
    }
   ],
   "source": [
    "base_filename"
   ]
  },
  {
   "cell_type": "code",
   "execution_count": 21,
   "id": "317c13e5-8514-4582-b80a-c40cf9b979c1",
   "metadata": {},
   "outputs": [
    {
     "data": {
      "text/plain": [
       "'.rds'"
      ]
     },
     "execution_count": 21,
     "metadata": {},
     "output_type": "execute_result"
    }
   ],
   "source": [
    "os.path.splitext(\"/ps/ai-ready/data/error/tung.rds\")[-1]"
   ]
  },
  {
   "cell_type": "code",
   "execution_count": null,
   "id": "2aaf1264-ec29-458e-bea1-3af58318ce92",
   "metadata": {},
   "outputs": [],
   "source": []
  }
 ],
 "metadata": {
  "kernelspec": {
   "display_name": "Python 3 (ipykernel)",
   "language": "python",
   "name": "python3"
  },
  "language_info": {
   "codemirror_mode": {
    "name": "ipython",
    "version": 3
   },
   "file_extension": ".py",
   "mimetype": "text/x-python",
   "name": "python",
   "nbconvert_exporter": "python",
   "pygments_lexer": "ipython3",
   "version": "3.8.10"
  }
 },
 "nbformat": 4,
 "nbformat_minor": 5
}
