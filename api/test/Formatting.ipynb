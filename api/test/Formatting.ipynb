{
 "cells": [
  {
   "cell_type": "code",
   "execution_count": 1,
   "id": "8e200754-fbbf-4154-89bc-29a8bb6faa4f",
   "metadata": {},
   "outputs": [
    {
     "name": "stderr",
     "output_type": "stream",
     "text": [
      "R[write to console]: Loading required package: SingleCellExperiment\n",
      "\n",
      "R[write to console]: Loading required package: SummarizedExperiment\n",
      "\n",
      "R[write to console]: Loading required package: MatrixGenerics\n",
      "\n",
      "R[write to console]: Loading required package: matrixStats\n",
      "\n",
      "R[write to console]: \n",
      "Attaching package: ‘MatrixGenerics’\n",
      "\n",
      "\n",
      "R[write to console]: The following objects are masked from ‘package:matrixStats’:\n",
      "\n",
      "    colAlls, colAnyNAs, colAnys, colAvgsPerRowSet, colCollapse,\n",
      "    colCounts, colCummaxs, colCummins, colCumprods, colCumsums,\n",
      "    colDiffs, colIQRDiffs, colIQRs, colLogSumExps, colMadDiffs,\n",
      "    colMads, colMaxs, colMeans2, colMedians, colMins, colOrderStats,\n",
      "    colProds, colQuantiles, colRanges, colRanks, colSdDiffs, colSds,\n",
      "    colSums2, colTabulates, colVarDiffs, colVars, colWeightedMads,\n",
      "    colWeightedMeans, colWeightedMedians, colWeightedSds,\n",
      "    colWeightedVars, rowAlls, rowAnyNAs, rowAnys, rowAvgsPerColSet,\n",
      "    rowCollapse, rowCounts, rowCummaxs, rowCummins, rowCumprods,\n",
      "    rowCumsums, rowDiffs, rowIQRDiffs, rowIQRs, rowLogSumExps,\n",
      "    rowMadDiffs, rowMads, rowMaxs, rowMeans2, rowMedians, rowMins,\n",
      "    rowOrderStats, rowProds, rowQuantiles, rowRanges, rowRanks,\n",
      "    rowSdDiffs, rowSds, rowSums2, rowTabulates, rowVarDiffs, rowVars,\n",
      "    rowWeightedMads, rowWeightedMeans, rowWeightedMedians,\n",
      "    rowWeightedSds, rowWeightedVars\n",
      "\n",
      "\n",
      "R[write to console]: Loading required package: GenomicRanges\n",
      "\n",
      "R[write to console]: Loading required package: stats4\n",
      "\n",
      "R[write to console]: Loading required package: BiocGenerics\n",
      "\n",
      "R[write to console]: \n",
      "Attaching package: ‘BiocGenerics’\n",
      "\n",
      "\n",
      "R[write to console]: The following objects are masked from ‘package:stats’:\n",
      "\n",
      "    IQR, mad, sd, var, xtabs\n",
      "\n",
      "\n",
      "R[write to console]: The following objects are masked from ‘package:base’:\n",
      "\n",
      "    anyDuplicated, aperm, append, as.data.frame, basename, cbind,\n",
      "    colnames, dirname, do.call, duplicated, eval, evalq, Filter, Find,\n",
      "    get, grep, grepl, intersect, is.unsorted, lapply, Map, mapply,\n",
      "    match, mget, order, paste, pmax, pmax.int, pmin, pmin.int,\n",
      "    Position, rank, rbind, Reduce, rownames, sapply, setdiff, sort,\n",
      "    table, tapply, union, unique, unsplit, which.max, which.min\n",
      "\n",
      "\n",
      "R[write to console]: Loading required package: S4Vectors\n",
      "\n",
      "R[write to console]: \n",
      "Attaching package: ‘S4Vectors’\n",
      "\n",
      "\n",
      "R[write to console]: The following objects are masked from ‘package:base’:\n",
      "\n",
      "    expand.grid, I, unname\n",
      "\n",
      "\n",
      "R[write to console]: Loading required package: IRanges\n",
      "\n",
      "R[write to console]: Loading required package: GenomeInfoDb\n",
      "\n",
      "R[write to console]: Loading required package: Biobase\n",
      "\n",
      "R[write to console]: Welcome to Bioconductor\n",
      "\n",
      "    Vignettes contain introductory material; view with\n",
      "    'browseVignettes()'. To cite Bioconductor, see\n",
      "    'citation(\"Biobase\")', and for packages 'citation(\"pkgname\")'.\n",
      "\n",
      "\n",
      "R[write to console]: \n",
      "Attaching package: ‘Biobase’\n",
      "\n",
      "\n",
      "R[write to console]: The following object is masked from ‘package:MatrixGenerics’:\n",
      "\n",
      "    rowMedians\n",
      "\n",
      "\n",
      "R[write to console]: The following objects are masked from ‘package:matrixStats’:\n",
      "\n",
      "    anyMissing, rowMedians\n",
      "\n",
      "\n",
      "R[write to console]: Loading required package: scuttle\n",
      "\n",
      "R[write to console]: Loading required package: ggplot2\n",
      "\n"
     ]
    },
    {
     "name": "stdout",
     "output_type": "stream",
     "text": [
      "\n",
      "    WARNING: The R package \"reticulate\" only fixed recently\n",
      "    an issue that caused a segfault when used with rpy2:\n",
      "    https://github.com/rstudio/reticulate/pull/1188\n",
      "    Make sure that you use a version of that package that includes\n",
      "    the fix.\n",
      "    "
     ]
    },
    {
     "name": "stderr",
     "output_type": "stream",
     "text": [
      "R[write to console]: Attaching SeuratObject\n",
      "\n",
      "R[write to console]: Seurat v4 was just loaded with SeuratObject v5; disabling v5 assays and\n",
      "validation routines, and ensuring assays work in strict v3/v4\n",
      "compatibility mode\n",
      "\n",
      "R[write to console]: \n",
      "Attaching package: ‘Seurat’\n",
      "\n",
      "\n",
      "R[write to console]: The following object is masked from ‘package:SummarizedExperiment’:\n",
      "\n",
      "    Assays\n",
      "\n",
      "\n",
      "R[write to console]: Registered S3 method overwritten by 'SeuratDisk':\n",
      "  method            from  \n",
      "  as.sparse.H5Group Seurat\n",
      "\n",
      "R[write to console]: Signac built for for SeuratObject v4 was just loaded with SeuratObject\n",
      "v5; disabling v5 assays and validation routines, and ensuring assays\n",
      "work in strict v3/v4 compatibility mode\n",
      "\n"
     ]
    }
   ],
   "source": [
    "import os\n",
    "import subprocess\n",
    "import sys\n",
    "sys.path.append('..')\n",
    "from tools.formating.formating import *\n",
    "from utils.unzip import unzip_file_if_compressed"
   ]
  },
  {
   "cell_type": "code",
   "execution_count": 2,
   "id": "e6e8d179-6b3e-4346-983d-50d4982830e2",
   "metadata": {},
   "outputs": [],
   "source": [
    "input = '/ps/data/storage/Benchmarks/Bladder_1718056324061/droplet_Bladder_seurat_tiss.h5seurat'"
   ]
  },
  {
   "cell_type": "code",
   "execution_count": 3,
   "id": "44757358-03ef-43e2-a6e8-40b12d7c36a9",
   "metadata": {},
   "outputs": [
    {
     "name": "stdout",
     "output_type": "stream",
     "text": [
      "is a directory\n",
      "The output path is a directory, adding output file Bladder.h5ad to the path.\n",
      "final output\n",
      "/ps/data/storage/Benchmarks/Bladder_1718056324061/Bladder.h5ad\n",
      "is a directory\n",
      "The output path is a directory, adding output file Bladder.h5seurat to the path.\n",
      "final output\n",
      "/ps/data/storage/Benchmarks/Bladder_1718056324061/Bladder.h5seurat\n",
      "is a directory\n",
      "The output path is a directory, adding output file Bladder.rds to the path.\n",
      "final output\n",
      "/ps/data/storage/Benchmarks/Bladder_1718056324061/Bladder.rds\n",
      "is a directory\n",
      "The output path is a directory, adding output file Bladder.csv to the path.\n",
      "final output\n",
      "/ps/data/storage/Benchmarks/Bladder_1718056324061/Bladder.csv\n"
     ]
    }
   ],
   "source": [
    "dataset = 'Bladder'\n",
    "output = '/ps/data/storage/Benchmarks/Bladder_1718056324061/'\n",
    "adata_path = get_output_path(output, dataset=dataset)\n",
    "seurat_path = get_output_path(output, dataset=dataset, format='Seurat')\n",
    "sce_path = get_output_path(output, dataset=dataset, format='SingleCellExperiment')\n",
    "csv_path = get_output_path(output, dataset=dataset, format='CSV')"
   ]
  },
  {
   "cell_type": "code",
   "execution_count": 8,
   "id": "1f321f20-a13b-44fe-b4e8-57a9761b2e4e",
   "metadata": {},
   "outputs": [
    {
     "name": "stdout",
     "output_type": "stream",
     "text": [
      "/ps/data/storage/Benchmarks/Bladder_1718031770012/droplet_Bladder_seurat_tiss.h5seurat\n",
      "convert_seurat_sce_to_anndata\n",
      "RNA\n",
      "[1] \"Inside ConvertSeuratSCEtoAnndata R function\"\n",
      "[1] \"Inside LoadSeurat\"\n"
     ]
    },
    {
     "name": "stderr",
     "output_type": "stream",
     "text": [
      "R[write to console]: Validating h5Seurat file\n",
      "\n",
      "R[write to console]: Initializing RNA with data\n",
      "\n",
      "R[write to console]: Adding counts for RNA\n",
      "\n",
      "R[write to console]: Adding miscellaneous information for RNA\n",
      "\n",
      "R[write to console]: Adding command information\n",
      "\n",
      "R[write to console]: Adding cell-level metadata\n",
      "\n",
      "R[write to console]: Adding miscellaneous information\n",
      "\n",
      "R[write to console]: Adding tool-specific results\n",
      "\n"
     ]
    },
    {
     "name": "stdout",
     "output_type": "stream",
     "text": [
      "[1] \"srat object is loaded\"\n",
      "[1] \"AnnData object is saved successfully.\"\n"
     ]
    }
   ],
   "source": [
    "try:\n",
    "    adata = load_anndata(input) \n",
    "    adata.write_h5ad(adata_path, compression='gzip')\n",
    "    adata = None\n",
    "    outputs.append({'adata_path': adata_path})\n",
    "    redislogger.info(task_id, \"AnnData object is saved successfully\")\n",
    "except Exception as e:\n",
    "    detail = f\"Format conversion is failed: {e}\"\n",
    "    os.remove(adata_path)\n",
    "    detail"
   ]
  },
  {
   "cell_type": "code",
   "execution_count": 4,
   "id": "1848871e-719c-4699-a9b3-df49e3687fa3",
   "metadata": {},
   "outputs": [
    {
     "name": "stdout",
     "output_type": "stream",
     "text": [
      "[1] \"Inside LoadSeurat\"\n"
     ]
    },
    {
     "name": "stderr",
     "output_type": "stream",
     "text": [
      "R[write to console]: Validating h5Seurat file\n",
      "\n",
      "R[write to console]: Initializing RNA with data\n",
      "\n",
      "R[write to console]: Adding counts for RNA\n",
      "\n",
      "R[write to console]: Adding miscellaneous information for RNA\n",
      "\n",
      "R[write to console]: Adding command information\n",
      "\n",
      "R[write to console]: Adding cell-level metadata\n",
      "\n",
      "R[write to console]: Adding miscellaneous information\n",
      "\n",
      "R[write to console]: Adding tool-specific results\n",
      "\n",
      "R[write to console]: Creating h5Seurat file for version 3.1.5.9900\n",
      "\n"
     ]
    }
   ],
   "source": [
    "seurat_path = convert_to_seurat_sce(input, seurat_path, format=\"Seurat\") "
   ]
  },
  {
   "cell_type": "code",
   "execution_count": 13,
   "id": "65c53316-a0b0-4422-bef9-61cc4f2096ce",
   "metadata": {},
   "outputs": [
    {
     "name": "stdout",
     "output_type": "stream",
     "text": [
      "[1] \"Inside LoadSeurat\"\n"
     ]
    },
    {
     "name": "stderr",
     "output_type": "stream",
     "text": [
      "R[write to console]: Validating h5Seurat file\n",
      "\n",
      "R[write to console]: Initializing RNA with data\n",
      "\n",
      "R[write to console]: Adding counts for RNA\n",
      "\n",
      "R[write to console]: Adding miscellaneous information for RNA\n",
      "\n",
      "R[write to console]: Adding command information\n",
      "\n",
      "R[write to console]: Adding cell-level metadata\n",
      "\n",
      "R[write to console]: Adding miscellaneous information\n",
      "\n",
      "R[write to console]: Adding tool-specific results\n",
      "\n"
     ]
    }
   ],
   "source": [
    "sce_path = convert_to_seurat_sce(input, sce_path, format=\"SingleCellExperiment\") "
   ]
  },
  {
   "cell_type": "code",
   "execution_count": 14,
   "id": "2ae99dc7-a249-450e-9aab-2509c67f5189",
   "metadata": {},
   "outputs": [
    {
     "data": {
      "text/plain": [
       "'/ps/data/storage/Benchmarks/Bladder_1718031770012/Bladder.rds'"
      ]
     },
     "execution_count": 14,
     "metadata": {},
     "output_type": "execute_result"
    }
   ],
   "source": [
    "sce_path"
   ]
  },
  {
   "cell_type": "code",
   "execution_count": 5,
   "id": "aa1ad881-a9ce-4c93-accb-c9f2adbe3a74",
   "metadata": {},
   "outputs": [
    {
     "name": "stdout",
     "output_type": "stream",
     "text": [
      "/ps/data/storage/Benchmarks/Bladder_1718056324061/droplet_Bladder_seurat_tiss.h5seurat\n",
      "convert_seurat_sce_to_anndata\n",
      "RNA\n",
      "[1] \"Inside ConvertSeuratSCEtoAnndata R function\"\n",
      "[1] \"Inside LoadSeurat\"\n"
     ]
    },
    {
     "name": "stderr",
     "output_type": "stream",
     "text": [
      "R[write to console]: Validating h5Seurat file\n",
      "\n",
      "R[write to console]: Initializing RNA with data\n",
      "\n",
      "R[write to console]: Adding counts for RNA\n",
      "\n",
      "R[write to console]: Adding miscellaneous information for RNA\n",
      "\n",
      "R[write to console]: Adding command information\n",
      "\n",
      "R[write to console]: Adding cell-level metadata\n",
      "\n",
      "R[write to console]: Adding miscellaneous information\n",
      "\n",
      "R[write to console]: Adding tool-specific results\n",
      "\n"
     ]
    },
    {
     "name": "stdout",
     "output_type": "stream",
     "text": [
      "[1] \"srat object is loaded\"\n",
      "[1] \"AnnData object is saved successfully.\"\n",
      "AnnData object with n_obs × n_vars = 2500 × 23341\n",
      "    obs: 'orig.ident', 'n_counts', 'n_genes', 'channel', 'tissue', 'subtissue', 'mouse.sex', 'mouse.id', 'percent.ercc', 'percent.ribo', 'free_annotation', 'cell_ontology_class', 'res.0.4', 'previous_free_annotation', 'previous_cell_ontology_class', 'cluster.ids', 'cell_ontology_id'\n",
      "    var: 'name'\n"
     ]
    }
   ],
   "source": [
    "adata, counts, csv_path = load_anndata_to_csv(input, csv_path, layer=None)"
   ]
  },
  {
   "cell_type": "code",
   "execution_count": 6,
   "id": "3c027164-df72-4e45-8dc0-4ba2292f2e26",
   "metadata": {},
   "outputs": [
    {
     "data": {
      "text/plain": [
       "'/ps/data/storage/Benchmarks/Bladder_1718056324061/Bladder.csv'"
      ]
     },
     "execution_count": 6,
     "metadata": {},
     "output_type": "execute_result"
    }
   ],
   "source": [
    "csv_path"
   ]
  },
  {
   "cell_type": "code",
   "execution_count": null,
   "id": "6eb42740-c3ef-4d2f-9e9b-9207fd4d191c",
   "metadata": {},
   "outputs": [],
   "source": []
  }
 ],
 "metadata": {
  "kernelspec": {
   "display_name": "Python 3 (ipykernel)",
   "language": "python",
   "name": "python3"
  },
  "language_info": {
   "codemirror_mode": {
    "name": "ipython",
    "version": 3
   },
   "file_extension": ".py",
   "mimetype": "text/x-python",
   "name": "python",
   "nbconvert_exporter": "python",
   "pygments_lexer": "ipython3",
   "version": "3.8.10"
  }
 },
 "nbformat": 4,
 "nbformat_minor": 5
}
