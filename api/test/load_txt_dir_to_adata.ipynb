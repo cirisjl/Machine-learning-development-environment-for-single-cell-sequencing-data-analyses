{
 "cells": [
  {
   "cell_type": "code",
   "execution_count": 1,
   "id": "19ab6a36-1c72-45a7-9e21-0917e5736ecf",
   "metadata": {},
   "outputs": [],
   "source": [
    "import os\n",
    "import sys\n",
    "import numpy as np\n",
    "import pandas as pd\n",
    "import scanpy as sc\n",
    "from anndata import AnnData"
   ]
  },
  {
   "cell_type": "code",
   "execution_count": 28,
   "id": "b0a696cc-87d8-4c8b-a712-4cf7f71bd6c6",
   "metadata": {},
   "outputs": [
    {
     "data": {
      "text/plain": [
       "AnnData object with n_obs × n_vars = 19027 × 864"
      ]
     },
     "execution_count": 28,
     "metadata": {},
     "output_type": "execute_result"
    }
   ],
   "source": [
    "path=\"/ps/ai-ready/data/tung/molecules.txt\"\n",
    "adata=sc.read_text(path)\n",
    "adata"
   ]
  },
  {
   "cell_type": "code",
   "execution_count": 3,
   "id": "f74c6eec-9b23-4b31-b02e-e8654b559c05",
   "metadata": {},
   "outputs": [
    {
     "data": {
      "text/plain": [
       "array([[ 0.,  0.,  0., ...,  0.,  0.,  0.],\n",
       "       [ 0.,  0.,  0., ...,  0.,  1.,  0.],\n",
       "       [ 3.,  6.,  1., ...,  0.,  2.,  2.],\n",
       "       ...,\n",
       "       [ 0.,  0.,  0., ...,  0.,  0.,  0.],\n",
       "       [ 0.,  0.,  0., ...,  1.,  1.,  0.],\n",
       "       [38., 31., 26., ..., 11., 20., 21.]], dtype=float32)"
      ]
     },
     "execution_count": 3,
     "metadata": {},
     "output_type": "execute_result"
    }
   ],
   "source": [
    "adata.X"
   ]
  },
  {
   "cell_type": "code",
   "execution_count": 36,
   "id": "24e10576-ca97-492b-8020-d8ec80017340",
   "metadata": {},
   "outputs": [
    {
     "data": {
      "text/html": [
       "<div>\n",
       "<style scoped>\n",
       "    .dataframe tbody tr th:only-of-type {\n",
       "        vertical-align: middle;\n",
       "    }\n",
       "\n",
       "    .dataframe tbody tr th {\n",
       "        vertical-align: top;\n",
       "    }\n",
       "\n",
       "    .dataframe thead th {\n",
       "        text-align: right;\n",
       "    }\n",
       "</style>\n",
       "<table border=\"1\" class=\"dataframe\">\n",
       "  <thead>\n",
       "    <tr style=\"text-align: right;\">\n",
       "      <th></th>\n",
       "      <th>individual</th>\n",
       "      <th>replicate</th>\n",
       "      <th>well</th>\n",
       "      <th>batch</th>\n",
       "      <th>sample_id</th>\n",
       "    </tr>\n",
       "  </thead>\n",
       "  <tbody>\n",
       "    <tr>\n",
       "      <th>0</th>\n",
       "      <td>NA19098</td>\n",
       "      <td>r1</td>\n",
       "      <td>A01</td>\n",
       "      <td>NA19098.r1</td>\n",
       "      <td>NA19098.r1.A01</td>\n",
       "    </tr>\n",
       "    <tr>\n",
       "      <th>1</th>\n",
       "      <td>NA19098</td>\n",
       "      <td>r1</td>\n",
       "      <td>A02</td>\n",
       "      <td>NA19098.r1</td>\n",
       "      <td>NA19098.r1.A02</td>\n",
       "    </tr>\n",
       "    <tr>\n",
       "      <th>2</th>\n",
       "      <td>NA19098</td>\n",
       "      <td>r1</td>\n",
       "      <td>A03</td>\n",
       "      <td>NA19098.r1</td>\n",
       "      <td>NA19098.r1.A03</td>\n",
       "    </tr>\n",
       "    <tr>\n",
       "      <th>3</th>\n",
       "      <td>NA19098</td>\n",
       "      <td>r1</td>\n",
       "      <td>A04</td>\n",
       "      <td>NA19098.r1</td>\n",
       "      <td>NA19098.r1.A04</td>\n",
       "    </tr>\n",
       "    <tr>\n",
       "      <th>4</th>\n",
       "      <td>NA19098</td>\n",
       "      <td>r1</td>\n",
       "      <td>A05</td>\n",
       "      <td>NA19098.r1</td>\n",
       "      <td>NA19098.r1.A05</td>\n",
       "    </tr>\n",
       "    <tr>\n",
       "      <th>...</th>\n",
       "      <td>...</td>\n",
       "      <td>...</td>\n",
       "      <td>...</td>\n",
       "      <td>...</td>\n",
       "      <td>...</td>\n",
       "    </tr>\n",
       "    <tr>\n",
       "      <th>859</th>\n",
       "      <td>NA19239</td>\n",
       "      <td>r3</td>\n",
       "      <td>H08</td>\n",
       "      <td>NA19239.r3</td>\n",
       "      <td>NA19239.r3.H08</td>\n",
       "    </tr>\n",
       "    <tr>\n",
       "      <th>860</th>\n",
       "      <td>NA19239</td>\n",
       "      <td>r3</td>\n",
       "      <td>H09</td>\n",
       "      <td>NA19239.r3</td>\n",
       "      <td>NA19239.r3.H09</td>\n",
       "    </tr>\n",
       "    <tr>\n",
       "      <th>861</th>\n",
       "      <td>NA19239</td>\n",
       "      <td>r3</td>\n",
       "      <td>H10</td>\n",
       "      <td>NA19239.r3</td>\n",
       "      <td>NA19239.r3.H10</td>\n",
       "    </tr>\n",
       "    <tr>\n",
       "      <th>862</th>\n",
       "      <td>NA19239</td>\n",
       "      <td>r3</td>\n",
       "      <td>H11</td>\n",
       "      <td>NA19239.r3</td>\n",
       "      <td>NA19239.r3.H11</td>\n",
       "    </tr>\n",
       "    <tr>\n",
       "      <th>863</th>\n",
       "      <td>NA19239</td>\n",
       "      <td>r3</td>\n",
       "      <td>H12</td>\n",
       "      <td>NA19239.r3</td>\n",
       "      <td>NA19239.r3.H12</td>\n",
       "    </tr>\n",
       "  </tbody>\n",
       "</table>\n",
       "<p>864 rows × 5 columns</p>\n",
       "</div>"
      ],
      "text/plain": [
       "    individual replicate well       batch       sample_id\n",
       "0      NA19098        r1  A01  NA19098.r1  NA19098.r1.A01\n",
       "1      NA19098        r1  A02  NA19098.r1  NA19098.r1.A02\n",
       "2      NA19098        r1  A03  NA19098.r1  NA19098.r1.A03\n",
       "3      NA19098        r1  A04  NA19098.r1  NA19098.r1.A04\n",
       "4      NA19098        r1  A05  NA19098.r1  NA19098.r1.A05\n",
       "..         ...       ...  ...         ...             ...\n",
       "859    NA19239        r3  H08  NA19239.r3  NA19239.r3.H08\n",
       "860    NA19239        r3  H09  NA19239.r3  NA19239.r3.H09\n",
       "861    NA19239        r3  H10  NA19239.r3  NA19239.r3.H10\n",
       "862    NA19239        r3  H11  NA19239.r3  NA19239.r3.H11\n",
       "863    NA19239        r3  H12  NA19239.r3  NA19239.r3.H12\n",
       "\n",
       "[864 rows x 5 columns]"
      ]
     },
     "execution_count": 36,
     "metadata": {},
     "output_type": "execute_result"
    }
   ],
   "source": [
    "annotation=pd.read_csv(\"/ps/ai-ready/data/tung/annotation.txt\", sep=\"\\t\")\n",
    "annotation"
   ]
  },
  {
   "cell_type": "code",
   "execution_count": 35,
   "id": "ba09f878-8e29-46af-a885-3ef425d33499",
   "metadata": {},
   "outputs": [
    {
     "data": {
      "text/html": [
       "<div>\n",
       "<style scoped>\n",
       "    .dataframe tbody tr th:only-of-type {\n",
       "        vertical-align: middle;\n",
       "    }\n",
       "\n",
       "    .dataframe tbody tr th {\n",
       "        vertical-align: top;\n",
       "    }\n",
       "\n",
       "    .dataframe thead th {\n",
       "        text-align: right;\n",
       "    }\n",
       "</style>\n",
       "<table border=\"1\" class=\"dataframe\">\n",
       "  <thead>\n",
       "    <tr style=\"text-align: right;\">\n",
       "      <th></th>\n",
       "    </tr>\n",
       "  </thead>\n",
       "  <tbody>\n",
       "    <tr>\n",
       "      <th>NA19098.r1.A01</th>\n",
       "    </tr>\n",
       "    <tr>\n",
       "      <th>NA19098.r1.A02</th>\n",
       "    </tr>\n",
       "    <tr>\n",
       "      <th>NA19098.r1.A03</th>\n",
       "    </tr>\n",
       "    <tr>\n",
       "      <th>NA19098.r1.A04</th>\n",
       "    </tr>\n",
       "    <tr>\n",
       "      <th>NA19098.r1.A05</th>\n",
       "    </tr>\n",
       "    <tr>\n",
       "      <th>...</th>\n",
       "    </tr>\n",
       "    <tr>\n",
       "      <th>NA19239.r3.H08</th>\n",
       "    </tr>\n",
       "    <tr>\n",
       "      <th>NA19239.r3.H09</th>\n",
       "    </tr>\n",
       "    <tr>\n",
       "      <th>NA19239.r3.H10</th>\n",
       "    </tr>\n",
       "    <tr>\n",
       "      <th>NA19239.r3.H11</th>\n",
       "    </tr>\n",
       "    <tr>\n",
       "      <th>NA19239.r3.H12</th>\n",
       "    </tr>\n",
       "  </tbody>\n",
       "</table>\n",
       "<p>864 rows × 0 columns</p>\n",
       "</div>"
      ],
      "text/plain": [
       "Empty DataFrame\n",
       "Columns: []\n",
       "Index: [NA19098.r1.A01, NA19098.r1.A02, NA19098.r1.A03, NA19098.r1.A04, NA19098.r1.A05, NA19098.r1.A06, NA19098.r1.A07, NA19098.r1.A08, NA19098.r1.A09, NA19098.r1.A10, NA19098.r1.A11, NA19098.r1.A12, NA19098.r1.B01, NA19098.r1.B02, NA19098.r1.B03, NA19098.r1.B04, NA19098.r1.B05, NA19098.r1.B06, NA19098.r1.B07, NA19098.r1.B08, NA19098.r1.B09, NA19098.r1.B10, NA19098.r1.B11, NA19098.r1.B12, NA19098.r1.C01, NA19098.r1.C02, NA19098.r1.C03, NA19098.r1.C04, NA19098.r1.C05, NA19098.r1.C06, NA19098.r1.C07, NA19098.r1.C08, NA19098.r1.C09, NA19098.r1.C10, NA19098.r1.C11, NA19098.r1.C12, NA19098.r1.D01, NA19098.r1.D02, NA19098.r1.D03, NA19098.r1.D04, NA19098.r1.D05, NA19098.r1.D06, NA19098.r1.D07, NA19098.r1.D08, NA19098.r1.D09, NA19098.r1.D10, NA19098.r1.D11, NA19098.r1.D12, NA19098.r1.E01, NA19098.r1.E02, NA19098.r1.E03, NA19098.r1.E04, NA19098.r1.E05, NA19098.r1.E06, NA19098.r1.E07, NA19098.r1.E08, NA19098.r1.E09, NA19098.r1.E10, NA19098.r1.E11, NA19098.r1.E12, NA19098.r1.F01, NA19098.r1.F02, NA19098.r1.F03, NA19098.r1.F04, NA19098.r1.F05, NA19098.r1.F06, NA19098.r1.F07, NA19098.r1.F08, NA19098.r1.F09, NA19098.r1.F10, NA19098.r1.F11, NA19098.r1.F12, NA19098.r1.G01, NA19098.r1.G02, NA19098.r1.G03, NA19098.r1.G04, NA19098.r1.G05, NA19098.r1.G06, NA19098.r1.G07, NA19098.r1.G08, NA19098.r1.G09, NA19098.r1.G10, NA19098.r1.G11, NA19098.r1.G12, NA19098.r1.H01, NA19098.r1.H02, NA19098.r1.H03, NA19098.r1.H04, NA19098.r1.H05, NA19098.r1.H06, NA19098.r1.H07, NA19098.r1.H08, NA19098.r1.H09, NA19098.r1.H10, NA19098.r1.H11, NA19098.r1.H12, NA19098.r2.A01, NA19098.r2.A02, NA19098.r2.A03, NA19098.r2.A04, ...]\n",
       "\n",
       "[864 rows x 0 columns]"
      ]
     },
     "execution_count": 35,
     "metadata": {},
     "output_type": "execute_result"
    }
   ],
   "source": [
    "adata.var\n",
    "# type(adata.var)"
   ]
  },
  {
   "cell_type": "code",
   "execution_count": 8,
   "id": "4fb7e9da-7b20-4e32-b8a6-550dbc3fc8a6",
   "metadata": {},
   "outputs": [
    {
     "data": {
      "text/html": [
       "<div>\n",
       "<style scoped>\n",
       "    .dataframe tbody tr th:only-of-type {\n",
       "        vertical-align: middle;\n",
       "    }\n",
       "\n",
       "    .dataframe tbody tr th {\n",
       "        vertical-align: top;\n",
       "    }\n",
       "\n",
       "    .dataframe thead th {\n",
       "        text-align: right;\n",
       "    }\n",
       "</style>\n",
       "<table border=\"1\" class=\"dataframe\">\n",
       "  <thead>\n",
       "    <tr style=\"text-align: right;\">\n",
       "      <th></th>\n",
       "    </tr>\n",
       "  </thead>\n",
       "  <tbody>\n",
       "    <tr>\n",
       "      <th>ENSG00000237683</th>\n",
       "    </tr>\n",
       "    <tr>\n",
       "      <th>ENSG00000187634</th>\n",
       "    </tr>\n",
       "    <tr>\n",
       "      <th>ENSG00000188976</th>\n",
       "    </tr>\n",
       "    <tr>\n",
       "      <th>ENSG00000187961</th>\n",
       "    </tr>\n",
       "    <tr>\n",
       "      <th>ENSG00000187583</th>\n",
       "    </tr>\n",
       "    <tr>\n",
       "      <th>...</th>\n",
       "    </tr>\n",
       "    <tr>\n",
       "      <th>ERCC-00164</th>\n",
       "    </tr>\n",
       "    <tr>\n",
       "      <th>ERCC-00165</th>\n",
       "    </tr>\n",
       "    <tr>\n",
       "      <th>ERCC-00168</th>\n",
       "    </tr>\n",
       "    <tr>\n",
       "      <th>ERCC-00170</th>\n",
       "    </tr>\n",
       "    <tr>\n",
       "      <th>ERCC-00171</th>\n",
       "    </tr>\n",
       "  </tbody>\n",
       "</table>\n",
       "<p>19027 rows × 0 columns</p>\n",
       "</div>"
      ],
      "text/plain": [
       "Empty DataFrame\n",
       "Columns: []\n",
       "Index: [ENSG00000237683, ENSG00000187634, ENSG00000188976, ENSG00000187961, ENSG00000187583, ENSG00000187642, ENSG00000188290, ENSG00000187608, ENSG00000188157, ENSG00000237330, ENSG00000131591, ENSG00000162571, ENSG00000186891, ENSG00000186827, ENSG00000078808, ENSG00000176022, ENSG00000184163, ENSG00000160087, ENSG00000162572, ENSG00000131584, ENSG00000169972, ENSG00000127054, ENSG00000224051, ENSG00000169962, ENSG00000107404, ENSG00000162576, ENSG00000175756, ENSG00000221978, ENSG00000224870, ENSG00000242485, ENSG00000235098, ENSG00000205116, ENSG00000179403, ENSG00000215915, ENSG00000160072, ENSG00000197785, ENSG00000205090, ENSG00000160075, ENSG00000215014, ENSG00000228594, ENSG00000197530, ENSG00000189409, ENSG00000248333, ENSG00000189339, ENSG00000008128, ENSG00000215790, ENSG00000008130, ENSG00000078369, ENSG00000169885, ENSG00000178821, ENSG00000142609, ENSG00000187730, ENSG00000067606, ENSG00000162585, ENSG00000269554, ENSG00000203301, ENSG00000157933, ENSG00000116151, ENSG00000269753, ENSG00000157916, ENSG00000157911, ENSG00000149527, ENSG00000157881, ENSG00000197921, ENSG00000157873, ENSG00000157870, ENSG00000142606, ENSG00000215912, ENSG00000169717, ENSG00000142611, ENSG00000130762, ENSG00000162591, ENSG00000158109, ENSG00000116213, ENSG00000078900, ENSG00000162592, ENSG00000235169, ENSG00000130764, ENSG00000116198, ENSG00000169598, ENSG00000198912, ENSG00000196581, ENSG00000131697, ENSG00000069424, ENSG00000268332, ENSG00000116254, ENSG00000116251, ENSG00000158286, ENSG00000116237, ENSG00000173673, ENSG00000158292, ENSG00000097021, ENSG00000069812, ENSG00000187017, ENSG00000215788, ENSG00000171680, ENSG00000162408, ENSG00000173662, ENSG00000204859, ENSG00000162413, ...]\n",
       "\n",
       "[19027 rows x 0 columns]"
      ]
     },
     "execution_count": 8,
     "metadata": {},
     "output_type": "execute_result"
    }
   ],
   "source": [
    "adata.obs"
   ]
  },
  {
   "cell_type": "code",
   "execution_count": null,
   "id": "22e13ce8-880f-4461-91d4-f6c9fc2d5de4",
   "metadata": {},
   "outputs": [],
   "source": []
  }
 ],
 "metadata": {
  "kernelspec": {
   "display_name": "Python 3 (ipykernel)",
   "language": "python",
   "name": "python3"
  },
  "language_info": {
   "codemirror_mode": {
    "name": "ipython",
    "version": 3
   },
   "file_extension": ".py",
   "mimetype": "text/x-python",
   "name": "python",
   "nbconvert_exporter": "python",
   "pygments_lexer": "ipython3",
   "version": "3.8.10"
  }
 },
 "nbformat": 4,
 "nbformat_minor": 5
}
