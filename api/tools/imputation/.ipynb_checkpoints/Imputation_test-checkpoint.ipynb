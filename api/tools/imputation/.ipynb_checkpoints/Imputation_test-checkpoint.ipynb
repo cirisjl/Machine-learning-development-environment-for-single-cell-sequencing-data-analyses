{
 "cells": [
  {
   "cell_type": "code",
   "execution_count": 1,
   "id": "bb21f3e4",
   "metadata": {},
   "outputs": [],
   "source": [
    "import os\n",
    "import pandas as pd\n",
    "from MAGIC import magic_impute\n",
    "from imputation import impute\n",
    "import sys\n",
    "sys.path.append('..')\n",
    "from formating.formating import *"
   ]
  },
  {
   "cell_type": "code",
   "execution_count": 2,
   "id": "d0c29844",
   "metadata": {},
   "outputs": [],
   "source": [
    "dataset = \"tung\"\n",
    "input = \"/ps/ai-ready/data/tung/tung.h5ad\"\n",
    "output = \"/ps/ai-ready/data/tung/tung.h5ad\"\n",
    "methods = [\"MAGIC\", \"SAVER\"]\n",
    "layer = None"
   ]
  },
  {
   "cell_type": "code",
   "execution_count": null,
   "id": "9dcaf27e",
   "metadata": {},
   "outputs": [],
   "source": [
    "# impute(dataset, input, output, methods, layer = None, genes = None, ncores = 20)"
   ]
  },
  {
   "cell_type": "code",
   "execution_count": 3,
   "id": "59ec9e44",
   "metadata": {},
   "outputs": [
    {
     "name": "stdout",
     "output_type": "stream",
     "text": [
      "/ps/ai-ready/data/tung/tung.h5ad\n"
     ]
    },
    {
     "data": {
      "text/plain": [
       "AnnData object with n_obs × n_vars = 670 × 13873\n",
       "    obs: 'orig.ident', 'nCount_RNA', 'nFeature_RNA', 'individual', 'replicate', 'well', 'batch', 'sample_id', 'sum', 'detected', 'subsets_Mito_sum', 'subsets_Mito_detected', 'subsets_Mito_percent', 'altexps_ERCC_sum', 'altexps_ERCC_detected', 'altexps_ERCC_percent', 'total', 'discard', 'nCount_logCP10K', 'nFeature_logCP10K', 'nCount_logCPM', 'nFeature_logCPM', 'percent.mt', 'nCount_SCT', 'nFeature_SCT'\n",
       "    var: 'SYMBOL', 'mean', 'detected', 'discard', 'DESeq2_features', 'FPKM_features', 'RLE_features', 'TMM_features', 'TPM_features', 'logCP10K_features', 'logCPM_features', 'scran_features', 'upperquartile_features'\n",
       "    uns: 'pearson_residuals_normalization'\n",
       "    obsm: 'X_PCA', 'X_TSNE'\n",
       "    layers: 'DESeq2', 'FPKM', 'MAGIC_imputed', 'Pearson_residuals', 'RLE', 'SAVER', 'SAVER_imputed', 'TMM', 'TPM', 'logCP10K', 'logCPM', 'scran', 'upperquartile'"
      ]
     },
     "execution_count": 3,
     "metadata": {},
     "output_type": "execute_result"
    }
   ],
   "source": [
    "adata = LoadAnndata(input)\n",
    "adata"
   ]
  },
  {
   "cell_type": "code",
   "execution_count": 6,
   "id": "6ce01561",
   "metadata": {},
   "outputs": [
    {
     "data": {
      "text/plain": [
       "<670x13873 sparse matrix of type '<class 'numpy.float64'>'\n",
       "\twith 5676232 stored elements in Compressed Sparse Row format>"
      ]
     },
     "execution_count": 6,
     "metadata": {},
     "output_type": "execute_result"
    }
   ],
   "source": [
    "adata.X"
   ]
  },
  {
   "cell_type": "code",
   "execution_count": 10,
   "id": "e992c156",
   "metadata": {},
   "outputs": [
    {
     "data": {
      "text/plain": [
       "'/ps/ai-ready/data/tung'"
      ]
     },
     "execution_count": 10,
     "metadata": {},
     "output_type": "execute_result"
    }
   ],
   "source": [
    "os.path.dirname(output)"
   ]
  },
  {
   "cell_type": "code",
   "execution_count": null,
   "id": "479648ac",
   "metadata": {},
   "outputs": [],
   "source": [
    "csv_path = input.replace(\".h5ad\", \".csv\")\n",
    "csv_path"
   ]
  },
  {
   "cell_type": "code",
   "execution_count": null,
   "id": "a29c19c7",
   "metadata": {
    "scrolled": true
   },
   "outputs": [],
   "source": [
    "data_magic = magic_impute(adata.X, genes=None)\n",
    "adata.layers['MAGIC'] = data_magic\n",
    "data_magic"
   ]
  },
  {
   "cell_type": "code",
   "execution_count": null,
   "id": "82e8e278",
   "metadata": {},
   "outputs": [],
   "source": [
    "adata.layers['MAGIC'] "
   ]
  },
  {
   "cell_type": "code",
   "execution_count": null,
   "id": "6ab05723",
   "metadata": {},
   "outputs": [],
   "source": [
    "adata.X"
   ]
  },
  {
   "cell_type": "code",
   "execution_count": null,
   "id": "4147064f",
   "metadata": {},
   "outputs": [],
   "source": [
    "data_saver = r.saver_impute(csv_path, ncores = 20)\n",
    "data_saver"
   ]
  },
  {
   "cell_type": "code",
   "execution_count": null,
   "id": "5821c804",
   "metadata": {},
   "outputs": [],
   "source": []
  },
  {
   "cell_type": "code",
   "execution_count": null,
   "id": "7ebb6731",
   "metadata": {},
   "outputs": [],
   "source": [
    "layers = adata.layers.keys()\n",
    "layers"
   ]
  },
  {
   "cell_type": "code",
   "execution_count": null,
   "id": "e1b5677e",
   "metadata": {},
   "outputs": [],
   "source": [
    "if 'logCPM' not in adata.layers.keys():\n",
    "        print('None')"
   ]
  },
  {
   "cell_type": "code",
   "execution_count": null,
   "id": "dfc16632",
   "metadata": {},
   "outputs": [],
   "source": [
    "X = pd.read_csv('/ps/ai-ready/data/tung/tung.csv')\n",
    "X"
   ]
  },
  {
   "cell_type": "code",
   "execution_count": null,
   "id": "4dae9ecf",
   "metadata": {},
   "outputs": [],
   "source": []
  },
  {
   "cell_type": "code",
   "execution_count": null,
   "id": "57c2ce6b",
   "metadata": {},
   "outputs": [],
   "source": [
    "from rpy2.robjects import r\n",
    "from rpy2.robjects.packages import importr\n",
    "from rpy2.robjects import pandas2ri\n",
    "pandas2ri.activate()\n",
    "r.source(\"../formating/formating.R\")"
   ]
  },
  {
   "cell_type": "code",
   "execution_count": null,
   "id": "15d532df",
   "metadata": {},
   "outputs": [],
   "source": []
  },
  {
   "cell_type": "code",
   "execution_count": null,
   "id": "5a3c9fcd",
   "metadata": {},
   "outputs": [],
   "source": [
    "if os.path.exists(output):\n",
    "    try:\n",
    "        srat = r.LoadSeurat(output)\n",
    "    except Exception as e:\n",
    "        print(e)"
   ]
  },
  {
   "cell_type": "code",
   "execution_count": null,
   "id": "3dd0b655",
   "metadata": {},
   "outputs": [],
   "source": [
    "r('''\n",
    "    input <- \"/ps/ai-ready/data/tung/tung.h5Seurat\"\n",
    "    output <- \"/ps/ai-ready/data/tung/tung.h5Seurat\"\n",
    "    assay <- \"RNA\"\n",
    "    srat <- NULL\n",
    "    srat_path <- NULL\n",
    "    # Check if output file already exists\n",
    "    if(file.exists(output)){\n",
    "      srat <- tryCatch(\n",
    "        LoadSeurat(output),\n",
    "        error = function(e) {\n",
    "            stop(\"The file format is not supported.\")\n",
    "            if(TRUE) print(e)\n",
    "        }\n",
    "      )\n",
    "      srat_path <- output\n",
    "    }else{\n",
    "      srat <- tryCatch(\n",
    "        LoadSeurat(input),\n",
    "        error = function(e) {\n",
    "            stop(\"The file format is not supported.\")\n",
    "            if(TRUE) print(e)\n",
    "        }\n",
    "      )\n",
    "      srat_path <- input\n",
    "    }\n",
    "    \n",
    "    if(is.null(srat)) stop(\"The file format is not supported.\")\n",
    "    if(!assay %in% names(x = srat)) stop(paste(\"RNA\", \"does not exist.\"))\n",
    "    DefaultAssay(object = srat) <- assay\n",
    "    print(paste(\"Seurat object is loaded and default assay is set to\", assay)\n",
    "    \n",
    "''')\n",
    "csv_path = r.SeuratToCSV(r['srat'], srat_path, assay = default_assay)"
   ]
  },
  {
   "cell_type": "code",
   "execution_count": null,
   "id": "ab09a2ff",
   "metadata": {},
   "outputs": [],
   "source": [
    "csv_path = r('csv_path')\n",
    "csv_path"
   ]
  },
  {
   "cell_type": "code",
   "execution_count": null,
   "id": "d87206c2",
   "metadata": {},
   "outputs": [],
   "source": [
    "r('as.matrix(srat@assays$RNA@counts)')"
   ]
  },
  {
   "cell_type": "code",
   "execution_count": null,
   "id": "9f279ed5",
   "metadata": {},
   "outputs": [],
   "source": [
    "with (ro.default_converter + pandas2ri.converter).context():\n",
    "    counts = ro.conversion.get_conversion().rpy2py(ro.r('as.matrix(srat[[\"RNA\"]]@counts)'))\n",
    "    \n",
    "counts"
   ]
  },
  {
   "cell_type": "code",
   "execution_count": null,
   "id": "f750dba7",
   "metadata": {},
   "outputs": [],
   "source": [
    "import magic\n",
    "magic_operator = magic.MAGIC()\n",
    "data_magic = None\n",
    "data_magic = magic_operator.fit_transform(counts.T)\n",
    "data_magic"
   ]
  },
  {
   "cell_type": "code",
   "execution_count": null,
   "id": "df28dd23",
   "metadata": {},
   "outputs": [],
   "source": []
  }
 ],
 "metadata": {
  "kernelspec": {
   "display_name": "Python 3 (ipykernel)",
   "language": "python",
   "name": "python3"
  },
  "language_info": {
   "codemirror_mode": {
    "name": "ipython",
    "version": 3
   },
   "file_extension": ".py",
   "mimetype": "text/x-python",
   "name": "python",
   "nbconvert_exporter": "python",
   "pygments_lexer": "ipython3",
   "version": "3.8.10"
  }
 },
 "nbformat": 4,
 "nbformat_minor": 5
}
