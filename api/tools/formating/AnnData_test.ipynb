{
 "cells": [
  {
   "cell_type": "code",
   "execution_count": 6,
   "id": "14080c35",
   "metadata": {},
   "outputs": [],
   "source": [
    "library(scater)\n",
    "library(anndata)\n",
    "library(Seurat)\n",
    "library(SingleCellExperiment)\n",
    "library(SeuratDisk)\n",
    "library(SeuratData)\n",
    "library(patchwork)"
   ]
  },
  {
   "cell_type": "code",
   "execution_count": 7,
   "id": "feba4561",
   "metadata": {},
   "outputs": [
    {
     "name": "stderr",
     "output_type": "stream",
     "text": [
      "Creating h5Seurat file for version 3.1.5.9900\n",
      "\n"
     ]
    }
   ],
   "source": [
    "path <- '/ps/ai-ready/data/kbcfh/TungDataset/tung.rds'\n",
    "sce <- readRDS(path)\n",
    "seurat_path <- paste0(tools::file_path_sans_ext(path), \".h5Seurat\")\n",
    "SaveH5Seurat(seurat_object, filename = seurat_path, overwrite = TRUE, verbose = FALSE)"
   ]
  },
  {
   "cell_type": "code",
   "execution_count": 9,
   "id": "7df48789",
   "metadata": {},
   "outputs": [
    {
     "name": "stderr",
     "output_type": "stream",
     "text": [
      "Validating h5Seurat file\n",
      "\n"
     ]
    },
    {
     "data": {
      "text/html": [
       "'/ps/ai-ready/data/kbcfh/TungDataset/tung.h5ad'"
      ],
      "text/latex": [
       "'/ps/ai-ready/data/kbcfh/TungDataset/tung.h5ad'"
      ],
      "text/markdown": [
       "'/ps/ai-ready/data/kbcfh/TungDataset/tung.h5ad'"
      ],
      "text/plain": [
       "[1] \"/ps/ai-ready/data/kbcfh/TungDataset/tung.h5ad\""
      ]
     },
     "metadata": {},
     "output_type": "display_data"
    }
   ],
   "source": [
    "adata_path <- Convert(seurat_path, dest = \"h5ad\" , overwrite = TRUE, verbose = FALSE)\n",
    "adata_path"
   ]
  },
  {
   "cell_type": "code",
   "execution_count": null,
   "id": "58c084d9",
   "metadata": {},
   "outputs": [],
   "source": [
    "Convert(path, dest = \"h5ad\", overwrite = TRUE, verbose = FALSE)"
   ]
  }
 ],
 "metadata": {
  "kernelspec": {
   "display_name": "R",
   "language": "R",
   "name": "ir"
  },
  "language_info": {
   "codemirror_mode": "r",
   "file_extension": ".r",
   "mimetype": "text/x-r-source",
   "name": "R",
   "pygments_lexer": "r",
   "version": "4.2.1"
  }
 },
 "nbformat": 4,
 "nbformat_minor": 5
}
